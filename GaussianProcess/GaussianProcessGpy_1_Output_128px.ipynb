{
 "cells": [
  {
   "cell_type": "markdown",
   "source": [
    "## Gaussian Process Regression wit GPy"
   ],
   "metadata": {
    "collapsed": false
   },
   "id": "454c48f2bec89d34"
  },
  {
   "cell_type": "code",
   "execution_count": 1,
   "id": "initial_id",
   "metadata": {
    "collapsed": true,
    "ExecuteTime": {
     "end_time": "2024-03-05T12:57:53.122557700Z",
     "start_time": "2024-03-05T12:57:52.734151500Z"
    }
   },
   "outputs": [],
   "source": [
    "import pandas as pd"
   ]
  },
  {
   "cell_type": "markdown",
   "source": [
    "### 1. Read the data"
   ],
   "metadata": {
    "collapsed": false
   },
   "id": "514d907659faea7d"
  },
  {
   "cell_type": "code",
   "outputs": [
    {
     "data": {
      "text/plain": "             x         y         z\n0     7.140000  3.070000  15.00000\n1    10.140000  3.070000  15.00000\n2    10.140000  3.070000  15.00000\n3    10.140000  3.070000  15.00000\n4    10.138330  3.169981  15.09998\n..         ...       ...       ...\n500   5.179743  0.799010  12.72901\n501   5.256516  0.734943  12.66494\n502   5.335387  0.673466  12.60347\n503   5.416258  0.614656  12.54466\n504   6.314510  0.185807  12.11581\n\n[505 rows x 3 columns]",
      "text/html": "<div>\n<style scoped>\n    .dataframe tbody tr th:only-of-type {\n        vertical-align: middle;\n    }\n\n    .dataframe tbody tr th {\n        vertical-align: top;\n    }\n\n    .dataframe thead th {\n        text-align: right;\n    }\n</style>\n<table border=\"1\" class=\"dataframe\">\n  <thead>\n    <tr style=\"text-align: right;\">\n      <th></th>\n      <th>x</th>\n      <th>y</th>\n      <th>z</th>\n    </tr>\n  </thead>\n  <tbody>\n    <tr>\n      <th>0</th>\n      <td>7.140000</td>\n      <td>3.070000</td>\n      <td>15.00000</td>\n    </tr>\n    <tr>\n      <th>1</th>\n      <td>10.140000</td>\n      <td>3.070000</td>\n      <td>15.00000</td>\n    </tr>\n    <tr>\n      <th>2</th>\n      <td>10.140000</td>\n      <td>3.070000</td>\n      <td>15.00000</td>\n    </tr>\n    <tr>\n      <th>3</th>\n      <td>10.140000</td>\n      <td>3.070000</td>\n      <td>15.00000</td>\n    </tr>\n    <tr>\n      <th>4</th>\n      <td>10.138330</td>\n      <td>3.169981</td>\n      <td>15.09998</td>\n    </tr>\n    <tr>\n      <th>...</th>\n      <td>...</td>\n      <td>...</td>\n      <td>...</td>\n    </tr>\n    <tr>\n      <th>500</th>\n      <td>5.179743</td>\n      <td>0.799010</td>\n      <td>12.72901</td>\n    </tr>\n    <tr>\n      <th>501</th>\n      <td>5.256516</td>\n      <td>0.734943</td>\n      <td>12.66494</td>\n    </tr>\n    <tr>\n      <th>502</th>\n      <td>5.335387</td>\n      <td>0.673466</td>\n      <td>12.60347</td>\n    </tr>\n    <tr>\n      <th>503</th>\n      <td>5.416258</td>\n      <td>0.614656</td>\n      <td>12.54466</td>\n    </tr>\n    <tr>\n      <th>504</th>\n      <td>6.314510</td>\n      <td>0.185807</td>\n      <td>12.11581</td>\n    </tr>\n  </tbody>\n</table>\n<p>505 rows × 3 columns</p>\n</div>"
     },
     "execution_count": 2,
     "metadata": {},
     "output_type": "execute_result"
    }
   ],
   "source": [
    "all_positions = pd.read_csv('../interpolated-data/positions_xyz_2024-02-27_11h29m.csv', delimiter=',')\n",
    "all_positions"
   ],
   "metadata": {
    "collapsed": false,
    "ExecuteTime": {
     "end_time": "2024-03-05T12:57:53.136672500Z",
     "start_time": "2024-03-05T12:57:53.120593100Z"
    }
   },
   "id": "f6e0230506fb35d7",
   "execution_count": 2
  },
  {
   "cell_type": "code",
   "outputs": [
    {
     "data": {
      "text/plain": "       u0    v0    u1    v1         u2         v2     u3    v3    u4    v4  \\\n0     0.0  42.0  87.0  39.0  34.853473  82.531266   44.0  83.0  89.0  83.0   \n1     0.5  42.5  87.0  40.0  34.853473  82.531266   45.0  84.0  89.0  84.0   \n2     0.5  43.5  87.0  41.0  34.853473  82.531266   45.0  85.0  89.0  85.0   \n3     1.0  45.0  87.5  42.0  34.853473  82.531266   45.0  86.0  89.0  86.0   \n4     1.0  45.5  88.0  43.0  34.853473  82.531266   45.0  86.0  90.0  87.0   \n..    ...   ...   ...   ...        ...        ...    ...   ...   ...   ...   \n496  68.0  10.0  55.0  26.0  64.000000  59.000000  111.0  59.0  59.5  69.0   \n497  67.0   9.0  55.0  26.0  63.000000  58.000000  110.0  58.0  59.5  69.0   \n498  66.0   8.0  55.0  26.0  62.000000  57.000000  109.0  57.0  59.5  69.0   \n499  65.0   5.0  55.0  26.0  61.000000  55.000000  107.5  55.0  59.5  69.0   \n500  66.0   6.0  55.0  26.0  62.000000  56.000000  108.0  56.0  59.5  69.0   \n\n            u5          v5    u6     v6  \n0    28.886553  118.791444  69.0  122.0  \n1    28.886553  118.791444  68.5  120.5  \n2    28.886553  118.791444  68.5  120.5  \n3    28.886553  118.791444  68.5  120.5  \n4    28.886553  118.791444  68.5  120.5  \n..         ...         ...   ...    ...  \n496  54.500000  105.000000  68.0  118.5  \n497  54.000000  103.000000  68.0  118.5  \n498  53.000000  102.500000  68.0  118.5  \n499  52.000000  101.000000  68.0  118.5  \n500  52.000000  101.000000  68.0  118.5  \n\n[501 rows x 14 columns]",
      "text/html": "<div>\n<style scoped>\n    .dataframe tbody tr th:only-of-type {\n        vertical-align: middle;\n    }\n\n    .dataframe tbody tr th {\n        vertical-align: top;\n    }\n\n    .dataframe thead th {\n        text-align: right;\n    }\n</style>\n<table border=\"1\" class=\"dataframe\">\n  <thead>\n    <tr style=\"text-align: right;\">\n      <th></th>\n      <th>u0</th>\n      <th>v0</th>\n      <th>u1</th>\n      <th>v1</th>\n      <th>u2</th>\n      <th>v2</th>\n      <th>u3</th>\n      <th>v3</th>\n      <th>u4</th>\n      <th>v4</th>\n      <th>u5</th>\n      <th>v5</th>\n      <th>u6</th>\n      <th>v6</th>\n    </tr>\n  </thead>\n  <tbody>\n    <tr>\n      <th>0</th>\n      <td>0.0</td>\n      <td>42.0</td>\n      <td>87.0</td>\n      <td>39.0</td>\n      <td>34.853473</td>\n      <td>82.531266</td>\n      <td>44.0</td>\n      <td>83.0</td>\n      <td>89.0</td>\n      <td>83.0</td>\n      <td>28.886553</td>\n      <td>118.791444</td>\n      <td>69.0</td>\n      <td>122.0</td>\n    </tr>\n    <tr>\n      <th>1</th>\n      <td>0.5</td>\n      <td>42.5</td>\n      <td>87.0</td>\n      <td>40.0</td>\n      <td>34.853473</td>\n      <td>82.531266</td>\n      <td>45.0</td>\n      <td>84.0</td>\n      <td>89.0</td>\n      <td>84.0</td>\n      <td>28.886553</td>\n      <td>118.791444</td>\n      <td>68.5</td>\n      <td>120.5</td>\n    </tr>\n    <tr>\n      <th>2</th>\n      <td>0.5</td>\n      <td>43.5</td>\n      <td>87.0</td>\n      <td>41.0</td>\n      <td>34.853473</td>\n      <td>82.531266</td>\n      <td>45.0</td>\n      <td>85.0</td>\n      <td>89.0</td>\n      <td>85.0</td>\n      <td>28.886553</td>\n      <td>118.791444</td>\n      <td>68.5</td>\n      <td>120.5</td>\n    </tr>\n    <tr>\n      <th>3</th>\n      <td>1.0</td>\n      <td>45.0</td>\n      <td>87.5</td>\n      <td>42.0</td>\n      <td>34.853473</td>\n      <td>82.531266</td>\n      <td>45.0</td>\n      <td>86.0</td>\n      <td>89.0</td>\n      <td>86.0</td>\n      <td>28.886553</td>\n      <td>118.791444</td>\n      <td>68.5</td>\n      <td>120.5</td>\n    </tr>\n    <tr>\n      <th>4</th>\n      <td>1.0</td>\n      <td>45.5</td>\n      <td>88.0</td>\n      <td>43.0</td>\n      <td>34.853473</td>\n      <td>82.531266</td>\n      <td>45.0</td>\n      <td>86.0</td>\n      <td>90.0</td>\n      <td>87.0</td>\n      <td>28.886553</td>\n      <td>118.791444</td>\n      <td>68.5</td>\n      <td>120.5</td>\n    </tr>\n    <tr>\n      <th>...</th>\n      <td>...</td>\n      <td>...</td>\n      <td>...</td>\n      <td>...</td>\n      <td>...</td>\n      <td>...</td>\n      <td>...</td>\n      <td>...</td>\n      <td>...</td>\n      <td>...</td>\n      <td>...</td>\n      <td>...</td>\n      <td>...</td>\n      <td>...</td>\n    </tr>\n    <tr>\n      <th>496</th>\n      <td>68.0</td>\n      <td>10.0</td>\n      <td>55.0</td>\n      <td>26.0</td>\n      <td>64.000000</td>\n      <td>59.000000</td>\n      <td>111.0</td>\n      <td>59.0</td>\n      <td>59.5</td>\n      <td>69.0</td>\n      <td>54.500000</td>\n      <td>105.000000</td>\n      <td>68.0</td>\n      <td>118.5</td>\n    </tr>\n    <tr>\n      <th>497</th>\n      <td>67.0</td>\n      <td>9.0</td>\n      <td>55.0</td>\n      <td>26.0</td>\n      <td>63.000000</td>\n      <td>58.000000</td>\n      <td>110.0</td>\n      <td>58.0</td>\n      <td>59.5</td>\n      <td>69.0</td>\n      <td>54.000000</td>\n      <td>103.000000</td>\n      <td>68.0</td>\n      <td>118.5</td>\n    </tr>\n    <tr>\n      <th>498</th>\n      <td>66.0</td>\n      <td>8.0</td>\n      <td>55.0</td>\n      <td>26.0</td>\n      <td>62.000000</td>\n      <td>57.000000</td>\n      <td>109.0</td>\n      <td>57.0</td>\n      <td>59.5</td>\n      <td>69.0</td>\n      <td>53.000000</td>\n      <td>102.500000</td>\n      <td>68.0</td>\n      <td>118.5</td>\n    </tr>\n    <tr>\n      <th>499</th>\n      <td>65.0</td>\n      <td>5.0</td>\n      <td>55.0</td>\n      <td>26.0</td>\n      <td>61.000000</td>\n      <td>55.000000</td>\n      <td>107.5</td>\n      <td>55.0</td>\n      <td>59.5</td>\n      <td>69.0</td>\n      <td>52.000000</td>\n      <td>101.000000</td>\n      <td>68.0</td>\n      <td>118.5</td>\n    </tr>\n    <tr>\n      <th>500</th>\n      <td>66.0</td>\n      <td>6.0</td>\n      <td>55.0</td>\n      <td>26.0</td>\n      <td>62.000000</td>\n      <td>56.000000</td>\n      <td>108.0</td>\n      <td>56.0</td>\n      <td>59.5</td>\n      <td>69.0</td>\n      <td>52.000000</td>\n      <td>101.000000</td>\n      <td>68.0</td>\n      <td>118.5</td>\n    </tr>\n  </tbody>\n</table>\n<p>501 rows × 14 columns</p>\n</div>"
     },
     "execution_count": 3,
     "metadata": {},
     "output_type": "execute_result"
    }
   ],
   "source": [
    "all_red_ball_positions = pd.read_csv('../interpolated-data/red_ball_coordinates_128px_2024-02-27_11h29m.csv', delimiter=',')\n",
    "\n",
    "all_red_ball_positions"
   ],
   "metadata": {
    "collapsed": false,
    "ExecuteTime": {
     "end_time": "2024-03-05T12:57:53.195334900Z",
     "start_time": "2024-03-05T12:57:53.136672500Z"
    }
   },
   "id": "47b408649177d52d",
   "execution_count": 3
  },
  {
   "cell_type": "code",
   "outputs": [
    {
     "data": {
      "text/plain": "((501, 14), (501, 3))"
     },
     "execution_count": 4,
     "metadata": {},
     "output_type": "execute_result"
    }
   ],
   "source": [
    "all_positions = all_positions.iloc[4:]\n",
    "all_positions.reset_index(drop=True, inplace=True)\n",
    "all_red_ball_positions.shape,  all_positions.shape"
   ],
   "metadata": {
    "collapsed": false,
    "ExecuteTime": {
     "end_time": "2024-03-05T12:57:53.230753700Z",
     "start_time": "2024-03-05T12:57:53.170334600Z"
    }
   },
   "id": "ddcf4aaccd2ac680",
   "execution_count": 4
  },
  {
   "cell_type": "code",
   "outputs": [
    {
     "data": {
      "text/plain": "       u0    v0    u1    v1         u2         v2     u3    v3    u4    v4  \\\n0     0.0  42.0  87.0  39.0  34.853473  82.531266   44.0  83.0  89.0  83.0   \n1     0.5  42.5  87.0  40.0  34.853473  82.531266   45.0  84.0  89.0  84.0   \n2     0.5  43.5  87.0  41.0  34.853473  82.531266   45.0  85.0  89.0  85.0   \n3     1.0  45.0  87.5  42.0  34.853473  82.531266   45.0  86.0  89.0  86.0   \n4     1.0  45.5  88.0  43.0  34.853473  82.531266   45.0  86.0  90.0  87.0   \n..    ...   ...   ...   ...        ...        ...    ...   ...   ...   ...   \n496  68.0  10.0  55.0  26.0  64.000000  59.000000  111.0  59.0  59.5  69.0   \n497  67.0   9.0  55.0  26.0  63.000000  58.000000  110.0  58.0  59.5  69.0   \n498  66.0   8.0  55.0  26.0  62.000000  57.000000  109.0  57.0  59.5  69.0   \n499  65.0   5.0  55.0  26.0  61.000000  55.000000  107.5  55.0  59.5  69.0   \n500  66.0   6.0  55.0  26.0  62.000000  56.000000  108.0  56.0  59.5  69.0   \n\n            u5          v5    u6     v6          x         y         z  \n0    28.886553  118.791444  69.0  122.0  10.138330  3.169981  15.09998  \n1    28.886553  118.791444  68.5  120.5  10.133340  3.269852  15.19985  \n2    28.886553  118.791444  68.5  120.5  10.125010  3.369500  15.29950  \n3    28.886553  118.791444  68.5  120.5  10.113370  3.468816  15.39882  \n4    28.886553  118.791444  68.5  120.5  10.098430  3.567688  15.49769  \n..         ...         ...   ...    ...        ...       ...       ...  \n496  54.500000  105.000000  68.0  118.5   5.179743  0.799010  12.72901  \n497  54.000000  103.000000  68.0  118.5   5.256516  0.734943  12.66494  \n498  53.000000  102.500000  68.0  118.5   5.335387  0.673466  12.60347  \n499  52.000000  101.000000  68.0  118.5   5.416258  0.614656  12.54466  \n500  52.000000  101.000000  68.0  118.5   6.314510  0.185807  12.11581  \n\n[501 rows x 17 columns]",
      "text/html": "<div>\n<style scoped>\n    .dataframe tbody tr th:only-of-type {\n        vertical-align: middle;\n    }\n\n    .dataframe tbody tr th {\n        vertical-align: top;\n    }\n\n    .dataframe thead th {\n        text-align: right;\n    }\n</style>\n<table border=\"1\" class=\"dataframe\">\n  <thead>\n    <tr style=\"text-align: right;\">\n      <th></th>\n      <th>u0</th>\n      <th>v0</th>\n      <th>u1</th>\n      <th>v1</th>\n      <th>u2</th>\n      <th>v2</th>\n      <th>u3</th>\n      <th>v3</th>\n      <th>u4</th>\n      <th>v4</th>\n      <th>u5</th>\n      <th>v5</th>\n      <th>u6</th>\n      <th>v6</th>\n      <th>x</th>\n      <th>y</th>\n      <th>z</th>\n    </tr>\n  </thead>\n  <tbody>\n    <tr>\n      <th>0</th>\n      <td>0.0</td>\n      <td>42.0</td>\n      <td>87.0</td>\n      <td>39.0</td>\n      <td>34.853473</td>\n      <td>82.531266</td>\n      <td>44.0</td>\n      <td>83.0</td>\n      <td>89.0</td>\n      <td>83.0</td>\n      <td>28.886553</td>\n      <td>118.791444</td>\n      <td>69.0</td>\n      <td>122.0</td>\n      <td>10.138330</td>\n      <td>3.169981</td>\n      <td>15.09998</td>\n    </tr>\n    <tr>\n      <th>1</th>\n      <td>0.5</td>\n      <td>42.5</td>\n      <td>87.0</td>\n      <td>40.0</td>\n      <td>34.853473</td>\n      <td>82.531266</td>\n      <td>45.0</td>\n      <td>84.0</td>\n      <td>89.0</td>\n      <td>84.0</td>\n      <td>28.886553</td>\n      <td>118.791444</td>\n      <td>68.5</td>\n      <td>120.5</td>\n      <td>10.133340</td>\n      <td>3.269852</td>\n      <td>15.19985</td>\n    </tr>\n    <tr>\n      <th>2</th>\n      <td>0.5</td>\n      <td>43.5</td>\n      <td>87.0</td>\n      <td>41.0</td>\n      <td>34.853473</td>\n      <td>82.531266</td>\n      <td>45.0</td>\n      <td>85.0</td>\n      <td>89.0</td>\n      <td>85.0</td>\n      <td>28.886553</td>\n      <td>118.791444</td>\n      <td>68.5</td>\n      <td>120.5</td>\n      <td>10.125010</td>\n      <td>3.369500</td>\n      <td>15.29950</td>\n    </tr>\n    <tr>\n      <th>3</th>\n      <td>1.0</td>\n      <td>45.0</td>\n      <td>87.5</td>\n      <td>42.0</td>\n      <td>34.853473</td>\n      <td>82.531266</td>\n      <td>45.0</td>\n      <td>86.0</td>\n      <td>89.0</td>\n      <td>86.0</td>\n      <td>28.886553</td>\n      <td>118.791444</td>\n      <td>68.5</td>\n      <td>120.5</td>\n      <td>10.113370</td>\n      <td>3.468816</td>\n      <td>15.39882</td>\n    </tr>\n    <tr>\n      <th>4</th>\n      <td>1.0</td>\n      <td>45.5</td>\n      <td>88.0</td>\n      <td>43.0</td>\n      <td>34.853473</td>\n      <td>82.531266</td>\n      <td>45.0</td>\n      <td>86.0</td>\n      <td>90.0</td>\n      <td>87.0</td>\n      <td>28.886553</td>\n      <td>118.791444</td>\n      <td>68.5</td>\n      <td>120.5</td>\n      <td>10.098430</td>\n      <td>3.567688</td>\n      <td>15.49769</td>\n    </tr>\n    <tr>\n      <th>...</th>\n      <td>...</td>\n      <td>...</td>\n      <td>...</td>\n      <td>...</td>\n      <td>...</td>\n      <td>...</td>\n      <td>...</td>\n      <td>...</td>\n      <td>...</td>\n      <td>...</td>\n      <td>...</td>\n      <td>...</td>\n      <td>...</td>\n      <td>...</td>\n      <td>...</td>\n      <td>...</td>\n      <td>...</td>\n    </tr>\n    <tr>\n      <th>496</th>\n      <td>68.0</td>\n      <td>10.0</td>\n      <td>55.0</td>\n      <td>26.0</td>\n      <td>64.000000</td>\n      <td>59.000000</td>\n      <td>111.0</td>\n      <td>59.0</td>\n      <td>59.5</td>\n      <td>69.0</td>\n      <td>54.500000</td>\n      <td>105.000000</td>\n      <td>68.0</td>\n      <td>118.5</td>\n      <td>5.179743</td>\n      <td>0.799010</td>\n      <td>12.72901</td>\n    </tr>\n    <tr>\n      <th>497</th>\n      <td>67.0</td>\n      <td>9.0</td>\n      <td>55.0</td>\n      <td>26.0</td>\n      <td>63.000000</td>\n      <td>58.000000</td>\n      <td>110.0</td>\n      <td>58.0</td>\n      <td>59.5</td>\n      <td>69.0</td>\n      <td>54.000000</td>\n      <td>103.000000</td>\n      <td>68.0</td>\n      <td>118.5</td>\n      <td>5.256516</td>\n      <td>0.734943</td>\n      <td>12.66494</td>\n    </tr>\n    <tr>\n      <th>498</th>\n      <td>66.0</td>\n      <td>8.0</td>\n      <td>55.0</td>\n      <td>26.0</td>\n      <td>62.000000</td>\n      <td>57.000000</td>\n      <td>109.0</td>\n      <td>57.0</td>\n      <td>59.5</td>\n      <td>69.0</td>\n      <td>53.000000</td>\n      <td>102.500000</td>\n      <td>68.0</td>\n      <td>118.5</td>\n      <td>5.335387</td>\n      <td>0.673466</td>\n      <td>12.60347</td>\n    </tr>\n    <tr>\n      <th>499</th>\n      <td>65.0</td>\n      <td>5.0</td>\n      <td>55.0</td>\n      <td>26.0</td>\n      <td>61.000000</td>\n      <td>55.000000</td>\n      <td>107.5</td>\n      <td>55.0</td>\n      <td>59.5</td>\n      <td>69.0</td>\n      <td>52.000000</td>\n      <td>101.000000</td>\n      <td>68.0</td>\n      <td>118.5</td>\n      <td>5.416258</td>\n      <td>0.614656</td>\n      <td>12.54466</td>\n    </tr>\n    <tr>\n      <th>500</th>\n      <td>66.0</td>\n      <td>6.0</td>\n      <td>55.0</td>\n      <td>26.0</td>\n      <td>62.000000</td>\n      <td>56.000000</td>\n      <td>108.0</td>\n      <td>56.0</td>\n      <td>59.5</td>\n      <td>69.0</td>\n      <td>52.000000</td>\n      <td>101.000000</td>\n      <td>68.0</td>\n      <td>118.5</td>\n      <td>6.314510</td>\n      <td>0.185807</td>\n      <td>12.11581</td>\n    </tr>\n  </tbody>\n</table>\n<p>501 rows × 17 columns</p>\n</div>"
     },
     "execution_count": 5,
     "metadata": {},
     "output_type": "execute_result"
    }
   ],
   "source": [
    "# Assuming all_red_ball_positions and all_positions are your DataFrames\n",
    "combined_data = pd.concat([all_red_ball_positions, all_positions], axis=1)\n",
    "\n",
    "# Remove all rows with 6 or more missing values not with thresh\n",
    "combined_data = combined_data.dropna(thresh=combined_data.shape[1]-7)\n",
    "combined_data"
   ],
   "metadata": {
    "collapsed": false,
    "ExecuteTime": {
     "end_time": "2024-03-05T12:57:53.280379Z",
     "start_time": "2024-03-05T12:57:53.185335100Z"
    }
   },
   "id": "2e6db8fb286bf58b",
   "execution_count": 5
  },
  {
   "cell_type": "code",
   "outputs": [
    {
     "data": {
      "text/plain": "((501, 14), (501, 3))"
     },
     "execution_count": 6,
     "metadata": {},
     "output_type": "execute_result"
    }
   ],
   "source": [
    "all_red_ball_positions = combined_data.iloc[:, :14]\n",
    "all_positions = combined_data.iloc[:, 14:]\n",
    "all_red_ball_positions.shape, all_positions.shape"
   ],
   "metadata": {
    "collapsed": false,
    "ExecuteTime": {
     "end_time": "2024-03-05T12:57:53.282377500Z",
     "start_time": "2024-03-05T12:57:53.216335600Z"
    }
   },
   "id": "8b5824de5a3af5",
   "execution_count": 6
  },
  {
   "cell_type": "markdown",
   "source": [
    "### 2. Handle Missing Values"
   ],
   "metadata": {
    "collapsed": false
   },
   "id": "fe0d9aadcf2ee4ef"
  },
  {
   "cell_type": "code",
   "outputs": [
    {
     "data": {
      "text/plain": "((501, 14), (501, 3))"
     },
     "execution_count": 7,
     "metadata": {},
     "output_type": "execute_result"
    }
   ],
   "source": [
    "from sklearn.impute import SimpleImputer, KNNImputer\n",
    "\n",
    "imputer_mean = SimpleImputer(strategy='mean')\n",
    "imputer_knn = KNNImputer(n_neighbors=2)\n",
    "X_all = imputer_knn.fit_transform(all_red_ball_positions)\n",
    "y_all = imputer_knn.fit_transform(all_positions)\n",
    "X_all.shape, y_all.shape"
   ],
   "metadata": {
    "collapsed": false,
    "ExecuteTime": {
     "end_time": "2024-03-05T12:57:53.956240600Z",
     "start_time": "2024-03-05T12:57:53.231754500Z"
    }
   },
   "id": "34b178565d1b1f62",
   "execution_count": 7
  },
  {
   "cell_type": "markdown",
   "source": [
    "### 3. Prepare the Data"
   ],
   "metadata": {
    "collapsed": false
   },
   "id": "848f9a742aa25652"
  },
  {
   "cell_type": "code",
   "outputs": [],
   "source": [
    "from sklearn.model_selection import train_test_split\n",
    "\n",
    "X_train, X_test, y_train, y_test = train_test_split(X_all, y_all, test_size=0.01, random_state=42)\n"
   ],
   "metadata": {
    "collapsed": false,
    "ExecuteTime": {
     "end_time": "2024-03-05T12:57:53.997638500Z",
     "start_time": "2024-03-05T12:57:53.957240200Z"
    }
   },
   "id": "d4d6adb7f3f783f0",
   "execution_count": 8
  },
  {
   "cell_type": "code",
   "outputs": [
    {
     "data": {
      "text/plain": "((495, 14), (6, 14), (495, 3), (6, 3))"
     },
     "execution_count": 9,
     "metadata": {},
     "output_type": "execute_result"
    }
   ],
   "source": [
    "X_train.shape, X_test.shape, y_train.shape, y_test.shape"
   ],
   "metadata": {
    "collapsed": false,
    "ExecuteTime": {
     "end_time": "2024-03-05T12:57:53.999643700Z",
     "start_time": "2024-03-05T12:57:53.974405500Z"
    }
   },
   "id": "fa006f31fa30a2e0",
   "execution_count": 9
  },
  {
   "cell_type": "code",
   "outputs": [],
   "source": [
    "from sklearn.preprocessing import StandardScaler\n",
    "\n",
    "scaler_x = StandardScaler()\n",
    "scaler_y = StandardScaler()\n",
    "X_scaled_train = scaler_x.fit_transform(X_train)\n",
    "y_scaled_train = y_train"
   ],
   "metadata": {
    "collapsed": false,
    "ExecuteTime": {
     "end_time": "2024-03-05T12:57:54.028953600Z",
     "start_time": "2024-03-05T12:57:53.988605600Z"
    }
   },
   "id": "21898f73a7a8c0dd",
   "execution_count": 10
  },
  {
   "cell_type": "markdown",
   "source": [
    "### 4. Train the Model"
   ],
   "metadata": {
    "collapsed": false
   },
   "id": "1b70deb6d682241b"
  },
  {
   "cell_type": "code",
   "outputs": [],
   "source": [
    "from GPy.kern import RBF\n",
    "from GPy.models import GPRegression"
   ],
   "metadata": {
    "collapsed": false,
    "ExecuteTime": {
     "end_time": "2024-03-05T12:57:54.815561900Z",
     "start_time": "2024-03-05T12:57:54.003643700Z"
    }
   },
   "id": "2fe9ae0e28a05fb2",
   "execution_count": 11
  },
  {
   "cell_type": "markdown",
   "source": [
    "#### 4.1 Train GP Regression Model with GPy for each output separately\n",
    "For normal regression tasks"
   ],
   "metadata": {
    "collapsed": false
   },
   "id": "ecb1332cc4346c41"
  },
  {
   "cell_type": "code",
   "outputs": [],
   "source": [
    "y_train_x = y_scaled_train[:, 0:1]\n",
    "y_train_y = y_scaled_train[:, 1:2]\n",
    "y_train_z = y_scaled_train[:, 2:3]"
   ],
   "metadata": {
    "collapsed": false,
    "ExecuteTime": {
     "end_time": "2024-03-05T12:57:54.836719700Z",
     "start_time": "2024-03-05T12:57:54.818561600Z"
    }
   },
   "id": "3def816e62118bbf",
   "execution_count": 12
  },
  {
   "cell_type": "markdown",
   "source": [
    "##### 4.1.1 Train GP Regression Model for X"
   ],
   "metadata": {
    "collapsed": false
   },
   "id": "f395805701b73e49"
  },
  {
   "cell_type": "code",
   "outputs": [
    {
     "data": {
      "text/plain": "HBox(children=(VBox(children=(IntProgress(value=0, max=1000), HTML(value=''))), Box(children=(HTML(value=''),)…",
      "application/vnd.jupyter.widget-view+json": {
       "version_major": 2,
       "version_minor": 0,
       "model_id": "96bfab82048940039026e43a00e404b8"
      }
     },
     "metadata": {},
     "output_type": "display_data"
    },
    {
     "data": {
      "text/plain": "<paramz.optimization.optimization.opt_lbfgsb at 0x238262d2a90>"
     },
     "execution_count": 13,
     "metadata": {},
     "output_type": "execute_result"
    }
   ],
   "source": [
    "kernel_x = RBF(input_dim=14)\n",
    "model_x = GPRegression(X_scaled_train, y_train_x, kernel=kernel_x)\n",
    "model_x.optimize(messages=True)"
   ],
   "metadata": {
    "collapsed": false,
    "ExecuteTime": {
     "end_time": "2024-03-05T12:57:56.730196300Z",
     "start_time": "2024-03-05T12:57:54.836719700Z"
    }
   },
   "id": "58f350a3191ac46b",
   "execution_count": 13
  },
  {
   "cell_type": "code",
   "outputs": [
    {
     "data": {
      "text/plain": "HBox(children=(VBox(children=(IntProgress(value=0, max=1000), HTML(value=''))), Box(children=(HTML(value=''),)…",
      "application/vnd.jupyter.widget-view+json": {
       "version_major": 2,
       "version_minor": 0,
       "model_id": "21f68bbe65ef4b32850c518fee9fd9e9"
      }
     },
     "metadata": {},
     "output_type": "display_data"
    }
   ],
   "source": [
    "kernel_y = RBF(input_dim=14)\n",
    "model_y = GPRegression(X_scaled_train, y_train_y, kernel=kernel_y)\n",
    "model_y.optimize(messages=True)"
   ],
   "metadata": {
    "collapsed": false,
    "is_executing": true,
    "ExecuteTime": {
     "start_time": "2024-03-05T12:57:56.734196900Z"
    }
   },
   "id": "c2b70c4ea47cf8b1",
   "execution_count": null
  },
  {
   "cell_type": "code",
   "outputs": [],
   "source": [
    "kernel_z = RBF(input_dim=14)\n",
    "model_z = GPRegression(X_scaled_train, y_train_z, kernel=kernel_z)\n",
    "model_z.optimize(messages=True)"
   ],
   "metadata": {
    "collapsed": false,
    "is_executing": true
   },
   "id": "7fc09e9e94029766",
   "execution_count": null
  },
  {
   "cell_type": "markdown",
   "source": [
    "### 5. Make Predictions"
   ],
   "metadata": {
    "collapsed": false
   },
   "id": "ba5cfad952a2299"
  },
  {
   "cell_type": "code",
   "outputs": [],
   "source": [
    "X_scaled_test = scaler_x.transform(X_test)"
   ],
   "metadata": {
    "collapsed": false,
    "is_executing": true
   },
   "id": "c57028c91c8b7176",
   "execution_count": null
  },
  {
   "cell_type": "markdown",
   "source": [
    "#### 5.1 Predict with GP Regression Model"
   ],
   "metadata": {
    "collapsed": false
   },
   "id": "fa0b6247bfbfe3a5"
  },
  {
   "cell_type": "code",
   "outputs": [],
   "source": [
    "y_pred_reg_x, y_var_reg_x = model_x.predict(X_scaled_test)\n",
    "y_pred_reg_y, y_var_reg_y = model_y.predict(X_scaled_test)\n",
    "y_pred_reg_z, y_var_reg_z = model_z.predict(X_scaled_test)"
   ],
   "metadata": {
    "collapsed": false,
    "is_executing": true
   },
   "id": "5b5d794c22347063",
   "execution_count": null
  },
  {
   "cell_type": "markdown",
   "source": [
    "### 6. Evaluate the Model"
   ],
   "metadata": {
    "collapsed": false
   },
   "id": "9bc3d98ea81b8588"
  },
  {
   "cell_type": "markdown",
   "source": [
    "#### 6.1 Evaluate GP Regression Model"
   ],
   "metadata": {
    "collapsed": false
   },
   "id": "88ea3f426873c232"
  },
  {
   "cell_type": "code",
   "outputs": [],
   "source": [
    "from utils.evaluate import evaluate_model\n",
    "\n",
    "evaluate_model(y_test[:, 0], y_pred_reg_x, 'X Gaussian Process')"
   ],
   "metadata": {
    "collapsed": false,
    "is_executing": true
   },
   "id": "31b5dab457d6001f",
   "execution_count": null
  },
  {
   "cell_type": "code",
   "outputs": [],
   "source": [
    "evaluate_model(y_test[:, 1], y_pred_reg_y, 'Y Gaussian Process')"
   ],
   "metadata": {
    "collapsed": false,
    "is_executing": true
   },
   "id": "82a777a6f63fe5f9",
   "execution_count": null
  },
  {
   "cell_type": "code",
   "outputs": [],
   "source": [
    "evaluate_model(y_test[:, 2], y_pred_reg_z, 'Z Gaussian Process')"
   ],
   "metadata": {
    "collapsed": false,
    "is_executing": true
   },
   "id": "14d4249d8d9785ea",
   "execution_count": null
  },
  {
   "cell_type": "markdown",
   "source": [
    "#### 6.2 Evaluate Sparse GP Regression Model"
   ],
   "metadata": {
    "collapsed": false
   },
   "id": "df67c813f5dbb077"
  },
  {
   "cell_type": "markdown",
   "source": [
    "### 7. Visualize results"
   ],
   "metadata": {
    "collapsed": false
   },
   "id": "f157bd2f88835e4d"
  },
  {
   "cell_type": "code",
   "outputs": [],
   "source": [
    "from utils.plot_maker_gaussian_process import gaussian_process_plot\n",
    "\n",
    "gaussian_process_plot(y_test[:, 0], y_pred_reg_x[:, 0], y_var_reg_x[:, 0])\n"
   ],
   "metadata": {
    "collapsed": false,
    "is_executing": true
   },
   "id": "906425f051238bfb",
   "execution_count": null
  },
  {
   "cell_type": "code",
   "outputs": [],
   "source": [
    "gaussian_process_plot(y_test[:, 1], y_pred_reg_y[:, 0], y_var_reg_y[:, 0])"
   ],
   "metadata": {
    "collapsed": false,
    "is_executing": true
   },
   "id": "167522f888d163db",
   "execution_count": null
  },
  {
   "cell_type": "code",
   "outputs": [],
   "source": [
    "gaussian_process_plot(y_test[:, 2], y_pred_reg_z[:, 0], y_var_reg_z[:, 0])  "
   ],
   "metadata": {
    "collapsed": false,
    "is_executing": true
   },
   "id": "2cc5e1f107e6c3ca",
   "execution_count": null
  },
  {
   "cell_type": "code",
   "outputs": [],
   "source": [
    "import numpy as np\n",
    "\n",
    "# combine the results\n",
    "y_pred_reg = np.concatenate((y_pred_reg_x, y_pred_reg_y, y_pred_reg_z), axis=1)\n",
    "y_var_reg = np.concatenate((y_var_reg_x, y_var_reg_y, y_var_reg_z), axis=1)"
   ],
   "metadata": {
    "collapsed": false,
    "is_executing": true
   },
   "id": "7bb057cee70fa2bc",
   "execution_count": null
  },
  {
   "cell_type": "code",
   "outputs": [],
   "source": [
    "from utils.plot_maker_gaussian_process import plot_maker_3d\n",
    "\n",
    "plot_maker_3d(y_test[:10], y_pred_reg[:10], 'Gaussian Process Regression')"
   ],
   "metadata": {
    "collapsed": false,
    "is_executing": true
   },
   "id": "758e4a18a6cd75c7",
   "execution_count": null
  },
  {
   "cell_type": "markdown",
   "source": [
    "#### 8. Make prediction on new data"
   ],
   "metadata": {
    "collapsed": false
   },
   "id": "76074c475a6f6136"
  },
  {
   "cell_type": "code",
   "outputs": [],
   "source": [
    "X = pd.read_csv('../interpolated-data/red_ball_coordinates_128px_2024-02-27_13h38m.csv', delimiter=',')\n",
    "X = imputer_knn.fit_transform(X)"
   ],
   "metadata": {
    "collapsed": false,
    "is_executing": true
   },
   "id": "4de3830d4e195b2c",
   "execution_count": null
  },
  {
   "cell_type": "markdown",
   "source": [],
   "metadata": {
    "collapsed": false
   },
   "id": "d204a2c088b0b844"
  },
  {
   "cell_type": "code",
   "outputs": [],
   "source": [
    "y = pd.read_csv('../interpolated-data/positions_xyz_2024-02-27_13h38m.csv', delimiter=',')\n",
    "y = y.iloc[4:]\n",
    "y"
   ],
   "metadata": {
    "collapsed": false,
    "is_executing": true
   },
   "id": "708aecf21151c9f3",
   "execution_count": null
  },
  {
   "cell_type": "code",
   "outputs": [],
   "source": [
    "y_new_pred_x, y_new_var_x = model_x.predict(scaler_x.transform(X))\n",
    "y_new_pred_y, y_new_var_y = model_y.predict(scaler_x.transform(X))\n",
    "y_new_pred_z, y_new_var_z = model_z.predict(scaler_x.transform(X))"
   ],
   "metadata": {
    "collapsed": false,
    "is_executing": true
   },
   "id": "d5b979ceb8e49eb",
   "execution_count": null
  },
  {
   "cell_type": "code",
   "outputs": [],
   "source": [
    "evaluate_model(y.x, y_new_pred_x, 'X Gaussian Process')\n",
    "evaluate_model(y.y, y_new_pred_y, 'Y Gaussian Process')\n",
    "evaluate_model(y.z, y_new_pred_z, 'Z Gaussian Process')"
   ],
   "metadata": {
    "collapsed": false,
    "is_executing": true
   },
   "id": "1249dd49b0350675",
   "execution_count": null
  },
  {
   "cell_type": "code",
   "outputs": [],
   "source": [
    "y_new_pred = np.concatenate((y_new_pred_x, y_new_pred_y, y_new_pred_z), axis=1)\n",
    "y_new_var = np.concatenate((y_new_var_x, y_new_var_y, y_new_var_z), axis=1)"
   ],
   "metadata": {
    "collapsed": false,
    "is_executing": true
   },
   "id": "71ba5e0bb0ce247d",
   "execution_count": null
  },
  {
   "cell_type": "code",
   "outputs": [],
   "source": [
    "y.shape, y_new_pred.shape, y_new_var.shape"
   ],
   "metadata": {
    "collapsed": false,
    "is_executing": true
   },
   "id": "fb88d0992e6ad6f0",
   "execution_count": null
  },
  {
   "cell_type": "code",
   "outputs": [],
   "source": [
    "gaussian_process_plot(y.x, y_new_pred_x[:, 0], y_new_var_x[:, 0])"
   ],
   "metadata": {
    "collapsed": false,
    "is_executing": true
   },
   "id": "1c9ce01710d88151",
   "execution_count": null
  },
  {
   "cell_type": "code",
   "outputs": [],
   "source": [
    "gaussian_process_plot(y.y, y_new_pred_y[:, 0], y_new_var_y[:, 0])"
   ],
   "metadata": {
    "collapsed": false,
    "is_executing": true
   },
   "id": "a7ab8add6f955c4e",
   "execution_count": null
  },
  {
   "cell_type": "code",
   "outputs": [],
   "source": [
    "gaussian_process_plot(y.z, y_new_pred_z[:, 0], y_new_var_z[:, 0])"
   ],
   "metadata": {
    "collapsed": false,
    "is_executing": true
   },
   "id": "3ba196873c33e6c2",
   "execution_count": null
  },
  {
   "cell_type": "code",
   "outputs": [],
   "source": [
    "plot_maker_3d(y.to_numpy(), y_new_pred, 'Gaussian Process Regression')"
   ],
   "metadata": {
    "collapsed": false,
    "is_executing": true
   },
   "id": "f6287543c70eca2a",
   "execution_count": null
  }
 ],
 "metadata": {
  "kernelspec": {
   "display_name": "Python 3",
   "language": "python",
   "name": "python3"
  },
  "language_info": {
   "codemirror_mode": {
    "name": "ipython",
    "version": 2
   },
   "file_extension": ".py",
   "mimetype": "text/x-python",
   "name": "python",
   "nbconvert_exporter": "python",
   "pygments_lexer": "ipython2",
   "version": "2.7.6"
  }
 },
 "nbformat": 4,
 "nbformat_minor": 5
}
