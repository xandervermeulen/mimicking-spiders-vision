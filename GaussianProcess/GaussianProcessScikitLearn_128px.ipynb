{
 "cells": [
  {
   "cell_type": "markdown",
   "source": [
    "## Gaussian Process Regression\n",
    "### 1. Introduction\n",
    "### 2. Data Preparation"
   ],
   "metadata": {
    "collapsed": false
   },
   "id": "fe934d4d875082e7"
  },
  {
   "cell_type": "code",
   "outputs": [],
   "source": [
    "import pandas as pd\n",
    "from sklearn.gaussian_process import GaussianProcessRegressor\n",
    "from sklearn.gaussian_process.kernels import RBF "
   ],
   "metadata": {
    "collapsed": false,
    "ExecuteTime": {
     "end_time": "2024-03-01T14:07:17.056597600Z",
     "start_time": "2024-03-01T14:07:15.140091400Z"
    }
   },
   "id": "c2a74ef535cfd3",
   "execution_count": 1
  },
  {
   "cell_type": "code",
   "outputs": [
    {
     "data": {
      "text/plain": "       u0    v0    u1    v1    u2    v2     u3    v3    u4    v4    u5     v5  \\\n0     0.0  42.0  87.0  39.0   NaN   NaN   44.0  83.0  89.0  83.0   NaN    NaN   \n1     0.5  42.5  87.0  40.0   NaN   NaN   45.0  84.0  89.0  84.0   NaN    NaN   \n2     0.5  43.5  87.0  41.0   NaN   NaN   45.0  85.0  89.0  85.0   NaN    NaN   \n3     1.0  45.0  87.5  42.0   NaN   NaN   45.0  86.0  89.0  86.0   NaN    NaN   \n4     1.0  45.5  88.0  43.0   NaN   NaN   45.0  86.0  90.0  87.0   NaN    NaN   \n..    ...   ...   ...   ...   ...   ...    ...   ...   ...   ...   ...    ...   \n496  68.0  10.0  55.0  26.0  64.0  59.0  111.0  59.0  59.5  69.0  54.5  105.0   \n497  67.0   9.0  55.0  26.0  63.0  58.0  110.0  58.0  59.5  69.0  54.0  103.0   \n498  66.0   8.0  55.0  26.0  62.0  57.0  109.0  57.0  59.5  69.0  53.0  102.5   \n499  65.0   5.0  55.0  26.0  61.0  55.0  107.5  55.0  59.5  69.0  52.0  101.0   \n500  66.0   6.0  55.0  26.0  62.0  56.0  108.0  56.0  59.5  69.0  52.0  101.0   \n\n       u6     v6  \n0    69.0  122.0  \n1    68.5  120.5  \n2    68.5  120.5  \n3    68.5  120.5  \n4    68.5  120.5  \n..    ...    ...  \n496  68.0  118.5  \n497  68.0  118.5  \n498  68.0  118.5  \n499  68.0  118.5  \n500  68.0  118.5  \n\n[501 rows x 14 columns]",
      "text/html": "<div>\n<style scoped>\n    .dataframe tbody tr th:only-of-type {\n        vertical-align: middle;\n    }\n\n    .dataframe tbody tr th {\n        vertical-align: top;\n    }\n\n    .dataframe thead th {\n        text-align: right;\n    }\n</style>\n<table border=\"1\" class=\"dataframe\">\n  <thead>\n    <tr style=\"text-align: right;\">\n      <th></th>\n      <th>u0</th>\n      <th>v0</th>\n      <th>u1</th>\n      <th>v1</th>\n      <th>u2</th>\n      <th>v2</th>\n      <th>u3</th>\n      <th>v3</th>\n      <th>u4</th>\n      <th>v4</th>\n      <th>u5</th>\n      <th>v5</th>\n      <th>u6</th>\n      <th>v6</th>\n    </tr>\n  </thead>\n  <tbody>\n    <tr>\n      <th>0</th>\n      <td>0.0</td>\n      <td>42.0</td>\n      <td>87.0</td>\n      <td>39.0</td>\n      <td>NaN</td>\n      <td>NaN</td>\n      <td>44.0</td>\n      <td>83.0</td>\n      <td>89.0</td>\n      <td>83.0</td>\n      <td>NaN</td>\n      <td>NaN</td>\n      <td>69.0</td>\n      <td>122.0</td>\n    </tr>\n    <tr>\n      <th>1</th>\n      <td>0.5</td>\n      <td>42.5</td>\n      <td>87.0</td>\n      <td>40.0</td>\n      <td>NaN</td>\n      <td>NaN</td>\n      <td>45.0</td>\n      <td>84.0</td>\n      <td>89.0</td>\n      <td>84.0</td>\n      <td>NaN</td>\n      <td>NaN</td>\n      <td>68.5</td>\n      <td>120.5</td>\n    </tr>\n    <tr>\n      <th>2</th>\n      <td>0.5</td>\n      <td>43.5</td>\n      <td>87.0</td>\n      <td>41.0</td>\n      <td>NaN</td>\n      <td>NaN</td>\n      <td>45.0</td>\n      <td>85.0</td>\n      <td>89.0</td>\n      <td>85.0</td>\n      <td>NaN</td>\n      <td>NaN</td>\n      <td>68.5</td>\n      <td>120.5</td>\n    </tr>\n    <tr>\n      <th>3</th>\n      <td>1.0</td>\n      <td>45.0</td>\n      <td>87.5</td>\n      <td>42.0</td>\n      <td>NaN</td>\n      <td>NaN</td>\n      <td>45.0</td>\n      <td>86.0</td>\n      <td>89.0</td>\n      <td>86.0</td>\n      <td>NaN</td>\n      <td>NaN</td>\n      <td>68.5</td>\n      <td>120.5</td>\n    </tr>\n    <tr>\n      <th>4</th>\n      <td>1.0</td>\n      <td>45.5</td>\n      <td>88.0</td>\n      <td>43.0</td>\n      <td>NaN</td>\n      <td>NaN</td>\n      <td>45.0</td>\n      <td>86.0</td>\n      <td>90.0</td>\n      <td>87.0</td>\n      <td>NaN</td>\n      <td>NaN</td>\n      <td>68.5</td>\n      <td>120.5</td>\n    </tr>\n    <tr>\n      <th>...</th>\n      <td>...</td>\n      <td>...</td>\n      <td>...</td>\n      <td>...</td>\n      <td>...</td>\n      <td>...</td>\n      <td>...</td>\n      <td>...</td>\n      <td>...</td>\n      <td>...</td>\n      <td>...</td>\n      <td>...</td>\n      <td>...</td>\n      <td>...</td>\n    </tr>\n    <tr>\n      <th>496</th>\n      <td>68.0</td>\n      <td>10.0</td>\n      <td>55.0</td>\n      <td>26.0</td>\n      <td>64.0</td>\n      <td>59.0</td>\n      <td>111.0</td>\n      <td>59.0</td>\n      <td>59.5</td>\n      <td>69.0</td>\n      <td>54.5</td>\n      <td>105.0</td>\n      <td>68.0</td>\n      <td>118.5</td>\n    </tr>\n    <tr>\n      <th>497</th>\n      <td>67.0</td>\n      <td>9.0</td>\n      <td>55.0</td>\n      <td>26.0</td>\n      <td>63.0</td>\n      <td>58.0</td>\n      <td>110.0</td>\n      <td>58.0</td>\n      <td>59.5</td>\n      <td>69.0</td>\n      <td>54.0</td>\n      <td>103.0</td>\n      <td>68.0</td>\n      <td>118.5</td>\n    </tr>\n    <tr>\n      <th>498</th>\n      <td>66.0</td>\n      <td>8.0</td>\n      <td>55.0</td>\n      <td>26.0</td>\n      <td>62.0</td>\n      <td>57.0</td>\n      <td>109.0</td>\n      <td>57.0</td>\n      <td>59.5</td>\n      <td>69.0</td>\n      <td>53.0</td>\n      <td>102.5</td>\n      <td>68.0</td>\n      <td>118.5</td>\n    </tr>\n    <tr>\n      <th>499</th>\n      <td>65.0</td>\n      <td>5.0</td>\n      <td>55.0</td>\n      <td>26.0</td>\n      <td>61.0</td>\n      <td>55.0</td>\n      <td>107.5</td>\n      <td>55.0</td>\n      <td>59.5</td>\n      <td>69.0</td>\n      <td>52.0</td>\n      <td>101.0</td>\n      <td>68.0</td>\n      <td>118.5</td>\n    </tr>\n    <tr>\n      <th>500</th>\n      <td>66.0</td>\n      <td>6.0</td>\n      <td>55.0</td>\n      <td>26.0</td>\n      <td>62.0</td>\n      <td>56.0</td>\n      <td>108.0</td>\n      <td>56.0</td>\n      <td>59.5</td>\n      <td>69.0</td>\n      <td>52.0</td>\n      <td>101.0</td>\n      <td>68.0</td>\n      <td>118.5</td>\n    </tr>\n  </tbody>\n</table>\n<p>501 rows × 14 columns</p>\n</div>"
     },
     "execution_count": 2,
     "metadata": {},
     "output_type": "execute_result"
    }
   ],
   "source": [
    "# pandas will automatically convert the 'NaN' values to np.nan\n",
    "red_ball_coordinates = pd.read_csv('../test-data/red_ball_coordinates_128px_2024-02-27_11h29m.csv', delimiter=',')\n",
    "red_ball_coordinates"
   ],
   "metadata": {
    "collapsed": false,
    "ExecuteTime": {
     "end_time": "2024-03-01T14:07:17.132854800Z",
     "start_time": "2024-03-01T14:07:17.057646200Z"
    }
   },
   "id": "fab9dba0b86fdb50",
   "execution_count": 2
  },
  {
   "cell_type": "code",
   "outputs": [
    {
     "data": {
      "text/plain": "             x         y         z\n0     6.000000  4.000000  14.00000\n1     6.000000  7.000000  14.00000\n2     6.000000  7.000000  14.00000\n3     6.000000  7.000000  14.00000\n4     6.169909  6.993336  14.07999\n...        ...       ...       ...\n1872  3.642321  5.456923  12.76173\n1873  3.751164  5.628386  12.83502\n1874  3.867227  5.792615  12.90916\n1875  3.990135  5.948880  12.98405\n1876  4.342292  6.316102  13.18390\n\n[1877 rows x 3 columns]",
      "text/html": "<div>\n<style scoped>\n    .dataframe tbody tr th:only-of-type {\n        vertical-align: middle;\n    }\n\n    .dataframe tbody tr th {\n        vertical-align: top;\n    }\n\n    .dataframe thead th {\n        text-align: right;\n    }\n</style>\n<table border=\"1\" class=\"dataframe\">\n  <thead>\n    <tr style=\"text-align: right;\">\n      <th></th>\n      <th>x</th>\n      <th>y</th>\n      <th>z</th>\n    </tr>\n  </thead>\n  <tbody>\n    <tr>\n      <th>0</th>\n      <td>6.000000</td>\n      <td>4.000000</td>\n      <td>14.00000</td>\n    </tr>\n    <tr>\n      <th>1</th>\n      <td>6.000000</td>\n      <td>7.000000</td>\n      <td>14.00000</td>\n    </tr>\n    <tr>\n      <th>2</th>\n      <td>6.000000</td>\n      <td>7.000000</td>\n      <td>14.00000</td>\n    </tr>\n    <tr>\n      <th>3</th>\n      <td>6.000000</td>\n      <td>7.000000</td>\n      <td>14.00000</td>\n    </tr>\n    <tr>\n      <th>4</th>\n      <td>6.169909</td>\n      <td>6.993336</td>\n      <td>14.07999</td>\n    </tr>\n    <tr>\n      <th>...</th>\n      <td>...</td>\n      <td>...</td>\n      <td>...</td>\n    </tr>\n    <tr>\n      <th>1872</th>\n      <td>3.642321</td>\n      <td>5.456923</td>\n      <td>12.76173</td>\n    </tr>\n    <tr>\n      <th>1873</th>\n      <td>3.751164</td>\n      <td>5.628386</td>\n      <td>12.83502</td>\n    </tr>\n    <tr>\n      <th>1874</th>\n      <td>3.867227</td>\n      <td>5.792615</td>\n      <td>12.90916</td>\n    </tr>\n    <tr>\n      <th>1875</th>\n      <td>3.990135</td>\n      <td>5.948880</td>\n      <td>12.98405</td>\n    </tr>\n    <tr>\n      <th>1876</th>\n      <td>4.342292</td>\n      <td>6.316102</td>\n      <td>13.18390</td>\n    </tr>\n  </tbody>\n</table>\n<p>1877 rows × 3 columns</p>\n</div>"
     },
     "execution_count": 3,
     "metadata": {},
     "output_type": "execute_result"
    }
   ],
   "source": [
    "xyz_coordinates = pd.read_csv('../data/positions_xyz_128px_017.csv', delimiter=',')\n",
    "xyz_coordinates"
   ],
   "metadata": {
    "collapsed": false,
    "ExecuteTime": {
     "end_time": "2024-03-01T14:07:17.209139300Z",
     "start_time": "2024-03-01T14:07:17.137619400Z"
    }
   },
   "id": "eb95a22ef7a50fea",
   "execution_count": 3
  },
  {
   "cell_type": "code",
   "outputs": [
    {
     "data": {
      "text/plain": "             x         y         z\n4     6.169909  6.993336  14.07999\n5     6.339272  6.973373  14.15992\n6     6.507547  6.940200  14.23974\n7     6.674192  6.893964  14.31939\n8     6.838673  6.834871  14.39882\n...        ...       ...       ...\n1872  3.642321  5.456923  12.76173\n1873  3.751164  5.628386  12.83502\n1874  3.867227  5.792615  12.90916\n1875  3.990135  5.948880  12.98405\n1876  4.342292  6.316102  13.18390\n\n[1873 rows x 3 columns]",
      "text/html": "<div>\n<style scoped>\n    .dataframe tbody tr th:only-of-type {\n        vertical-align: middle;\n    }\n\n    .dataframe tbody tr th {\n        vertical-align: top;\n    }\n\n    .dataframe thead th {\n        text-align: right;\n    }\n</style>\n<table border=\"1\" class=\"dataframe\">\n  <thead>\n    <tr style=\"text-align: right;\">\n      <th></th>\n      <th>x</th>\n      <th>y</th>\n      <th>z</th>\n    </tr>\n  </thead>\n  <tbody>\n    <tr>\n      <th>4</th>\n      <td>6.169909</td>\n      <td>6.993336</td>\n      <td>14.07999</td>\n    </tr>\n    <tr>\n      <th>5</th>\n      <td>6.339272</td>\n      <td>6.973373</td>\n      <td>14.15992</td>\n    </tr>\n    <tr>\n      <th>6</th>\n      <td>6.507547</td>\n      <td>6.940200</td>\n      <td>14.23974</td>\n    </tr>\n    <tr>\n      <th>7</th>\n      <td>6.674192</td>\n      <td>6.893964</td>\n      <td>14.31939</td>\n    </tr>\n    <tr>\n      <th>8</th>\n      <td>6.838673</td>\n      <td>6.834871</td>\n      <td>14.39882</td>\n    </tr>\n    <tr>\n      <th>...</th>\n      <td>...</td>\n      <td>...</td>\n      <td>...</td>\n    </tr>\n    <tr>\n      <th>1872</th>\n      <td>3.642321</td>\n      <td>5.456923</td>\n      <td>12.76173</td>\n    </tr>\n    <tr>\n      <th>1873</th>\n      <td>3.751164</td>\n      <td>5.628386</td>\n      <td>12.83502</td>\n    </tr>\n    <tr>\n      <th>1874</th>\n      <td>3.867227</td>\n      <td>5.792615</td>\n      <td>12.90916</td>\n    </tr>\n    <tr>\n      <th>1875</th>\n      <td>3.990135</td>\n      <td>5.948880</td>\n      <td>12.98405</td>\n    </tr>\n    <tr>\n      <th>1876</th>\n      <td>4.342292</td>\n      <td>6.316102</td>\n      <td>13.18390</td>\n    </tr>\n  </tbody>\n</table>\n<p>1873 rows × 3 columns</p>\n</div>"
     },
     "execution_count": 4,
     "metadata": {},
     "output_type": "execute_result"
    }
   ],
   "source": [
    "xyz_coordinates = xyz_coordinates.reset_index(drop=True)\n",
    "# remove the first 4 rows\n",
    "xyz_coordinates = xyz_coordinates.iloc[4:]\n",
    "xyz_coordinates"
   ],
   "metadata": {
    "collapsed": false,
    "ExecuteTime": {
     "end_time": "2024-03-01T14:07:17.356171300Z",
     "start_time": "2024-03-01T14:07:17.190361800Z"
    }
   },
   "id": "56f9135d99df7ead",
   "execution_count": 4
  },
  {
   "cell_type": "markdown",
   "source": [
    "### 3. Data Preprocessing"
   ],
   "metadata": {
    "collapsed": false
   },
   "id": "5f0927113e71fc78"
  },
  {
   "cell_type": "code",
   "outputs": [],
   "source": [
    "# split into features and target\n",
    "X = red_ball_coordinates\n",
    "# remove the first 3\n",
    "y = xyz_coordinates"
   ],
   "metadata": {
    "collapsed": false,
    "ExecuteTime": {
     "end_time": "2024-03-01T14:07:17.358761100Z",
     "start_time": "2024-03-01T14:07:17.213522900Z"
    }
   },
   "id": "e0150d0e5e032a12",
   "execution_count": 5
  },
  {
   "cell_type": "code",
   "outputs": [],
   "source": [
    "from sklearn.impute import SimpleImputer\n",
    "# scale the features and the target\n",
    "from sklearn.preprocessing import StandardScaler"
   ],
   "metadata": {
    "collapsed": false,
    "ExecuteTime": {
     "end_time": "2024-03-01T14:07:17.487892100Z",
     "start_time": "2024-03-01T14:07:17.238128200Z"
    }
   },
   "id": "f3178a8a726c046b",
   "execution_count": 6
  },
  {
   "cell_type": "markdown",
   "source": [
    "#### 3.1. Impute the NaN values with mean SimpleImputer"
   ],
   "metadata": {
    "collapsed": false
   },
   "id": "66f36d1a0e968ef8"
  },
  {
   "cell_type": "code",
   "outputs": [],
   "source": [
    "imputer = SimpleImputer(strategy='mean')\n",
    "X_imputed_mean = imputer.fit_transform(X)\n",
    "y_imputed_mean = imputer.fit_transform(y)"
   ],
   "metadata": {
    "collapsed": false,
    "ExecuteTime": {
     "end_time": "2024-03-01T14:07:17.544842200Z",
     "start_time": "2024-03-01T14:07:17.426253200Z"
    }
   },
   "id": "7824e788630367df",
   "execution_count": 7
  },
  {
   "cell_type": "markdown",
   "source": [
    "#### 3.2. Impute the NaN values with median SimpleImputer"
   ],
   "metadata": {
    "collapsed": false
   },
   "id": "2f4e1ccc52126ec7"
  },
  {
   "cell_type": "code",
   "outputs": [],
   "source": [
    "imputer = SimpleImputer(strategy='median')\n",
    "X_imputed_median = imputer.fit_transform(X)\n",
    "y_imputed_median = imputer.fit_transform(y)"
   ],
   "metadata": {
    "collapsed": false,
    "ExecuteTime": {
     "end_time": "2024-03-01T14:07:17.598583500Z",
     "start_time": "2024-03-01T14:07:17.446081300Z"
    }
   },
   "id": "aa8f9af7aa94412e",
   "execution_count": 8
  },
  {
   "cell_type": "markdown",
   "source": [
    "### 3.3. Impute the NaN values with KNNImputer"
   ],
   "metadata": {
    "collapsed": false
   },
   "id": "ca5af93324f77f4d"
  },
  {
   "cell_type": "code",
   "outputs": [],
   "source": [
    "from sklearn.impute import KNNImputer\n",
    "\n",
    "imputer = KNNImputer(n_neighbors=5)\n",
    "X_imputed_knn = imputer.fit_transform(X)"
   ],
   "metadata": {
    "collapsed": false,
    "ExecuteTime": {
     "end_time": "2024-03-01T14:07:17.627884700Z",
     "start_time": "2024-03-01T14:07:17.479778800Z"
    }
   },
   "id": "56f0d35d1de26913",
   "execution_count": 9
  },
  {
   "cell_type": "markdown",
   "source": [
    "### 4. Gaussian Process Regression"
   ],
   "metadata": {
    "collapsed": false
   },
   "id": "398332ca552f241d"
  },
  {
   "cell_type": "code",
   "outputs": [],
   "source": [
    "total_samples = len(X_imputed_mean)\n",
    "train_samples = int(0.8 * total_samples)\n",
    "\n",
    "# Split the data\n",
    "X_train = X_imputed_mean[:train_samples]\n",
    "y_train = y[:train_samples]\n",
    "\n",
    "X_test = X_imputed_mean[train_samples:]\n",
    "y_test = y[train_samples:]"
   ],
   "metadata": {
    "collapsed": false,
    "ExecuteTime": {
     "end_time": "2024-03-01T14:07:17.627976900Z",
     "start_time": "2024-03-01T14:07:17.526525900Z"
    }
   },
   "id": "1be1f8c0bc7679b8",
   "execution_count": 10
  },
  {
   "cell_type": "code",
   "outputs": [],
   "source": [
    "scaler_X = StandardScaler()\n",
    "scaler_y = StandardScaler()\n",
    "kernel = 1.0 * RBF(length_scale=1.0, length_scale_bounds=(1e-5, 1e5))\n",
    "gp = GaussianProcessRegressor(kernel=kernel, n_restarts_optimizer=20)"
   ],
   "metadata": {
    "collapsed": false,
    "ExecuteTime": {
     "end_time": "2024-03-01T14:07:17.648542900Z",
     "start_time": "2024-03-01T14:07:17.541462700Z"
    }
   },
   "id": "2004cac9f0ee904",
   "execution_count": 11
  },
  {
   "cell_type": "code",
   "outputs": [
    {
     "name": "stderr",
     "output_type": "stream",
     "text": [
      "C:\\Users\\xande\\venv\\lib\\site-packages\\sklearn\\gaussian_process\\kernels.py:419: ConvergenceWarning: The optimal value found for dimension 0 of parameter k2__length_scale is close to the specified lower bound 1e-05. Decreasing the bound and calling fit again may find a better value.\n",
      "  warnings.warn(\n"
     ]
    },
    {
     "data": {
      "text/plain": "GaussianProcessRegressor(kernel=1**2 * RBF(length_scale=1),\n                         n_restarts_optimizer=20)",
      "text/html": "<style>#sk-container-id-1 {color: black;}#sk-container-id-1 pre{padding: 0;}#sk-container-id-1 div.sk-toggleable {background-color: white;}#sk-container-id-1 label.sk-toggleable__label {cursor: pointer;display: block;width: 100%;margin-bottom: 0;padding: 0.3em;box-sizing: border-box;text-align: center;}#sk-container-id-1 label.sk-toggleable__label-arrow:before {content: \"▸\";float: left;margin-right: 0.25em;color: #696969;}#sk-container-id-1 label.sk-toggleable__label-arrow:hover:before {color: black;}#sk-container-id-1 div.sk-estimator:hover label.sk-toggleable__label-arrow:before {color: black;}#sk-container-id-1 div.sk-toggleable__content {max-height: 0;max-width: 0;overflow: hidden;text-align: left;background-color: #f0f8ff;}#sk-container-id-1 div.sk-toggleable__content pre {margin: 0.2em;color: black;border-radius: 0.25em;background-color: #f0f8ff;}#sk-container-id-1 input.sk-toggleable__control:checked~div.sk-toggleable__content {max-height: 200px;max-width: 100%;overflow: auto;}#sk-container-id-1 input.sk-toggleable__control:checked~label.sk-toggleable__label-arrow:before {content: \"▾\";}#sk-container-id-1 div.sk-estimator input.sk-toggleable__control:checked~label.sk-toggleable__label {background-color: #d4ebff;}#sk-container-id-1 div.sk-label input.sk-toggleable__control:checked~label.sk-toggleable__label {background-color: #d4ebff;}#sk-container-id-1 input.sk-hidden--visually {border: 0;clip: rect(1px 1px 1px 1px);clip: rect(1px, 1px, 1px, 1px);height: 1px;margin: -1px;overflow: hidden;padding: 0;position: absolute;width: 1px;}#sk-container-id-1 div.sk-estimator {font-family: monospace;background-color: #f0f8ff;border: 1px dotted black;border-radius: 0.25em;box-sizing: border-box;margin-bottom: 0.5em;}#sk-container-id-1 div.sk-estimator:hover {background-color: #d4ebff;}#sk-container-id-1 div.sk-parallel-item::after {content: \"\";width: 100%;border-bottom: 1px solid gray;flex-grow: 1;}#sk-container-id-1 div.sk-label:hover label.sk-toggleable__label {background-color: #d4ebff;}#sk-container-id-1 div.sk-serial::before {content: \"\";position: absolute;border-left: 1px solid gray;box-sizing: border-box;top: 0;bottom: 0;left: 50%;z-index: 0;}#sk-container-id-1 div.sk-serial {display: flex;flex-direction: column;align-items: center;background-color: white;padding-right: 0.2em;padding-left: 0.2em;position: relative;}#sk-container-id-1 div.sk-item {position: relative;z-index: 1;}#sk-container-id-1 div.sk-parallel {display: flex;align-items: stretch;justify-content: center;background-color: white;position: relative;}#sk-container-id-1 div.sk-item::before, #sk-container-id-1 div.sk-parallel-item::before {content: \"\";position: absolute;border-left: 1px solid gray;box-sizing: border-box;top: 0;bottom: 0;left: 50%;z-index: -1;}#sk-container-id-1 div.sk-parallel-item {display: flex;flex-direction: column;z-index: 1;position: relative;background-color: white;}#sk-container-id-1 div.sk-parallel-item:first-child::after {align-self: flex-end;width: 50%;}#sk-container-id-1 div.sk-parallel-item:last-child::after {align-self: flex-start;width: 50%;}#sk-container-id-1 div.sk-parallel-item:only-child::after {width: 0;}#sk-container-id-1 div.sk-dashed-wrapped {border: 1px dashed gray;margin: 0 0.4em 0.5em 0.4em;box-sizing: border-box;padding-bottom: 0.4em;background-color: white;}#sk-container-id-1 div.sk-label label {font-family: monospace;font-weight: bold;display: inline-block;line-height: 1.2em;}#sk-container-id-1 div.sk-label-container {text-align: center;}#sk-container-id-1 div.sk-container {/* jupyter's `normalize.less` sets `[hidden] { display: none; }` but bootstrap.min.css set `[hidden] { display: none !important; }` so we also need the `!important` here to be able to override the default hidden behavior on the sphinx rendered scikit-learn.org. See: https://github.com/scikit-learn/scikit-learn/issues/21755 */display: inline-block !important;position: relative;}#sk-container-id-1 div.sk-text-repr-fallback {display: none;}</style><div id=\"sk-container-id-1\" class=\"sk-top-container\"><div class=\"sk-text-repr-fallback\"><pre>GaussianProcessRegressor(kernel=1**2 * RBF(length_scale=1),\n                         n_restarts_optimizer=20)</pre><b>In a Jupyter environment, please rerun this cell to show the HTML representation or trust the notebook. <br />On GitHub, the HTML representation is unable to render, please try loading this page with nbviewer.org.</b></div><div class=\"sk-container\" hidden><div class=\"sk-item\"><div class=\"sk-estimator sk-toggleable\"><input class=\"sk-toggleable__control sk-hidden--visually\" id=\"sk-estimator-id-1\" type=\"checkbox\" checked><label for=\"sk-estimator-id-1\" class=\"sk-toggleable__label sk-toggleable__label-arrow\">GaussianProcessRegressor</label><div class=\"sk-toggleable__content\"><pre>GaussianProcessRegressor(kernel=1**2 * RBF(length_scale=1),\n                         n_restarts_optimizer=20)</pre></div></div></div></div></div>"
     },
     "execution_count": 12,
     "metadata": {},
     "output_type": "execute_result"
    }
   ],
   "source": [
    "X_scaled_train = scaler_X.fit_transform(X_train)\n",
    "y_scaled_train = scaler_y.fit_transform(y_train)\n",
    "\n",
    "gp.fit(X_scaled_train, y_scaled_train)"
   ],
   "metadata": {
    "collapsed": false,
    "ExecuteTime": {
     "end_time": "2024-03-01T14:07:37.734774900Z",
     "start_time": "2024-03-01T14:07:17.558444800Z"
    }
   },
   "id": "fb6cd4bb1978490",
   "execution_count": 12
  },
  {
   "cell_type": "markdown",
   "source": [
    "### 5. Predictions"
   ],
   "metadata": {
    "collapsed": false
   },
   "id": "7fb551801147f6f3"
  },
  {
   "cell_type": "code",
   "outputs": [
    {
     "data": {
      "text/plain": "array([[ 6.23323086,  4.10877013, 14.36852505],\n       [ 6.23323086,  4.10877013, 14.36852505],\n       [ 6.23323086,  4.10877013, 14.36852505],\n       [ 6.23323086,  4.10877013, 14.36852505],\n       [ 6.23323086,  4.10877013, 14.36852505],\n       [ 6.23323086,  4.10877013, 14.36852505],\n       [ 6.23323086,  4.10877013, 14.36852505],\n       [ 6.23323086,  4.10877013, 14.36852505],\n       [ 6.23323086,  4.10877013, 14.36852505],\n       [ 6.23323086,  4.10877013, 14.36852505],\n       [ 6.23323086,  4.10877013, 14.36852505],\n       [ 6.23323086,  4.10877013, 14.36852505],\n       [ 6.23323086,  4.10877013, 14.36852505],\n       [ 6.23323086,  4.10877013, 14.36852505],\n       [ 6.23323086,  4.10877013, 14.36852505],\n       [ 6.23323086,  4.10877013, 14.36852505],\n       [ 6.23323086,  4.10877013, 14.36852505],\n       [ 6.23323086,  4.10877013, 14.36852505],\n       [ 6.23323086,  4.10877013, 14.36852505],\n       [ 6.23323086,  4.10877013, 14.36852505],\n       [ 6.23323086,  4.10877013, 14.36852505],\n       [ 6.23323086,  4.10877013, 14.36852505],\n       [ 6.23323086,  4.10877013, 14.36852505],\n       [ 6.23323086,  4.10877013, 14.36852505],\n       [ 6.23323086,  4.10877013, 14.36852505],\n       [ 6.23323086,  4.10877013, 14.36852505],\n       [ 6.23323086,  4.10877013, 14.36852505],\n       [ 6.23323086,  4.10877013, 14.36852505],\n       [ 6.23323086,  4.10877013, 14.36852505],\n       [ 6.23323086,  4.10877013, 14.36852505],\n       [ 6.23323086,  4.10877013, 14.36852505],\n       [ 6.23323086,  4.10877013, 14.36852505],\n       [ 6.23323086,  4.10877013, 14.36852505],\n       [ 6.23323086,  4.10877013, 14.36852505],\n       [ 6.23323086,  4.10877013, 14.36852505],\n       [ 6.23323086,  4.10877013, 14.36852505],\n       [ 6.23323086,  4.10877013, 14.36852505],\n       [ 6.23323086,  4.10877013, 14.36852505],\n       [ 6.23323086,  4.10877013, 14.36852505],\n       [ 6.23323086,  4.10877013, 14.36852505],\n       [ 6.23323086,  4.10877013, 14.36852505],\n       [ 6.23323086,  4.10877013, 14.36852505],\n       [ 6.23323086,  4.10877013, 14.36852505],\n       [ 6.23323086,  4.10877013, 14.36852505],\n       [ 6.23323086,  4.10877013, 14.36852505],\n       [ 6.23323086,  4.10877013, 14.36852505],\n       [ 6.23323086,  4.10877013, 14.36852505],\n       [ 6.23323086,  4.10877013, 14.36852505],\n       [ 6.23323086,  4.10877013, 14.36852505],\n       [ 6.23323086,  4.10877013, 14.36852505],\n       [ 6.23323086,  4.10877013, 14.36852505],\n       [ 6.23323086,  4.10877013, 14.36852505],\n       [ 6.23323086,  4.10877013, 14.36852505],\n       [ 6.23323086,  4.10877013, 14.36852505],\n       [ 6.23323086,  4.10877013, 14.36852505],\n       [ 6.23323086,  4.10877013, 14.36852505],\n       [ 6.23323086,  4.10877013, 14.36852505],\n       [ 6.23323086,  4.10877013, 14.36852505],\n       [ 6.23323086,  4.10877013, 14.36852505],\n       [ 6.23323086,  4.10877013, 14.36852505],\n       [ 6.23323086,  4.10877013, 14.36852505],\n       [ 6.23323086,  4.10877013, 14.36852505],\n       [ 6.23323086,  4.10877013, 14.36852505],\n       [ 6.23323086,  4.10877013, 14.36852505],\n       [ 6.23323086,  4.10877013, 14.36852505],\n       [ 6.23323086,  4.10877013, 14.36852505],\n       [ 6.23323086,  4.10877013, 14.36852505],\n       [ 6.23323086,  4.10877013, 14.36852505],\n       [ 6.23323086,  4.10877013, 14.36852505],\n       [ 6.23323086,  4.10877013, 14.36852505],\n       [ 6.23323086,  4.10877013, 14.36852505],\n       [ 6.23323086,  4.10877013, 14.36852505],\n       [ 6.23323086,  4.10877013, 14.36852505],\n       [ 6.23323086,  4.10877013, 14.36852505],\n       [ 6.23323086,  4.10877013, 14.36852505],\n       [ 6.23323086,  4.10877013, 14.36852505],\n       [ 6.23323086,  4.10877013, 14.36852505],\n       [ 6.23323086,  4.10877013, 14.36852505],\n       [ 6.23323086,  4.10877013, 14.36852505],\n       [ 6.23323086,  4.10877013, 14.36852505],\n       [ 6.23323086,  4.10877013, 14.36852505],\n       [ 6.23323086,  4.10877013, 14.36852505],\n       [ 6.23323086,  4.10877013, 14.36852505],\n       [ 6.23323086,  4.10877013, 14.36852505],\n       [ 6.23323086,  4.10877013, 14.36852505],\n       [ 6.23323086,  4.10877013, 14.36852505],\n       [ 6.23323086,  4.10877013, 14.36852505],\n       [ 6.23323086,  4.10877013, 14.36852505],\n       [ 6.23323086,  4.10877013, 14.36852505],\n       [ 6.23323086,  4.10877013, 14.36852505],\n       [ 6.23323086,  4.10877013, 14.36852505],\n       [ 6.23323086,  4.10877013, 14.36852505],\n       [ 6.23323086,  4.10877013, 14.36852505],\n       [ 6.23323086,  4.10877013, 14.36852505],\n       [ 6.23323086,  4.10877013, 14.36852505],\n       [ 6.23323086,  4.10877013, 14.36852505],\n       [ 6.23323086,  4.10877013, 14.36852505],\n       [ 6.23323086,  4.10877013, 14.36852505],\n       [ 6.23323086,  4.10877013, 14.36852505],\n       [ 6.23323086,  4.10877013, 14.36852505],\n       [ 6.23323086,  4.10877013, 14.36852505]])"
     },
     "execution_count": 13,
     "metadata": {},
     "output_type": "execute_result"
    }
   ],
   "source": [
    "X_test_scaled = scaler_X.transform(X_test)\n",
    "y_pred, sigma = gp.predict(X_test_scaled, return_std=True)\n",
    "y_pred = scaler_y.inverse_transform(y_pred)\n",
    "y_pred"
   ],
   "metadata": {
    "collapsed": false,
    "ExecuteTime": {
     "end_time": "2024-03-01T14:07:37.771756400Z",
     "start_time": "2024-03-01T14:07:37.736958200Z"
    }
   },
   "id": "42cd6f5ed8778a28",
   "execution_count": 13
  },
  {
   "cell_type": "markdown",
   "source": [
    "### 6. Conclusion"
   ],
   "metadata": {
    "collapsed": false
   },
   "id": "7d0191e68e541cf6"
  },
  {
   "cell_type": "code",
   "outputs": [
    {
     "ename": "ValueError",
     "evalue": "Found input variables with inconsistent numbers of samples: [1473, 101]",
     "output_type": "error",
     "traceback": [
      "\u001B[1;31m---------------------------------------------------------------------------\u001B[0m",
      "\u001B[1;31mValueError\u001B[0m                                Traceback (most recent call last)",
      "Cell \u001B[1;32mIn[14], line 3\u001B[0m\n\u001B[0;32m      1\u001B[0m \u001B[38;5;28;01mfrom\u001B[39;00m \u001B[38;5;21;01msklearn\u001B[39;00m\u001B[38;5;21;01m.\u001B[39;00m\u001B[38;5;21;01mmetrics\u001B[39;00m \u001B[38;5;28;01mimport\u001B[39;00m mean_squared_error, mean_absolute_error, r2_score\n\u001B[1;32m----> 3\u001B[0m \u001B[38;5;28mprint\u001B[39m(\u001B[38;5;124mf\u001B[39m\u001B[38;5;124m'\u001B[39m\u001B[38;5;124mR2 Squared: \u001B[39m\u001B[38;5;132;01m{\u001B[39;00mr2_score(y_test,\u001B[38;5;250m \u001B[39my_pred)\u001B[38;5;132;01m}\u001B[39;00m\u001B[38;5;124m'\u001B[39m)\n\u001B[0;32m      4\u001B[0m \u001B[38;5;28mprint\u001B[39m(\u001B[38;5;124mf\u001B[39m\u001B[38;5;124m'\u001B[39m\u001B[38;5;124mMSE: \u001B[39m\u001B[38;5;132;01m{\u001B[39;00mmean_squared_error(y_test,\u001B[38;5;250m \u001B[39my_pred)\u001B[38;5;132;01m}\u001B[39;00m\u001B[38;5;124m'\u001B[39m)\n\u001B[0;32m      5\u001B[0m \u001B[38;5;28mprint\u001B[39m(\u001B[38;5;124mf\u001B[39m\u001B[38;5;124m'\u001B[39m\u001B[38;5;124mMAE: \u001B[39m\u001B[38;5;132;01m{\u001B[39;00mmean_absolute_error(y_test,\u001B[38;5;250m \u001B[39my_pred)\u001B[38;5;132;01m}\u001B[39;00m\u001B[38;5;124m'\u001B[39m)    \n",
      "File \u001B[1;32m~\\venv\\lib\\site-packages\\sklearn\\utils\\_param_validation.py:214\u001B[0m, in \u001B[0;36mvalidate_params.<locals>.decorator.<locals>.wrapper\u001B[1;34m(*args, **kwargs)\u001B[0m\n\u001B[0;32m    208\u001B[0m \u001B[38;5;28;01mtry\u001B[39;00m:\n\u001B[0;32m    209\u001B[0m     \u001B[38;5;28;01mwith\u001B[39;00m config_context(\n\u001B[0;32m    210\u001B[0m         skip_parameter_validation\u001B[38;5;241m=\u001B[39m(\n\u001B[0;32m    211\u001B[0m             prefer_skip_nested_validation \u001B[38;5;129;01mor\u001B[39;00m global_skip_validation\n\u001B[0;32m    212\u001B[0m         )\n\u001B[0;32m    213\u001B[0m     ):\n\u001B[1;32m--> 214\u001B[0m         \u001B[38;5;28;01mreturn\u001B[39;00m func(\u001B[38;5;241m*\u001B[39margs, \u001B[38;5;241m*\u001B[39m\u001B[38;5;241m*\u001B[39mkwargs)\n\u001B[0;32m    215\u001B[0m \u001B[38;5;28;01mexcept\u001B[39;00m InvalidParameterError \u001B[38;5;28;01mas\u001B[39;00m e:\n\u001B[0;32m    216\u001B[0m     \u001B[38;5;66;03m# When the function is just a wrapper around an estimator, we allow\u001B[39;00m\n\u001B[0;32m    217\u001B[0m     \u001B[38;5;66;03m# the function to delegate validation to the estimator, but we replace\u001B[39;00m\n\u001B[0;32m    218\u001B[0m     \u001B[38;5;66;03m# the name of the estimator by the name of the function in the error\u001B[39;00m\n\u001B[0;32m    219\u001B[0m     \u001B[38;5;66;03m# message to avoid confusion.\u001B[39;00m\n\u001B[0;32m    220\u001B[0m     msg \u001B[38;5;241m=\u001B[39m re\u001B[38;5;241m.\u001B[39msub(\n\u001B[0;32m    221\u001B[0m         \u001B[38;5;124mr\u001B[39m\u001B[38;5;124m\"\u001B[39m\u001B[38;5;124mparameter of \u001B[39m\u001B[38;5;124m\\\u001B[39m\u001B[38;5;124mw+ must be\u001B[39m\u001B[38;5;124m\"\u001B[39m,\n\u001B[0;32m    222\u001B[0m         \u001B[38;5;124mf\u001B[39m\u001B[38;5;124m\"\u001B[39m\u001B[38;5;124mparameter of \u001B[39m\u001B[38;5;132;01m{\u001B[39;00mfunc\u001B[38;5;241m.\u001B[39m\u001B[38;5;18m__qualname__\u001B[39m\u001B[38;5;132;01m}\u001B[39;00m\u001B[38;5;124m must be\u001B[39m\u001B[38;5;124m\"\u001B[39m,\n\u001B[0;32m    223\u001B[0m         \u001B[38;5;28mstr\u001B[39m(e),\n\u001B[0;32m    224\u001B[0m     )\n",
      "File \u001B[1;32m~\\venv\\lib\\site-packages\\sklearn\\metrics\\_regression.py:989\u001B[0m, in \u001B[0;36mr2_score\u001B[1;34m(y_true, y_pred, sample_weight, multioutput, force_finite)\u001B[0m\n\u001B[0;32m    848\u001B[0m \u001B[38;5;129m@validate_params\u001B[39m(\n\u001B[0;32m    849\u001B[0m     {\n\u001B[0;32m    850\u001B[0m         \u001B[38;5;124m\"\u001B[39m\u001B[38;5;124my_true\u001B[39m\u001B[38;5;124m\"\u001B[39m: [\u001B[38;5;124m\"\u001B[39m\u001B[38;5;124marray-like\u001B[39m\u001B[38;5;124m\"\u001B[39m],\n\u001B[1;32m   (...)\u001B[0m\n\u001B[0;32m    868\u001B[0m     force_finite\u001B[38;5;241m=\u001B[39m\u001B[38;5;28;01mTrue\u001B[39;00m,\n\u001B[0;32m    869\u001B[0m ):\n\u001B[0;32m    870\u001B[0m \u001B[38;5;250m    \u001B[39m\u001B[38;5;124;03m\"\"\":math:`R^2` (coefficient of determination) regression score function.\u001B[39;00m\n\u001B[0;32m    871\u001B[0m \n\u001B[0;32m    872\u001B[0m \u001B[38;5;124;03m    Best possible score is 1.0 and it can be negative (because the\u001B[39;00m\n\u001B[1;32m   (...)\u001B[0m\n\u001B[0;32m    987\u001B[0m \u001B[38;5;124;03m    -inf\u001B[39;00m\n\u001B[0;32m    988\u001B[0m \u001B[38;5;124;03m    \"\"\"\u001B[39;00m\n\u001B[1;32m--> 989\u001B[0m     y_type, y_true, y_pred, multioutput \u001B[38;5;241m=\u001B[39m \u001B[43m_check_reg_targets\u001B[49m\u001B[43m(\u001B[49m\n\u001B[0;32m    990\u001B[0m \u001B[43m        \u001B[49m\u001B[43my_true\u001B[49m\u001B[43m,\u001B[49m\u001B[43m \u001B[49m\u001B[43my_pred\u001B[49m\u001B[43m,\u001B[49m\u001B[43m \u001B[49m\u001B[43mmultioutput\u001B[49m\n\u001B[0;32m    991\u001B[0m \u001B[43m    \u001B[49m\u001B[43m)\u001B[49m\n\u001B[0;32m    992\u001B[0m     check_consistent_length(y_true, y_pred, sample_weight)\n\u001B[0;32m    994\u001B[0m     \u001B[38;5;28;01mif\u001B[39;00m _num_samples(y_pred) \u001B[38;5;241m<\u001B[39m \u001B[38;5;241m2\u001B[39m:\n",
      "File \u001B[1;32m~\\venv\\lib\\site-packages\\sklearn\\metrics\\_regression.py:99\u001B[0m, in \u001B[0;36m_check_reg_targets\u001B[1;34m(y_true, y_pred, multioutput, dtype)\u001B[0m\n\u001B[0;32m     65\u001B[0m \u001B[38;5;28;01mdef\u001B[39;00m \u001B[38;5;21m_check_reg_targets\u001B[39m(y_true, y_pred, multioutput, dtype\u001B[38;5;241m=\u001B[39m\u001B[38;5;124m\"\u001B[39m\u001B[38;5;124mnumeric\u001B[39m\u001B[38;5;124m\"\u001B[39m):\n\u001B[0;32m     66\u001B[0m \u001B[38;5;250m    \u001B[39m\u001B[38;5;124;03m\"\"\"Check that y_true and y_pred belong to the same regression task.\u001B[39;00m\n\u001B[0;32m     67\u001B[0m \n\u001B[0;32m     68\u001B[0m \u001B[38;5;124;03m    Parameters\u001B[39;00m\n\u001B[1;32m   (...)\u001B[0m\n\u001B[0;32m     97\u001B[0m \u001B[38;5;124;03m        correct keyword.\u001B[39;00m\n\u001B[0;32m     98\u001B[0m \u001B[38;5;124;03m    \"\"\"\u001B[39;00m\n\u001B[1;32m---> 99\u001B[0m     \u001B[43mcheck_consistent_length\u001B[49m\u001B[43m(\u001B[49m\u001B[43my_true\u001B[49m\u001B[43m,\u001B[49m\u001B[43m \u001B[49m\u001B[43my_pred\u001B[49m\u001B[43m)\u001B[49m\n\u001B[0;32m    100\u001B[0m     y_true \u001B[38;5;241m=\u001B[39m check_array(y_true, ensure_2d\u001B[38;5;241m=\u001B[39m\u001B[38;5;28;01mFalse\u001B[39;00m, dtype\u001B[38;5;241m=\u001B[39mdtype)\n\u001B[0;32m    101\u001B[0m     y_pred \u001B[38;5;241m=\u001B[39m check_array(y_pred, ensure_2d\u001B[38;5;241m=\u001B[39m\u001B[38;5;28;01mFalse\u001B[39;00m, dtype\u001B[38;5;241m=\u001B[39mdtype)\n",
      "File \u001B[1;32m~\\venv\\lib\\site-packages\\sklearn\\utils\\validation.py:407\u001B[0m, in \u001B[0;36mcheck_consistent_length\u001B[1;34m(*arrays)\u001B[0m\n\u001B[0;32m    405\u001B[0m uniques \u001B[38;5;241m=\u001B[39m np\u001B[38;5;241m.\u001B[39munique(lengths)\n\u001B[0;32m    406\u001B[0m \u001B[38;5;28;01mif\u001B[39;00m \u001B[38;5;28mlen\u001B[39m(uniques) \u001B[38;5;241m>\u001B[39m \u001B[38;5;241m1\u001B[39m:\n\u001B[1;32m--> 407\u001B[0m     \u001B[38;5;28;01mraise\u001B[39;00m \u001B[38;5;167;01mValueError\u001B[39;00m(\n\u001B[0;32m    408\u001B[0m         \u001B[38;5;124m\"\u001B[39m\u001B[38;5;124mFound input variables with inconsistent numbers of samples: \u001B[39m\u001B[38;5;132;01m%r\u001B[39;00m\u001B[38;5;124m\"\u001B[39m\n\u001B[0;32m    409\u001B[0m         \u001B[38;5;241m%\u001B[39m [\u001B[38;5;28mint\u001B[39m(l) \u001B[38;5;28;01mfor\u001B[39;00m l \u001B[38;5;129;01min\u001B[39;00m lengths]\n\u001B[0;32m    410\u001B[0m     )\n",
      "\u001B[1;31mValueError\u001B[0m: Found input variables with inconsistent numbers of samples: [1473, 101]"
     ]
    }
   ],
   "source": [
    "from sklearn.metrics import mean_squared_error, mean_absolute_error, r2_score\n",
    "\n",
    "print(f'R2 Squared: {r2_score(y_test, y_pred)}')\n",
    "print(f'MSE: {mean_squared_error(y_test, y_pred)}')\n",
    "print(f'MAE: {mean_absolute_error(y_test, y_pred)}')    "
   ],
   "metadata": {
    "collapsed": false,
    "ExecuteTime": {
     "end_time": "2024-03-01T14:07:38.834383500Z",
     "start_time": "2024-03-01T14:07:37.768399300Z"
    }
   },
   "id": "a8d93f7585481952",
   "execution_count": 14
  },
  {
   "cell_type": "markdown",
   "source": [
    "#### 6.1 Visualize the results\n",
    "#### 6.1.1 3D Visualization of the predicted ball trajectory"
   ],
   "metadata": {
    "collapsed": false
   },
   "id": "1502cda8ed30a331"
  },
  {
   "cell_type": "code",
   "outputs": [],
   "source": [
    "from utils.plot_maker_gaussian_process import plot_maker_3d\n",
    "import numpy as np\n",
    "\n",
    "plot_maker_3d(np.array(y_test), np.array(y_pred), '3d Scatter plot subset 1')"
   ],
   "metadata": {
    "collapsed": false,
    "ExecuteTime": {
     "start_time": "2024-03-01T14:07:38.841294700Z"
    }
   },
   "id": "67d2e6931df37bca",
   "execution_count": null
  },
  {
   "cell_type": "code",
   "outputs": [],
   "source": [
    "y_pred = np.array(y_pred)\n",
    "sigma = np.array(sigma)\n",
    "y_test = np.array(y_test)"
   ],
   "metadata": {
    "collapsed": false,
    "ExecuteTime": {
     "start_time": "2024-03-01T14:07:38.846742800Z"
    }
   },
   "id": "88b2f18ce02ed7a",
   "execution_count": null
  },
  {
   "cell_type": "code",
   "outputs": [],
   "source": [
    "# Get the data for each dimension (x, y, z)\n",
    "y_pred_x, y_pred_y, y_pred_z = y_pred[:, 0], y_pred[:, 1], y_pred[:, 2]\n",
    "sigma_x, sigma_y, sigma_z = sigma[:, 0], sigma[:, 1], sigma[:, 2]\n",
    "y_test_x, y_test_y, y_test_z = y_test[:, 0], y_test[:, 1], y_test[:, 2]"
   ],
   "metadata": {
    "collapsed": false,
    "ExecuteTime": {
     "start_time": "2024-03-01T14:07:38.852235900Z"
    }
   },
   "id": "175f28572e06a28",
   "execution_count": null
  },
  {
   "cell_type": "markdown",
   "source": [
    "#### 6.1.2 Gaussian Process In Time with Covariance For Each Dimension"
   ],
   "metadata": {
    "collapsed": false
   },
   "id": "77c06cda105e2046"
  },
  {
   "cell_type": "code",
   "outputs": [],
   "source": [
    "from utils.plot_maker_gaussian_process import gaussian_process_plot\n",
    "# for the x dimension\n",
    "gaussian_process_plot(y_test_x, y_pred_x, sigma_x)"
   ],
   "metadata": {
    "collapsed": false,
    "ExecuteTime": {
     "start_time": "2024-03-01T14:07:38.856302900Z"
    }
   },
   "id": "e4ee9697eb4df793",
   "execution_count": null
  },
  {
   "cell_type": "code",
   "outputs": [],
   "source": [
    "# for the y dimension\n",
    "gaussian_process_plot(y_test_y, y_pred_y, sigma_y)"
   ],
   "metadata": {
    "collapsed": false,
    "ExecuteTime": {
     "start_time": "2024-03-01T14:07:38.860320400Z"
    }
   },
   "id": "1f917d560709f876",
   "execution_count": null
  },
  {
   "cell_type": "code",
   "outputs": [],
   "source": [
    "# for the z dimension\n",
    "gaussian_process_plot(y_test_z[:100], y_pred_z[:100], sigma_z[:100])"
   ],
   "metadata": {
    "collapsed": false,
    "ExecuteTime": {
     "start_time": "2024-03-01T14:07:38.864625800Z"
    }
   },
   "id": "3d940fc7618e1557",
   "execution_count": null
  }
 ],
 "metadata": {
  "kernelspec": {
   "display_name": "Python 3",
   "language": "python",
   "name": "python3"
  },
  "language_info": {
   "codemirror_mode": {
    "name": "ipython",
    "version": 2
   },
   "file_extension": ".py",
   "mimetype": "text/x-python",
   "name": "python",
   "nbconvert_exporter": "python",
   "pygments_lexer": "ipython2",
   "version": "2.7.6"
  }
 },
 "nbformat": 4,
 "nbformat_minor": 5
}
