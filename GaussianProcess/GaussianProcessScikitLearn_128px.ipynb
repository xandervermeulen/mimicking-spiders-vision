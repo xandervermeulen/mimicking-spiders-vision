{
 "cells": [
  {
   "cell_type": "markdown",
   "source": [
    "## Gaussian Process Regression\n",
    "### 1. Introduction\n",
    "### 2. Data Preparation"
   ],
   "metadata": {
    "collapsed": false
   },
   "id": "fe934d4d875082e7"
  },
  {
   "cell_type": "code",
   "outputs": [],
   "source": [
    "import pandas as pd\n",
    "from sklearn.gaussian_process import GaussianProcessRegressor\n",
    "from sklearn.gaussian_process.kernels import RBF "
   ],
   "metadata": {
    "collapsed": false,
    "ExecuteTime": {
     "end_time": "2024-03-05T01:23:22.334073300Z",
     "start_time": "2024-03-05T01:23:22.299304500Z"
    }
   },
   "id": "c2a74ef535cfd3",
   "execution_count": 189
  },
  {
   "cell_type": "code",
   "outputs": [
    {
     "data": {
      "text/plain": "       u0    v0    u1    v1         u2         v2     u3    v3    u4    v4  \\\n0     0.0  42.0  87.0  39.0  34.853473  82.531266   44.0  83.0  89.0  83.0   \n1     0.5  42.5  87.0  40.0  34.853473  82.531266   45.0  84.0  89.0  84.0   \n2     0.5  43.5  87.0  41.0  34.853473  82.531266   45.0  85.0  89.0  85.0   \n3     1.0  45.0  87.5  42.0  34.853473  82.531266   45.0  86.0  89.0  86.0   \n4     1.0  45.5  88.0  43.0  34.853473  82.531266   45.0  86.0  90.0  87.0   \n..    ...   ...   ...   ...        ...        ...    ...   ...   ...   ...   \n496  68.0  10.0  55.0  26.0  64.000000  59.000000  111.0  59.0  59.5  69.0   \n497  67.0   9.0  55.0  26.0  63.000000  58.000000  110.0  58.0  59.5  69.0   \n498  66.0   8.0  55.0  26.0  62.000000  57.000000  109.0  57.0  59.5  69.0   \n499  65.0   5.0  55.0  26.0  61.000000  55.000000  107.5  55.0  59.5  69.0   \n500  66.0   6.0  55.0  26.0  62.000000  56.000000  108.0  56.0  59.5  69.0   \n\n            u5          v5    u6     v6  \n0    28.886553  118.791444  69.0  122.0  \n1    28.886553  118.791444  68.5  120.5  \n2    28.886553  118.791444  68.5  120.5  \n3    28.886553  118.791444  68.5  120.5  \n4    28.886553  118.791444  68.5  120.5  \n..         ...         ...   ...    ...  \n496  54.500000  105.000000  68.0  118.5  \n497  54.000000  103.000000  68.0  118.5  \n498  53.000000  102.500000  68.0  118.5  \n499  52.000000  101.000000  68.0  118.5  \n500  52.000000  101.000000  68.0  118.5  \n\n[501 rows x 14 columns]",
      "text/html": "<div>\n<style scoped>\n    .dataframe tbody tr th:only-of-type {\n        vertical-align: middle;\n    }\n\n    .dataframe tbody tr th {\n        vertical-align: top;\n    }\n\n    .dataframe thead th {\n        text-align: right;\n    }\n</style>\n<table border=\"1\" class=\"dataframe\">\n  <thead>\n    <tr style=\"text-align: right;\">\n      <th></th>\n      <th>u0</th>\n      <th>v0</th>\n      <th>u1</th>\n      <th>v1</th>\n      <th>u2</th>\n      <th>v2</th>\n      <th>u3</th>\n      <th>v3</th>\n      <th>u4</th>\n      <th>v4</th>\n      <th>u5</th>\n      <th>v5</th>\n      <th>u6</th>\n      <th>v6</th>\n    </tr>\n  </thead>\n  <tbody>\n    <tr>\n      <th>0</th>\n      <td>0.0</td>\n      <td>42.0</td>\n      <td>87.0</td>\n      <td>39.0</td>\n      <td>34.853473</td>\n      <td>82.531266</td>\n      <td>44.0</td>\n      <td>83.0</td>\n      <td>89.0</td>\n      <td>83.0</td>\n      <td>28.886553</td>\n      <td>118.791444</td>\n      <td>69.0</td>\n      <td>122.0</td>\n    </tr>\n    <tr>\n      <th>1</th>\n      <td>0.5</td>\n      <td>42.5</td>\n      <td>87.0</td>\n      <td>40.0</td>\n      <td>34.853473</td>\n      <td>82.531266</td>\n      <td>45.0</td>\n      <td>84.0</td>\n      <td>89.0</td>\n      <td>84.0</td>\n      <td>28.886553</td>\n      <td>118.791444</td>\n      <td>68.5</td>\n      <td>120.5</td>\n    </tr>\n    <tr>\n      <th>2</th>\n      <td>0.5</td>\n      <td>43.5</td>\n      <td>87.0</td>\n      <td>41.0</td>\n      <td>34.853473</td>\n      <td>82.531266</td>\n      <td>45.0</td>\n      <td>85.0</td>\n      <td>89.0</td>\n      <td>85.0</td>\n      <td>28.886553</td>\n      <td>118.791444</td>\n      <td>68.5</td>\n      <td>120.5</td>\n    </tr>\n    <tr>\n      <th>3</th>\n      <td>1.0</td>\n      <td>45.0</td>\n      <td>87.5</td>\n      <td>42.0</td>\n      <td>34.853473</td>\n      <td>82.531266</td>\n      <td>45.0</td>\n      <td>86.0</td>\n      <td>89.0</td>\n      <td>86.0</td>\n      <td>28.886553</td>\n      <td>118.791444</td>\n      <td>68.5</td>\n      <td>120.5</td>\n    </tr>\n    <tr>\n      <th>4</th>\n      <td>1.0</td>\n      <td>45.5</td>\n      <td>88.0</td>\n      <td>43.0</td>\n      <td>34.853473</td>\n      <td>82.531266</td>\n      <td>45.0</td>\n      <td>86.0</td>\n      <td>90.0</td>\n      <td>87.0</td>\n      <td>28.886553</td>\n      <td>118.791444</td>\n      <td>68.5</td>\n      <td>120.5</td>\n    </tr>\n    <tr>\n      <th>...</th>\n      <td>...</td>\n      <td>...</td>\n      <td>...</td>\n      <td>...</td>\n      <td>...</td>\n      <td>...</td>\n      <td>...</td>\n      <td>...</td>\n      <td>...</td>\n      <td>...</td>\n      <td>...</td>\n      <td>...</td>\n      <td>...</td>\n      <td>...</td>\n    </tr>\n    <tr>\n      <th>496</th>\n      <td>68.0</td>\n      <td>10.0</td>\n      <td>55.0</td>\n      <td>26.0</td>\n      <td>64.000000</td>\n      <td>59.000000</td>\n      <td>111.0</td>\n      <td>59.0</td>\n      <td>59.5</td>\n      <td>69.0</td>\n      <td>54.500000</td>\n      <td>105.000000</td>\n      <td>68.0</td>\n      <td>118.5</td>\n    </tr>\n    <tr>\n      <th>497</th>\n      <td>67.0</td>\n      <td>9.0</td>\n      <td>55.0</td>\n      <td>26.0</td>\n      <td>63.000000</td>\n      <td>58.000000</td>\n      <td>110.0</td>\n      <td>58.0</td>\n      <td>59.5</td>\n      <td>69.0</td>\n      <td>54.000000</td>\n      <td>103.000000</td>\n      <td>68.0</td>\n      <td>118.5</td>\n    </tr>\n    <tr>\n      <th>498</th>\n      <td>66.0</td>\n      <td>8.0</td>\n      <td>55.0</td>\n      <td>26.0</td>\n      <td>62.000000</td>\n      <td>57.000000</td>\n      <td>109.0</td>\n      <td>57.0</td>\n      <td>59.5</td>\n      <td>69.0</td>\n      <td>53.000000</td>\n      <td>102.500000</td>\n      <td>68.0</td>\n      <td>118.5</td>\n    </tr>\n    <tr>\n      <th>499</th>\n      <td>65.0</td>\n      <td>5.0</td>\n      <td>55.0</td>\n      <td>26.0</td>\n      <td>61.000000</td>\n      <td>55.000000</td>\n      <td>107.5</td>\n      <td>55.0</td>\n      <td>59.5</td>\n      <td>69.0</td>\n      <td>52.000000</td>\n      <td>101.000000</td>\n      <td>68.0</td>\n      <td>118.5</td>\n    </tr>\n    <tr>\n      <th>500</th>\n      <td>66.0</td>\n      <td>6.0</td>\n      <td>55.0</td>\n      <td>26.0</td>\n      <td>62.000000</td>\n      <td>56.000000</td>\n      <td>108.0</td>\n      <td>56.0</td>\n      <td>59.5</td>\n      <td>69.0</td>\n      <td>52.000000</td>\n      <td>101.000000</td>\n      <td>68.0</td>\n      <td>118.5</td>\n    </tr>\n  </tbody>\n</table>\n<p>501 rows × 14 columns</p>\n</div>"
     },
     "execution_count": 190,
     "metadata": {},
     "output_type": "execute_result"
    }
   ],
   "source": [
    "# pandas will automatically convert the 'NaN' values to np.nan\n",
    "red_ball_coordinates = pd.read_csv('../interpolated-data/red_ball_coordinates_128px_2024-02-27_11h29m.csv', delimiter=',')\n",
    "red_ball_coordinates"
   ],
   "metadata": {
    "collapsed": false,
    "ExecuteTime": {
     "end_time": "2024-03-05T01:23:22.361066400Z",
     "start_time": "2024-03-05T01:23:22.337283600Z"
    }
   },
   "id": "fab9dba0b86fdb50",
   "execution_count": 190
  },
  {
   "cell_type": "code",
   "outputs": [
    {
     "data": {
      "text/plain": "             x         y         z\n0     7.140000  3.070000  15.00000\n1    10.140000  3.070000  15.00000\n2    10.140000  3.070000  15.00000\n3    10.140000  3.070000  15.00000\n4    10.138330  3.169981  15.09998\n..         ...       ...       ...\n500   5.179743  0.799010  12.72901\n501   5.256516  0.734943  12.66494\n502   5.335387  0.673466  12.60347\n503   5.416258  0.614656  12.54466\n504   6.314510  0.185807  12.11581\n\n[505 rows x 3 columns]",
      "text/html": "<div>\n<style scoped>\n    .dataframe tbody tr th:only-of-type {\n        vertical-align: middle;\n    }\n\n    .dataframe tbody tr th {\n        vertical-align: top;\n    }\n\n    .dataframe thead th {\n        text-align: right;\n    }\n</style>\n<table border=\"1\" class=\"dataframe\">\n  <thead>\n    <tr style=\"text-align: right;\">\n      <th></th>\n      <th>x</th>\n      <th>y</th>\n      <th>z</th>\n    </tr>\n  </thead>\n  <tbody>\n    <tr>\n      <th>0</th>\n      <td>7.140000</td>\n      <td>3.070000</td>\n      <td>15.00000</td>\n    </tr>\n    <tr>\n      <th>1</th>\n      <td>10.140000</td>\n      <td>3.070000</td>\n      <td>15.00000</td>\n    </tr>\n    <tr>\n      <th>2</th>\n      <td>10.140000</td>\n      <td>3.070000</td>\n      <td>15.00000</td>\n    </tr>\n    <tr>\n      <th>3</th>\n      <td>10.140000</td>\n      <td>3.070000</td>\n      <td>15.00000</td>\n    </tr>\n    <tr>\n      <th>4</th>\n      <td>10.138330</td>\n      <td>3.169981</td>\n      <td>15.09998</td>\n    </tr>\n    <tr>\n      <th>...</th>\n      <td>...</td>\n      <td>...</td>\n      <td>...</td>\n    </tr>\n    <tr>\n      <th>500</th>\n      <td>5.179743</td>\n      <td>0.799010</td>\n      <td>12.72901</td>\n    </tr>\n    <tr>\n      <th>501</th>\n      <td>5.256516</td>\n      <td>0.734943</td>\n      <td>12.66494</td>\n    </tr>\n    <tr>\n      <th>502</th>\n      <td>5.335387</td>\n      <td>0.673466</td>\n      <td>12.60347</td>\n    </tr>\n    <tr>\n      <th>503</th>\n      <td>5.416258</td>\n      <td>0.614656</td>\n      <td>12.54466</td>\n    </tr>\n    <tr>\n      <th>504</th>\n      <td>6.314510</td>\n      <td>0.185807</td>\n      <td>12.11581</td>\n    </tr>\n  </tbody>\n</table>\n<p>505 rows × 3 columns</p>\n</div>"
     },
     "execution_count": 191,
     "metadata": {},
     "output_type": "execute_result"
    }
   ],
   "source": [
    "xyz_coordinates = pd.read_csv('../interpolated-data/positions_xyz_2024-02-27_11h29m.csv', delimiter=',')\n",
    "xyz_coordinates"
   ],
   "metadata": {
    "collapsed": false,
    "ExecuteTime": {
     "end_time": "2024-03-05T01:23:22.389887300Z",
     "start_time": "2024-03-05T01:23:22.354615100Z"
    }
   },
   "id": "eb95a22ef7a50fea",
   "execution_count": 191
  },
  {
   "cell_type": "code",
   "outputs": [
    {
     "data": {
      "text/plain": "             x         y         z\n4    10.138330  3.169981  15.09998\n5    10.133340  3.269852  15.19985\n6    10.125010  3.369500  15.29950\n7    10.113370  3.468816  15.39882\n8    10.098430  3.567688  15.49769\n..         ...       ...       ...\n500   5.179743  0.799010  12.72901\n501   5.256516  0.734943  12.66494\n502   5.335387  0.673466  12.60347\n503   5.416258  0.614656  12.54466\n504   6.314510  0.185807  12.11581\n\n[501 rows x 3 columns]",
      "text/html": "<div>\n<style scoped>\n    .dataframe tbody tr th:only-of-type {\n        vertical-align: middle;\n    }\n\n    .dataframe tbody tr th {\n        vertical-align: top;\n    }\n\n    .dataframe thead th {\n        text-align: right;\n    }\n</style>\n<table border=\"1\" class=\"dataframe\">\n  <thead>\n    <tr style=\"text-align: right;\">\n      <th></th>\n      <th>x</th>\n      <th>y</th>\n      <th>z</th>\n    </tr>\n  </thead>\n  <tbody>\n    <tr>\n      <th>4</th>\n      <td>10.138330</td>\n      <td>3.169981</td>\n      <td>15.09998</td>\n    </tr>\n    <tr>\n      <th>5</th>\n      <td>10.133340</td>\n      <td>3.269852</td>\n      <td>15.19985</td>\n    </tr>\n    <tr>\n      <th>6</th>\n      <td>10.125010</td>\n      <td>3.369500</td>\n      <td>15.29950</td>\n    </tr>\n    <tr>\n      <th>7</th>\n      <td>10.113370</td>\n      <td>3.468816</td>\n      <td>15.39882</td>\n    </tr>\n    <tr>\n      <th>8</th>\n      <td>10.098430</td>\n      <td>3.567688</td>\n      <td>15.49769</td>\n    </tr>\n    <tr>\n      <th>...</th>\n      <td>...</td>\n      <td>...</td>\n      <td>...</td>\n    </tr>\n    <tr>\n      <th>500</th>\n      <td>5.179743</td>\n      <td>0.799010</td>\n      <td>12.72901</td>\n    </tr>\n    <tr>\n      <th>501</th>\n      <td>5.256516</td>\n      <td>0.734943</td>\n      <td>12.66494</td>\n    </tr>\n    <tr>\n      <th>502</th>\n      <td>5.335387</td>\n      <td>0.673466</td>\n      <td>12.60347</td>\n    </tr>\n    <tr>\n      <th>503</th>\n      <td>5.416258</td>\n      <td>0.614656</td>\n      <td>12.54466</td>\n    </tr>\n    <tr>\n      <th>504</th>\n      <td>6.314510</td>\n      <td>0.185807</td>\n      <td>12.11581</td>\n    </tr>\n  </tbody>\n</table>\n<p>501 rows × 3 columns</p>\n</div>"
     },
     "execution_count": 192,
     "metadata": {},
     "output_type": "execute_result"
    }
   ],
   "source": [
    "xyz_coordinates = xyz_coordinates.reset_index(drop=True)\n",
    "# remove the first 4 rows\n",
    "xyz_coordinates = xyz_coordinates.iloc[4:]\n",
    "xyz_coordinates"
   ],
   "metadata": {
    "collapsed": false,
    "ExecuteTime": {
     "end_time": "2024-03-05T01:23:22.424411900Z",
     "start_time": "2024-03-05T01:23:22.370476Z"
    }
   },
   "id": "56f9135d99df7ead",
   "execution_count": 192
  },
  {
   "cell_type": "markdown",
   "source": [
    "### 3. Data Preprocessing"
   ],
   "metadata": {
    "collapsed": false
   },
   "id": "5f0927113e71fc78"
  },
  {
   "cell_type": "code",
   "outputs": [],
   "source": [
    "# split into features and target\n",
    "X = red_ball_coordinates\n",
    "# remove the first 3\n",
    "y = xyz_coordinates"
   ],
   "metadata": {
    "collapsed": false,
    "ExecuteTime": {
     "end_time": "2024-03-05T01:23:22.442888300Z",
     "start_time": "2024-03-05T01:23:22.385800800Z"
    }
   },
   "id": "e0150d0e5e032a12",
   "execution_count": 193
  },
  {
   "cell_type": "code",
   "outputs": [],
   "source": [
    "from sklearn.impute import SimpleImputer\n",
    "# scale the features and the target\n",
    "from sklearn.preprocessing import StandardScaler"
   ],
   "metadata": {
    "collapsed": false,
    "ExecuteTime": {
     "end_time": "2024-03-05T01:23:22.479363Z",
     "start_time": "2024-03-05T01:23:22.402104700Z"
    }
   },
   "id": "f3178a8a726c046b",
   "execution_count": 194
  },
  {
   "cell_type": "markdown",
   "source": [
    "#### 3.1. Impute the NaN values with mean SimpleImputer"
   ],
   "metadata": {
    "collapsed": false
   },
   "id": "66f36d1a0e968ef8"
  },
  {
   "cell_type": "code",
   "outputs": [],
   "source": [
    "imputer = SimpleImputer(strategy='mean')\n",
    "X_imputed_mean = imputer.fit_transform(X)\n",
    "y_imputed_mean = imputer.fit_transform(y)"
   ],
   "metadata": {
    "collapsed": false,
    "ExecuteTime": {
     "end_time": "2024-03-05T01:23:22.481499600Z",
     "start_time": "2024-03-05T01:23:22.416991300Z"
    }
   },
   "id": "7824e788630367df",
   "execution_count": 195
  },
  {
   "cell_type": "markdown",
   "source": [
    "#### 3.2. Impute the NaN values with median SimpleImputer"
   ],
   "metadata": {
    "collapsed": false
   },
   "id": "2f4e1ccc52126ec7"
  },
  {
   "cell_type": "code",
   "outputs": [],
   "source": [
    "imputer = SimpleImputer(strategy='median')\n",
    "X_imputed_median = imputer.fit_transform(X)\n",
    "y_imputed_median = imputer.fit_transform(y)"
   ],
   "metadata": {
    "collapsed": false,
    "ExecuteTime": {
     "end_time": "2024-03-05T01:23:22.481499600Z",
     "start_time": "2024-03-05T01:23:22.433882800Z"
    }
   },
   "id": "aa8f9af7aa94412e",
   "execution_count": 196
  },
  {
   "cell_type": "markdown",
   "source": [
    "### 3.3. Impute the NaN values with KNNImputer"
   ],
   "metadata": {
    "collapsed": false
   },
   "id": "ca5af93324f77f4d"
  },
  {
   "cell_type": "code",
   "outputs": [],
   "source": [
    "from sklearn.impute import KNNImputer\n",
    "\n",
    "imputer = KNNImputer(n_neighbors=5)\n",
    "X_imputed_knn = imputer.fit_transform(X)"
   ],
   "metadata": {
    "collapsed": false,
    "ExecuteTime": {
     "end_time": "2024-03-05T01:23:22.495347900Z",
     "start_time": "2024-03-05T01:23:22.449884600Z"
    }
   },
   "id": "56f0d35d1de26913",
   "execution_count": 197
  },
  {
   "cell_type": "markdown",
   "source": [
    "### 4. Gaussian Process Regression"
   ],
   "metadata": {
    "collapsed": false
   },
   "id": "398332ca552f241d"
  },
  {
   "cell_type": "code",
   "outputs": [
    {
     "data": {
      "text/plain": "((400, 14), (101, 14), (400, 3), (101, 3))"
     },
     "execution_count": 198,
     "metadata": {},
     "output_type": "execute_result"
    }
   ],
   "source": [
    "from sklearn.model_selection import train_test_split\n",
    "\n",
    "X_train, X_test, y_train, y_test = train_test_split(X_imputed_knn, y_imputed_median, test_size=0.2, random_state=42)\n",
    "X_train.shape, X_test.shape, y_train.shape, y_test.shape"
   ],
   "metadata": {
    "collapsed": false,
    "ExecuteTime": {
     "end_time": "2024-03-05T01:23:22.495347900Z",
     "start_time": "2024-03-05T01:23:22.465266Z"
    }
   },
   "id": "1be1f8c0bc7679b8",
   "execution_count": 198
  },
  {
   "cell_type": "code",
   "outputs": [],
   "source": [
    "y_train_x = y_train[:, 0]\n",
    "y_train_y = y_train[:, 1]\n",
    "y_train_z = y_train[:, 2]\n",
    "\n",
    "y_test_x = y_test[:, 0]\n",
    "y_test_y = y_test[:, 1]\n",
    "y_test_z = y_test[:, 2]"
   ],
   "metadata": {
    "collapsed": false,
    "ExecuteTime": {
     "end_time": "2024-03-05T01:23:22.539436700Z",
     "start_time": "2024-03-05T01:23:22.481424500Z"
    }
   },
   "id": "888ea84dd7cf26ae",
   "execution_count": 199
  },
  {
   "cell_type": "code",
   "outputs": [],
   "source": [
    "scaler_X = StandardScaler()\n",
    "scaler_y = StandardScaler()\n",
    "kernel = 1.0 * RBF(length_scale=1.0, length_scale_bounds=(1e-5, 1e5))\n",
    "gp_x = GaussianProcessRegressor(kernel=kernel, n_restarts_optimizer=20)\n",
    "gp_y = GaussianProcessRegressor(kernel=kernel, n_restarts_optimizer=20)\n",
    "gp_z = GaussianProcessRegressor(kernel=kernel, n_restarts_optimizer=20)"
   ],
   "metadata": {
    "collapsed": false,
    "ExecuteTime": {
     "end_time": "2024-03-05T01:23:22.541523400Z",
     "start_time": "2024-03-05T01:23:22.497567600Z"
    }
   },
   "id": "2004cac9f0ee904",
   "execution_count": 200
  },
  {
   "cell_type": "code",
   "outputs": [],
   "source": [
    "y_train_x_scaled = scaler_y.fit_transform(y_train_x.reshape(-1, 1))\n",
    "y_train_y_scaled = scaler_y.fit_transform(y_train_y.reshape(-1, 1))\n",
    "y_train_z_scaled = scaler_y.fit_transform(y_train_z.reshape(-1, 1))"
   ],
   "metadata": {
    "collapsed": false,
    "ExecuteTime": {
     "end_time": "2024-03-05T01:23:22.542559900Z",
     "start_time": "2024-03-05T01:23:22.512834600Z"
    }
   },
   "id": "9088db86fe41a7e",
   "execution_count": 201
  },
  {
   "cell_type": "code",
   "outputs": [],
   "source": [
    "X_scaled_train = scaler_X.fit_transform(X_train)"
   ],
   "metadata": {
    "collapsed": false,
    "ExecuteTime": {
     "end_time": "2024-03-05T01:23:22.543605300Z",
     "start_time": "2024-03-05T01:23:22.526529800Z"
    }
   },
   "id": "820216e8d103e024",
   "execution_count": 202
  },
  {
   "cell_type": "code",
   "outputs": [
    {
     "data": {
      "text/plain": "GaussianProcessRegressor(kernel=1**2 * RBF(length_scale=1),\n                         n_restarts_optimizer=20)",
      "text/html": "<style>#sk-container-id-9 {color: black;}#sk-container-id-9 pre{padding: 0;}#sk-container-id-9 div.sk-toggleable {background-color: white;}#sk-container-id-9 label.sk-toggleable__label {cursor: pointer;display: block;width: 100%;margin-bottom: 0;padding: 0.3em;box-sizing: border-box;text-align: center;}#sk-container-id-9 label.sk-toggleable__label-arrow:before {content: \"▸\";float: left;margin-right: 0.25em;color: #696969;}#sk-container-id-9 label.sk-toggleable__label-arrow:hover:before {color: black;}#sk-container-id-9 div.sk-estimator:hover label.sk-toggleable__label-arrow:before {color: black;}#sk-container-id-9 div.sk-toggleable__content {max-height: 0;max-width: 0;overflow: hidden;text-align: left;background-color: #f0f8ff;}#sk-container-id-9 div.sk-toggleable__content pre {margin: 0.2em;color: black;border-radius: 0.25em;background-color: #f0f8ff;}#sk-container-id-9 input.sk-toggleable__control:checked~div.sk-toggleable__content {max-height: 200px;max-width: 100%;overflow: auto;}#sk-container-id-9 input.sk-toggleable__control:checked~label.sk-toggleable__label-arrow:before {content: \"▾\";}#sk-container-id-9 div.sk-estimator input.sk-toggleable__control:checked~label.sk-toggleable__label {background-color: #d4ebff;}#sk-container-id-9 div.sk-label input.sk-toggleable__control:checked~label.sk-toggleable__label {background-color: #d4ebff;}#sk-container-id-9 input.sk-hidden--visually {border: 0;clip: rect(1px 1px 1px 1px);clip: rect(1px, 1px, 1px, 1px);height: 1px;margin: -1px;overflow: hidden;padding: 0;position: absolute;width: 1px;}#sk-container-id-9 div.sk-estimator {font-family: monospace;background-color: #f0f8ff;border: 1px dotted black;border-radius: 0.25em;box-sizing: border-box;margin-bottom: 0.5em;}#sk-container-id-9 div.sk-estimator:hover {background-color: #d4ebff;}#sk-container-id-9 div.sk-parallel-item::after {content: \"\";width: 100%;border-bottom: 1px solid gray;flex-grow: 1;}#sk-container-id-9 div.sk-label:hover label.sk-toggleable__label {background-color: #d4ebff;}#sk-container-id-9 div.sk-serial::before {content: \"\";position: absolute;border-left: 1px solid gray;box-sizing: border-box;top: 0;bottom: 0;left: 50%;z-index: 0;}#sk-container-id-9 div.sk-serial {display: flex;flex-direction: column;align-items: center;background-color: white;padding-right: 0.2em;padding-left: 0.2em;position: relative;}#sk-container-id-9 div.sk-item {position: relative;z-index: 1;}#sk-container-id-9 div.sk-parallel {display: flex;align-items: stretch;justify-content: center;background-color: white;position: relative;}#sk-container-id-9 div.sk-item::before, #sk-container-id-9 div.sk-parallel-item::before {content: \"\";position: absolute;border-left: 1px solid gray;box-sizing: border-box;top: 0;bottom: 0;left: 50%;z-index: -1;}#sk-container-id-9 div.sk-parallel-item {display: flex;flex-direction: column;z-index: 1;position: relative;background-color: white;}#sk-container-id-9 div.sk-parallel-item:first-child::after {align-self: flex-end;width: 50%;}#sk-container-id-9 div.sk-parallel-item:last-child::after {align-self: flex-start;width: 50%;}#sk-container-id-9 div.sk-parallel-item:only-child::after {width: 0;}#sk-container-id-9 div.sk-dashed-wrapped {border: 1px dashed gray;margin: 0 0.4em 0.5em 0.4em;box-sizing: border-box;padding-bottom: 0.4em;background-color: white;}#sk-container-id-9 div.sk-label label {font-family: monospace;font-weight: bold;display: inline-block;line-height: 1.2em;}#sk-container-id-9 div.sk-label-container {text-align: center;}#sk-container-id-9 div.sk-container {/* jupyter's `normalize.less` sets `[hidden] { display: none; }` but bootstrap.min.css set `[hidden] { display: none !important; }` so we also need the `!important` here to be able to override the default hidden behavior on the sphinx rendered scikit-learn.org. See: https://github.com/scikit-learn/scikit-learn/issues/21755 */display: inline-block !important;position: relative;}#sk-container-id-9 div.sk-text-repr-fallback {display: none;}</style><div id=\"sk-container-id-9\" class=\"sk-top-container\"><div class=\"sk-text-repr-fallback\"><pre>GaussianProcessRegressor(kernel=1**2 * RBF(length_scale=1),\n                         n_restarts_optimizer=20)</pre><b>In a Jupyter environment, please rerun this cell to show the HTML representation or trust the notebook. <br />On GitHub, the HTML representation is unable to render, please try loading this page with nbviewer.org.</b></div><div class=\"sk-container\" hidden><div class=\"sk-item\"><div class=\"sk-estimator sk-toggleable\"><input class=\"sk-toggleable__control sk-hidden--visually\" id=\"sk-estimator-id-9\" type=\"checkbox\" checked><label for=\"sk-estimator-id-9\" class=\"sk-toggleable__label sk-toggleable__label-arrow\">GaussianProcessRegressor</label><div class=\"sk-toggleable__content\"><pre>GaussianProcessRegressor(kernel=1**2 * RBF(length_scale=1),\n                         n_restarts_optimizer=20)</pre></div></div></div></div></div>"
     },
     "execution_count": 203,
     "metadata": {},
     "output_type": "execute_result"
    }
   ],
   "source": [
    "gp_x.fit(X_scaled_train, y_train_x_scaled)\n",
    "gp_y.fit(X_scaled_train, y_train_y_scaled)\n",
    "gp_z.fit(X_scaled_train, y_train_z_scaled)"
   ],
   "metadata": {
    "collapsed": false,
    "ExecuteTime": {
     "end_time": "2024-03-05T01:23:38.885407100Z",
     "start_time": "2024-03-05T01:23:22.543605300Z"
    }
   },
   "id": "b8dd381c98ec21b2",
   "execution_count": 203
  },
  {
   "cell_type": "markdown",
   "source": [
    "### 5. Predictions"
   ],
   "metadata": {
    "collapsed": false
   },
   "id": "7fb551801147f6f3"
  },
  {
   "cell_type": "code",
   "outputs": [],
   "source": [
    "X_test_scaled = scaler_X.transform(X_test)\n",
    "y_pred_x, sigma_x = gp_x.predict(X_test_scaled, return_std=True)\n",
    "y_pred_y, sigma_y = gp_y.predict(X_test_scaled, return_std=True)\n",
    "y_pred_z, sigma_z = gp_z.predict(X_test_scaled, return_std=True)"
   ],
   "metadata": {
    "collapsed": false,
    "ExecuteTime": {
     "end_time": "2024-03-05T01:23:38.905534500Z",
     "start_time": "2024-03-05T01:23:38.885407100Z"
    }
   },
   "id": "ec2d709a8551bedf",
   "execution_count": 204
  },
  {
   "cell_type": "code",
   "outputs": [],
   "source": [
    "y_pred_x = scaler_y.inverse_transform(y_pred_x.reshape(-1, 1))\n",
    "y_pred_y = scaler_y.inverse_transform(y_pred_y.reshape(-1, 1))\n",
    "y_pred_z = scaler_y.inverse_transform(y_pred_z.reshape(-1, 1))"
   ],
   "metadata": {
    "collapsed": false,
    "ExecuteTime": {
     "end_time": "2024-03-05T01:23:38.918572700Z",
     "start_time": "2024-03-05T01:23:38.902350500Z"
    }
   },
   "id": "fb9912f09295307",
   "execution_count": 205
  },
  {
   "cell_type": "markdown",
   "source": [
    "### 6. Conclusion"
   ],
   "metadata": {
    "collapsed": false
   },
   "id": "7d0191e68e541cf6"
  },
  {
   "cell_type": "code",
   "outputs": [
    {
     "name": "stdout",
     "output_type": "stream",
     "text": [
      "Mean Squared Error on Gaussian Process Regression X Set: 66.89843524539397\n",
      "Mean Absolute Error on Gaussian Process Regression X Set: 8.171693759958856\n",
      "R2 Score on Gaussian Process Regression X set: -12.922488446683605\n",
      "Mean Squared Error on Gaussian Process Regression Y Set: 143.04379910800304\n",
      "Mean Absolute Error on Gaussian Process Regression Y Set: 11.959054228307673\n",
      "R2 Score on Gaussian Process Regression Y set: -34.71537042406866\n",
      "Mean Squared Error on Gaussian Process Regression Z Set: 0.02566494269602745\n",
      "Mean Absolute Error on Gaussian Process Regression Z Set: 0.053680581548135396\n",
      "R2 Score on Gaussian Process Regression Z set: 0.9935919406096574\n"
     ]
    },
    {
     "data": {
      "text/plain": "(0.02566494269602745, 0.053680581548135396, 0.9935919406096574)"
     },
     "execution_count": 206,
     "metadata": {},
     "output_type": "execute_result"
    }
   ],
   "source": [
    "from utils.evaluate import evaluate_model\n",
    "\n",
    "evaluate_model(y_test[:, 0], y_pred_x, 'Gaussian Process Regression X')\n",
    "evaluate_model(y_test[:, 1], y_pred_y, 'Gaussian Process Regression Y')\n",
    "evaluate_model(y_test[:, 2], y_pred_z, 'Gaussian Process Regression Z')"
   ],
   "metadata": {
    "collapsed": false,
    "ExecuteTime": {
     "end_time": "2024-03-05T01:23:38.945282500Z",
     "start_time": "2024-03-05T01:23:38.918572700Z"
    }
   },
   "id": "a8d93f7585481952",
   "execution_count": 206
  },
  {
   "cell_type": "markdown",
   "source": [
    "#### 6.1 Visualize the results\n",
    "#### 6.1.1 3D Visualization of the predicted ball trajectory"
   ],
   "metadata": {
    "collapsed": false
   },
   "id": "1502cda8ed30a331"
  },
  {
   "cell_type": "markdown",
   "source": [
    "#### 6.1.2 Gaussian Process In Time with Covariance For Each Dimension"
   ],
   "metadata": {
    "collapsed": false
   },
   "id": "77c06cda105e2046"
  },
  {
   "cell_type": "code",
   "outputs": [
    {
     "ename": "ValueError",
     "evalue": "'y1' is not 1-dimensional",
     "output_type": "error",
     "traceback": [
      "\u001B[1;31m---------------------------------------------------------------------------\u001B[0m",
      "\u001B[1;31mValueError\u001B[0m                                Traceback (most recent call last)",
      "Cell \u001B[1;32mIn[208], line 3\u001B[0m\n\u001B[0;32m      1\u001B[0m \u001B[38;5;28;01mfrom\u001B[39;00m \u001B[38;5;21;01mutils\u001B[39;00m\u001B[38;5;21;01m.\u001B[39;00m\u001B[38;5;21;01mplot_maker_gaussian_process\u001B[39;00m \u001B[38;5;28;01mimport\u001B[39;00m gaussian_process_plot\n\u001B[0;32m      2\u001B[0m \u001B[38;5;66;03m# for the x dimension\u001B[39;00m\n\u001B[1;32m----> 3\u001B[0m \u001B[43mgaussian_process_plot\u001B[49m\u001B[43m(\u001B[49m\u001B[43my_test_x\u001B[49m\u001B[43m,\u001B[49m\u001B[43m \u001B[49m\u001B[43my_pred_x\u001B[49m\u001B[43m,\u001B[49m\u001B[43m \u001B[49m\u001B[43msigma_x\u001B[49m\u001B[43m)\u001B[49m\n",
      "File \u001B[1;32m~\\Desktop\\KDG\\Jaar 3\\The Lab\\ball-tracker\\utils\\plot_maker_gaussian_process.py:12\u001B[0m, in \u001B[0;36mgaussian_process_plot\u001B[1;34m(actual_values, predicted_values, uncertainties, confidence_interval, xlim, ylim)\u001B[0m\n\u001B[0;32m     10\u001B[0m \u001B[38;5;66;03m# Plot the covariance as a shaded area over the entire graph\u001B[39;00m\n\u001B[0;32m     11\u001B[0m x_vals \u001B[38;5;241m=\u001B[39m \u001B[38;5;28mrange\u001B[39m(num_points)\n\u001B[1;32m---> 12\u001B[0m \u001B[43maxs\u001B[49m\u001B[38;5;241;43m.\u001B[39;49m\u001B[43mfill_between\u001B[49m\u001B[43m(\u001B[49m\u001B[43mx_vals\u001B[49m\u001B[43m,\u001B[49m\u001B[43m \u001B[49m\u001B[43mpredicted_values\u001B[49m\u001B[43m \u001B[49m\u001B[38;5;241;43m-\u001B[39;49m\u001B[43m \u001B[49m\u001B[43mconfidence_interval\u001B[49m\u001B[43m \u001B[49m\u001B[38;5;241;43m*\u001B[39;49m\u001B[43m \u001B[49m\u001B[43muncertainties\u001B[49m\u001B[43m,\u001B[49m\n\u001B[0;32m     13\u001B[0m \u001B[43m                 \u001B[49m\u001B[43mpredicted_values\u001B[49m\u001B[43m \u001B[49m\u001B[38;5;241;43m+\u001B[39;49m\u001B[43m \u001B[49m\u001B[43mconfidence_interval\u001B[49m\u001B[43m \u001B[49m\u001B[38;5;241;43m*\u001B[39;49m\u001B[43m \u001B[49m\u001B[43muncertainties\u001B[49m\u001B[43m,\u001B[49m\u001B[43m \u001B[49m\u001B[43mcolor\u001B[49m\u001B[38;5;241;43m=\u001B[39;49m\u001B[38;5;124;43m'\u001B[39;49m\u001B[38;5;124;43mred\u001B[39;49m\u001B[38;5;124;43m'\u001B[39;49m\u001B[43m,\u001B[49m\u001B[43m \u001B[49m\u001B[43malpha\u001B[49m\u001B[38;5;241;43m=\u001B[39;49m\u001B[38;5;241;43m0.2\u001B[39;49m\u001B[43m,\u001B[49m\n\u001B[0;32m     14\u001B[0m \u001B[43m                 \u001B[49m\u001B[43mlabel\u001B[49m\u001B[38;5;241;43m=\u001B[39;49m\u001B[38;5;124;43mf\u001B[39;49m\u001B[38;5;124;43m'\u001B[39;49m\u001B[38;5;124;43mCovariance (\u001B[39;49m\u001B[38;5;132;43;01m{\u001B[39;49;00m\u001B[43m(\u001B[49m\u001B[43mconfidence_interval\u001B[49m\u001B[38;5;250;43m \u001B[39;49m\u001B[38;5;241;43m-\u001B[39;49m\u001B[38;5;250;43m \u001B[39;49m\u001B[38;5;241;43m1\u001B[39;49m\u001B[43m)\u001B[49m\u001B[38;5;250;43m \u001B[39;49m\u001B[38;5;241;43m*\u001B[39;49m\u001B[38;5;250;43m \u001B[39;49m\u001B[38;5;241;43m100\u001B[39;49m\u001B[38;5;132;43;01m}\u001B[39;49;00m\u001B[38;5;124;43m%)\u001B[39;49m\u001B[38;5;124;43m'\u001B[39;49m\u001B[43m)\u001B[49m\n\u001B[0;32m     15\u001B[0m \u001B[38;5;66;03m# Scatter plot for actual and predicted values\u001B[39;00m\n\u001B[0;32m     16\u001B[0m axs\u001B[38;5;241m.\u001B[39mplot(x_vals, actual_values, color\u001B[38;5;241m=\u001B[39m\u001B[38;5;124m'\u001B[39m\u001B[38;5;124mblue\u001B[39m\u001B[38;5;124m'\u001B[39m, label\u001B[38;5;241m=\u001B[39m\u001B[38;5;124m'\u001B[39m\u001B[38;5;124mActual\u001B[39m\u001B[38;5;124m'\u001B[39m, alpha\u001B[38;5;241m=\u001B[39m\u001B[38;5;241m0.7\u001B[39m)\n",
      "File \u001B[1;32m~\\venv\\lib\\site-packages\\matplotlib\\__init__.py:1492\u001B[0m, in \u001B[0;36m_preprocess_data.<locals>.inner\u001B[1;34m(ax, data, *args, **kwargs)\u001B[0m\n\u001B[0;32m   1489\u001B[0m \u001B[38;5;129m@functools\u001B[39m\u001B[38;5;241m.\u001B[39mwraps(func)\n\u001B[0;32m   1490\u001B[0m \u001B[38;5;28;01mdef\u001B[39;00m \u001B[38;5;21minner\u001B[39m(ax, \u001B[38;5;241m*\u001B[39margs, data\u001B[38;5;241m=\u001B[39m\u001B[38;5;28;01mNone\u001B[39;00m, \u001B[38;5;241m*\u001B[39m\u001B[38;5;241m*\u001B[39mkwargs):\n\u001B[0;32m   1491\u001B[0m     \u001B[38;5;28;01mif\u001B[39;00m data \u001B[38;5;129;01mis\u001B[39;00m \u001B[38;5;28;01mNone\u001B[39;00m:\n\u001B[1;32m-> 1492\u001B[0m         \u001B[38;5;28;01mreturn\u001B[39;00m func(ax, \u001B[38;5;241m*\u001B[39m\u001B[38;5;28mmap\u001B[39m(sanitize_sequence, args), \u001B[38;5;241m*\u001B[39m\u001B[38;5;241m*\u001B[39mkwargs)\n\u001B[0;32m   1494\u001B[0m     bound \u001B[38;5;241m=\u001B[39m new_sig\u001B[38;5;241m.\u001B[39mbind(ax, \u001B[38;5;241m*\u001B[39margs, \u001B[38;5;241m*\u001B[39m\u001B[38;5;241m*\u001B[39mkwargs)\n\u001B[0;32m   1495\u001B[0m     auto_label \u001B[38;5;241m=\u001B[39m (bound\u001B[38;5;241m.\u001B[39marguments\u001B[38;5;241m.\u001B[39mget(label_namer)\n\u001B[0;32m   1496\u001B[0m                   \u001B[38;5;129;01mor\u001B[39;00m bound\u001B[38;5;241m.\u001B[39mkwargs\u001B[38;5;241m.\u001B[39mget(label_namer))\n",
      "File \u001B[1;32m~\\venv\\lib\\site-packages\\matplotlib\\axes\\_axes.py:5509\u001B[0m, in \u001B[0;36mAxes.fill_between\u001B[1;34m(self, x, y1, y2, where, interpolate, step, **kwargs)\u001B[0m\n\u001B[0;32m   5507\u001B[0m \u001B[38;5;28;01mdef\u001B[39;00m \u001B[38;5;21mfill_between\u001B[39m(\u001B[38;5;28mself\u001B[39m, x, y1, y2\u001B[38;5;241m=\u001B[39m\u001B[38;5;241m0\u001B[39m, where\u001B[38;5;241m=\u001B[39m\u001B[38;5;28;01mNone\u001B[39;00m, interpolate\u001B[38;5;241m=\u001B[39m\u001B[38;5;28;01mFalse\u001B[39;00m,\n\u001B[0;32m   5508\u001B[0m                  step\u001B[38;5;241m=\u001B[39m\u001B[38;5;28;01mNone\u001B[39;00m, \u001B[38;5;241m*\u001B[39m\u001B[38;5;241m*\u001B[39mkwargs):\n\u001B[1;32m-> 5509\u001B[0m     \u001B[38;5;28;01mreturn\u001B[39;00m \u001B[38;5;28mself\u001B[39m\u001B[38;5;241m.\u001B[39m_fill_between_x_or_y(\n\u001B[0;32m   5510\u001B[0m         \u001B[38;5;124m\"\u001B[39m\u001B[38;5;124mx\u001B[39m\u001B[38;5;124m\"\u001B[39m, x, y1, y2,\n\u001B[0;32m   5511\u001B[0m         where\u001B[38;5;241m=\u001B[39mwhere, interpolate\u001B[38;5;241m=\u001B[39minterpolate, step\u001B[38;5;241m=\u001B[39mstep, \u001B[38;5;241m*\u001B[39m\u001B[38;5;241m*\u001B[39mkwargs)\n",
      "File \u001B[1;32m~\\venv\\lib\\site-packages\\matplotlib\\axes\\_axes.py:5416\u001B[0m, in \u001B[0;36mAxes._fill_between_x_or_y\u001B[1;34m(self, ind_dir, ind, dep1, dep2, where, interpolate, step, **kwargs)\u001B[0m\n\u001B[0;32m   5413\u001B[0m \u001B[38;5;28;01mfor\u001B[39;00m name, array \u001B[38;5;129;01min\u001B[39;00m [\n\u001B[0;32m   5414\u001B[0m         (ind_dir, ind), (\u001B[38;5;124mf\u001B[39m\u001B[38;5;124m\"\u001B[39m\u001B[38;5;132;01m{\u001B[39;00mdep_dir\u001B[38;5;132;01m}\u001B[39;00m\u001B[38;5;124m1\u001B[39m\u001B[38;5;124m\"\u001B[39m, dep1), (\u001B[38;5;124mf\u001B[39m\u001B[38;5;124m\"\u001B[39m\u001B[38;5;132;01m{\u001B[39;00mdep_dir\u001B[38;5;132;01m}\u001B[39;00m\u001B[38;5;124m2\u001B[39m\u001B[38;5;124m\"\u001B[39m, dep2)]:\n\u001B[0;32m   5415\u001B[0m     \u001B[38;5;28;01mif\u001B[39;00m array\u001B[38;5;241m.\u001B[39mndim \u001B[38;5;241m>\u001B[39m \u001B[38;5;241m1\u001B[39m:\n\u001B[1;32m-> 5416\u001B[0m         \u001B[38;5;28;01mraise\u001B[39;00m \u001B[38;5;167;01mValueError\u001B[39;00m(\u001B[38;5;124mf\u001B[39m\u001B[38;5;124m\"\u001B[39m\u001B[38;5;132;01m{\u001B[39;00mname\u001B[38;5;132;01m!r}\u001B[39;00m\u001B[38;5;124m is not 1-dimensional\u001B[39m\u001B[38;5;124m\"\u001B[39m)\n\u001B[0;32m   5418\u001B[0m \u001B[38;5;28;01mif\u001B[39;00m where \u001B[38;5;129;01mis\u001B[39;00m \u001B[38;5;28;01mNone\u001B[39;00m:\n\u001B[0;32m   5419\u001B[0m     where \u001B[38;5;241m=\u001B[39m \u001B[38;5;28;01mTrue\u001B[39;00m\n",
      "\u001B[1;31mValueError\u001B[0m: 'y1' is not 1-dimensional"
     ]
    },
    {
     "data": {
      "text/plain": "<Figure size 1500x500 with 1 Axes>",
      "image/png": "[encoded data removed]"
     },
     "metadata": {},
     "output_type": "display_data"
    }
   ],
   "source": [
    "from utils.plot_maker_gaussian_process import gaussian_process_plot\n",
    "# for the x dimension\n",
    "gaussian_process_plot(y_test_x, y_pred_x, sigma_x)"
   ],
   "metadata": {
    "collapsed": false,
    "ExecuteTime": {
     "end_time": "2024-03-05T01:23:58.825877400Z",
     "start_time": "2024-03-05T01:23:58.512790300Z"
    }
   },
   "id": "e4ee9697eb4df793",
   "execution_count": 208
  },
  {
   "cell_type": "code",
   "outputs": [],
   "source": [
    "# for the y dimension\n",
    "gaussian_process_plot(y_test_y, y_pred_y, sigma_y)"
   ],
   "metadata": {
    "collapsed": false,
    "ExecuteTime": {
     "start_time": "2024-03-05T01:23:40.099669600Z"
    }
   },
   "id": "1f917d560709f876",
   "execution_count": null
  },
  {
   "cell_type": "code",
   "outputs": [],
   "source": [
    "# for the z dimension\n",
    "gaussian_process_plot(y_test_z[:100], y_pred_z[:100], sigma_z[:100])"
   ],
   "metadata": {
    "collapsed": false,
    "ExecuteTime": {
     "end_time": "2024-03-05T01:23:40.102786800Z",
     "start_time": "2024-03-05T01:23:40.100710700Z"
    }
   },
   "id": "3d940fc7618e1557",
   "execution_count": null
  }
 ],
 "metadata": {
  "kernelspec": {
   "display_name": "Python 3",
   "language": "python",
   "name": "python3"
  },
  "language_info": {
   "codemirror_mode": {
    "name": "ipython",
    "version": 2
   },
   "file_extension": ".py",
   "mimetype": "text/x-python",
   "name": "python",
   "nbconvert_exporter": "python",
   "pygments_lexer": "ipython2",
   "version": "2.7.6"
  }
 },
 "nbformat": 4,
 "nbformat_minor": 5
}
