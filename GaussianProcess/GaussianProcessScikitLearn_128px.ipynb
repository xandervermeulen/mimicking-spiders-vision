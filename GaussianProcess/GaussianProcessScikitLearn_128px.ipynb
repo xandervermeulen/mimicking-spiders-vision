{
 "cells": [
  {
   "cell_type": "markdown",
   "source": [
    "## Gaussian Process Regression\n",
    "### 1. Introduction\n",
    "### 2. Data Preparation"
   ],
   "metadata": {
    "collapsed": false
   },
   "id": "fe934d4d875082e7"
  },
  {
   "cell_type": "code",
   "outputs": [],
   "source": [
    "import pandas as pd\n",
    "from sklearn.gaussian_process import GaussianProcessRegressor\n",
    "from sklearn.gaussian_process.kernels import RBF \n",
    "from sklearn.model_selection import train_test_split"
   ],
   "metadata": {
    "collapsed": false,
    "ExecuteTime": {
     "end_time": "2024-02-23T18:23:20.036877500Z",
     "start_time": "2024-02-23T18:23:19.989997700Z"
    }
   },
   "id": "c2a74ef535cfd3",
   "execution_count": 7
  },
  {
   "cell_type": "code",
   "outputs": [
    {
     "data": {
      "text/plain": "              u0          v0         u1         v1         u2         v2  \\\n0            NaN         NaN  45.038462  83.307692  86.925926  39.333333   \n1            NaN         NaN  43.350000  83.850000  87.000000  40.111111   \n2            NaN         NaN  43.791667  84.666667  87.310345  41.034483   \n3            NaN         NaN  43.411765  85.705882  87.400000  41.400000   \n4            NaN         NaN  44.000000  86.285714  87.740741  42.000000   \n...          ...         ...        ...        ...        ...        ...   \n25352  68.500000  118.166667  60.500000  69.000000        NaN        NaN   \n25353  68.500000  118.166667  60.500000  69.000000        NaN        NaN   \n25354  68.571429  118.857143  60.500000  69.000000        NaN        NaN   \n25355  68.571429  118.857143  60.500000  69.000000        NaN        NaN   \n25356  68.571429  118.857143  60.500000  69.000000        NaN        NaN   \n\n               u3          v3    u4    v4         u5         v5    u6     v6  \n0        0.333333   41.500000   NaN   NaN  88.136364  82.727273  68.5  118.5  \n1        0.444444   42.555556   NaN   NaN  89.500000  84.500000  68.5  118.5  \n2        0.444444   43.444444   NaN   NaN  89.473684  85.631579  68.5  118.5  \n3        0.666667   44.500000   NaN   NaN  89.777778  86.500000  68.5  118.5  \n4        1.062500   45.437500   NaN   NaN  89.944444  87.222222  68.5  118.5  \n...           ...         ...   ...   ...        ...        ...   ...    ...  \n25352   86.988235   82.435294  55.0  24.0        NaN        NaN   NaN    NaN  \n25353   92.730337   87.629213  55.0  24.0        NaN        NaN   NaN    NaN  \n25354  110.329545  101.409091  55.0  24.0        NaN        NaN   NaN    NaN  \n25355  104.370787   97.269663  55.0  24.0        NaN        NaN   NaN    NaN  \n25356   98.688889   92.422222  55.0  24.0        NaN        NaN   NaN    NaN  \n\n[25357 rows x 14 columns]",
      "text/html": "<div>\n<style scoped>\n    .dataframe tbody tr th:only-of-type {\n        vertical-align: middle;\n    }\n\n    .dataframe tbody tr th {\n        vertical-align: top;\n    }\n\n    .dataframe thead th {\n        text-align: right;\n    }\n</style>\n<table border=\"1\" class=\"dataframe\">\n  <thead>\n    <tr style=\"text-align: right;\">\n      <th></th>\n      <th>u0</th>\n      <th>v0</th>\n      <th>u1</th>\n      <th>v1</th>\n      <th>u2</th>\n      <th>v2</th>\n      <th>u3</th>\n      <th>v3</th>\n      <th>u4</th>\n      <th>v4</th>\n      <th>u5</th>\n      <th>v5</th>\n      <th>u6</th>\n      <th>v6</th>\n    </tr>\n  </thead>\n  <tbody>\n    <tr>\n      <th>0</th>\n      <td>NaN</td>\n      <td>NaN</td>\n      <td>45.038462</td>\n      <td>83.307692</td>\n      <td>86.925926</td>\n      <td>39.333333</td>\n      <td>0.333333</td>\n      <td>41.500000</td>\n      <td>NaN</td>\n      <td>NaN</td>\n      <td>88.136364</td>\n      <td>82.727273</td>\n      <td>68.5</td>\n      <td>118.5</td>\n    </tr>\n    <tr>\n      <th>1</th>\n      <td>NaN</td>\n      <td>NaN</td>\n      <td>43.350000</td>\n      <td>83.850000</td>\n      <td>87.000000</td>\n      <td>40.111111</td>\n      <td>0.444444</td>\n      <td>42.555556</td>\n      <td>NaN</td>\n      <td>NaN</td>\n      <td>89.500000</td>\n      <td>84.500000</td>\n      <td>68.5</td>\n      <td>118.5</td>\n    </tr>\n    <tr>\n      <th>2</th>\n      <td>NaN</td>\n      <td>NaN</td>\n      <td>43.791667</td>\n      <td>84.666667</td>\n      <td>87.310345</td>\n      <td>41.034483</td>\n      <td>0.444444</td>\n      <td>43.444444</td>\n      <td>NaN</td>\n      <td>NaN</td>\n      <td>89.473684</td>\n      <td>85.631579</td>\n      <td>68.5</td>\n      <td>118.5</td>\n    </tr>\n    <tr>\n      <th>3</th>\n      <td>NaN</td>\n      <td>NaN</td>\n      <td>43.411765</td>\n      <td>85.705882</td>\n      <td>87.400000</td>\n      <td>41.400000</td>\n      <td>0.666667</td>\n      <td>44.500000</td>\n      <td>NaN</td>\n      <td>NaN</td>\n      <td>89.777778</td>\n      <td>86.500000</td>\n      <td>68.5</td>\n      <td>118.5</td>\n    </tr>\n    <tr>\n      <th>4</th>\n      <td>NaN</td>\n      <td>NaN</td>\n      <td>44.000000</td>\n      <td>86.285714</td>\n      <td>87.740741</td>\n      <td>42.000000</td>\n      <td>1.062500</td>\n      <td>45.437500</td>\n      <td>NaN</td>\n      <td>NaN</td>\n      <td>89.944444</td>\n      <td>87.222222</td>\n      <td>68.5</td>\n      <td>118.5</td>\n    </tr>\n    <tr>\n      <th>...</th>\n      <td>...</td>\n      <td>...</td>\n      <td>...</td>\n      <td>...</td>\n      <td>...</td>\n      <td>...</td>\n      <td>...</td>\n      <td>...</td>\n      <td>...</td>\n      <td>...</td>\n      <td>...</td>\n      <td>...</td>\n      <td>...</td>\n      <td>...</td>\n    </tr>\n    <tr>\n      <th>25352</th>\n      <td>68.500000</td>\n      <td>118.166667</td>\n      <td>60.500000</td>\n      <td>69.000000</td>\n      <td>NaN</td>\n      <td>NaN</td>\n      <td>86.988235</td>\n      <td>82.435294</td>\n      <td>55.0</td>\n      <td>24.0</td>\n      <td>NaN</td>\n      <td>NaN</td>\n      <td>NaN</td>\n      <td>NaN</td>\n    </tr>\n    <tr>\n      <th>25353</th>\n      <td>68.500000</td>\n      <td>118.166667</td>\n      <td>60.500000</td>\n      <td>69.000000</td>\n      <td>NaN</td>\n      <td>NaN</td>\n      <td>92.730337</td>\n      <td>87.629213</td>\n      <td>55.0</td>\n      <td>24.0</td>\n      <td>NaN</td>\n      <td>NaN</td>\n      <td>NaN</td>\n      <td>NaN</td>\n    </tr>\n    <tr>\n      <th>25354</th>\n      <td>68.571429</td>\n      <td>118.857143</td>\n      <td>60.500000</td>\n      <td>69.000000</td>\n      <td>NaN</td>\n      <td>NaN</td>\n      <td>110.329545</td>\n      <td>101.409091</td>\n      <td>55.0</td>\n      <td>24.0</td>\n      <td>NaN</td>\n      <td>NaN</td>\n      <td>NaN</td>\n      <td>NaN</td>\n    </tr>\n    <tr>\n      <th>25355</th>\n      <td>68.571429</td>\n      <td>118.857143</td>\n      <td>60.500000</td>\n      <td>69.000000</td>\n      <td>NaN</td>\n      <td>NaN</td>\n      <td>104.370787</td>\n      <td>97.269663</td>\n      <td>55.0</td>\n      <td>24.0</td>\n      <td>NaN</td>\n      <td>NaN</td>\n      <td>NaN</td>\n      <td>NaN</td>\n    </tr>\n    <tr>\n      <th>25356</th>\n      <td>68.571429</td>\n      <td>118.857143</td>\n      <td>60.500000</td>\n      <td>69.000000</td>\n      <td>NaN</td>\n      <td>NaN</td>\n      <td>98.688889</td>\n      <td>92.422222</td>\n      <td>55.0</td>\n      <td>24.0</td>\n      <td>NaN</td>\n      <td>NaN</td>\n      <td>NaN</td>\n      <td>NaN</td>\n    </tr>\n  </tbody>\n</table>\n<p>25357 rows × 14 columns</p>\n</div>"
     },
     "execution_count": 8,
     "metadata": {},
     "output_type": "execute_result"
    }
   ],
   "source": [
    "# pandas will automatically convert the 'NaN' values to np.nan\n",
    "red_ball_coordinates = pd.read_csv('../data/red_ball_coordinates_128px_full.csv', delimiter=',')\n",
    "red_ball_coordinates"
   ],
   "metadata": {
    "collapsed": false,
    "ExecuteTime": {
     "end_time": "2024-02-23T18:23:20.052813600Z",
     "start_time": "2024-02-23T18:23:20.007576400Z"
    }
   },
   "id": "fab9dba0b86fdb50",
   "execution_count": 8
  },
  {
   "cell_type": "code",
   "outputs": [
    {
     "data": {
      "text/plain": "               x         y          z\n0      10.138330  3.169981  15.099980\n1      10.133340  3.269852  15.199850\n2      10.125010  3.369500  15.299500\n3      10.113370  3.468816  15.398820\n4      10.098430  3.567688  15.497690\n...          ...       ...        ...\n25352   5.115520  4.872968   9.123255\n25353   4.845301  5.128964   8.955405\n25354   4.577969  5.373679   8.790463\n25355   4.314191  5.604666   8.628434\n25356   3.691155  6.095557   8.246799\n\n[25357 rows x 3 columns]",
      "text/html": "<div>\n<style scoped>\n    .dataframe tbody tr th:only-of-type {\n        vertical-align: middle;\n    }\n\n    .dataframe tbody tr th {\n        vertical-align: top;\n    }\n\n    .dataframe thead th {\n        text-align: right;\n    }\n</style>\n<table border=\"1\" class=\"dataframe\">\n  <thead>\n    <tr style=\"text-align: right;\">\n      <th></th>\n      <th>x</th>\n      <th>y</th>\n      <th>z</th>\n    </tr>\n  </thead>\n  <tbody>\n    <tr>\n      <th>0</th>\n      <td>10.138330</td>\n      <td>3.169981</td>\n      <td>15.099980</td>\n    </tr>\n    <tr>\n      <th>1</th>\n      <td>10.133340</td>\n      <td>3.269852</td>\n      <td>15.199850</td>\n    </tr>\n    <tr>\n      <th>2</th>\n      <td>10.125010</td>\n      <td>3.369500</td>\n      <td>15.299500</td>\n    </tr>\n    <tr>\n      <th>3</th>\n      <td>10.113370</td>\n      <td>3.468816</td>\n      <td>15.398820</td>\n    </tr>\n    <tr>\n      <th>4</th>\n      <td>10.098430</td>\n      <td>3.567688</td>\n      <td>15.497690</td>\n    </tr>\n    <tr>\n      <th>...</th>\n      <td>...</td>\n      <td>...</td>\n      <td>...</td>\n    </tr>\n    <tr>\n      <th>25352</th>\n      <td>5.115520</td>\n      <td>4.872968</td>\n      <td>9.123255</td>\n    </tr>\n    <tr>\n      <th>25353</th>\n      <td>4.845301</td>\n      <td>5.128964</td>\n      <td>8.955405</td>\n    </tr>\n    <tr>\n      <th>25354</th>\n      <td>4.577969</td>\n      <td>5.373679</td>\n      <td>8.790463</td>\n    </tr>\n    <tr>\n      <th>25355</th>\n      <td>4.314191</td>\n      <td>5.604666</td>\n      <td>8.628434</td>\n    </tr>\n    <tr>\n      <th>25356</th>\n      <td>3.691155</td>\n      <td>6.095557</td>\n      <td>8.246799</td>\n    </tr>\n  </tbody>\n</table>\n<p>25357 rows × 3 columns</p>\n</div>"
     },
     "execution_count": 9,
     "metadata": {},
     "output_type": "execute_result"
    }
   ],
   "source": [
    "xyz_coordinates = pd.read_csv('../data/positions_xyz_128px_full.csv', delimiter=',')\n",
    "xyz_coordinates"
   ],
   "metadata": {
    "collapsed": false,
    "ExecuteTime": {
     "end_time": "2024-02-23T18:23:20.063285400Z",
     "start_time": "2024-02-23T18:23:20.043194500Z"
    }
   },
   "id": "eb95a22ef7a50fea",
   "execution_count": 9
  },
  {
   "cell_type": "code",
   "outputs": [
    {
     "data": {
      "text/plain": "               x         y          z\n0      10.138330  3.169981  15.099980\n1      10.133340  3.269852  15.199850\n2      10.125010  3.369500  15.299500\n3      10.113370  3.468816  15.398820\n4      10.098430  3.567688  15.497690\n...          ...       ...        ...\n25352   5.115520  4.872968   9.123255\n25353   4.845301  5.128964   8.955405\n25354   4.577969  5.373679   8.790463\n25355   4.314191  5.604666   8.628434\n25356   3.691155  6.095557   8.246799\n\n[25357 rows x 3 columns]",
      "text/html": "<div>\n<style scoped>\n    .dataframe tbody tr th:only-of-type {\n        vertical-align: middle;\n    }\n\n    .dataframe tbody tr th {\n        vertical-align: top;\n    }\n\n    .dataframe thead th {\n        text-align: right;\n    }\n</style>\n<table border=\"1\" class=\"dataframe\">\n  <thead>\n    <tr style=\"text-align: right;\">\n      <th></th>\n      <th>x</th>\n      <th>y</th>\n      <th>z</th>\n    </tr>\n  </thead>\n  <tbody>\n    <tr>\n      <th>0</th>\n      <td>10.138330</td>\n      <td>3.169981</td>\n      <td>15.099980</td>\n    </tr>\n    <tr>\n      <th>1</th>\n      <td>10.133340</td>\n      <td>3.269852</td>\n      <td>15.199850</td>\n    </tr>\n    <tr>\n      <th>2</th>\n      <td>10.125010</td>\n      <td>3.369500</td>\n      <td>15.299500</td>\n    </tr>\n    <tr>\n      <th>3</th>\n      <td>10.113370</td>\n      <td>3.468816</td>\n      <td>15.398820</td>\n    </tr>\n    <tr>\n      <th>4</th>\n      <td>10.098430</td>\n      <td>3.567688</td>\n      <td>15.497690</td>\n    </tr>\n    <tr>\n      <th>...</th>\n      <td>...</td>\n      <td>...</td>\n      <td>...</td>\n    </tr>\n    <tr>\n      <th>25352</th>\n      <td>5.115520</td>\n      <td>4.872968</td>\n      <td>9.123255</td>\n    </tr>\n    <tr>\n      <th>25353</th>\n      <td>4.845301</td>\n      <td>5.128964</td>\n      <td>8.955405</td>\n    </tr>\n    <tr>\n      <th>25354</th>\n      <td>4.577969</td>\n      <td>5.373679</td>\n      <td>8.790463</td>\n    </tr>\n    <tr>\n      <th>25355</th>\n      <td>4.314191</td>\n      <td>5.604666</td>\n      <td>8.628434</td>\n    </tr>\n    <tr>\n      <th>25356</th>\n      <td>3.691155</td>\n      <td>6.095557</td>\n      <td>8.246799</td>\n    </tr>\n  </tbody>\n</table>\n<p>25357 rows × 3 columns</p>\n</div>"
     },
     "execution_count": 10,
     "metadata": {},
     "output_type": "execute_result"
    }
   ],
   "source": [
    "xyz_coordinates = xyz_coordinates.reset_index(drop=True)\n",
    "xyz_coordinates"
   ],
   "metadata": {
    "collapsed": false,
    "ExecuteTime": {
     "end_time": "2024-02-23T18:23:20.098330100Z",
     "start_time": "2024-02-23T18:23:20.059091400Z"
    }
   },
   "id": "56f9135d99df7ead",
   "execution_count": 10
  },
  {
   "cell_type": "code",
   "outputs": [
    {
     "data": {
      "text/plain": "              u0          v0         u1         v1         u2         v2  \\\n0            NaN         NaN  45.038462  83.307692  86.925926  39.333333   \n1            NaN         NaN  43.350000  83.850000  87.000000  40.111111   \n2            NaN         NaN  43.791667  84.666667  87.310345  41.034483   \n3            NaN         NaN  43.411765  85.705882  87.400000  41.400000   \n4            NaN         NaN  44.000000  86.285714  87.740741  42.000000   \n...          ...         ...        ...        ...        ...        ...   \n25352  68.500000  118.166667  60.500000  69.000000        NaN        NaN   \n25353  68.500000  118.166667  60.500000  69.000000        NaN        NaN   \n25354  68.571429  118.857143  60.500000  69.000000        NaN        NaN   \n25355  68.571429  118.857143  60.500000  69.000000        NaN        NaN   \n25356  68.571429  118.857143  60.500000  69.000000        NaN        NaN   \n\n               u3          v3    u4    v4         u5         v5    u6     v6  \\\n0        0.333333   41.500000   NaN   NaN  88.136364  82.727273  68.5  118.5   \n1        0.444444   42.555556   NaN   NaN  89.500000  84.500000  68.5  118.5   \n2        0.444444   43.444444   NaN   NaN  89.473684  85.631579  68.5  118.5   \n3        0.666667   44.500000   NaN   NaN  89.777778  86.500000  68.5  118.5   \n4        1.062500   45.437500   NaN   NaN  89.944444  87.222222  68.5  118.5   \n...           ...         ...   ...   ...        ...        ...   ...    ...   \n25352   86.988235   82.435294  55.0  24.0        NaN        NaN   NaN    NaN   \n25353   92.730337   87.629213  55.0  24.0        NaN        NaN   NaN    NaN   \n25354  110.329545  101.409091  55.0  24.0        NaN        NaN   NaN    NaN   \n25355  104.370787   97.269663  55.0  24.0        NaN        NaN   NaN    NaN   \n25356   98.688889   92.422222  55.0  24.0        NaN        NaN   NaN    NaN   \n\n               x         y          z  \n0      10.138330  3.169981  15.099980  \n1      10.133340  3.269852  15.199850  \n2      10.125010  3.369500  15.299500  \n3      10.113370  3.468816  15.398820  \n4      10.098430  3.567688  15.497690  \n...          ...       ...        ...  \n25352   5.115520  4.872968   9.123255  \n25353   4.845301  5.128964   8.955405  \n25354   4.577969  5.373679   8.790463  \n25355   4.314191  5.604666   8.628434  \n25356   3.691155  6.095557   8.246799  \n\n[25357 rows x 17 columns]",
      "text/html": "<div>\n<style scoped>\n    .dataframe tbody tr th:only-of-type {\n        vertical-align: middle;\n    }\n\n    .dataframe tbody tr th {\n        vertical-align: top;\n    }\n\n    .dataframe thead th {\n        text-align: right;\n    }\n</style>\n<table border=\"1\" class=\"dataframe\">\n  <thead>\n    <tr style=\"text-align: right;\">\n      <th></th>\n      <th>u0</th>\n      <th>v0</th>\n      <th>u1</th>\n      <th>v1</th>\n      <th>u2</th>\n      <th>v2</th>\n      <th>u3</th>\n      <th>v3</th>\n      <th>u4</th>\n      <th>v4</th>\n      <th>u5</th>\n      <th>v5</th>\n      <th>u6</th>\n      <th>v6</th>\n      <th>x</th>\n      <th>y</th>\n      <th>z</th>\n    </tr>\n  </thead>\n  <tbody>\n    <tr>\n      <th>0</th>\n      <td>NaN</td>\n      <td>NaN</td>\n      <td>45.038462</td>\n      <td>83.307692</td>\n      <td>86.925926</td>\n      <td>39.333333</td>\n      <td>0.333333</td>\n      <td>41.500000</td>\n      <td>NaN</td>\n      <td>NaN</td>\n      <td>88.136364</td>\n      <td>82.727273</td>\n      <td>68.5</td>\n      <td>118.5</td>\n      <td>10.138330</td>\n      <td>3.169981</td>\n      <td>15.099980</td>\n    </tr>\n    <tr>\n      <th>1</th>\n      <td>NaN</td>\n      <td>NaN</td>\n      <td>43.350000</td>\n      <td>83.850000</td>\n      <td>87.000000</td>\n      <td>40.111111</td>\n      <td>0.444444</td>\n      <td>42.555556</td>\n      <td>NaN</td>\n      <td>NaN</td>\n      <td>89.500000</td>\n      <td>84.500000</td>\n      <td>68.5</td>\n      <td>118.5</td>\n      <td>10.133340</td>\n      <td>3.269852</td>\n      <td>15.199850</td>\n    </tr>\n    <tr>\n      <th>2</th>\n      <td>NaN</td>\n      <td>NaN</td>\n      <td>43.791667</td>\n      <td>84.666667</td>\n      <td>87.310345</td>\n      <td>41.034483</td>\n      <td>0.444444</td>\n      <td>43.444444</td>\n      <td>NaN</td>\n      <td>NaN</td>\n      <td>89.473684</td>\n      <td>85.631579</td>\n      <td>68.5</td>\n      <td>118.5</td>\n      <td>10.125010</td>\n      <td>3.369500</td>\n      <td>15.299500</td>\n    </tr>\n    <tr>\n      <th>3</th>\n      <td>NaN</td>\n      <td>NaN</td>\n      <td>43.411765</td>\n      <td>85.705882</td>\n      <td>87.400000</td>\n      <td>41.400000</td>\n      <td>0.666667</td>\n      <td>44.500000</td>\n      <td>NaN</td>\n      <td>NaN</td>\n      <td>89.777778</td>\n      <td>86.500000</td>\n      <td>68.5</td>\n      <td>118.5</td>\n      <td>10.113370</td>\n      <td>3.468816</td>\n      <td>15.398820</td>\n    </tr>\n    <tr>\n      <th>4</th>\n      <td>NaN</td>\n      <td>NaN</td>\n      <td>44.000000</td>\n      <td>86.285714</td>\n      <td>87.740741</td>\n      <td>42.000000</td>\n      <td>1.062500</td>\n      <td>45.437500</td>\n      <td>NaN</td>\n      <td>NaN</td>\n      <td>89.944444</td>\n      <td>87.222222</td>\n      <td>68.5</td>\n      <td>118.5</td>\n      <td>10.098430</td>\n      <td>3.567688</td>\n      <td>15.497690</td>\n    </tr>\n    <tr>\n      <th>...</th>\n      <td>...</td>\n      <td>...</td>\n      <td>...</td>\n      <td>...</td>\n      <td>...</td>\n      <td>...</td>\n      <td>...</td>\n      <td>...</td>\n      <td>...</td>\n      <td>...</td>\n      <td>...</td>\n      <td>...</td>\n      <td>...</td>\n      <td>...</td>\n      <td>...</td>\n      <td>...</td>\n      <td>...</td>\n    </tr>\n    <tr>\n      <th>25352</th>\n      <td>68.500000</td>\n      <td>118.166667</td>\n      <td>60.500000</td>\n      <td>69.000000</td>\n      <td>NaN</td>\n      <td>NaN</td>\n      <td>86.988235</td>\n      <td>82.435294</td>\n      <td>55.0</td>\n      <td>24.0</td>\n      <td>NaN</td>\n      <td>NaN</td>\n      <td>NaN</td>\n      <td>NaN</td>\n      <td>5.115520</td>\n      <td>4.872968</td>\n      <td>9.123255</td>\n    </tr>\n    <tr>\n      <th>25353</th>\n      <td>68.500000</td>\n      <td>118.166667</td>\n      <td>60.500000</td>\n      <td>69.000000</td>\n      <td>NaN</td>\n      <td>NaN</td>\n      <td>92.730337</td>\n      <td>87.629213</td>\n      <td>55.0</td>\n      <td>24.0</td>\n      <td>NaN</td>\n      <td>NaN</td>\n      <td>NaN</td>\n      <td>NaN</td>\n      <td>4.845301</td>\n      <td>5.128964</td>\n      <td>8.955405</td>\n    </tr>\n    <tr>\n      <th>25354</th>\n      <td>68.571429</td>\n      <td>118.857143</td>\n      <td>60.500000</td>\n      <td>69.000000</td>\n      <td>NaN</td>\n      <td>NaN</td>\n      <td>110.329545</td>\n      <td>101.409091</td>\n      <td>55.0</td>\n      <td>24.0</td>\n      <td>NaN</td>\n      <td>NaN</td>\n      <td>NaN</td>\n      <td>NaN</td>\n      <td>4.577969</td>\n      <td>5.373679</td>\n      <td>8.790463</td>\n    </tr>\n    <tr>\n      <th>25355</th>\n      <td>68.571429</td>\n      <td>118.857143</td>\n      <td>60.500000</td>\n      <td>69.000000</td>\n      <td>NaN</td>\n      <td>NaN</td>\n      <td>104.370787</td>\n      <td>97.269663</td>\n      <td>55.0</td>\n      <td>24.0</td>\n      <td>NaN</td>\n      <td>NaN</td>\n      <td>NaN</td>\n      <td>NaN</td>\n      <td>4.314191</td>\n      <td>5.604666</td>\n      <td>8.628434</td>\n    </tr>\n    <tr>\n      <th>25356</th>\n      <td>68.571429</td>\n      <td>118.857143</td>\n      <td>60.500000</td>\n      <td>69.000000</td>\n      <td>NaN</td>\n      <td>NaN</td>\n      <td>98.688889</td>\n      <td>92.422222</td>\n      <td>55.0</td>\n      <td>24.0</td>\n      <td>NaN</td>\n      <td>NaN</td>\n      <td>NaN</td>\n      <td>NaN</td>\n      <td>3.691155</td>\n      <td>6.095557</td>\n      <td>8.246799</td>\n    </tr>\n  </tbody>\n</table>\n<p>25357 rows × 17 columns</p>\n</div>"
     },
     "execution_count": 11,
     "metadata": {},
     "output_type": "execute_result"
    }
   ],
   "source": [
    "combined_data = []\n",
    "# combine the two dataframes\n",
    "if red_ball_coordinates.shape[0] == xyz_coordinates.shape[0]:\n",
    "    combined_data = pd.concat([red_ball_coordinates, xyz_coordinates], axis=1)\n",
    "combined_data"
   ],
   "metadata": {
    "collapsed": false,
    "ExecuteTime": {
     "end_time": "2024-02-23T18:23:20.148134Z",
     "start_time": "2024-02-23T18:23:20.074859800Z"
    }
   },
   "id": "4fa77d6fbb4c017f",
   "execution_count": 11
  },
  {
   "cell_type": "markdown",
   "source": [
    "### 3. Data Preprocessing"
   ],
   "metadata": {
    "collapsed": false
   },
   "id": "5f0927113e71fc78"
  },
  {
   "cell_type": "code",
   "outputs": [],
   "source": [
    "# split into features and target\n",
    "X = combined_data.iloc[:, :14]\n",
    "y = combined_data.iloc[:, 14:]"
   ],
   "metadata": {
    "collapsed": false,
    "ExecuteTime": {
     "end_time": "2024-02-23T18:23:20.181583700Z",
     "start_time": "2024-02-23T18:23:20.089960600Z"
    }
   },
   "id": "e0150d0e5e032a12",
   "execution_count": 12
  },
  {
   "cell_type": "code",
   "outputs": [],
   "source": [
    "from sklearn.impute import SimpleImputer\n",
    "# scale the features and the target\n",
    "from sklearn.preprocessing import StandardScaler"
   ],
   "metadata": {
    "collapsed": false,
    "ExecuteTime": {
     "end_time": "2024-02-23T18:23:20.337139600Z",
     "start_time": "2024-02-23T18:23:20.105743300Z"
    }
   },
   "id": "f3178a8a726c046b",
   "execution_count": 13
  },
  {
   "cell_type": "markdown",
   "source": [
    "#### 3.1. Impute the NaN values with mean SimpleImputer"
   ],
   "metadata": {
    "collapsed": false
   },
   "id": "66f36d1a0e968ef8"
  },
  {
   "cell_type": "code",
   "outputs": [],
   "source": [
    "imputer = SimpleImputer(strategy='mean')\n",
    "X_imputed_mean = imputer.fit_transform(X)\n",
    "y_imputed_mean = imputer.fit_transform(y)"
   ],
   "metadata": {
    "collapsed": false,
    "ExecuteTime": {
     "end_time": "2024-02-23T18:23:20.355467500Z",
     "start_time": "2024-02-23T18:23:20.339306400Z"
    }
   },
   "id": "7824e788630367df",
   "execution_count": 14
  },
  {
   "cell_type": "markdown",
   "source": [
    "#### 3.2. Impute the NaN values with median SimpleImputer"
   ],
   "metadata": {
    "collapsed": false
   },
   "id": "2f4e1ccc52126ec7"
  },
  {
   "cell_type": "code",
   "outputs": [],
   "source": [
    "imputer = SimpleImputer(strategy='median')\n",
    "X_imputed_median = imputer.fit_transform(X)\n",
    "y_imputed_median = imputer.fit_transform(y)"
   ],
   "metadata": {
    "collapsed": false,
    "ExecuteTime": {
     "end_time": "2024-02-23T18:23:20.385439300Z",
     "start_time": "2024-02-23T18:23:20.356531200Z"
    }
   },
   "id": "aa8f9af7aa94412e",
   "execution_count": 15
  },
  {
   "cell_type": "markdown",
   "source": [
    "### 3.3. Impute the NaN values with KNNImputer"
   ],
   "metadata": {
    "collapsed": false
   },
   "id": "ca5af93324f77f4d"
  },
  {
   "cell_type": "code",
   "outputs": [],
   "source": [
    "from sklearn.impute import KNNImputer\n",
    "\n",
    "imputer = KNNImputer(n_neighbors=5)\n",
    "X_imputed_knn = imputer.fit_transform(X)"
   ],
   "metadata": {
    "collapsed": false,
    "ExecuteTime": {
     "end_time": "2024-02-23T18:23:53.047910500Z",
     "start_time": "2024-02-23T18:23:20.386485800Z"
    }
   },
   "id": "56f0d35d1de26913",
   "execution_count": 16
  },
  {
   "cell_type": "markdown",
   "source": [
    "### 4. Gaussian Process Regression"
   ],
   "metadata": {
    "collapsed": false
   },
   "id": "398332ca552f241d"
  },
  {
   "cell_type": "code",
   "outputs": [],
   "source": [
    "X_train, X_test, y_train, y_test = train_test_split(X_imputed_mean, y, test_size=0.2, random_state=42)\n",
    "scaler_X = StandardScaler()\n",
    "scaler_y = StandardScaler()\n",
    "kernel = 1.0 * RBF(length_scale=1.0, length_scale_bounds=(1e-5, 1e5))\n",
    "gp = GaussianProcessRegressor(kernel=kernel, n_restarts_optimizer=20)"
   ],
   "metadata": {
    "collapsed": false,
    "ExecuteTime": {
     "end_time": "2024-02-23T18:23:53.063911200Z",
     "start_time": "2024-02-23T18:23:53.048934300Z"
    }
   },
   "id": "45d2c94c40133cb6",
   "execution_count": 17
  },
  {
   "cell_type": "code",
   "outputs": [
    {
     "name": "stderr",
     "output_type": "stream",
     "text": [
      "C:\\Users\\xande\\venv\\lib\\site-packages\\sklearn\\gaussian_process\\_gpr.py:663: ConvergenceWarning: lbfgs failed to converge (status=2):\n",
      "ABNORMAL_TERMINATION_IN_LNSRCH.\n",
      "\n",
      "Increase the number of iterations (max_iter) or scale the data as shown in:\n",
      "    https://scikit-learn.org/stable/modules/preprocessing.html\n",
      "  _check_optimize_result(\"lbfgs\", opt_res)\n"
     ]
    }
   ],
   "source": [
    "X_scaled_train = scaler_X.fit_transform(X_train)\n",
    "y_scaled_train = scaler_y.fit_transform(y_train)\n",
    "\n",
    "gp.fit(X_scaled_train, y_scaled_train)"
   ],
   "metadata": {
    "collapsed": false,
    "is_executing": true,
    "ExecuteTime": {
     "start_time": "2024-02-23T18:23:53.062812900Z"
    }
   },
   "id": "fb6cd4bb1978490",
   "execution_count": null
  },
  {
   "cell_type": "markdown",
   "source": [
    "### 5. Predictions"
   ],
   "metadata": {
    "collapsed": false
   },
   "id": "7fb551801147f6f3"
  },
  {
   "cell_type": "code",
   "outputs": [],
   "source": [
    "X_test_scaled = scaler_X.transform(X_test)\n",
    "y_pred, sigma = gp.predict(X_test_scaled, return_std=True)\n",
    "y_pred = scaler_y.inverse_transform(y_pred)\n",
    "y_pred"
   ],
   "metadata": {
    "collapsed": false,
    "is_executing": true
   },
   "id": "42cd6f5ed8778a28",
   "execution_count": null
  },
  {
   "cell_type": "markdown",
   "source": [
    "### 6. Conclusion"
   ],
   "metadata": {
    "collapsed": false
   },
   "id": "7d0191e68e541cf6"
  },
  {
   "cell_type": "code",
   "outputs": [],
   "source": [
    "from sklearn.metrics import mean_squared_error, mean_absolute_error, r2_score\n",
    "\n",
    "print(f'R2 Squared: {r2_score(y_test, y_pred)}')\n",
    "print(f'MSE: {mean_squared_error(y_test, y_pred)}')\n",
    "print(f'MAE: {mean_absolute_error(y_test, y_pred)}')    "
   ],
   "metadata": {
    "collapsed": false,
    "is_executing": true
   },
   "id": "a8d93f7585481952",
   "execution_count": null
  },
  {
   "cell_type": "markdown",
   "source": [
    "#### 6.1 Visualize the results\n",
    "#### 6.1.1 3D Visualization of the predicted ball trajectory"
   ],
   "metadata": {
    "collapsed": false
   },
   "id": "1502cda8ed30a331"
  },
  {
   "cell_type": "code",
   "outputs": [],
   "source": [
    "from utils.plot_maker_gaussian_process import plot_maker_3d\n",
    "import numpy as np\n",
    "\n",
    "plot_maker_3d(np.array(y_test), np.array(y_pred), '3d Scatter plot subset 1')\n",
    "plot_maker_3d(np.array(y_test[100:120]), np.array(y_pred[100:120]), '3d Scatter plot subset 2')\n",
    "plot_maker_3d(np.array(y_test[200:220]), np.array(y_pred[200:220]),'3d Scatter plot subset 3')"
   ],
   "metadata": {
    "collapsed": false,
    "is_executing": true
   },
   "id": "67d2e6931df37bca",
   "execution_count": null
  },
  {
   "cell_type": "code",
   "outputs": [],
   "source": [
    "# Get the data for each dimension (x, y, z)\n",
    "y_pred_x, y_pred_y, y_pred_z = y_pred[:, 0], y_pred[:, 1], y_pred[:, 2]\n",
    "sigma_x, sigma_y, sigma_z = sigma[:, 0], sigma[:, 1], sigma[:, 2]\n",
    "y_test_x, y_test_y, y_test_z = y_test[:, 0], y_test[:, 1], y_test[:, 2]"
   ],
   "metadata": {
    "collapsed": false,
    "is_executing": true
   },
   "id": "175f28572e06a28",
   "execution_count": null
  },
  {
   "cell_type": "markdown",
   "source": [
    "#### 6.1.2 Gaussian Process In Time with Covariance For Each Dimension"
   ],
   "metadata": {
    "collapsed": false
   },
   "id": "77c06cda105e2046"
  },
  {
   "cell_type": "code",
   "outputs": [],
   "source": [
    "from utils.plot_maker_gaussian_process import gaussian_process_plot\n",
    "# for the x dimension\n",
    "gaussian_process_plot(y_test_x[:100], y_pred_x[:100], sigma_x[:100])"
   ],
   "metadata": {
    "collapsed": false,
    "is_executing": true
   },
   "id": "e4ee9697eb4df793",
   "execution_count": null
  },
  {
   "cell_type": "code",
   "outputs": [],
   "source": [
    "# for the y dimension\n",
    "gaussian_process_plot(y_test_y[:100], y_pred_y[:100], sigma_y[:100])"
   ],
   "metadata": {
    "collapsed": false,
    "is_executing": true
   },
   "id": "1f917d560709f876",
   "execution_count": null
  },
  {
   "cell_type": "code",
   "outputs": [],
   "source": [
    "# for the z dimension\n",
    "gaussian_process_plot(y_test_z[:100], y_pred_z[:100], sigma_z[:100])"
   ],
   "metadata": {
    "collapsed": false,
    "is_executing": true
   },
   "id": "3d940fc7618e1557",
   "execution_count": null
  }
 ],
 "metadata": {
  "kernelspec": {
   "display_name": "Python 3",
   "language": "python",
   "name": "python3"
  },
  "language_info": {
   "codemirror_mode": {
    "name": "ipython",
    "version": 2
   },
   "file_extension": ".py",
   "mimetype": "text/x-python",
   "name": "python",
   "nbconvert_exporter": "python",
   "pygments_lexer": "ipython2",
   "version": "2.7.6"
  }
 },
 "nbformat": 4,
 "nbformat_minor": 5
}
