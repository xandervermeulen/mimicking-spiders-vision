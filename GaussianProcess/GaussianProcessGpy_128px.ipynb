{
 "cells": [
  {
   "cell_type": "markdown",
   "source": [
    "## Gaussian Process Regression wit GPy"
   ],
   "metadata": {
    "collapsed": false
   },
   "id": "454c48f2bec89d34"
  },
  {
   "cell_type": "code",
   "execution_count": 13,
   "id": "initial_id",
   "metadata": {
    "collapsed": true,
    "ExecuteTime": {
     "end_time": "2024-02-22T17:11:47.222376100Z",
     "start_time": "2024-02-22T17:11:47.150724800Z"
    }
   },
   "outputs": [],
   "source": [
    "import pandas as pd"
   ]
  },
  {
   "cell_type": "markdown",
   "source": [
    "### 1. Read the data"
   ],
   "metadata": {
    "collapsed": false
   },
   "id": "514d907659faea7d"
  },
  {
   "cell_type": "code",
   "outputs": [
    {
     "data": {
      "text/plain": "               x         y          z\n0      10.138330  3.169981  15.099980\n1      10.133340  3.269852  15.199850\n2      10.125010  3.369500  15.299500\n3      10.113370  3.468816  15.398820\n4      10.098430  3.567688  15.497690\n...          ...       ...        ...\n25352   5.115520  4.872968   9.123255\n25353   4.845301  5.128964   8.955405\n25354   4.577969  5.373679   8.790463\n25355   4.314191  5.604666   8.628434\n25356   3.691155  6.095557   8.246799\n\n[25357 rows x 3 columns]",
      "text/html": "<div>\n<style scoped>\n    .dataframe tbody tr th:only-of-type {\n        vertical-align: middle;\n    }\n\n    .dataframe tbody tr th {\n        vertical-align: top;\n    }\n\n    .dataframe thead th {\n        text-align: right;\n    }\n</style>\n<table border=\"1\" class=\"dataframe\">\n  <thead>\n    <tr style=\"text-align: right;\">\n      <th></th>\n      <th>x</th>\n      <th>y</th>\n      <th>z</th>\n    </tr>\n  </thead>\n  <tbody>\n    <tr>\n      <th>0</th>\n      <td>10.138330</td>\n      <td>3.169981</td>\n      <td>15.099980</td>\n    </tr>\n    <tr>\n      <th>1</th>\n      <td>10.133340</td>\n      <td>3.269852</td>\n      <td>15.199850</td>\n    </tr>\n    <tr>\n      <th>2</th>\n      <td>10.125010</td>\n      <td>3.369500</td>\n      <td>15.299500</td>\n    </tr>\n    <tr>\n      <th>3</th>\n      <td>10.113370</td>\n      <td>3.468816</td>\n      <td>15.398820</td>\n    </tr>\n    <tr>\n      <th>4</th>\n      <td>10.098430</td>\n      <td>3.567688</td>\n      <td>15.497690</td>\n    </tr>\n    <tr>\n      <th>...</th>\n      <td>...</td>\n      <td>...</td>\n      <td>...</td>\n    </tr>\n    <tr>\n      <th>25352</th>\n      <td>5.115520</td>\n      <td>4.872968</td>\n      <td>9.123255</td>\n    </tr>\n    <tr>\n      <th>25353</th>\n      <td>4.845301</td>\n      <td>5.128964</td>\n      <td>8.955405</td>\n    </tr>\n    <tr>\n      <th>25354</th>\n      <td>4.577969</td>\n      <td>5.373679</td>\n      <td>8.790463</td>\n    </tr>\n    <tr>\n      <th>25355</th>\n      <td>4.314191</td>\n      <td>5.604666</td>\n      <td>8.628434</td>\n    </tr>\n    <tr>\n      <th>25356</th>\n      <td>3.691155</td>\n      <td>6.095557</td>\n      <td>8.246799</td>\n    </tr>\n  </tbody>\n</table>\n<p>25357 rows × 3 columns</p>\n</div>"
     },
     "execution_count": 14,
     "metadata": {},
     "output_type": "execute_result"
    }
   ],
   "source": [
    "all_positions = pd.read_csv('data/positions_xyz_128px_full.csv', delimiter=',')\n",
    "all_positions"
   ],
   "metadata": {
    "collapsed": false,
    "ExecuteTime": {
     "end_time": "2024-02-22T17:11:47.274982500Z",
     "start_time": "2024-02-22T17:11:47.226664500Z"
    }
   },
   "id": "f6e0230506fb35d7",
   "execution_count": 14
  },
  {
   "cell_type": "code",
   "outputs": [
    {
     "data": {
      "text/plain": "              u0          v0         u1         v1         u2         v2  \\\n0            NaN         NaN  45.038462  83.307692  86.925926  39.333333   \n1            NaN         NaN  43.350000  83.850000  87.000000  40.111111   \n2            NaN         NaN  43.791667  84.666667  87.310345  41.034483   \n3            NaN         NaN  43.411765  85.705882  87.400000  41.400000   \n4            NaN         NaN  44.000000  86.285714  87.740741  42.000000   \n...          ...         ...        ...        ...        ...        ...   \n25352  68.500000  118.166667  60.500000  69.000000        NaN        NaN   \n25353  68.500000  118.166667  60.500000  69.000000        NaN        NaN   \n25354  68.571429  118.857143  60.500000  69.000000        NaN        NaN   \n25355  68.571429  118.857143  60.500000  69.000000        NaN        NaN   \n25356  68.571429  118.857143  60.500000  69.000000        NaN        NaN   \n\n               u3          v3    u4    v4         u5         v5    u6     v6  \n0        0.333333   41.500000   NaN   NaN  88.136364  82.727273  68.5  118.5  \n1        0.444444   42.555556   NaN   NaN  89.500000  84.500000  68.5  118.5  \n2        0.444444   43.444444   NaN   NaN  89.473684  85.631579  68.5  118.5  \n3        0.666667   44.500000   NaN   NaN  89.777778  86.500000  68.5  118.5  \n4        1.062500   45.437500   NaN   NaN  89.944444  87.222222  68.5  118.5  \n...           ...         ...   ...   ...        ...        ...   ...    ...  \n25352   86.988235   82.435294  55.0  24.0        NaN        NaN   NaN    NaN  \n25353   92.730337   87.629213  55.0  24.0        NaN        NaN   NaN    NaN  \n25354  110.329545  101.409091  55.0  24.0        NaN        NaN   NaN    NaN  \n25355  104.370787   97.269663  55.0  24.0        NaN        NaN   NaN    NaN  \n25356   98.688889   92.422222  55.0  24.0        NaN        NaN   NaN    NaN  \n\n[25357 rows x 14 columns]",
      "text/html": "<div>\n<style scoped>\n    .dataframe tbody tr th:only-of-type {\n        vertical-align: middle;\n    }\n\n    .dataframe tbody tr th {\n        vertical-align: top;\n    }\n\n    .dataframe thead th {\n        text-align: right;\n    }\n</style>\n<table border=\"1\" class=\"dataframe\">\n  <thead>\n    <tr style=\"text-align: right;\">\n      <th></th>\n      <th>u0</th>\n      <th>v0</th>\n      <th>u1</th>\n      <th>v1</th>\n      <th>u2</th>\n      <th>v2</th>\n      <th>u3</th>\n      <th>v3</th>\n      <th>u4</th>\n      <th>v4</th>\n      <th>u5</th>\n      <th>v5</th>\n      <th>u6</th>\n      <th>v6</th>\n    </tr>\n  </thead>\n  <tbody>\n    <tr>\n      <th>0</th>\n      <td>NaN</td>\n      <td>NaN</td>\n      <td>45.038462</td>\n      <td>83.307692</td>\n      <td>86.925926</td>\n      <td>39.333333</td>\n      <td>0.333333</td>\n      <td>41.500000</td>\n      <td>NaN</td>\n      <td>NaN</td>\n      <td>88.136364</td>\n      <td>82.727273</td>\n      <td>68.5</td>\n      <td>118.5</td>\n    </tr>\n    <tr>\n      <th>1</th>\n      <td>NaN</td>\n      <td>NaN</td>\n      <td>43.350000</td>\n      <td>83.850000</td>\n      <td>87.000000</td>\n      <td>40.111111</td>\n      <td>0.444444</td>\n      <td>42.555556</td>\n      <td>NaN</td>\n      <td>NaN</td>\n      <td>89.500000</td>\n      <td>84.500000</td>\n      <td>68.5</td>\n      <td>118.5</td>\n    </tr>\n    <tr>\n      <th>2</th>\n      <td>NaN</td>\n      <td>NaN</td>\n      <td>43.791667</td>\n      <td>84.666667</td>\n      <td>87.310345</td>\n      <td>41.034483</td>\n      <td>0.444444</td>\n      <td>43.444444</td>\n      <td>NaN</td>\n      <td>NaN</td>\n      <td>89.473684</td>\n      <td>85.631579</td>\n      <td>68.5</td>\n      <td>118.5</td>\n    </tr>\n    <tr>\n      <th>3</th>\n      <td>NaN</td>\n      <td>NaN</td>\n      <td>43.411765</td>\n      <td>85.705882</td>\n      <td>87.400000</td>\n      <td>41.400000</td>\n      <td>0.666667</td>\n      <td>44.500000</td>\n      <td>NaN</td>\n      <td>NaN</td>\n      <td>89.777778</td>\n      <td>86.500000</td>\n      <td>68.5</td>\n      <td>118.5</td>\n    </tr>\n    <tr>\n      <th>4</th>\n      <td>NaN</td>\n      <td>NaN</td>\n      <td>44.000000</td>\n      <td>86.285714</td>\n      <td>87.740741</td>\n      <td>42.000000</td>\n      <td>1.062500</td>\n      <td>45.437500</td>\n      <td>NaN</td>\n      <td>NaN</td>\n      <td>89.944444</td>\n      <td>87.222222</td>\n      <td>68.5</td>\n      <td>118.5</td>\n    </tr>\n    <tr>\n      <th>...</th>\n      <td>...</td>\n      <td>...</td>\n      <td>...</td>\n      <td>...</td>\n      <td>...</td>\n      <td>...</td>\n      <td>...</td>\n      <td>...</td>\n      <td>...</td>\n      <td>...</td>\n      <td>...</td>\n      <td>...</td>\n      <td>...</td>\n      <td>...</td>\n    </tr>\n    <tr>\n      <th>25352</th>\n      <td>68.500000</td>\n      <td>118.166667</td>\n      <td>60.500000</td>\n      <td>69.000000</td>\n      <td>NaN</td>\n      <td>NaN</td>\n      <td>86.988235</td>\n      <td>82.435294</td>\n      <td>55.0</td>\n      <td>24.0</td>\n      <td>NaN</td>\n      <td>NaN</td>\n      <td>NaN</td>\n      <td>NaN</td>\n    </tr>\n    <tr>\n      <th>25353</th>\n      <td>68.500000</td>\n      <td>118.166667</td>\n      <td>60.500000</td>\n      <td>69.000000</td>\n      <td>NaN</td>\n      <td>NaN</td>\n      <td>92.730337</td>\n      <td>87.629213</td>\n      <td>55.0</td>\n      <td>24.0</td>\n      <td>NaN</td>\n      <td>NaN</td>\n      <td>NaN</td>\n      <td>NaN</td>\n    </tr>\n    <tr>\n      <th>25354</th>\n      <td>68.571429</td>\n      <td>118.857143</td>\n      <td>60.500000</td>\n      <td>69.000000</td>\n      <td>NaN</td>\n      <td>NaN</td>\n      <td>110.329545</td>\n      <td>101.409091</td>\n      <td>55.0</td>\n      <td>24.0</td>\n      <td>NaN</td>\n      <td>NaN</td>\n      <td>NaN</td>\n      <td>NaN</td>\n    </tr>\n    <tr>\n      <th>25355</th>\n      <td>68.571429</td>\n      <td>118.857143</td>\n      <td>60.500000</td>\n      <td>69.000000</td>\n      <td>NaN</td>\n      <td>NaN</td>\n      <td>104.370787</td>\n      <td>97.269663</td>\n      <td>55.0</td>\n      <td>24.0</td>\n      <td>NaN</td>\n      <td>NaN</td>\n      <td>NaN</td>\n      <td>NaN</td>\n    </tr>\n    <tr>\n      <th>25356</th>\n      <td>68.571429</td>\n      <td>118.857143</td>\n      <td>60.500000</td>\n      <td>69.000000</td>\n      <td>NaN</td>\n      <td>NaN</td>\n      <td>98.688889</td>\n      <td>92.422222</td>\n      <td>55.0</td>\n      <td>24.0</td>\n      <td>NaN</td>\n      <td>NaN</td>\n      <td>NaN</td>\n      <td>NaN</td>\n    </tr>\n  </tbody>\n</table>\n<p>25357 rows × 14 columns</p>\n</div>"
     },
     "execution_count": 15,
     "metadata": {},
     "output_type": "execute_result"
    }
   ],
   "source": [
    "all_red_ball_positions = pd.read_csv('data/red_ball_coordinates_128px_full.csv', delimiter=',')\n",
    "all_red_ball_positions"
   ],
   "metadata": {
    "collapsed": false,
    "ExecuteTime": {
     "end_time": "2024-02-22T17:11:47.338232100Z",
     "start_time": "2024-02-22T17:11:47.259255900Z"
    }
   },
   "id": "47b408649177d52d",
   "execution_count": 15
  },
  {
   "cell_type": "code",
   "outputs": [
    {
     "data": {
      "text/plain": "((2132, 14), (2132, 3))"
     },
     "execution_count": 16,
     "metadata": {},
     "output_type": "execute_result"
    }
   ],
   "source": [
    "xyz_positions = pd.read_csv('data/positions_xyz_128px_016.csv', delimiter=',')\n",
    "xyz_positions = xyz_positions.iloc[4:]\n",
    "red_ball_positions = pd.read_csv('data/red_ball_coordinates_128px_016.csv', delimiter=',')\n",
    "red_ball_positions.shape,  xyz_positions.shape"
   ],
   "metadata": {
    "collapsed": false,
    "ExecuteTime": {
     "end_time": "2024-02-22T17:11:47.339260Z",
     "start_time": "2024-02-22T17:11:47.307732900Z"
    }
   },
   "id": "ddcf4aaccd2ac680",
   "execution_count": 16
  },
  {
   "cell_type": "markdown",
   "source": [
    "### 2. Handle Missing Values"
   ],
   "metadata": {
    "collapsed": false
   },
   "id": "fe0d9aadcf2ee4ef"
  },
  {
   "cell_type": "code",
   "outputs": [],
   "source": [
    "from sklearn.impute import SimpleImputer\n",
    "\n",
    "imputer = SimpleImputer(strategy='mean')\n",
    "X_all = imputer.fit_transform(all_red_ball_positions)\n",
    "y_all = imputer.fit_transform(all_positions)\n",
    "X = imputer.fit_transform(red_ball_positions)\n",
    "y = imputer.fit_transform(xyz_positions)"
   ],
   "metadata": {
    "collapsed": false,
    "ExecuteTime": {
     "end_time": "2024-02-22T17:11:47.390578800Z",
     "start_time": "2024-02-22T17:11:47.324732100Z"
    }
   },
   "id": "34b178565d1b1f62",
   "execution_count": 17
  },
  {
   "cell_type": "markdown",
   "source": [
    "### 3. Prepare the Data"
   ],
   "metadata": {
    "collapsed": false
   },
   "id": "848f9a742aa25652"
  },
  {
   "cell_type": "code",
   "outputs": [],
   "source": [
    "from sklearn.model_selection import train_test_split\n",
    "\n",
    "X_train, X_test, y_train, y_test = train_test_split(X_all, y_all, test_size=0.2, random_state=42)"
   ],
   "metadata": {
    "collapsed": false,
    "ExecuteTime": {
     "end_time": "2024-02-22T17:11:47.392579500Z",
     "start_time": "2024-02-22T17:11:47.358028800Z"
    }
   },
   "id": "d4d6adb7f3f783f0",
   "execution_count": 18
  },
  {
   "cell_type": "code",
   "outputs": [
    {
     "data": {
      "text/plain": "((20285, 14), (5072, 14), (20285, 3), (5072, 3))"
     },
     "execution_count": 19,
     "metadata": {},
     "output_type": "execute_result"
    }
   ],
   "source": [
    "X_train.shape, X_test.shape, y_train.shape, y_test.shape"
   ],
   "metadata": {
    "collapsed": false,
    "ExecuteTime": {
     "end_time": "2024-02-22T17:11:47.437646Z",
     "start_time": "2024-02-22T17:11:47.369578300Z"
    }
   },
   "id": "fa006f31fa30a2e0",
   "execution_count": 19
  },
  {
   "cell_type": "code",
   "outputs": [
    {
     "data": {
      "text/plain": "((20285, 14), (20285, 3))"
     },
     "execution_count": 20,
     "metadata": {},
     "output_type": "execute_result"
    }
   ],
   "source": [
    "from sklearn.preprocessing import StandardScaler\n",
    "\n",
    "scaler_x = StandardScaler()\n",
    "scaler_y = StandardScaler()\n",
    "X_scaled_train = scaler_x.fit_transform(X_train)\n",
    "y_scaled_train = scaler_y.fit_transform(y_train)\n",
    "X_scaled_train.shape, y_scaled_train.shape"
   ],
   "metadata": {
    "collapsed": false,
    "ExecuteTime": {
     "end_time": "2024-02-22T17:11:47.450349500Z",
     "start_time": "2024-02-22T17:11:47.385579900Z"
    }
   },
   "id": "21898f73a7a8c0dd",
   "execution_count": 20
  },
  {
   "cell_type": "markdown",
   "source": [
    "### 4. Train the Model"
   ],
   "metadata": {
    "collapsed": false
   },
   "id": "1b70deb6d682241b"
  },
  {
   "cell_type": "code",
   "outputs": [],
   "source": [
    "from GPy.kern import RBF\n",
    "from GPy.models import GPRegression"
   ],
   "metadata": {
    "collapsed": false,
    "ExecuteTime": {
     "end_time": "2024-02-22T17:11:47.451379200Z",
     "start_time": "2024-02-22T17:11:47.400679100Z"
    }
   },
   "id": "2fe9ae0e28a05fb2",
   "execution_count": 21
  },
  {
   "cell_type": "markdown",
   "source": [
    "#### 4.1 Train GP Regression Model with GPy\n",
    "For normal regression tasks"
   ],
   "metadata": {
    "collapsed": false
   },
   "id": "ecb1332cc4346c41"
  },
  {
   "cell_type": "code",
   "outputs": [
    {
     "data": {
      "text/plain": "HBox(children=(VBox(children=(IntProgress(value=0, max=1000), HTML(value=''))), Box(children=(HTML(value=''),)…",
      "application/vnd.jupyter.widget-view+json": {
       "version_major": 2,
       "version_minor": 0,
       "model_id": "faf185ab5de74f799251065104d4ee79"
      }
     },
     "metadata": {},
     "output_type": "display_data"
    },
    {
     "data": {
      "text/plain": "<paramz.optimization.optimization.opt_lbfgsb at 0x1d9056515e0>"
     },
     "execution_count": 22,
     "metadata": {},
     "output_type": "execute_result"
    }
   ],
   "source": [
    "kernel = RBF(input_dim=14)\n",
    "model = GPRegression(X_scaled_train, y_scaled_train, kernel=kernel)\n",
    "model.optimize(messages=True)"
   ],
   "metadata": {
    "collapsed": false,
    "ExecuteTime": {
     "end_time": "2024-02-22T17:52:52.546749Z",
     "start_time": "2024-02-22T17:11:47.421882800Z"
    }
   },
   "id": "58f350a3191ac46b",
   "execution_count": 22
  },
  {
   "cell_type": "code",
   "outputs": [
    {
     "data": {
      "text/plain": "<GPy.models.gp_regression.GPRegression at 0x1d905ceb850>",
      "text/html": "<style type=\"text/css\">\n.pd{\n    font-family: \"Courier New\", Courier, monospace !important;\n    width: 100%;\n    padding: 3px;\n}\n</style>\n\n<p class=pd>\n<b>Model</b>: GP regression<br>\n<b>Objective</b>: 42005.16107923901<br>\n<b>Number of Parameters</b>: 3<br>\n<b>Number of Optimization Parameters</b>: 3<br>\n<b>Updates</b>: True<br>\n</p>\n<style type=\"text/css\">\n.tg  {font-family:\"Courier New\", Courier, monospace !important;padding:2px 3px;word-break:normal;border-collapse:collapse;border-spacing:0;border-color:#DCDCDC;margin:0px auto;width:100%;}\n.tg td{font-family:\"Courier New\", Courier, monospace !important;font-weight:bold;color:#444;background-color:#F7FDFA;border-style:solid;border-width:1px;overflow:hidden;word-break:normal;border-color:#DCDCDC;}\n.tg th{font-family:\"Courier New\", Courier, monospace !important;font-weight:normal;color:#fff;background-color:#26ADE4;border-style:solid;border-width:1px;overflow:hidden;word-break:normal;border-color:#DCDCDC;}\n.tg .tg-left{font-family:\"Courier New\", Courier, monospace !important;font-weight:normal;text-align:left;}\n.tg .tg-center{font-family:\"Courier New\", Courier, monospace !important;font-weight:normal;text-align:center;}\n.tg .tg-right{font-family:\"Courier New\", Courier, monospace !important;font-weight:normal;text-align:right;}\n</style>\n<table class=\"tg\"><tr><th><b>  GP_regression.         </b></th><th><b>             value</b></th><th><b>constraints</b></th><th><b>priors</b></th></tr>\n<tr><td class=tg-left>  rbf.variance           </td><td class=tg-right>0.6431966671118324</td><td class=tg-center>    +ve    </td><td class=tg-center>      </td></tr>\n<tr><td class=tg-left>  rbf.lengthscale        </td><td class=tg-right>1.2396500515619677</td><td class=tg-center>    +ve    </td><td class=tg-center>      </td></tr>\n<tr><td class=tg-left>  Gaussian_noise.variance</td><td class=tg-right>0.1823203326898224</td><td class=tg-center>    +ve    </td><td class=tg-center>      </td></tr>\n</table>"
     },
     "execution_count": 23,
     "metadata": {},
     "output_type": "execute_result"
    }
   ],
   "source": [
    "model"
   ],
   "metadata": {
    "collapsed": false,
    "ExecuteTime": {
     "end_time": "2024-02-22T17:52:53.058603200Z",
     "start_time": "2024-02-22T17:52:52.499907900Z"
    }
   },
   "id": "9638406553947dad",
   "execution_count": 23
  },
  {
   "cell_type": "markdown",
   "source": [
    "#### 4.2 Train Sparse GP Regression Model with GPy\n",
    "Model for large datasets"
   ],
   "metadata": {
    "collapsed": false
   },
   "id": "cd1fddb9ed59f5ea"
  },
  {
   "cell_type": "code",
   "outputs": [
    {
     "data": {
      "text/plain": "HBox(children=(VBox(children=(IntProgress(value=0, max=1000), HTML(value=''))), Box(children=(HTML(value=''),)…",
      "application/vnd.jupyter.widget-view+json": {
       "version_major": 2,
       "version_minor": 0,
       "model_id": "b588da85c7af42bea315f65f0e8c215e"
      }
     },
     "metadata": {},
     "output_type": "display_data"
    },
    {
     "data": {
      "text/plain": "<paramz.optimization.optimization.opt_lbfgsb at 0x1d905cfc460>"
     },
     "execution_count": 26,
     "metadata": {},
     "output_type": "execute_result"
    }
   ],
   "source": [
    "from GPy.models import SparseGPRegression\n",
    "\n",
    "kernel = RBF(input_dim=14)\n",
    "model_sparse = SparseGPRegression(X_scaled_train, y_scaled_train, kernel=kernel)\n",
    "model_sparse.optimize(messages=True)"
   ],
   "metadata": {
    "collapsed": false,
    "ExecuteTime": {
     "end_time": "2024-02-22T17:53:27.280801500Z",
     "start_time": "2024-02-22T17:52:52.581100100Z"
    }
   },
   "id": "974ff28c2633b076",
   "execution_count": 26
  },
  {
   "cell_type": "code",
   "outputs": [
    {
     "data": {
      "text/plain": "<GPy.models.sparse_gp_regression.SparseGPRegression at 0x1d905cfc3d0>",
      "text/html": "<style type=\"text/css\">\n.pd{\n    font-family: \"Courier New\", Courier, monospace !important;\n    width: 100%;\n    padding: 3px;\n}\n</style>\n\n<p class=pd>\n<b>Model</b>: sparse_gp<br>\n<b>Objective</b>: 62771.08537548837<br>\n<b>Number of Parameters</b>: 143<br>\n<b>Number of Optimization Parameters</b>: 143<br>\n<b>Updates</b>: True<br>\n</p>\n<style type=\"text/css\">\n.tg  {font-family:\"Courier New\", Courier, monospace !important;padding:2px 3px;word-break:normal;border-collapse:collapse;border-spacing:0;border-color:#DCDCDC;margin:0px auto;width:100%;}\n.tg td{font-family:\"Courier New\", Courier, monospace !important;font-weight:bold;color:#444;background-color:#F7FDFA;border-style:solid;border-width:1px;overflow:hidden;word-break:normal;border-color:#DCDCDC;}\n.tg th{font-family:\"Courier New\", Courier, monospace !important;font-weight:normal;color:#fff;background-color:#26ADE4;border-style:solid;border-width:1px;overflow:hidden;word-break:normal;border-color:#DCDCDC;}\n.tg .tg-left{font-family:\"Courier New\", Courier, monospace !important;font-weight:normal;text-align:left;}\n.tg .tg-center{font-family:\"Courier New\", Courier, monospace !important;font-weight:normal;text-align:center;}\n.tg .tg-right{font-family:\"Courier New\", Courier, monospace !important;font-weight:normal;text-align:right;}\n</style>\n<table class=\"tg\"><tr><th><b>  sparse_gp.             </b></th><th><b>               value</b></th><th><b>constraints</b></th><th><b>priors</b></th></tr>\n<tr><td class=tg-left>  inducing inputs        </td><td class=tg-right>            (10, 14)</td><td class=tg-center>           </td><td class=tg-center>      </td></tr>\n<tr><td class=tg-left>  rbf.variance           </td><td class=tg-right>0.050718490809828404</td><td class=tg-center>    +ve    </td><td class=tg-center>      </td></tr>\n<tr><td class=tg-left>  rbf.lengthscale        </td><td class=tg-right>   2.985430865649114</td><td class=tg-center>    +ve    </td><td class=tg-center>      </td></tr>\n<tr><td class=tg-left>  Gaussian_noise.variance</td><td class=tg-right>  0.4333320047978111</td><td class=tg-center>    +ve    </td><td class=tg-center>      </td></tr>\n</table>"
     },
     "execution_count": 27,
     "metadata": {},
     "output_type": "execute_result"
    }
   ],
   "source": [
    "model_sparse"
   ],
   "metadata": {
    "collapsed": false,
    "ExecuteTime": {
     "end_time": "2024-02-22T17:53:27.303799300Z",
     "start_time": "2024-02-22T17:53:27.281801Z"
    }
   },
   "id": "e8f875619a21af49",
   "execution_count": 27
  },
  {
   "cell_type": "markdown",
   "source": [
    "### 5. Make Predictions"
   ],
   "metadata": {
    "collapsed": false
   },
   "id": "ba5cfad952a2299"
  },
  {
   "cell_type": "code",
   "outputs": [],
   "source": [
    "from sklearn.metrics import mean_squared_error, r2_score, mean_absolute_error\n",
    "\n",
    "X_scaled_test = scaler_x.transform(X_test)\n"
   ],
   "metadata": {
    "collapsed": false,
    "ExecuteTime": {
     "end_time": "2024-02-22T17:53:27.361337700Z",
     "start_time": "2024-02-22T17:53:27.300801Z"
    }
   },
   "id": "c57028c91c8b7176",
   "execution_count": 28
  },
  {
   "cell_type": "markdown",
   "source": [
    "#### 5.1 Predict with GP Regression Model"
   ],
   "metadata": {
    "collapsed": false
   },
   "id": "fa0b6247bfbfe3a5"
  },
  {
   "cell_type": "code",
   "outputs": [
    {
     "data": {
      "text/plain": "array([[ 4.97588068,  5.43833573, 17.12134811],\n       [ 4.36074451,  2.42182168,  4.59513669],\n       [ 4.02376409,  4.00319297, 21.08715074],\n       ...,\n       [ 8.9079568 ,  2.85445672, 14.88765401],\n       [11.28728314,  4.63910963, 16.00060106],\n       [ 7.31107174,  4.25413908, 25.54014959]])"
     },
     "execution_count": 29,
     "metadata": {},
     "output_type": "execute_result"
    }
   ],
   "source": [
    "y_pred_reg, y_var_reg = model.predict(X_scaled_test)\n",
    "y_pred_reg = scaler_y.inverse_transform(y_pred_reg)\n",
    "y_pred_reg"
   ],
   "metadata": {
    "collapsed": false,
    "ExecuteTime": {
     "end_time": "2024-02-22T17:53:42.025397900Z",
     "start_time": "2024-02-22T17:53:27.328422600Z"
    }
   },
   "id": "5b5d794c22347063",
   "execution_count": 29
  },
  {
   "cell_type": "markdown",
   "source": [
    "#### 5.2 Predict with Sparse GP Regression Model"
   ],
   "metadata": {
    "collapsed": false
   },
   "id": "98cedf830c72fd06"
  },
  {
   "cell_type": "code",
   "outputs": [
    {
     "data": {
      "text/plain": "array([[ 5.27052331,  4.53216214, 13.72141084],\n       [ 8.28050932,  4.85833512, 10.89598265],\n       [ 4.59446491,  6.05549976, 23.4967433 ],\n       ...,\n       [ 7.47589681,  2.92186687, 14.34090323],\n       [ 6.46801688,  5.56822106, 12.52550554],\n       [ 7.68892204,  3.84708334, 23.56854159]])"
     },
     "execution_count": 32,
     "metadata": {},
     "output_type": "execute_result"
    }
   ],
   "source": [
    "y_pred_sparse, y_var_sparse = model_sparse.predict(X_scaled_test)\n",
    "y_pred_sparse = scaler_y.inverse_transform(y_pred_sparse)\n",
    "y_pred_sparse"
   ],
   "metadata": {
    "collapsed": false,
    "ExecuteTime": {
     "end_time": "2024-02-22T17:53:42.090902Z",
     "start_time": "2024-02-22T17:53:42.058248600Z"
    }
   },
   "id": "6204531fb70cdbb3",
   "execution_count": 32
  },
  {
   "cell_type": "markdown",
   "source": [
    "### 6. Evaluate the Model"
   ],
   "metadata": {
    "collapsed": false
   },
   "id": "9bc3d98ea81b8588"
  },
  {
   "cell_type": "code",
   "outputs": [],
   "source": [
    "def evaluate_model(y_test_evaluate, y_pred_evaluate):\n",
    "    mse = mean_squared_error(y_test_evaluate, y_pred_evaluate)\n",
    "    r2 = r2_score(y_test_evaluate, y_pred_evaluate)\n",
    "    mae = mean_absolute_error(y_test_evaluate, y_pred_evaluate)\n",
    "    return mse, r2, mae\n"
   ],
   "metadata": {
    "collapsed": false,
    "ExecuteTime": {
     "end_time": "2024-02-22T17:53:42.091977400Z",
     "start_time": "2024-02-22T17:53:42.075197900Z"
    }
   },
   "id": "99513f8306d07ee3",
   "execution_count": 33
  },
  {
   "cell_type": "markdown",
   "source": [
    "#### 6.1 Evaluate GP Regression Model"
   ],
   "metadata": {
    "collapsed": false
   },
   "id": "88ea3f426873c232"
  },
  {
   "cell_type": "code",
   "outputs": [
    {
     "name": "stdout",
     "output_type": "stream",
     "text": [
      "MSE: 3.876869191487007\n",
      "R2: 0.8129562744025156\n",
      "MAE: 0.985031984579637\n"
     ]
    }
   ],
   "source": [
    "mse_reg, r2_reg, mae_reg = evaluate_model(y_test, y_pred_reg)\n",
    "print(\"MSE:\", mse_reg)\n",
    "print(\"R2:\", r2_reg)\n",
    "print(\"MAE:\", mae_reg)"
   ],
   "metadata": {
    "collapsed": false,
    "ExecuteTime": {
     "end_time": "2024-02-22T17:53:42.121585900Z",
     "start_time": "2024-02-22T17:53:42.088766200Z"
    }
   },
   "id": "31b5dab457d6001f",
   "execution_count": 34
  },
  {
   "cell_type": "markdown",
   "source": [
    "#### 6.2 Evaluate Sparse GP Regression Model"
   ],
   "metadata": {
    "collapsed": false
   },
   "id": "df67c813f5dbb077"
  },
  {
   "cell_type": "code",
   "outputs": [
    {
     "name": "stdout",
     "output_type": "stream",
     "text": [
      "MSE: 10.226186231277763\n",
      "R2: 0.582556465156239\n",
      "MAE: 2.076937317489964\n"
     ]
    }
   ],
   "source": [
    "mse_sparse, r2_sparse, mae_sparse = evaluate_model(y_test, y_pred_sparse)\n",
    "print(\"MSE:\", mse_sparse)\n",
    "print(\"R2:\", r2_sparse)\n",
    "print(\"MAE:\", mae_sparse)"
   ],
   "metadata": {
    "collapsed": false,
    "ExecuteTime": {
     "end_time": "2024-02-22T17:53:42.156499200Z",
     "start_time": "2024-02-22T17:53:42.136534600Z"
    }
   },
   "id": "2e2b63ed8aa25bad",
   "execution_count": 36
  },
  {
   "cell_type": "markdown",
   "source": [
    "### 7. Visualize results"
   ],
   "metadata": {
    "collapsed": false
   },
   "id": "f157bd2f88835e4d"
  },
  {
   "cell_type": "code",
   "outputs": [],
   "source": [
    "from utils.plot_maker_gaussian_process import plot_maker_3d\n",
    "\n",
    "plot_maker_3d(y_test, y_pred_reg, \"Ball Trajectory From GP Regression Model\")\n",
    "plot_maker_3d(y_test[500:550], y_pred_reg[500:550], \"Ball Trajectory From GP Regression Model\")\n",
    "plot_maker_3d(y_test[1000:1050], y_pred_reg[1000:1050], \"Ball Trajectory From GP Regression Model\")"
   ],
   "metadata": {
    "collapsed": false
   },
   "id": "f0cafc8ccaf7fb12"
  }
 ],
 "metadata": {
  "kernelspec": {
   "display_name": "Python 3",
   "language": "python",
   "name": "python3"
  },
  "language_info": {
   "codemirror_mode": {
    "name": "ipython",
    "version": 2
   },
   "file_extension": ".py",
   "mimetype": "text/x-python",
   "name": "python",
   "nbconvert_exporter": "python",
   "pygments_lexer": "ipython2",
   "version": "2.7.6"
  }
 },
 "nbformat": 4,
 "nbformat_minor": 5
}
