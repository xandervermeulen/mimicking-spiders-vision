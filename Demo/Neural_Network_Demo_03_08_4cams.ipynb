{
 "cells": [
  {
   "cell_type": "markdown",
   "source": [
    "# Training neural network to predict ball position in a 3d space\n",
    "## 1. Importing Libraries"
   ],
   "metadata": {
    "collapsed": false
   },
   "id": "c130fdade735b370"
  },
  {
   "cell_type": "code",
   "execution_count": 3,
   "id": "initial_id",
   "metadata": {
    "collapsed": true,
    "ExecuteTime": {
     "end_time": "2024-03-12T13:33:53.479105Z",
     "start_time": "2024-03-12T13:33:53.463885Z"
    }
   },
   "outputs": [],
   "source": [
    "import pandas as pd\n",
    "from sklearn.preprocessing import MinMaxScaler\n",
    "from sklearn.neural_network import MLPRegressor\n",
    "from sklearn.model_selection import RandomizedSearchCV\n",
    "from sklearn.pipeline import Pipeline\n",
    "from utils.evaluate import evaluate_model\n",
    "from utils.plot_maker_gaussian_process import plot_maker_3d"
   ]
  },
  {
   "cell_type": "markdown",
   "source": [
    "## 2. Loading Data\n",
    "The input data are 4 cameras each with a x and y coordinate of where the ball is in the camera's frame. The output data is the x, y and z coordinate of the ball in the 3d space.\n",
    "To get the input data from the recordings I used the following notebook: ../DataProcessing/StoreDataOfAllRecordings.ipynb\n",
    "\n",
    "In the input data I recorded the following trajectories:\n",
    "- Buttefly motion\n",
    "- Spiral motion\n",
    "- Spirograph motion\n",
    "- Lissajous motion\n",
    "- Circle motion"
   ],
   "metadata": {
    "collapsed": false
   },
   "id": "8f229e56143ba3cd"
  },
  {
   "cell_type": "code",
   "outputs": [
    {
     "data": {
      "text/plain": "((12545, 8), (12545, 3))"
     },
     "execution_count": 4,
     "metadata": {},
     "output_type": "execute_result"
    }
   ],
   "source": [
    "X = pd.read_csv('../data-4cams/all/red_ball_all_4cams.csv', decimal='.', delimiter=',')\n",
    "y = pd.read_csv('../data-4cams/all/positions_xyz_all_4cams.csv', decimal='.', delimiter=',')\n",
    "X.shape, y.shape"
   ],
   "metadata": {
    "collapsed": false,
    "ExecuteTime": {
     "end_time": "2024-03-12T13:33:53.526806Z",
     "start_time": "2024-03-12T13:33:53.499735Z"
    }
   },
   "id": "c202be6cfbc9b35c",
   "execution_count": 4
  },
  {
   "cell_type": "markdown",
   "source": [
    "## 3. Preprocessing"
   ],
   "metadata": {
    "collapsed": false
   },
   "id": "e2f4e42771fe3fa0"
  },
  {
   "cell_type": "code",
   "outputs": [],
   "source": [
    "scaler_X = MinMaxScaler()\n",
    "scaler_y = MinMaxScaler()\n",
    "X_scaled = scaler_X.fit_transform(X)\n",
    "y_scaled = scaler_y.fit_transform(y)"
   ],
   "metadata": {
    "collapsed": false,
    "ExecuteTime": {
     "end_time": "2024-03-12T13:33:53.541835Z",
     "start_time": "2024-03-12T13:33:53.527815Z"
    }
   },
   "id": "7f858404d386db66",
   "execution_count": 5
  },
  {
   "cell_type": "markdown",
   "source": [
    "## 4. Hyperparameter tuning"
   ],
   "metadata": {
    "collapsed": false
   },
   "id": "81577f530e14ff65"
  },
  {
   "cell_type": "code",
   "outputs": [],
   "source": [
    "pipeline = Pipeline([\n",
    "    ('mlp', MLPRegressor())\n",
    "])"
   ],
   "metadata": {
    "collapsed": false,
    "ExecuteTime": {
     "end_time": "2024-03-12T13:33:53.557362Z",
     "start_time": "2024-03-12T13:33:53.542836Z"
    }
   },
   "id": "a0be37bdf914fa1c",
   "execution_count": 6
  },
  {
   "cell_type": "code",
   "outputs": [],
   "source": [
    "param_grid = {\n",
    "    'mlp__hidden_layer_sizes': [(10,), (50, 30), (100, 50), (20, 10, 5)],\n",
    "    'mlp__activation': ['identity', 'tanh', 'relu'],\n",
    "    'mlp__solver': ['sgd', 'adam'],\n",
    "    'mlp__alpha': [0.001, 0.01, 0.1],\n",
    "    'mlp__max_iter': [10000, 20000, 28000],\n",
    "    'mlp__learning_rate': ['constant', 'adaptive'],\n",
    "    'mlp__learning_rate_init': [0.001, 0.01, 0.1],\n",
    "    'mlp__early_stopping': [True],\n",
    "}\n",
    "\n",
    "random_search = RandomizedSearchCV(pipeline, param_distributions=param_grid, n_iter=100, cv=5, n_jobs=-1, verbose=2, random_state=42)"
   ],
   "metadata": {
    "collapsed": false,
    "ExecuteTime": {
     "end_time": "2024-03-12T13:33:53.572884Z",
     "start_time": "2024-03-12T13:33:53.558870Z"
    }
   },
   "id": "143c8528b18ecc24",
   "execution_count": 7
  },
  {
   "cell_type": "markdown",
   "source": [
    "### 4.1 Training"
   ],
   "metadata": {
    "collapsed": false
   },
   "id": "3fe170939fc1783d"
  },
  {
   "cell_type": "code",
   "outputs": [
    {
     "name": "stdout",
     "output_type": "stream",
     "text": [
      "Fitting 5 folds for each of 100 candidates, totalling 500 fits\n"
     ]
    },
    {
     "name": "stderr",
     "output_type": "stream",
     "text": [
      "\n",
      "KeyboardInterrupt\n",
      "\n"
     ]
    }
   ],
   "source": [
    "random_search.fit(X_scaled, y_scaled)"
   ],
   "metadata": {
    "collapsed": false,
    "ExecuteTime": {
     "end_time": "2024-03-12T13:34:22.166832Z",
     "start_time": "2024-03-12T13:33:53.574884Z"
    }
   },
   "id": "1102192775cc1a63",
   "execution_count": 8
  },
  {
   "cell_type": "markdown",
   "source": [
    "### 4.2 Best parameters"
   ],
   "metadata": {
    "collapsed": false
   },
   "id": "553ed454e44452ba"
  },
  {
   "cell_type": "code",
   "outputs": [],
   "source": [
    "print(f'Best parameters: {random_search.best_params_}')"
   ],
   "metadata": {
    "collapsed": false,
    "ExecuteTime": {
     "end_time": "2024-03-12T13:34:22.169296Z",
     "start_time": "2024-03-12T13:34:22.169096Z"
    }
   },
   "id": "a997e0af4f19663d",
   "execution_count": null
  },
  {
   "cell_type": "code",
   "outputs": [],
   "source": [
    "print(f'Best score: {random_search.best_score_}')"
   ],
   "metadata": {
    "collapsed": false,
    "ExecuteTime": {
     "start_time": "2024-03-12T13:34:22.170302Z"
    }
   },
   "id": "9d09b40f0116588c",
   "execution_count": null
  },
  {
   "cell_type": "markdown",
   "source": [
    "## 5. Training the model"
   ],
   "metadata": {
    "collapsed": false
   },
   "id": "81416e1d78cb6728"
  },
  {
   "cell_type": "code",
   "outputs": [],
   "source": [
    "model = random_search.best_estimator_"
   ],
   "metadata": {
    "collapsed": false,
    "ExecuteTime": {
     "start_time": "2024-03-12T13:34:22.171298Z"
    }
   },
   "id": "200b9204c10e4a95",
   "execution_count": null
  },
  {
   "cell_type": "code",
   "outputs": [],
   "source": [
    "model.fit(X_scaled, y_scaled)"
   ],
   "metadata": {
    "collapsed": false,
    "ExecuteTime": {
     "start_time": "2024-03-12T13:34:22.172298Z"
    }
   },
   "id": "8b94d81d32032ee4",
   "execution_count": null
  },
  {
   "cell_type": "markdown",
   "source": [
    "## 6. Make predictions on new data\n",
    "The trajectories that I used to train the model are the following:\n",
    "- 8 motion"
   ],
   "metadata": {
    "collapsed": false
   },
   "id": "388e2b4243bd2fab"
  },
  {
   "cell_type": "markdown",
   "source": [
    "### 6.1 Load new data"
   ],
   "metadata": {
    "collapsed": false
   },
   "id": "47a237da2273bd5a"
  },
  {
   "cell_type": "code",
   "outputs": [],
   "source": [
    "X_test_8 = pd.read_csv('../data-4cams/data-8/red_ball_coordinates_128px_2024-03-08_14h44m.csv', decimal='.', delimiter=',')\n",
    "y_test_8 = pd.read_csv('../data-4cams/data-8/positions_xyz_2024-03-08_14h44m.csv', decimal='.', delimiter=',').iloc[4:]"
   ],
   "metadata": {
    "collapsed": false,
    "ExecuteTime": {
     "start_time": "2024-03-12T13:34:22.173297Z"
    }
   },
   "id": "87af25720726350",
   "execution_count": null
  },
  {
   "cell_type": "markdown",
   "source": [
    "### 6.2 Preprocessing\n",
    "This method is used to prepare the data for the model. It scales the input data and drops the NaN values from the output data."
   ],
   "metadata": {
    "collapsed": false
   },
   "id": "81278d345cca0b99"
  },
  {
   "cell_type": "code",
   "outputs": [],
   "source": [
    "def prepare_and_scale_test_data(X_test_val, y_test_val, scaler_x_test):\n",
    "    y_test_val = y_test_val.iloc[4:]\n",
    "    combined_test = pd.concat([X_test_val, y_test_val], axis=1)\n",
    "    combined_test.dropna(inplace=True)\n",
    "    X_val = combined_test.iloc[:, :8]\n",
    "    y_val = combined_test.iloc[:, 8:]\n",
    "    X_scaled_test = scaler_x_test.transform(X_val)\n",
    "    return X_scaled_test, y_val"
   ],
   "metadata": {
    "collapsed": false,
    "ExecuteTime": {
     "start_time": "2024-03-12T13:34:22.175297Z"
    }
   },
   "id": "aaba4056d47540a",
   "execution_count": null
  },
  {
   "cell_type": "code",
   "outputs": [],
   "source": [
    "X_scaled_test_8, y_test_8 = prepare_and_scale_test_data(X_test_8, y_test_8, scaler_X)"
   ],
   "metadata": {
    "collapsed": false,
    "ExecuteTime": {
     "start_time": "2024-03-12T13:34:22.176806Z"
    }
   },
   "id": "27f2c689da5f8cfe",
   "execution_count": null
  },
  {
   "cell_type": "markdown",
   "source": [
    "### 6.3 Make predictions evaluate and visualize\n",
    "This method is used to make predictions on the test data, then it evaluates the model using the mean squared error, mean absolute error and the r2 score. Finally, it visualizes the predicted and the actual trajectory of the ball in a 3d space."
   ],
   "metadata": {
    "collapsed": false
   },
   "id": "1d786a3c76f782d4"
  },
  {
   "cell_type": "code",
   "outputs": [],
   "source": [
    "def predict_evaluate_plot(X_test_val_scaled, y_test_val, nn_model, scaler_y_test, title='Trajectory of Ball in 3D Space'):\n",
    "    y_test_predicted_scaled = nn_model.predict(X_test_val_scaled)\n",
    "    y_test_pred = scaler_y_test.inverse_transform(y_test_predicted_scaled)\n",
    "    mse, mae, r2 = evaluate_model(y_test_val, y_test_pred, 'Test Data')\n",
    "    # change col 1 and 2 from place, so it corresponds to the unity 3d space\n",
    "    y_test_pred = y_test_pred[:, [0, 2, 1]]\n",
    "    y_test_val = y_test_val.to_numpy()[:, [0, 2, 1]]\n",
    "    plot_maker_3d(y_test_val, y_test_pred, title)\n",
    "    return y_test_pred, mse, mae, r2"
   ],
   "metadata": {
    "collapsed": false,
    "ExecuteTime": {
     "start_time": "2024-03-12T13:34:22.177817Z"
    }
   },
   "id": "cc63564c7629941",
   "execution_count": null
  },
  {
   "cell_type": "code",
   "outputs": [],
   "source": [
    "y_test_8_pred, mse_8, mae_8, r2_8 = predict_evaluate_plot(X_scaled_test_8, y_test_8, model, scaler_y, '8 Motion')"
   ],
   "metadata": {
    "collapsed": false,
    "ExecuteTime": {
     "start_time": "2024-03-12T13:34:22.179077Z"
    }
   },
   "id": "bf60ed8481589c7f",
   "execution_count": null
  }
 ],
 "metadata": {
  "kernelspec": {
   "display_name": "Python 3",
   "language": "python",
   "name": "python3"
  },
  "language_info": {
   "codemirror_mode": {
    "name": "ipython",
    "version": 2
   },
   "file_extension": ".py",
   "mimetype": "text/x-python",
   "name": "python",
   "nbconvert_exporter": "python",
   "pygments_lexer": "ipython2",
   "version": "2.7.6"
  }
 },
 "nbformat": 4,
 "nbformat_minor": 5
}
