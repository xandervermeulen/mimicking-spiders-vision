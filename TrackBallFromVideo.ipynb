{
 "cells": [
  {
   "cell_type": "markdown",
   "source": [
    "# Ball Tracking\n",
    "### Team Catan "
   ],
   "metadata": {
    "collapsed": false,
    "pycharm": {
     "name": "#%% md\n"
    }
   },
   "id": "f2d1241641de88fc"
  },
  {
   "cell_type": "markdown",
   "source": [
    "##### Read and show the video file"
   ],
   "metadata": {
    "collapsed": false,
    "pycharm": {
     "name": "#%% md\n"
    }
   },
   "id": "85ff2cc10c5a390f"
  },
  {
   "cell_type": "code",
   "execution_count": 1,
   "id": "cc6500b8d577e65c",
   "metadata": {
    "collapsed": false,
    "ExecuteTime": {
     "end_time": "2024-02-09T15:40:42.842561800Z",
     "start_time": "2024-02-09T15:40:42.819687800Z"
    },
    "pycharm": {
     "name": "#%%\n"
    }
   },
   "outputs": [],
   "source": [
    "import cv2\n",
    "import glob"
   ]
  },
  {
   "cell_type": "code",
   "outputs": [],
   "source": [
    "# give the directory and the px size of the video files\n",
    "# of the recordings you want to show and track\n",
    "recording_dir = 'recordings128px012/'\n",
    "# give the pixel size of the video files\n",
    "px_size = 128"
   ],
   "metadata": {
    "collapsed": false,
    "ExecuteTime": {
     "end_time": "2024-02-09T15:40:42.843659800Z",
     "start_time": "2024-02-09T15:40:42.821782800Z"
    },
    "pycharm": {
     "name": "#%%\n"
    }
   },
   "id": "5cd3df415611ddc3",
   "execution_count": 2
  },
  {
   "cell_type": "code",
   "outputs": [],
   "source": [
    "\n",
    "mp4_files = glob.glob(recording_dir + '*.mp4')\n",
    "cap = None\n",
    "if not mp4_files:\n",
    "    print('No mp4 files found')\n",
    "else:\n",
    "    first_file = mp4_files[0]\n",
    "    cap = cv2.VideoCapture(first_file)\n",
    "\n",
    "if not cap.isOpened():\n",
    "    print(\"Error opening video stream or file\")\n",
    "\n",
    "else:\n",
    "    while cap.isOpened():\n",
    "        ret, frame = cap.read()\n",
    "        if not ret:\n",
    "            break\n",
    "        cv2.imshow('Frame', frame)\n",
    "        if cv2.waitKey(30) & 0xFF == 27:  # Press 'Esc' to exit\n",
    "            break\n",
    "            \n",
    "cap.release()\n",
    "cv2.destroyAllWindows()"
   ],
   "metadata": {
    "collapsed": true,
    "ExecuteTime": {
     "end_time": "2024-02-09T15:40:44.525358Z",
     "start_time": "2024-02-09T15:40:42.847948100Z"
    },
    "pycharm": {
     "name": "#%%\n"
    }
   },
   "id": "initial_id",
   "execution_count": 3
  },
  {
   "cell_type": "markdown",
   "source": [
    "#### Detect the red ball and show"
   ],
   "metadata": {
    "collapsed": false,
    "pycharm": {
     "name": "#%% md\n"
    }
   },
   "id": "7f0f3b86158cdaaa"
  },
  {
   "cell_type": "code",
   "outputs": [],
   "source": [
    "import numpy as np\n",
    "\n",
    "cap = cv2.VideoCapture(mp4_files[0])\n",
    "\n",
    "detected_ball = None\n",
    "last_frame = None\n",
    "lower_red = np.array([0, 0, 100], dtype=np.uint8)\n",
    "upper_red = np.array([75, 75, 255], dtype=np.uint8)\n",
    "\n",
    "\n",
    "while cap.isOpened():\n",
    "    # Read a frame from the video\n",
    "    ret, frame = cap.read()\n",
    "\n",
    "    # Check if the frame was read successfully\n",
    "    if not ret:\n",
    "        break\n",
    "    # Create a mask to isolate the red color\n",
    "    mask = cv2.inRange(frame, lower_red, upper_red)\n",
    "    # Apply the mask to the frame to detect the red color\n",
    "    detected_ball = cv2.bitwise_and(frame, frame, mask=mask)\n",
    "    #   cv2.imshow('Current Frame', frame)\n",
    "    cv2.imshow('Detected Ball', detected_ball)\n",
    "    last_frame = frame\n",
    "    if cv2.waitKey(25) & 0xFF == ord('q'): # Press q to exit\n",
    "        break\n",
    "\n",
    "cap.release()\n",
    "cv2.destroyAllWindows()"
   ],
   "metadata": {
    "collapsed": false,
    "ExecuteTime": {
     "end_time": "2024-02-09T15:40:48.374114Z",
     "start_time": "2024-02-09T15:40:44.527907900Z"
    },
    "pycharm": {
     "name": "#%%\n"
    }
   },
   "id": "3400c8c842f945a0",
   "execution_count": 4
  },
  {
   "cell_type": "markdown",
   "source": [
    "#### Show the amount of frames in the video"
   ],
   "metadata": {
    "collapsed": false,
    "pycharm": {
     "name": "#%% md\n"
    }
   },
   "id": "555ec0ef32e8604c"
  },
  {
   "cell_type": "code",
   "outputs": [
    {
     "data": {
      "text/plain": "974"
     },
     "execution_count": 5,
     "metadata": {},
     "output_type": "execute_result"
    }
   ],
   "source": [
    "cap = cv2.VideoCapture(mp4_files[0])\n",
    "length = int(cap.get(cv2.CAP_PROP_FRAME_COUNT))\n",
    "length"
   ],
   "metadata": {
    "collapsed": false,
    "ExecuteTime": {
     "end_time": "2024-02-09T15:40:48.383722100Z",
     "start_time": "2024-02-09T15:40:48.372654600Z"
    },
    "pycharm": {
     "name": "#%%\n"
    }
   },
   "id": "b1aad503fba09440",
   "execution_count": 5
  },
  {
   "cell_type": "markdown",
   "source": [
    "#### Get and Show the coordinates of the red ball in one frame"
   ],
   "metadata": {
    "collapsed": false,
    "pycharm": {
     "name": "#%% md\n"
    }
   },
   "id": "cffc73065f7ade33"
  },
  {
   "cell_type": "code",
   "outputs": [],
   "source": [
    "# get all the coordinates of the pixels that are between the lower and upper red\n",
    "red_coordinates = np.column_stack(np.where((last_frame[:, :, 0] >= lower_red[0]) & (last_frame[:, :, 0] <= upper_red[0]) &\n",
    "    (last_frame[:, :, 1] >= lower_red[1]) & (last_frame[:, :, 1] <= upper_red[1]) &\n",
    "    (last_frame[:, :, 2] >= lower_red[2]) & (last_frame[:, :, 2] <= upper_red[2])\n",
    "))\n",
    "# invert the y-axis so that the origin is at the bottom left\n",
    "red_coordinates[:, 0] = last_frame.shape[0] - red_coordinates[:, 0]"
   ],
   "metadata": {
    "collapsed": false,
    "ExecuteTime": {
     "end_time": "2024-02-09T15:40:48.389396400Z",
     "start_time": "2024-02-09T15:40:48.378545900Z"
    },
    "pycharm": {
     "name": "#%%\n"
    }
   },
   "id": "c3585fcfd2008b38",
   "execution_count": 6
  },
  {
   "cell_type": "code",
   "outputs": [
    {
     "data": {
      "text/plain": "<Figure size 640x480 with 1 Axes>",
      "image/png": "[encoded data removed]"
     },
     "metadata": {},
     "output_type": "display_data"
    }
   ],
   "source": [
    "from matplotlib import pyplot as plt\n",
    "plt.scatter(red_coordinates[:, 1], red_coordinates[:, 0], c='red', marker='.')\n",
    "plt.title('Red Ball Coordinates')\n",
    "plt.xlabel('X Coordinates')\n",
    "plt.ylabel('Y Coordinates')\n",
    "plt.xlim(0, px_size)\n",
    "plt.ylim(0, px_size)\n",
    "plt.show()\n"
   ],
   "metadata": {
    "collapsed": false,
    "ExecuteTime": {
     "end_time": "2024-02-09T15:40:48.497554400Z",
     "start_time": "2024-02-09T15:40:48.389396400Z"
    },
    "pycharm": {
     "name": "#%%\n"
    }
   },
   "id": "5fc87e577aa083c2",
   "execution_count": 7
  },
  {
   "cell_type": "code",
   "outputs": [
    {
     "data": {
      "text/plain": "(53.5, 62.5)"
     },
     "execution_count": 8,
     "metadata": {},
     "output_type": "execute_result"
    }
   ],
   "source": [
    "# calculate the median of the x and y coordinates\n",
    "mean_x = np.mean(red_coordinates[:, 1])\n",
    "mean_y = np.mean(red_coordinates[:, 0])\n",
    "mean_x, mean_y"
   ],
   "metadata": {
    "collapsed": false,
    "ExecuteTime": {
     "end_time": "2024-02-09T15:40:48.503718100Z",
     "start_time": "2024-02-09T15:40:48.496477200Z"
    },
    "pycharm": {
     "name": "#%%\n"
    }
   },
   "id": "b2316d89f7ba28e9",
   "execution_count": 8
  },
  {
   "cell_type": "markdown",
   "source": [
    "#### Get the middle coordinate of the red ball in all frames"
   ],
   "metadata": {
    "collapsed": false,
    "pycharm": {
     "name": "#%% md\n"
    }
   },
   "id": "45be8d36831bbd60"
  },
  {
   "cell_type": "code",
   "outputs": [
    {
     "name": "stderr",
     "output_type": "stream",
     "text": [
      "/Users/nicktoelen/PycharmProjects/ball-tracker/venv/lib/python3.9/site-packages/numpy/core/fromnumeric.py:3504: RuntimeWarning: Mean of empty slice.\n",
      "  return _methods._mean(a, axis=axis, dtype=dtype,\n",
      "/Users/nicktoelen/PycharmProjects/ball-tracker/venv/lib/python3.9/site-packages/numpy/core/_methods.py:129: RuntimeWarning: invalid value encountered in scalar divide\n",
      "  ret = ret.dtype.type(ret / rcount)\n"
     ]
    }
   ],
   "source": [
    "from ball_tracker_calculations import calculate_middle_points_of_ball\n",
    "cap = cv2.VideoCapture(mp4_files[0])\n",
    "\n",
    "lower_red = np.array([0, 0, 100], dtype=np.uint8)\n",
    "upper_red = np.array([75, 75, 255], dtype=np.uint8)\n",
    "mean_x, mean_y = calculate_middle_points_of_ball(cap, lower_red, upper_red)"
   ],
   "metadata": {
    "collapsed": false,
    "ExecuteTime": {
     "end_time": "2024-02-09T15:40:48.831168300Z",
     "start_time": "2024-02-09T15:40:48.502569800Z"
    },
    "pycharm": {
     "name": "#%%\n"
    }
   },
   "id": "c38bed9be2a78c03",
   "execution_count": 9
  },
  {
   "cell_type": "markdown",
   "source": [
    "### Show the trajectory of the ball"
   ],
   "metadata": {
    "collapsed": false,
    "pycharm": {
     "name": "#%% md\n"
    }
   },
   "id": "69fee7ab85b0e4b5"
  },
  {
   "cell_type": "code",
   "outputs": [
    {
     "data": {
      "text/plain": "<Figure size 640x480 with 1 Axes>",
      "image/png": "[encoded data removed]"
     },
     "metadata": {},
     "output_type": "display_data"
    }
   ],
   "source": [
    "from plot_maker import create_plot_of_trajectory\n",
    "\n",
    "create_plot_of_trajectory(mean_x, mean_y, px_size)"
   ],
   "metadata": {
    "collapsed": false,
    "ExecuteTime": {
     "end_time": "2024-02-09T15:40:48.987256100Z",
     "start_time": "2024-02-09T15:40:48.831168300Z"
    },
    "pycharm": {
     "name": "#%%\n"
    }
   },
   "id": "5e7a74617884e3dd",
   "execution_count": 10
  }
 ],
 "metadata": {
  "kernelspec": {
   "display_name": "Python 3",
   "language": "python",
   "name": "python3"
  },
  "language_info": {
   "codemirror_mode": {
    "name": "ipython",
    "version": 2
   },
   "file_extension": ".py",
   "mimetype": "text/x-python",
   "name": "python",
   "nbconvert_exporter": "python",
   "pygments_lexer": "ipython2",
   "version": "2.7.6"
  }
 },
 "nbformat": 4,
 "nbformat_minor": 5
}