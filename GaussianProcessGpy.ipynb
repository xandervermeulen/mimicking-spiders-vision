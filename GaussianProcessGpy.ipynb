{
 "cells": [
  {
   "cell_type": "markdown",
   "source": [
    "## Gaussian Process Regression wit GPy"
   ],
   "metadata": {
    "collapsed": false
   },
   "id": "454c48f2bec89d34"
  },
  {
   "cell_type": "code",
   "execution_count": 1,
   "id": "initial_id",
   "metadata": {
    "collapsed": true,
    "ExecuteTime": {
     "end_time": "2024-02-21T12:37:20.061540500Z",
     "start_time": "2024-02-21T12:37:18.678407800Z"
    }
   },
   "outputs": [],
   "source": [
    "import GPy\n",
    "import pandas as pd"
   ]
  },
  {
   "cell_type": "markdown",
   "source": [
    "### 1. Read the data"
   ],
   "metadata": {
    "collapsed": false
   },
   "id": "514d907659faea7d"
  },
  {
   "cell_type": "code",
   "outputs": [
    {
     "data": {
      "text/plain": "               x         y          z\n0      10.138330  3.169981  15.099980\n1      10.133340  3.269852  15.199850\n2      10.125010  3.369500  15.299500\n3      10.113370  3.468816  15.398820\n4      10.098430  3.567688  15.497690\n...          ...       ...        ...\n25352   5.115520  4.872968   9.123255\n25353   4.845301  5.128964   8.955405\n25354   4.577969  5.373679   8.790463\n25355   4.314191  5.604666   8.628434\n25356   3.691155  6.095557   8.246799\n\n[25357 rows x 3 columns]",
      "text/html": "<div>\n<style scoped>\n    .dataframe tbody tr th:only-of-type {\n        vertical-align: middle;\n    }\n\n    .dataframe tbody tr th {\n        vertical-align: top;\n    }\n\n    .dataframe thead th {\n        text-align: right;\n    }\n</style>\n<table border=\"1\" class=\"dataframe\">\n  <thead>\n    <tr style=\"text-align: right;\">\n      <th></th>\n      <th>x</th>\n      <th>y</th>\n      <th>z</th>\n    </tr>\n  </thead>\n  <tbody>\n    <tr>\n      <th>0</th>\n      <td>10.138330</td>\n      <td>3.169981</td>\n      <td>15.099980</td>\n    </tr>\n    <tr>\n      <th>1</th>\n      <td>10.133340</td>\n      <td>3.269852</td>\n      <td>15.199850</td>\n    </tr>\n    <tr>\n      <th>2</th>\n      <td>10.125010</td>\n      <td>3.369500</td>\n      <td>15.299500</td>\n    </tr>\n    <tr>\n      <th>3</th>\n      <td>10.113370</td>\n      <td>3.468816</td>\n      <td>15.398820</td>\n    </tr>\n    <tr>\n      <th>4</th>\n      <td>10.098430</td>\n      <td>3.567688</td>\n      <td>15.497690</td>\n    </tr>\n    <tr>\n      <th>...</th>\n      <td>...</td>\n      <td>...</td>\n      <td>...</td>\n    </tr>\n    <tr>\n      <th>25352</th>\n      <td>5.115520</td>\n      <td>4.872968</td>\n      <td>9.123255</td>\n    </tr>\n    <tr>\n      <th>25353</th>\n      <td>4.845301</td>\n      <td>5.128964</td>\n      <td>8.955405</td>\n    </tr>\n    <tr>\n      <th>25354</th>\n      <td>4.577969</td>\n      <td>5.373679</td>\n      <td>8.790463</td>\n    </tr>\n    <tr>\n      <th>25355</th>\n      <td>4.314191</td>\n      <td>5.604666</td>\n      <td>8.628434</td>\n    </tr>\n    <tr>\n      <th>25356</th>\n      <td>3.691155</td>\n      <td>6.095557</td>\n      <td>8.246799</td>\n    </tr>\n  </tbody>\n</table>\n<p>25357 rows × 3 columns</p>\n</div>"
     },
     "execution_count": 2,
     "metadata": {},
     "output_type": "execute_result"
    }
   ],
   "source": [
    "all_positions = pd.read_csv('data/positions_xyz_128px_full.csv', delimiter=',')\n",
    "all_positions"
   ],
   "metadata": {
    "collapsed": false,
    "ExecuteTime": {
     "end_time": "2024-02-21T12:37:20.102533700Z",
     "start_time": "2024-02-21T12:37:20.063536900Z"
    }
   },
   "id": "f6e0230506fb35d7",
   "execution_count": 2
  },
  {
   "cell_type": "code",
   "outputs": [
    {
     "data": {
      "text/plain": "              u0          v0         u1         v1         u2         v2  \\\n0            NaN         NaN  45.038462  83.307692  86.925926  39.333333   \n1            NaN         NaN  43.350000  83.850000  87.000000  40.111111   \n2            NaN         NaN  43.791667  84.666667  87.310345  41.034483   \n3            NaN         NaN  43.411765  85.705882  87.400000  41.400000   \n4            NaN         NaN  44.000000  86.285714  87.740741  42.000000   \n...          ...         ...        ...        ...        ...        ...   \n25352  68.500000  118.166667  60.500000  69.000000        NaN        NaN   \n25353  68.500000  118.166667  60.500000  69.000000        NaN        NaN   \n25354  68.571429  118.857143  60.500000  69.000000        NaN        NaN   \n25355  68.571429  118.857143  60.500000  69.000000        NaN        NaN   \n25356  68.571429  118.857143  60.500000  69.000000        NaN        NaN   \n\n               u3          v3    u4    v4         u5         v5    u6     v6  \n0        0.333333   41.500000   NaN   NaN  88.136364  82.727273  68.5  118.5  \n1        0.444444   42.555556   NaN   NaN  89.500000  84.500000  68.5  118.5  \n2        0.444444   43.444444   NaN   NaN  89.473684  85.631579  68.5  118.5  \n3        0.666667   44.500000   NaN   NaN  89.777778  86.500000  68.5  118.5  \n4        1.062500   45.437500   NaN   NaN  89.944444  87.222222  68.5  118.5  \n...           ...         ...   ...   ...        ...        ...   ...    ...  \n25352   86.988235   82.435294  55.0  24.0        NaN        NaN   NaN    NaN  \n25353   92.730337   87.629213  55.0  24.0        NaN        NaN   NaN    NaN  \n25354  110.329545  101.409091  55.0  24.0        NaN        NaN   NaN    NaN  \n25355  104.370787   97.269663  55.0  24.0        NaN        NaN   NaN    NaN  \n25356   98.688889   92.422222  55.0  24.0        NaN        NaN   NaN    NaN  \n\n[25357 rows x 14 columns]",
      "text/html": "<div>\n<style scoped>\n    .dataframe tbody tr th:only-of-type {\n        vertical-align: middle;\n    }\n\n    .dataframe tbody tr th {\n        vertical-align: top;\n    }\n\n    .dataframe thead th {\n        text-align: right;\n    }\n</style>\n<table border=\"1\" class=\"dataframe\">\n  <thead>\n    <tr style=\"text-align: right;\">\n      <th></th>\n      <th>u0</th>\n      <th>v0</th>\n      <th>u1</th>\n      <th>v1</th>\n      <th>u2</th>\n      <th>v2</th>\n      <th>u3</th>\n      <th>v3</th>\n      <th>u4</th>\n      <th>v4</th>\n      <th>u5</th>\n      <th>v5</th>\n      <th>u6</th>\n      <th>v6</th>\n    </tr>\n  </thead>\n  <tbody>\n    <tr>\n      <th>0</th>\n      <td>NaN</td>\n      <td>NaN</td>\n      <td>45.038462</td>\n      <td>83.307692</td>\n      <td>86.925926</td>\n      <td>39.333333</td>\n      <td>0.333333</td>\n      <td>41.500000</td>\n      <td>NaN</td>\n      <td>NaN</td>\n      <td>88.136364</td>\n      <td>82.727273</td>\n      <td>68.5</td>\n      <td>118.5</td>\n    </tr>\n    <tr>\n      <th>1</th>\n      <td>NaN</td>\n      <td>NaN</td>\n      <td>43.350000</td>\n      <td>83.850000</td>\n      <td>87.000000</td>\n      <td>40.111111</td>\n      <td>0.444444</td>\n      <td>42.555556</td>\n      <td>NaN</td>\n      <td>NaN</td>\n      <td>89.500000</td>\n      <td>84.500000</td>\n      <td>68.5</td>\n      <td>118.5</td>\n    </tr>\n    <tr>\n      <th>2</th>\n      <td>NaN</td>\n      <td>NaN</td>\n      <td>43.791667</td>\n      <td>84.666667</td>\n      <td>87.310345</td>\n      <td>41.034483</td>\n      <td>0.444444</td>\n      <td>43.444444</td>\n      <td>NaN</td>\n      <td>NaN</td>\n      <td>89.473684</td>\n      <td>85.631579</td>\n      <td>68.5</td>\n      <td>118.5</td>\n    </tr>\n    <tr>\n      <th>3</th>\n      <td>NaN</td>\n      <td>NaN</td>\n      <td>43.411765</td>\n      <td>85.705882</td>\n      <td>87.400000</td>\n      <td>41.400000</td>\n      <td>0.666667</td>\n      <td>44.500000</td>\n      <td>NaN</td>\n      <td>NaN</td>\n      <td>89.777778</td>\n      <td>86.500000</td>\n      <td>68.5</td>\n      <td>118.5</td>\n    </tr>\n    <tr>\n      <th>4</th>\n      <td>NaN</td>\n      <td>NaN</td>\n      <td>44.000000</td>\n      <td>86.285714</td>\n      <td>87.740741</td>\n      <td>42.000000</td>\n      <td>1.062500</td>\n      <td>45.437500</td>\n      <td>NaN</td>\n      <td>NaN</td>\n      <td>89.944444</td>\n      <td>87.222222</td>\n      <td>68.5</td>\n      <td>118.5</td>\n    </tr>\n    <tr>\n      <th>...</th>\n      <td>...</td>\n      <td>...</td>\n      <td>...</td>\n      <td>...</td>\n      <td>...</td>\n      <td>...</td>\n      <td>...</td>\n      <td>...</td>\n      <td>...</td>\n      <td>...</td>\n      <td>...</td>\n      <td>...</td>\n      <td>...</td>\n      <td>...</td>\n    </tr>\n    <tr>\n      <th>25352</th>\n      <td>68.500000</td>\n      <td>118.166667</td>\n      <td>60.500000</td>\n      <td>69.000000</td>\n      <td>NaN</td>\n      <td>NaN</td>\n      <td>86.988235</td>\n      <td>82.435294</td>\n      <td>55.0</td>\n      <td>24.0</td>\n      <td>NaN</td>\n      <td>NaN</td>\n      <td>NaN</td>\n      <td>NaN</td>\n    </tr>\n    <tr>\n      <th>25353</th>\n      <td>68.500000</td>\n      <td>118.166667</td>\n      <td>60.500000</td>\n      <td>69.000000</td>\n      <td>NaN</td>\n      <td>NaN</td>\n      <td>92.730337</td>\n      <td>87.629213</td>\n      <td>55.0</td>\n      <td>24.0</td>\n      <td>NaN</td>\n      <td>NaN</td>\n      <td>NaN</td>\n      <td>NaN</td>\n    </tr>\n    <tr>\n      <th>25354</th>\n      <td>68.571429</td>\n      <td>118.857143</td>\n      <td>60.500000</td>\n      <td>69.000000</td>\n      <td>NaN</td>\n      <td>NaN</td>\n      <td>110.329545</td>\n      <td>101.409091</td>\n      <td>55.0</td>\n      <td>24.0</td>\n      <td>NaN</td>\n      <td>NaN</td>\n      <td>NaN</td>\n      <td>NaN</td>\n    </tr>\n    <tr>\n      <th>25355</th>\n      <td>68.571429</td>\n      <td>118.857143</td>\n      <td>60.500000</td>\n      <td>69.000000</td>\n      <td>NaN</td>\n      <td>NaN</td>\n      <td>104.370787</td>\n      <td>97.269663</td>\n      <td>55.0</td>\n      <td>24.0</td>\n      <td>NaN</td>\n      <td>NaN</td>\n      <td>NaN</td>\n      <td>NaN</td>\n    </tr>\n    <tr>\n      <th>25356</th>\n      <td>68.571429</td>\n      <td>118.857143</td>\n      <td>60.500000</td>\n      <td>69.000000</td>\n      <td>NaN</td>\n      <td>NaN</td>\n      <td>98.688889</td>\n      <td>92.422222</td>\n      <td>55.0</td>\n      <td>24.0</td>\n      <td>NaN</td>\n      <td>NaN</td>\n      <td>NaN</td>\n      <td>NaN</td>\n    </tr>\n  </tbody>\n</table>\n<p>25357 rows × 14 columns</p>\n</div>"
     },
     "execution_count": 3,
     "metadata": {},
     "output_type": "execute_result"
    }
   ],
   "source": [
    "all_red_ball_positions = pd.read_csv('data/red_ball_coordinates_128px_full.csv', delimiter=',')\n",
    "all_red_ball_positions"
   ],
   "metadata": {
    "collapsed": false,
    "ExecuteTime": {
     "end_time": "2024-02-21T12:37:20.185054900Z",
     "start_time": "2024-02-21T12:37:20.092539100Z"
    }
   },
   "id": "47b408649177d52d",
   "execution_count": 3
  },
  {
   "cell_type": "code",
   "outputs": [
    {
     "data": {
      "text/plain": "((2132, 14), (2132, 3))"
     },
     "execution_count": 4,
     "metadata": {},
     "output_type": "execute_result"
    }
   ],
   "source": [
    "xyz_positions = pd.read_csv('data/positions_xyz_128px_016.csv', delimiter=',')\n",
    "xyz_positions = xyz_positions.iloc[4:]\n",
    "red_ball_positions = pd.read_csv('data/red_ball_coordinates_128px_016.csv', delimiter=',')\n",
    "red_ball_positions.shape,  xyz_positions.shape"
   ],
   "metadata": {
    "collapsed": false,
    "ExecuteTime": {
     "end_time": "2024-02-21T12:37:20.220339100Z",
     "start_time": "2024-02-21T12:37:20.142054Z"
    }
   },
   "id": "ddcf4aaccd2ac680",
   "execution_count": 4
  },
  {
   "cell_type": "markdown",
   "source": [
    "### 2. Handle Missing Values"
   ],
   "metadata": {
    "collapsed": false
   },
   "id": "fe0d9aadcf2ee4ef"
  },
  {
   "cell_type": "code",
   "outputs": [],
   "source": [
    "from sklearn.impute import SimpleImputer\n",
    "\n",
    "imputer = SimpleImputer(strategy='mean')\n",
    "X_all = imputer.fit_transform(all_red_ball_positions)\n",
    "y_all = imputer.fit_transform(all_positions)\n",
    "X = imputer.fit_transform(red_ball_positions)\n",
    "y = imputer.fit_transform(xyz_positions)"
   ],
   "metadata": {
    "collapsed": false,
    "ExecuteTime": {
     "end_time": "2024-02-21T12:37:20.422287Z",
     "start_time": "2024-02-21T12:37:20.158055700Z"
    }
   },
   "id": "34b178565d1b1f62",
   "execution_count": 5
  },
  {
   "cell_type": "markdown",
   "source": [
    "### 3. Prepare the Data"
   ],
   "metadata": {
    "collapsed": false
   },
   "id": "848f9a742aa25652"
  },
  {
   "cell_type": "code",
   "outputs": [],
   "source": [
    "from sklearn.model_selection import train_test_split\n",
    "\n",
    "X_train, X_test, y_train, y_test = train_test_split(X_all, y_all, test_size=0.2, random_state=42)"
   ],
   "metadata": {
    "collapsed": false,
    "ExecuteTime": {
     "end_time": "2024-02-21T12:37:20.442282700Z",
     "start_time": "2024-02-21T12:37:20.424282500Z"
    }
   },
   "id": "d4d6adb7f3f783f0",
   "execution_count": 6
  },
  {
   "cell_type": "code",
   "outputs": [
    {
     "data": {
      "text/plain": "((20285, 14), (5072, 14), (20285, 3), (5072, 3))"
     },
     "execution_count": 7,
     "metadata": {},
     "output_type": "execute_result"
    }
   ],
   "source": [
    "X_train.shape, X_test.shape, y_train.shape, y_test.shape"
   ],
   "metadata": {
    "collapsed": false,
    "ExecuteTime": {
     "end_time": "2024-02-21T12:37:20.465349400Z",
     "start_time": "2024-02-21T12:37:20.439287300Z"
    }
   },
   "id": "fa006f31fa30a2e0",
   "execution_count": 7
  },
  {
   "cell_type": "code",
   "outputs": [],
   "source": [
    "from sklearn.preprocessing import StandardScaler\n",
    "\n",
    "scaler_x = StandardScaler()\n",
    "scaler_y = StandardScaler()\n",
    "X_scaled = scaler_x.fit_transform(X_train)\n",
    "y_scaled = scaler_y.fit_transform(y_train)"
   ],
   "metadata": {
    "collapsed": false,
    "ExecuteTime": {
     "end_time": "2024-02-21T12:37:20.491283500Z",
     "start_time": "2024-02-21T12:37:20.456283200Z"
    }
   },
   "id": "21898f73a7a8c0dd",
   "execution_count": 8
  },
  {
   "cell_type": "markdown",
   "source": [
    "### 4. Train the Model"
   ],
   "metadata": {
    "collapsed": false
   },
   "id": "1b70deb6d682241b"
  },
  {
   "cell_type": "code",
   "outputs": [
    {
     "data": {
      "text/plain": "HBox(children=(VBox(children=(IntProgress(value=0, max=1000), HTML(value=''))), Box(children=(HTML(value=''),)…",
      "application/vnd.jupyter.widget-view+json": {
       "version_major": 2,
       "version_minor": 0,
       "model_id": "d104cba230e5460daab1a53ebd80167f"
      }
     },
     "metadata": {},
     "output_type": "display_data"
    },
    {
     "data": {
      "text/plain": "<paramz.optimization.optimization.opt_lbfgsb at 0x2316ab65250>"
     },
     "execution_count": 9,
     "metadata": {},
     "output_type": "execute_result"
    }
   ],
   "source": [
    "kernel = GPy.kern.RBF(input_dim=14)\n",
    "model = GPy.models.GPRegression(X_scaled, y_scaled, kernel=kernel)\n",
    "model.optimize(messages=True)"
   ],
   "metadata": {
    "collapsed": false,
    "ExecuteTime": {
     "end_time": "2024-02-21T13:34:15.419203100Z",
     "start_time": "2024-02-21T12:37:20.472286100Z"
    }
   },
   "id": "58f350a3191ac46b",
   "execution_count": 9
  },
  {
   "cell_type": "code",
   "outputs": [],
   "source": [],
   "metadata": {
    "collapsed": false,
    "ExecuteTime": {
     "end_time": "2024-02-21T13:34:15.490335300Z",
     "start_time": "2024-02-21T13:34:15.346004400Z"
    }
   },
   "id": "499610318518a31d",
   "execution_count": 9
  }
 ],
 "metadata": {
  "kernelspec": {
   "display_name": "Python 3",
   "language": "python",
   "name": "python3"
  },
  "language_info": {
   "codemirror_mode": {
    "name": "ipython",
    "version": 2
   },
   "file_extension": ".py",
   "mimetype": "text/x-python",
   "name": "python",
   "nbconvert_exporter": "python",
   "pygments_lexer": "ipython2",
   "version": "2.7.6"
  }
 },
 "nbformat": 4,
 "nbformat_minor": 5
}
