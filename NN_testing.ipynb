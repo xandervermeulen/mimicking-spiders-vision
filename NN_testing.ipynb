{
 "cells": [
  {
   "cell_type": "code",
   "execution_count": 19,
   "metadata": {
    "collapsed": true,
    "pycharm": {
     "name": "#%%\n"
    },
    "ExecuteTime": {
     "end_time": "2024-02-23T14:55:57.242280600Z",
     "start_time": "2024-02-23T14:55:57.070530700Z"
    }
   },
   "outputs": [],
   "source": [
    "import math\n",
    "import numpy as np\n",
    "import pandas as pd\n",
    "from sklearn.neural_network import MLPRegressor\n",
    "from sklearn.model_selection import train_test_split\n",
    "from sklearn.preprocessing import StandardScaler\n",
    "from sklearn.metrics import mean_squared_error\n",
    "from sklearn.experimental import enable_iterative_imputer\n",
    "from sklearn.impute import IterativeImputer"
   ]
  },
  {
   "cell_type": "markdown",
   "source": [
    "Reading and splitting the data train and test set"
   ],
   "metadata": {
    "collapsed": false,
    "pycharm": {
     "name": "#%% md\n"
    }
   }
  },
  {
   "cell_type": "code",
   "execution_count": 20,
   "outputs": [
    {
     "name": "stdout",
     "output_type": "stream",
     "text": [
      "<class 'pandas.core.frame.DataFrame'>\n",
      "RangeIndex: 2709 entries, 4 to 2712\n",
      "Data columns (total 3 columns):\n",
      " #   Column  Non-Null Count  Dtype  \n",
      "---  ------  --------------  -----  \n",
      " 0   x       2709 non-null   float64\n",
      " 1   y       2709 non-null   float64\n",
      " 2   z       2709 non-null   float64\n",
      "dtypes: float64(3)\n",
      "memory usage: 63.6 KB\n"
     ]
    }
   ],
   "source": [
    "op = pd.read_csv(\"data/positions_xyz_128px_025.csv\", delimiter=\",\", decimal=\".\", header=0)\n",
    "op = op.iloc[4:]\n",
    "op.info()"
   ],
   "metadata": {
    "collapsed": false,
    "pycharm": {
     "name": "#%%\n"
    },
    "ExecuteTime": {
     "end_time": "2024-02-23T14:55:57.374729Z",
     "start_time": "2024-02-23T14:55:57.277042900Z"
    }
   }
  },
  {
   "cell_type": "code",
   "execution_count": 21,
   "outputs": [
    {
     "name": "stdout",
     "output_type": "stream",
     "text": [
      "<class 'pandas.core.frame.DataFrame'>\n",
      "RangeIndex: 2709 entries, 0 to 2708\n",
      "Data columns (total 14 columns):\n",
      " #   Column  Non-Null Count  Dtype  \n",
      "---  ------  --------------  -----  \n",
      " 0   u0      2709 non-null   float64\n",
      " 1   v0      2709 non-null   float64\n",
      " 2   u1      2595 non-null   float64\n",
      " 3   v1      2595 non-null   float64\n",
      " 4   u2      781 non-null    float64\n",
      " 5   v2      781 non-null    float64\n",
      " 6   u3      2062 non-null   float64\n",
      " 7   v3      2062 non-null   float64\n",
      " 8   u4      2707 non-null   float64\n",
      " 9   v4      2707 non-null   float64\n",
      " 10  u5      2323 non-null   float64\n",
      " 11  v5      2323 non-null   float64\n",
      " 12  u6      1737 non-null   float64\n",
      " 13  v6      1737 non-null   float64\n",
      "dtypes: float64(14)\n",
      "memory usage: 296.4 KB\n"
     ]
    }
   ],
   "source": [
    "ip = pd.read_csv(\"data/red_ball_coordinates_128px_025.csv\", delimiter=\",\", decimal=\".\", header=0)\n",
    "ip.info()"
   ],
   "metadata": {
    "collapsed": false,
    "pycharm": {
     "name": "#%%\n"
    },
    "ExecuteTime": {
     "end_time": "2024-02-23T14:55:57.427310500Z",
     "start_time": "2024-02-23T14:55:57.342364200Z"
    }
   }
  },
  {
   "cell_type": "code",
   "execution_count": 22,
   "outputs": [],
   "source": [
    "ipTest = ip.iloc[2000:]\n",
    "opTest = op.iloc[2000:]\n",
    "ipTrain = ip.iloc[:2000]\n",
    "opTrain = op.iloc[:2000]"
   ],
   "metadata": {
    "collapsed": false,
    "pycharm": {
     "name": "#%%\n"
    },
    "ExecuteTime": {
     "end_time": "2024-02-23T14:55:57.492843800Z",
     "start_time": "2024-02-23T14:55:57.404328200Z"
    }
   }
  },
  {
   "cell_type": "code",
   "execution_count": 23,
   "outputs": [
    {
     "name": "stdout",
     "output_type": "stream",
     "text": [
      "127.5\n"
     ]
    }
   ],
   "source": [
    "print(max(ipTest.v6))"
   ],
   "metadata": {
    "collapsed": false,
    "pycharm": {
     "name": "#%%\n"
    },
    "ExecuteTime": {
     "end_time": "2024-02-23T14:55:57.558279Z",
     "start_time": "2024-02-23T14:55:57.453279Z"
    }
   }
  },
  {
   "cell_type": "markdown",
   "source": [
    "Parameters for the NN"
   ],
   "metadata": {
    "collapsed": false,
    "pycharm": {
     "name": "#%% md\n"
    }
   }
  },
  {
   "cell_type": "code",
   "execution_count": 24,
   "outputs": [],
   "source": [
    "params = {'hidden_layer_sizes': [10, 10],\n",
    "          'activation': 'relu', 'solver': 'adam',\n",
    "          'alpha': 0.0, 'batch_size': 10,\n",
    "          'random_state': 0, 'tol': 0.0001,\n",
    "          'nesterovs_momentum': False,\n",
    "          'learning_rate': 'constant',\n",
    "          'learning_rate_init': 0.01,\n",
    "          'max_iter': 1000, 'shuffle': True,\n",
    "          'n_iter_no_change': 50, 'verbose': False}"
   ],
   "metadata": {
    "collapsed": false,
    "pycharm": {
     "name": "#%%\n"
    },
    "ExecuteTime": {
     "end_time": "2024-02-23T14:55:57.591934700Z",
     "start_time": "2024-02-23T14:55:57.506542200Z"
    }
   }
  },
  {
   "cell_type": "markdown",
   "source": [
    "Imputing NaN values"
   ],
   "metadata": {
    "collapsed": false,
    "pycharm": {
     "name": "#%% md\n"
    }
   }
  },
  {
   "cell_type": "code",
   "execution_count": 25,
   "outputs": [
    {
     "name": "stderr",
     "output_type": "stream",
     "text": [
      "C:\\Users\\xande\\venv\\lib\\site-packages\\sklearn\\impute\\_iterative.py:800: ConvergenceWarning: [IterativeImputer] Early stopping criterion not reached.\n",
      "  warnings.warn(\n",
      "C:\\Users\\xande\\venv\\lib\\site-packages\\sklearn\\impute\\_iterative.py:800: ConvergenceWarning: [IterativeImputer] Early stopping criterion not reached.\n",
      "  warnings.warn(\n"
     ]
    }
   ],
   "source": [
    "impute_it = IterativeImputer()\n",
    "ipTest = impute_it.fit_transform(ipTest)\n",
    "ipTrain = impute_it.fit_transform(ipTrain)"
   ],
   "metadata": {
    "collapsed": false,
    "pycharm": {
     "name": "#%%\n"
    },
    "ExecuteTime": {
     "end_time": "2024-02-23T14:55:59.230706500Z",
     "start_time": "2024-02-23T14:55:57.602374400Z"
    }
   }
  },
  {
   "cell_type": "markdown",
   "source": [
    "Creating a neural network object with said parameters"
   ],
   "metadata": {
    "collapsed": false,
    "pycharm": {
     "name": "#%% md\n"
    }
   }
  },
  {
   "cell_type": "code",
   "execution_count": 26,
   "outputs": [],
   "source": [
    "net = MLPRegressor(**params)"
   ],
   "metadata": {
    "collapsed": false,
    "pycharm": {
     "name": "#%%\n"
    },
    "ExecuteTime": {
     "end_time": "2024-02-23T14:55:59.233126900Z",
     "start_time": "2024-02-23T14:55:59.208281300Z"
    }
   }
  },
  {
   "cell_type": "markdown",
   "source": [
    "Training Neural Net with training in- and output"
   ],
   "metadata": {
    "collapsed": false,
    "pycharm": {
     "name": "#%% md\n"
    }
   }
  },
  {
   "cell_type": "code",
   "execution_count": 27,
   "outputs": [
    {
     "data": {
      "text/plain": "MLPRegressor(alpha=0.0, batch_size=10, hidden_layer_sizes=[10, 10],\n             learning_rate_init=0.01, max_iter=1000, n_iter_no_change=50,\n             nesterovs_momentum=False, random_state=0)",
      "text/html": "<style>#sk-container-id-2 {color: black;}#sk-container-id-2 pre{padding: 0;}#sk-container-id-2 div.sk-toggleable {background-color: white;}#sk-container-id-2 label.sk-toggleable__label {cursor: pointer;display: block;width: 100%;margin-bottom: 0;padding: 0.3em;box-sizing: border-box;text-align: center;}#sk-container-id-2 label.sk-toggleable__label-arrow:before {content: \"▸\";float: left;margin-right: 0.25em;color: #696969;}#sk-container-id-2 label.sk-toggleable__label-arrow:hover:before {color: black;}#sk-container-id-2 div.sk-estimator:hover label.sk-toggleable__label-arrow:before {color: black;}#sk-container-id-2 div.sk-toggleable__content {max-height: 0;max-width: 0;overflow: hidden;text-align: left;background-color: #f0f8ff;}#sk-container-id-2 div.sk-toggleable__content pre {margin: 0.2em;color: black;border-radius: 0.25em;background-color: #f0f8ff;}#sk-container-id-2 input.sk-toggleable__control:checked~div.sk-toggleable__content {max-height: 200px;max-width: 100%;overflow: auto;}#sk-container-id-2 input.sk-toggleable__control:checked~label.sk-toggleable__label-arrow:before {content: \"▾\";}#sk-container-id-2 div.sk-estimator input.sk-toggleable__control:checked~label.sk-toggleable__label {background-color: #d4ebff;}#sk-container-id-2 div.sk-label input.sk-toggleable__control:checked~label.sk-toggleable__label {background-color: #d4ebff;}#sk-container-id-2 input.sk-hidden--visually {border: 0;clip: rect(1px 1px 1px 1px);clip: rect(1px, 1px, 1px, 1px);height: 1px;margin: -1px;overflow: hidden;padding: 0;position: absolute;width: 1px;}#sk-container-id-2 div.sk-estimator {font-family: monospace;background-color: #f0f8ff;border: 1px dotted black;border-radius: 0.25em;box-sizing: border-box;margin-bottom: 0.5em;}#sk-container-id-2 div.sk-estimator:hover {background-color: #d4ebff;}#sk-container-id-2 div.sk-parallel-item::after {content: \"\";width: 100%;border-bottom: 1px solid gray;flex-grow: 1;}#sk-container-id-2 div.sk-label:hover label.sk-toggleable__label {background-color: #d4ebff;}#sk-container-id-2 div.sk-serial::before {content: \"\";position: absolute;border-left: 1px solid gray;box-sizing: border-box;top: 0;bottom: 0;left: 50%;z-index: 0;}#sk-container-id-2 div.sk-serial {display: flex;flex-direction: column;align-items: center;background-color: white;padding-right: 0.2em;padding-left: 0.2em;position: relative;}#sk-container-id-2 div.sk-item {position: relative;z-index: 1;}#sk-container-id-2 div.sk-parallel {display: flex;align-items: stretch;justify-content: center;background-color: white;position: relative;}#sk-container-id-2 div.sk-item::before, #sk-container-id-2 div.sk-parallel-item::before {content: \"\";position: absolute;border-left: 1px solid gray;box-sizing: border-box;top: 0;bottom: 0;left: 50%;z-index: -1;}#sk-container-id-2 div.sk-parallel-item {display: flex;flex-direction: column;z-index: 1;position: relative;background-color: white;}#sk-container-id-2 div.sk-parallel-item:first-child::after {align-self: flex-end;width: 50%;}#sk-container-id-2 div.sk-parallel-item:last-child::after {align-self: flex-start;width: 50%;}#sk-container-id-2 div.sk-parallel-item:only-child::after {width: 0;}#sk-container-id-2 div.sk-dashed-wrapped {border: 1px dashed gray;margin: 0 0.4em 0.5em 0.4em;box-sizing: border-box;padding-bottom: 0.4em;background-color: white;}#sk-container-id-2 div.sk-label label {font-family: monospace;font-weight: bold;display: inline-block;line-height: 1.2em;}#sk-container-id-2 div.sk-label-container {text-align: center;}#sk-container-id-2 div.sk-container {/* jupyter's `normalize.less` sets `[hidden] { display: none; }` but bootstrap.min.css set `[hidden] { display: none !important; }` so we also need the `!important` here to be able to override the default hidden behavior on the sphinx rendered scikit-learn.org. See: https://github.com/scikit-learn/scikit-learn/issues/21755 */display: inline-block !important;position: relative;}#sk-container-id-2 div.sk-text-repr-fallback {display: none;}</style><div id=\"sk-container-id-2\" class=\"sk-top-container\"><div class=\"sk-text-repr-fallback\"><pre>MLPRegressor(alpha=0.0, batch_size=10, hidden_layer_sizes=[10, 10],\n             learning_rate_init=0.01, max_iter=1000, n_iter_no_change=50,\n             nesterovs_momentum=False, random_state=0)</pre><b>In a Jupyter environment, please rerun this cell to show the HTML representation or trust the notebook. <br />On GitHub, the HTML representation is unable to render, please try loading this page with nbviewer.org.</b></div><div class=\"sk-container\" hidden><div class=\"sk-item\"><div class=\"sk-estimator sk-toggleable\"><input class=\"sk-toggleable__control sk-hidden--visually\" id=\"sk-estimator-id-2\" type=\"checkbox\" checked><label for=\"sk-estimator-id-2\" class=\"sk-toggleable__label sk-toggleable__label-arrow\">MLPRegressor</label><div class=\"sk-toggleable__content\"><pre>MLPRegressor(alpha=0.0, batch_size=10, hidden_layer_sizes=[10, 10],\n             learning_rate_init=0.01, max_iter=1000, n_iter_no_change=50,\n             nesterovs_momentum=False, random_state=0)</pre></div></div></div></div></div>"
     },
     "execution_count": 27,
     "metadata": {},
     "output_type": "execute_result"
    }
   ],
   "source": [
    "net.fit(ipTrain, opTrain)"
   ],
   "metadata": {
    "collapsed": false,
    "pycharm": {
     "name": "#%%\n"
    },
    "ExecuteTime": {
     "end_time": "2024-02-23T14:56:09.998271600Z",
     "start_time": "2024-02-23T14:55:59.221872400Z"
    }
   }
  },
  {
   "cell_type": "markdown",
   "source": [
    "Predicting with the Neural Net converting it into a Dataframe"
   ],
   "metadata": {
    "collapsed": false,
    "pycharm": {
     "name": "#%% md\n"
    }
   }
  },
  {
   "cell_type": "code",
   "execution_count": 28,
   "outputs": [],
   "source": [
    "predicted = net.predict(ipTest)\n",
    "predicted = pd.DataFrame(predicted, columns=['x', 'y', 'z'])\n"
   ],
   "metadata": {
    "collapsed": false,
    "pycharm": {
     "name": "#%%\n"
    },
    "ExecuteTime": {
     "end_time": "2024-02-23T14:56:10.033478200Z",
     "start_time": "2024-02-23T14:56:10.003422500Z"
    }
   }
  },
  {
   "cell_type": "code",
   "execution_count": 29,
   "outputs": [
    {
     "data": {
      "text/plain": "            x         y          z\n0    3.455523  1.744193  24.197860\n1    3.702418  1.912496  24.046280\n2    3.955057  2.101659  23.891540\n3    4.212767  2.309759  23.733740\n4    4.474944  2.534744  23.572870\n..        ...       ...        ...\n704  5.115520  4.872968   9.123255\n705  4.845301  5.128964   8.955405\n706  4.577969  5.373679   8.790463\n707  4.314191  5.604666   8.628434\n708  3.691155  6.095557   8.246799\n\n[709 rows x 3 columns]",
      "text/html": "<div>\n<style scoped>\n    .dataframe tbody tr th:only-of-type {\n        vertical-align: middle;\n    }\n\n    .dataframe tbody tr th {\n        vertical-align: top;\n    }\n\n    .dataframe thead th {\n        text-align: right;\n    }\n</style>\n<table border=\"1\" class=\"dataframe\">\n  <thead>\n    <tr style=\"text-align: right;\">\n      <th></th>\n      <th>x</th>\n      <th>y</th>\n      <th>z</th>\n    </tr>\n  </thead>\n  <tbody>\n    <tr>\n      <th>0</th>\n      <td>3.455523</td>\n      <td>1.744193</td>\n      <td>24.197860</td>\n    </tr>\n    <tr>\n      <th>1</th>\n      <td>3.702418</td>\n      <td>1.912496</td>\n      <td>24.046280</td>\n    </tr>\n    <tr>\n      <th>2</th>\n      <td>3.955057</td>\n      <td>2.101659</td>\n      <td>23.891540</td>\n    </tr>\n    <tr>\n      <th>3</th>\n      <td>4.212767</td>\n      <td>2.309759</td>\n      <td>23.733740</td>\n    </tr>\n    <tr>\n      <th>4</th>\n      <td>4.474944</td>\n      <td>2.534744</td>\n      <td>23.572870</td>\n    </tr>\n    <tr>\n      <th>...</th>\n      <td>...</td>\n      <td>...</td>\n      <td>...</td>\n    </tr>\n    <tr>\n      <th>704</th>\n      <td>5.115520</td>\n      <td>4.872968</td>\n      <td>9.123255</td>\n    </tr>\n    <tr>\n      <th>705</th>\n      <td>4.845301</td>\n      <td>5.128964</td>\n      <td>8.955405</td>\n    </tr>\n    <tr>\n      <th>706</th>\n      <td>4.577969</td>\n      <td>5.373679</td>\n      <td>8.790463</td>\n    </tr>\n    <tr>\n      <th>707</th>\n      <td>4.314191</td>\n      <td>5.604666</td>\n      <td>8.628434</td>\n    </tr>\n    <tr>\n      <th>708</th>\n      <td>3.691155</td>\n      <td>6.095557</td>\n      <td>8.246799</td>\n    </tr>\n  </tbody>\n</table>\n<p>709 rows × 3 columns</p>\n</div>"
     },
     "execution_count": 29,
     "metadata": {},
     "output_type": "execute_result"
    }
   ],
   "source": [
    "test_y = opTest.reset_index(drop=True)\n",
    "test_y"
   ],
   "metadata": {
    "collapsed": false,
    "pycharm": {
     "name": "#%%\n"
    },
    "ExecuteTime": {
     "end_time": "2024-02-23T14:56:10.091636500Z",
     "start_time": "2024-02-23T14:56:10.044982700Z"
    }
   }
  },
  {
   "cell_type": "code",
   "execution_count": 30,
   "outputs": [
    {
     "name": "stdout",
     "output_type": "stream",
     "text": [
      "            x         y          z\n",
      "0    2.812591  2.667469  20.784197\n",
      "1    2.867876  2.783092  21.169954\n",
      "2    3.067982  2.616292  21.104511\n",
      "3    3.305672  2.704616  20.813639\n",
      "4    3.437699  3.156326  22.915002\n",
      "..        ...       ...        ...\n",
      "704  3.876421  4.470782   9.557587\n",
      "705  3.872173  4.470837   9.564176\n",
      "706  3.703584  4.473023   9.825653\n",
      "707  3.818126  4.471538   9.648002\n",
      "708  3.848049  4.471150   9.601592\n",
      "\n",
      "[709 rows x 3 columns]\n",
      "            x         y          z\n",
      "0    3.455523  1.744193  24.197860\n",
      "1    3.702418  1.912496  24.046280\n",
      "2    3.955057  2.101659  23.891540\n",
      "3    4.212767  2.309759  23.733740\n",
      "4    4.474944  2.534744  23.572870\n",
      "..        ...       ...        ...\n",
      "704  5.115520  4.872968   9.123255\n",
      "705  4.845301  5.128964   8.955405\n",
      "706  4.577969  5.373679   8.790463\n",
      "707  4.314191  5.604666   8.628434\n",
      "708  3.691155  6.095557   8.246799\n",
      "\n",
      "[709 rows x 3 columns]\n"
     ]
    }
   ],
   "source": [
    "print(predicted)\n",
    "print(test_y)"
   ],
   "metadata": {
    "collapsed": false,
    "pycharm": {
     "name": "#%%\n"
    },
    "ExecuteTime": {
     "end_time": "2024-02-23T14:56:10.154397800Z",
     "start_time": "2024-02-23T14:56:10.083532200Z"
    }
   }
  },
  {
   "cell_type": "markdown",
   "source": [
    "# Distance calculation\n",
    "Calculating the distance or deviation between the predicted and actual Dataframe -> How good are the results?"
   ],
   "metadata": {
    "collapsed": false,
    "pycharm": {
     "name": "#%% md\n"
    }
   }
  },
  {
   "cell_type": "code",
   "execution_count": 31,
   "outputs": [],
   "source": [
    "#predicted.compare(opTest)"
   ],
   "metadata": {
    "collapsed": false,
    "pycharm": {
     "name": "#%%\n"
    },
    "ExecuteTime": {
     "end_time": "2024-02-23T14:56:10.184274200Z",
     "start_time": "2024-02-23T14:56:10.113429900Z"
    }
   }
  },
  {
   "cell_type": "code",
   "execution_count": 32,
   "outputs": [],
   "source": [
    "#math.dist(predicted, opTest)"
   ],
   "metadata": {
    "collapsed": false,
    "pycharm": {
     "name": "#%%\n"
    },
    "ExecuteTime": {
     "end_time": "2024-02-23T14:56:10.222961900Z",
     "start_time": "2024-02-23T14:56:10.128209600Z"
    }
   }
  },
  {
   "cell_type": "code",
   "execution_count": 33,
   "outputs": [
    {
     "data": {
      "text/plain": "x    3.006802\ny    1.274579\nz    6.431272\ndtype: float64"
     },
     "execution_count": 33,
     "metadata": {},
     "output_type": "execute_result"
    }
   ],
   "source": [
    "predicted.std()"
   ],
   "metadata": {
    "collapsed": false,
    "pycharm": {
     "name": "#%%\n"
    },
    "ExecuteTime": {
     "end_time": "2024-02-23T14:56:10.247698600Z",
     "start_time": "2024-02-23T14:56:10.146635900Z"
    }
   }
  },
  {
   "cell_type": "code",
   "execution_count": 34,
   "outputs": [],
   "source": [
    "#output_table = pd.DataFrame()\n",
    "#\n",
    "#for i in range(709):\n",
    "#    for j in range(3):\n",
    "#        output_table.iloc[i, j] = predicted[i, j] - opTest[i, j]\n",
    "\n",
    "#print(\"Outputtabel met Euclidische afstanden:\")\n",
    "#print(output_table)"
   ],
   "metadata": {
    "collapsed": false,
    "pycharm": {
     "name": "#%%\n"
    },
    "ExecuteTime": {
     "end_time": "2024-02-23T14:56:10.265884500Z",
     "start_time": "2024-02-23T14:56:10.175538500Z"
    }
   }
  },
  {
   "cell_type": "code",
   "execution_count": 35,
   "outputs": [
    {
     "name": "stdout",
     "output_type": "stream",
     "text": [
      "10.382852890605704\n",
      "0.41681056514913245\n",
      "2.421560415360567\n"
     ]
    }
   ],
   "source": [
    "from sklearn.metrics import mean_squared_error, r2_score, mean_absolute_error\n",
    "mse = mean_squared_error(test_y, predicted)\n",
    "mae = mean_absolute_error(test_y, predicted)\n",
    "r2 = r2_score(test_y, predicted)\n",
    "print(mse)\n",
    "print(r2)\n",
    "print(mae)"
   ],
   "metadata": {
    "collapsed": false,
    "pycharm": {
     "name": "#%%\n"
    },
    "ExecuteTime": {
     "end_time": "2024-02-23T14:56:10.267029200Z",
     "start_time": "2024-02-23T14:56:10.197598900Z"
    }
   }
  },
  {
   "cell_type": "code",
   "outputs": [],
   "source": [],
   "metadata": {
    "collapsed": false,
    "ExecuteTime": {
     "end_time": "2024-02-23T14:56:10.304050400Z",
     "start_time": "2024-02-23T14:56:10.221850300Z"
    }
   },
   "execution_count": 35
  }
 ],
 "metadata": {
  "kernelspec": {
   "display_name": "Python 3",
   "language": "python",
   "name": "python3"
  },
  "language_info": {
   "codemirror_mode": {
    "name": "ipython",
    "version": 2
   },
   "file_extension": ".py",
   "mimetype": "text/x-python",
   "name": "python",
   "nbconvert_exporter": "python",
   "pygments_lexer": "ipython2",
   "version": "2.7.6"
  }
 },
 "nbformat": 4,
 "nbformat_minor": 0
}
