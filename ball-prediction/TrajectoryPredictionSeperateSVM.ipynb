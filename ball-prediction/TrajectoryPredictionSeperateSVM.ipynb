{
 "cells": [
  {
   "cell_type": "markdown",
   "source": [
    "## Trajectory prediction for each dimension separately\n",
    "### Using SVR Support Vector Regression"
   ],
   "metadata": {
    "collapsed": false
   },
   "id": "726c05831d2384be"
  },
  {
   "cell_type": "markdown",
   "source": [
    "#### Read the test data"
   ],
   "metadata": {
    "collapsed": false
   },
   "id": "8aa4f20c67217cc3"
  },
  {
   "cell_type": "code",
   "outputs": [
    {
     "data": {
      "text/plain": "       u0    v0    u1    v1    u2    v2     u3    v3    u4    v4    u5     v5  \\\n0     0.0  42.0  87.0  39.0   NaN   NaN   44.0  83.0  89.0  83.0   NaN    NaN   \n1     0.5  42.5  87.0  40.0   NaN   NaN   45.0  84.0  89.0  84.0   NaN    NaN   \n2     0.5  43.5  87.0  41.0   NaN   NaN   45.0  85.0  89.0  85.0   NaN    NaN   \n3     1.0  45.0  87.5  42.0   NaN   NaN   45.0  86.0  89.0  86.0   NaN    NaN   \n4     1.0  45.5  88.0  43.0   NaN   NaN   45.0  86.0  90.0  87.0   NaN    NaN   \n..    ...   ...   ...   ...   ...   ...    ...   ...   ...   ...   ...    ...   \n496  68.0  10.0  55.0  26.0  64.0  59.0  111.0  59.0  59.5  69.0  54.5  105.0   \n497  67.0   9.0  55.0  26.0  63.0  58.0  110.0  58.0  59.5  69.0  54.0  103.0   \n498  66.0   8.0  55.0  26.0  62.0  57.0  109.0  57.0  59.5  69.0  53.0  102.5   \n499  65.0   5.0  55.0  26.0  61.0  55.0  107.5  55.0  59.5  69.0  52.0  101.0   \n500  66.0   6.0  55.0  26.0  62.0  56.0  108.0  56.0  59.5  69.0  52.0  101.0   \n\n       u6     v6  \n0    69.0  122.0  \n1    68.5  120.5  \n2    68.5  120.5  \n3    68.5  120.5  \n4    68.5  120.5  \n..    ...    ...  \n496  68.0  118.5  \n497  68.0  118.5  \n498  68.0  118.5  \n499  68.0  118.5  \n500  68.0  118.5  \n\n[501 rows x 14 columns]",
      "text/html": "<div>\n<style scoped>\n    .dataframe tbody tr th:only-of-type {\n        vertical-align: middle;\n    }\n\n    .dataframe tbody tr th {\n        vertical-align: top;\n    }\n\n    .dataframe thead th {\n        text-align: right;\n    }\n</style>\n<table border=\"1\" class=\"dataframe\">\n  <thead>\n    <tr style=\"text-align: right;\">\n      <th></th>\n      <th>u0</th>\n      <th>v0</th>\n      <th>u1</th>\n      <th>v1</th>\n      <th>u2</th>\n      <th>v2</th>\n      <th>u3</th>\n      <th>v3</th>\n      <th>u4</th>\n      <th>v4</th>\n      <th>u5</th>\n      <th>v5</th>\n      <th>u6</th>\n      <th>v6</th>\n    </tr>\n  </thead>\n  <tbody>\n    <tr>\n      <th>0</th>\n      <td>0.0</td>\n      <td>42.0</td>\n      <td>87.0</td>\n      <td>39.0</td>\n      <td>NaN</td>\n      <td>NaN</td>\n      <td>44.0</td>\n      <td>83.0</td>\n      <td>89.0</td>\n      <td>83.0</td>\n      <td>NaN</td>\n      <td>NaN</td>\n      <td>69.0</td>\n      <td>122.0</td>\n    </tr>\n    <tr>\n      <th>1</th>\n      <td>0.5</td>\n      <td>42.5</td>\n      <td>87.0</td>\n      <td>40.0</td>\n      <td>NaN</td>\n      <td>NaN</td>\n      <td>45.0</td>\n      <td>84.0</td>\n      <td>89.0</td>\n      <td>84.0</td>\n      <td>NaN</td>\n      <td>NaN</td>\n      <td>68.5</td>\n      <td>120.5</td>\n    </tr>\n    <tr>\n      <th>2</th>\n      <td>0.5</td>\n      <td>43.5</td>\n      <td>87.0</td>\n      <td>41.0</td>\n      <td>NaN</td>\n      <td>NaN</td>\n      <td>45.0</td>\n      <td>85.0</td>\n      <td>89.0</td>\n      <td>85.0</td>\n      <td>NaN</td>\n      <td>NaN</td>\n      <td>68.5</td>\n      <td>120.5</td>\n    </tr>\n    <tr>\n      <th>3</th>\n      <td>1.0</td>\n      <td>45.0</td>\n      <td>87.5</td>\n      <td>42.0</td>\n      <td>NaN</td>\n      <td>NaN</td>\n      <td>45.0</td>\n      <td>86.0</td>\n      <td>89.0</td>\n      <td>86.0</td>\n      <td>NaN</td>\n      <td>NaN</td>\n      <td>68.5</td>\n      <td>120.5</td>\n    </tr>\n    <tr>\n      <th>4</th>\n      <td>1.0</td>\n      <td>45.5</td>\n      <td>88.0</td>\n      <td>43.0</td>\n      <td>NaN</td>\n      <td>NaN</td>\n      <td>45.0</td>\n      <td>86.0</td>\n      <td>90.0</td>\n      <td>87.0</td>\n      <td>NaN</td>\n      <td>NaN</td>\n      <td>68.5</td>\n      <td>120.5</td>\n    </tr>\n    <tr>\n      <th>...</th>\n      <td>...</td>\n      <td>...</td>\n      <td>...</td>\n      <td>...</td>\n      <td>...</td>\n      <td>...</td>\n      <td>...</td>\n      <td>...</td>\n      <td>...</td>\n      <td>...</td>\n      <td>...</td>\n      <td>...</td>\n      <td>...</td>\n      <td>...</td>\n    </tr>\n    <tr>\n      <th>496</th>\n      <td>68.0</td>\n      <td>10.0</td>\n      <td>55.0</td>\n      <td>26.0</td>\n      <td>64.0</td>\n      <td>59.0</td>\n      <td>111.0</td>\n      <td>59.0</td>\n      <td>59.5</td>\n      <td>69.0</td>\n      <td>54.5</td>\n      <td>105.0</td>\n      <td>68.0</td>\n      <td>118.5</td>\n    </tr>\n    <tr>\n      <th>497</th>\n      <td>67.0</td>\n      <td>9.0</td>\n      <td>55.0</td>\n      <td>26.0</td>\n      <td>63.0</td>\n      <td>58.0</td>\n      <td>110.0</td>\n      <td>58.0</td>\n      <td>59.5</td>\n      <td>69.0</td>\n      <td>54.0</td>\n      <td>103.0</td>\n      <td>68.0</td>\n      <td>118.5</td>\n    </tr>\n    <tr>\n      <th>498</th>\n      <td>66.0</td>\n      <td>8.0</td>\n      <td>55.0</td>\n      <td>26.0</td>\n      <td>62.0</td>\n      <td>57.0</td>\n      <td>109.0</td>\n      <td>57.0</td>\n      <td>59.5</td>\n      <td>69.0</td>\n      <td>53.0</td>\n      <td>102.5</td>\n      <td>68.0</td>\n      <td>118.5</td>\n    </tr>\n    <tr>\n      <th>499</th>\n      <td>65.0</td>\n      <td>5.0</td>\n      <td>55.0</td>\n      <td>26.0</td>\n      <td>61.0</td>\n      <td>55.0</td>\n      <td>107.5</td>\n      <td>55.0</td>\n      <td>59.5</td>\n      <td>69.0</td>\n      <td>52.0</td>\n      <td>101.0</td>\n      <td>68.0</td>\n      <td>118.5</td>\n    </tr>\n    <tr>\n      <th>500</th>\n      <td>66.0</td>\n      <td>6.0</td>\n      <td>55.0</td>\n      <td>26.0</td>\n      <td>62.0</td>\n      <td>56.0</td>\n      <td>108.0</td>\n      <td>56.0</td>\n      <td>59.5</td>\n      <td>69.0</td>\n      <td>52.0</td>\n      <td>101.0</td>\n      <td>68.0</td>\n      <td>118.5</td>\n    </tr>\n  </tbody>\n</table>\n<p>501 rows × 14 columns</p>\n</div>"
     },
     "execution_count": 1,
     "metadata": {},
     "output_type": "execute_result"
    }
   ],
   "source": [
    "import pandas as pd\n",
    "\n",
    "red_ball_fill = pd.read_csv('../test-data/red_ball_coordinates_128px_2024-02-27_11h29m.csv', delimiter=',', decimal='.')\n",
    "red_ball_fill"
   ],
   "metadata": {
    "collapsed": false,
    "ExecuteTime": {
     "end_time": "2024-02-28T23:45:29.445440Z",
     "start_time": "2024-02-28T23:45:29.191317300Z"
    }
   },
   "id": "a42286c1907c8df4",
   "execution_count": 1
  },
  {
   "cell_type": "markdown",
   "source": [
    "#### Split the test data into NaN and non-NaN rows"
   ],
   "metadata": {
    "collapsed": false
   },
   "id": "daf34480e83fa9c6"
  },
  {
   "cell_type": "code",
   "outputs": [
    {
     "data": {
      "text/plain": "     u0  v0    u1    v1    u2    v2    u3    v3     u4    v4    u5    v5  \\\n132 NaN NaN  55.0  25.5  52.0  48.0  98.0  48.0   59.5  69.5  42.0  94.0   \n133 NaN NaN  55.0  25.5  50.0  47.0  96.5  47.0   59.5  69.5  41.0  93.0   \n134 NaN NaN  55.0  23.5  49.0  47.0  95.0  47.0   59.5  69.5  40.0  93.0   \n135 NaN NaN  55.0  23.5  48.0  46.0  94.0  46.5   59.5  69.5  38.0  92.5   \n136 NaN NaN  55.0  23.5  46.0  46.0  92.0  46.0   59.5  69.5  37.0  92.0   \n137 NaN NaN  55.0  23.5  45.0  46.0  90.5  46.0   59.5  69.5  35.0  92.0   \n138 NaN NaN  55.0  23.5  43.0  45.0  89.0  46.0   59.5  69.5  34.0  91.0   \n139 NaN NaN  55.0  23.5  42.0  45.0  87.0  46.0   59.5  69.5  32.0  91.0   \n140 NaN NaN  55.0  23.5  40.0  45.0  86.0  46.0   59.5  69.5  30.0  91.0   \n141 NaN NaN  55.0  23.5  38.5  45.0  84.0  46.0   59.5  69.5  29.0  91.0   \n142 NaN NaN  55.0  23.5  37.0  45.0  83.0  46.0   59.5  69.5  27.0  91.0   \n143 NaN NaN  55.0  23.5  35.0  45.0  81.0  46.0   59.5  69.5  25.0  91.0   \n144 NaN NaN  55.0  23.5  34.0  45.0  79.5  46.0   59.5  69.5  23.0  91.0   \n145 NaN NaN  55.0  23.5  32.0  45.0  78.0  46.0   61.0  69.0  22.0  91.0   \n146 NaN NaN  55.0  23.5  30.0  45.0  76.0  46.0  126.0  44.0  20.0  91.0   \n147 NaN NaN  55.0  23.0  28.0  45.0  75.0  46.0  125.0  44.0  18.0  91.0   \n148 NaN NaN  55.0  23.0  27.0  45.0  73.5  47.0  124.0  44.0  16.0  91.0   \n149 NaN NaN  55.0  23.0  25.0  45.5  72.0  47.0  123.0  45.0  14.0  92.0   \n150 NaN NaN  55.0  23.0  23.0  46.0  70.0  47.0  121.0  45.0  12.0  92.0   \n151 NaN NaN  55.0  23.0  22.0  46.0  69.0  48.0  119.0  46.0  11.0  92.0   \n152 NaN NaN  55.0  23.0  20.0  47.0  67.0  48.0  117.0  47.0   9.0  93.0   \n153 NaN NaN  55.0  23.5  19.0  47.0  66.0  49.0  115.0  47.0   7.0  93.0   \n154 NaN NaN  55.0  23.5  17.0  48.0  64.0  50.0  113.0  48.0   5.0  94.0   \n174 NaN NaN  89.5  22.5   NaN   NaN  46.0  69.0   91.0  69.0   NaN   NaN   \n175 NaN NaN  89.0  24.0   NaN   NaN  45.0  70.0   90.0  70.0   NaN   NaN   \n176 NaN NaN  89.0  25.0   NaN   NaN  45.0  70.0   90.0  71.0   NaN   NaN   \n183 NaN NaN  86.0  33.0   NaN   NaN  44.0  77.0   89.0  78.0   NaN   NaN   \n184 NaN NaN  86.0  34.5   NaN   NaN  44.0  78.5   89.0  79.0   NaN   NaN   \n185 NaN NaN  86.0  35.0   NaN   NaN  44.0  79.0   89.0  79.0   NaN   NaN   \n186 NaN NaN  86.0  37.0   NaN   NaN  44.0  80.5   89.0  81.0   NaN   NaN   \n324 NaN NaN  55.0  24.0  47.0  46.0  93.0  46.0   59.5  69.5  37.5  92.0   \n325 NaN NaN  55.0  24.0  46.0  46.0  91.0  46.0   59.5  69.5  36.0  92.0   \n326 NaN NaN  55.0  24.0  44.0  46.0  90.0  46.0   59.5  69.5  35.0  91.5   \n333 NaN NaN  55.0  24.0  33.0  45.0  79.0  46.0   59.5  69.5  22.5  91.0   \n334 NaN NaN  55.0  24.0  31.0  45.0  77.0  46.0  126.0  44.5  21.0  91.0   \n335 NaN NaN  55.0  24.0  29.5  45.0  75.0  46.0  125.0  44.0  19.0  91.0   \n336 NaN NaN  55.0  24.0  27.5  45.0  74.0  47.0  124.0  44.0  17.0  91.0   \n337 NaN NaN  55.0  24.0  26.0  45.0  72.0  47.0  123.0  44.0  15.0  91.0   \n338 NaN NaN  55.0  24.0  24.0  46.0  71.0  47.0  122.0  45.0  13.0  92.0   \n\n        u6     v6  \n132   68.0  118.5  \n133   68.0  118.5  \n134   68.0  118.5  \n135   68.0  118.5  \n136   68.0  118.5  \n137   68.0  118.5  \n138   68.0  118.5  \n139   68.0  118.5  \n140   68.0  118.5  \n141   68.0  118.5  \n142   68.0  118.5  \n143   68.0  118.5  \n144   68.0  118.5  \n145   68.0  118.5  \n146   68.0  118.5  \n147   68.0  118.5  \n148   68.0  118.5  \n149   68.0  118.5  \n150   68.0  118.5  \n151   68.5  118.0  \n152  126.0   94.0  \n153  125.0   94.0  \n154  124.0   95.0  \n174  105.0  117.0  \n175  105.0  118.0  \n176  104.0  119.0  \n183  103.0  126.0  \n184  102.5  127.0  \n185   69.0  123.0  \n186   68.0  119.0  \n324   68.0  118.0  \n325   68.0  118.0  \n326   68.0  118.0  \n333   68.0  118.0  \n334   68.0  118.0  \n335   68.0  118.0  \n336   68.0  118.0  \n337   68.0  118.0  \n338   68.0  118.0  ",
      "text/html": "<div>\n<style scoped>\n    .dataframe tbody tr th:only-of-type {\n        vertical-align: middle;\n    }\n\n    .dataframe tbody tr th {\n        vertical-align: top;\n    }\n\n    .dataframe thead th {\n        text-align: right;\n    }\n</style>\n<table border=\"1\" class=\"dataframe\">\n  <thead>\n    <tr style=\"text-align: right;\">\n      <th></th>\n      <th>u0</th>\n      <th>v0</th>\n      <th>u1</th>\n      <th>v1</th>\n      <th>u2</th>\n      <th>v2</th>\n      <th>u3</th>\n      <th>v3</th>\n      <th>u4</th>\n      <th>v4</th>\n      <th>u5</th>\n      <th>v5</th>\n      <th>u6</th>\n      <th>v6</th>\n    </tr>\n  </thead>\n  <tbody>\n    <tr>\n      <th>132</th>\n      <td>NaN</td>\n      <td>NaN</td>\n      <td>55.0</td>\n      <td>25.5</td>\n      <td>52.0</td>\n      <td>48.0</td>\n      <td>98.0</td>\n      <td>48.0</td>\n      <td>59.5</td>\n      <td>69.5</td>\n      <td>42.0</td>\n      <td>94.0</td>\n      <td>68.0</td>\n      <td>118.5</td>\n    </tr>\n    <tr>\n      <th>133</th>\n      <td>NaN</td>\n      <td>NaN</td>\n      <td>55.0</td>\n      <td>25.5</td>\n      <td>50.0</td>\n      <td>47.0</td>\n      <td>96.5</td>\n      <td>47.0</td>\n      <td>59.5</td>\n      <td>69.5</td>\n      <td>41.0</td>\n      <td>93.0</td>\n      <td>68.0</td>\n      <td>118.5</td>\n    </tr>\n    <tr>\n      <th>134</th>\n      <td>NaN</td>\n      <td>NaN</td>\n      <td>55.0</td>\n      <td>23.5</td>\n      <td>49.0</td>\n      <td>47.0</td>\n      <td>95.0</td>\n      <td>47.0</td>\n      <td>59.5</td>\n      <td>69.5</td>\n      <td>40.0</td>\n      <td>93.0</td>\n      <td>68.0</td>\n      <td>118.5</td>\n    </tr>\n    <tr>\n      <th>135</th>\n      <td>NaN</td>\n      <td>NaN</td>\n      <td>55.0</td>\n      <td>23.5</td>\n      <td>48.0</td>\n      <td>46.0</td>\n      <td>94.0</td>\n      <td>46.5</td>\n      <td>59.5</td>\n      <td>69.5</td>\n      <td>38.0</td>\n      <td>92.5</td>\n      <td>68.0</td>\n      <td>118.5</td>\n    </tr>\n    <tr>\n      <th>136</th>\n      <td>NaN</td>\n      <td>NaN</td>\n      <td>55.0</td>\n      <td>23.5</td>\n      <td>46.0</td>\n      <td>46.0</td>\n      <td>92.0</td>\n      <td>46.0</td>\n      <td>59.5</td>\n      <td>69.5</td>\n      <td>37.0</td>\n      <td>92.0</td>\n      <td>68.0</td>\n      <td>118.5</td>\n    </tr>\n    <tr>\n      <th>137</th>\n      <td>NaN</td>\n      <td>NaN</td>\n      <td>55.0</td>\n      <td>23.5</td>\n      <td>45.0</td>\n      <td>46.0</td>\n      <td>90.5</td>\n      <td>46.0</td>\n      <td>59.5</td>\n      <td>69.5</td>\n      <td>35.0</td>\n      <td>92.0</td>\n      <td>68.0</td>\n      <td>118.5</td>\n    </tr>\n    <tr>\n      <th>138</th>\n      <td>NaN</td>\n      <td>NaN</td>\n      <td>55.0</td>\n      <td>23.5</td>\n      <td>43.0</td>\n      <td>45.0</td>\n      <td>89.0</td>\n      <td>46.0</td>\n      <td>59.5</td>\n      <td>69.5</td>\n      <td>34.0</td>\n      <td>91.0</td>\n      <td>68.0</td>\n      <td>118.5</td>\n    </tr>\n    <tr>\n      <th>139</th>\n      <td>NaN</td>\n      <td>NaN</td>\n      <td>55.0</td>\n      <td>23.5</td>\n      <td>42.0</td>\n      <td>45.0</td>\n      <td>87.0</td>\n      <td>46.0</td>\n      <td>59.5</td>\n      <td>69.5</td>\n      <td>32.0</td>\n      <td>91.0</td>\n      <td>68.0</td>\n      <td>118.5</td>\n    </tr>\n    <tr>\n      <th>140</th>\n      <td>NaN</td>\n      <td>NaN</td>\n      <td>55.0</td>\n      <td>23.5</td>\n      <td>40.0</td>\n      <td>45.0</td>\n      <td>86.0</td>\n      <td>46.0</td>\n      <td>59.5</td>\n      <td>69.5</td>\n      <td>30.0</td>\n      <td>91.0</td>\n      <td>68.0</td>\n      <td>118.5</td>\n    </tr>\n    <tr>\n      <th>141</th>\n      <td>NaN</td>\n      <td>NaN</td>\n      <td>55.0</td>\n      <td>23.5</td>\n      <td>38.5</td>\n      <td>45.0</td>\n      <td>84.0</td>\n      <td>46.0</td>\n      <td>59.5</td>\n      <td>69.5</td>\n      <td>29.0</td>\n      <td>91.0</td>\n      <td>68.0</td>\n      <td>118.5</td>\n    </tr>\n    <tr>\n      <th>142</th>\n      <td>NaN</td>\n      <td>NaN</td>\n      <td>55.0</td>\n      <td>23.5</td>\n      <td>37.0</td>\n      <td>45.0</td>\n      <td>83.0</td>\n      <td>46.0</td>\n      <td>59.5</td>\n      <td>69.5</td>\n      <td>27.0</td>\n      <td>91.0</td>\n      <td>68.0</td>\n      <td>118.5</td>\n    </tr>\n    <tr>\n      <th>143</th>\n      <td>NaN</td>\n      <td>NaN</td>\n      <td>55.0</td>\n      <td>23.5</td>\n      <td>35.0</td>\n      <td>45.0</td>\n      <td>81.0</td>\n      <td>46.0</td>\n      <td>59.5</td>\n      <td>69.5</td>\n      <td>25.0</td>\n      <td>91.0</td>\n      <td>68.0</td>\n      <td>118.5</td>\n    </tr>\n    <tr>\n      <th>144</th>\n      <td>NaN</td>\n      <td>NaN</td>\n      <td>55.0</td>\n      <td>23.5</td>\n      <td>34.0</td>\n      <td>45.0</td>\n      <td>79.5</td>\n      <td>46.0</td>\n      <td>59.5</td>\n      <td>69.5</td>\n      <td>23.0</td>\n      <td>91.0</td>\n      <td>68.0</td>\n      <td>118.5</td>\n    </tr>\n    <tr>\n      <th>145</th>\n      <td>NaN</td>\n      <td>NaN</td>\n      <td>55.0</td>\n      <td>23.5</td>\n      <td>32.0</td>\n      <td>45.0</td>\n      <td>78.0</td>\n      <td>46.0</td>\n      <td>61.0</td>\n      <td>69.0</td>\n      <td>22.0</td>\n      <td>91.0</td>\n      <td>68.0</td>\n      <td>118.5</td>\n    </tr>\n    <tr>\n      <th>146</th>\n      <td>NaN</td>\n      <td>NaN</td>\n      <td>55.0</td>\n      <td>23.5</td>\n      <td>30.0</td>\n      <td>45.0</td>\n      <td>76.0</td>\n      <td>46.0</td>\n      <td>126.0</td>\n      <td>44.0</td>\n      <td>20.0</td>\n      <td>91.0</td>\n      <td>68.0</td>\n      <td>118.5</td>\n    </tr>\n    <tr>\n      <th>147</th>\n      <td>NaN</td>\n      <td>NaN</td>\n      <td>55.0</td>\n      <td>23.0</td>\n      <td>28.0</td>\n      <td>45.0</td>\n      <td>75.0</td>\n      <td>46.0</td>\n      <td>125.0</td>\n      <td>44.0</td>\n      <td>18.0</td>\n      <td>91.0</td>\n      <td>68.0</td>\n      <td>118.5</td>\n    </tr>\n    <tr>\n      <th>148</th>\n      <td>NaN</td>\n      <td>NaN</td>\n      <td>55.0</td>\n      <td>23.0</td>\n      <td>27.0</td>\n      <td>45.0</td>\n      <td>73.5</td>\n      <td>47.0</td>\n      <td>124.0</td>\n      <td>44.0</td>\n      <td>16.0</td>\n      <td>91.0</td>\n      <td>68.0</td>\n      <td>118.5</td>\n    </tr>\n    <tr>\n      <th>149</th>\n      <td>NaN</td>\n      <td>NaN</td>\n      <td>55.0</td>\n      <td>23.0</td>\n      <td>25.0</td>\n      <td>45.5</td>\n      <td>72.0</td>\n      <td>47.0</td>\n      <td>123.0</td>\n      <td>45.0</td>\n      <td>14.0</td>\n      <td>92.0</td>\n      <td>68.0</td>\n      <td>118.5</td>\n    </tr>\n    <tr>\n      <th>150</th>\n      <td>NaN</td>\n      <td>NaN</td>\n      <td>55.0</td>\n      <td>23.0</td>\n      <td>23.0</td>\n      <td>46.0</td>\n      <td>70.0</td>\n      <td>47.0</td>\n      <td>121.0</td>\n      <td>45.0</td>\n      <td>12.0</td>\n      <td>92.0</td>\n      <td>68.0</td>\n      <td>118.5</td>\n    </tr>\n    <tr>\n      <th>151</th>\n      <td>NaN</td>\n      <td>NaN</td>\n      <td>55.0</td>\n      <td>23.0</td>\n      <td>22.0</td>\n      <td>46.0</td>\n      <td>69.0</td>\n      <td>48.0</td>\n      <td>119.0</td>\n      <td>46.0</td>\n      <td>11.0</td>\n      <td>92.0</td>\n      <td>68.5</td>\n      <td>118.0</td>\n    </tr>\n    <tr>\n      <th>152</th>\n      <td>NaN</td>\n      <td>NaN</td>\n      <td>55.0</td>\n      <td>23.0</td>\n      <td>20.0</td>\n      <td>47.0</td>\n      <td>67.0</td>\n      <td>48.0</td>\n      <td>117.0</td>\n      <td>47.0</td>\n      <td>9.0</td>\n      <td>93.0</td>\n      <td>126.0</td>\n      <td>94.0</td>\n    </tr>\n    <tr>\n      <th>153</th>\n      <td>NaN</td>\n      <td>NaN</td>\n      <td>55.0</td>\n      <td>23.5</td>\n      <td>19.0</td>\n      <td>47.0</td>\n      <td>66.0</td>\n      <td>49.0</td>\n      <td>115.0</td>\n      <td>47.0</td>\n      <td>7.0</td>\n      <td>93.0</td>\n      <td>125.0</td>\n      <td>94.0</td>\n    </tr>\n    <tr>\n      <th>154</th>\n      <td>NaN</td>\n      <td>NaN</td>\n      <td>55.0</td>\n      <td>23.5</td>\n      <td>17.0</td>\n      <td>48.0</td>\n      <td>64.0</td>\n      <td>50.0</td>\n      <td>113.0</td>\n      <td>48.0</td>\n      <td>5.0</td>\n      <td>94.0</td>\n      <td>124.0</td>\n      <td>95.0</td>\n    </tr>\n    <tr>\n      <th>174</th>\n      <td>NaN</td>\n      <td>NaN</td>\n      <td>89.5</td>\n      <td>22.5</td>\n      <td>NaN</td>\n      <td>NaN</td>\n      <td>46.0</td>\n      <td>69.0</td>\n      <td>91.0</td>\n      <td>69.0</td>\n      <td>NaN</td>\n      <td>NaN</td>\n      <td>105.0</td>\n      <td>117.0</td>\n    </tr>\n    <tr>\n      <th>175</th>\n      <td>NaN</td>\n      <td>NaN</td>\n      <td>89.0</td>\n      <td>24.0</td>\n      <td>NaN</td>\n      <td>NaN</td>\n      <td>45.0</td>\n      <td>70.0</td>\n      <td>90.0</td>\n      <td>70.0</td>\n      <td>NaN</td>\n      <td>NaN</td>\n      <td>105.0</td>\n      <td>118.0</td>\n    </tr>\n    <tr>\n      <th>176</th>\n      <td>NaN</td>\n      <td>NaN</td>\n      <td>89.0</td>\n      <td>25.0</td>\n      <td>NaN</td>\n      <td>NaN</td>\n      <td>45.0</td>\n      <td>70.0</td>\n      <td>90.0</td>\n      <td>71.0</td>\n      <td>NaN</td>\n      <td>NaN</td>\n      <td>104.0</td>\n      <td>119.0</td>\n    </tr>\n    <tr>\n      <th>183</th>\n      <td>NaN</td>\n      <td>NaN</td>\n      <td>86.0</td>\n      <td>33.0</td>\n      <td>NaN</td>\n      <td>NaN</td>\n      <td>44.0</td>\n      <td>77.0</td>\n      <td>89.0</td>\n      <td>78.0</td>\n      <td>NaN</td>\n      <td>NaN</td>\n      <td>103.0</td>\n      <td>126.0</td>\n    </tr>\n    <tr>\n      <th>184</th>\n      <td>NaN</td>\n      <td>NaN</td>\n      <td>86.0</td>\n      <td>34.5</td>\n      <td>NaN</td>\n      <td>NaN</td>\n      <td>44.0</td>\n      <td>78.5</td>\n      <td>89.0</td>\n      <td>79.0</td>\n      <td>NaN</td>\n      <td>NaN</td>\n      <td>102.5</td>\n      <td>127.0</td>\n    </tr>\n    <tr>\n      <th>185</th>\n      <td>NaN</td>\n      <td>NaN</td>\n      <td>86.0</td>\n      <td>35.0</td>\n      <td>NaN</td>\n      <td>NaN</td>\n      <td>44.0</td>\n      <td>79.0</td>\n      <td>89.0</td>\n      <td>79.0</td>\n      <td>NaN</td>\n      <td>NaN</td>\n      <td>69.0</td>\n      <td>123.0</td>\n    </tr>\n    <tr>\n      <th>186</th>\n      <td>NaN</td>\n      <td>NaN</td>\n      <td>86.0</td>\n      <td>37.0</td>\n      <td>NaN</td>\n      <td>NaN</td>\n      <td>44.0</td>\n      <td>80.5</td>\n      <td>89.0</td>\n      <td>81.0</td>\n      <td>NaN</td>\n      <td>NaN</td>\n      <td>68.0</td>\n      <td>119.0</td>\n    </tr>\n    <tr>\n      <th>324</th>\n      <td>NaN</td>\n      <td>NaN</td>\n      <td>55.0</td>\n      <td>24.0</td>\n      <td>47.0</td>\n      <td>46.0</td>\n      <td>93.0</td>\n      <td>46.0</td>\n      <td>59.5</td>\n      <td>69.5</td>\n      <td>37.5</td>\n      <td>92.0</td>\n      <td>68.0</td>\n      <td>118.0</td>\n    </tr>\n    <tr>\n      <th>325</th>\n      <td>NaN</td>\n      <td>NaN</td>\n      <td>55.0</td>\n      <td>24.0</td>\n      <td>46.0</td>\n      <td>46.0</td>\n      <td>91.0</td>\n      <td>46.0</td>\n      <td>59.5</td>\n      <td>69.5</td>\n      <td>36.0</td>\n      <td>92.0</td>\n      <td>68.0</td>\n      <td>118.0</td>\n    </tr>\n    <tr>\n      <th>326</th>\n      <td>NaN</td>\n      <td>NaN</td>\n      <td>55.0</td>\n      <td>24.0</td>\n      <td>44.0</td>\n      <td>46.0</td>\n      <td>90.0</td>\n      <td>46.0</td>\n      <td>59.5</td>\n      <td>69.5</td>\n      <td>35.0</td>\n      <td>91.5</td>\n      <td>68.0</td>\n      <td>118.0</td>\n    </tr>\n    <tr>\n      <th>333</th>\n      <td>NaN</td>\n      <td>NaN</td>\n      <td>55.0</td>\n      <td>24.0</td>\n      <td>33.0</td>\n      <td>45.0</td>\n      <td>79.0</td>\n      <td>46.0</td>\n      <td>59.5</td>\n      <td>69.5</td>\n      <td>22.5</td>\n      <td>91.0</td>\n      <td>68.0</td>\n      <td>118.0</td>\n    </tr>\n    <tr>\n      <th>334</th>\n      <td>NaN</td>\n      <td>NaN</td>\n      <td>55.0</td>\n      <td>24.0</td>\n      <td>31.0</td>\n      <td>45.0</td>\n      <td>77.0</td>\n      <td>46.0</td>\n      <td>126.0</td>\n      <td>44.5</td>\n      <td>21.0</td>\n      <td>91.0</td>\n      <td>68.0</td>\n      <td>118.0</td>\n    </tr>\n    <tr>\n      <th>335</th>\n      <td>NaN</td>\n      <td>NaN</td>\n      <td>55.0</td>\n      <td>24.0</td>\n      <td>29.5</td>\n      <td>45.0</td>\n      <td>75.0</td>\n      <td>46.0</td>\n      <td>125.0</td>\n      <td>44.0</td>\n      <td>19.0</td>\n      <td>91.0</td>\n      <td>68.0</td>\n      <td>118.0</td>\n    </tr>\n    <tr>\n      <th>336</th>\n      <td>NaN</td>\n      <td>NaN</td>\n      <td>55.0</td>\n      <td>24.0</td>\n      <td>27.5</td>\n      <td>45.0</td>\n      <td>74.0</td>\n      <td>47.0</td>\n      <td>124.0</td>\n      <td>44.0</td>\n      <td>17.0</td>\n      <td>91.0</td>\n      <td>68.0</td>\n      <td>118.0</td>\n    </tr>\n    <tr>\n      <th>337</th>\n      <td>NaN</td>\n      <td>NaN</td>\n      <td>55.0</td>\n      <td>24.0</td>\n      <td>26.0</td>\n      <td>45.0</td>\n      <td>72.0</td>\n      <td>47.0</td>\n      <td>123.0</td>\n      <td>44.0</td>\n      <td>15.0</td>\n      <td>91.0</td>\n      <td>68.0</td>\n      <td>118.0</td>\n    </tr>\n    <tr>\n      <th>338</th>\n      <td>NaN</td>\n      <td>NaN</td>\n      <td>55.0</td>\n      <td>24.0</td>\n      <td>24.0</td>\n      <td>46.0</td>\n      <td>71.0</td>\n      <td>47.0</td>\n      <td>122.0</td>\n      <td>45.0</td>\n      <td>13.0</td>\n      <td>92.0</td>\n      <td>68.0</td>\n      <td>118.0</td>\n    </tr>\n  </tbody>\n</table>\n</div>"
     },
     "execution_count": 2,
     "metadata": {},
     "output_type": "execute_result"
    }
   ],
   "source": [
    "red_ball_nan_rows = red_ball_fill[red_ball_fill.u0.isna() & red_ball_fill.v0.isna()]\n",
    "red_ball_nan_rows"
   ],
   "metadata": {
    "collapsed": false,
    "ExecuteTime": {
     "end_time": "2024-02-28T23:45:29.489989500Z",
     "start_time": "2024-02-28T23:45:29.463186100Z"
    }
   },
   "id": "32deb66121dd840e",
   "execution_count": 2
  },
  {
   "cell_type": "markdown",
   "source": [
    "#### Read the training data"
   ],
   "metadata": {
    "collapsed": false
   },
   "id": "acaec1c24ec18564"
  },
  {
   "cell_type": "code",
   "outputs": [
    {
     "data": {
      "text/plain": "             u0         v0          u1         v1    u2    v2         u3  \\\n95    65.714286  81.535714  106.952381  82.785714  55.0  23.5  68.411765   \n96    66.312500  81.062500  106.972222  81.638889  55.0  23.5  68.235294   \n97    66.250000  79.750000  107.400000  80.900000  55.0  23.5  68.750000   \n98    66.411765  79.382353  108.255814  80.116279  55.0  23.5  68.750000   \n99    66.625000  78.125000  108.581395  79.209302  55.0  23.5  69.470588   \n...         ...        ...         ...        ...   ...   ...        ...   \n4130   5.500000   1.000000  114.500000   1.500000   4.0  55.0  61.000000   \n4131   5.000000   2.000000  114.000000   2.000000   4.0  55.0  60.000000   \n4132   5.000000   2.000000  114.000000   2.000000   4.0  56.0  60.000000   \n4133   5.000000   2.000000  113.000000   2.000000   4.0  57.0  60.000000   \n4134   5.000000   3.000000  113.000000   3.000000   3.5  57.0  60.000000   \n\n             v3          u4          v4    u5     v5          u6          v6  \n95    37.617647   55.000000  128.000000  59.0   69.0   68.500000  118.166667  \n96    37.029412   54.727273  127.454545  59.0   69.0   68.500000  118.166667  \n97    35.750000   55.347826  126.782609  59.0   69.0   68.500000  118.166667  \n98    35.250000   55.928571  126.642857  59.0   69.0   68.500000  118.166667  \n99    33.676471   56.542857  125.542857  59.0   69.0   68.428571  119.428571  \n...         ...         ...         ...   ...    ...         ...         ...  \n4130  56.000000  120.000000   55.000000   1.0  112.0  124.000000  113.000000  \n4131  56.000000  119.000000   55.000000   1.0  113.0  123.000000  113.000000  \n4132  56.000000  119.000000   56.000000   0.0  113.0  123.000000  114.000000  \n4133  57.000000  119.000000   57.000000   0.5  114.0  123.000000  114.000000  \n4134  58.000000  119.000000   57.000000   0.5  115.5  123.000000  115.000000  \n\n[5989 rows x 14 columns]",
      "text/html": "<div>\n<style scoped>\n    .dataframe tbody tr th:only-of-type {\n        vertical-align: middle;\n    }\n\n    .dataframe tbody tr th {\n        vertical-align: top;\n    }\n\n    .dataframe thead th {\n        text-align: right;\n    }\n</style>\n<table border=\"1\" class=\"dataframe\">\n  <thead>\n    <tr style=\"text-align: right;\">\n      <th></th>\n      <th>u0</th>\n      <th>v0</th>\n      <th>u1</th>\n      <th>v1</th>\n      <th>u2</th>\n      <th>v2</th>\n      <th>u3</th>\n      <th>v3</th>\n      <th>u4</th>\n      <th>v4</th>\n      <th>u5</th>\n      <th>v5</th>\n      <th>u6</th>\n      <th>v6</th>\n    </tr>\n  </thead>\n  <tbody>\n    <tr>\n      <th>95</th>\n      <td>65.714286</td>\n      <td>81.535714</td>\n      <td>106.952381</td>\n      <td>82.785714</td>\n      <td>55.0</td>\n      <td>23.5</td>\n      <td>68.411765</td>\n      <td>37.617647</td>\n      <td>55.000000</td>\n      <td>128.000000</td>\n      <td>59.0</td>\n      <td>69.0</td>\n      <td>68.500000</td>\n      <td>118.166667</td>\n    </tr>\n    <tr>\n      <th>96</th>\n      <td>66.312500</td>\n      <td>81.062500</td>\n      <td>106.972222</td>\n      <td>81.638889</td>\n      <td>55.0</td>\n      <td>23.5</td>\n      <td>68.235294</td>\n      <td>37.029412</td>\n      <td>54.727273</td>\n      <td>127.454545</td>\n      <td>59.0</td>\n      <td>69.0</td>\n      <td>68.500000</td>\n      <td>118.166667</td>\n    </tr>\n    <tr>\n      <th>97</th>\n      <td>66.250000</td>\n      <td>79.750000</td>\n      <td>107.400000</td>\n      <td>80.900000</td>\n      <td>55.0</td>\n      <td>23.5</td>\n      <td>68.750000</td>\n      <td>35.750000</td>\n      <td>55.347826</td>\n      <td>126.782609</td>\n      <td>59.0</td>\n      <td>69.0</td>\n      <td>68.500000</td>\n      <td>118.166667</td>\n    </tr>\n    <tr>\n      <th>98</th>\n      <td>66.411765</td>\n      <td>79.382353</td>\n      <td>108.255814</td>\n      <td>80.116279</td>\n      <td>55.0</td>\n      <td>23.5</td>\n      <td>68.750000</td>\n      <td>35.250000</td>\n      <td>55.928571</td>\n      <td>126.642857</td>\n      <td>59.0</td>\n      <td>69.0</td>\n      <td>68.500000</td>\n      <td>118.166667</td>\n    </tr>\n    <tr>\n      <th>99</th>\n      <td>66.625000</td>\n      <td>78.125000</td>\n      <td>108.581395</td>\n      <td>79.209302</td>\n      <td>55.0</td>\n      <td>23.5</td>\n      <td>69.470588</td>\n      <td>33.676471</td>\n      <td>56.542857</td>\n      <td>125.542857</td>\n      <td>59.0</td>\n      <td>69.0</td>\n      <td>68.428571</td>\n      <td>119.428571</td>\n    </tr>\n    <tr>\n      <th>...</th>\n      <td>...</td>\n      <td>...</td>\n      <td>...</td>\n      <td>...</td>\n      <td>...</td>\n      <td>...</td>\n      <td>...</td>\n      <td>...</td>\n      <td>...</td>\n      <td>...</td>\n      <td>...</td>\n      <td>...</td>\n      <td>...</td>\n      <td>...</td>\n    </tr>\n    <tr>\n      <th>4130</th>\n      <td>5.500000</td>\n      <td>1.000000</td>\n      <td>114.500000</td>\n      <td>1.500000</td>\n      <td>4.0</td>\n      <td>55.0</td>\n      <td>61.000000</td>\n      <td>56.000000</td>\n      <td>120.000000</td>\n      <td>55.000000</td>\n      <td>1.0</td>\n      <td>112.0</td>\n      <td>124.000000</td>\n      <td>113.000000</td>\n    </tr>\n    <tr>\n      <th>4131</th>\n      <td>5.000000</td>\n      <td>2.000000</td>\n      <td>114.000000</td>\n      <td>2.000000</td>\n      <td>4.0</td>\n      <td>55.0</td>\n      <td>60.000000</td>\n      <td>56.000000</td>\n      <td>119.000000</td>\n      <td>55.000000</td>\n      <td>1.0</td>\n      <td>113.0</td>\n      <td>123.000000</td>\n      <td>113.000000</td>\n    </tr>\n    <tr>\n      <th>4132</th>\n      <td>5.000000</td>\n      <td>2.000000</td>\n      <td>114.000000</td>\n      <td>2.000000</td>\n      <td>4.0</td>\n      <td>56.0</td>\n      <td>60.000000</td>\n      <td>56.000000</td>\n      <td>119.000000</td>\n      <td>56.000000</td>\n      <td>0.0</td>\n      <td>113.0</td>\n      <td>123.000000</td>\n      <td>114.000000</td>\n    </tr>\n    <tr>\n      <th>4133</th>\n      <td>5.000000</td>\n      <td>2.000000</td>\n      <td>113.000000</td>\n      <td>2.000000</td>\n      <td>4.0</td>\n      <td>57.0</td>\n      <td>60.000000</td>\n      <td>57.000000</td>\n      <td>119.000000</td>\n      <td>57.000000</td>\n      <td>0.5</td>\n      <td>114.0</td>\n      <td>123.000000</td>\n      <td>114.000000</td>\n    </tr>\n    <tr>\n      <th>4134</th>\n      <td>5.000000</td>\n      <td>3.000000</td>\n      <td>113.000000</td>\n      <td>3.000000</td>\n      <td>3.5</td>\n      <td>57.0</td>\n      <td>60.000000</td>\n      <td>58.000000</td>\n      <td>119.000000</td>\n      <td>57.000000</td>\n      <td>0.5</td>\n      <td>115.5</td>\n      <td>123.000000</td>\n      <td>115.000000</td>\n    </tr>\n  </tbody>\n</table>\n<p>5989 rows × 14 columns</p>\n</div>"
     },
     "execution_count": 3,
     "metadata": {},
     "output_type": "execute_result"
    }
   ],
   "source": [
    "red_ball_all = pd.read_csv('../data/red_ball_coordinates_128px_full.csv', delimiter=',', decimal='.')\n",
    "red_ball_all_test = pd.read_csv('../test-data/red_ball_coordinates_128px_full.csv', delimiter=',', decimal='.')\n",
    "red_ball_all = pd.concat([red_ball_all, red_ball_all_test])\n",
    "red_ball_non_nan_rows = red_ball_all[~red_ball_all.index.isin(red_ball_nan_rows.index)]\n",
    "# drop all the rows where u0 and v0 are NaN\n",
    "red_ball_non_nan_rows = red_ball_non_nan_rows.dropna()\n",
    "red_ball_non_nan_rows"
   ],
   "metadata": {
    "collapsed": false,
    "ExecuteTime": {
     "end_time": "2024-02-28T23:45:29.545946200Z",
     "start_time": "2024-02-28T23:45:29.477882600Z"
    }
   },
   "id": "323f979a1d3efc3f",
   "execution_count": 3
  },
  {
   "cell_type": "markdown",
   "source": [
    "Training data is u1, v1, u2, v2, ... u6, v6\n",
    "Test data is u0, v0\n",
    "The AI model is to predict the NaN values in the test data so the missing values are predicted"
   ],
   "metadata": {
    "collapsed": false
   },
   "id": "f67aed755798c678"
  },
  {
   "cell_type": "code",
   "outputs": [],
   "source": [
    "X_train = red_ball_non_nan_rows.drop(['u0', 'v0'], axis=1)\n",
    "y_train = red_ball_non_nan_rows[['u0', 'v0']]\n",
    "X_test = red_ball_nan_rows.drop(['u0', 'v0'], axis=1)"
   ],
   "metadata": {
    "collapsed": false,
    "ExecuteTime": {
     "end_time": "2024-02-28T23:45:29.557697400Z",
     "start_time": "2024-02-28T23:45:29.525585600Z"
    }
   },
   "id": "a4b9b626087199",
   "execution_count": 4
  },
  {
   "cell_type": "code",
   "outputs": [],
   "source": [
    "from sklearn.impute import KNNImputer\n",
    "\n",
    "imputer_knn = KNNImputer(n_neighbors=2)\n",
    "X_train_imputed = imputer_knn.fit_transform(X_train)\n",
    "X_test_imputed = imputer_knn.fit_transform(X_test)\n",
    "X_test_imputed = pd.DataFrame(X_test_imputed, columns=X_test.columns)"
   ],
   "metadata": {
    "collapsed": false,
    "ExecuteTime": {
     "end_time": "2024-02-28T23:45:29.930061Z",
     "start_time": "2024-02-28T23:45:29.540133900Z"
    }
   },
   "id": "836f53e51a00db2f",
   "execution_count": 5
  },
  {
   "cell_type": "markdown",
   "source": [
    "#### Hyperparameter tuning"
   ],
   "metadata": {
    "collapsed": false
   },
   "id": "2b203f56932bc0b"
  },
  {
   "cell_type": "code",
   "outputs": [],
   "source": [
    "from sklearn.model_selection import RandomizedSearchCV\n",
    "\n",
    "param_grid = {\n",
    "    'C': [0.1, 1, 10],\n",
    "    'kernel': ['linear', 'rbf', 'poly'],\n",
    "    'gamma': ['scale', 'auto', 0.1, 1],\n",
    "    'epsilon': [0.1, 0.2, 0.5],\n",
    "}\n"
   ],
   "metadata": {
    "collapsed": false,
    "ExecuteTime": {
     "end_time": "2024-02-28T23:45:29.944226700Z",
     "start_time": "2024-02-28T23:45:29.932628900Z"
    }
   },
   "id": "dd9d0983d4ddcdd0",
   "execution_count": 6
  },
  {
   "cell_type": "markdown",
   "source": [
    "#### Train the models"
   ],
   "metadata": {
    "collapsed": false
   },
   "id": "231120af77b2b306"
  },
  {
   "cell_type": "code",
   "outputs": [
    {
     "data": {
      "text/plain": "RandomizedSearchCV(cv=5, estimator=SVR(),\n                   param_distributions={'C': [0.1, 1, 10],\n                                        'epsilon': [0.1, 0.2, 0.5],\n                                        'gamma': ['scale', 'auto', 0.1, 1],\n                                        'kernel': ['linear', 'rbf', 'poly']},\n                   scoring='neg_mean_squared_error')",
      "text/html": "<style>#sk-container-id-1 {color: black;}#sk-container-id-1 pre{padding: 0;}#sk-container-id-1 div.sk-toggleable {background-color: white;}#sk-container-id-1 label.sk-toggleable__label {cursor: pointer;display: block;width: 100%;margin-bottom: 0;padding: 0.3em;box-sizing: border-box;text-align: center;}#sk-container-id-1 label.sk-toggleable__label-arrow:before {content: \"▸\";float: left;margin-right: 0.25em;color: #696969;}#sk-container-id-1 label.sk-toggleable__label-arrow:hover:before {color: black;}#sk-container-id-1 div.sk-estimator:hover label.sk-toggleable__label-arrow:before {color: black;}#sk-container-id-1 div.sk-toggleable__content {max-height: 0;max-width: 0;overflow: hidden;text-align: left;background-color: #f0f8ff;}#sk-container-id-1 div.sk-toggleable__content pre {margin: 0.2em;color: black;border-radius: 0.25em;background-color: #f0f8ff;}#sk-container-id-1 input.sk-toggleable__control:checked~div.sk-toggleable__content {max-height: 200px;max-width: 100%;overflow: auto;}#sk-container-id-1 input.sk-toggleable__control:checked~label.sk-toggleable__label-arrow:before {content: \"▾\";}#sk-container-id-1 div.sk-estimator input.sk-toggleable__control:checked~label.sk-toggleable__label {background-color: #d4ebff;}#sk-container-id-1 div.sk-label input.sk-toggleable__control:checked~label.sk-toggleable__label {background-color: #d4ebff;}#sk-container-id-1 input.sk-hidden--visually {border: 0;clip: rect(1px 1px 1px 1px);clip: rect(1px, 1px, 1px, 1px);height: 1px;margin: -1px;overflow: hidden;padding: 0;position: absolute;width: 1px;}#sk-container-id-1 div.sk-estimator {font-family: monospace;background-color: #f0f8ff;border: 1px dotted black;border-radius: 0.25em;box-sizing: border-box;margin-bottom: 0.5em;}#sk-container-id-1 div.sk-estimator:hover {background-color: #d4ebff;}#sk-container-id-1 div.sk-parallel-item::after {content: \"\";width: 100%;border-bottom: 1px solid gray;flex-grow: 1;}#sk-container-id-1 div.sk-label:hover label.sk-toggleable__label {background-color: #d4ebff;}#sk-container-id-1 div.sk-serial::before {content: \"\";position: absolute;border-left: 1px solid gray;box-sizing: border-box;top: 0;bottom: 0;left: 50%;z-index: 0;}#sk-container-id-1 div.sk-serial {display: flex;flex-direction: column;align-items: center;background-color: white;padding-right: 0.2em;padding-left: 0.2em;position: relative;}#sk-container-id-1 div.sk-item {position: relative;z-index: 1;}#sk-container-id-1 div.sk-parallel {display: flex;align-items: stretch;justify-content: center;background-color: white;position: relative;}#sk-container-id-1 div.sk-item::before, #sk-container-id-1 div.sk-parallel-item::before {content: \"\";position: absolute;border-left: 1px solid gray;box-sizing: border-box;top: 0;bottom: 0;left: 50%;z-index: -1;}#sk-container-id-1 div.sk-parallel-item {display: flex;flex-direction: column;z-index: 1;position: relative;background-color: white;}#sk-container-id-1 div.sk-parallel-item:first-child::after {align-self: flex-end;width: 50%;}#sk-container-id-1 div.sk-parallel-item:last-child::after {align-self: flex-start;width: 50%;}#sk-container-id-1 div.sk-parallel-item:only-child::after {width: 0;}#sk-container-id-1 div.sk-dashed-wrapped {border: 1px dashed gray;margin: 0 0.4em 0.5em 0.4em;box-sizing: border-box;padding-bottom: 0.4em;background-color: white;}#sk-container-id-1 div.sk-label label {font-family: monospace;font-weight: bold;display: inline-block;line-height: 1.2em;}#sk-container-id-1 div.sk-label-container {text-align: center;}#sk-container-id-1 div.sk-container {/* jupyter's `normalize.less` sets `[hidden] { display: none; }` but bootstrap.min.css set `[hidden] { display: none !important; }` so we also need the `!important` here to be able to override the default hidden behavior on the sphinx rendered scikit-learn.org. See: https://github.com/scikit-learn/scikit-learn/issues/21755 */display: inline-block !important;position: relative;}#sk-container-id-1 div.sk-text-repr-fallback {display: none;}</style><div id=\"sk-container-id-1\" class=\"sk-top-container\"><div class=\"sk-text-repr-fallback\"><pre>RandomizedSearchCV(cv=5, estimator=SVR(),\n                   param_distributions={&#x27;C&#x27;: [0.1, 1, 10],\n                                        &#x27;epsilon&#x27;: [0.1, 0.2, 0.5],\n                                        &#x27;gamma&#x27;: [&#x27;scale&#x27;, &#x27;auto&#x27;, 0.1, 1],\n                                        &#x27;kernel&#x27;: [&#x27;linear&#x27;, &#x27;rbf&#x27;, &#x27;poly&#x27;]},\n                   scoring=&#x27;neg_mean_squared_error&#x27;)</pre><b>In a Jupyter environment, please rerun this cell to show the HTML representation or trust the notebook. <br />On GitHub, the HTML representation is unable to render, please try loading this page with nbviewer.org.</b></div><div class=\"sk-container\" hidden><div class=\"sk-item sk-dashed-wrapped\"><div class=\"sk-label-container\"><div class=\"sk-label sk-toggleable\"><input class=\"sk-toggleable__control sk-hidden--visually\" id=\"sk-estimator-id-1\" type=\"checkbox\" ><label for=\"sk-estimator-id-1\" class=\"sk-toggleable__label sk-toggleable__label-arrow\">RandomizedSearchCV</label><div class=\"sk-toggleable__content\"><pre>RandomizedSearchCV(cv=5, estimator=SVR(),\n                   param_distributions={&#x27;C&#x27;: [0.1, 1, 10],\n                                        &#x27;epsilon&#x27;: [0.1, 0.2, 0.5],\n                                        &#x27;gamma&#x27;: [&#x27;scale&#x27;, &#x27;auto&#x27;, 0.1, 1],\n                                        &#x27;kernel&#x27;: [&#x27;linear&#x27;, &#x27;rbf&#x27;, &#x27;poly&#x27;]},\n                   scoring=&#x27;neg_mean_squared_error&#x27;)</pre></div></div></div><div class=\"sk-parallel\"><div class=\"sk-parallel-item\"><div class=\"sk-item\"><div class=\"sk-label-container\"><div class=\"sk-label sk-toggleable\"><input class=\"sk-toggleable__control sk-hidden--visually\" id=\"sk-estimator-id-2\" type=\"checkbox\" ><label for=\"sk-estimator-id-2\" class=\"sk-toggleable__label sk-toggleable__label-arrow\">estimator: SVR</label><div class=\"sk-toggleable__content\"><pre>SVR()</pre></div></div></div><div class=\"sk-serial\"><div class=\"sk-item\"><div class=\"sk-estimator sk-toggleable\"><input class=\"sk-toggleable__control sk-hidden--visually\" id=\"sk-estimator-id-3\" type=\"checkbox\" ><label for=\"sk-estimator-id-3\" class=\"sk-toggleable__label sk-toggleable__label-arrow\">SVR</label><div class=\"sk-toggleable__content\"><pre>SVR()</pre></div></div></div></div></div></div></div></div></div></div>"
     },
     "execution_count": 7,
     "metadata": {},
     "output_type": "execute_result"
    }
   ],
   "source": [
    "from sklearn.svm import SVR\n",
    "\n",
    "X_train_imputed = pd.DataFrame(X_train_imputed, columns=X_test.columns)\n",
    "\n",
    "model_x = SVR()\n",
    "grid_search_u0 = RandomizedSearchCV(model_x, param_grid, cv=5, scoring='neg_mean_squared_error')\n",
    "grid_search_u0.fit(X_train_imputed, y_train.u0)"
   ],
   "metadata": {
    "collapsed": false,
    "ExecuteTime": {
     "end_time": "2024-02-29T01:01:28.993974400Z",
     "start_time": "2024-02-28T23:45:29.947493500Z"
    }
   },
   "id": "8c7cea4b7b37f7a6",
   "execution_count": 7
  },
  {
   "cell_type": "code",
   "outputs": [],
   "source": [
    "model_y = SVR()\n",
    "grid_search_v0 = RandomizedSearchCV(model_y, param_grid, cv=5, scoring='neg_mean_squared_error')\n",
    "grid_search_v0.fit(X_train_imputed, y_train.v0)"
   ],
   "metadata": {
    "collapsed": false,
    "is_executing": true,
    "ExecuteTime": {
     "start_time": "2024-02-29T01:05:25.604225600Z"
    }
   },
   "id": "32d423828c11cb4",
   "execution_count": null
  },
  {
   "cell_type": "code",
   "outputs": [],
   "source": [
    "best_params_u0 = grid_search_u0.best_estimator_.best_params_\n",
    "best_params_v0 = grid_search_v0.best_estimator_.best_params_"
   ],
   "metadata": {
    "collapsed": false,
    "is_executing": true
   },
   "id": "b30e523dc808a844",
   "execution_count": null
  },
  {
   "cell_type": "code",
   "outputs": [],
   "source": [
    "final_model_u0 = SVR(**best_params_u0)\n",
    "final_model_u0.fit(X_train_imputed, y_train.u0)\n",
    "\n",
    "final_model_v0 = SVR(**best_params_v0)\n",
    "final_model_v0.fit(X_train_imputed, y_train.v0)"
   ],
   "metadata": {
    "collapsed": false,
    "is_executing": true
   },
   "id": "a75a26de6579c8c2"
  },
  {
   "cell_type": "markdown",
   "source": [
    "#### Make predictions"
   ],
   "metadata": {
    "collapsed": false
   },
   "id": "b635adf228eb8831"
  },
  {
   "cell_type": "code",
   "outputs": [],
   "source": [
    "X_test_imputed"
   ],
   "metadata": {
    "collapsed": false,
    "is_executing": true
   },
   "id": "e3922fb4c517ba12",
   "execution_count": null
  },
  {
   "cell_type": "code",
   "outputs": [],
   "source": [
    "y_pred_x = final_model_u0.predict(X_test_imputed)"
   ],
   "metadata": {
    "collapsed": false,
    "is_executing": true
   },
   "id": "905e5aec0dc893e8",
   "execution_count": null
  },
  {
   "cell_type": "code",
   "outputs": [],
   "source": [
    "y_pred_y = final_model_v0.predict(X_test_imputed)"
   ],
   "metadata": {
    "collapsed": false,
    "is_executing": true
   },
   "id": "4bee970f69cc2c20",
   "execution_count": null
  },
  {
   "cell_type": "markdown",
   "source": [
    "#### Plot the imputed values"
   ],
   "metadata": {
    "collapsed": false
   },
   "id": "28a65ca92dad28b8"
  },
  {
   "cell_type": "code",
   "outputs": [],
   "source": [
    "nan_order = red_ball_nan_rows.index.values\n",
    "non_nan_order = red_ball_fill.index.values"
   ],
   "metadata": {
    "collapsed": false,
    "is_executing": true
   },
   "id": "b25623ed428779b3",
   "execution_count": null
  },
  {
   "cell_type": "code",
   "outputs": [],
   "source": [
    "from matplotlib import pyplot as plt\n",
    "\n",
    "plt.figure(figsize=(10, 5))\n",
    "plt.scatter(non_nan_order, red_ball_fill.u0, color='blue', label='Non-NaN Values')\n",
    "plt.scatter(nan_order, y_pred_x, color='red', marker='x', label='Imputed Values')\n",
    "plt.xlabel('Order')\n",
    "plt.ylabel('u0')\n",
    "plt.title('Imputed u0 Values Over Order')\n",
    "plt.legend()\n",
    "plt.show()\n"
   ],
   "metadata": {
    "collapsed": false,
    "is_executing": true
   },
   "id": "b16f80a66f440dbf",
   "execution_count": null
  },
  {
   "cell_type": "code",
   "outputs": [],
   "source": [
    "from matplotlib import pyplot as plt\n",
    "\n",
    "plt.figure(figsize=(10, 5))\n",
    "plt.scatter(non_nan_order, red_ball_fill.v0, color='blue', label='Non-NaN Values')\n",
    "plt.scatter(nan_order, y_pred_y, color='red', marker='x', label='Imputed Values')\n",
    "plt.xlabel('Order')\n",
    "plt.ylabel('u0')\n",
    "plt.title('Imputed u0 Values Over Order')\n",
    "plt.legend()\n",
    "plt.show()\n"
   ],
   "metadata": {
    "collapsed": false,
    "is_executing": true
   },
   "id": "853faa832983a197",
   "execution_count": null
  },
  {
   "cell_type": "code",
   "outputs": [],
   "source": [
    "import numpy as np\n",
    "y_pred = np.column_stack((y_pred_x, y_pred_y))"
   ],
   "metadata": {
    "collapsed": false,
    "is_executing": true
   },
   "id": "710577beadaa1e92",
   "execution_count": null
  },
  {
   "cell_type": "code",
   "outputs": [],
   "source": [
    "import matplotlib.pyplot as plt\n",
    "\n",
    "# make a 2d plot with the old values in blue and the new in red\n",
    "plt.scatter(red_ball_fill.u0, red_ball_fill.v0, color='blue')\n",
    "plt.scatter(y_pred[:, 0], y_pred[:, 1], color='red')\n",
    "plt.xlim(0, 128)\n",
    "plt.ylim(0, 128)\n",
    "plt.show()"
   ],
   "metadata": {
    "collapsed": false,
    "is_executing": true
   },
   "id": "4e7f2c086af84aef",
   "execution_count": null
  }
 ],
 "metadata": {
  "kernelspec": {
   "display_name": "Python 3",
   "language": "python",
   "name": "python3"
  },
  "language_info": {
   "codemirror_mode": {
    "name": "ipython",
    "version": 2
   },
   "file_extension": ".py",
   "mimetype": "text/x-python",
   "name": "python",
   "nbconvert_exporter": "python",
   "pygments_lexer": "ipython2",
   "version": "2.7.6"
  }
 },
 "nbformat": 4,
 "nbformat_minor": 5
}
