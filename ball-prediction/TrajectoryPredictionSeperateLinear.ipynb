{
 "cells": [
  {
   "cell_type": "markdown",
   "source": [
    "## Trajectory prediction for each dimension separately\n",
    "## With Linear Regression"
   ],
   "metadata": {
    "collapsed": false
   },
   "id": "726c05831d2384be"
  },
  {
   "cell_type": "markdown",
   "source": [
    "#### Read the test data"
   ],
   "metadata": {
    "collapsed": false
   },
   "id": "8aa4f20c67217cc3"
  },
  {
   "cell_type": "code",
   "outputs": [
    {
     "data": {
      "text/plain": "        u0    v0     u1    v1    u2    v2    u3    v3     u4    v4    u5  \\\n0     36.0  40.0  125.0  41.0  33.5  84.0  78.0  83.0  126.0  85.0   NaN   \n1     36.0  41.0  124.5  42.0  33.0  85.0  77.5  84.0  126.0  87.0   NaN   \n2     36.0  42.0  124.0  44.0  33.0  86.0  77.5  85.0  126.0  88.0   NaN   \n3     36.0  43.5  124.0  45.0  33.0  87.0  77.0  86.0  125.5  89.0   NaN   \n4     36.0  45.0  123.0  46.0  33.0  89.0  77.0  87.0  126.0  91.0   NaN   \n...    ...   ...    ...   ...   ...   ...   ...   ...    ...   ...   ...   \n1469  88.0   6.0   56.0  24.0  83.5  54.0  12.0  72.0   60.5  70.0  74.0   \n1470  88.5   6.0   56.5  24.0  83.5  54.0  11.5  71.0   60.5  70.0  74.0   \n1471  88.0   7.0   56.5  24.0  83.5  54.0  11.0  71.5   60.5  70.0  74.0   \n1472  88.0   7.0   56.5  24.0  83.5  54.5  11.0  71.5   60.5  70.0  74.0   \n1473  88.0   8.0   56.5  24.0  83.0  55.0  11.0  71.5   60.5  70.0  73.5   \n\n        v5    u6     v6  \n0      NaN  69.0  121.0  \n1      NaN  69.0  120.5  \n2      NaN  69.0  120.5  \n3      NaN  69.0  120.0  \n4      NaN  69.0  120.0  \n...    ...   ...    ...  \n1469  98.0  68.5  118.5  \n1470  98.0  68.5  118.5  \n1471  98.0  68.5  118.5  \n1472  98.0  68.5  118.5  \n1473  99.0  68.5  118.5  \n\n[1474 rows x 14 columns]",
      "text/html": "<div>\n<style scoped>\n    .dataframe tbody tr th:only-of-type {\n        vertical-align: middle;\n    }\n\n    .dataframe tbody tr th {\n        vertical-align: top;\n    }\n\n    .dataframe thead th {\n        text-align: right;\n    }\n</style>\n<table border=\"1\" class=\"dataframe\">\n  <thead>\n    <tr style=\"text-align: right;\">\n      <th></th>\n      <th>u0</th>\n      <th>v0</th>\n      <th>u1</th>\n      <th>v1</th>\n      <th>u2</th>\n      <th>v2</th>\n      <th>u3</th>\n      <th>v3</th>\n      <th>u4</th>\n      <th>v4</th>\n      <th>u5</th>\n      <th>v5</th>\n      <th>u6</th>\n      <th>v6</th>\n    </tr>\n  </thead>\n  <tbody>\n    <tr>\n      <th>0</th>\n      <td>36.0</td>\n      <td>40.0</td>\n      <td>125.0</td>\n      <td>41.0</td>\n      <td>33.5</td>\n      <td>84.0</td>\n      <td>78.0</td>\n      <td>83.0</td>\n      <td>126.0</td>\n      <td>85.0</td>\n      <td>NaN</td>\n      <td>NaN</td>\n      <td>69.0</td>\n      <td>121.0</td>\n    </tr>\n    <tr>\n      <th>1</th>\n      <td>36.0</td>\n      <td>41.0</td>\n      <td>124.5</td>\n      <td>42.0</td>\n      <td>33.0</td>\n      <td>85.0</td>\n      <td>77.5</td>\n      <td>84.0</td>\n      <td>126.0</td>\n      <td>87.0</td>\n      <td>NaN</td>\n      <td>NaN</td>\n      <td>69.0</td>\n      <td>120.5</td>\n    </tr>\n    <tr>\n      <th>2</th>\n      <td>36.0</td>\n      <td>42.0</td>\n      <td>124.0</td>\n      <td>44.0</td>\n      <td>33.0</td>\n      <td>86.0</td>\n      <td>77.5</td>\n      <td>85.0</td>\n      <td>126.0</td>\n      <td>88.0</td>\n      <td>NaN</td>\n      <td>NaN</td>\n      <td>69.0</td>\n      <td>120.5</td>\n    </tr>\n    <tr>\n      <th>3</th>\n      <td>36.0</td>\n      <td>43.5</td>\n      <td>124.0</td>\n      <td>45.0</td>\n      <td>33.0</td>\n      <td>87.0</td>\n      <td>77.0</td>\n      <td>86.0</td>\n      <td>125.5</td>\n      <td>89.0</td>\n      <td>NaN</td>\n      <td>NaN</td>\n      <td>69.0</td>\n      <td>120.0</td>\n    </tr>\n    <tr>\n      <th>4</th>\n      <td>36.0</td>\n      <td>45.0</td>\n      <td>123.0</td>\n      <td>46.0</td>\n      <td>33.0</td>\n      <td>89.0</td>\n      <td>77.0</td>\n      <td>87.0</td>\n      <td>126.0</td>\n      <td>91.0</td>\n      <td>NaN</td>\n      <td>NaN</td>\n      <td>69.0</td>\n      <td>120.0</td>\n    </tr>\n    <tr>\n      <th>...</th>\n      <td>...</td>\n      <td>...</td>\n      <td>...</td>\n      <td>...</td>\n      <td>...</td>\n      <td>...</td>\n      <td>...</td>\n      <td>...</td>\n      <td>...</td>\n      <td>...</td>\n      <td>...</td>\n      <td>...</td>\n      <td>...</td>\n      <td>...</td>\n    </tr>\n    <tr>\n      <th>1469</th>\n      <td>88.0</td>\n      <td>6.0</td>\n      <td>56.0</td>\n      <td>24.0</td>\n      <td>83.5</td>\n      <td>54.0</td>\n      <td>12.0</td>\n      <td>72.0</td>\n      <td>60.5</td>\n      <td>70.0</td>\n      <td>74.0</td>\n      <td>98.0</td>\n      <td>68.5</td>\n      <td>118.5</td>\n    </tr>\n    <tr>\n      <th>1470</th>\n      <td>88.5</td>\n      <td>6.0</td>\n      <td>56.5</td>\n      <td>24.0</td>\n      <td>83.5</td>\n      <td>54.0</td>\n      <td>11.5</td>\n      <td>71.0</td>\n      <td>60.5</td>\n      <td>70.0</td>\n      <td>74.0</td>\n      <td>98.0</td>\n      <td>68.5</td>\n      <td>118.5</td>\n    </tr>\n    <tr>\n      <th>1471</th>\n      <td>88.0</td>\n      <td>7.0</td>\n      <td>56.5</td>\n      <td>24.0</td>\n      <td>83.5</td>\n      <td>54.0</td>\n      <td>11.0</td>\n      <td>71.5</td>\n      <td>60.5</td>\n      <td>70.0</td>\n      <td>74.0</td>\n      <td>98.0</td>\n      <td>68.5</td>\n      <td>118.5</td>\n    </tr>\n    <tr>\n      <th>1472</th>\n      <td>88.0</td>\n      <td>7.0</td>\n      <td>56.5</td>\n      <td>24.0</td>\n      <td>83.5</td>\n      <td>54.5</td>\n      <td>11.0</td>\n      <td>71.5</td>\n      <td>60.5</td>\n      <td>70.0</td>\n      <td>74.0</td>\n      <td>98.0</td>\n      <td>68.5</td>\n      <td>118.5</td>\n    </tr>\n    <tr>\n      <th>1473</th>\n      <td>88.0</td>\n      <td>8.0</td>\n      <td>56.5</td>\n      <td>24.0</td>\n      <td>83.0</td>\n      <td>55.0</td>\n      <td>11.0</td>\n      <td>71.5</td>\n      <td>60.5</td>\n      <td>70.0</td>\n      <td>73.5</td>\n      <td>99.0</td>\n      <td>68.5</td>\n      <td>118.5</td>\n    </tr>\n  </tbody>\n</table>\n<p>1474 rows × 14 columns</p>\n</div>"
     },
     "execution_count": 1,
     "metadata": {},
     "output_type": "execute_result"
    }
   ],
   "source": [
    "import pandas as pd\n",
    "\n",
    "red_ball_fill = pd.read_csv('../test-data/red_ball_coordinates_128px_2024-02-27_13h38m.csv', delimiter=',', decimal='.')\n",
    "red_ball_fill"
   ],
   "metadata": {
    "collapsed": false,
    "ExecuteTime": {
     "end_time": "2024-03-01T13:52:32.784903600Z",
     "start_time": "2024-03-01T13:52:31.760965300Z"
    }
   },
   "id": "a42286c1907c8df4",
   "execution_count": 1
  },
  {
   "cell_type": "markdown",
   "source": [
    "#### Split the test data into NaN and non-NaN rows"
   ],
   "metadata": {
    "collapsed": false
   },
   "id": "daf34480e83fa9c6"
  },
  {
   "cell_type": "code",
   "outputs": [
    {
     "data": {
      "text/plain": "     u0  v0    u1    v1  u2  v2    u3    v3    u4    v4  u5  v5     u6     v6\n360 NaN NaN  69.0  21.0 NaN NaN  26.0  66.0  71.0  66.0 NaN NaN   82.0  112.0\n361 NaN NaN  68.0  22.0 NaN NaN  26.0  68.0  71.0  67.0 NaN NaN   82.0  114.0\n362 NaN NaN  69.0  23.0 NaN NaN  26.0  69.0  71.0  68.0 NaN NaN   82.0  115.0\n366 NaN NaN  68.0  27.0 NaN NaN  26.0  71.5  70.0  71.0 NaN NaN   82.0  118.0\n367 NaN NaN  68.0  27.0 NaN NaN  26.0  72.0  70.0  72.0 NaN NaN   82.0  120.0\n..   ..  ..   ...   ...  ..  ..   ...   ...   ...   ...  ..  ..    ...    ...\n739 NaN NaN  86.0  23.0 NaN NaN  43.0  68.0  87.0  68.0 NaN NaN  101.0  115.0\n740 NaN NaN  86.0  23.0 NaN NaN  43.0  69.0  88.0  69.0 NaN NaN  101.0  116.0\n744 NaN NaN  86.0  27.0 NaN NaN  43.0  73.0  88.0  72.5 NaN NaN  102.0  120.5\n745 NaN NaN  86.0  29.0 NaN NaN  43.5  73.0  88.0  73.0 NaN NaN  102.0  121.0\n746 NaN NaN  86.0  29.0 NaN NaN  43.0  74.0  88.0  74.0 NaN NaN  103.0  123.0\n\n[123 rows x 14 columns]",
      "text/html": "<div>\n<style scoped>\n    .dataframe tbody tr th:only-of-type {\n        vertical-align: middle;\n    }\n\n    .dataframe tbody tr th {\n        vertical-align: top;\n    }\n\n    .dataframe thead th {\n        text-align: right;\n    }\n</style>\n<table border=\"1\" class=\"dataframe\">\n  <thead>\n    <tr style=\"text-align: right;\">\n      <th></th>\n      <th>u0</th>\n      <th>v0</th>\n      <th>u1</th>\n      <th>v1</th>\n      <th>u2</th>\n      <th>v2</th>\n      <th>u3</th>\n      <th>v3</th>\n      <th>u4</th>\n      <th>v4</th>\n      <th>u5</th>\n      <th>v5</th>\n      <th>u6</th>\n      <th>v6</th>\n    </tr>\n  </thead>\n  <tbody>\n    <tr>\n      <th>360</th>\n      <td>NaN</td>\n      <td>NaN</td>\n      <td>69.0</td>\n      <td>21.0</td>\n      <td>NaN</td>\n      <td>NaN</td>\n      <td>26.0</td>\n      <td>66.0</td>\n      <td>71.0</td>\n      <td>66.0</td>\n      <td>NaN</td>\n      <td>NaN</td>\n      <td>82.0</td>\n      <td>112.0</td>\n    </tr>\n    <tr>\n      <th>361</th>\n      <td>NaN</td>\n      <td>NaN</td>\n      <td>68.0</td>\n      <td>22.0</td>\n      <td>NaN</td>\n      <td>NaN</td>\n      <td>26.0</td>\n      <td>68.0</td>\n      <td>71.0</td>\n      <td>67.0</td>\n      <td>NaN</td>\n      <td>NaN</td>\n      <td>82.0</td>\n      <td>114.0</td>\n    </tr>\n    <tr>\n      <th>362</th>\n      <td>NaN</td>\n      <td>NaN</td>\n      <td>69.0</td>\n      <td>23.0</td>\n      <td>NaN</td>\n      <td>NaN</td>\n      <td>26.0</td>\n      <td>69.0</td>\n      <td>71.0</td>\n      <td>68.0</td>\n      <td>NaN</td>\n      <td>NaN</td>\n      <td>82.0</td>\n      <td>115.0</td>\n    </tr>\n    <tr>\n      <th>366</th>\n      <td>NaN</td>\n      <td>NaN</td>\n      <td>68.0</td>\n      <td>27.0</td>\n      <td>NaN</td>\n      <td>NaN</td>\n      <td>26.0</td>\n      <td>71.5</td>\n      <td>70.0</td>\n      <td>71.0</td>\n      <td>NaN</td>\n      <td>NaN</td>\n      <td>82.0</td>\n      <td>118.0</td>\n    </tr>\n    <tr>\n      <th>367</th>\n      <td>NaN</td>\n      <td>NaN</td>\n      <td>68.0</td>\n      <td>27.0</td>\n      <td>NaN</td>\n      <td>NaN</td>\n      <td>26.0</td>\n      <td>72.0</td>\n      <td>70.0</td>\n      <td>72.0</td>\n      <td>NaN</td>\n      <td>NaN</td>\n      <td>82.0</td>\n      <td>120.0</td>\n    </tr>\n    <tr>\n      <th>...</th>\n      <td>...</td>\n      <td>...</td>\n      <td>...</td>\n      <td>...</td>\n      <td>...</td>\n      <td>...</td>\n      <td>...</td>\n      <td>...</td>\n      <td>...</td>\n      <td>...</td>\n      <td>...</td>\n      <td>...</td>\n      <td>...</td>\n      <td>...</td>\n    </tr>\n    <tr>\n      <th>739</th>\n      <td>NaN</td>\n      <td>NaN</td>\n      <td>86.0</td>\n      <td>23.0</td>\n      <td>NaN</td>\n      <td>NaN</td>\n      <td>43.0</td>\n      <td>68.0</td>\n      <td>87.0</td>\n      <td>68.0</td>\n      <td>NaN</td>\n      <td>NaN</td>\n      <td>101.0</td>\n      <td>115.0</td>\n    </tr>\n    <tr>\n      <th>740</th>\n      <td>NaN</td>\n      <td>NaN</td>\n      <td>86.0</td>\n      <td>23.0</td>\n      <td>NaN</td>\n      <td>NaN</td>\n      <td>43.0</td>\n      <td>69.0</td>\n      <td>88.0</td>\n      <td>69.0</td>\n      <td>NaN</td>\n      <td>NaN</td>\n      <td>101.0</td>\n      <td>116.0</td>\n    </tr>\n    <tr>\n      <th>744</th>\n      <td>NaN</td>\n      <td>NaN</td>\n      <td>86.0</td>\n      <td>27.0</td>\n      <td>NaN</td>\n      <td>NaN</td>\n      <td>43.0</td>\n      <td>73.0</td>\n      <td>88.0</td>\n      <td>72.5</td>\n      <td>NaN</td>\n      <td>NaN</td>\n      <td>102.0</td>\n      <td>120.5</td>\n    </tr>\n    <tr>\n      <th>745</th>\n      <td>NaN</td>\n      <td>NaN</td>\n      <td>86.0</td>\n      <td>29.0</td>\n      <td>NaN</td>\n      <td>NaN</td>\n      <td>43.5</td>\n      <td>73.0</td>\n      <td>88.0</td>\n      <td>73.0</td>\n      <td>NaN</td>\n      <td>NaN</td>\n      <td>102.0</td>\n      <td>121.0</td>\n    </tr>\n    <tr>\n      <th>746</th>\n      <td>NaN</td>\n      <td>NaN</td>\n      <td>86.0</td>\n      <td>29.0</td>\n      <td>NaN</td>\n      <td>NaN</td>\n      <td>43.0</td>\n      <td>74.0</td>\n      <td>88.0</td>\n      <td>74.0</td>\n      <td>NaN</td>\n      <td>NaN</td>\n      <td>103.0</td>\n      <td>123.0</td>\n    </tr>\n  </tbody>\n</table>\n<p>123 rows × 14 columns</p>\n</div>"
     },
     "execution_count": 2,
     "metadata": {},
     "output_type": "execute_result"
    }
   ],
   "source": [
    "red_ball_nan_rows = red_ball_fill[red_ball_fill.u0.isna() & red_ball_fill.v0.isna()]\n",
    "red_ball_nan_rows"
   ],
   "metadata": {
    "collapsed": false,
    "ExecuteTime": {
     "end_time": "2024-03-01T13:52:32.908476900Z",
     "start_time": "2024-03-01T13:52:32.792748500Z"
    }
   },
   "id": "32deb66121dd840e",
   "execution_count": 2
  },
  {
   "cell_type": "markdown",
   "source": [
    "#### Read the training data"
   ],
   "metadata": {
    "collapsed": false
   },
   "id": "acaec1c24ec18564"
  },
  {
   "cell_type": "code",
   "outputs": [
    {
     "data": {
      "text/plain": "             u0         v0          u1         v1    u2    v2         u3  \\\n95    65.714286  81.535714  106.952381  82.785714  55.0  23.5  68.411765   \n96    66.312500  81.062500  106.972222  81.638889  55.0  23.5  68.235294   \n97    66.250000  79.750000  107.400000  80.900000  55.0  23.5  68.750000   \n98    66.411765  79.382353  108.255814  80.116279  55.0  23.5  68.750000   \n99    66.625000  78.125000  108.581395  79.209302  55.0  23.5  69.470588   \n...         ...        ...         ...        ...   ...   ...        ...   \n4130   5.500000   1.000000  114.500000   1.500000   4.0  55.0  61.000000   \n4131   5.000000   2.000000  114.000000   2.000000   4.0  55.0  60.000000   \n4132   5.000000   2.000000  114.000000   2.000000   4.0  56.0  60.000000   \n4133   5.000000   2.000000  113.000000   2.000000   4.0  57.0  60.000000   \n4134   5.000000   3.000000  113.000000   3.000000   3.5  57.0  60.000000   \n\n             v3          u4          v4    u5     v5          u6          v6  \n95    37.617647   55.000000  128.000000  59.0   69.0   68.500000  118.166667  \n96    37.029412   54.727273  127.454545  59.0   69.0   68.500000  118.166667  \n97    35.750000   55.347826  126.782609  59.0   69.0   68.500000  118.166667  \n98    35.250000   55.928571  126.642857  59.0   69.0   68.500000  118.166667  \n99    33.676471   56.542857  125.542857  59.0   69.0   68.428571  119.428571  \n...         ...         ...         ...   ...    ...         ...         ...  \n4130  56.000000  120.000000   55.000000   1.0  112.0  124.000000  113.000000  \n4131  56.000000  119.000000   55.000000   1.0  113.0  123.000000  113.000000  \n4132  56.000000  119.000000   56.000000   0.0  113.0  123.000000  114.000000  \n4133  57.000000  119.000000   57.000000   0.5  114.0  123.000000  114.000000  \n4134  58.000000  119.000000   57.000000   0.5  115.5  123.000000  115.000000  \n\n[5956 rows x 14 columns]",
      "text/html": "<div>\n<style scoped>\n    .dataframe tbody tr th:only-of-type {\n        vertical-align: middle;\n    }\n\n    .dataframe tbody tr th {\n        vertical-align: top;\n    }\n\n    .dataframe thead th {\n        text-align: right;\n    }\n</style>\n<table border=\"1\" class=\"dataframe\">\n  <thead>\n    <tr style=\"text-align: right;\">\n      <th></th>\n      <th>u0</th>\n      <th>v0</th>\n      <th>u1</th>\n      <th>v1</th>\n      <th>u2</th>\n      <th>v2</th>\n      <th>u3</th>\n      <th>v3</th>\n      <th>u4</th>\n      <th>v4</th>\n      <th>u5</th>\n      <th>v5</th>\n      <th>u6</th>\n      <th>v6</th>\n    </tr>\n  </thead>\n  <tbody>\n    <tr>\n      <th>95</th>\n      <td>65.714286</td>\n      <td>81.535714</td>\n      <td>106.952381</td>\n      <td>82.785714</td>\n      <td>55.0</td>\n      <td>23.5</td>\n      <td>68.411765</td>\n      <td>37.617647</td>\n      <td>55.000000</td>\n      <td>128.000000</td>\n      <td>59.0</td>\n      <td>69.0</td>\n      <td>68.500000</td>\n      <td>118.166667</td>\n    </tr>\n    <tr>\n      <th>96</th>\n      <td>66.312500</td>\n      <td>81.062500</td>\n      <td>106.972222</td>\n      <td>81.638889</td>\n      <td>55.0</td>\n      <td>23.5</td>\n      <td>68.235294</td>\n      <td>37.029412</td>\n      <td>54.727273</td>\n      <td>127.454545</td>\n      <td>59.0</td>\n      <td>69.0</td>\n      <td>68.500000</td>\n      <td>118.166667</td>\n    </tr>\n    <tr>\n      <th>97</th>\n      <td>66.250000</td>\n      <td>79.750000</td>\n      <td>107.400000</td>\n      <td>80.900000</td>\n      <td>55.0</td>\n      <td>23.5</td>\n      <td>68.750000</td>\n      <td>35.750000</td>\n      <td>55.347826</td>\n      <td>126.782609</td>\n      <td>59.0</td>\n      <td>69.0</td>\n      <td>68.500000</td>\n      <td>118.166667</td>\n    </tr>\n    <tr>\n      <th>98</th>\n      <td>66.411765</td>\n      <td>79.382353</td>\n      <td>108.255814</td>\n      <td>80.116279</td>\n      <td>55.0</td>\n      <td>23.5</td>\n      <td>68.750000</td>\n      <td>35.250000</td>\n      <td>55.928571</td>\n      <td>126.642857</td>\n      <td>59.0</td>\n      <td>69.0</td>\n      <td>68.500000</td>\n      <td>118.166667</td>\n    </tr>\n    <tr>\n      <th>99</th>\n      <td>66.625000</td>\n      <td>78.125000</td>\n      <td>108.581395</td>\n      <td>79.209302</td>\n      <td>55.0</td>\n      <td>23.5</td>\n      <td>69.470588</td>\n      <td>33.676471</td>\n      <td>56.542857</td>\n      <td>125.542857</td>\n      <td>59.0</td>\n      <td>69.0</td>\n      <td>68.428571</td>\n      <td>119.428571</td>\n    </tr>\n    <tr>\n      <th>...</th>\n      <td>...</td>\n      <td>...</td>\n      <td>...</td>\n      <td>...</td>\n      <td>...</td>\n      <td>...</td>\n      <td>...</td>\n      <td>...</td>\n      <td>...</td>\n      <td>...</td>\n      <td>...</td>\n      <td>...</td>\n      <td>...</td>\n      <td>...</td>\n    </tr>\n    <tr>\n      <th>4130</th>\n      <td>5.500000</td>\n      <td>1.000000</td>\n      <td>114.500000</td>\n      <td>1.500000</td>\n      <td>4.0</td>\n      <td>55.0</td>\n      <td>61.000000</td>\n      <td>56.000000</td>\n      <td>120.000000</td>\n      <td>55.000000</td>\n      <td>1.0</td>\n      <td>112.0</td>\n      <td>124.000000</td>\n      <td>113.000000</td>\n    </tr>\n    <tr>\n      <th>4131</th>\n      <td>5.000000</td>\n      <td>2.000000</td>\n      <td>114.000000</td>\n      <td>2.000000</td>\n      <td>4.0</td>\n      <td>55.0</td>\n      <td>60.000000</td>\n      <td>56.000000</td>\n      <td>119.000000</td>\n      <td>55.000000</td>\n      <td>1.0</td>\n      <td>113.0</td>\n      <td>123.000000</td>\n      <td>113.000000</td>\n    </tr>\n    <tr>\n      <th>4132</th>\n      <td>5.000000</td>\n      <td>2.000000</td>\n      <td>114.000000</td>\n      <td>2.000000</td>\n      <td>4.0</td>\n      <td>56.0</td>\n      <td>60.000000</td>\n      <td>56.000000</td>\n      <td>119.000000</td>\n      <td>56.000000</td>\n      <td>0.0</td>\n      <td>113.0</td>\n      <td>123.000000</td>\n      <td>114.000000</td>\n    </tr>\n    <tr>\n      <th>4133</th>\n      <td>5.000000</td>\n      <td>2.000000</td>\n      <td>113.000000</td>\n      <td>2.000000</td>\n      <td>4.0</td>\n      <td>57.0</td>\n      <td>60.000000</td>\n      <td>57.000000</td>\n      <td>119.000000</td>\n      <td>57.000000</td>\n      <td>0.5</td>\n      <td>114.0</td>\n      <td>123.000000</td>\n      <td>114.000000</td>\n    </tr>\n    <tr>\n      <th>4134</th>\n      <td>5.000000</td>\n      <td>3.000000</td>\n      <td>113.000000</td>\n      <td>3.000000</td>\n      <td>3.5</td>\n      <td>57.0</td>\n      <td>60.000000</td>\n      <td>58.000000</td>\n      <td>119.000000</td>\n      <td>57.000000</td>\n      <td>0.5</td>\n      <td>115.5</td>\n      <td>123.000000</td>\n      <td>115.000000</td>\n    </tr>\n  </tbody>\n</table>\n<p>5956 rows × 14 columns</p>\n</div>"
     },
     "execution_count": 3,
     "metadata": {},
     "output_type": "execute_result"
    }
   ],
   "source": [
    "red_ball_all = pd.read_csv('../data/red_ball_coordinates_128px_full.csv', delimiter=',', decimal='.')\n",
    "red_ball_all_test = pd.read_csv('../test-data/red_ball_coordinates_128px_full.csv', delimiter=',', decimal='.')\n",
    "red_ball_all = pd.concat([red_ball_all, red_ball_all_test])\n",
    "red_ball_non_nan_rows = red_ball_all[~red_ball_all.index.isin(red_ball_nan_rows.index)]\n",
    "# drop all the rows where u0 and v0 are NaN\n",
    "red_ball_non_nan_rows = red_ball_non_nan_rows.dropna()\n",
    "red_ball_non_nan_rows"
   ],
   "metadata": {
    "collapsed": false,
    "ExecuteTime": {
     "end_time": "2024-03-01T13:52:33.095553Z",
     "start_time": "2024-03-01T13:52:32.853005700Z"
    }
   },
   "id": "323f979a1d3efc3f",
   "execution_count": 3
  },
  {
   "cell_type": "markdown",
   "source": [
    "Training data is u1, v1, u2, v2, ... u6, v6\n",
    "Test data is u0, v0\n",
    "The AI model is to predict the NaN values in the test data so the missing values are predicted"
   ],
   "metadata": {
    "collapsed": false
   },
   "id": "f67aed755798c678"
  },
  {
   "cell_type": "code",
   "outputs": [],
   "source": [
    "X_train = red_ball_non_nan_rows.drop(['u0', 'v0'], axis=1)\n",
    "y_train = red_ball_non_nan_rows[['u0', 'v0']]\n",
    "X_test = red_ball_nan_rows.drop(['u0', 'v0'], axis=1)"
   ],
   "metadata": {
    "collapsed": false,
    "ExecuteTime": {
     "end_time": "2024-03-01T13:52:33.096852200Z",
     "start_time": "2024-03-01T13:52:32.981783400Z"
    }
   },
   "id": "a4b9b626087199",
   "execution_count": 4
  },
  {
   "cell_type": "code",
   "outputs": [],
   "source": [
    "from sklearn.impute import KNNImputer\n",
    "\n",
    "imputer_knn = KNNImputer(n_neighbors=2)\n",
    "#X_train_imputed = imputer_knn.fit_transform(X_train)\n",
    "X_test_imputed = imputer_knn.fit_transform(X_test)"
   ],
   "metadata": {
    "collapsed": false,
    "ExecuteTime": {
     "end_time": "2024-03-01T13:52:34.799672Z",
     "start_time": "2024-03-01T13:52:33.001356300Z"
    }
   },
   "id": "836f53e51a00db2f",
   "execution_count": 5
  },
  {
   "cell_type": "code",
   "outputs": [
    {
     "data": {
      "text/plain": "              u1         v1    u2    v2         u3         v3          u4  \\\n95    106.952381  82.785714  55.0  23.5  68.411765  37.617647   55.000000   \n96    106.972222  81.638889  55.0  23.5  68.235294  37.029412   54.727273   \n97    107.400000  80.900000  55.0  23.5  68.750000  35.750000   55.347826   \n98    108.255814  80.116279  55.0  23.5  68.750000  35.250000   55.928571   \n99    108.581395  79.209302  55.0  23.5  69.470588  33.676471   56.542857   \n...          ...        ...   ...   ...        ...        ...         ...   \n4130  114.500000   1.500000   4.0  55.0  61.000000  56.000000  120.000000   \n4131  114.000000   2.000000   4.0  55.0  60.000000  56.000000  119.000000   \n4132  114.000000   2.000000   4.0  56.0  60.000000  56.000000  119.000000   \n4133  113.000000   2.000000   4.0  57.0  60.000000  57.000000  119.000000   \n4134  113.000000   3.000000   3.5  57.0  60.000000  58.000000  119.000000   \n\n              v4    u5     v5          u6          v6  \n95    128.000000  59.0   69.0   68.500000  118.166667  \n96    127.454545  59.0   69.0   68.500000  118.166667  \n97    126.782609  59.0   69.0   68.500000  118.166667  \n98    126.642857  59.0   69.0   68.500000  118.166667  \n99    125.542857  59.0   69.0   68.428571  119.428571  \n...          ...   ...    ...         ...         ...  \n4130   55.000000   1.0  112.0  124.000000  113.000000  \n4131   55.000000   1.0  113.0  123.000000  113.000000  \n4132   56.000000   0.0  113.0  123.000000  114.000000  \n4133   57.000000   0.5  114.0  123.000000  114.000000  \n4134   57.000000   0.5  115.5  123.000000  115.000000  \n\n[5956 rows x 12 columns]",
      "text/html": "<div>\n<style scoped>\n    .dataframe tbody tr th:only-of-type {\n        vertical-align: middle;\n    }\n\n    .dataframe tbody tr th {\n        vertical-align: top;\n    }\n\n    .dataframe thead th {\n        text-align: right;\n    }\n</style>\n<table border=\"1\" class=\"dataframe\">\n  <thead>\n    <tr style=\"text-align: right;\">\n      <th></th>\n      <th>u1</th>\n      <th>v1</th>\n      <th>u2</th>\n      <th>v2</th>\n      <th>u3</th>\n      <th>v3</th>\n      <th>u4</th>\n      <th>v4</th>\n      <th>u5</th>\n      <th>v5</th>\n      <th>u6</th>\n      <th>v6</th>\n    </tr>\n  </thead>\n  <tbody>\n    <tr>\n      <th>95</th>\n      <td>106.952381</td>\n      <td>82.785714</td>\n      <td>55.0</td>\n      <td>23.5</td>\n      <td>68.411765</td>\n      <td>37.617647</td>\n      <td>55.000000</td>\n      <td>128.000000</td>\n      <td>59.0</td>\n      <td>69.0</td>\n      <td>68.500000</td>\n      <td>118.166667</td>\n    </tr>\n    <tr>\n      <th>96</th>\n      <td>106.972222</td>\n      <td>81.638889</td>\n      <td>55.0</td>\n      <td>23.5</td>\n      <td>68.235294</td>\n      <td>37.029412</td>\n      <td>54.727273</td>\n      <td>127.454545</td>\n      <td>59.0</td>\n      <td>69.0</td>\n      <td>68.500000</td>\n      <td>118.166667</td>\n    </tr>\n    <tr>\n      <th>97</th>\n      <td>107.400000</td>\n      <td>80.900000</td>\n      <td>55.0</td>\n      <td>23.5</td>\n      <td>68.750000</td>\n      <td>35.750000</td>\n      <td>55.347826</td>\n      <td>126.782609</td>\n      <td>59.0</td>\n      <td>69.0</td>\n      <td>68.500000</td>\n      <td>118.166667</td>\n    </tr>\n    <tr>\n      <th>98</th>\n      <td>108.255814</td>\n      <td>80.116279</td>\n      <td>55.0</td>\n      <td>23.5</td>\n      <td>68.750000</td>\n      <td>35.250000</td>\n      <td>55.928571</td>\n      <td>126.642857</td>\n      <td>59.0</td>\n      <td>69.0</td>\n      <td>68.500000</td>\n      <td>118.166667</td>\n    </tr>\n    <tr>\n      <th>99</th>\n      <td>108.581395</td>\n      <td>79.209302</td>\n      <td>55.0</td>\n      <td>23.5</td>\n      <td>69.470588</td>\n      <td>33.676471</td>\n      <td>56.542857</td>\n      <td>125.542857</td>\n      <td>59.0</td>\n      <td>69.0</td>\n      <td>68.428571</td>\n      <td>119.428571</td>\n    </tr>\n    <tr>\n      <th>...</th>\n      <td>...</td>\n      <td>...</td>\n      <td>...</td>\n      <td>...</td>\n      <td>...</td>\n      <td>...</td>\n      <td>...</td>\n      <td>...</td>\n      <td>...</td>\n      <td>...</td>\n      <td>...</td>\n      <td>...</td>\n    </tr>\n    <tr>\n      <th>4130</th>\n      <td>114.500000</td>\n      <td>1.500000</td>\n      <td>4.0</td>\n      <td>55.0</td>\n      <td>61.000000</td>\n      <td>56.000000</td>\n      <td>120.000000</td>\n      <td>55.000000</td>\n      <td>1.0</td>\n      <td>112.0</td>\n      <td>124.000000</td>\n      <td>113.000000</td>\n    </tr>\n    <tr>\n      <th>4131</th>\n      <td>114.000000</td>\n      <td>2.000000</td>\n      <td>4.0</td>\n      <td>55.0</td>\n      <td>60.000000</td>\n      <td>56.000000</td>\n      <td>119.000000</td>\n      <td>55.000000</td>\n      <td>1.0</td>\n      <td>113.0</td>\n      <td>123.000000</td>\n      <td>113.000000</td>\n    </tr>\n    <tr>\n      <th>4132</th>\n      <td>114.000000</td>\n      <td>2.000000</td>\n      <td>4.0</td>\n      <td>56.0</td>\n      <td>60.000000</td>\n      <td>56.000000</td>\n      <td>119.000000</td>\n      <td>56.000000</td>\n      <td>0.0</td>\n      <td>113.0</td>\n      <td>123.000000</td>\n      <td>114.000000</td>\n    </tr>\n    <tr>\n      <th>4133</th>\n      <td>113.000000</td>\n      <td>2.000000</td>\n      <td>4.0</td>\n      <td>57.0</td>\n      <td>60.000000</td>\n      <td>57.000000</td>\n      <td>119.000000</td>\n      <td>57.000000</td>\n      <td>0.5</td>\n      <td>114.0</td>\n      <td>123.000000</td>\n      <td>114.000000</td>\n    </tr>\n    <tr>\n      <th>4134</th>\n      <td>113.000000</td>\n      <td>3.000000</td>\n      <td>3.5</td>\n      <td>57.0</td>\n      <td>60.000000</td>\n      <td>58.000000</td>\n      <td>119.000000</td>\n      <td>57.000000</td>\n      <td>0.5</td>\n      <td>115.5</td>\n      <td>123.000000</td>\n      <td>115.000000</td>\n    </tr>\n  </tbody>\n</table>\n<p>5956 rows × 12 columns</p>\n</div>"
     },
     "execution_count": 6,
     "metadata": {},
     "output_type": "execute_result"
    }
   ],
   "source": [
    "X_train"
   ],
   "metadata": {
    "collapsed": false,
    "ExecuteTime": {
     "end_time": "2024-03-01T13:52:34.835965700Z",
     "start_time": "2024-03-01T13:52:34.819800900Z"
    }
   },
   "id": "9538673a43a05633",
   "execution_count": 6
  },
  {
   "cell_type": "markdown",
   "source": [
    "#### Train the models"
   ],
   "metadata": {
    "collapsed": false
   },
   "id": "231120af77b2b306"
  },
  {
   "cell_type": "code",
   "outputs": [],
   "source": [
    "from sklearn.linear_model import LinearRegression\n",
    "import numpy as np"
   ],
   "metadata": {
    "collapsed": false,
    "ExecuteTime": {
     "end_time": "2024-03-01T13:52:34.868589Z",
     "start_time": "2024-03-01T13:52:34.835965700Z"
    }
   },
   "id": "3b6e057b4d41b274",
   "execution_count": 7
  },
  {
   "cell_type": "code",
   "outputs": [
    {
     "data": {
      "text/plain": "LinearRegression()",
      "text/html": "<style>#sk-container-id-1 {color: black;}#sk-container-id-1 pre{padding: 0;}#sk-container-id-1 div.sk-toggleable {background-color: white;}#sk-container-id-1 label.sk-toggleable__label {cursor: pointer;display: block;width: 100%;margin-bottom: 0;padding: 0.3em;box-sizing: border-box;text-align: center;}#sk-container-id-1 label.sk-toggleable__label-arrow:before {content: \"▸\";float: left;margin-right: 0.25em;color: #696969;}#sk-container-id-1 label.sk-toggleable__label-arrow:hover:before {color: black;}#sk-container-id-1 div.sk-estimator:hover label.sk-toggleable__label-arrow:before {color: black;}#sk-container-id-1 div.sk-toggleable__content {max-height: 0;max-width: 0;overflow: hidden;text-align: left;background-color: #f0f8ff;}#sk-container-id-1 div.sk-toggleable__content pre {margin: 0.2em;color: black;border-radius: 0.25em;background-color: #f0f8ff;}#sk-container-id-1 input.sk-toggleable__control:checked~div.sk-toggleable__content {max-height: 200px;max-width: 100%;overflow: auto;}#sk-container-id-1 input.sk-toggleable__control:checked~label.sk-toggleable__label-arrow:before {content: \"▾\";}#sk-container-id-1 div.sk-estimator input.sk-toggleable__control:checked~label.sk-toggleable__label {background-color: #d4ebff;}#sk-container-id-1 div.sk-label input.sk-toggleable__control:checked~label.sk-toggleable__label {background-color: #d4ebff;}#sk-container-id-1 input.sk-hidden--visually {border: 0;clip: rect(1px 1px 1px 1px);clip: rect(1px, 1px, 1px, 1px);height: 1px;margin: -1px;overflow: hidden;padding: 0;position: absolute;width: 1px;}#sk-container-id-1 div.sk-estimator {font-family: monospace;background-color: #f0f8ff;border: 1px dotted black;border-radius: 0.25em;box-sizing: border-box;margin-bottom: 0.5em;}#sk-container-id-1 div.sk-estimator:hover {background-color: #d4ebff;}#sk-container-id-1 div.sk-parallel-item::after {content: \"\";width: 100%;border-bottom: 1px solid gray;flex-grow: 1;}#sk-container-id-1 div.sk-label:hover label.sk-toggleable__label {background-color: #d4ebff;}#sk-container-id-1 div.sk-serial::before {content: \"\";position: absolute;border-left: 1px solid gray;box-sizing: border-box;top: 0;bottom: 0;left: 50%;z-index: 0;}#sk-container-id-1 div.sk-serial {display: flex;flex-direction: column;align-items: center;background-color: white;padding-right: 0.2em;padding-left: 0.2em;position: relative;}#sk-container-id-1 div.sk-item {position: relative;z-index: 1;}#sk-container-id-1 div.sk-parallel {display: flex;align-items: stretch;justify-content: center;background-color: white;position: relative;}#sk-container-id-1 div.sk-item::before, #sk-container-id-1 div.sk-parallel-item::before {content: \"\";position: absolute;border-left: 1px solid gray;box-sizing: border-box;top: 0;bottom: 0;left: 50%;z-index: -1;}#sk-container-id-1 div.sk-parallel-item {display: flex;flex-direction: column;z-index: 1;position: relative;background-color: white;}#sk-container-id-1 div.sk-parallel-item:first-child::after {align-self: flex-end;width: 50%;}#sk-container-id-1 div.sk-parallel-item:last-child::after {align-self: flex-start;width: 50%;}#sk-container-id-1 div.sk-parallel-item:only-child::after {width: 0;}#sk-container-id-1 div.sk-dashed-wrapped {border: 1px dashed gray;margin: 0 0.4em 0.5em 0.4em;box-sizing: border-box;padding-bottom: 0.4em;background-color: white;}#sk-container-id-1 div.sk-label label {font-family: monospace;font-weight: bold;display: inline-block;line-height: 1.2em;}#sk-container-id-1 div.sk-label-container {text-align: center;}#sk-container-id-1 div.sk-container {/* jupyter's `normalize.less` sets `[hidden] { display: none; }` but bootstrap.min.css set `[hidden] { display: none !important; }` so we also need the `!important` here to be able to override the default hidden behavior on the sphinx rendered scikit-learn.org. See: https://github.com/scikit-learn/scikit-learn/issues/21755 */display: inline-block !important;position: relative;}#sk-container-id-1 div.sk-text-repr-fallback {display: none;}</style><div id=\"sk-container-id-1\" class=\"sk-top-container\"><div class=\"sk-text-repr-fallback\"><pre>LinearRegression()</pre><b>In a Jupyter environment, please rerun this cell to show the HTML representation or trust the notebook. <br />On GitHub, the HTML representation is unable to render, please try loading this page with nbviewer.org.</b></div><div class=\"sk-container\" hidden><div class=\"sk-item\"><div class=\"sk-estimator sk-toggleable\"><input class=\"sk-toggleable__control sk-hidden--visually\" id=\"sk-estimator-id-1\" type=\"checkbox\" checked><label for=\"sk-estimator-id-1\" class=\"sk-toggleable__label sk-toggleable__label-arrow\">LinearRegression</label><div class=\"sk-toggleable__content\"><pre>LinearRegression()</pre></div></div></div></div></div>"
     },
     "execution_count": 8,
     "metadata": {},
     "output_type": "execute_result"
    }
   ],
   "source": [
    "model_x = LinearRegression()\n",
    "model_x.fit(X_train, y_train.u0)"
   ],
   "metadata": {
    "collapsed": false,
    "ExecuteTime": {
     "end_time": "2024-03-01T13:52:34.969882600Z",
     "start_time": "2024-03-01T13:52:34.855417200Z"
    }
   },
   "id": "ec2fd2d75e333dcd",
   "execution_count": 8
  },
  {
   "cell_type": "code",
   "outputs": [
    {
     "name": "stderr",
     "output_type": "stream",
     "text": [
      "C:\\Users\\xande\\venv\\lib\\site-packages\\sklearn\\base.py:465: UserWarning: X does not have valid feature names, but LinearRegression was fitted with feature names\n",
      "  warnings.warn(\n"
     ]
    },
    {
     "ename": "ValueError",
     "evalue": "X has 8 features, but LinearRegression is expecting 12 features as input.",
     "output_type": "error",
     "traceback": [
      "\u001B[1;31m---------------------------------------------------------------------------\u001B[0m",
      "\u001B[1;31mValueError\u001B[0m                                Traceback (most recent call last)",
      "Cell \u001B[1;32mIn[9], line 1\u001B[0m\n\u001B[1;32m----> 1\u001B[0m y_pred_x \u001B[38;5;241m=\u001B[39m \u001B[43mmodel_x\u001B[49m\u001B[38;5;241;43m.\u001B[39;49m\u001B[43mpredict\u001B[49m\u001B[43m(\u001B[49m\u001B[43mX_test_imputed\u001B[49m\u001B[43m)\u001B[49m\n",
      "File \u001B[1;32m~\\venv\\lib\\site-packages\\sklearn\\linear_model\\_base.py:386\u001B[0m, in \u001B[0;36mLinearModel.predict\u001B[1;34m(self, X)\u001B[0m\n\u001B[0;32m    372\u001B[0m \u001B[38;5;28;01mdef\u001B[39;00m \u001B[38;5;21mpredict\u001B[39m(\u001B[38;5;28mself\u001B[39m, X):\n\u001B[0;32m    373\u001B[0m \u001B[38;5;250m    \u001B[39m\u001B[38;5;124;03m\"\"\"\u001B[39;00m\n\u001B[0;32m    374\u001B[0m \u001B[38;5;124;03m    Predict using the linear model.\u001B[39;00m\n\u001B[0;32m    375\u001B[0m \n\u001B[1;32m   (...)\u001B[0m\n\u001B[0;32m    384\u001B[0m \u001B[38;5;124;03m        Returns predicted values.\u001B[39;00m\n\u001B[0;32m    385\u001B[0m \u001B[38;5;124;03m    \"\"\"\u001B[39;00m\n\u001B[1;32m--> 386\u001B[0m     \u001B[38;5;28;01mreturn\u001B[39;00m \u001B[38;5;28;43mself\u001B[39;49m\u001B[38;5;241;43m.\u001B[39;49m\u001B[43m_decision_function\u001B[49m\u001B[43m(\u001B[49m\u001B[43mX\u001B[49m\u001B[43m)\u001B[49m\n",
      "File \u001B[1;32m~\\venv\\lib\\site-packages\\sklearn\\linear_model\\_base.py:369\u001B[0m, in \u001B[0;36mLinearModel._decision_function\u001B[1;34m(self, X)\u001B[0m\n\u001B[0;32m    366\u001B[0m \u001B[38;5;28;01mdef\u001B[39;00m \u001B[38;5;21m_decision_function\u001B[39m(\u001B[38;5;28mself\u001B[39m, X):\n\u001B[0;32m    367\u001B[0m     check_is_fitted(\u001B[38;5;28mself\u001B[39m)\n\u001B[1;32m--> 369\u001B[0m     X \u001B[38;5;241m=\u001B[39m \u001B[38;5;28;43mself\u001B[39;49m\u001B[38;5;241;43m.\u001B[39;49m\u001B[43m_validate_data\u001B[49m\u001B[43m(\u001B[49m\u001B[43mX\u001B[49m\u001B[43m,\u001B[49m\u001B[43m \u001B[49m\u001B[43maccept_sparse\u001B[49m\u001B[38;5;241;43m=\u001B[39;49m\u001B[43m[\u001B[49m\u001B[38;5;124;43m\"\u001B[39;49m\u001B[38;5;124;43mcsr\u001B[39;49m\u001B[38;5;124;43m\"\u001B[39;49m\u001B[43m,\u001B[49m\u001B[43m \u001B[49m\u001B[38;5;124;43m\"\u001B[39;49m\u001B[38;5;124;43mcsc\u001B[39;49m\u001B[38;5;124;43m\"\u001B[39;49m\u001B[43m,\u001B[49m\u001B[43m \u001B[49m\u001B[38;5;124;43m\"\u001B[39;49m\u001B[38;5;124;43mcoo\u001B[39;49m\u001B[38;5;124;43m\"\u001B[39;49m\u001B[43m]\u001B[49m\u001B[43m,\u001B[49m\u001B[43m \u001B[49m\u001B[43mreset\u001B[49m\u001B[38;5;241;43m=\u001B[39;49m\u001B[38;5;28;43;01mFalse\u001B[39;49;00m\u001B[43m)\u001B[49m\n\u001B[0;32m    370\u001B[0m     \u001B[38;5;28;01mreturn\u001B[39;00m safe_sparse_dot(X, \u001B[38;5;28mself\u001B[39m\u001B[38;5;241m.\u001B[39mcoef_\u001B[38;5;241m.\u001B[39mT, dense_output\u001B[38;5;241m=\u001B[39m\u001B[38;5;28;01mTrue\u001B[39;00m) \u001B[38;5;241m+\u001B[39m \u001B[38;5;28mself\u001B[39m\u001B[38;5;241m.\u001B[39mintercept_\n",
      "File \u001B[1;32m~\\venv\\lib\\site-packages\\sklearn\\base.py:626\u001B[0m, in \u001B[0;36mBaseEstimator._validate_data\u001B[1;34m(self, X, y, reset, validate_separately, cast_to_ndarray, **check_params)\u001B[0m\n\u001B[0;32m    623\u001B[0m     out \u001B[38;5;241m=\u001B[39m X, y\n\u001B[0;32m    625\u001B[0m \u001B[38;5;28;01mif\u001B[39;00m \u001B[38;5;129;01mnot\u001B[39;00m no_val_X \u001B[38;5;129;01mand\u001B[39;00m check_params\u001B[38;5;241m.\u001B[39mget(\u001B[38;5;124m\"\u001B[39m\u001B[38;5;124mensure_2d\u001B[39m\u001B[38;5;124m\"\u001B[39m, \u001B[38;5;28;01mTrue\u001B[39;00m):\n\u001B[1;32m--> 626\u001B[0m     \u001B[38;5;28;43mself\u001B[39;49m\u001B[38;5;241;43m.\u001B[39;49m\u001B[43m_check_n_features\u001B[49m\u001B[43m(\u001B[49m\u001B[43mX\u001B[49m\u001B[43m,\u001B[49m\u001B[43m \u001B[49m\u001B[43mreset\u001B[49m\u001B[38;5;241;43m=\u001B[39;49m\u001B[43mreset\u001B[49m\u001B[43m)\u001B[49m\n\u001B[0;32m    628\u001B[0m \u001B[38;5;28;01mreturn\u001B[39;00m out\n",
      "File \u001B[1;32m~\\venv\\lib\\site-packages\\sklearn\\base.py:415\u001B[0m, in \u001B[0;36mBaseEstimator._check_n_features\u001B[1;34m(self, X, reset)\u001B[0m\n\u001B[0;32m    412\u001B[0m     \u001B[38;5;28;01mreturn\u001B[39;00m\n\u001B[0;32m    414\u001B[0m \u001B[38;5;28;01mif\u001B[39;00m n_features \u001B[38;5;241m!=\u001B[39m \u001B[38;5;28mself\u001B[39m\u001B[38;5;241m.\u001B[39mn_features_in_:\n\u001B[1;32m--> 415\u001B[0m     \u001B[38;5;28;01mraise\u001B[39;00m \u001B[38;5;167;01mValueError\u001B[39;00m(\n\u001B[0;32m    416\u001B[0m         \u001B[38;5;124mf\u001B[39m\u001B[38;5;124m\"\u001B[39m\u001B[38;5;124mX has \u001B[39m\u001B[38;5;132;01m{\u001B[39;00mn_features\u001B[38;5;132;01m}\u001B[39;00m\u001B[38;5;124m features, but \u001B[39m\u001B[38;5;132;01m{\u001B[39;00m\u001B[38;5;28mself\u001B[39m\u001B[38;5;241m.\u001B[39m\u001B[38;5;18m__class__\u001B[39m\u001B[38;5;241m.\u001B[39m\u001B[38;5;18m__name__\u001B[39m\u001B[38;5;132;01m}\u001B[39;00m\u001B[38;5;124m \u001B[39m\u001B[38;5;124m\"\u001B[39m\n\u001B[0;32m    417\u001B[0m         \u001B[38;5;124mf\u001B[39m\u001B[38;5;124m\"\u001B[39m\u001B[38;5;124mis expecting \u001B[39m\u001B[38;5;132;01m{\u001B[39;00m\u001B[38;5;28mself\u001B[39m\u001B[38;5;241m.\u001B[39mn_features_in_\u001B[38;5;132;01m}\u001B[39;00m\u001B[38;5;124m features as input.\u001B[39m\u001B[38;5;124m\"\u001B[39m\n\u001B[0;32m    418\u001B[0m     )\n",
      "\u001B[1;31mValueError\u001B[0m: X has 8 features, but LinearRegression is expecting 12 features as input."
     ]
    }
   ],
   "source": [
    "y_pred_x = model_x.predict(X_test_imputed)"
   ],
   "metadata": {
    "collapsed": false,
    "ExecuteTime": {
     "end_time": "2024-03-01T13:52:35.974423800Z",
     "start_time": "2024-03-01T13:52:34.887481100Z"
    }
   },
   "id": "905e5aec0dc893e8",
   "execution_count": 9
  },
  {
   "cell_type": "code",
   "outputs": [],
   "source": [
    "model_y = LinearRegression()\n",
    "model_y.fit(X_train, y_train.v0)"
   ],
   "metadata": {
    "collapsed": false,
    "ExecuteTime": {
     "start_time": "2024-03-01T13:52:35.975509100Z"
    }
   },
   "id": "69c83767957ab419",
   "execution_count": null
  },
  {
   "cell_type": "code",
   "outputs": [],
   "source": [
    "y_pred_y = model_y.predict(X_test_imputed)"
   ],
   "metadata": {
    "collapsed": false,
    "ExecuteTime": {
     "end_time": "2024-03-01T13:52:35.980750400Z",
     "start_time": "2024-03-01T13:52:35.979795900Z"
    }
   },
   "id": "4bee970f69cc2c20",
   "execution_count": null
  },
  {
   "cell_type": "markdown",
   "source": [
    "#### Plot the imputed values"
   ],
   "metadata": {
    "collapsed": false
   },
   "id": "28a65ca92dad28b8"
  },
  {
   "cell_type": "code",
   "outputs": [],
   "source": [
    "nan_order = red_ball_nan_rows.index.values\n",
    "non_nan_order = red_ball_fill.index.values"
   ],
   "metadata": {
    "collapsed": false,
    "ExecuteTime": {
     "start_time": "2024-03-01T13:52:35.981932800Z"
    }
   },
   "id": "b25623ed428779b3",
   "execution_count": null
  },
  {
   "cell_type": "code",
   "outputs": [],
   "source": [
    "from matplotlib import pyplot as plt\n",
    "\n",
    "plt.figure(figsize=(10, 5))\n",
    "plt.scatter(non_nan_order, red_ball_fill.u0, color='blue', label='Non-NaN Values')\n",
    "plt.scatter(nan_order, y_pred_x, color='red', marker='x', label='Imputed Values')\n",
    "plt.xlabel('Order')\n",
    "plt.ylabel('u0')\n",
    "plt.title('Imputed u0 Values Over Order')\n",
    "plt.legend()\n",
    "plt.show()\n"
   ],
   "metadata": {
    "collapsed": false,
    "ExecuteTime": {
     "start_time": "2024-03-01T13:52:35.986317900Z"
    }
   },
   "id": "b16f80a66f440dbf",
   "execution_count": null
  },
  {
   "cell_type": "code",
   "outputs": [],
   "source": [
    "from matplotlib import pyplot as plt\n",
    "\n",
    "plt.figure(figsize=(10, 5))\n",
    "plt.scatter(non_nan_order, red_ball_fill.v0, color='blue', label='Non-NaN Values')\n",
    "plt.scatter(nan_order, y_pred_y, color='red', marker='x', label='Imputed Values')\n",
    "plt.xlabel('Order')\n",
    "plt.ylabel('u0')\n",
    "plt.title('Imputed u0 Values Over Order')\n",
    "plt.legend()\n",
    "plt.show()\n"
   ],
   "metadata": {
    "collapsed": false,
    "ExecuteTime": {
     "start_time": "2024-03-01T13:52:35.988703800Z"
    }
   },
   "id": "853faa832983a197",
   "execution_count": null
  },
  {
   "cell_type": "code",
   "outputs": [],
   "source": [
    "y_pred = np.column_stack((y_pred_x, y_pred_y))"
   ],
   "metadata": {
    "collapsed": false,
    "ExecuteTime": {
     "end_time": "2024-03-01T13:52:36.005727700Z",
     "start_time": "2024-03-01T13:52:35.990932100Z"
    }
   },
   "id": "710577beadaa1e92",
   "execution_count": null
  },
  {
   "cell_type": "code",
   "outputs": [],
   "source": [
    "import matplotlib.pyplot as plt\n",
    "\n",
    "# make a 2d plot with the old values in blue and the new in red\n",
    "plt.scatter(red_ball_fill.u0, red_ball_fill.v0, color='blue')\n",
    "plt.scatter(y_pred[:, 0], y_pred[:, 1], color='red')\n",
    "plt.xlim(0, 128)\n",
    "plt.ylim(0, 128)\n",
    "plt.show()"
   ],
   "metadata": {
    "collapsed": false,
    "ExecuteTime": {
     "start_time": "2024-03-01T13:52:35.992109800Z"
    }
   },
   "id": "4e7f2c086af84aef",
   "execution_count": null
  }
 ],
 "metadata": {
  "kernelspec": {
   "display_name": "Python 3",
   "language": "python",
   "name": "python3"
  },
  "language_info": {
   "codemirror_mode": {
    "name": "ipython",
    "version": 2
   },
   "file_extension": ".py",
   "mimetype": "text/x-python",
   "name": "python",
   "nbconvert_exporter": "python",
   "pygments_lexer": "ipython2",
   "version": "2.7.6"
  }
 },
 "nbformat": 4,
 "nbformat_minor": 5
}
