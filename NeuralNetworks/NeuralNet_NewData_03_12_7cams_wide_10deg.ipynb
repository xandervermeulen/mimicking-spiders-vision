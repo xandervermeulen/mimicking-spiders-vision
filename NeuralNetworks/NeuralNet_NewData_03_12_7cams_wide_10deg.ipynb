{
 "cells": [
  {
   "cell_type": "markdown",
   "source": [],
   "metadata": {
    "collapsed": false
   },
   "id": "a3d73eacc324a4fd"
  },
  {
   "cell_type": "markdown",
   "source": [
    "# Training neural network to predict ball position in a 3d space\n",
    "## 1. Importing Libraries"
   ],
   "metadata": {
    "collapsed": false
   },
   "id": "d62d1f5b11dd788"
  },
  {
   "cell_type": "code",
   "execution_count": 1,
   "id": "initial_id",
   "metadata": {
    "collapsed": true,
    "ExecuteTime": {
     "end_time": "2024-03-13T10:48:48.177620Z",
     "start_time": "2024-03-13T10:48:47.434668Z"
    }
   },
   "outputs": [],
   "source": [
    "import pandas as pd\n",
    "from sklearn.preprocessing import MinMaxScaler\n",
    "from sklearn.neural_network import MLPRegressor\n",
    "from sklearn.model_selection import RandomizedSearchCV\n",
    "from sklearn.pipeline import Pipeline\n",
    "from utils.evaluate import evaluate_model\n",
    "from utils.plot_maker import plot_maker_3d"
   ]
  },
  {
   "cell_type": "markdown",
   "source": [
    "## 2. Importing Data"
   ],
   "metadata": {
    "collapsed": false
   },
   "id": "c343b126b221af5f"
  },
  {
   "cell_type": "code",
   "outputs": [],
   "source": [
    "# get all the red ball data\n",
    "X_butterfly_a = pd.read_csv('../data-7cam-10/data-butterfly/red_ball_coordinates_128px_2024-03-12_22h20m.csv', decimal='.', delimiter=',')\n",
    "X_butterfly_b = pd.read_csv('../data-7cam-10/data-butterfly/red_ball_coordinates_128px_2024-03-12_22h22m.csv', decimal='.', delimiter=',')\n",
    "X_butterfly_c = pd.read_csv('../data-7cam-10/data-butterfly/red_ball_coordinates_128px_2024-03-12_22h23m.csv', decimal='.', delimiter=',')\n",
    "X_spiral_a = pd.read_csv('../data-7cam-10/data-spiral/red_ball_coordinates_128px_2024-03-12_22h25m.csv', decimal='.', delimiter=',')\n",
    "X_spiral_b = pd.read_csv('../data-7cam-10/data-spiral/red_ball_coordinates_128px_2024-03-12_22h27m.csv', decimal='.', delimiter=',')\n",
    "X_spiral_c = pd.read_csv('../data-7cam-10/data-spiral/red_ball_coordinates_128px_2024-03-12_22h28m.csv', decimal='.', delimiter=',')\n",
    "X_spirograph_a = pd.read_csv('../data-7cam-10/data-spirograph/red_ball_coordinates_128px_2024-03-12_22h31m.csv', decimal='.', delimiter=',')\n",
    "X_spirograph_b = pd.read_csv('../data-7cam-10/data-spirograph/red_ball_coordinates_128px_2024-03-12_22h32m.csv', decimal='.', delimiter=',')\n",
    "X_spirograph_c = pd.read_csv('../data-7cam-10/data-spirograph/red_ball_coordinates_128px_2024-03-12_22h33m.csv', decimal='.', delimiter=',')\n",
    "X_circle_a = pd.read_csv('../data-7cam-10/data-circle/red_ball_coordinates_128px_2024-03-12_22h35m.csv', decimal='.', delimiter=',')\n",
    "X_circle_b = pd.read_csv('../data-7cam-10/data-circle/red_ball_coordinates_128px_2024-03-12_22h36m.csv', decimal='.', delimiter=',')\n",
    "X_circle_c = pd.read_csv('../data-7cam-10/data-circle/red_ball_coordinates_128px_2024-03-12_22h37m.csv', decimal='.', delimiter=',')\n",
    "X_lissajous_a = pd.read_csv('../data-7cam-10/data-lis-curve/red_ball_coordinates_128px_2024-03-12_22h46m.csv', decimal='.', delimiter=',')\n",
    "X_lissajous_b = pd.read_csv('../data-7cam-10/data-lis-curve/red_ball_coordinates_128px_2024-03-12_22h47m.csv', decimal='.', delimiter=',')\n",
    "X_lissajous_c = pd.read_csv('../data-7cam-10/data-lis-curve/red_ball_coordinates_128px_2024-03-12_22h49m.csv', decimal='.', delimiter=',')\n",
    "X_random_a = pd.read_csv('../data-7cam-10/data-rand/red_ball_coordinates_128px_2024-03-12_22h18m.csv', decimal='.', delimiter=',')"
   ],
   "metadata": {
    "collapsed": false,
    "ExecuteTime": {
     "end_time": "2024-03-13T10:48:48.225350Z",
     "start_time": "2024-03-13T10:48:48.178761Z"
    }
   },
   "id": "753e977b821642fe",
   "execution_count": 2
  },
  {
   "cell_type": "code",
   "outputs": [],
   "source": [
    "# get all the position data\n",
    "y_butterfly_a = pd.read_csv('../data-7cam-10/data-butterfly/positions_xyz_2024-03-12_22h20m.csv', decimal='.', delimiter=',').iloc[4:]\n",
    "y_butterfly_b = pd.read_csv('../data-7cam-10/data-butterfly/positions_xyz_2024-03-12_22h22m.csv', decimal='.', delimiter=',').iloc[4:]   \n",
    "y_butterfly_c = pd.read_csv('../data-7cam-10/data-butterfly/positions_xyz_2024-03-12_22h23m.csv', decimal='.', delimiter=',').iloc[4:]\n",
    "y_spiral_a = pd.read_csv('../data-7cam-10/data-spiral/positions_xyz_2024-03-12_22h25m.csv', decimal='.', delimiter=',').iloc[4:]\n",
    "y_spiral_b = pd.read_csv('../data-7cam-10/data-spiral/positions_xyz_2024-03-12_22h27m.csv', decimal='.', delimiter=',').iloc[4:]\n",
    "y_spiral_c = pd.read_csv('../data-7cam-10/data-spiral/positions_xyz_2024-03-12_22h28m.csv', decimal='.', delimiter=',').iloc[4:]\n",
    "y_spirograph_a = pd.read_csv('../data-7cam-10/data-spirograph/positions_xyz_2024-03-12_22h31m.csv', decimal='.', delimiter=',').iloc[4:]\n",
    "y_spirograph_b = pd.read_csv('../data-7cam-10/data-spirograph/positions_xyz_2024-03-12_22h32m.csv', decimal='.', delimiter=',').iloc[4:]\n",
    "y_spirograph_c = pd.read_csv('../data-7cam-10/data-spirograph/positions_xyz_2024-03-12_22h33m.csv', decimal='.', delimiter=',').iloc[4:]\n",
    "y_circle_a = pd.read_csv('../data-7cam-10/data-circle/positions_xyz_2024-03-12_22h35m.csv', decimal='.', delimiter=',').iloc[4:]\n",
    "y_circle_b = pd.read_csv('../data-7cam-10/data-circle/positions_xyz_2024-03-12_22h36m.csv', decimal='.', delimiter=',').iloc[4:]\n",
    "y_circle_c = pd.read_csv('../data-7cam-10/data-circle/positions_xyz_2024-03-12_22h37m.csv', decimal='.', delimiter=',').iloc[4:]\n",
    "y_lissajous_a = pd.read_csv('../data-7cam-10/data-lis-curve/positions_xyz_2024-03-12_22h46m.csv', decimal='.', delimiter=',').iloc[4:]\n",
    "y_lissajous_b = pd.read_csv('../data-7cam-10/data-lis-curve/positions_xyz_2024-03-12_22h47m.csv', decimal='.', delimiter=',').iloc[4:]\n",
    "y_lissajous_c = pd.read_csv('../data-7cam-10/data-lis-curve/positions_xyz_2024-03-12_22h49m.csv', decimal='.', delimiter=',').iloc[4:]\n",
    "y_random_a = pd.read_csv('../data-7cam-10/data-rand/positions_xyz_2024-03-12_22h18m.csv', decimal='.', delimiter=',').iloc[4:]"
   ],
   "metadata": {
    "collapsed": false,
    "ExecuteTime": {
     "end_time": "2024-03-13T10:48:48.257193Z",
     "start_time": "2024-03-13T10:48:48.226362Z"
    }
   },
   "id": "316e107861a204fb",
   "execution_count": 3
  },
  {
   "cell_type": "markdown",
   "source": [
    "#### 2.1 Check for Missing Values in spriral_down_b and spiral_down_c"
   ],
   "metadata": {
    "collapsed": false
   },
   "id": "b323937c1957773b"
  },
  {
   "cell_type": "code",
   "outputs": [
    {
     "name": "stdout",
     "output_type": "stream",
     "text": [
      "The amount of NaN values in X_butterfly_a: 254\n",
      "The amount of NaN values in X_butterfly_b: 1776\n",
      "The amount of NaN values in X_butterfly_c: 4\n",
      "The amount of NaN values in X_spiral_a: 0\n",
      "The amount of NaN values in X_spiral_b: 0\n",
      "The amount of NaN values in X_spiral_c: 0\n",
      "The amount of NaN values in X_spirograph_a: 2\n",
      "The amount of NaN values in X_spirograph_b: 1040\n",
      "The amount of NaN values in X_spirograph_c: 2\n",
      "The amount of NaN values in X_circle_a: 0\n",
      "The amount of NaN values in X_circle_b: 2\n",
      "The amount of NaN values in X_circle_c: 1006\n",
      "The amount of NaN values in X_lissajous_a: 0\n",
      "The amount of NaN values in X_lissajous_b: 16\n",
      "The amount of NaN values in X_lissajous_c: 4\n"
     ]
    }
   ],
   "source": [
    "print(f'The amount of NaN values in X_butterfly_a: {X_butterfly_a.isna().sum().sum()}')\n",
    "print(f'The amount of NaN values in X_butterfly_b: {X_butterfly_b.isna().sum().sum()}')\n",
    "print(f'The amount of NaN values in X_butterfly_c: {X_butterfly_c.isna().sum().sum()}')\n",
    "print(f'The amount of NaN values in X_spiral_a: {X_spiral_a.isna().sum().sum()}')\n",
    "print(f'The amount of NaN values in X_spiral_b: {X_spiral_b.isna().sum().sum()}')\n",
    "print(f'The amount of NaN values in X_spiral_c: {X_spiral_c.isna().sum().sum()}')\n",
    "print(f'The amount of NaN values in X_spirograph_a: {X_spirograph_a.isna().sum().sum()}')\n",
    "print(f'The amount of NaN values in X_spirograph_b: {X_spirograph_b.isna().sum().sum()}')\n",
    "print(f'The amount of NaN values in X_spirograph_c: {X_spirograph_c.isna().sum().sum()}')\n",
    "print(f'The amount of NaN values in X_circle_a: {X_circle_a.isna().sum().sum()}')\n",
    "print(f'The amount of NaN values in X_circle_b: {X_circle_b.isna().sum().sum()}')\n",
    "print(f'The amount of NaN values in X_circle_c: {X_circle_c.isna().sum().sum()}')\n",
    "print(f'The amount of NaN values in X_lissajous_a: {X_lissajous_a.isna().sum().sum()}')\n",
    "print(f'The amount of NaN values in X_lissajous_b: {X_lissajous_b.isna().sum().sum()}')\n",
    "print(f'The amount of NaN values in X_lissajous_c: {X_lissajous_c.isna().sum().sum()}')\n",
    "#print(f'The amount of NaN values in X_random_a: {X_random_a.isna().sum().sum()}')"
   ],
   "metadata": {
    "collapsed": false,
    "ExecuteTime": {
     "end_time": "2024-03-13T10:48:48.273024Z",
     "start_time": "2024-03-13T10:48:48.258204Z"
    }
   },
   "id": "887816b8791983bb",
   "execution_count": 4
  },
  {
   "cell_type": "markdown",
   "source": [
    "I Interpolated the files with a lot of missing values\n",
    "All the results are quite good except butterfly_b "
   ],
   "metadata": {
    "collapsed": false
   },
   "id": "9415e08c048ca456"
  },
  {
   "cell_type": "markdown",
   "source": [
    "### 2.3 Combine all the datasets"
   ],
   "metadata": {
    "collapsed": false
   },
   "id": "4b75b022b8186f46"
  },
  {
   "cell_type": "code",
   "outputs": [],
   "source": [
    "X_train = pd.concat([X_butterfly_a, X_butterfly_b, X_butterfly_c, X_spiral_a, X_spiral_b, X_spiral_c, X_spirograph_a, X_spirograph_b, X_spirograph_c, X_circle_a, X_circle_b, X_circle_c, X_lissajous_a, X_lissajous_b, X_lissajous_c ])#,  X_random_a])\n",
    "y_train = pd.concat([y_butterfly_a, y_butterfly_b, y_butterfly_c, y_spiral_a, y_spiral_b, y_spiral_c, y_spirograph_a, y_spirograph_b, y_spirograph_c, y_circle_a, y_circle_b, y_circle_c, y_lissajous_a, y_lissajous_b, y_lissajous_c])#, y_random_a])\n",
    "X_train.reset_index(drop=True, inplace=True)\n",
    "y_train.reset_index(drop=True, inplace=True)"
   ],
   "metadata": {
    "collapsed": false,
    "ExecuteTime": {
     "end_time": "2024-03-13T10:48:48.288910Z",
     "start_time": "2024-03-13T10:48:48.275058Z"
    }
   },
   "id": "45402e756b5d92da",
   "execution_count": 5
  },
  {
   "cell_type": "code",
   "outputs": [
    {
     "data": {
      "text/plain": "((14539, 14), (14539, 3))"
     },
     "execution_count": 6,
     "metadata": {},
     "output_type": "execute_result"
    }
   ],
   "source": [
    "X_train.shape, y_train.shape"
   ],
   "metadata": {
    "collapsed": false,
    "ExecuteTime": {
     "end_time": "2024-03-13T10:48:48.304796Z",
     "start_time": "2024-03-13T10:48:48.289911Z"
    }
   },
   "id": "ed7a120a3e7c90c1",
   "execution_count": 6
  },
  {
   "cell_type": "code",
   "outputs": [],
   "source": [
    "combined = pd.concat([X_train, y_train], axis=1)"
   ],
   "metadata": {
    "collapsed": false,
    "ExecuteTime": {
     "end_time": "2024-03-13T10:48:48.320717Z",
     "start_time": "2024-03-13T10:48:48.305831Z"
    }
   },
   "id": "77964f394f147651",
   "execution_count": 7
  },
  {
   "cell_type": "markdown",
   "source": [
    "## 3. Data Preprocessing"
   ],
   "metadata": {
    "collapsed": false
   },
   "id": "bc7a378fbd128144"
  },
  {
   "cell_type": "code",
   "outputs": [
    {
     "name": "stdout",
     "output_type": "stream",
     "text": [
      "The data has missing values: 4106\n",
      "The data has missing values: 0\n"
     ]
    }
   ],
   "source": [
    "# check for missing values\n",
    "print(f'The data has missing values: {combined.isnull().sum().sum()}')\n",
    "combined.dropna(inplace=True)\n",
    "print(f'The data has missing values: {combined.isnull().sum().sum()}')"
   ],
   "metadata": {
    "collapsed": false,
    "ExecuteTime": {
     "end_time": "2024-03-13T10:48:48.336784Z",
     "start_time": "2024-03-13T10:48:48.321828Z"
    }
   },
   "id": "29060cc2a3e655dc",
   "execution_count": 8
  },
  {
   "cell_type": "code",
   "outputs": [],
   "source": [
    "X = combined.iloc[:, :14]\n",
    "y = combined.iloc[:, 14:]\n",
    "X.to_csv('../data-7cam-10/all/red_ball_all.csv', index=False)\n",
    "y.to_csv('../data-7cam-10/all/positions_all.csv', index=False)"
   ],
   "metadata": {
    "collapsed": false,
    "ExecuteTime": {
     "end_time": "2024-03-13T10:48:48.433121Z",
     "start_time": "2024-03-13T10:48:48.338941Z"
    }
   },
   "id": "2c20e7b504dcfd9c",
   "execution_count": 9
  },
  {
   "cell_type": "code",
   "outputs": [
    {
     "data": {
      "text/plain": "((13835, 14), (13835, 3))"
     },
     "execution_count": 10,
     "metadata": {},
     "output_type": "execute_result"
    }
   ],
   "source": [
    "X.shape, y.shape"
   ],
   "metadata": {
    "collapsed": false,
    "ExecuteTime": {
     "end_time": "2024-03-13T10:48:48.445433Z",
     "start_time": "2024-03-13T10:48:48.434225Z"
    }
   },
   "id": "bd0bd6c7a731a8da",
   "execution_count": 10
  },
  {
   "cell_type": "code",
   "outputs": [],
   "source": [
    "# scale the data\n",
    "scaler_x = MinMaxScaler()\n",
    "scaler_y = MinMaxScaler()\n",
    "X_scaled = scaler_x.fit_transform(X)\n",
    "y_scaled = scaler_y.fit_transform(y)"
   ],
   "metadata": {
    "collapsed": false,
    "ExecuteTime": {
     "end_time": "2024-03-13T10:48:48.461338Z",
     "start_time": "2024-03-13T10:48:48.446476Z"
    }
   },
   "id": "898d1aebee1ee4a2",
   "execution_count": 11
  },
  {
   "cell_type": "markdown",
   "source": [
    "## 4. Hyperparameter Tuning"
   ],
   "metadata": {
    "collapsed": false
   },
   "id": "fad416068809969b"
  },
  {
   "cell_type": "code",
   "outputs": [],
   "source": [
    "# create a pipeline\n",
    "pipeline = Pipeline([\n",
    "    ('mlp', MLPRegressor(random_state=42))\n",
    "])"
   ],
   "metadata": {
    "collapsed": false,
    "ExecuteTime": {
     "end_time": "2024-03-13T10:48:48.477211Z",
     "start_time": "2024-03-13T10:48:48.462441Z"
    }
   },
   "id": "202ed5653fa8a79b",
   "execution_count": 12
  },
  {
   "cell_type": "code",
   "outputs": [
    {
     "name": "stdout",
     "output_type": "stream",
     "text": [
      "Fitting 5 folds for each of 100 candidates, totalling 500 fits\n"
     ]
    }
   ],
   "source": [
    "param_grid = {\n",
    "    'mlp__hidden_layer_sizes': \n",
    "        [(50, 100, 50) # ,(100,), (64, 32, 64)],\n",
    "         ],\n",
    "    'mlp__activation': ['identity', 'tanh', 'relu'],\n",
    "    'mlp__solver': ['sgd', 'adam'],\n",
    "    'mlp__alpha': [0.001, 0.01, 0.1],\n",
    "    'mlp__max_iter': [10000, 20000, 28000],\n",
    "    'mlp__learning_rate': ['constant', 'adaptive'],\n",
    "    'mlp__learning_rate_init': [0.001, 0.01, 0.1],\n",
    "    'mlp__early_stopping': [True],\n",
    "}\n",
    "\n",
    "random_search = RandomizedSearchCV(pipeline, param_distributions=param_grid, cv=5, n_iter=100, n_jobs=-1, verbose=3, random_state=42)\n",
    "\n",
    "random_search.fit(X_scaled, y_scaled)"
   ],
   "metadata": {
    "collapsed": false,
    "is_executing": true,
    "ExecuteTime": {
     "start_time": "2024-03-13T10:48:48.478260Z"
    }
   },
   "id": "5c232eee49f1ced3",
   "execution_count": null
  },
  {
   "cell_type": "code",
   "outputs": [],
   "source": [
    "print(f'Best parameters: {random_search.best_params_}')\n",
    "print(f'Best score: {random_search.best_score_}')"
   ],
   "metadata": {
    "collapsed": false,
    "is_executing": true
   },
   "id": "6cc24cd43c214947",
   "execution_count": null
  },
  {
   "cell_type": "code",
   "outputs": [],
   "source": [
    "model = random_search.best_estimator_"
   ],
   "metadata": {
    "collapsed": false,
    "is_executing": true
   },
   "id": "e52d4e8a3d14bec4",
   "execution_count": null
  },
  {
   "cell_type": "markdown",
   "source": [
    "## 5. Training the Model"
   ],
   "metadata": {
    "collapsed": false
   },
   "id": "63a44525cdb065d0"
  },
  {
   "cell_type": "code",
   "outputs": [],
   "source": [
    "model.fit(X_scaled, y_scaled)"
   ],
   "metadata": {
    "collapsed": false,
    "is_executing": true
   },
   "id": "7b6d9c96f863c23d",
   "execution_count": null
  },
  {
   "cell_type": "markdown",
   "source": [
    "## 6. Make Predictions On Test Data"
   ],
   "metadata": {
    "collapsed": false
   },
   "id": "ae68f2dd8bbd3320"
  },
  {
   "cell_type": "code",
   "outputs": [],
   "source": [
    "import pandas as pd"
   ],
   "metadata": {
    "collapsed": false,
    "is_executing": true
   },
   "id": "19be1e6e990902fb",
   "execution_count": null
  },
  {
   "cell_type": "code",
   "outputs": [],
   "source": [
    "X_test_8_a = pd.read_csv('../data-7cam-10/data-8motion/red_ball_coordinates_128px_2024-03-12_22h40m.csv', decimal='.', delimiter=',')\n",
    "X_test_8_b = pd.read_csv('../data-7cam-10/data-8motion/red_ball_coordinates_128px_2024-03-12_22h41m.csv', decimal='.', delimiter=',')\n",
    "X_test_8_c = pd.read_csv('../data-7cam-10/data-8motion/red_ball_coordinates_128px_2024-03-12_22h42m.csv', decimal='.', delimiter=',')"
   ],
   "metadata": {
    "collapsed": false,
    "is_executing": true
   },
   "id": "b7374798627d060a",
   "execution_count": null
  },
  {
   "cell_type": "code",
   "outputs": [],
   "source": [
    "y_test_8_a = pd.read_csv('../data-7cam-10/data-8motion/positions_xyz_2024-03-12_22h40m.csv', decimal='.', delimiter=',').iloc[4:]\n",
    "y_test_8_b = pd.read_csv('../data-7cam-10/data-8motion/positions_xyz_2024-03-12_22h41m.csv', decimal='.', delimiter=',').iloc[4:]\n",
    "y_test_8_c = pd.read_csv('../data-7cam-10/data-8motion/positions_xyz_2024-03-12_22h42m.csv', decimal='.', delimiter=',').iloc[4:]"
   ],
   "metadata": {
    "collapsed": false,
    "is_executing": true
   },
   "id": "6d0362544d51cd5b",
   "execution_count": null
  },
  {
   "cell_type": "code",
   "outputs": [],
   "source": [
    "X_test_chaos = pd.read_csv('../data-7cam-10/data-chaos/red_ball_coordinates_128px_2024-03-12_22h16m.csv', decimal='.', delimiter=',')\n",
    "y_test_chaos = pd.read_csv('../data-7cam-10/data-chaos/positions_xyz_2024-03-12_22h16m.csv', decimal='.', delimiter=',').iloc[4:]"
   ],
   "metadata": {
    "collapsed": false,
    "is_executing": true
   },
   "id": "88074d52d58b3712",
   "execution_count": null
  },
  {
   "cell_type": "code",
   "outputs": [],
   "source": [
    "def prepare_and_scale_test_data(X_test_val, y_test_val, scaler_x_test):\n",
    "    y_test_val = y_test_val.iloc[4:]\n",
    "    combined_test = pd.concat([X_test_val, y_test_val], axis=1)\n",
    "    combined_test.dropna(inplace=True)\n",
    "    X_val = combined_test.iloc[:, :14]\n",
    "    y_val = combined_test.iloc[:, 14:]\n",
    "    X_scaled_test = scaler_x_test.transform(X_val)\n",
    "    return X_scaled_test, y_val"
   ],
   "metadata": {
    "collapsed": false,
    "is_executing": true
   },
   "id": "32e775e1370c5290",
   "execution_count": null
  },
  {
   "cell_type": "code",
   "outputs": [],
   "source": [
    "def predict_evaluate_plot(X_test_val_scaled, y_test_val, nn_model, scaler_y_test, title='Trajectory of Ball in 3D Space'):\n",
    "    y_test_predicted_scaled = nn_model.predict(X_test_val_scaled)\n",
    "    y_test_pred = scaler_y_test.inverse_transform(y_test_predicted_scaled)\n",
    "    mse, mae, r2 = evaluate_model(y_test_val, y_test_pred, 'Test Data')\n",
    "    # change col 1 and 2 from place, so it corresponds to the unity 3d space\n",
    "    y_test_pred = y_test_pred[:, [0, 2, 1]]\n",
    "    y_test_val = y_test_val.to_numpy()[:, [0, 2, 1]]\n",
    "    plot_maker_3d(y_test_val, y_test_pred, title)\n",
    "    return y_test_pred, mse, mae, r2"
   ],
   "metadata": {
    "collapsed": false,
    "is_executing": true
   },
   "id": "ba950ddf6f53963c",
   "execution_count": null
  },
  {
   "cell_type": "code",
   "outputs": [],
   "source": [
    "X_test_8_scaled_a, y_test_8_a = prepare_and_scale_test_data(X_test_8_a, y_test_8_a, scaler_x)\n",
    "X_test_8_pred_a, mse_8_a, mae_8_a, r2_8_a = predict_evaluate_plot(X_test_8_scaled_a, y_test_8_a, model, scaler_y, title='Trajectory of Ball in 3D Space - 8-motion a')"
   ],
   "metadata": {
    "collapsed": false,
    "is_executing": true
   },
   "id": "30d4f90b46a84d0b",
   "execution_count": null
  },
  {
   "cell_type": "code",
   "outputs": [],
   "source": [
    "X_test_8_scaled_b, y_test_8_b = prepare_and_scale_test_data(X_test_8_b, y_test_8_b, scaler_x)\n",
    "X_test_8_pred_b, mse_8_b, mae_8_b, r2_8_b = predict_evaluate_plot(X_test_8_scaled_b, y_test_8_b, model, scaler_y, title='Trajectory of Ball in 3D Space - 8-motion b')"
   ],
   "metadata": {
    "collapsed": false,
    "is_executing": true
   },
   "id": "4fa868ab2c9ccfaf",
   "execution_count": null
  },
  {
   "cell_type": "code",
   "outputs": [],
   "source": [
    "X_test_8_scaled_c, y_test_8_c = prepare_and_scale_test_data(X_test_8_c, y_test_8_c, scaler_x)\n",
    "X_test_8_pred_c, mse_8_c, mae_8_c, r2_8_c = predict_evaluate_plot(X_test_8_scaled_c, y_test_8_c, model, scaler_y, title='Trajectory of Ball in 3D Space - 8-motion c')"
   ],
   "metadata": {
    "collapsed": false,
    "is_executing": true
   },
   "id": "8a2744051e0b2919",
   "execution_count": null
  }
 ],
 "metadata": {
  "kernelspec": {
   "display_name": "Python 3",
   "language": "python",
   "name": "python3"
  },
  "language_info": {
   "codemirror_mode": {
    "name": "ipython",
    "version": 2
   },
   "file_extension": ".py",
   "mimetype": "text/x-python",
   "name": "python",
   "nbconvert_exporter": "python",
   "pygments_lexer": "ipython2",
   "version": "2.7.6"
  }
 },
 "nbformat": 4,
 "nbformat_minor": 5
}
