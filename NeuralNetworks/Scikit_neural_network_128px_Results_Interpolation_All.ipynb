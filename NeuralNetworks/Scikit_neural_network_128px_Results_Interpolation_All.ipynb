{
 "cells": [
  {
   "cell_type": "code",
   "outputs": [],
   "source": [
    "import numpy as np\n",
    "import pandas as pd\n",
    "from sklearn.preprocessing import StandardScaler"
   ],
   "metadata": {
    "collapsed": false,
    "ExecuteTime": {
     "end_time": "2024-03-05T00:08:22.561906600Z",
     "start_time": "2024-03-05T00:08:22.513327400Z"
    }
   },
   "id": "initial_id",
   "execution_count": 20
  },
  {
   "cell_type": "code",
   "outputs": [
    {
     "data": {
      "text/plain": "((30067, 3), (30067, 14))"
     },
     "execution_count": 21,
     "metadata": {},
     "output_type": "execute_result"
    }
   ],
   "source": [
    "# Inlezen van CSV-bestand\n",
    "dataPositions = pd.read_csv('../interpolated-data/positions_xyz_128px_full_new.csv')\n",
    "dataCoordinates = pd.read_csv('../interpolated-data/red_ball_coordinates_128px_full_new.csv')\n",
    "dataPositions.shape, dataCoordinates.shape"
   ],
   "metadata": {
    "collapsed": false,
    "ExecuteTime": {
     "end_time": "2024-03-05T00:08:22.636260300Z",
     "start_time": "2024-03-05T00:08:22.564075100Z"
    }
   },
   "id": "9be410102b6e0b08",
   "execution_count": 21
  },
  {
   "cell_type": "code",
   "outputs": [
    {
     "data": {
      "text/plain": "       32.611167757455355  80.1982370297045  45.03846153846154  \\\n0               32.611168         80.198237          43.350000   \n1               32.611168         80.198237          43.791667   \n2               32.611168         80.198237          43.411765   \n3               32.611168         80.198237          44.000000   \n4               32.611168         80.198237          44.166667   \n...                   ...               ...                ...   \n30062          122.000000         64.000000          79.000000   \n30063          123.000000         62.000000          96.000000   \n30064          123.000000         61.000000          96.000000   \n30065          123.000000         57.000000          79.000000   \n30066          123.000000         59.000000          96.000000   \n\n       83.3076923076923  86.92592592592592  39.333333333333336  \\\n0             83.850000          87.000000           40.111111   \n1             84.666667          87.310345           41.034483   \n2             85.705882          87.400000           41.400000   \n3             86.285714          87.740741           42.000000   \n4             87.222222          87.750000           43.250000   \n...                 ...                ...                 ...   \n30062        115.000000         121.000000          117.000000   \n30063        120.500000         121.000000          115.000000   \n30064        120.500000         121.000000          113.000000   \n30065        115.000000         121.000000          109.000000   \n30066        120.500000         121.000000          111.000000   \n\n       0.3333333333333333        41.5  31.690857280117925  115.4632904327339  \\\n0                0.444444   42.555556           31.690857         115.463290   \n1                0.444444   43.444444           31.690857         115.463290   \n2                0.666667   44.500000           31.690857         115.463290   \n3                1.062500   45.437500           31.690857         115.463290   \n4                1.400000   46.500000           31.690857         115.463290   \n...                   ...         ...                 ...                ...   \n30062           45.465763  106.746940           84.286003          95.550908   \n30063           45.465763  106.746940           84.286003          95.550908   \n30064           45.465763  106.746940           84.286003          95.550908   \n30065           45.465763  106.746940           84.286003          95.550908   \n30066           45.465763  106.746940           84.286003          95.550908   \n\n       88.13636363636364  82.72727272727273       68.5       118.5   10.13833  \\\n0              89.500000          84.500000  68.500000  118.500000  10.133340   \n1              89.473684          85.631579  68.500000  118.500000  10.125010   \n2              89.777778          86.500000  68.500000  118.500000  10.113370   \n3              89.944444          87.222222  68.500000  118.500000  10.098430   \n4              90.470588          88.352941  68.500000  118.500000  10.080200   \n...                  ...                ...        ...         ...        ...   \n30062         -29.617042         237.188872  90.315662  134.650737   4.720146   \n30063         -29.617042         237.188872  90.315662  134.650737   4.714249   \n30064         -29.617042         237.188872  90.315662  134.650737   4.708378   \n30065         -29.617042         237.188872  90.315662  134.650737   4.702536   \n30066         -29.617042         237.188872  90.315662  134.650737   4.675747   \n\n       3.169981  15.09998  \n0      3.269852  15.19985  \n1      3.369500  15.29950  \n2      3.468816  15.39882  \n3      3.567688  15.49769  \n4      3.666008  15.59601  \n...         ...       ...  \n30062  3.151380   7.95000  \n30063  3.084737   7.95000  \n30064  3.018077   7.95000  \n30065  2.951475   7.95000  \n30066  2.644979   7.95000  \n\n[30067 rows x 17 columns]",
      "text/html": "<div>\n<style scoped>\n    .dataframe tbody tr th:only-of-type {\n        vertical-align: middle;\n    }\n\n    .dataframe tbody tr th {\n        vertical-align: top;\n    }\n\n    .dataframe thead th {\n        text-align: right;\n    }\n</style>\n<table border=\"1\" class=\"dataframe\">\n  <thead>\n    <tr style=\"text-align: right;\">\n      <th></th>\n      <th>32.611167757455355</th>\n      <th>80.1982370297045</th>\n      <th>45.03846153846154</th>\n      <th>83.3076923076923</th>\n      <th>86.92592592592592</th>\n      <th>39.333333333333336</th>\n      <th>0.3333333333333333</th>\n      <th>41.5</th>\n      <th>31.690857280117925</th>\n      <th>115.4632904327339</th>\n      <th>88.13636363636364</th>\n      <th>82.72727272727273</th>\n      <th>68.5</th>\n      <th>118.5</th>\n      <th>10.13833</th>\n      <th>3.169981</th>\n      <th>15.09998</th>\n    </tr>\n  </thead>\n  <tbody>\n    <tr>\n      <th>0</th>\n      <td>32.611168</td>\n      <td>80.198237</td>\n      <td>43.350000</td>\n      <td>83.850000</td>\n      <td>87.000000</td>\n      <td>40.111111</td>\n      <td>0.444444</td>\n      <td>42.555556</td>\n      <td>31.690857</td>\n      <td>115.463290</td>\n      <td>89.500000</td>\n      <td>84.500000</td>\n      <td>68.500000</td>\n      <td>118.500000</td>\n      <td>10.133340</td>\n      <td>3.269852</td>\n      <td>15.19985</td>\n    </tr>\n    <tr>\n      <th>1</th>\n      <td>32.611168</td>\n      <td>80.198237</td>\n      <td>43.791667</td>\n      <td>84.666667</td>\n      <td>87.310345</td>\n      <td>41.034483</td>\n      <td>0.444444</td>\n      <td>43.444444</td>\n      <td>31.690857</td>\n      <td>115.463290</td>\n      <td>89.473684</td>\n      <td>85.631579</td>\n      <td>68.500000</td>\n      <td>118.500000</td>\n      <td>10.125010</td>\n      <td>3.369500</td>\n      <td>15.29950</td>\n    </tr>\n    <tr>\n      <th>2</th>\n      <td>32.611168</td>\n      <td>80.198237</td>\n      <td>43.411765</td>\n      <td>85.705882</td>\n      <td>87.400000</td>\n      <td>41.400000</td>\n      <td>0.666667</td>\n      <td>44.500000</td>\n      <td>31.690857</td>\n      <td>115.463290</td>\n      <td>89.777778</td>\n      <td>86.500000</td>\n      <td>68.500000</td>\n      <td>118.500000</td>\n      <td>10.113370</td>\n      <td>3.468816</td>\n      <td>15.39882</td>\n    </tr>\n    <tr>\n      <th>3</th>\n      <td>32.611168</td>\n      <td>80.198237</td>\n      <td>44.000000</td>\n      <td>86.285714</td>\n      <td>87.740741</td>\n      <td>42.000000</td>\n      <td>1.062500</td>\n      <td>45.437500</td>\n      <td>31.690857</td>\n      <td>115.463290</td>\n      <td>89.944444</td>\n      <td>87.222222</td>\n      <td>68.500000</td>\n      <td>118.500000</td>\n      <td>10.098430</td>\n      <td>3.567688</td>\n      <td>15.49769</td>\n    </tr>\n    <tr>\n      <th>4</th>\n      <td>32.611168</td>\n      <td>80.198237</td>\n      <td>44.166667</td>\n      <td>87.222222</td>\n      <td>87.750000</td>\n      <td>43.250000</td>\n      <td>1.400000</td>\n      <td>46.500000</td>\n      <td>31.690857</td>\n      <td>115.463290</td>\n      <td>90.470588</td>\n      <td>88.352941</td>\n      <td>68.500000</td>\n      <td>118.500000</td>\n      <td>10.080200</td>\n      <td>3.666008</td>\n      <td>15.59601</td>\n    </tr>\n    <tr>\n      <th>...</th>\n      <td>...</td>\n      <td>...</td>\n      <td>...</td>\n      <td>...</td>\n      <td>...</td>\n      <td>...</td>\n      <td>...</td>\n      <td>...</td>\n      <td>...</td>\n      <td>...</td>\n      <td>...</td>\n      <td>...</td>\n      <td>...</td>\n      <td>...</td>\n      <td>...</td>\n      <td>...</td>\n      <td>...</td>\n    </tr>\n    <tr>\n      <th>30062</th>\n      <td>122.000000</td>\n      <td>64.000000</td>\n      <td>79.000000</td>\n      <td>115.000000</td>\n      <td>121.000000</td>\n      <td>117.000000</td>\n      <td>45.465763</td>\n      <td>106.746940</td>\n      <td>84.286003</td>\n      <td>95.550908</td>\n      <td>-29.617042</td>\n      <td>237.188872</td>\n      <td>90.315662</td>\n      <td>134.650737</td>\n      <td>4.720146</td>\n      <td>3.151380</td>\n      <td>7.95000</td>\n    </tr>\n    <tr>\n      <th>30063</th>\n      <td>123.000000</td>\n      <td>62.000000</td>\n      <td>96.000000</td>\n      <td>120.500000</td>\n      <td>121.000000</td>\n      <td>115.000000</td>\n      <td>45.465763</td>\n      <td>106.746940</td>\n      <td>84.286003</td>\n      <td>95.550908</td>\n      <td>-29.617042</td>\n      <td>237.188872</td>\n      <td>90.315662</td>\n      <td>134.650737</td>\n      <td>4.714249</td>\n      <td>3.084737</td>\n      <td>7.95000</td>\n    </tr>\n    <tr>\n      <th>30064</th>\n      <td>123.000000</td>\n      <td>61.000000</td>\n      <td>96.000000</td>\n      <td>120.500000</td>\n      <td>121.000000</td>\n      <td>113.000000</td>\n      <td>45.465763</td>\n      <td>106.746940</td>\n      <td>84.286003</td>\n      <td>95.550908</td>\n      <td>-29.617042</td>\n      <td>237.188872</td>\n      <td>90.315662</td>\n      <td>134.650737</td>\n      <td>4.708378</td>\n      <td>3.018077</td>\n      <td>7.95000</td>\n    </tr>\n    <tr>\n      <th>30065</th>\n      <td>123.000000</td>\n      <td>57.000000</td>\n      <td>79.000000</td>\n      <td>115.000000</td>\n      <td>121.000000</td>\n      <td>109.000000</td>\n      <td>45.465763</td>\n      <td>106.746940</td>\n      <td>84.286003</td>\n      <td>95.550908</td>\n      <td>-29.617042</td>\n      <td>237.188872</td>\n      <td>90.315662</td>\n      <td>134.650737</td>\n      <td>4.702536</td>\n      <td>2.951475</td>\n      <td>7.95000</td>\n    </tr>\n    <tr>\n      <th>30066</th>\n      <td>123.000000</td>\n      <td>59.000000</td>\n      <td>96.000000</td>\n      <td>120.500000</td>\n      <td>121.000000</td>\n      <td>111.000000</td>\n      <td>45.465763</td>\n      <td>106.746940</td>\n      <td>84.286003</td>\n      <td>95.550908</td>\n      <td>-29.617042</td>\n      <td>237.188872</td>\n      <td>90.315662</td>\n      <td>134.650737</td>\n      <td>4.675747</td>\n      <td>2.644979</td>\n      <td>7.95000</td>\n    </tr>\n  </tbody>\n</table>\n<p>30067 rows × 17 columns</p>\n</div>"
     },
     "execution_count": 22,
     "metadata": {},
     "output_type": "execute_result"
    }
   ],
   "source": [
    "combined = pd.concat([dataCoordinates, dataPositions], axis=1)\n",
    "# remove the rows with to more than 3 NaN values\n",
    "\n",
    "combined = combined.dropna(thresh=combined.shape[1]-3)\n",
    "combined"
   ],
   "metadata": {
    "collapsed": false,
    "ExecuteTime": {
     "end_time": "2024-03-05T00:08:22.671201700Z",
     "start_time": "2024-03-05T00:08:22.624737800Z"
    }
   },
   "id": "5ec15ec319d57a66",
   "execution_count": 22
  },
  {
   "cell_type": "code",
   "outputs": [],
   "source": [
    "X = combined.iloc[:, :14] # select all rows and columns from 0 to 13\n",
    "y = combined.iloc[:, 14:] # select x y z output columns"
   ],
   "metadata": {
    "collapsed": false,
    "ExecuteTime": {
     "end_time": "2024-03-05T00:08:22.683453300Z",
     "start_time": "2024-03-05T00:08:22.656462500Z"
    }
   },
   "id": "9ed5f2f7569c0e8a",
   "execution_count": 23
  },
  {
   "cell_type": "markdown",
   "source": [
    "### Data Preprocessing"
   ],
   "metadata": {
    "collapsed": false
   },
   "id": "866df316b63c29f9"
  },
  {
   "cell_type": "code",
   "outputs": [],
   "source": [
    "from sklearn.impute import KNNImputer\n",
    "\n",
    "imputer = KNNImputer(n_neighbors=2)\n",
    "dfX = imputer.fit_transform(X)\n",
    "y = imputer.fit_transform(y)"
   ],
   "metadata": {
    "collapsed": false,
    "ExecuteTime": {
     "end_time": "2024-03-05T00:08:22.709409800Z",
     "start_time": "2024-03-05T00:08:22.671201700Z"
    }
   },
   "id": "852137494dd7cb25",
   "execution_count": 24
  },
  {
   "cell_type": "markdown",
   "source": [
    "### Splitting the dataset into the Training set and Test set"
   ],
   "metadata": {
    "collapsed": false
   },
   "id": "1868e419393ae127"
  },
  {
   "cell_type": "code",
   "outputs": [],
   "source": [
    "# Splitting the dataset into the Training set and Test set\n",
    "from sklearn.model_selection import train_test_split\n",
    "\n",
    "# Splitting the data into train and test sets\n",
    "X_train, X_test, y_train, y_test = train_test_split(dfX, y, test_size=0.2, random_state=42)\n",
    "\n",
    "# Splitting the training data into train and validation sets\n",
    "X_train, X_val, y_train, y_val = train_test_split(X_train, y_train, test_size=0.25, random_state=42)\n"
   ],
   "metadata": {
    "collapsed": false,
    "ExecuteTime": {
     "end_time": "2024-03-05T00:08:22.719887800Z",
     "start_time": "2024-03-05T00:08:22.688957300Z"
    }
   },
   "id": "2291097d6570a81",
   "execution_count": 25
  },
  {
   "cell_type": "code",
   "outputs": [
    {
     "data": {
      "text/plain": "(18039, 6014, 6014)"
     },
     "execution_count": 26,
     "metadata": {},
     "output_type": "execute_result"
    }
   ],
   "source": [
    "scaler_X = StandardScaler()\n",
    "X_train_scaled = scaler_X.fit_transform(X_train)\n",
    "X_val_scaled = scaler_X.transform(X_val)\n",
    "X_test_scaled = scaler_X.transform(X_test)\n",
    "\n",
    "scaler_y = StandardScaler()\n",
    "y_train_scaled = scaler_y.fit_transform(y_train)\n",
    "y_val_scaled = scaler_y.transform(y_val)\n",
    "y_test_scaled = scaler_y.transform(y_test)\n",
    "\n",
    "X_train_scaled.shape[0], X_val_scaled.shape[0], X_test_scaled.shape[0]"
   ],
   "metadata": {
    "collapsed": false,
    "ExecuteTime": {
     "end_time": "2024-03-05T00:08:22.721043100Z",
     "start_time": "2024-03-05T00:08:22.704077Z"
    }
   },
   "id": "5cde4d1e70339db2",
   "execution_count": 26
  },
  {
   "cell_type": "markdown",
   "source": [
    "### Hyperparameter tuning"
   ],
   "metadata": {
    "collapsed": false
   },
   "id": "7a762836c2e34bb6"
  },
  {
   "cell_type": "code",
   "outputs": [],
   "source": [
    "from sklearn.pipeline import Pipeline\n",
    "from sklearn.model_selection import RandomizedSearchCV\n",
    "from sklearn.neural_network import MLPRegressor\n",
    "\n",
    "# Define a parameter grid for the MLPRegressor\n",
    "param_grid = {\n",
    "    'model__hidden_layer_sizes': [(100,), (150,), (200,)],\n",
    "    'model__activation': ['identity', 'logistic', 'tanh', 'relu'],\n",
    "    'model__solver': ['sgd', 'adam'],\n",
    "    'model__learning_rate': ['constant', 'invscaling', 'adaptive'],\n",
    "    'model__learning_rate_init': [0.001, 0.01, 0.1],\n",
    "    'model__max_iter': [10000, 20000, 28000],\n",
    "    'model__early_stopping': [True],\n",
    "}\n",
    "\n",
    "# Create a pipeline with an MLPRegressor model\n",
    "pipeline = Pipeline([\n",
    "    ('model', MLPRegressor(random_state=42))\n",
    "])\n",
    "model = MLPRegressor(hidden_layer_sizes=(200, 150, 100), solver='sgd', max_iter=20000, early_stopping=True, random_state=42, activation='relu', learning_rate='adaptive', learning_rate_init=0.1)\n",
    "# Perform a randomized search over the parameter grid\n",
    "#random_search = RandomizedSearchCV(pipeline, param_distributions=param_grid, n_iter=100, cv=5, n_jobs=-1, verbose=2, random_state=42)"
   ],
   "metadata": {
    "collapsed": false,
    "ExecuteTime": {
     "end_time": "2024-03-05T00:08:22.746899600Z",
     "start_time": "2024-03-05T00:08:22.718836800Z"
    }
   },
   "id": "b29999aedf418c9f",
   "execution_count": 27
  },
  {
   "cell_type": "markdown",
   "source": [
    "#### Train the model"
   ],
   "metadata": {
    "collapsed": false
   },
   "id": "b1f571f33e59b1d1"
  },
  {
   "cell_type": "code",
   "outputs": [],
   "source": [
    "model.fit(X_train_scaled, y_train_scaled)"
   ],
   "metadata": {
    "collapsed": false,
    "is_executing": true,
    "ExecuteTime": {
     "start_time": "2024-03-05T00:08:22.733168300Z"
    }
   },
   "id": "28d0363e6bcd9ca2",
   "execution_count": null
  },
  {
   "cell_type": "markdown",
   "source": [
    "#### Result of the hyperparameter tuning"
   ],
   "metadata": {
    "collapsed": false
   },
   "id": "8d9c77f105a40817"
  },
  {
   "cell_type": "code",
   "outputs": [],
   "source": [
    "#model = random_search.best_estimator_"
   ],
   "metadata": {
    "collapsed": false,
    "is_executing": true
   },
   "id": "7b823d1b0369e1a3",
   "execution_count": null
  },
  {
   "cell_type": "code",
   "outputs": [],
   "source": [
    "#print('fBest parameters found:\\n', random_search.best_params_)"
   ],
   "metadata": {
    "collapsed": false,
    "is_executing": true
   },
   "id": "235a4010bce572e4",
   "execution_count": null
  },
  {
   "cell_type": "markdown",
   "source": [
    "#### Make Predictions"
   ],
   "metadata": {
    "collapsed": false
   },
   "id": "98155e611f1db62d"
  },
  {
   "cell_type": "code",
   "outputs": [],
   "source": [
    "y_val_pred_scaled = model.predict(X_val_scaled)\n",
    "y_val_pred = scaler_y.inverse_transform(y_val_pred_scaled)"
   ],
   "metadata": {
    "collapsed": false,
    "is_executing": true
   },
   "id": "307afe92aa0c5dee",
   "execution_count": null
  },
  {
   "cell_type": "markdown",
   "source": [
    "#### Evaluate the model"
   ],
   "metadata": {
    "collapsed": false
   },
   "id": "e7c826b3cddda406"
  },
  {
   "cell_type": "code",
   "outputs": [],
   "source": [
    "from utils.evaluate import evaluate_model\n",
    "\n",
    "mse_val, mae_val, r2_val = evaluate_model(y_val, y_val_pred, \"Validation\")"
   ],
   "metadata": {
    "collapsed": false,
    "is_executing": true
   },
   "id": "31674984e944f266",
   "execution_count": null
  },
  {
   "cell_type": "code",
   "outputs": [],
   "source": [
    "y_test_pred_scaled = model.predict(X_test_scaled)\n",
    "y_test_pred = scaler_y.inverse_transform(y_test_pred_scaled)"
   ],
   "metadata": {
    "collapsed": false,
    "is_executing": true
   },
   "id": "4b003db3ffd2d820",
   "execution_count": null
  },
  {
   "cell_type": "code",
   "outputs": [],
   "source": [
    "mse_test, mae_test, r2_test = evaluate_model(y_test, y_test_pred, \"Test\")"
   ],
   "metadata": {
    "collapsed": false,
    "is_executing": true
   },
   "id": "306f3953d5f76243",
   "execution_count": null
  },
  {
   "cell_type": "markdown",
   "source": [
    "#### Visualize the results\n",
    "The test data is randomized so the plot won't show a clean trajectory"
   ],
   "metadata": {
    "collapsed": false
   },
   "id": "1618eeed90e75419"
  },
  {
   "cell_type": "code",
   "outputs": [],
   "source": [
    "from utils.plot_maker_gaussian_process import plot_maker_3d\n",
    "\n",
    "plot_maker_3d(np.array(y_test)[:10], np.array(y_test_pred)[:10], \"Predictions on Test Set\")"
   ],
   "metadata": {
    "collapsed": false,
    "is_executing": true
   },
   "id": "5827e7b46be5b09d",
   "execution_count": null
  },
  {
   "cell_type": "markdown",
   "source": [
    "# Make Predictions on new data"
   ],
   "metadata": {
    "collapsed": false
   },
   "id": "5c09db1fcbb63a41"
  },
  {
   "cell_type": "code",
   "outputs": [],
   "source": [
    "test_data = pd.read_csv('../interpolated-data/red_ball_coordinates_128px_2024-02-27_13h38m.csv', delimiter=',', decimal='.')\n",
    "test_result = pd.read_csv('../interpolated-data/positions_xyz_2024-02-27_13h38m.csv', delimiter=',', decimal='.')"
   ],
   "metadata": {
    "collapsed": false,
    "is_executing": true
   },
   "id": "42d54fbb4d1c2283",
   "execution_count": null
  },
  {
   "cell_type": "code",
   "outputs": [],
   "source": [
    "new_combined = pd.concat([test_data, test_result], axis=1)\n",
    "new_combined = new_combined.dropna(thresh=new_combined.shape[1]-3)\n",
    "new_combined = new_combined"
   ],
   "metadata": {
    "collapsed": false,
    "is_executing": true
   },
   "id": "9c999fde84a23ab6",
   "execution_count": null
  },
  {
   "cell_type": "code",
   "outputs": [],
   "source": [
    "new_X = new_combined.iloc[:, :14]\n",
    "new_y = new_combined.iloc[:, 14:]\n",
    "new_X.shape, new_y.shape"
   ],
   "metadata": {
    "collapsed": false,
    "is_executing": true
   },
   "id": "33ec8695d0216ca9",
   "execution_count": null
  },
  {
   "cell_type": "code",
   "outputs": [],
   "source": [
    "new_X_imputed = imputer.fit_transform(new_X)\n",
    "\n",
    "new_X_scaled = scaler_X.fit_transform(new_X_imputed)\n",
    "new_y_scaled = scaler_y.fit_transform(new_y)"
   ],
   "metadata": {
    "collapsed": false,
    "is_executing": true
   },
   "id": "6e97933db6abeaef",
   "execution_count": null
  },
  {
   "cell_type": "code",
   "outputs": [],
   "source": [
    "new_y_pred_scaled = model.predict(new_X_scaled)"
   ],
   "metadata": {
    "collapsed": false,
    "is_executing": true
   },
   "id": "dcac78e39fa749ea",
   "execution_count": null
  },
  {
   "cell_type": "code",
   "outputs": [],
   "source": [
    "new_y_pred = scaler_y.inverse_transform(new_y_pred_scaled)"
   ],
   "metadata": {
    "collapsed": false,
    "is_executing": true
   },
   "id": "116ac476d109b530",
   "execution_count": null
  },
  {
   "cell_type": "code",
   "outputs": [],
   "source": [
    "new_mse, new_mae, new_r2 = evaluate_model(new_y, new_y_pred, \"New Data\")"
   ],
   "metadata": {
    "collapsed": false,
    "is_executing": true
   },
   "id": "5ee16591f06c19c1",
   "execution_count": null
  },
  {
   "cell_type": "code",
   "outputs": [],
   "source": [
    "plot_maker_3d(np.array(new_y)[1200:], np.array(new_y_pred)[1200:], \"Predictions on New Data\")"
   ],
   "metadata": {
    "collapsed": false,
    "is_executing": true
   },
   "id": "ea2d66c2233d9c24",
   "execution_count": null
  }
 ],
 "metadata": {
  "kernelspec": {
   "display_name": "Python 3",
   "language": "python",
   "name": "python3"
  },
  "language_info": {
   "codemirror_mode": {
    "name": "ipython",
    "version": 2
   },
   "file_extension": ".py",
   "mimetype": "text/x-python",
   "name": "python",
   "nbconvert_exporter": "python",
   "pygments_lexer": "ipython2",
   "version": "2.7.6"
  }
 },
 "nbformat": 4,
 "nbformat_minor": 5
}
