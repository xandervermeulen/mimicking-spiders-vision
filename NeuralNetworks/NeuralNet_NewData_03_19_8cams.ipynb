{
 "cells": [
  {
   "cell_type": "markdown",
   "source": [],
   "metadata": {
    "collapsed": false
   },
   "id": "a3d73eacc324a4fd"
  },
  {
   "cell_type": "markdown",
   "source": [
    "# Training neural network to predict ball position in a 3d space\n",
    "## 1. Importing Libraries"
   ],
   "metadata": {
    "collapsed": false
   },
   "id": "d62d1f5b11dd788"
  },
  {
   "cell_type": "code",
   "execution_count": 61,
   "id": "initial_id",
   "metadata": {
    "collapsed": true,
    "ExecuteTime": {
     "end_time": "2024-03-23T23:08:01.081205Z",
     "start_time": "2024-03-23T23:08:01.063769Z"
    }
   },
   "outputs": [],
   "source": [
    "import pandas as pd\n",
    "from sklearn.preprocessing import MinMaxScaler\n",
    "from sklearn.neural_network import MLPRegressor\n",
    "from sklearn.model_selection import RandomizedSearchCV\n",
    "from sklearn.pipeline import Pipeline\n",
    "from utils.evaluate import evaluate_model\n",
    "from utils.plot_maker import plot_maker_3d"
   ]
  },
  {
   "cell_type": "markdown",
   "source": [
    "## 2. Importing Data"
   ],
   "metadata": {
    "collapsed": false
   },
   "id": "c343b126b221af5f"
  },
  {
   "cell_type": "code",
   "outputs": [],
   "source": [
    "# get all the red ball data\n",
    "X_rec1 = pd.read_csv('../data-8-cams/red_ball_coordinates_128px_2024-03-19_14h55m.csv', decimal='.', delimiter=',')\n",
    "X_rec2 = pd.read_csv('../data-8-cams/red_ball_coordinates_128px_2024-03-19_14h56m.csv', decimal='.', delimiter=',')\n",
    "X_rec3 = pd.read_csv('../data-8-cams/red_ball_coordinates_128px_2024-03-19_14h58m.csv', decimal='.', delimiter=',')\n",
    "X_rec4 = pd.read_csv('../data-8-cams/red_ball_coordinates_128px_2024-03-19_14h59m.csv', decimal='.', delimiter=',')\n",
    "X_rec5 = pd.read_csv('../data-8-cams/red_ball_coordinates_128px_2024-03-19_15h00m.csv', decimal='.', delimiter=',')\n",
    "X_rec6 = pd.read_csv('../data-8-cams/red_ball_coordinates_128px_2024-03-19_15h01m.csv', decimal='.', delimiter=',')\n",
    "X_rec7 = pd.read_csv('../data-8-cams/red_ball_coordinates_128px_2024-03-19_15h02m.csv', decimal='.', delimiter=',')\n",
    "X_rec8 = pd.read_csv('../data-8-cams/red_ball_coordinates_128px_2024-03-19_15h04m.csv', decimal='.', delimiter=',')\n",
    "X_rec9 = pd.read_csv('../data-8-cams/red_ball_coordinates_128px_2024-03-19_15h06m.csv', decimal='.', delimiter=',')\n",
    "X_rec10 = pd.read_csv('../data-8-cams/red_ball_coordinates_128px_2024-03-19_15h08m.csv', decimal='.', delimiter=',')\n",
    "X_rec11 = pd.read_csv('../data-8-cams/red_ball_coordinates_128px_2024-03-19_15h09m.csv', decimal='.', delimiter=',')"
   ],
   "metadata": {
    "collapsed": false,
    "ExecuteTime": {
     "end_time": "2024-03-23T23:08:01.255083Z",
     "start_time": "2024-03-23T23:08:01.216579Z"
    }
   },
   "id": "753e977b821642fe",
   "execution_count": 62
  },
  {
   "cell_type": "code",
   "outputs": [],
   "source": [
    "# get all the positions data\n",
    "y_rec1 = pd.read_csv('../data-8-cams/positions_xyz_2024-03-19_14h55m.csv', decimal='.', delimiter=',').iloc[4:]\n",
    "y_rec2 = pd.read_csv('../data-8-cams/positions_xyz_2024-03-19_14h56m.csv', decimal='.', delimiter=',').iloc[4:]\n",
    "y_rec3 = pd.read_csv('../data-8-cams/positions_xyz_2024-03-19_14h58m.csv', decimal='.', delimiter=',').iloc[4:]\n",
    "y_rec4 = pd.read_csv('../data-8-cams/positions_xyz_2024-03-19_14h59m.csv', decimal='.', delimiter=',').iloc[4:]\n",
    "y_rec5 = pd.read_csv('../data-8-cams/positions_xyz_2024-03-19_15h00m.csv', decimal='.', delimiter=',').iloc[4:]\n",
    "y_rec6 = pd.read_csv('../data-8-cams/positions_xyz_2024-03-19_15h01m.csv', decimal='.', delimiter=',').iloc[4:]\n",
    "y_rec7 = pd.read_csv('../data-8-cams/positions_xyz_2024-03-19_15h02m.csv', decimal='.', delimiter=',').iloc[4:]\n",
    "y_rec8 = pd.read_csv('../data-8-cams/positions_xyz_2024-03-19_15h04m.csv', decimal='.', delimiter=',').iloc[4:]\n",
    "y_rec9 = pd.read_csv('../data-8-cams/positions_xyz_2024-03-19_15h06m.csv', decimal='.', delimiter=',').iloc[4:]\n",
    "y_rec10 = pd.read_csv('../data-8-cams/positions_xyz_2024-03-19_15h08m.csv', decimal='.', delimiter=',').iloc[4:]\n",
    "y_rec11 = pd.read_csv('../data-8-cams/positions_xyz_2024-03-19_15h09m.csv', decimal='.', delimiter=',').iloc[4:]"
   ],
   "metadata": {
    "collapsed": false,
    "ExecuteTime": {
     "end_time": "2024-03-23T23:08:01.286999Z",
     "start_time": "2024-03-23T23:08:01.256990Z"
    }
   },
   "id": "3d3a3a625875295d",
   "execution_count": 63
  },
  {
   "cell_type": "code",
   "outputs": [
    {
     "data": {
      "text/plain": "(((980, 16), (980, 3)),\n ((1016, 16), (1016, 3)),\n ((964, 16), (964, 3)),\n ((1008, 16), (1008, 3)))"
     },
     "execution_count": 64,
     "metadata": {},
     "output_type": "execute_result"
    }
   ],
   "source": [
    "(X_rec1.shape, y_rec1.shape), (X_rec2.shape, y_rec2.shape), (X_rec3.shape, y_rec3.shape), (X_rec4.shape, y_rec4.shape)"
   ],
   "metadata": {
    "collapsed": false,
    "ExecuteTime": {
     "end_time": "2024-03-23T23:08:01.302929Z",
     "start_time": "2024-03-23T23:08:01.289504Z"
    }
   },
   "id": "19fa72eac5e4d7a7",
   "execution_count": 64
  },
  {
   "cell_type": "code",
   "outputs": [
    {
     "name": "stdout",
     "output_type": "stream",
     "text": [
      "The amount of NaN in rec1: 4\n",
      "The amount of NaN in rec2: 20\n",
      "The amount of NaN in rec3: 30\n",
      "The amount of NaN in rec4: 38\n",
      "The amount of NaN in rec5: 4\n",
      "The amount of NaN in rec6: 0\n",
      "The amount of NaN in rec7: 5340\n",
      "The amount of NaN in rec8: 7174\n",
      "The amount of NaN in rec9: 2\n",
      "The amount of NaN in rec10: 0\n",
      "The amount of NaN in rec11: 0\n"
     ]
    }
   ],
   "source": [
    "print(f\"The amount of NaN in rec1: {X_rec1.isna().sum().sum()}\")\n",
    "print(f\"The amount of NaN in rec2: {X_rec2.isna().sum().sum()}\")\n",
    "print(f\"The amount of NaN in rec3: {X_rec3.isna().sum().sum()}\")\n",
    "print(f\"The amount of NaN in rec4: {X_rec4.isna().sum().sum()}\")\n",
    "print(f\"The amount of NaN in rec5: {X_rec5.isna().sum().sum()}\")\n",
    "print(f\"The amount of NaN in rec6: {X_rec6.isna().sum().sum()}\")\n",
    "print(f\"The amount of NaN in rec7: {X_rec7.isna().sum().sum()}\")\n",
    "print(f\"The amount of NaN in rec8: {X_rec8.isna().sum().sum()}\")\n",
    "print(f\"The amount of NaN in rec9: {X_rec9.isna().sum().sum()}\")\n",
    "print(f\"The amount of NaN in rec10: {X_rec10.isna().sum().sum()}\")\n",
    "print(f\"The amount of NaN in rec11: {X_rec11.isna().sum().sum()}\")"
   ],
   "metadata": {
    "collapsed": false,
    "ExecuteTime": {
     "end_time": "2024-03-23T23:08:01.317942Z",
     "start_time": "2024-03-23T23:08:01.304940Z"
    }
   },
   "id": "86ff8341acb4b36d",
   "execution_count": 65
  },
  {
   "cell_type": "markdown",
   "source": [
    "Rec7 and Rec8 have too many NaNs"
   ],
   "metadata": {
    "collapsed": false
   },
   "id": "9415e08c048ca456"
  },
  {
   "cell_type": "code",
   "outputs": [
    {
     "data": {
      "text/plain": "u0    177\nv0    177\nu1      5\nv1      5\nu2    497\nv2    497\nu3    501\nv3    501\nu4    496\nv4    496\nu5    495\nv5    495\nu6    499\nv6    499\nu7      0\nv7      0\ndtype: int64"
     },
     "execution_count": 66,
     "metadata": {},
     "output_type": "execute_result"
    }
   ],
   "source": [
    "X_rec7.isna().sum()"
   ],
   "metadata": {
    "collapsed": false,
    "ExecuteTime": {
     "end_time": "2024-03-23T23:08:01.333368Z",
     "start_time": "2024-03-23T23:08:01.319927Z"
    }
   },
   "id": "384c7ec17d0cd265",
   "execution_count": 66
  },
  {
   "cell_type": "code",
   "outputs": [
    {
     "data": {
      "text/plain": "u0    294\nv0    294\nu1     16\nv1     16\nu2    653\nv2    653\nu3    658\nv3    658\nu4    654\nv4    654\nu5    654\nv5    654\nu6    658\nv6    658\nu7      0\nv7      0\ndtype: int64"
     },
     "execution_count": 67,
     "metadata": {},
     "output_type": "execute_result"
    }
   ],
   "source": [
    "X_rec8.isna().sum()"
   ],
   "metadata": {
    "collapsed": false,
    "ExecuteTime": {
     "end_time": "2024-03-23T23:08:01.348903Z",
     "start_time": "2024-03-23T23:08:01.334374Z"
    }
   },
   "id": "a9b34ab262452356",
   "execution_count": 67
  },
  {
   "cell_type": "markdown",
   "source": [
    "### 2.3 Combine all the datasets"
   ],
   "metadata": {
    "collapsed": false
   },
   "id": "4b75b022b8186f46"
  },
  {
   "cell_type": "code",
   "outputs": [],
   "source": [
    "X_train = pd.concat([X_rec1, X_rec2,X_rec3, X_rec4, X_rec5, X_rec6, X_rec7, X_rec8, X_rec9, X_rec10, X_rec11])\n",
    "y_train = pd.concat([y_rec1, y_rec2,y_rec3,y_rec4,y_rec5,y_rec6, y_rec7, y_rec8,y_rec9,y_rec10, y_rec11])\n",
    "X_train.reset_index(drop=True, inplace=True)\n",
    "y_train.reset_index(drop=True, inplace=True)"
   ],
   "metadata": {
    "collapsed": false,
    "ExecuteTime": {
     "end_time": "2024-03-23T23:08:01.364507Z",
     "start_time": "2024-03-23T23:08:01.350903Z"
    }
   },
   "id": "45402e756b5d92da",
   "execution_count": 68
  },
  {
   "cell_type": "code",
   "outputs": [
    {
     "data": {
      "text/plain": "u0     481\nv0     481\nu1      23\nv1      23\nu2    1152\nv2    1152\nu3    1172\nv3    1172\nu4    1162\nv4    1162\nu5    1151\nv5    1151\nu6    1165\nv6    1165\nu7       0\nv7       0\ndtype: int64"
     },
     "execution_count": 69,
     "metadata": {},
     "output_type": "execute_result"
    }
   ],
   "source": [
    "X_train.isna().sum()"
   ],
   "metadata": {
    "collapsed": false,
    "ExecuteTime": {
     "end_time": "2024-03-23T23:08:01.380230Z",
     "start_time": "2024-03-23T23:08:01.368776Z"
    }
   },
   "id": "3992285e7d8b0bf",
   "execution_count": 69
  },
  {
   "cell_type": "code",
   "outputs": [
    {
     "data": {
      "text/plain": "((11181, 16), (11181, 3))"
     },
     "execution_count": 70,
     "metadata": {},
     "output_type": "execute_result"
    }
   ],
   "source": [
    "X_train.shape, y_train.shape"
   ],
   "metadata": {
    "collapsed": false,
    "ExecuteTime": {
     "end_time": "2024-03-23T23:08:01.442447Z",
     "start_time": "2024-03-23T23:08:01.429441Z"
    }
   },
   "id": "ed7a120a3e7c90c1",
   "execution_count": 70
  },
  {
   "cell_type": "code",
   "outputs": [],
   "source": [
    "combined = pd.concat([X_train, y_train], axis=1)"
   ],
   "metadata": {
    "collapsed": false,
    "ExecuteTime": {
     "end_time": "2024-03-23T23:08:01.474449Z",
     "start_time": "2024-03-23T23:08:01.462447Z"
    }
   },
   "id": "77964f394f147651",
   "execution_count": 71
  },
  {
   "cell_type": "markdown",
   "source": [
    "## 3. Data Preprocessing"
   ],
   "metadata": {
    "collapsed": false
   },
   "id": "bc7a378fbd128144"
  },
  {
   "cell_type": "code",
   "outputs": [
    {
     "data": {
      "text/plain": "         u0    v0    u1    v1    u2    v2    u3    v3    u4    v4    u5    v5  \\\n0      70.0  44.0  24.5  44.0  25.0  66.0  48.5  66.0  70.5  66.0  25.0  89.0   \n1      70.5  44.0  24.0  45.0  25.0  67.0  48.0  66.5  70.0  66.5  25.0  89.0   \n2      70.5  45.0  25.0  45.0  25.0  68.0  49.0  68.0  70.0  68.0  25.0  90.0   \n3      70.0  46.0  25.0  46.0  25.0  68.0  49.0  68.5  70.0  68.0  25.5  91.0   \n4      70.0  47.0  25.0  47.0  25.5  69.5  48.5  69.0  70.0  69.0  26.0  91.0   \n...     ...   ...   ...   ...   ...   ...   ...   ...   ...   ...   ...   ...   \n11176  87.0  37.0  41.0  37.0  42.0  60.0  64.0  60.5  87.0  60.0  43.0  83.0   \n11177  86.5  38.0  41.0  38.0  41.0  61.0  63.5  61.0  86.0  61.0  42.0  83.0   \n11178  86.0  39.0  40.0  39.0  41.0  62.0  63.0  62.0  85.0  62.0  41.5  84.0   \n11179  85.0  40.0  40.0  40.0  40.0  62.5  62.5  62.5  85.0  62.0  41.5  85.0   \n11180  85.0  41.0  39.0  41.0  39.5  63.5  62.5  63.0  84.0  63.0  41.0  86.0   \n\n         u6    v6    u7    v7         x         y         z  \n0      69.0  89.0  47.5  43.5  9.135557  3.443234  23.83352  \n1      69.0  89.5  47.5  44.0  9.122249  3.575877  24.07841  \n2      69.0  90.0  48.0  45.0  9.100133  3.707339  24.28736  \n3      69.5  90.5  48.0  45.0  9.069309  3.837035  24.44559  \n4      70.0  91.0  49.0  47.0  9.029914  3.964389  24.54194  \n...     ...   ...   ...   ...       ...       ...       ...  \n11176  85.5  82.5  64.0  38.0  6.683854  2.394149  21.98808  \n11177  85.0  83.0  63.0  39.0  6.766639  2.527970  22.21922  \n11178  84.5  84.5  63.0  40.0  6.845751  2.666299  22.45815  \n11179  84.0  85.0  62.0  42.0  6.920774  2.808478  22.70374  \n11180  83.0  86.0  62.0  42.0  7.181612  3.426647  23.77148  \n\n[11181 rows x 19 columns]",
      "text/html": "<div>\n<style scoped>\n    .dataframe tbody tr th:only-of-type {\n        vertical-align: middle;\n    }\n\n    .dataframe tbody tr th {\n        vertical-align: top;\n    }\n\n    .dataframe thead th {\n        text-align: right;\n    }\n</style>\n<table border=\"1\" class=\"dataframe\">\n  <thead>\n    <tr style=\"text-align: right;\">\n      <th></th>\n      <th>u0</th>\n      <th>v0</th>\n      <th>u1</th>\n      <th>v1</th>\n      <th>u2</th>\n      <th>v2</th>\n      <th>u3</th>\n      <th>v3</th>\n      <th>u4</th>\n      <th>v4</th>\n      <th>u5</th>\n      <th>v5</th>\n      <th>u6</th>\n      <th>v6</th>\n      <th>u7</th>\n      <th>v7</th>\n      <th>x</th>\n      <th>y</th>\n      <th>z</th>\n    </tr>\n  </thead>\n  <tbody>\n    <tr>\n      <th>0</th>\n      <td>70.0</td>\n      <td>44.0</td>\n      <td>24.5</td>\n      <td>44.0</td>\n      <td>25.0</td>\n      <td>66.0</td>\n      <td>48.5</td>\n      <td>66.0</td>\n      <td>70.5</td>\n      <td>66.0</td>\n      <td>25.0</td>\n      <td>89.0</td>\n      <td>69.0</td>\n      <td>89.0</td>\n      <td>47.5</td>\n      <td>43.5</td>\n      <td>9.135557</td>\n      <td>3.443234</td>\n      <td>23.83352</td>\n    </tr>\n    <tr>\n      <th>1</th>\n      <td>70.5</td>\n      <td>44.0</td>\n      <td>24.0</td>\n      <td>45.0</td>\n      <td>25.0</td>\n      <td>67.0</td>\n      <td>48.0</td>\n      <td>66.5</td>\n      <td>70.0</td>\n      <td>66.5</td>\n      <td>25.0</td>\n      <td>89.0</td>\n      <td>69.0</td>\n      <td>89.5</td>\n      <td>47.5</td>\n      <td>44.0</td>\n      <td>9.122249</td>\n      <td>3.575877</td>\n      <td>24.07841</td>\n    </tr>\n    <tr>\n      <th>2</th>\n      <td>70.5</td>\n      <td>45.0</td>\n      <td>25.0</td>\n      <td>45.0</td>\n      <td>25.0</td>\n      <td>68.0</td>\n      <td>49.0</td>\n      <td>68.0</td>\n      <td>70.0</td>\n      <td>68.0</td>\n      <td>25.0</td>\n      <td>90.0</td>\n      <td>69.0</td>\n      <td>90.0</td>\n      <td>48.0</td>\n      <td>45.0</td>\n      <td>9.100133</td>\n      <td>3.707339</td>\n      <td>24.28736</td>\n    </tr>\n    <tr>\n      <th>3</th>\n      <td>70.0</td>\n      <td>46.0</td>\n      <td>25.0</td>\n      <td>46.0</td>\n      <td>25.0</td>\n      <td>68.0</td>\n      <td>49.0</td>\n      <td>68.5</td>\n      <td>70.0</td>\n      <td>68.0</td>\n      <td>25.5</td>\n      <td>91.0</td>\n      <td>69.5</td>\n      <td>90.5</td>\n      <td>48.0</td>\n      <td>45.0</td>\n      <td>9.069309</td>\n      <td>3.837035</td>\n      <td>24.44559</td>\n    </tr>\n    <tr>\n      <th>4</th>\n      <td>70.0</td>\n      <td>47.0</td>\n      <td>25.0</td>\n      <td>47.0</td>\n      <td>25.5</td>\n      <td>69.5</td>\n      <td>48.5</td>\n      <td>69.0</td>\n      <td>70.0</td>\n      <td>69.0</td>\n      <td>26.0</td>\n      <td>91.0</td>\n      <td>70.0</td>\n      <td>91.0</td>\n      <td>49.0</td>\n      <td>47.0</td>\n      <td>9.029914</td>\n      <td>3.964389</td>\n      <td>24.54194</td>\n    </tr>\n    <tr>\n      <th>...</th>\n      <td>...</td>\n      <td>...</td>\n      <td>...</td>\n      <td>...</td>\n      <td>...</td>\n      <td>...</td>\n      <td>...</td>\n      <td>...</td>\n      <td>...</td>\n      <td>...</td>\n      <td>...</td>\n      <td>...</td>\n      <td>...</td>\n      <td>...</td>\n      <td>...</td>\n      <td>...</td>\n      <td>...</td>\n      <td>...</td>\n      <td>...</td>\n    </tr>\n    <tr>\n      <th>11176</th>\n      <td>87.0</td>\n      <td>37.0</td>\n      <td>41.0</td>\n      <td>37.0</td>\n      <td>42.0</td>\n      <td>60.0</td>\n      <td>64.0</td>\n      <td>60.5</td>\n      <td>87.0</td>\n      <td>60.0</td>\n      <td>43.0</td>\n      <td>83.0</td>\n      <td>85.5</td>\n      <td>82.5</td>\n      <td>64.0</td>\n      <td>38.0</td>\n      <td>6.683854</td>\n      <td>2.394149</td>\n      <td>21.98808</td>\n    </tr>\n    <tr>\n      <th>11177</th>\n      <td>86.5</td>\n      <td>38.0</td>\n      <td>41.0</td>\n      <td>38.0</td>\n      <td>41.0</td>\n      <td>61.0</td>\n      <td>63.5</td>\n      <td>61.0</td>\n      <td>86.0</td>\n      <td>61.0</td>\n      <td>42.0</td>\n      <td>83.0</td>\n      <td>85.0</td>\n      <td>83.0</td>\n      <td>63.0</td>\n      <td>39.0</td>\n      <td>6.766639</td>\n      <td>2.527970</td>\n      <td>22.21922</td>\n    </tr>\n    <tr>\n      <th>11178</th>\n      <td>86.0</td>\n      <td>39.0</td>\n      <td>40.0</td>\n      <td>39.0</td>\n      <td>41.0</td>\n      <td>62.0</td>\n      <td>63.0</td>\n      <td>62.0</td>\n      <td>85.0</td>\n      <td>62.0</td>\n      <td>41.5</td>\n      <td>84.0</td>\n      <td>84.5</td>\n      <td>84.5</td>\n      <td>63.0</td>\n      <td>40.0</td>\n      <td>6.845751</td>\n      <td>2.666299</td>\n      <td>22.45815</td>\n    </tr>\n    <tr>\n      <th>11179</th>\n      <td>85.0</td>\n      <td>40.0</td>\n      <td>40.0</td>\n      <td>40.0</td>\n      <td>40.0</td>\n      <td>62.5</td>\n      <td>62.5</td>\n      <td>62.5</td>\n      <td>85.0</td>\n      <td>62.0</td>\n      <td>41.5</td>\n      <td>85.0</td>\n      <td>84.0</td>\n      <td>85.0</td>\n      <td>62.0</td>\n      <td>42.0</td>\n      <td>6.920774</td>\n      <td>2.808478</td>\n      <td>22.70374</td>\n    </tr>\n    <tr>\n      <th>11180</th>\n      <td>85.0</td>\n      <td>41.0</td>\n      <td>39.0</td>\n      <td>41.0</td>\n      <td>39.5</td>\n      <td>63.5</td>\n      <td>62.5</td>\n      <td>63.0</td>\n      <td>84.0</td>\n      <td>63.0</td>\n      <td>41.0</td>\n      <td>86.0</td>\n      <td>83.0</td>\n      <td>86.0</td>\n      <td>62.0</td>\n      <td>42.0</td>\n      <td>7.181612</td>\n      <td>3.426647</td>\n      <td>23.77148</td>\n    </tr>\n  </tbody>\n</table>\n<p>11181 rows × 19 columns</p>\n</div>"
     },
     "execution_count": 72,
     "metadata": {},
     "output_type": "execute_result"
    }
   ],
   "source": [
    "combined"
   ],
   "metadata": {
    "collapsed": false,
    "ExecuteTime": {
     "end_time": "2024-03-23T23:08:01.521993Z",
     "start_time": "2024-03-23T23:08:01.496995Z"
    }
   },
   "id": "dd68962a94d8d3c9",
   "execution_count": 72
  },
  {
   "cell_type": "code",
   "outputs": [
    {
     "name": "stdout",
     "output_type": "stream",
     "text": [
      "The data has missing values: 12612\n",
      "The data has missing values: 0\n"
     ]
    }
   ],
   "source": [
    "# check for missing values\n",
    "print(f'The data has missing values: {combined.isnull().sum().sum()}')\n",
    "combined.dropna(inplace=True)\n",
    "print(f'The data has missing values: {combined.isnull().sum().sum()}')"
   ],
   "metadata": {
    "collapsed": false,
    "ExecuteTime": {
     "end_time": "2024-03-23T23:08:01.537992Z",
     "start_time": "2024-03-23T23:08:01.524003Z"
    }
   },
   "id": "29060cc2a3e655dc",
   "execution_count": 73
  },
  {
   "cell_type": "code",
   "outputs": [],
   "source": [
    "X = combined.iloc[:, :16]\n",
    "y = combined.iloc[:, 16:]\n"
   ],
   "metadata": {
    "collapsed": false,
    "ExecuteTime": {
     "end_time": "2024-03-23T23:08:01.554001Z",
     "start_time": "2024-03-23T23:08:01.539994Z"
    }
   },
   "id": "2c20e7b504dcfd9c",
   "execution_count": 74
  },
  {
   "cell_type": "code",
   "outputs": [
    {
     "data": {
      "text/plain": "((9975, 16), (9975, 3))"
     },
     "execution_count": 75,
     "metadata": {},
     "output_type": "execute_result"
    }
   ],
   "source": [
    "X.shape, y.shape"
   ],
   "metadata": {
    "collapsed": false,
    "ExecuteTime": {
     "end_time": "2024-03-23T23:08:01.569991Z",
     "start_time": "2024-03-23T23:08:01.561991Z"
    }
   },
   "id": "bd0bd6c7a731a8da",
   "execution_count": 75
  },
  {
   "cell_type": "code",
   "outputs": [],
   "source": [
    "# scale the data\n",
    "scaler_x = MinMaxScaler()\n",
    "scaler_y = MinMaxScaler()\n",
    "X_scaled = scaler_x.fit_transform(X)\n",
    "y_scaled = scaler_y.fit_transform(y)"
   ],
   "metadata": {
    "collapsed": false,
    "ExecuteTime": {
     "end_time": "2024-03-23T23:08:01.617512Z",
     "start_time": "2024-03-23T23:08:01.608509Z"
    }
   },
   "id": "898d1aebee1ee4a2",
   "execution_count": 76
  },
  {
   "cell_type": "markdown",
   "source": [
    "## 4. Hyperparameter Tuning"
   ],
   "metadata": {
    "collapsed": false
   },
   "id": "fad416068809969b"
  },
  {
   "cell_type": "code",
   "outputs": [],
   "source": [
    "# create a pipeline\n",
    "pipeline = Pipeline([\n",
    "    ('mlp', MLPRegressor(random_state=42))\n",
    "])"
   ],
   "metadata": {
    "collapsed": false,
    "ExecuteTime": {
     "end_time": "2024-03-23T23:08:01.681533Z",
     "start_time": "2024-03-23T23:08:01.674528Z"
    }
   },
   "id": "202ed5653fa8a79b",
   "execution_count": 77
  },
  {
   "cell_type": "code",
   "outputs": [],
   "source": [
    "# Best parameters: {'mlp__solver': 'adam', 'mlp__max_iter': 28000, 'mlp__learning_rate_init': 0.01, 'mlp__learning_rate': 'adaptive', 'mlp__hidden_layer_sizes': (50, 100, 50), 'mlp__early_stopping': True, 'mlp__alpha': 0.001, 'mlp__activation': 'relu'}\n",
    "model = MLPRegressor(random_state=42, max_iter=28000, learning_rate_init=0.01, learning_rate='adaptive', hidden_layer_sizes=(50, 100, 50), early_stopping=True, alpha=0.001, activation='relu')\n",
    "\n",
    "param_grid = {\n",
    "    'mlp__hidden_layer_sizes': \n",
    "        [(50, 100, 50) # ,(100,), (64, 32, 64)],\n",
    "         ],\n",
    "    'mlp__activation': ['identity', 'tanh', 'relu'],\n",
    "    'mlp__solver': ['sgd', 'adam'],\n",
    "    'mlp__alpha': [0.001, 0.01, 0.1],\n",
    "    'mlp__max_iter': [10000, 20000, 28000],\n",
    "    'mlp__learning_rate': ['constant', 'adaptive'],\n",
    "    'mlp__learning_rate_init': [0.001, 0.01, 0.1],\n",
    "    'mlp__early_stopping': [True],\n",
    "}\n",
    "\n",
    "random_search = RandomizedSearchCV(pipeline, param_distributions=param_grid, cv=5, n_iter=100, n_jobs=-1, verbose=3, random_state=42)\n",
    "\n",
    "#random_search.fit(X_scaled, y_scaled)"
   ],
   "metadata": {
    "collapsed": false,
    "ExecuteTime": {
     "end_time": "2024-03-23T23:08:01.712190Z",
     "start_time": "2024-03-23T23:08:01.703052Z"
    }
   },
   "id": "5c232eee49f1ced3",
   "execution_count": 78
  },
  {
   "cell_type": "code",
   "outputs": [],
   "source": [
    "#print(f'Best parameters: {random_search.best_params_}')\n",
    "#print(f'Best score: {random_search.best_score_}')"
   ],
   "metadata": {
    "collapsed": false,
    "ExecuteTime": {
     "end_time": "2024-03-23T23:08:01.744196Z",
     "start_time": "2024-03-23T23:08:01.738181Z"
    }
   },
   "id": "6cc24cd43c214947",
   "execution_count": 79
  },
  {
   "cell_type": "code",
   "outputs": [],
   "source": [
    "#model = random_search.best_estimator_"
   ],
   "metadata": {
    "collapsed": false,
    "ExecuteTime": {
     "end_time": "2024-03-23T23:08:01.759543Z",
     "start_time": "2024-03-23T23:08:01.754543Z"
    }
   },
   "id": "e52d4e8a3d14bec4",
   "execution_count": 80
  },
  {
   "cell_type": "markdown",
   "source": [
    "## 5. Training the Model"
   ],
   "metadata": {
    "collapsed": false
   },
   "id": "63a44525cdb065d0"
  },
  {
   "cell_type": "code",
   "outputs": [
    {
     "data": {
      "text/plain": "MLPRegressor(alpha=0.001, early_stopping=True, hidden_layer_sizes=(50, 100, 50),\n             learning_rate='adaptive', learning_rate_init=0.01, max_iter=28000,\n             random_state=42)",
      "text/html": "<style>#sk-container-id-3 {color: black;}#sk-container-id-3 pre{padding: 0;}#sk-container-id-3 div.sk-toggleable {background-color: white;}#sk-container-id-3 label.sk-toggleable__label {cursor: pointer;display: block;width: 100%;margin-bottom: 0;padding: 0.3em;box-sizing: border-box;text-align: center;}#sk-container-id-3 label.sk-toggleable__label-arrow:before {content: \"▸\";float: left;margin-right: 0.25em;color: #696969;}#sk-container-id-3 label.sk-toggleable__label-arrow:hover:before {color: black;}#sk-container-id-3 div.sk-estimator:hover label.sk-toggleable__label-arrow:before {color: black;}#sk-container-id-3 div.sk-toggleable__content {max-height: 0;max-width: 0;overflow: hidden;text-align: left;background-color: #f0f8ff;}#sk-container-id-3 div.sk-toggleable__content pre {margin: 0.2em;color: black;border-radius: 0.25em;background-color: #f0f8ff;}#sk-container-id-3 input.sk-toggleable__control:checked~div.sk-toggleable__content {max-height: 200px;max-width: 100%;overflow: auto;}#sk-container-id-3 input.sk-toggleable__control:checked~label.sk-toggleable__label-arrow:before {content: \"▾\";}#sk-container-id-3 div.sk-estimator input.sk-toggleable__control:checked~label.sk-toggleable__label {background-color: #d4ebff;}#sk-container-id-3 div.sk-label input.sk-toggleable__control:checked~label.sk-toggleable__label {background-color: #d4ebff;}#sk-container-id-3 input.sk-hidden--visually {border: 0;clip: rect(1px 1px 1px 1px);clip: rect(1px, 1px, 1px, 1px);height: 1px;margin: -1px;overflow: hidden;padding: 0;position: absolute;width: 1px;}#sk-container-id-3 div.sk-estimator {font-family: monospace;background-color: #f0f8ff;border: 1px dotted black;border-radius: 0.25em;box-sizing: border-box;margin-bottom: 0.5em;}#sk-container-id-3 div.sk-estimator:hover {background-color: #d4ebff;}#sk-container-id-3 div.sk-parallel-item::after {content: \"\";width: 100%;border-bottom: 1px solid gray;flex-grow: 1;}#sk-container-id-3 div.sk-label:hover label.sk-toggleable__label {background-color: #d4ebff;}#sk-container-id-3 div.sk-serial::before {content: \"\";position: absolute;border-left: 1px solid gray;box-sizing: border-box;top: 0;bottom: 0;left: 50%;z-index: 0;}#sk-container-id-3 div.sk-serial {display: flex;flex-direction: column;align-items: center;background-color: white;padding-right: 0.2em;padding-left: 0.2em;position: relative;}#sk-container-id-3 div.sk-item {position: relative;z-index: 1;}#sk-container-id-3 div.sk-parallel {display: flex;align-items: stretch;justify-content: center;background-color: white;position: relative;}#sk-container-id-3 div.sk-item::before, #sk-container-id-3 div.sk-parallel-item::before {content: \"\";position: absolute;border-left: 1px solid gray;box-sizing: border-box;top: 0;bottom: 0;left: 50%;z-index: -1;}#sk-container-id-3 div.sk-parallel-item {display: flex;flex-direction: column;z-index: 1;position: relative;background-color: white;}#sk-container-id-3 div.sk-parallel-item:first-child::after {align-self: flex-end;width: 50%;}#sk-container-id-3 div.sk-parallel-item:last-child::after {align-self: flex-start;width: 50%;}#sk-container-id-3 div.sk-parallel-item:only-child::after {width: 0;}#sk-container-id-3 div.sk-dashed-wrapped {border: 1px dashed gray;margin: 0 0.4em 0.5em 0.4em;box-sizing: border-box;padding-bottom: 0.4em;background-color: white;}#sk-container-id-3 div.sk-label label {font-family: monospace;font-weight: bold;display: inline-block;line-height: 1.2em;}#sk-container-id-3 div.sk-label-container {text-align: center;}#sk-container-id-3 div.sk-container {/* jupyter's `normalize.less` sets `[hidden] { display: none; }` but bootstrap.min.css set `[hidden] { display: none !important; }` so we also need the `!important` here to be able to override the default hidden behavior on the sphinx rendered scikit-learn.org. See: https://github.com/scikit-learn/scikit-learn/issues/21755 */display: inline-block !important;position: relative;}#sk-container-id-3 div.sk-text-repr-fallback {display: none;}</style><div id=\"sk-container-id-3\" class=\"sk-top-container\"><div class=\"sk-text-repr-fallback\"><pre>MLPRegressor(alpha=0.001, early_stopping=True, hidden_layer_sizes=(50, 100, 50),\n             learning_rate=&#x27;adaptive&#x27;, learning_rate_init=0.01, max_iter=28000,\n             random_state=42)</pre><b>In a Jupyter environment, please rerun this cell to show the HTML representation or trust the notebook. <br />On GitHub, the HTML representation is unable to render, please try loading this page with nbviewer.org.</b></div><div class=\"sk-container\" hidden><div class=\"sk-item\"><div class=\"sk-estimator sk-toggleable\"><input class=\"sk-toggleable__control sk-hidden--visually\" id=\"sk-estimator-id-3\" type=\"checkbox\" checked><label for=\"sk-estimator-id-3\" class=\"sk-toggleable__label sk-toggleable__label-arrow\">MLPRegressor</label><div class=\"sk-toggleable__content\"><pre>MLPRegressor(alpha=0.001, early_stopping=True, hidden_layer_sizes=(50, 100, 50),\n             learning_rate=&#x27;adaptive&#x27;, learning_rate_init=0.01, max_iter=28000,\n             random_state=42)</pre></div></div></div></div></div>"
     },
     "execution_count": 81,
     "metadata": {},
     "output_type": "execute_result"
    }
   ],
   "source": [
    "model.fit(X_scaled, y_scaled)"
   ],
   "metadata": {
    "collapsed": false,
    "ExecuteTime": {
     "end_time": "2024-03-23T23:08:16.210684Z",
     "start_time": "2024-03-23T23:08:01.768583Z"
    }
   },
   "id": "7b6d9c96f863c23d",
   "execution_count": 81
  },
  {
   "cell_type": "markdown",
   "source": [
    "## 6. Make Predictions On Test Data"
   ],
   "metadata": {
    "collapsed": false
   },
   "id": "ae68f2dd8bbd3320"
  },
  {
   "cell_type": "code",
   "outputs": [],
   "source": [
    "import pandas as pd"
   ],
   "metadata": {
    "collapsed": false,
    "ExecuteTime": {
     "end_time": "2024-03-23T23:08:16.226681Z",
     "start_time": "2024-03-23T23:08:16.211667Z"
    }
   },
   "id": "19be1e6e990902fb",
   "execution_count": 82
  },
  {
   "cell_type": "code",
   "outputs": [],
   "source": [
    "X_test_8_a = pd.read_csv('../data-8-cams/red_ball_coordinates_128px_2024-03-19_15h10m.csv', decimal='.', delimiter=',')"
   ],
   "metadata": {
    "collapsed": false,
    "ExecuteTime": {
     "end_time": "2024-03-23T23:08:16.242683Z",
     "start_time": "2024-03-23T23:08:16.228667Z"
    }
   },
   "id": "b7374798627d060a",
   "execution_count": 83
  },
  {
   "cell_type": "code",
   "outputs": [
    {
     "data": {
      "text/plain": "((993, 16), (993, 3))"
     },
     "execution_count": 84,
     "metadata": {},
     "output_type": "execute_result"
    }
   ],
   "source": [
    "y_test_8_a = pd.read_csv('../data-8-cams/positions_xyz_2024-03-19_15h10m.csv', decimal='.', delimiter=',').iloc[4:]\n",
    "(X_test_8_a.shape, y_test_8_a.shape)"
   ],
   "metadata": {
    "collapsed": false,
    "ExecuteTime": {
     "end_time": "2024-03-23T23:08:16.258689Z",
     "start_time": "2024-03-23T23:08:16.244667Z"
    }
   },
   "id": "6d0362544d51cd5b",
   "execution_count": 84
  },
  {
   "cell_type": "code",
   "outputs": [],
   "source": [
    "def prepare_and_scale_test_data(X_test_val, y_test_val, scaler_x_test):\n",
    "    combined_test = pd.concat([X_test_val, y_test_val], axis=1)\n",
    "    combined_test.dropna(inplace=True)\n",
    "    X_val = combined_test.iloc[:, :16]\n",
    "    y_val = combined_test.iloc[:, 16:]\n",
    "    X_scaled_test = scaler_x_test.transform(X_val)\n",
    "    return X_scaled_test, y_val"
   ],
   "metadata": {
    "collapsed": false,
    "ExecuteTime": {
     "end_time": "2024-03-23T23:08:16.274152Z",
     "start_time": "2024-03-23T23:08:16.260667Z"
    }
   },
   "id": "32e775e1370c5290",
   "execution_count": 85
  },
  {
   "cell_type": "code",
   "outputs": [],
   "source": [
    "def predict_evaluate_plot(X_test_val_scaled, y_test_val, nn_model, scaler_y_test, title='Trajectory of Ball in 3D Space'):\n",
    "    y_test_predicted_scaled = nn_model.predict(X_test_val_scaled)\n",
    "    y_test_pred = scaler_y_test.inverse_transform(y_test_predicted_scaled)\n",
    "    mse, mae, r2 = evaluate_model(y_test_val, y_test_pred, 'Test Data')\n",
    "    # change col 1 and 2 from place, so it corresponds to the unity 3d space\n",
    "    y_test_pred = y_test_pred[:, [0, 2, 1]]\n",
    "    y_test_val = y_test_val.to_numpy()[:, [0, 2, 1]]\n",
    "    plot_maker_3d(y_test_val, y_test_pred, title)\n",
    "    return y_test_pred, mse, mae, r2"
   ],
   "metadata": {
    "collapsed": false,
    "ExecuteTime": {
     "end_time": "2024-03-23T23:08:16.290216Z",
     "start_time": "2024-03-23T23:08:16.276155Z"
    }
   },
   "id": "ba950ddf6f53963c",
   "execution_count": 86
  },
  {
   "cell_type": "code",
   "outputs": [
    {
     "name": "stdout",
     "output_type": "stream",
     "text": [
      "Mean Squared Error on Test Data Set: 0.34689906363104006\n",
      "Mean Absolute Error on Test Data Set: 0.4784865370983291\n",
      "R2 Score on Test Data set: 0.7297154938152511\n"
     ]
    },
    {
     "data": {
      "text/plain": "<Figure size 640x480 with 1 Axes>",
      "image/png": "[encoded data removed]"
     },
     "metadata": {},
     "output_type": "display_data"
    }
   ],
   "source": [
    "X_test_8_scaled_a, y_test_8_a = prepare_and_scale_test_data(X_test_8_a, y_test_8_a, scaler_x)\n",
    "X_test_8_pred_a, mse_8_a, mae_8_a, r2_8_a = predict_evaluate_plot(X_test_8_scaled_a, y_test_8_a, model, scaler_y, title='Trajectory of Ball in 3D Space - 8-motion a')"
   ],
   "metadata": {
    "collapsed": false,
    "ExecuteTime": {
     "end_time": "2024-03-23T23:08:16.415653Z",
     "start_time": "2024-03-23T23:08:16.292194Z"
    }
   },
   "id": "b5f51af3dfa2b1cc",
   "execution_count": 87
  }
 ],
 "metadata": {
  "kernelspec": {
   "display_name": "Python 3",
   "language": "python",
   "name": "python3"
  },
  "language_info": {
   "codemirror_mode": {
    "name": "ipython",
    "version": 2
   },
   "file_extension": ".py",
   "mimetype": "text/x-python",
   "name": "python",
   "nbconvert_exporter": "python",
   "pygments_lexer": "ipython2",
   "version": "2.7.6"
  }
 },
 "nbformat": 4,
 "nbformat_minor": 5
}
