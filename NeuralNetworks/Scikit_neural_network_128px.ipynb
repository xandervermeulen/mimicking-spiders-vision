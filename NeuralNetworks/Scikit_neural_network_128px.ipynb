{
 "cells": [
  {
   "cell_type": "code",
   "outputs": [],
   "source": [
    "import numpy as np\n",
    "import pandas as pd\n",
    "from sklearn.neural_network import MLPRegressor\n",
    "from sklearn.model_selection import train_test_split\n",
    "from sklearn.preprocessing import StandardScaler"
   ],
   "metadata": {
    "collapsed": false,
    "ExecuteTime": {
     "end_time": "2024-02-27T21:04:08.406445300Z",
     "start_time": "2024-02-27T21:04:08.322933100Z"
    }
   },
   "id": "initial_id",
   "execution_count": 271
  },
  {
   "cell_type": "code",
   "outputs": [
    {
     "data": {
      "text/plain": "((5212, 3), (5212, 14))"
     },
     "execution_count": 272,
     "metadata": {},
     "output_type": "execute_result"
    }
   ],
   "source": [
    "# Inlezen van CSV-bestand\n",
    "dataPositions = pd.read_csv('../test-data/positions_xyz_128px_full.csv')\n",
    "dataCoordinates = pd.read_csv('../test-data/red_ball_coordinates_128px_full.csv')\n",
    "dataPositions.shape, dataCoordinates.shape"
   ],
   "metadata": {
    "collapsed": false,
    "ExecuteTime": {
     "end_time": "2024-02-27T21:04:08.449009300Z",
     "start_time": "2024-02-27T21:04:08.412444800Z"
    }
   },
   "id": "9be410102b6e0b08",
   "execution_count": 272
  },
  {
   "cell_type": "code",
   "outputs": [
    {
     "data": {
      "text/plain": "        u0    v0     u1    v1    u2    v2    u3    v3     u4    v4  u5  v5  \\\n0     36.0  40.0  125.0  41.5  34.0  84.0  78.0  83.0  126.0  85.0 NaN NaN   \n1     36.0  41.0  124.5  42.0  33.0  85.0  78.0  84.0  126.0  87.0 NaN NaN   \n2     36.0  41.5  124.0  43.0  33.0  86.0  78.0  85.0  126.0  88.0 NaN NaN   \n3     36.0  43.0  123.0  45.0  33.0  87.0  77.0  86.0  126.0  89.0 NaN NaN   \n4     35.5  44.0  123.0  46.0  33.0  88.0  77.0  87.0  126.0  90.0 NaN NaN   \n...    ...   ...    ...   ...   ...   ...   ...   ...    ...   ...  ..  ..   \n4144   5.0  11.0  109.0  10.0   2.0  68.0  56.0  68.0  116.0  68.0 NaN NaN   \n4145   5.0  12.0  108.0  11.0   2.0  69.0  56.0  69.0  115.0  70.0 NaN NaN   \n4146   4.0  13.0  107.0  13.0   2.0  71.0  56.0  71.0  115.0  72.0 NaN NaN   \n4147   4.0  15.0  107.0  15.0   1.0  73.0  55.0  73.0  115.0  73.0 NaN NaN   \n4148   4.0  17.0  106.0  17.0   1.0  75.0  55.0  74.0  114.0  75.0 NaN NaN   \n\n         u6     v6         x         y         z  \n0      69.0  121.0  7.156666  3.169981  15.04667  \n1      68.5  119.0  7.173333  3.269852  15.09333  \n2      68.5  119.0  7.189999  3.369500  15.14000  \n3      68.5  119.0  7.206665  3.468816  15.18666  \n4      68.5  119.0  7.223330  3.567688  15.23332  \n...     ...    ...       ...       ...       ...  \n4144  122.0  124.0  8.673822  1.483025   7.95000  \n4145  122.0  125.0  8.682408  1.524471   7.95000  \n4146  122.5  126.0  8.690976  1.567635   7.95000  \n4147  123.0  127.0  8.699528  1.612468   7.95000  \n4148  123.5  128.0  8.708062  1.658920   7.95000  \n\n[2060 rows x 17 columns]",
      "text/html": "<div>\n<style scoped>\n    .dataframe tbody tr th:only-of-type {\n        vertical-align: middle;\n    }\n\n    .dataframe tbody tr th {\n        vertical-align: top;\n    }\n\n    .dataframe thead th {\n        text-align: right;\n    }\n</style>\n<table border=\"1\" class=\"dataframe\">\n  <thead>\n    <tr style=\"text-align: right;\">\n      <th></th>\n      <th>u0</th>\n      <th>v0</th>\n      <th>u1</th>\n      <th>v1</th>\n      <th>u2</th>\n      <th>v2</th>\n      <th>u3</th>\n      <th>v3</th>\n      <th>u4</th>\n      <th>v4</th>\n      <th>u5</th>\n      <th>v5</th>\n      <th>u6</th>\n      <th>v6</th>\n      <th>x</th>\n      <th>y</th>\n      <th>z</th>\n    </tr>\n  </thead>\n  <tbody>\n    <tr>\n      <th>0</th>\n      <td>36.0</td>\n      <td>40.0</td>\n      <td>125.0</td>\n      <td>41.5</td>\n      <td>34.0</td>\n      <td>84.0</td>\n      <td>78.0</td>\n      <td>83.0</td>\n      <td>126.0</td>\n      <td>85.0</td>\n      <td>NaN</td>\n      <td>NaN</td>\n      <td>69.0</td>\n      <td>121.0</td>\n      <td>7.156666</td>\n      <td>3.169981</td>\n      <td>15.04667</td>\n    </tr>\n    <tr>\n      <th>1</th>\n      <td>36.0</td>\n      <td>41.0</td>\n      <td>124.5</td>\n      <td>42.0</td>\n      <td>33.0</td>\n      <td>85.0</td>\n      <td>78.0</td>\n      <td>84.0</td>\n      <td>126.0</td>\n      <td>87.0</td>\n      <td>NaN</td>\n      <td>NaN</td>\n      <td>68.5</td>\n      <td>119.0</td>\n      <td>7.173333</td>\n      <td>3.269852</td>\n      <td>15.09333</td>\n    </tr>\n    <tr>\n      <th>2</th>\n      <td>36.0</td>\n      <td>41.5</td>\n      <td>124.0</td>\n      <td>43.0</td>\n      <td>33.0</td>\n      <td>86.0</td>\n      <td>78.0</td>\n      <td>85.0</td>\n      <td>126.0</td>\n      <td>88.0</td>\n      <td>NaN</td>\n      <td>NaN</td>\n      <td>68.5</td>\n      <td>119.0</td>\n      <td>7.189999</td>\n      <td>3.369500</td>\n      <td>15.14000</td>\n    </tr>\n    <tr>\n      <th>3</th>\n      <td>36.0</td>\n      <td>43.0</td>\n      <td>123.0</td>\n      <td>45.0</td>\n      <td>33.0</td>\n      <td>87.0</td>\n      <td>77.0</td>\n      <td>86.0</td>\n      <td>126.0</td>\n      <td>89.0</td>\n      <td>NaN</td>\n      <td>NaN</td>\n      <td>68.5</td>\n      <td>119.0</td>\n      <td>7.206665</td>\n      <td>3.468816</td>\n      <td>15.18666</td>\n    </tr>\n    <tr>\n      <th>4</th>\n      <td>35.5</td>\n      <td>44.0</td>\n      <td>123.0</td>\n      <td>46.0</td>\n      <td>33.0</td>\n      <td>88.0</td>\n      <td>77.0</td>\n      <td>87.0</td>\n      <td>126.0</td>\n      <td>90.0</td>\n      <td>NaN</td>\n      <td>NaN</td>\n      <td>68.5</td>\n      <td>119.0</td>\n      <td>7.223330</td>\n      <td>3.567688</td>\n      <td>15.23332</td>\n    </tr>\n    <tr>\n      <th>...</th>\n      <td>...</td>\n      <td>...</td>\n      <td>...</td>\n      <td>...</td>\n      <td>...</td>\n      <td>...</td>\n      <td>...</td>\n      <td>...</td>\n      <td>...</td>\n      <td>...</td>\n      <td>...</td>\n      <td>...</td>\n      <td>...</td>\n      <td>...</td>\n      <td>...</td>\n      <td>...</td>\n      <td>...</td>\n    </tr>\n    <tr>\n      <th>4144</th>\n      <td>5.0</td>\n      <td>11.0</td>\n      <td>109.0</td>\n      <td>10.0</td>\n      <td>2.0</td>\n      <td>68.0</td>\n      <td>56.0</td>\n      <td>68.0</td>\n      <td>116.0</td>\n      <td>68.0</td>\n      <td>NaN</td>\n      <td>NaN</td>\n      <td>122.0</td>\n      <td>124.0</td>\n      <td>8.673822</td>\n      <td>1.483025</td>\n      <td>7.95000</td>\n    </tr>\n    <tr>\n      <th>4145</th>\n      <td>5.0</td>\n      <td>12.0</td>\n      <td>108.0</td>\n      <td>11.0</td>\n      <td>2.0</td>\n      <td>69.0</td>\n      <td>56.0</td>\n      <td>69.0</td>\n      <td>115.0</td>\n      <td>70.0</td>\n      <td>NaN</td>\n      <td>NaN</td>\n      <td>122.0</td>\n      <td>125.0</td>\n      <td>8.682408</td>\n      <td>1.524471</td>\n      <td>7.95000</td>\n    </tr>\n    <tr>\n      <th>4146</th>\n      <td>4.0</td>\n      <td>13.0</td>\n      <td>107.0</td>\n      <td>13.0</td>\n      <td>2.0</td>\n      <td>71.0</td>\n      <td>56.0</td>\n      <td>71.0</td>\n      <td>115.0</td>\n      <td>72.0</td>\n      <td>NaN</td>\n      <td>NaN</td>\n      <td>122.5</td>\n      <td>126.0</td>\n      <td>8.690976</td>\n      <td>1.567635</td>\n      <td>7.95000</td>\n    </tr>\n    <tr>\n      <th>4147</th>\n      <td>4.0</td>\n      <td>15.0</td>\n      <td>107.0</td>\n      <td>15.0</td>\n      <td>1.0</td>\n      <td>73.0</td>\n      <td>55.0</td>\n      <td>73.0</td>\n      <td>115.0</td>\n      <td>73.0</td>\n      <td>NaN</td>\n      <td>NaN</td>\n      <td>123.0</td>\n      <td>127.0</td>\n      <td>8.699528</td>\n      <td>1.612468</td>\n      <td>7.95000</td>\n    </tr>\n    <tr>\n      <th>4148</th>\n      <td>4.0</td>\n      <td>17.0</td>\n      <td>106.0</td>\n      <td>17.0</td>\n      <td>1.0</td>\n      <td>75.0</td>\n      <td>55.0</td>\n      <td>74.0</td>\n      <td>114.0</td>\n      <td>75.0</td>\n      <td>NaN</td>\n      <td>NaN</td>\n      <td>123.5</td>\n      <td>128.0</td>\n      <td>8.708062</td>\n      <td>1.658920</td>\n      <td>7.95000</td>\n    </tr>\n  </tbody>\n</table>\n<p>2060 rows × 17 columns</p>\n</div>"
     },
     "execution_count": 273,
     "metadata": {},
     "output_type": "execute_result"
    }
   ],
   "source": [
    "combined = pd.concat([dataCoordinates, dataPositions], axis=1)\n",
    "combined = combined.dropna(thresh=combined.shape[1]-3)\n",
    "combined"
   ],
   "metadata": {
    "collapsed": false,
    "ExecuteTime": {
     "end_time": "2024-02-27T21:04:08.506744100Z",
     "start_time": "2024-02-27T21:04:08.444496600Z"
    }
   },
   "id": "5ec15ec319d57a66",
   "execution_count": 273
  },
  {
   "cell_type": "code",
   "outputs": [],
   "source": [
    "X = combined.iloc[:, :14]\n",
    "y = combined.iloc[:, 14:]"
   ],
   "metadata": {
    "collapsed": false,
    "ExecuteTime": {
     "end_time": "2024-02-27T21:04:08.511743100Z",
     "start_time": "2024-02-27T21:04:08.474013200Z"
    }
   },
   "id": "9ed5f2f7569c0e8a",
   "execution_count": 274
  },
  {
   "cell_type": "code",
   "outputs": [],
   "source": [
    "from sklearn.impute import KNNImputer\n",
    "\n",
    "imputer = KNNImputer(n_neighbors=2)\n",
    "dfX = imputer.fit_transform(X)"
   ],
   "metadata": {
    "collapsed": false,
    "ExecuteTime": {
     "end_time": "2024-02-27T21:04:08.680788Z",
     "start_time": "2024-02-27T21:04:08.490742700Z"
    }
   },
   "id": "852137494dd7cb25",
   "execution_count": 275
  },
  {
   "cell_type": "code",
   "outputs": [],
   "source": [
    "# Splitting the dataset into the Training set and Test set\n",
    "X_train, X_test, y_train, y_test = train_test_split(dfX, y, test_size=0.2, random_state=42)\n",
    "X_train, X_val, y_train, y_val = train_test_split(X_train, y_train, test_size=0.25, random_state=42)"
   ],
   "metadata": {
    "collapsed": false,
    "ExecuteTime": {
     "end_time": "2024-02-27T21:04:08.699790300Z",
     "start_time": "2024-02-27T21:04:08.680788Z"
    }
   },
   "id": "2291097d6570a81",
   "execution_count": 276
  },
  {
   "cell_type": "code",
   "outputs": [
    {
     "data": {
      "text/plain": "(1236, 412, 412)"
     },
     "execution_count": 277,
     "metadata": {},
     "output_type": "execute_result"
    }
   ],
   "source": [
    "scaler_X = StandardScaler()\n",
    "X_train_scaled = scaler_X.fit_transform(X_train)\n",
    "X_val_scaled = scaler_X.transform(X_val)\n",
    "X_test_scaled = scaler_X.transform(X_test)\n",
    "\n",
    "scaler_y = StandardScaler()\n",
    "y_train_scaled = scaler_y.fit_transform(y_train)\n",
    "y_val_scaled = scaler_y.transform(y_val)\n",
    "y_test_scaled = scaler_y.transform(y_test)\n",
    "\n",
    "X_train_scaled.shape[0], X_val_scaled.shape[0], X_test_scaled.shape[0]"
   ],
   "metadata": {
    "collapsed": false,
    "ExecuteTime": {
     "end_time": "2024-02-27T21:04:08.722789900Z",
     "start_time": "2024-02-27T21:04:08.696791300Z"
    }
   },
   "id": "5cde4d1e70339db2",
   "execution_count": 277
  },
  {
   "cell_type": "markdown",
   "source": [
    "### Hyperparameter tuning om performance te verbeteren"
   ],
   "metadata": {
    "collapsed": false
   },
   "id": "7a762836c2e34bb6"
  },
  {
   "cell_type": "code",
   "outputs": [
    {
     "name": "stdout",
     "output_type": "stream",
     "text": [
      "Fitting 5 folds for each of 100 candidates, totalling 500 fits\n"
     ]
    }
   ],
   "source": [
    "from sklearn.pipeline import Pipeline\n",
    "from sklearn.model_selection import RandomizedSearchCV\n",
    "from sklearn.neural_network import MLPRegressor\n",
    "\n",
    "# Define a parameter grid for the MLPRegressor\n",
    "param_grid = {\n",
    "    'model__hidden_layer_sizes': [(50,), (100,), (150,)],\n",
    "    'model__activation': ['identity', 'logistic', 'tanh', 'relu'],\n",
    "    'model__solver': ['sgd', 'adam'],\n",
    "    'model__learning_rate': ['constant', 'invscaling', 'adaptive'],\n",
    "    'model__learning_rate_init': [0.001, 0.01, 0.1],\n",
    "    'model__max_iter': [10000, 20000, 28000],\n",
    "    'model__early_stopping': [True],\n",
    "}\n",
    "\n",
    "# Create a pipeline with an MLPRegressor model\n",
    "pipeline = Pipeline([\n",
    "    ('model', MLPRegressor(random_state=42))\n",
    "])\n",
    "\n",
    "# Perform a randomized search over the parameter grid\n",
    "random_search = RandomizedSearchCV(pipeline, param_distributions=param_grid, n_iter=100, cv=5, n_jobs=-1, verbose=2, random_state=42)\n",
    "random_search.fit(X_train_scaled, y_train_scaled)"
   ],
   "metadata": {
    "collapsed": false,
    "is_executing": true,
    "ExecuteTime": {
     "start_time": "2024-02-27T21:04:08.714789700Z"
    }
   },
   "id": "28d0363e6bcd9ca2",
   "execution_count": null
  },
  {
   "cell_type": "code",
   "outputs": [],
   "source": [
    "print('fBest parameters found:\\n', random_search.best_params_)"
   ],
   "metadata": {
    "collapsed": false,
    "is_executing": true
   },
   "id": "235a4010bce572e4",
   "execution_count": null
  },
  {
   "cell_type": "code",
   "outputs": [],
   "source": [
    "model = random_search.best_estimator_"
   ],
   "metadata": {
    "collapsed": false,
    "is_executing": true
   },
   "id": "7b823d1b0369e1a3"
  },
  {
   "cell_type": "code",
   "outputs": [],
   "source": [
    "y_val_pred_scaled = model.predict(X_val_scaled)\n",
    "y_val_pred = scaler_y.inverse_transform(y_val_pred_scaled)"
   ],
   "metadata": {
    "collapsed": false,
    "is_executing": true
   },
   "id": "307afe92aa0c5dee",
   "execution_count": null
  },
  {
   "cell_type": "code",
   "outputs": [],
   "source": [
    "from utils.evaluate import evaluate_model\n",
    "\n",
    "mse_val, mae_val, r2_val = evaluate_model(y_val, y_val_pred, \"Validation\")"
   ],
   "metadata": {
    "collapsed": false,
    "is_executing": true
   },
   "id": "31674984e944f266",
   "execution_count": null
  },
  {
   "cell_type": "code",
   "outputs": [],
   "source": [
    "y_test_pred_scaled = model.predict(X_test_scaled)\n",
    "y_test_pred = scaler_y.inverse_transform(y_test_pred_scaled)"
   ],
   "metadata": {
    "collapsed": false,
    "is_executing": true
   },
   "id": "4b003db3ffd2d820",
   "execution_count": null
  },
  {
   "cell_type": "code",
   "outputs": [],
   "source": [
    "mse_test, mae_test, r2_test = evaluate_model(y_test, y_test_pred, \"Test\")"
   ],
   "metadata": {
    "collapsed": false,
    "is_executing": true
   },
   "id": "306f3953d5f76243",
   "execution_count": null
  },
  {
   "cell_type": "code",
   "outputs": [],
   "source": [
    "y_test.shape, y_test_pred.shape"
   ],
   "metadata": {
    "collapsed": false,
    "is_executing": true
   },
   "id": "1b70624af6473df9",
   "execution_count": null
  },
  {
   "cell_type": "code",
   "outputs": [],
   "source": [
    "from utils.plot_maker_gaussian_process import plot_maker_3d\n",
    "\n",
    "plot_maker_3d(np.array(y_test)[:10], np.array(y_test_pred)[:10], \"Predictions on Test Set\")"
   ],
   "metadata": {
    "collapsed": false,
    "is_executing": true
   },
   "id": "5827e7b46be5b09d",
   "execution_count": null
  },
  {
   "cell_type": "markdown",
   "source": [
    "# Make Predictions on new data"
   ],
   "metadata": {
    "collapsed": false
   },
   "id": "5c09db1fcbb63a41"
  },
  {
   "cell_type": "code",
   "outputs": [],
   "source": [
    "test_data = pd.read_csv('../test-data/red_ball_coordinates_128px_2024-02-27_13h38m.csv', delimiter=',', decimal='.')\n",
    "test_result = pd.read_csv('../test-data/positions_xyz_2024-02-27_13h38m.csv', delimiter=',', decimal='.')"
   ],
   "metadata": {
    "collapsed": false,
    "is_executing": true
   },
   "id": "42d54fbb4d1c2283",
   "execution_count": null
  },
  {
   "cell_type": "code",
   "outputs": [],
   "source": [
    "new_combined = pd.concat([test_data, test_result], axis=1)\n",
    "new_combined = new_combined.dropna(thresh=new_combined.shape[1]-3)\n",
    "new_combined"
   ],
   "metadata": {
    "collapsed": false,
    "is_executing": true
   },
   "id": "9c999fde84a23ab6",
   "execution_count": null
  },
  {
   "cell_type": "code",
   "outputs": [],
   "source": [
    "new_X = new_combined.iloc[:, :14]\n",
    "new_y = new_combined.iloc[:, 14:]\n",
    "new_X.shape, new_y.shape"
   ],
   "metadata": {
    "collapsed": false,
    "is_executing": true
   },
   "id": "33ec8695d0216ca9",
   "execution_count": null
  },
  {
   "cell_type": "code",
   "outputs": [],
   "source": [
    "new_X_imputed = imputer.fit_transform(new_X)\n",
    "\n",
    "new_X_scaled = scaler_X.fit_transform(new_X_imputed)\n",
    "new_y_scaled = scaler_y.fit_transform(new_y)"
   ],
   "metadata": {
    "collapsed": false,
    "is_executing": true
   },
   "id": "6e97933db6abeaef",
   "execution_count": null
  },
  {
   "cell_type": "code",
   "outputs": [],
   "source": [
    "new_y_pred_scaled = model.predict(new_X_scaled)"
   ],
   "metadata": {
    "collapsed": false,
    "is_executing": true
   },
   "id": "dcac78e39fa749ea",
   "execution_count": null
  },
  {
   "cell_type": "code",
   "outputs": [],
   "source": [
    "new_y_pred = scaler_y.inverse_transform(new_y_pred_scaled)"
   ],
   "metadata": {
    "collapsed": false,
    "is_executing": true
   },
   "id": "116ac476d109b530",
   "execution_count": null
  },
  {
   "cell_type": "code",
   "outputs": [],
   "source": [
    "new_mse, new_mae, new_r2 = evaluate_model(new_y, new_y_pred, \"New Data\")"
   ],
   "metadata": {
    "collapsed": false,
    "is_executing": true
   },
   "id": "5ee16591f06c19c1",
   "execution_count": null
  },
  {
   "cell_type": "code",
   "outputs": [],
   "source": [
    "plot_maker_3d(np.array(new_y), np.array(new_y_pred), \"Predictions on New Data\")"
   ],
   "metadata": {
    "collapsed": false,
    "is_executing": true
   },
   "id": "ea2d66c2233d9c24",
   "execution_count": null
  }
 ],
 "metadata": {
  "kernelspec": {
   "display_name": "Python 3",
   "language": "python",
   "name": "python3"
  },
  "language_info": {
   "codemirror_mode": {
    "name": "ipython",
    "version": 2
   },
   "file_extension": ".py",
   "mimetype": "text/x-python",
   "name": "python",
   "nbconvert_exporter": "python",
   "pygments_lexer": "ipython2",
   "version": "2.7.6"
  }
 },
 "nbformat": 4,
 "nbformat_minor": 5
}
