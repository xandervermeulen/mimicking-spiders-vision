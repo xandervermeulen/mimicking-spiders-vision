{
 "cells": [
  {
   "cell_type": "markdown",
   "source": [],
   "metadata": {
    "collapsed": false
   },
   "id": "a3d73eacc324a4fd"
  },
  {
   "cell_type": "markdown",
   "source": [
    "# Training neural network to predict ball position in a 3d space\n",
    "## 1. Importing Libraries"
   ],
   "metadata": {
    "collapsed": false
   },
   "id": "d62d1f5b11dd788"
  },
  {
   "cell_type": "code",
   "execution_count": 1,
   "id": "initial_id",
   "metadata": {
    "collapsed": true,
    "ExecuteTime": {
     "end_time": "2024-03-12T14:27:21.434386Z",
     "start_time": "2024-03-12T14:27:20.316520Z"
    }
   },
   "outputs": [],
   "source": [
    "import pandas as pd\n",
    "from sklearn.preprocessing import MinMaxScaler\n",
    "from sklearn.neural_network import MLPRegressor\n",
    "from sklearn.model_selection import RandomizedSearchCV\n",
    "from sklearn.pipeline import Pipeline\n",
    "from utils.evaluate import evaluate_model\n",
    "from utils.plot_maker_gaussian_process import plot_maker_3d"
   ]
  },
  {
   "cell_type": "markdown",
   "source": [
    "## 2. Importing Data"
   ],
   "metadata": {
    "collapsed": false
   },
   "id": "c343b126b221af5f"
  },
  {
   "cell_type": "code",
   "outputs": [],
   "source": [
    "# get all train data\n",
    "X_butterfly_a = pd.read_csv('../data-4cams/data-butterfly/red_ball_coordinates_128px_2024-03-08_14h11m.csv', decimal='.', delimiter=',')\n",
    "X_butterfly_b = pd.read_csv('../data-4cams/data-butterfly/red_ball_coordinates_128px_2024-03-08_14h19m.csv', decimal='.', delimiter=',')\n",
    "X_butterfly_c = pd.read_csv('../data-4cams/data-butterfly/red_ball_coordinates_128px_2024-03-08_14h23m.csv', decimal='.', delimiter=',')\n",
    "X_spiral_a = pd.read_csv('../data-4cams/data-spiral/red_ball_coordinates_128px_2024-03-08_14h30m.csv', decimal='.', delimiter=',')[:700]\n",
    "X_spiral_b = pd.read_csv('../data-4cams/data-spiral/red_ball_coordinates_128px_2024-03-08_14h34m.csv', decimal='.', delimiter=',')\n",
    "X_spiro_a = pd.read_csv('../data-4cams/data-spiro/red_ball_coordinates_128px_2024-03-08_14h38m.csv', decimal='.', delimiter=',')\n",
    "X_spiro_b = pd.read_csv('../data-4cams/data-spiro/red_ball_coordinates_128px_2024-03-08_14h41m.csv', decimal='.', delimiter=',').iloc[:800]\n",
    "X_lis_a = pd.read_csv('../data-4cams/data-lis-curve/red_ball_coordinates_128px_2024-03-12_11h08m.csv', decimal='.', delimiter=',')\n",
    "X_lis_b = pd.read_csv('../data-4cams/data-lis-curve/red_ball_coordinates_128px_2024-03-12_12h50m.csv', decimal='.', delimiter=',')\n",
    "\n",
    "X_circle_a = pd.read_csv('../data-4cams/data-circle/red_ball_coordinates_128px_2024-03-12_12h59m.csv',decimal='.', delimiter=',')\n",
    "X_circle_b = pd.read_csv('../data-4cams/data-circle/red_ball_coordinates_128px_2024-03-12_13h04m.csv',decimal='.', delimiter=',')"
   ],
   "metadata": {
    "collapsed": false,
    "ExecuteTime": {
     "end_time": "2024-03-12T14:27:21.465791Z",
     "start_time": "2024-03-12T14:27:21.435367Z"
    }
   },
   "id": "753e977b821642fe",
   "execution_count": 2
  },
  {
   "cell_type": "code",
   "outputs": [],
   "source": [
    "# get all the position data\n",
    "y_butterfly_a = pd.read_csv('../data-4cams/data-butterfly/positions_xyz_2024-03-08_14h11m.csv', decimal='.', delimiter=',').iloc[4:]\n",
    "y_butterfly_b = pd.read_csv('../data-4cams/data-butterfly/positions_xyz_2024-03-08_14h19m.csv', decimal='.', delimiter=',').iloc[4:]\n",
    "y_butterfly_c = pd.read_csv('../data-4cams/data-butterfly/positions_xyz_2024-03-08_14h23m.csv', decimal='.', delimiter=',').iloc[4:]\n",
    "y_spiral_a = pd.read_csv('../data-4cams/data-spiral/positions_xyz_2024-03-08_14h30m.csv', decimal='.', delimiter=',').iloc[4:][:700]\n",
    "y_spiral_b = pd.read_csv('../data-4cams/data-spiral/positions_xyz_2024-03-08_14h34m.csv', decimal='.', delimiter=',').iloc[4:]\n",
    "y_spiro_a = pd.read_csv('../data-4cams/data-spiro/positions_xyz_2024-03-08_14h38m.csv', decimal='.', delimiter=',').iloc[4:]\n",
    "y_spiro_b = pd.read_csv('../data-4cams/data-spiro/positions_xyz_2024-03-08_14h41m.csv', decimal='.', delimiter=',').iloc[4:]\n",
    "y_spiro_b = y_spiro_b.iloc[:800]\n",
    "y_lis_a = pd.read_csv('../data-4cams/data-lis-curve/positions_xyz_2024-03-12_11h08m.csv', decimal='.', delimiter=',').iloc[4:]\n",
    "y_lis_b = pd.read_csv('../data-4cams/data-lis-curve/positions_xyz_2024-03-12_12h50m.csv', decimal='.', delimiter=',').iloc[4:]\n",
    "y_circle_a = pd.read_csv('../data-4cams/data-circle/positions_xyz_2024-03-12_12h59m.csv', decimal='.', delimiter=',').iloc[4:]\n",
    "y_circle_b = pd.read_csv('../data-4cams/data-circle/positions_xyz_2024-03-12_13h04m.csv', decimal='.', delimiter=',').iloc[4:]"
   ],
   "metadata": {
    "collapsed": false,
    "ExecuteTime": {
     "end_time": "2024-03-12T14:27:21.497302Z",
     "start_time": "2024-03-12T14:27:21.467790Z"
    }
   },
   "id": "31776f1ee087f190",
   "execution_count": 3
  },
  {
   "cell_type": "markdown",
   "source": [
    "#### 2.1 Check for Missing Values in spriral_down_b and spiral_down_c"
   ],
   "metadata": {
    "collapsed": false
   },
   "id": "b323937c1957773b"
  },
  {
   "cell_type": "code",
   "outputs": [
    {
     "name": "stdout",
     "output_type": "stream",
     "text": [
      "The amount of NaN in spiral_down_b: 6\n",
      "The amount of NaN in spiral_down_c: 2\n",
      "The amount of NaN in butterfly_a: 6\n",
      "The amount of NaN in spiral_a: 0\n",
      "The amount of NaN in spiral_b: 8\n",
      "The amount of NaN in spiro_a: 0\n",
      "The amount of NaN in spiro_b: 4\n",
      "The amount of NaN in lis_a: 0\n",
      "The amount of NaN in lis_b: 0\n",
      "The amount of NaN in circle_a: 0\n",
      "The amount of NaN in circle_b: 0\n"
     ]
    }
   ],
   "source": [
    "print(f'The amount of NaN in spiral_down_b: {X_butterfly_a.isna().sum().sum()}')\n",
    "print(f'The amount of NaN in spiral_down_c: {X_butterfly_b.isna().sum().sum()}')\n",
    "print(f'The amount of NaN in butterfly_a: {X_butterfly_c.isna().sum().sum()}')\n",
    "print(f'The amount of NaN in spiral_a: {X_spiral_a.isna().sum().sum()}')\n",
    "print(f'The amount of NaN in spiral_b: {X_spiral_b.isna().sum().sum()}')\n",
    "print(f'The amount of NaN in spiro_a: {X_spiro_a.isna().sum().sum()}')\n",
    "print(f'The amount of NaN in spiro_b: {X_spiro_b.isna().sum().sum()}')\n",
    "print(f'The amount of NaN in lis_a: {X_lis_a.isna().sum().sum()}')\n",
    "print(f'The amount of NaN in lis_b: {X_lis_b.isna().sum().sum()}')\n",
    "print(f'The amount of NaN in circle_a: {X_circle_a.isna().sum().sum()}')\n",
    "print(f'The amount of NaN in circle_b: {X_circle_b.isna().sum().sum()}')"
   ],
   "metadata": {
    "collapsed": false,
    "ExecuteTime": {
     "end_time": "2024-03-12T14:27:21.513061Z",
     "start_time": "2024-03-12T14:27:21.498301Z"
    }
   },
   "id": "887816b8791983bb",
   "execution_count": 4
  },
  {
   "cell_type": "code",
   "outputs": [
    {
     "data": {
      "text/plain": "((11543, 8), (11543, 3))"
     },
     "execution_count": 5,
     "metadata": {},
     "output_type": "execute_result"
    }
   ],
   "source": [
    "X_train = pd.concat([X_butterfly_a, X_butterfly_b, X_butterfly_c, X_spiral_a, X_spiral_b, X_spiro_a, X_spiro_b, X_lis_a, X_lis_b, X_circle_a, X_circle_b])\n",
    "y_train = pd.concat([y_butterfly_a, y_butterfly_b, y_butterfly_c, y_spiral_a, y_spiral_b, y_spiro_a, y_spiro_b, y_lis_a, y_lis_b, y_circle_a, y_circle_b])\n",
    "X_train.reset_index(drop=True, inplace=True)\n",
    "y_train.reset_index(drop=True, inplace=True)\n",
    "X_train.shape, y_train.shape"
   ],
   "metadata": {
    "collapsed": false,
    "ExecuteTime": {
     "end_time": "2024-03-12T14:27:21.528376Z",
     "start_time": "2024-03-12T14:27:21.514060Z"
    }
   },
   "id": "8d7418c8672ca2ff",
   "execution_count": 5
  },
  {
   "cell_type": "code",
   "outputs": [],
   "source": [
    "combined = pd.concat([X_train, y_train], axis=1)\n",
    "combined.isna().sum().sum()\n",
    "combined.dropna(inplace=True)"
   ],
   "metadata": {
    "collapsed": false,
    "ExecuteTime": {
     "end_time": "2024-03-12T14:27:21.544425Z",
     "start_time": "2024-03-12T14:27:21.529381Z"
    }
   },
   "id": "ed7a120a3e7c90c1",
   "execution_count": 6
  },
  {
   "cell_type": "code",
   "outputs": [
    {
     "name": "stdout",
     "output_type": "stream",
     "text": [
      "The amount of NaN in the combined data: 0\n"
     ]
    }
   ],
   "source": [
    "print(f'The amount of NaN in the combined data: {combined.isna().sum().sum()}')"
   ],
   "metadata": {
    "collapsed": false,
    "ExecuteTime": {
     "end_time": "2024-03-12T14:27:21.560481Z",
     "start_time": "2024-03-12T14:27:21.545423Z"
    }
   },
   "id": "c1064c6c41231823",
   "execution_count": 7
  },
  {
   "cell_type": "markdown",
   "source": [
    "## 3. Data Preprocessing"
   ],
   "metadata": {
    "collapsed": false
   },
   "id": "bc7a378fbd128144"
  },
  {
   "cell_type": "code",
   "outputs": [],
   "source": [
    "X = combined.iloc[:, :8]\n",
    "y = combined.iloc[:, 8:]\n",
    "X.to_csv('../data-4cams/all/red_ball_all_4cams.csv', index=False)\n",
    "y.to_csv('../data-4cams/all/positions_xyz_all_4cams.csv', index=False)"
   ],
   "metadata": {
    "collapsed": false,
    "ExecuteTime": {
     "end_time": "2024-03-12T14:27:21.623510Z",
     "start_time": "2024-03-12T14:27:21.561486Z"
    }
   },
   "id": "2c20e7b504dcfd9c",
   "execution_count": 8
  },
  {
   "cell_type": "code",
   "outputs": [],
   "source": [
    "# scale the data\n",
    "scaler_x = MinMaxScaler()\n",
    "scaler_y = MinMaxScaler()\n",
    "X_scaled = scaler_x.fit_transform(X)\n",
    "y_scaled = scaler_y.fit_transform(y)"
   ],
   "metadata": {
    "collapsed": false,
    "ExecuteTime": {
     "end_time": "2024-03-12T14:27:21.639337Z",
     "start_time": "2024-03-12T14:27:21.624487Z"
    }
   },
   "id": "898d1aebee1ee4a2",
   "execution_count": 9
  },
  {
   "cell_type": "markdown",
   "source": [
    "## 4. Hyperparameter Tuning"
   ],
   "metadata": {
    "collapsed": false
   },
   "id": "fad416068809969b"
  },
  {
   "cell_type": "code",
   "outputs": [],
   "source": [
    "# create a pipeline\n",
    "pipeline = Pipeline([\n",
    "    ('mlp', MLPRegressor(random_state=42))\n",
    "])"
   ],
   "metadata": {
    "collapsed": false,
    "ExecuteTime": {
     "end_time": "2024-03-12T14:27:21.654287Z",
     "start_time": "2024-03-12T14:27:21.642530Z"
    }
   },
   "id": "202ed5653fa8a79b",
   "execution_count": 10
  },
  {
   "cell_type": "code",
   "outputs": [
    {
     "name": "stdout",
     "output_type": "stream",
     "text": [
      "Fitting 5 folds for each of 100 candidates, totalling 500 fits\n"
     ]
    }
   ],
   "source": [
    "param_grid = {\n",
    "    'mlp__hidden_layer_sizes': [(10,), (50, 30), (100, 50), (20, 10, 5)],\n",
    "    'mlp__activation': ['identity', 'tanh', 'relu'],\n",
    "    'mlp__solver': ['sgd', 'adam'],\n",
    "    'mlp__alpha': [0.001, 0.01, 0.1],\n",
    "    'mlp__max_iter': [10000, 20000, 28000],\n",
    "    'mlp__learning_rate': ['constant', 'adaptive'],\n",
    "    'mlp__learning_rate_init': [0.001, 0.01, 0.1],\n",
    "    'mlp__early_stopping': [True],\n",
    "}\n",
    "\n",
    "random_search = RandomizedSearchCV(pipeline, param_distributions=param_grid, cv=5, n_iter=100, n_jobs=-1, verbose=3, random_state=42)\n",
    "\n",
    "random_search.fit(X_scaled, y_scaled)"
   ],
   "metadata": {
    "collapsed": false,
    "is_executing": true,
    "ExecuteTime": {
     "start_time": "2024-03-12T14:27:21.655266Z"
    }
   },
   "id": "5c232eee49f1ced3",
   "execution_count": null
  },
  {
   "cell_type": "code",
   "outputs": [],
   "source": [
    "print(f'Best parameters: {random_search.best_params_}')\n",
    "print(f'Best score: {random_search.best_score_}')"
   ],
   "metadata": {
    "collapsed": false,
    "is_executing": true
   },
   "id": "6cc24cd43c214947",
   "execution_count": null
  },
  {
   "cell_type": "code",
   "outputs": [],
   "source": [
    "model = random_search.best_estimator_"
   ],
   "metadata": {
    "collapsed": false,
    "is_executing": true
   },
   "id": "e52d4e8a3d14bec4",
   "execution_count": null
  },
  {
   "cell_type": "markdown",
   "source": [
    "## 5. Training the Model"
   ],
   "metadata": {
    "collapsed": false
   },
   "id": "63a44525cdb065d0"
  },
  {
   "cell_type": "code",
   "outputs": [],
   "source": [
    "model.fit(X_scaled, y_scaled)"
   ],
   "metadata": {
    "collapsed": false,
    "is_executing": true
   },
   "id": "7b6d9c96f863c23d",
   "execution_count": null
  },
  {
   "cell_type": "markdown",
   "source": [
    "## 6. Make Predictions On Test Data"
   ],
   "metadata": {
    "collapsed": false
   },
   "id": "ae68f2dd8bbd3320"
  },
  {
   "cell_type": "code",
   "outputs": [],
   "source": [
    "# get all test data\n",
    "X_test_8 = pd.read_csv('../data-4cams/data-8/red_ball_coordinates_128px_2024-03-08_14h44m.csv', decimal='.', delimiter=',')\n",
    "y_test_8 = pd.read_csv('../data-4cams/data-8/positions_xyz_2024-03-08_14h44m.csv', decimal='.', delimiter=',').iloc[4:]"
   ],
   "metadata": {
    "collapsed": false,
    "is_executing": true
   },
   "id": "b7374798627d060a",
   "execution_count": null
  },
  {
   "cell_type": "code",
   "outputs": [],
   "source": [
    "X_lis_c = pd.read_csv('../data-4cams/data-lis-curve/red_ball_coordinates_128px_2024-03-12_12h54m.csv', decimal='.', delimiter=',')\n",
    "y_lis_c = pd.read_csv('../data-4cams/data-lis-curve/positions_xyz_2024-03-12_12h54m.csv', decimal='.', delimiter=',').iloc[4:]"
   ],
   "metadata": {
    "collapsed": false,
    "is_executing": true
   },
   "id": "c51a8fb599dcd488"
  },
  {
   "cell_type": "code",
   "outputs": [],
   "source": [
    "def prepare_and_scale_test_data(X_test_val, y_test_val, scaler_x_test):\n",
    "    y_test_val = y_test_val.iloc[4:]\n",
    "    combined_test = pd.concat([X_test_val, y_test_val], axis=1)\n",
    "    combined_test.dropna(inplace=True)\n",
    "    X_val = combined_test.iloc[:, :8]\n",
    "    y_val = combined_test.iloc[:, 8:]\n",
    "    X_scaled_test = scaler_x_test.transform(X_val)\n",
    "    return X_scaled_test, y_val"
   ],
   "metadata": {
    "collapsed": false,
    "is_executing": true
   },
   "id": "32e775e1370c5290",
   "execution_count": null
  },
  {
   "cell_type": "code",
   "outputs": [],
   "source": [
    "def predict_evaluate_plot(X_test_val_scaled, y_test_val, nn_model, scaler_y_test, title='Trajectory of Ball in 3D Space'):\n",
    "    y_test_predicted_scaled = nn_model.predict(X_test_val_scaled)\n",
    "    y_test_pred = scaler_y_test.inverse_transform(y_test_predicted_scaled)\n",
    "    mse, mae, r2 = evaluate_model(y_test_val, y_test_pred, 'Test Data')\n",
    "    # change col 1 and 2 from place, so it corresponds to the unity 3d space\n",
    "    y_test_pred = y_test_pred[:, [0, 2, 1]]\n",
    "    y_test_val = y_test_val.to_numpy()[:, [0, 2, 1]]\n",
    "    plot_maker_3d(y_test_val, y_test_pred, title)\n",
    "    return y_test_pred, mse, mae, r2"
   ],
   "metadata": {
    "collapsed": false,
    "is_executing": true
   },
   "id": "ba950ddf6f53963c",
   "execution_count": null
  },
  {
   "cell_type": "code",
   "outputs": [],
   "source": [
    "X_test_scaled_8, y_test_8 = prepare_and_scale_test_data(X_test_8, y_test_8, scaler_x)\n",
    "y_test_pred_8, mse_8, mae_8, r2_8 = predict_evaluate_plot(X_test_scaled_8, y_test_8, model, scaler_y, 'Trajectory of Ball in 3D Space - 8 motion')"
   ],
   "metadata": {
    "collapsed": false,
    "is_executing": true
   },
   "id": "84c52016157cda19",
   "execution_count": null
  },
  {
   "cell_type": "code",
   "outputs": [],
   "source": [
    "X_test_scaled_lis_c, y_test_lis_c = prepare_and_scale_test_data(X_lis_c, y_lis_c, scaler_x)\n",
    "y_test_pred_lis_c, mse_lis_c, mae_lis_c, r2_lis_c = predict_evaluate_plot(X_test_scaled_lis_c, y_test_lis_c, model, scaler_y, 'Trajectory of Ball in 3D Space - Lissajous Curve')\n"
   ],
   "metadata": {
    "collapsed": false,
    "is_executing": true
   },
   "id": "60a69fc0f6d4db90"
  }
 ],
 "metadata": {
  "kernelspec": {
   "display_name": "Python 3",
   "language": "python",
   "name": "python3"
  },
  "language_info": {
   "codemirror_mode": {
    "name": "ipython",
    "version": 2
   },
   "file_extension": ".py",
   "mimetype": "text/x-python",
   "name": "python",
   "nbconvert_exporter": "python",
   "pygments_lexer": "ipython2",
   "version": "2.7.6"
  }
 },
 "nbformat": 4,
 "nbformat_minor": 5
}
