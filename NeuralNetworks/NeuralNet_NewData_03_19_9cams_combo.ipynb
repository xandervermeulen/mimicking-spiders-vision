{
 "cells": [
  {
   "cell_type": "markdown",
   "source": [],
   "metadata": {
    "collapsed": false
   },
   "id": "a3d73eacc324a4fd"
  },
  {
   "cell_type": "markdown",
   "source": [
    "# Training neural network to predict ball position in a 3d space\n",
    "## 1. Importing Libraries"
   ],
   "metadata": {
    "collapsed": false
   },
   "id": "d62d1f5b11dd788"
  },
  {
   "cell_type": "code",
   "execution_count": 1,
   "id": "initial_id",
   "metadata": {
    "collapsed": true,
    "ExecuteTime": {
     "end_time": "2024-03-20T11:13:12.497664Z",
     "start_time": "2024-03-20T11:13:11.694428Z"
    }
   },
   "outputs": [],
   "source": [
    "import pandas as pd\n",
    "from sklearn.preprocessing import MinMaxScaler\n",
    "from sklearn.neural_network import MLPRegressor\n",
    "from sklearn.model_selection import RandomizedSearchCV\n",
    "from sklearn.pipeline import Pipeline\n",
    "from utils.evaluate import evaluate_model\n",
    "from utils.plot_maker import plot_maker_3d"
   ]
  },
  {
   "cell_type": "markdown",
   "source": [
    "## 2. Importing Data"
   ],
   "metadata": {
    "collapsed": false
   },
   "id": "c343b126b221af5f"
  },
  {
   "cell_type": "code",
   "outputs": [],
   "source": [
    "# get all the red ball data\n",
    "X_rec1 = pd.read_csv('../data-9-cams/red_ball_coordinates_128px_2024-03-19_15h22m.csv', decimal='.', delimiter=',')\n",
    "X_rec2 = pd.read_csv('../data-9-cams/red_ball_coordinates_128px_2024-03-19_15h23m.csv', decimal='.', delimiter=',')\n",
    "X_rec3 = pd.read_csv('../data-9-cams/red_ball_coordinates_128px_2024-03-19_15h25m.csv', decimal='.', delimiter=',')\n",
    "X_rec4 = pd.read_csv('../data-9-cams/red_ball_coordinates_128px_2024-03-19_15h27m.csv', decimal='.', delimiter=',')\n",
    "X_rec5 = pd.read_csv('../data-9-cams/red_ball_coordinates_128px_2024-03-19_15h30m.csv', decimal='.', delimiter=',')\n",
    "X_rec6 = pd.read_csv('../data-9-cams/red_ball_coordinates_128px_2024-03-19_15h31m.csv', decimal='.', delimiter=',')"
   ],
   "metadata": {
    "collapsed": false,
    "ExecuteTime": {
     "end_time": "2024-03-20T11:13:12.528806Z",
     "start_time": "2024-03-20T11:13:12.498816Z"
    }
   },
   "id": "753e977b821642fe",
   "execution_count": 2
  },
  {
   "cell_type": "code",
   "outputs": [],
   "source": [
    "# get all the positions data\n",
    "y_rec1 = pd.read_csv('../data-9-cams/positions_xyz_2024-03-19_15h22m.csv', decimal='.', delimiter=',').iloc[:-2]\n",
    "y_rec2 = pd.read_csv('../data-9-cams/positions_xyz_2024-03-19_15h23m.csv', decimal='.', delimiter=',').iloc[:-2]\n",
    "y_rec3 = pd.read_csv('../data-9-cams/positions_xyz_2024-03-19_15h25m.csv', decimal='.', delimiter=',').iloc[:-2]\n",
    "y_rec4 = pd.read_csv('../data-9-cams/positions_xyz_2024-03-19_15h27m.csv', decimal='.', delimiter=',').iloc[:-2]\n",
    "y_rec5 = pd.read_csv('../data-9-cams/positions_xyz_2024-03-19_15h30m.csv', decimal='.', delimiter=',').iloc[:-2]\n",
    "y_rec6 = pd.read_csv('../data-9-cams/positions_xyz_2024-03-19_15h31m.csv', decimal='.', delimiter=',').iloc[:-2]"
   ],
   "metadata": {
    "collapsed": false,
    "ExecuteTime": {
     "end_time": "2024-03-20T11:13:12.544672Z",
     "start_time": "2024-03-20T11:13:12.529821Z"
    }
   },
   "id": "3d3a3a625875295d",
   "execution_count": 3
  },
  {
   "cell_type": "code",
   "outputs": [
    {
     "data": {
      "text/plain": "(((821, 18), (821, 3)),\n ((810, 18), (810, 3)),\n ((813, 18), (813, 3)),\n ((201, 18), (201, 3)),\n ((809, 18), (809, 3)),\n ((808, 18), (808, 3)))"
     },
     "execution_count": 4,
     "metadata": {},
     "output_type": "execute_result"
    }
   ],
   "source": [
    "(X_rec1.shape, y_rec1.shape), (X_rec2.shape, y_rec2.shape), (X_rec3.shape, y_rec3.shape), (X_rec4.shape, y_rec4.shape), (X_rec5.shape, y_rec5.shape), (X_rec6.shape, y_rec6.shape)"
   ],
   "metadata": {
    "collapsed": false,
    "ExecuteTime": {
     "end_time": "2024-03-20T11:13:12.563430Z",
     "start_time": "2024-03-20T11:13:12.545688Z"
    }
   },
   "id": "19fa72eac5e4d7a7",
   "execution_count": 4
  },
  {
   "cell_type": "code",
   "outputs": [
    {
     "name": "stdout",
     "output_type": "stream",
     "text": [
      "The amount of NaN in rec1: 1740\n",
      "The amount of NaN in rec2: 776\n",
      "The amount of NaN in rec3: 4\n",
      "The amount of NaN in rec4: 20\n",
      "The amount of NaN in rec5: 470\n",
      "The amount of NaN in rec6: 2\n"
     ]
    }
   ],
   "source": [
    "print(f\"The amount of NaN in rec1: {X_rec1.isna().sum().sum()}\")\n",
    "print(f\"The amount of NaN in rec2: {X_rec2.isna().sum().sum()}\")\n",
    "print(f\"The amount of NaN in rec3: {X_rec3.isna().sum().sum()}\")\n",
    "print(f\"The amount of NaN in rec4: {X_rec4.isna().sum().sum()}\")\n",
    "print(f\"The amount of NaN in rec5: {X_rec5.isna().sum().sum()}\")\n",
    "print(f\"The amount of NaN in rec6: {X_rec6.isna().sum().sum()}\")"
   ],
   "metadata": {
    "collapsed": false,
    "ExecuteTime": {
     "end_time": "2024-03-20T11:13:12.579385Z",
     "start_time": "2024-03-20T11:13:12.566838Z"
    }
   },
   "id": "86ff8341acb4b36d",
   "execution_count": 5
  },
  {
   "cell_type": "markdown",
   "source": [
    "Rec7 and Rec8 have too many NaNs"
   ],
   "metadata": {
    "collapsed": false
   },
   "id": "9415e08c048ca456"
  },
  {
   "cell_type": "markdown",
   "source": [
    "### 2.3 Combine all the datasets"
   ],
   "metadata": {
    "collapsed": false
   },
   "id": "4b75b022b8186f46"
  },
  {
   "cell_type": "code",
   "outputs": [],
   "source": [
    "X_train = pd.concat([X_rec1, X_rec2,X_rec3, X_rec4, X_rec5, X_rec6])\n",
    "y_train = pd.concat([y_rec1, y_rec2,y_rec3,y_rec4,y_rec5,y_rec6])\n",
    "X_train.reset_index(drop=True, inplace=True)\n",
    "y_train.reset_index(drop=True, inplace=True)"
   ],
   "metadata": {
    "collapsed": false,
    "ExecuteTime": {
     "end_time": "2024-03-20T11:13:12.595164Z",
     "start_time": "2024-03-20T11:13:12.580396Z"
    }
   },
   "id": "45402e756b5d92da",
   "execution_count": 6
  },
  {
   "cell_type": "code",
   "outputs": [
    {
     "data": {
      "text/plain": "u0    296\nv0    296\nu1     74\nv1     74\nu2    305\nv2    305\nu3     66\nv3     66\nu4    135\nv4    135\nu5    305\nv5    305\nu6    123\nv6    123\nu7    129\nv7    129\nu8     73\nv8     73\ndtype: int64"
     },
     "execution_count": 7,
     "metadata": {},
     "output_type": "execute_result"
    }
   ],
   "source": [
    "X_train.isna().sum()"
   ],
   "metadata": {
    "collapsed": false,
    "ExecuteTime": {
     "end_time": "2024-03-20T11:13:12.610928Z",
     "start_time": "2024-03-20T11:13:12.596166Z"
    }
   },
   "id": "3992285e7d8b0bf",
   "execution_count": 7
  },
  {
   "cell_type": "code",
   "outputs": [
    {
     "data": {
      "text/plain": "((4262, 18), (4262, 3))"
     },
     "execution_count": 8,
     "metadata": {},
     "output_type": "execute_result"
    }
   ],
   "source": [
    "X_train.shape, y_train.shape"
   ],
   "metadata": {
    "collapsed": false,
    "ExecuteTime": {
     "end_time": "2024-03-20T11:13:12.626697Z",
     "start_time": "2024-03-20T11:13:12.611978Z"
    }
   },
   "id": "ed7a120a3e7c90c1",
   "execution_count": 8
  },
  {
   "cell_type": "code",
   "outputs": [],
   "source": [
    "combined = pd.concat([X_train, y_train], axis=1)"
   ],
   "metadata": {
    "collapsed": false,
    "ExecuteTime": {
     "end_time": "2024-03-20T11:13:12.641965Z",
     "start_time": "2024-03-20T11:13:12.627709Z"
    }
   },
   "id": "77964f394f147651",
   "execution_count": 9
  },
  {
   "cell_type": "markdown",
   "source": [
    "## 3. Data Preprocessing"
   ],
   "metadata": {
    "collapsed": false
   },
   "id": "bc7a378fbd128144"
  },
  {
   "cell_type": "code",
   "outputs": [
    {
     "data": {
      "text/plain": "        u0    v0     u1    v1    u2    v2    u3    v3     u4    v4  ...    v5  \\\n0     42.0  53.0  104.5  52.5  42.0  66.0  84.0  67.0    NaN   NaN  ...  78.5   \n1     42.5  52.5  104.5  52.5  41.5  66.0  83.0  66.0    NaN   NaN  ...  78.5   \n2     40.5  52.5  102.5  51.0  40.0  65.0  83.5  65.5    NaN   NaN  ...  78.0   \n3     37.5  50.5  100.0  51.0   NaN   NaN   NaN   NaN  125.5  63.5  ...  77.0   \n4     34.0  51.0   96.5  50.5  35.0  64.5  77.0  65.5  124.0  64.0  ...  77.0   \n...    ...   ...    ...   ...   ...   ...   ...   ...    ...   ...  ...   ...   \n4257  14.0  41.0   77.5  43.5  14.0  55.0  58.0  57.0  101.5  55.5  ...  69.0   \n4258  15.5  42.0   78.0  43.0  15.0  56.0  59.0  56.0  102.0  56.0  ...  69.0   \n4259  16.0  42.0   80.0  44.0  16.0  56.0  60.0  57.0  104.0  56.0  ...  70.0   \n4260  17.0  43.0   80.0  44.5  17.0  57.0  62.0  58.0  105.0  57.0  ...  71.0   \n4261  18.0  44.0   82.0  46.0  18.0  58.0  62.0  59.0  105.5  58.5  ...  72.0   \n\n         u6    v6     u7    v7     u8    v8         x         y         z  \n0       NaN   NaN    NaN   NaN  105.5  79.5  2.947180  3.229958  23.52337  \n1       NaN   NaN    NaN   NaN  106.0  79.0  2.963082  3.358113  23.66638  \n2       NaN   NaN    NaN   NaN  103.0  78.5  3.105975  3.135756  23.47686  \n3     125.5  78.5  126.0  50.0   99.5  77.5  3.456995  3.061499  23.26819  \n4     122.0  79.0  122.0  50.0   97.0  77.0  3.947670  2.944803  23.34910  \n...     ...   ...    ...   ...    ...   ...       ...       ...       ...  \n4257  101.0  68.0  101.0  42.0   78.0  68.0  7.546328  1.569411  24.56239  \n4258  102.0  69.0  102.0  42.5   78.5  68.5  7.372911  1.581999  24.56596  \n4259  104.0  70.0  103.0  43.0   79.5  69.5  7.202659  1.641818  24.52438  \n4260  104.0  70.0  104.0  44.0   81.0  70.0  7.044904  1.746940  24.43953  \n4261  106.0  72.0  105.0  45.0   81.0  71.0  6.908397  1.893470  24.31525  \n\n[4262 rows x 21 columns]",
      "text/html": "<div>\n<style scoped>\n    .dataframe tbody tr th:only-of-type {\n        vertical-align: middle;\n    }\n\n    .dataframe tbody tr th {\n        vertical-align: top;\n    }\n\n    .dataframe thead th {\n        text-align: right;\n    }\n</style>\n<table border=\"1\" class=\"dataframe\">\n  <thead>\n    <tr style=\"text-align: right;\">\n      <th></th>\n      <th>u0</th>\n      <th>v0</th>\n      <th>u1</th>\n      <th>v1</th>\n      <th>u2</th>\n      <th>v2</th>\n      <th>u3</th>\n      <th>v3</th>\n      <th>u4</th>\n      <th>v4</th>\n      <th>...</th>\n      <th>v5</th>\n      <th>u6</th>\n      <th>v6</th>\n      <th>u7</th>\n      <th>v7</th>\n      <th>u8</th>\n      <th>v8</th>\n      <th>x</th>\n      <th>y</th>\n      <th>z</th>\n    </tr>\n  </thead>\n  <tbody>\n    <tr>\n      <th>0</th>\n      <td>42.0</td>\n      <td>53.0</td>\n      <td>104.5</td>\n      <td>52.5</td>\n      <td>42.0</td>\n      <td>66.0</td>\n      <td>84.0</td>\n      <td>67.0</td>\n      <td>NaN</td>\n      <td>NaN</td>\n      <td>...</td>\n      <td>78.5</td>\n      <td>NaN</td>\n      <td>NaN</td>\n      <td>NaN</td>\n      <td>NaN</td>\n      <td>105.5</td>\n      <td>79.5</td>\n      <td>2.947180</td>\n      <td>3.229958</td>\n      <td>23.52337</td>\n    </tr>\n    <tr>\n      <th>1</th>\n      <td>42.5</td>\n      <td>52.5</td>\n      <td>104.5</td>\n      <td>52.5</td>\n      <td>41.5</td>\n      <td>66.0</td>\n      <td>83.0</td>\n      <td>66.0</td>\n      <td>NaN</td>\n      <td>NaN</td>\n      <td>...</td>\n      <td>78.5</td>\n      <td>NaN</td>\n      <td>NaN</td>\n      <td>NaN</td>\n      <td>NaN</td>\n      <td>106.0</td>\n      <td>79.0</td>\n      <td>2.963082</td>\n      <td>3.358113</td>\n      <td>23.66638</td>\n    </tr>\n    <tr>\n      <th>2</th>\n      <td>40.5</td>\n      <td>52.5</td>\n      <td>102.5</td>\n      <td>51.0</td>\n      <td>40.0</td>\n      <td>65.0</td>\n      <td>83.5</td>\n      <td>65.5</td>\n      <td>NaN</td>\n      <td>NaN</td>\n      <td>...</td>\n      <td>78.0</td>\n      <td>NaN</td>\n      <td>NaN</td>\n      <td>NaN</td>\n      <td>NaN</td>\n      <td>103.0</td>\n      <td>78.5</td>\n      <td>3.105975</td>\n      <td>3.135756</td>\n      <td>23.47686</td>\n    </tr>\n    <tr>\n      <th>3</th>\n      <td>37.5</td>\n      <td>50.5</td>\n      <td>100.0</td>\n      <td>51.0</td>\n      <td>NaN</td>\n      <td>NaN</td>\n      <td>NaN</td>\n      <td>NaN</td>\n      <td>125.5</td>\n      <td>63.5</td>\n      <td>...</td>\n      <td>77.0</td>\n      <td>125.5</td>\n      <td>78.5</td>\n      <td>126.0</td>\n      <td>50.0</td>\n      <td>99.5</td>\n      <td>77.5</td>\n      <td>3.456995</td>\n      <td>3.061499</td>\n      <td>23.26819</td>\n    </tr>\n    <tr>\n      <th>4</th>\n      <td>34.0</td>\n      <td>51.0</td>\n      <td>96.5</td>\n      <td>50.5</td>\n      <td>35.0</td>\n      <td>64.5</td>\n      <td>77.0</td>\n      <td>65.5</td>\n      <td>124.0</td>\n      <td>64.0</td>\n      <td>...</td>\n      <td>77.0</td>\n      <td>122.0</td>\n      <td>79.0</td>\n      <td>122.0</td>\n      <td>50.0</td>\n      <td>97.0</td>\n      <td>77.0</td>\n      <td>3.947670</td>\n      <td>2.944803</td>\n      <td>23.34910</td>\n    </tr>\n    <tr>\n      <th>...</th>\n      <td>...</td>\n      <td>...</td>\n      <td>...</td>\n      <td>...</td>\n      <td>...</td>\n      <td>...</td>\n      <td>...</td>\n      <td>...</td>\n      <td>...</td>\n      <td>...</td>\n      <td>...</td>\n      <td>...</td>\n      <td>...</td>\n      <td>...</td>\n      <td>...</td>\n      <td>...</td>\n      <td>...</td>\n      <td>...</td>\n      <td>...</td>\n      <td>...</td>\n      <td>...</td>\n    </tr>\n    <tr>\n      <th>4257</th>\n      <td>14.0</td>\n      <td>41.0</td>\n      <td>77.5</td>\n      <td>43.5</td>\n      <td>14.0</td>\n      <td>55.0</td>\n      <td>58.0</td>\n      <td>57.0</td>\n      <td>101.5</td>\n      <td>55.5</td>\n      <td>...</td>\n      <td>69.0</td>\n      <td>101.0</td>\n      <td>68.0</td>\n      <td>101.0</td>\n      <td>42.0</td>\n      <td>78.0</td>\n      <td>68.0</td>\n      <td>7.546328</td>\n      <td>1.569411</td>\n      <td>24.56239</td>\n    </tr>\n    <tr>\n      <th>4258</th>\n      <td>15.5</td>\n      <td>42.0</td>\n      <td>78.0</td>\n      <td>43.0</td>\n      <td>15.0</td>\n      <td>56.0</td>\n      <td>59.0</td>\n      <td>56.0</td>\n      <td>102.0</td>\n      <td>56.0</td>\n      <td>...</td>\n      <td>69.0</td>\n      <td>102.0</td>\n      <td>69.0</td>\n      <td>102.0</td>\n      <td>42.5</td>\n      <td>78.5</td>\n      <td>68.5</td>\n      <td>7.372911</td>\n      <td>1.581999</td>\n      <td>24.56596</td>\n    </tr>\n    <tr>\n      <th>4259</th>\n      <td>16.0</td>\n      <td>42.0</td>\n      <td>80.0</td>\n      <td>44.0</td>\n      <td>16.0</td>\n      <td>56.0</td>\n      <td>60.0</td>\n      <td>57.0</td>\n      <td>104.0</td>\n      <td>56.0</td>\n      <td>...</td>\n      <td>70.0</td>\n      <td>104.0</td>\n      <td>70.0</td>\n      <td>103.0</td>\n      <td>43.0</td>\n      <td>79.5</td>\n      <td>69.5</td>\n      <td>7.202659</td>\n      <td>1.641818</td>\n      <td>24.52438</td>\n    </tr>\n    <tr>\n      <th>4260</th>\n      <td>17.0</td>\n      <td>43.0</td>\n      <td>80.0</td>\n      <td>44.5</td>\n      <td>17.0</td>\n      <td>57.0</td>\n      <td>62.0</td>\n      <td>58.0</td>\n      <td>105.0</td>\n      <td>57.0</td>\n      <td>...</td>\n      <td>71.0</td>\n      <td>104.0</td>\n      <td>70.0</td>\n      <td>104.0</td>\n      <td>44.0</td>\n      <td>81.0</td>\n      <td>70.0</td>\n      <td>7.044904</td>\n      <td>1.746940</td>\n      <td>24.43953</td>\n    </tr>\n    <tr>\n      <th>4261</th>\n      <td>18.0</td>\n      <td>44.0</td>\n      <td>82.0</td>\n      <td>46.0</td>\n      <td>18.0</td>\n      <td>58.0</td>\n      <td>62.0</td>\n      <td>59.0</td>\n      <td>105.5</td>\n      <td>58.5</td>\n      <td>...</td>\n      <td>72.0</td>\n      <td>106.0</td>\n      <td>72.0</td>\n      <td>105.0</td>\n      <td>45.0</td>\n      <td>81.0</td>\n      <td>71.0</td>\n      <td>6.908397</td>\n      <td>1.893470</td>\n      <td>24.31525</td>\n    </tr>\n  </tbody>\n</table>\n<p>4262 rows × 21 columns</p>\n</div>"
     },
     "execution_count": 10,
     "metadata": {},
     "output_type": "execute_result"
    }
   ],
   "source": [
    "combined"
   ],
   "metadata": {
    "collapsed": false,
    "ExecuteTime": {
     "end_time": "2024-03-20T11:13:12.673672Z",
     "start_time": "2024-03-20T11:13:12.642969Z"
    }
   },
   "id": "dd68962a94d8d3c9",
   "execution_count": 10
  },
  {
   "cell_type": "code",
   "outputs": [
    {
     "name": "stdout",
     "output_type": "stream",
     "text": [
      "The data has missing values: 3012\n",
      "The data has missing values: 0\n"
     ]
    }
   ],
   "source": [
    "# check for missing values\n",
    "print(f'The data has missing values: {combined.isnull().sum().sum()}')\n",
    "combined.dropna(inplace=True)\n",
    "print(f'The data has missing values: {combined.isnull().sum().sum()}')"
   ],
   "metadata": {
    "collapsed": false,
    "ExecuteTime": {
     "end_time": "2024-03-20T11:13:12.689569Z",
     "start_time": "2024-03-20T11:13:12.674739Z"
    }
   },
   "id": "29060cc2a3e655dc",
   "execution_count": 11
  },
  {
   "cell_type": "code",
   "outputs": [],
   "source": [
    "X = combined.iloc[:, :18]\n",
    "y = combined.iloc[:, 18:]\n"
   ],
   "metadata": {
    "collapsed": false,
    "ExecuteTime": {
     "end_time": "2024-03-20T11:13:12.704442Z",
     "start_time": "2024-03-20T11:13:12.690685Z"
    }
   },
   "id": "2c20e7b504dcfd9c",
   "execution_count": 12
  },
  {
   "cell_type": "code",
   "outputs": [
    {
     "data": {
      "text/plain": "((3872, 18), (3872, 3))"
     },
     "execution_count": 13,
     "metadata": {},
     "output_type": "execute_result"
    }
   ],
   "source": [
    "X.shape, y.shape"
   ],
   "metadata": {
    "collapsed": false,
    "ExecuteTime": {
     "end_time": "2024-03-20T11:13:12.720266Z",
     "start_time": "2024-03-20T11:13:12.705462Z"
    }
   },
   "id": "bd0bd6c7a731a8da",
   "execution_count": 13
  },
  {
   "cell_type": "code",
   "outputs": [],
   "source": [
    "# scale the data\n",
    "scaler_x = MinMaxScaler()\n",
    "scaler_y = MinMaxScaler()\n",
    "X_scaled = scaler_x.fit_transform(X)\n",
    "y_scaled = scaler_y.fit_transform(y)"
   ],
   "metadata": {
    "collapsed": false,
    "ExecuteTime": {
     "end_time": "2024-03-20T11:13:12.736023Z",
     "start_time": "2024-03-20T11:13:12.721268Z"
    }
   },
   "id": "898d1aebee1ee4a2",
   "execution_count": 14
  },
  {
   "cell_type": "markdown",
   "source": [
    "## 4. Hyperparameter Tuning"
   ],
   "metadata": {
    "collapsed": false
   },
   "id": "fad416068809969b"
  },
  {
   "cell_type": "code",
   "outputs": [],
   "source": [
    "# create a pipeline\n",
    "pipeline = Pipeline([\n",
    "    ('mlp', MLPRegressor(random_state=42))\n",
    "])"
   ],
   "metadata": {
    "collapsed": false,
    "ExecuteTime": {
     "end_time": "2024-03-20T11:13:12.751346Z",
     "start_time": "2024-03-20T11:13:12.738525Z"
    }
   },
   "id": "202ed5653fa8a79b",
   "execution_count": 15
  },
  {
   "cell_type": "code",
   "outputs": [
    {
     "name": "stdout",
     "output_type": "stream",
     "text": [
      "Fitting 5 folds for each of 100 candidates, totalling 500 fits\n"
     ]
    },
    {
     "name": "stderr",
     "output_type": "stream",
     "text": [
      "C:\\Users\\xande\\venv\\lib\\site-packages\\sklearn\\model_selection\\_validation.py:425: FitFailedWarning: \n",
      "20 fits failed out of a total of 500.\n",
      "The score on these train-test partitions for these parameters will be set to nan.\n",
      "If these failures are not expected, you can try to debug them by setting error_score='raise'.\n",
      "\n",
      "Below are more details about the failures:\n",
      "--------------------------------------------------------------------------------\n",
      "20 fits failed with the following error:\n",
      "Traceback (most recent call last):\n",
      "  File \"C:\\Users\\xande\\venv\\lib\\site-packages\\sklearn\\model_selection\\_validation.py\", line 729, in _fit_and_score\n",
      "    estimator.fit(X_train, y_train, **fit_params)\n",
      "  File \"C:\\Users\\xande\\venv\\lib\\site-packages\\sklearn\\base.py\", line 1152, in wrapper\n",
      "    return fit_method(estimator, *args, **kwargs)\n",
      "  File \"C:\\Users\\xande\\venv\\lib\\site-packages\\sklearn\\pipeline.py\", line 427, in fit\n",
      "    self._final_estimator.fit(Xt, y, **fit_params_last_step)\n",
      "  File \"C:\\Users\\xande\\venv\\lib\\site-packages\\sklearn\\base.py\", line 1152, in wrapper\n",
      "    return fit_method(estimator, *args, **kwargs)\n",
      "  File \"C:\\Users\\xande\\venv\\lib\\site-packages\\sklearn\\neural_network\\_multilayer_perceptron.py\", line 753, in fit\n",
      "    return self._fit(X, y, incremental=False)\n",
      "  File \"C:\\Users\\xande\\venv\\lib\\site-packages\\sklearn\\neural_network\\_multilayer_perceptron.py\", line 476, in _fit\n",
      "    self._fit_stochastic(\n",
      "  File \"C:\\Users\\xande\\venv\\lib\\site-packages\\sklearn\\neural_network\\_multilayer_perceptron.py\", line 660, in _fit_stochastic\n",
      "    self._update_no_improvement_count(early_stopping, X_val, y_val)\n",
      "  File \"C:\\Users\\xande\\venv\\lib\\site-packages\\sklearn\\neural_network\\_multilayer_perceptron.py\", line 709, in _update_no_improvement_count\n",
      "    self.validation_scores_.append(self._score(X_val, y_val))\n",
      "  File \"C:\\Users\\xande\\venv\\lib\\site-packages\\sklearn\\neural_network\\_multilayer_perceptron.py\", line 1612, in _score\n",
      "    return r2_score(y, y_pred)\n",
      "  File \"C:\\Users\\xande\\venv\\lib\\site-packages\\sklearn\\utils\\_param_validation.py\", line 187, in wrapper\n",
      "    return func(*args, **kwargs)\n",
      "  File \"C:\\Users\\xande\\venv\\lib\\site-packages\\sklearn\\metrics\\_regression.py\", line 989, in r2_score\n",
      "    y_type, y_true, y_pred, multioutput = _check_reg_targets(\n",
      "  File \"C:\\Users\\xande\\venv\\lib\\site-packages\\sklearn\\metrics\\_regression.py\", line 101, in _check_reg_targets\n",
      "    y_pred = check_array(y_pred, ensure_2d=False, dtype=dtype)\n",
      "  File \"C:\\Users\\xande\\venv\\lib\\site-packages\\sklearn\\utils\\validation.py\", line 957, in check_array\n",
      "    _assert_all_finite(\n",
      "  File \"C:\\Users\\xande\\venv\\lib\\site-packages\\sklearn\\utils\\validation.py\", line 122, in _assert_all_finite\n",
      "    _assert_all_finite_element_wise(\n",
      "  File \"C:\\Users\\xande\\venv\\lib\\site-packages\\sklearn\\utils\\validation.py\", line 171, in _assert_all_finite_element_wise\n",
      "    raise ValueError(msg_err)\n",
      "ValueError: Input contains NaN.\n",
      "\n",
      "  warnings.warn(some_fits_failed_message, FitFailedWarning)\n",
      "C:\\Users\\xande\\venv\\lib\\site-packages\\sklearn\\model_selection\\_search.py:979: UserWarning: One or more of the test scores are non-finite: [ 8.36632798e-01  6.91338452e-01  8.19624053e-01  7.23631719e-01\n",
      "  6.68096609e-01  6.93753691e-01  8.57425652e-01 -2.57869555e+16\n",
      "  7.57141378e-01  6.94743765e-01 -6.35389828e-02  6.96501333e-01\n",
      "  8.48584582e-01 -2.91972662e+16  8.21433809e-01  6.76722415e-01\n",
      "  8.26548777e-01  8.26790807e-01  7.23631719e-01  7.61487442e-01\n",
      "  7.50813387e-01  6.43296107e-01  7.15083026e-01  6.99542365e-01\n",
      "  7.17052927e-01 -6.35389828e-02  7.24794491e-01  6.99542365e-01\n",
      "  7.52077436e-01  4.03746121e-01  5.86947971e-01  8.31900302e-01\n",
      "  4.40534051e-01 -6.35389828e-02  6.76722415e-01  8.05666227e-01\n",
      "  7.25939984e-01  1.00443958e-02  6.86040312e-01  8.37275724e-01\n",
      " -6.35389828e-02  7.15083026e-01  6.76722415e-01  8.45638440e-01\n",
      "  7.52077436e-01  4.03746121e-01  8.35700996e-01  4.90976533e-01\n",
      "  7.25939984e-01             nan  5.75435225e-01  8.47656200e-01\n",
      "  7.23631719e-01  7.17052927e-01  7.17052927e-01  4.90976533e-01\n",
      "  8.60501840e-01  8.38251448e-01  7.61487442e-01  8.19624053e-01\n",
      "             nan  4.40534051e-01  7.34625372e-01  5.86947971e-01\n",
      "  2.98096186e-01  7.17052927e-01  8.29018419e-01  1.00443958e-02\n",
      "  7.27192733e-01  6.94743765e-01  8.45638440e-01  7.87895746e-01\n",
      "  8.48584582e-01  8.57425652e-01  7.53516236e-01  4.03746121e-01\n",
      "  8.26790807e-01             nan -2.57869555e+16  8.59977076e-01\n",
      "  1.00443958e-02  6.49816740e-01  8.29018419e-01  4.92122342e-01\n",
      "  8.48584582e-01  2.98096186e-01 -2.91972662e+16  7.25939984e-01\n",
      "  8.30957572e-01  7.24323538e-01  8.29018419e-01             nan\n",
      "  5.95558156e-01  8.48621262e-01  8.59977076e-01  5.94798697e-01\n",
      "  8.35700996e-01  6.71275432e-01  7.87895746e-01  6.86040312e-01]\n",
      "  warnings.warn(\n"
     ]
    },
    {
     "data": {
      "text/plain": "RandomizedSearchCV(cv=5,\n                   estimator=Pipeline(steps=[('mlp',\n                                              MLPRegressor(random_state=42))]),\n                   n_iter=100, n_jobs=-1,\n                   param_distributions={'mlp__activation': ['identity', 'tanh',\n                                                            'relu'],\n                                        'mlp__alpha': [0.001, 0.01, 0.1],\n                                        'mlp__early_stopping': [True],\n                                        'mlp__hidden_layer_sizes': [(50, 100,\n                                                                     50)],\n                                        'mlp__learning_rate': ['constant',\n                                                               'adaptive'],\n                                        'mlp__learning_rate_init': [0.001, 0.01,\n                                                                    0.1],\n                                        'mlp__max_iter': [10000, 20000, 28000],\n                                        'mlp__solver': ['sgd', 'adam']},\n                   random_state=42, verbose=3)",
      "text/html": "<style>#sk-container-id-1 {color: black;}#sk-container-id-1 pre{padding: 0;}#sk-container-id-1 div.sk-toggleable {background-color: white;}#sk-container-id-1 label.sk-toggleable__label {cursor: pointer;display: block;width: 100%;margin-bottom: 0;padding: 0.3em;box-sizing: border-box;text-align: center;}#sk-container-id-1 label.sk-toggleable__label-arrow:before {content: \"▸\";float: left;margin-right: 0.25em;color: #696969;}#sk-container-id-1 label.sk-toggleable__label-arrow:hover:before {color: black;}#sk-container-id-1 div.sk-estimator:hover label.sk-toggleable__label-arrow:before {color: black;}#sk-container-id-1 div.sk-toggleable__content {max-height: 0;max-width: 0;overflow: hidden;text-align: left;background-color: #f0f8ff;}#sk-container-id-1 div.sk-toggleable__content pre {margin: 0.2em;color: black;border-radius: 0.25em;background-color: #f0f8ff;}#sk-container-id-1 input.sk-toggleable__control:checked~div.sk-toggleable__content {max-height: 200px;max-width: 100%;overflow: auto;}#sk-container-id-1 input.sk-toggleable__control:checked~label.sk-toggleable__label-arrow:before {content: \"▾\";}#sk-container-id-1 div.sk-estimator input.sk-toggleable__control:checked~label.sk-toggleable__label {background-color: #d4ebff;}#sk-container-id-1 div.sk-label input.sk-toggleable__control:checked~label.sk-toggleable__label {background-color: #d4ebff;}#sk-container-id-1 input.sk-hidden--visually {border: 0;clip: rect(1px 1px 1px 1px);clip: rect(1px, 1px, 1px, 1px);height: 1px;margin: -1px;overflow: hidden;padding: 0;position: absolute;width: 1px;}#sk-container-id-1 div.sk-estimator {font-family: monospace;background-color: #f0f8ff;border: 1px dotted black;border-radius: 0.25em;box-sizing: border-box;margin-bottom: 0.5em;}#sk-container-id-1 div.sk-estimator:hover {background-color: #d4ebff;}#sk-container-id-1 div.sk-parallel-item::after {content: \"\";width: 100%;border-bottom: 1px solid gray;flex-grow: 1;}#sk-container-id-1 div.sk-label:hover label.sk-toggleable__label {background-color: #d4ebff;}#sk-container-id-1 div.sk-serial::before {content: \"\";position: absolute;border-left: 1px solid gray;box-sizing: border-box;top: 0;bottom: 0;left: 50%;z-index: 0;}#sk-container-id-1 div.sk-serial {display: flex;flex-direction: column;align-items: center;background-color: white;padding-right: 0.2em;padding-left: 0.2em;position: relative;}#sk-container-id-1 div.sk-item {position: relative;z-index: 1;}#sk-container-id-1 div.sk-parallel {display: flex;align-items: stretch;justify-content: center;background-color: white;position: relative;}#sk-container-id-1 div.sk-item::before, #sk-container-id-1 div.sk-parallel-item::before {content: \"\";position: absolute;border-left: 1px solid gray;box-sizing: border-box;top: 0;bottom: 0;left: 50%;z-index: -1;}#sk-container-id-1 div.sk-parallel-item {display: flex;flex-direction: column;z-index: 1;position: relative;background-color: white;}#sk-container-id-1 div.sk-parallel-item:first-child::after {align-self: flex-end;width: 50%;}#sk-container-id-1 div.sk-parallel-item:last-child::after {align-self: flex-start;width: 50%;}#sk-container-id-1 div.sk-parallel-item:only-child::after {width: 0;}#sk-container-id-1 div.sk-dashed-wrapped {border: 1px dashed gray;margin: 0 0.4em 0.5em 0.4em;box-sizing: border-box;padding-bottom: 0.4em;background-color: white;}#sk-container-id-1 div.sk-label label {font-family: monospace;font-weight: bold;display: inline-block;line-height: 1.2em;}#sk-container-id-1 div.sk-label-container {text-align: center;}#sk-container-id-1 div.sk-container {/* jupyter's `normalize.less` sets `[hidden] { display: none; }` but bootstrap.min.css set `[hidden] { display: none !important; }` so we also need the `!important` here to be able to override the default hidden behavior on the sphinx rendered scikit-learn.org. See: https://github.com/scikit-learn/scikit-learn/issues/21755 */display: inline-block !important;position: relative;}#sk-container-id-1 div.sk-text-repr-fallback {display: none;}</style><div id=\"sk-container-id-1\" class=\"sk-top-container\"><div class=\"sk-text-repr-fallback\"><pre>RandomizedSearchCV(cv=5,\n                   estimator=Pipeline(steps=[(&#x27;mlp&#x27;,\n                                              MLPRegressor(random_state=42))]),\n                   n_iter=100, n_jobs=-1,\n                   param_distributions={&#x27;mlp__activation&#x27;: [&#x27;identity&#x27;, &#x27;tanh&#x27;,\n                                                            &#x27;relu&#x27;],\n                                        &#x27;mlp__alpha&#x27;: [0.001, 0.01, 0.1],\n                                        &#x27;mlp__early_stopping&#x27;: [True],\n                                        &#x27;mlp__hidden_layer_sizes&#x27;: [(50, 100,\n                                                                     50)],\n                                        &#x27;mlp__learning_rate&#x27;: [&#x27;constant&#x27;,\n                                                               &#x27;adaptive&#x27;],\n                                        &#x27;mlp__learning_rate_init&#x27;: [0.001, 0.01,\n                                                                    0.1],\n                                        &#x27;mlp__max_iter&#x27;: [10000, 20000, 28000],\n                                        &#x27;mlp__solver&#x27;: [&#x27;sgd&#x27;, &#x27;adam&#x27;]},\n                   random_state=42, verbose=3)</pre><b>In a Jupyter environment, please rerun this cell to show the HTML representation or trust the notebook. <br />On GitHub, the HTML representation is unable to render, please try loading this page with nbviewer.org.</b></div><div class=\"sk-container\" hidden><div class=\"sk-item sk-dashed-wrapped\"><div class=\"sk-label-container\"><div class=\"sk-label sk-toggleable\"><input class=\"sk-toggleable__control sk-hidden--visually\" id=\"sk-estimator-id-1\" type=\"checkbox\" ><label for=\"sk-estimator-id-1\" class=\"sk-toggleable__label sk-toggleable__label-arrow\">RandomizedSearchCV</label><div class=\"sk-toggleable__content\"><pre>RandomizedSearchCV(cv=5,\n                   estimator=Pipeline(steps=[(&#x27;mlp&#x27;,\n                                              MLPRegressor(random_state=42))]),\n                   n_iter=100, n_jobs=-1,\n                   param_distributions={&#x27;mlp__activation&#x27;: [&#x27;identity&#x27;, &#x27;tanh&#x27;,\n                                                            &#x27;relu&#x27;],\n                                        &#x27;mlp__alpha&#x27;: [0.001, 0.01, 0.1],\n                                        &#x27;mlp__early_stopping&#x27;: [True],\n                                        &#x27;mlp__hidden_layer_sizes&#x27;: [(50, 100,\n                                                                     50)],\n                                        &#x27;mlp__learning_rate&#x27;: [&#x27;constant&#x27;,\n                                                               &#x27;adaptive&#x27;],\n                                        &#x27;mlp__learning_rate_init&#x27;: [0.001, 0.01,\n                                                                    0.1],\n                                        &#x27;mlp__max_iter&#x27;: [10000, 20000, 28000],\n                                        &#x27;mlp__solver&#x27;: [&#x27;sgd&#x27;, &#x27;adam&#x27;]},\n                   random_state=42, verbose=3)</pre></div></div></div><div class=\"sk-parallel\"><div class=\"sk-parallel-item\"><div class=\"sk-item\"><div class=\"sk-label-container\"><div class=\"sk-label sk-toggleable\"><input class=\"sk-toggleable__control sk-hidden--visually\" id=\"sk-estimator-id-2\" type=\"checkbox\" ><label for=\"sk-estimator-id-2\" class=\"sk-toggleable__label sk-toggleable__label-arrow\">estimator: Pipeline</label><div class=\"sk-toggleable__content\"><pre>Pipeline(steps=[(&#x27;mlp&#x27;, MLPRegressor(random_state=42))])</pre></div></div></div><div class=\"sk-serial\"><div class=\"sk-item\"><div class=\"sk-serial\"><div class=\"sk-item\"><div class=\"sk-estimator sk-toggleable\"><input class=\"sk-toggleable__control sk-hidden--visually\" id=\"sk-estimator-id-3\" type=\"checkbox\" ><label for=\"sk-estimator-id-3\" class=\"sk-toggleable__label sk-toggleable__label-arrow\">MLPRegressor</label><div class=\"sk-toggleable__content\"><pre>MLPRegressor(random_state=42)</pre></div></div></div></div></div></div></div></div></div></div></div></div>"
     },
     "execution_count": 16,
     "metadata": {},
     "output_type": "execute_result"
    }
   ],
   "source": [
    "# Best parameters: {'mlp__solver': 'sgd', 'mlp__max_iter': 20000, 'mlp__learning_rate_init': 0.1, 'mlp__learning_rate': 'adaptive', 'mlp__hidden_layer_sizes': (50, 100, 50), 'mlp__early_stopping': True, 'mlp__alpha': 0.01, 'mlp__activation': 'relu'}\n",
    "param_grid = {\n",
    "    'mlp__hidden_layer_sizes': \n",
    "        [(50, 100, 50) # ,(100,), (64, 32, 64)],\n",
    "         ],\n",
    "    'mlp__activation': ['identity', 'tanh', 'relu'],\n",
    "    'mlp__solver': ['sgd', 'adam'],\n",
    "    'mlp__alpha': [0.001, 0.01, 0.1],\n",
    "    'mlp__max_iter': [10000, 20000, 28000],\n",
    "    'mlp__learning_rate': ['constant', 'adaptive'],\n",
    "    'mlp__learning_rate_init': [0.001, 0.01, 0.1],\n",
    "    'mlp__early_stopping': [True],\n",
    "}\n",
    "\n",
    "random_search = RandomizedSearchCV(pipeline, param_distributions=param_grid, cv=5, n_iter=100, n_jobs=-1, verbose=3, random_state=42)\n",
    "\n",
    "random_search.fit(X_scaled, y_scaled)"
   ],
   "metadata": {
    "collapsed": false,
    "ExecuteTime": {
     "end_time": "2024-03-20T11:19:32.528923Z",
     "start_time": "2024-03-20T11:13:12.752388Z"
    }
   },
   "id": "5c232eee49f1ced3",
   "execution_count": 16
  },
  {
   "cell_type": "code",
   "outputs": [
    {
     "name": "stdout",
     "output_type": "stream",
     "text": [
      "Best parameters: {'mlp__solver': 'sgd', 'mlp__max_iter': 20000, 'mlp__learning_rate_init': 0.1, 'mlp__learning_rate': 'adaptive', 'mlp__hidden_layer_sizes': (50, 100, 50), 'mlp__early_stopping': True, 'mlp__alpha': 0.01, 'mlp__activation': 'relu'}\n",
      "Best score: 0.860501840113874\n"
     ]
    }
   ],
   "source": [
    "print(f'Best parameters: {random_search.best_params_}')\n",
    "print(f'Best score: {random_search.best_score_}')"
   ],
   "metadata": {
    "collapsed": false,
    "ExecuteTime": {
     "end_time": "2024-03-20T11:19:32.544942Z",
     "start_time": "2024-03-20T11:19:32.529927Z"
    }
   },
   "id": "6cc24cd43c214947",
   "execution_count": 17
  },
  {
   "cell_type": "code",
   "outputs": [],
   "source": [
    "model = random_search.best_estimator_"
   ],
   "metadata": {
    "collapsed": false,
    "ExecuteTime": {
     "end_time": "2024-03-20T11:19:32.560926Z",
     "start_time": "2024-03-20T11:19:32.545924Z"
    }
   },
   "id": "e52d4e8a3d14bec4",
   "execution_count": 18
  },
  {
   "cell_type": "markdown",
   "source": [
    "## 5. Training the Model"
   ],
   "metadata": {
    "collapsed": false
   },
   "id": "63a44525cdb065d0"
  },
  {
   "cell_type": "code",
   "outputs": [
    {
     "data": {
      "text/plain": "Pipeline(steps=[('mlp',\n                 MLPRegressor(alpha=0.01, early_stopping=True,\n                              hidden_layer_sizes=(50, 100, 50),\n                              learning_rate='adaptive', learning_rate_init=0.1,\n                              max_iter=20000, random_state=42, solver='sgd'))])",
      "text/html": "<style>#sk-container-id-2 {color: black;}#sk-container-id-2 pre{padding: 0;}#sk-container-id-2 div.sk-toggleable {background-color: white;}#sk-container-id-2 label.sk-toggleable__label {cursor: pointer;display: block;width: 100%;margin-bottom: 0;padding: 0.3em;box-sizing: border-box;text-align: center;}#sk-container-id-2 label.sk-toggleable__label-arrow:before {content: \"▸\";float: left;margin-right: 0.25em;color: #696969;}#sk-container-id-2 label.sk-toggleable__label-arrow:hover:before {color: black;}#sk-container-id-2 div.sk-estimator:hover label.sk-toggleable__label-arrow:before {color: black;}#sk-container-id-2 div.sk-toggleable__content {max-height: 0;max-width: 0;overflow: hidden;text-align: left;background-color: #f0f8ff;}#sk-container-id-2 div.sk-toggleable__content pre {margin: 0.2em;color: black;border-radius: 0.25em;background-color: #f0f8ff;}#sk-container-id-2 input.sk-toggleable__control:checked~div.sk-toggleable__content {max-height: 200px;max-width: 100%;overflow: auto;}#sk-container-id-2 input.sk-toggleable__control:checked~label.sk-toggleable__label-arrow:before {content: \"▾\";}#sk-container-id-2 div.sk-estimator input.sk-toggleable__control:checked~label.sk-toggleable__label {background-color: #d4ebff;}#sk-container-id-2 div.sk-label input.sk-toggleable__control:checked~label.sk-toggleable__label {background-color: #d4ebff;}#sk-container-id-2 input.sk-hidden--visually {border: 0;clip: rect(1px 1px 1px 1px);clip: rect(1px, 1px, 1px, 1px);height: 1px;margin: -1px;overflow: hidden;padding: 0;position: absolute;width: 1px;}#sk-container-id-2 div.sk-estimator {font-family: monospace;background-color: #f0f8ff;border: 1px dotted black;border-radius: 0.25em;box-sizing: border-box;margin-bottom: 0.5em;}#sk-container-id-2 div.sk-estimator:hover {background-color: #d4ebff;}#sk-container-id-2 div.sk-parallel-item::after {content: \"\";width: 100%;border-bottom: 1px solid gray;flex-grow: 1;}#sk-container-id-2 div.sk-label:hover label.sk-toggleable__label {background-color: #d4ebff;}#sk-container-id-2 div.sk-serial::before {content: \"\";position: absolute;border-left: 1px solid gray;box-sizing: border-box;top: 0;bottom: 0;left: 50%;z-index: 0;}#sk-container-id-2 div.sk-serial {display: flex;flex-direction: column;align-items: center;background-color: white;padding-right: 0.2em;padding-left: 0.2em;position: relative;}#sk-container-id-2 div.sk-item {position: relative;z-index: 1;}#sk-container-id-2 div.sk-parallel {display: flex;align-items: stretch;justify-content: center;background-color: white;position: relative;}#sk-container-id-2 div.sk-item::before, #sk-container-id-2 div.sk-parallel-item::before {content: \"\";position: absolute;border-left: 1px solid gray;box-sizing: border-box;top: 0;bottom: 0;left: 50%;z-index: -1;}#sk-container-id-2 div.sk-parallel-item {display: flex;flex-direction: column;z-index: 1;position: relative;background-color: white;}#sk-container-id-2 div.sk-parallel-item:first-child::after {align-self: flex-end;width: 50%;}#sk-container-id-2 div.sk-parallel-item:last-child::after {align-self: flex-start;width: 50%;}#sk-container-id-2 div.sk-parallel-item:only-child::after {width: 0;}#sk-container-id-2 div.sk-dashed-wrapped {border: 1px dashed gray;margin: 0 0.4em 0.5em 0.4em;box-sizing: border-box;padding-bottom: 0.4em;background-color: white;}#sk-container-id-2 div.sk-label label {font-family: monospace;font-weight: bold;display: inline-block;line-height: 1.2em;}#sk-container-id-2 div.sk-label-container {text-align: center;}#sk-container-id-2 div.sk-container {/* jupyter's `normalize.less` sets `[hidden] { display: none; }` but bootstrap.min.css set `[hidden] { display: none !important; }` so we also need the `!important` here to be able to override the default hidden behavior on the sphinx rendered scikit-learn.org. See: https://github.com/scikit-learn/scikit-learn/issues/21755 */display: inline-block !important;position: relative;}#sk-container-id-2 div.sk-text-repr-fallback {display: none;}</style><div id=\"sk-container-id-2\" class=\"sk-top-container\"><div class=\"sk-text-repr-fallback\"><pre>Pipeline(steps=[(&#x27;mlp&#x27;,\n                 MLPRegressor(alpha=0.01, early_stopping=True,\n                              hidden_layer_sizes=(50, 100, 50),\n                              learning_rate=&#x27;adaptive&#x27;, learning_rate_init=0.1,\n                              max_iter=20000, random_state=42, solver=&#x27;sgd&#x27;))])</pre><b>In a Jupyter environment, please rerun this cell to show the HTML representation or trust the notebook. <br />On GitHub, the HTML representation is unable to render, please try loading this page with nbviewer.org.</b></div><div class=\"sk-container\" hidden><div class=\"sk-item sk-dashed-wrapped\"><div class=\"sk-label-container\"><div class=\"sk-label sk-toggleable\"><input class=\"sk-toggleable__control sk-hidden--visually\" id=\"sk-estimator-id-4\" type=\"checkbox\" ><label for=\"sk-estimator-id-4\" class=\"sk-toggleable__label sk-toggleable__label-arrow\">Pipeline</label><div class=\"sk-toggleable__content\"><pre>Pipeline(steps=[(&#x27;mlp&#x27;,\n                 MLPRegressor(alpha=0.01, early_stopping=True,\n                              hidden_layer_sizes=(50, 100, 50),\n                              learning_rate=&#x27;adaptive&#x27;, learning_rate_init=0.1,\n                              max_iter=20000, random_state=42, solver=&#x27;sgd&#x27;))])</pre></div></div></div><div class=\"sk-serial\"><div class=\"sk-item\"><div class=\"sk-estimator sk-toggleable\"><input class=\"sk-toggleable__control sk-hidden--visually\" id=\"sk-estimator-id-5\" type=\"checkbox\" ><label for=\"sk-estimator-id-5\" class=\"sk-toggleable__label sk-toggleable__label-arrow\">MLPRegressor</label><div class=\"sk-toggleable__content\"><pre>MLPRegressor(alpha=0.01, early_stopping=True, hidden_layer_sizes=(50, 100, 50),\n             learning_rate=&#x27;adaptive&#x27;, learning_rate_init=0.1, max_iter=20000,\n             random_state=42, solver=&#x27;sgd&#x27;)</pre></div></div></div></div></div></div></div>"
     },
     "execution_count": 19,
     "metadata": {},
     "output_type": "execute_result"
    }
   ],
   "source": [
    "model.fit(X_scaled, y_scaled)"
   ],
   "metadata": {
    "collapsed": false,
    "ExecuteTime": {
     "end_time": "2024-03-20T11:19:43.711579Z",
     "start_time": "2024-03-20T11:19:32.562926Z"
    }
   },
   "id": "7b6d9c96f863c23d",
   "execution_count": 19
  },
  {
   "cell_type": "markdown",
   "source": [
    "## 6. Make Predictions On Test Data"
   ],
   "metadata": {
    "collapsed": false
   },
   "id": "ae68f2dd8bbd3320"
  },
  {
   "cell_type": "code",
   "outputs": [],
   "source": [
    "import pandas as pd"
   ],
   "metadata": {
    "collapsed": false,
    "ExecuteTime": {
     "end_time": "2024-03-21T23:56:46.469871Z",
     "start_time": "2024-03-21T23:56:45.447101Z"
    }
   },
   "id": "19be1e6e990902fb",
   "execution_count": 1
  },
  {
   "cell_type": "code",
   "outputs": [],
   "source": [
    "X_test_8_a = pd.read_csv('../data-9-cams/red_ball_coordinates_128px_2024-03-19_15h33m.csv', decimal='.', delimiter=',')"
   ],
   "metadata": {
    "collapsed": false,
    "ExecuteTime": {
     "end_time": "2024-03-21T23:56:58.992916Z",
     "start_time": "2024-03-21T23:56:58.975912Z"
    }
   },
   "id": "b7374798627d060a",
   "execution_count": 4
  },
  {
   "cell_type": "code",
   "outputs": [
    {
     "data": {
      "text/plain": "((407, 18), (407, 3))"
     },
     "execution_count": 5,
     "metadata": {},
     "output_type": "execute_result"
    }
   ],
   "source": [
    "y_test_8_a = pd.read_csv('../data-9-cams/positions_xyz_2024-03-19_15h33m.csv', decimal='.', delimiter=',').iloc[:-4]\n",
    "(X_test_8_a.shape, y_test_8_a.shape)"
   ],
   "metadata": {
    "collapsed": false,
    "ExecuteTime": {
     "end_time": "2024-03-21T23:57:04.664051Z",
     "start_time": "2024-03-21T23:57:04.650099Z"
    }
   },
   "id": "6d0362544d51cd5b",
   "execution_count": 5
  },
  {
   "cell_type": "code",
   "outputs": [],
   "source": [
    "def prepare_and_scale_test_data(X_test_val, y_test_val, scaler_x_test):\n",
    "    combined_test = pd.concat([X_test_val, y_test_val], axis=1)\n",
    "    combined_test.dropna(inplace=True)\n",
    "    X_val = combined_test.iloc[:, :18]\n",
    "    y_val = combined_test.iloc[:, 18:]\n",
    "    X_scaled_test = scaler_x_test.transform(X_val)\n",
    "    return X_scaled_test, y_val"
   ],
   "metadata": {
    "collapsed": false,
    "ExecuteTime": {
     "end_time": "2024-03-20T11:19:43.775562Z",
     "start_time": "2024-03-20T11:19:43.761562Z"
    }
   },
   "id": "32e775e1370c5290",
   "execution_count": 23
  },
  {
   "cell_type": "code",
   "outputs": [],
   "source": [
    "def predict_evaluate_plot(X_test_val_scaled, y_test_val, nn_model, scaler_y_test, title='Trajectory of Ball in 3D Space'):\n",
    "    y_test_predicted_scaled = nn_model.predict(X_test_val_scaled)\n",
    "    y_test_pred = scaler_y_test.inverse_transform(y_test_predicted_scaled)\n",
    "    mse, mae, r2 = evaluate_model(y_test_val, y_test_pred, 'Test Data')\n",
    "    # change col 1 and 2 from place, so it corresponds to the unity 3d space\n",
    "    y_test_pred = y_test_pred[:, [0, 2, 1]]\n",
    "    y_test_val = y_test_val.to_numpy()[:, [0, 2, 1]]\n",
    "    plot_maker_3d(y_test_val, y_test_pred, title)\n",
    "    return y_test_pred, mse, mae, r2"
   ],
   "metadata": {
    "collapsed": false,
    "ExecuteTime": {
     "end_time": "2024-03-20T11:19:43.790563Z",
     "start_time": "2024-03-20T11:19:43.777561Z"
    }
   },
   "id": "ba950ddf6f53963c",
   "execution_count": 24
  },
  {
   "cell_type": "code",
   "outputs": [
    {
     "name": "stdout",
     "output_type": "stream",
     "text": [
      "Mean Squared Error on Test Data Set: 0.1621668560926619\n",
      "Mean Absolute Error on Test Data Set: 0.29209737540006403\n",
      "R2 Score on Test Data set: 0.8932002553493059\n"
     ]
    },
    {
     "data": {
      "text/plain": "<Figure size 640x480 with 1 Axes>",
      "image/png": "[encoded data removed]"
     },
     "metadata": {},
     "output_type": "display_data"
    }
   ],
   "source": [
    "X_test_8_scaled_a, y_test_8_a = prepare_and_scale_test_data(X_test_8_a, y_test_8_a, scaler_x)\n",
    "X_test_8_pred_a, mse_8_a, mae_8_a, r2_8_a = predict_evaluate_plot(X_test_8_scaled_a, y_test_8_a, model, scaler_y, title='Trajectory of Ball in 3D Space - 8-motion a')\n",
    "y_test_pred_8_a_scaled = model.predict(X_test_8_scaled_a)\n",
    "y_test_8_a_pred = scaler_y.inverse_transform(y_test_pred_8_a_scaled)"
   ],
   "metadata": {
    "collapsed": false,
    "ExecuteTime": {
     "end_time": "2024-03-20T11:30:29.549277Z",
     "start_time": "2024-03-20T11:30:29.439089Z"
    }
   },
   "id": "b5f51af3dfa2b1cc",
   "execution_count": 30
  }
 ],
 "metadata": {
  "kernelspec": {
   "display_name": "Python 3",
   "language": "python",
   "name": "python3"
  },
  "language_info": {
   "codemirror_mode": {
    "name": "ipython",
    "version": 2
   },
   "file_extension": ".py",
   "mimetype": "text/x-python",
   "name": "python",
   "nbconvert_exporter": "python",
   "pygments_lexer": "ipython2",
   "version": "2.7.6"
  }
 },
 "nbformat": 4,
 "nbformat_minor": 5
}
