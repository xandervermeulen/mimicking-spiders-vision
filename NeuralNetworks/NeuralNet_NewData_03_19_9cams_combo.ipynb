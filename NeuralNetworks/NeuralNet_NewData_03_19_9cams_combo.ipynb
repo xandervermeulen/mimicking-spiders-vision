{
 "cells": [
  {
   "cell_type": "markdown",
   "source": [],
   "metadata": {
    "collapsed": false
   },
   "id": "a3d73eacc324a4fd"
  },
  {
   "cell_type": "markdown",
   "source": [
    "# Training neural network to predict ball position in a 3d space\n",
    "## 1. Importing Libraries"
   ],
   "metadata": {
    "collapsed": false
   },
   "id": "d62d1f5b11dd788"
  },
  {
   "cell_type": "code",
   "execution_count": 51,
   "id": "initial_id",
   "metadata": {
    "collapsed": true,
    "ExecuteTime": {
     "end_time": "2024-03-20T10:39:23.982006Z",
     "start_time": "2024-03-20T10:39:23.964635Z"
    }
   },
   "outputs": [],
   "source": [
    "import pandas as pd\n",
    "from sklearn.preprocessing import MinMaxScaler\n",
    "from sklearn.neural_network import MLPRegressor\n",
    "from sklearn.model_selection import RandomizedSearchCV\n",
    "from sklearn.pipeline import Pipeline\n",
    "from utils.evaluate import evaluate_model\n",
    "from utils.plot_maker import plot_maker_3d"
   ]
  },
  {
   "cell_type": "markdown",
   "source": [
    "## 2. Importing Data"
   ],
   "metadata": {
    "collapsed": false
   },
   "id": "c343b126b221af5f"
  },
  {
   "cell_type": "code",
   "outputs": [],
   "source": [
    "# get all the red ball data\n",
    "X_rec1 = pd.read_csv('../data-9-cams/red_ball_coordinates_128px_2024-03-19_15h22m.csv', decimal='.', delimiter=',')\n",
    "X_rec2 = pd.read_csv('../data-9-cams/red_ball_coordinates_128px_2024-03-19_15h23m.csv', decimal='.', delimiter=',')\n",
    "X_rec3 = pd.read_csv('../data-9-cams/red_ball_coordinates_128px_2024-03-19_15h25m.csv', decimal='.', delimiter=',')\n",
    "X_rec4 = pd.read_csv('../data-9-cams/red_ball_coordinates_128px_2024-03-19_15h27m.csv', decimal='.', delimiter=',')\n",
    "X_rec5 = pd.read_csv('../data-9-cams/red_ball_coordinates_128px_2024-03-19_15h30m.csv', decimal='.', delimiter=',')\n",
    "X_rec6 = pd.read_csv('../data-9-cams/red_ball_coordinates_128px_2024-03-19_15h31m.csv', decimal='.', delimiter=',')"
   ],
   "metadata": {
    "collapsed": false,
    "ExecuteTime": {
     "end_time": "2024-03-20T10:39:24.045237Z",
     "start_time": "2024-03-20T10:39:24.029164Z"
    }
   },
   "id": "753e977b821642fe",
   "execution_count": 52
  },
  {
   "cell_type": "code",
   "outputs": [],
   "source": [
    "# get all the positions data\n",
    "y_rec1 = pd.read_csv('../data-9-cams/positions_xyz_2024-03-19_15h22m.csv', decimal='.', delimiter=',').iloc[:-2]\n",
    "y_rec2 = pd.read_csv('../data-9-cams/positions_xyz_2024-03-19_15h23m.csv', decimal='.', delimiter=',').iloc[:-2]\n",
    "y_rec3 = pd.read_csv('../data-9-cams/positions_xyz_2024-03-19_15h25m.csv', decimal='.', delimiter=',').iloc[:-2]\n",
    "y_rec4 = pd.read_csv('../data-9-cams/positions_xyz_2024-03-19_15h27m.csv', decimal='.', delimiter=',').iloc[:-2]\n",
    "y_rec5 = pd.read_csv('../data-9-cams/positions_xyz_2024-03-19_15h30m.csv', decimal='.', delimiter=',').iloc[:-2]\n",
    "y_rec6 = pd.read_csv('../data-9-cams/positions_xyz_2024-03-19_15h31m.csv', decimal='.', delimiter=',').iloc[:-2]"
   ],
   "metadata": {
    "collapsed": false,
    "ExecuteTime": {
     "end_time": "2024-03-20T10:39:24.061112Z",
     "start_time": "2024-03-20T10:39:24.046261Z"
    }
   },
   "id": "3d3a3a625875295d",
   "execution_count": 53
  },
  {
   "cell_type": "code",
   "outputs": [
    {
     "data": {
      "text/plain": "(((821, 18), (821, 3)),\n ((810, 18), (810, 3)),\n ((813, 18), (813, 3)),\n ((201, 18), (201, 3)),\n ((809, 18), (809, 3)),\n ((808, 18), (808, 3)))"
     },
     "execution_count": 54,
     "metadata": {},
     "output_type": "execute_result"
    }
   ],
   "source": [
    "(X_rec1.shape, y_rec1.shape), (X_rec2.shape, y_rec2.shape), (X_rec3.shape, y_rec3.shape), (X_rec4.shape, y_rec4.shape), (X_rec5.shape, y_rec5.shape), (X_rec6.shape, y_rec6.shape)"
   ],
   "metadata": {
    "collapsed": false,
    "ExecuteTime": {
     "end_time": "2024-03-20T10:39:24.076565Z",
     "start_time": "2024-03-20T10:39:24.062151Z"
    }
   },
   "id": "19fa72eac5e4d7a7",
   "execution_count": 54
  },
  {
   "cell_type": "code",
   "outputs": [
    {
     "name": "stdout",
     "output_type": "stream",
     "text": [
      "The amount of NaN in rec1: 1740\n",
      "The amount of NaN in rec2: 776\n",
      "The amount of NaN in rec3: 4\n",
      "The amount of NaN in rec4: 20\n",
      "The amount of NaN in rec5: 470\n",
      "The amount of NaN in rec6: 2\n"
     ]
    }
   ],
   "source": [
    "print(f\"The amount of NaN in rec1: {X_rec1.isna().sum().sum()}\")\n",
    "print(f\"The amount of NaN in rec2: {X_rec2.isna().sum().sum()}\")\n",
    "print(f\"The amount of NaN in rec3: {X_rec3.isna().sum().sum()}\")\n",
    "print(f\"The amount of NaN in rec4: {X_rec4.isna().sum().sum()}\")\n",
    "print(f\"The amount of NaN in rec5: {X_rec5.isna().sum().sum()}\")\n",
    "print(f\"The amount of NaN in rec6: {X_rec6.isna().sum().sum()}\")"
   ],
   "metadata": {
    "collapsed": false,
    "ExecuteTime": {
     "end_time": "2024-03-20T10:39:24.092011Z",
     "start_time": "2024-03-20T10:39:24.077568Z"
    }
   },
   "id": "86ff8341acb4b36d",
   "execution_count": 55
  },
  {
   "cell_type": "markdown",
   "source": [
    "Rec7 and Rec8 have too many NaNs"
   ],
   "metadata": {
    "collapsed": false
   },
   "id": "9415e08c048ca456"
  },
  {
   "cell_type": "markdown",
   "source": [
    "### 2.3 Combine all the datasets"
   ],
   "metadata": {
    "collapsed": false
   },
   "id": "4b75b022b8186f46"
  },
  {
   "cell_type": "code",
   "outputs": [],
   "source": [
    "X_train = pd.concat([X_rec1, X_rec2,X_rec3, X_rec4, X_rec5, X_rec6])\n",
    "y_train = pd.concat([y_rec1, y_rec2,y_rec3,y_rec4,y_rec5,y_rec6])\n",
    "X_train.reset_index(drop=True, inplace=True)\n",
    "y_train.reset_index(drop=True, inplace=True)"
   ],
   "metadata": {
    "collapsed": false,
    "ExecuteTime": {
     "end_time": "2024-03-20T10:39:24.108052Z",
     "start_time": "2024-03-20T10:39:24.094105Z"
    }
   },
   "id": "45402e756b5d92da",
   "execution_count": 56
  },
  {
   "cell_type": "code",
   "outputs": [
    {
     "data": {
      "text/plain": "u0    296\nv0    296\nu1     74\nv1     74\nu2    305\nv2    305\nu3     66\nv3     66\nu4    135\nv4    135\nu5    305\nv5    305\nu6    123\nv6    123\nu7    129\nv7    129\nu8     73\nv8     73\ndtype: int64"
     },
     "execution_count": 57,
     "metadata": {},
     "output_type": "execute_result"
    }
   ],
   "source": [
    "X_train.isna().sum()"
   ],
   "metadata": {
    "collapsed": false,
    "ExecuteTime": {
     "end_time": "2024-03-20T10:39:24.123929Z",
     "start_time": "2024-03-20T10:39:24.109087Z"
    }
   },
   "id": "3992285e7d8b0bf",
   "execution_count": 57
  },
  {
   "cell_type": "code",
   "outputs": [
    {
     "data": {
      "text/plain": "((4262, 18), (4262, 3))"
     },
     "execution_count": 58,
     "metadata": {},
     "output_type": "execute_result"
    }
   ],
   "source": [
    "X_train.shape, y_train.shape"
   ],
   "metadata": {
    "collapsed": false,
    "ExecuteTime": {
     "end_time": "2024-03-20T10:39:24.139791Z",
     "start_time": "2024-03-20T10:39:24.124998Z"
    }
   },
   "id": "ed7a120a3e7c90c1",
   "execution_count": 58
  },
  {
   "cell_type": "code",
   "outputs": [],
   "source": [
    "combined = pd.concat([X_train, y_train], axis=1)"
   ],
   "metadata": {
    "collapsed": false,
    "ExecuteTime": {
     "end_time": "2024-03-20T10:39:24.154976Z",
     "start_time": "2024-03-20T10:39:24.140863Z"
    }
   },
   "id": "77964f394f147651",
   "execution_count": 59
  },
  {
   "cell_type": "markdown",
   "source": [
    "## 3. Data Preprocessing"
   ],
   "metadata": {
    "collapsed": false
   },
   "id": "bc7a378fbd128144"
  },
  {
   "cell_type": "code",
   "outputs": [
    {
     "data": {
      "text/plain": "        u0    v0     u1    v1    u2    v2    u3    v3     u4    v4  ...    v5  \\\n0     42.0  53.0  104.5  52.5  42.0  66.0  84.0  67.0    NaN   NaN  ...  78.5   \n1     42.5  52.5  104.5  52.5  41.5  66.0  83.0  66.0    NaN   NaN  ...  78.5   \n2     40.5  52.5  102.5  51.0  40.0  65.0  83.5  65.5    NaN   NaN  ...  78.0   \n3     37.5  50.5  100.0  51.0   NaN   NaN   NaN   NaN  125.5  63.5  ...  77.0   \n4     34.0  51.0   96.5  50.5  35.0  64.5  77.0  65.5  124.0  64.0  ...  77.0   \n...    ...   ...    ...   ...   ...   ...   ...   ...    ...   ...  ...   ...   \n4257  14.0  41.0   77.5  43.5  14.0  55.0  58.0  57.0  101.5  55.5  ...  69.0   \n4258  15.5  42.0   78.0  43.0  15.0  56.0  59.0  56.0  102.0  56.0  ...  69.0   \n4259  16.0  42.0   80.0  44.0  16.0  56.0  60.0  57.0  104.0  56.0  ...  70.0   \n4260  17.0  43.0   80.0  44.5  17.0  57.0  62.0  58.0  105.0  57.0  ...  71.0   \n4261  18.0  44.0   82.0  46.0  18.0  58.0  62.0  59.0  105.5  58.5  ...  72.0   \n\n         u6    v6     u7    v7     u8    v8         x         y         z  \n0       NaN   NaN    NaN   NaN  105.5  79.5  2.947180  3.229958  23.52337  \n1       NaN   NaN    NaN   NaN  106.0  79.0  2.963082  3.358113  23.66638  \n2       NaN   NaN    NaN   NaN  103.0  78.5  3.105975  3.135756  23.47686  \n3     125.5  78.5  126.0  50.0   99.5  77.5  3.456995  3.061499  23.26819  \n4     122.0  79.0  122.0  50.0   97.0  77.0  3.947670  2.944803  23.34910  \n...     ...   ...    ...   ...    ...   ...       ...       ...       ...  \n4257  101.0  68.0  101.0  42.0   78.0  68.0  7.546328  1.569411  24.56239  \n4258  102.0  69.0  102.0  42.5   78.5  68.5  7.372911  1.581999  24.56596  \n4259  104.0  70.0  103.0  43.0   79.5  69.5  7.202659  1.641818  24.52438  \n4260  104.0  70.0  104.0  44.0   81.0  70.0  7.044904  1.746940  24.43953  \n4261  106.0  72.0  105.0  45.0   81.0  71.0  6.908397  1.893470  24.31525  \n\n[4262 rows x 21 columns]",
      "text/html": "<div>\n<style scoped>\n    .dataframe tbody tr th:only-of-type {\n        vertical-align: middle;\n    }\n\n    .dataframe tbody tr th {\n        vertical-align: top;\n    }\n\n    .dataframe thead th {\n        text-align: right;\n    }\n</style>\n<table border=\"1\" class=\"dataframe\">\n  <thead>\n    <tr style=\"text-align: right;\">\n      <th></th>\n      <th>u0</th>\n      <th>v0</th>\n      <th>u1</th>\n      <th>v1</th>\n      <th>u2</th>\n      <th>v2</th>\n      <th>u3</th>\n      <th>v3</th>\n      <th>u4</th>\n      <th>v4</th>\n      <th>...</th>\n      <th>v5</th>\n      <th>u6</th>\n      <th>v6</th>\n      <th>u7</th>\n      <th>v7</th>\n      <th>u8</th>\n      <th>v8</th>\n      <th>x</th>\n      <th>y</th>\n      <th>z</th>\n    </tr>\n  </thead>\n  <tbody>\n    <tr>\n      <th>0</th>\n      <td>42.0</td>\n      <td>53.0</td>\n      <td>104.5</td>\n      <td>52.5</td>\n      <td>42.0</td>\n      <td>66.0</td>\n      <td>84.0</td>\n      <td>67.0</td>\n      <td>NaN</td>\n      <td>NaN</td>\n      <td>...</td>\n      <td>78.5</td>\n      <td>NaN</td>\n      <td>NaN</td>\n      <td>NaN</td>\n      <td>NaN</td>\n      <td>105.5</td>\n      <td>79.5</td>\n      <td>2.947180</td>\n      <td>3.229958</td>\n      <td>23.52337</td>\n    </tr>\n    <tr>\n      <th>1</th>\n      <td>42.5</td>\n      <td>52.5</td>\n      <td>104.5</td>\n      <td>52.5</td>\n      <td>41.5</td>\n      <td>66.0</td>\n      <td>83.0</td>\n      <td>66.0</td>\n      <td>NaN</td>\n      <td>NaN</td>\n      <td>...</td>\n      <td>78.5</td>\n      <td>NaN</td>\n      <td>NaN</td>\n      <td>NaN</td>\n      <td>NaN</td>\n      <td>106.0</td>\n      <td>79.0</td>\n      <td>2.963082</td>\n      <td>3.358113</td>\n      <td>23.66638</td>\n    </tr>\n    <tr>\n      <th>2</th>\n      <td>40.5</td>\n      <td>52.5</td>\n      <td>102.5</td>\n      <td>51.0</td>\n      <td>40.0</td>\n      <td>65.0</td>\n      <td>83.5</td>\n      <td>65.5</td>\n      <td>NaN</td>\n      <td>NaN</td>\n      <td>...</td>\n      <td>78.0</td>\n      <td>NaN</td>\n      <td>NaN</td>\n      <td>NaN</td>\n      <td>NaN</td>\n      <td>103.0</td>\n      <td>78.5</td>\n      <td>3.105975</td>\n      <td>3.135756</td>\n      <td>23.47686</td>\n    </tr>\n    <tr>\n      <th>3</th>\n      <td>37.5</td>\n      <td>50.5</td>\n      <td>100.0</td>\n      <td>51.0</td>\n      <td>NaN</td>\n      <td>NaN</td>\n      <td>NaN</td>\n      <td>NaN</td>\n      <td>125.5</td>\n      <td>63.5</td>\n      <td>...</td>\n      <td>77.0</td>\n      <td>125.5</td>\n      <td>78.5</td>\n      <td>126.0</td>\n      <td>50.0</td>\n      <td>99.5</td>\n      <td>77.5</td>\n      <td>3.456995</td>\n      <td>3.061499</td>\n      <td>23.26819</td>\n    </tr>\n    <tr>\n      <th>4</th>\n      <td>34.0</td>\n      <td>51.0</td>\n      <td>96.5</td>\n      <td>50.5</td>\n      <td>35.0</td>\n      <td>64.5</td>\n      <td>77.0</td>\n      <td>65.5</td>\n      <td>124.0</td>\n      <td>64.0</td>\n      <td>...</td>\n      <td>77.0</td>\n      <td>122.0</td>\n      <td>79.0</td>\n      <td>122.0</td>\n      <td>50.0</td>\n      <td>97.0</td>\n      <td>77.0</td>\n      <td>3.947670</td>\n      <td>2.944803</td>\n      <td>23.34910</td>\n    </tr>\n    <tr>\n      <th>...</th>\n      <td>...</td>\n      <td>...</td>\n      <td>...</td>\n      <td>...</td>\n      <td>...</td>\n      <td>...</td>\n      <td>...</td>\n      <td>...</td>\n      <td>...</td>\n      <td>...</td>\n      <td>...</td>\n      <td>...</td>\n      <td>...</td>\n      <td>...</td>\n      <td>...</td>\n      <td>...</td>\n      <td>...</td>\n      <td>...</td>\n      <td>...</td>\n      <td>...</td>\n      <td>...</td>\n    </tr>\n    <tr>\n      <th>4257</th>\n      <td>14.0</td>\n      <td>41.0</td>\n      <td>77.5</td>\n      <td>43.5</td>\n      <td>14.0</td>\n      <td>55.0</td>\n      <td>58.0</td>\n      <td>57.0</td>\n      <td>101.5</td>\n      <td>55.5</td>\n      <td>...</td>\n      <td>69.0</td>\n      <td>101.0</td>\n      <td>68.0</td>\n      <td>101.0</td>\n      <td>42.0</td>\n      <td>78.0</td>\n      <td>68.0</td>\n      <td>7.546328</td>\n      <td>1.569411</td>\n      <td>24.56239</td>\n    </tr>\n    <tr>\n      <th>4258</th>\n      <td>15.5</td>\n      <td>42.0</td>\n      <td>78.0</td>\n      <td>43.0</td>\n      <td>15.0</td>\n      <td>56.0</td>\n      <td>59.0</td>\n      <td>56.0</td>\n      <td>102.0</td>\n      <td>56.0</td>\n      <td>...</td>\n      <td>69.0</td>\n      <td>102.0</td>\n      <td>69.0</td>\n      <td>102.0</td>\n      <td>42.5</td>\n      <td>78.5</td>\n      <td>68.5</td>\n      <td>7.372911</td>\n      <td>1.581999</td>\n      <td>24.56596</td>\n    </tr>\n    <tr>\n      <th>4259</th>\n      <td>16.0</td>\n      <td>42.0</td>\n      <td>80.0</td>\n      <td>44.0</td>\n      <td>16.0</td>\n      <td>56.0</td>\n      <td>60.0</td>\n      <td>57.0</td>\n      <td>104.0</td>\n      <td>56.0</td>\n      <td>...</td>\n      <td>70.0</td>\n      <td>104.0</td>\n      <td>70.0</td>\n      <td>103.0</td>\n      <td>43.0</td>\n      <td>79.5</td>\n      <td>69.5</td>\n      <td>7.202659</td>\n      <td>1.641818</td>\n      <td>24.52438</td>\n    </tr>\n    <tr>\n      <th>4260</th>\n      <td>17.0</td>\n      <td>43.0</td>\n      <td>80.0</td>\n      <td>44.5</td>\n      <td>17.0</td>\n      <td>57.0</td>\n      <td>62.0</td>\n      <td>58.0</td>\n      <td>105.0</td>\n      <td>57.0</td>\n      <td>...</td>\n      <td>71.0</td>\n      <td>104.0</td>\n      <td>70.0</td>\n      <td>104.0</td>\n      <td>44.0</td>\n      <td>81.0</td>\n      <td>70.0</td>\n      <td>7.044904</td>\n      <td>1.746940</td>\n      <td>24.43953</td>\n    </tr>\n    <tr>\n      <th>4261</th>\n      <td>18.0</td>\n      <td>44.0</td>\n      <td>82.0</td>\n      <td>46.0</td>\n      <td>18.0</td>\n      <td>58.0</td>\n      <td>62.0</td>\n      <td>59.0</td>\n      <td>105.5</td>\n      <td>58.5</td>\n      <td>...</td>\n      <td>72.0</td>\n      <td>106.0</td>\n      <td>72.0</td>\n      <td>105.0</td>\n      <td>45.0</td>\n      <td>81.0</td>\n      <td>71.0</td>\n      <td>6.908397</td>\n      <td>1.893470</td>\n      <td>24.31525</td>\n    </tr>\n  </tbody>\n</table>\n<p>4262 rows × 21 columns</p>\n</div>"
     },
     "execution_count": 60,
     "metadata": {},
     "output_type": "execute_result"
    }
   ],
   "source": [
    "combined"
   ],
   "metadata": {
    "collapsed": false,
    "ExecuteTime": {
     "end_time": "2024-03-20T10:39:24.185795Z",
     "start_time": "2024-03-20T10:39:24.155974Z"
    }
   },
   "id": "dd68962a94d8d3c9",
   "execution_count": 60
  },
  {
   "cell_type": "code",
   "outputs": [
    {
     "name": "stdout",
     "output_type": "stream",
     "text": [
      "The data has missing values: 3012\n",
      "The data has missing values: 0\n"
     ]
    }
   ],
   "source": [
    "# check for missing values\n",
    "print(f'The data has missing values: {combined.isnull().sum().sum()}')\n",
    "combined.dropna(inplace=True)\n",
    "print(f'The data has missing values: {combined.isnull().sum().sum()}')"
   ],
   "metadata": {
    "collapsed": false,
    "ExecuteTime": {
     "end_time": "2024-03-20T10:39:24.201704Z",
     "start_time": "2024-03-20T10:39:24.186822Z"
    }
   },
   "id": "29060cc2a3e655dc",
   "execution_count": 61
  },
  {
   "cell_type": "code",
   "outputs": [],
   "source": [
    "X = combined.iloc[:, :18]\n",
    "y = combined.iloc[:, 18:]\n"
   ],
   "metadata": {
    "collapsed": false,
    "ExecuteTime": {
     "end_time": "2024-03-20T10:39:24.217754Z",
     "start_time": "2024-03-20T10:39:24.202725Z"
    }
   },
   "id": "2c20e7b504dcfd9c",
   "execution_count": 62
  },
  {
   "cell_type": "code",
   "outputs": [
    {
     "data": {
      "text/plain": "((3872, 18), (3872, 3))"
     },
     "execution_count": 63,
     "metadata": {},
     "output_type": "execute_result"
    }
   ],
   "source": [
    "X.shape, y.shape"
   ],
   "metadata": {
    "collapsed": false,
    "ExecuteTime": {
     "end_time": "2024-03-20T10:39:24.233020Z",
     "start_time": "2024-03-20T10:39:24.219724Z"
    }
   },
   "id": "bd0bd6c7a731a8da",
   "execution_count": 63
  },
  {
   "cell_type": "code",
   "outputs": [],
   "source": [
    "# scale the data\n",
    "scaler_x = MinMaxScaler()\n",
    "scaler_y = MinMaxScaler()\n",
    "X_scaled = scaler_x.fit_transform(X)\n",
    "y_scaled = scaler_y.fit_transform(y)"
   ],
   "metadata": {
    "collapsed": false,
    "ExecuteTime": {
     "end_time": "2024-03-20T10:39:24.249051Z",
     "start_time": "2024-03-20T10:39:24.234045Z"
    }
   },
   "id": "898d1aebee1ee4a2",
   "execution_count": 64
  },
  {
   "cell_type": "markdown",
   "source": [
    "## 4. Hyperparameter Tuning"
   ],
   "metadata": {
    "collapsed": false
   },
   "id": "fad416068809969b"
  },
  {
   "cell_type": "code",
   "outputs": [],
   "source": [
    "# create a pipeline\n",
    "pipeline = Pipeline([\n",
    "    ('mlp', MLPRegressor(random_state=42))\n",
    "])"
   ],
   "metadata": {
    "collapsed": false,
    "ExecuteTime": {
     "end_time": "2024-03-20T10:39:24.264338Z",
     "start_time": "2024-03-20T10:39:24.250115Z"
    }
   },
   "id": "202ed5653fa8a79b",
   "execution_count": 65
  },
  {
   "cell_type": "code",
   "outputs": [],
   "source": [
    "# Best parameters: {'mlp__solver': 'adam', 'mlp__max_iter': 28000, 'mlp__learning_rate_init': 0.01, 'mlp__learning_rate': 'adaptive', 'mlp__hidden_layer_sizes': (50, 100, 50), 'mlp__early_stopping': True, 'mlp__alpha': 0.001, 'mlp__activation': 'relu'}\n",
    "model = MLPRegressor(random_state=42, max_iter=28000, learning_rate_init=0.01, learning_rate='adaptive', hidden_layer_sizes=(50, 100, 50), early_stopping=True, alpha=0.001, activation='relu')\n",
    "\n",
    "param_grid = {\n",
    "    'mlp__hidden_layer_sizes': \n",
    "        [(50, 100, 50) # ,(100,), (64, 32, 64)],\n",
    "         ],\n",
    "    'mlp__activation': ['identity', 'tanh', 'relu'],\n",
    "    'mlp__solver': ['sgd', 'adam'],\n",
    "    'mlp__alpha': [0.001, 0.01, 0.1],\n",
    "    'mlp__max_iter': [10000, 20000, 28000],\n",
    "    'mlp__learning_rate': ['constant', 'adaptive'],\n",
    "    'mlp__learning_rate_init': [0.001, 0.01, 0.1],\n",
    "    'mlp__early_stopping': [True],\n",
    "}\n",
    "\n",
    "random_search = RandomizedSearchCV(pipeline, param_distributions=param_grid, cv=5, n_iter=100, n_jobs=-1, verbose=3, random_state=42)\n",
    "\n",
    "#random_search.fit(X_scaled, y_scaled)"
   ],
   "metadata": {
    "collapsed": false,
    "ExecuteTime": {
     "end_time": "2024-03-20T10:39:24.280282Z",
     "start_time": "2024-03-20T10:39:24.265400Z"
    }
   },
   "id": "5c232eee49f1ced3",
   "execution_count": 66
  },
  {
   "cell_type": "code",
   "outputs": [],
   "source": [
    "#print(f'Best parameters: {random_search.best_params_}')\n",
    "#print(f'Best score: {random_search.best_score_}')"
   ],
   "metadata": {
    "collapsed": false,
    "ExecuteTime": {
     "end_time": "2024-03-20T10:39:24.296261Z",
     "start_time": "2024-03-20T10:39:24.281297Z"
    }
   },
   "id": "6cc24cd43c214947",
   "execution_count": 67
  },
  {
   "cell_type": "code",
   "outputs": [],
   "source": [
    "#model = random_search.best_estimator_"
   ],
   "metadata": {
    "collapsed": false,
    "ExecuteTime": {
     "end_time": "2024-03-20T10:39:24.312038Z",
     "start_time": "2024-03-20T10:39:24.297263Z"
    }
   },
   "id": "e52d4e8a3d14bec4",
   "execution_count": 68
  },
  {
   "cell_type": "markdown",
   "source": [
    "## 5. Training the Model"
   ],
   "metadata": {
    "collapsed": false
   },
   "id": "63a44525cdb065d0"
  },
  {
   "cell_type": "code",
   "outputs": [
    {
     "data": {
      "text/plain": "MLPRegressor(alpha=0.001, early_stopping=True, hidden_layer_sizes=(50, 100, 50),\n             learning_rate='adaptive', learning_rate_init=0.01, max_iter=28000,\n             random_state=42)",
      "text/html": "<style>#sk-container-id-3 {color: black;}#sk-container-id-3 pre{padding: 0;}#sk-container-id-3 div.sk-toggleable {background-color: white;}#sk-container-id-3 label.sk-toggleable__label {cursor: pointer;display: block;width: 100%;margin-bottom: 0;padding: 0.3em;box-sizing: border-box;text-align: center;}#sk-container-id-3 label.sk-toggleable__label-arrow:before {content: \"▸\";float: left;margin-right: 0.25em;color: #696969;}#sk-container-id-3 label.sk-toggleable__label-arrow:hover:before {color: black;}#sk-container-id-3 div.sk-estimator:hover label.sk-toggleable__label-arrow:before {color: black;}#sk-container-id-3 div.sk-toggleable__content {max-height: 0;max-width: 0;overflow: hidden;text-align: left;background-color: #f0f8ff;}#sk-container-id-3 div.sk-toggleable__content pre {margin: 0.2em;color: black;border-radius: 0.25em;background-color: #f0f8ff;}#sk-container-id-3 input.sk-toggleable__control:checked~div.sk-toggleable__content {max-height: 200px;max-width: 100%;overflow: auto;}#sk-container-id-3 input.sk-toggleable__control:checked~label.sk-toggleable__label-arrow:before {content: \"▾\";}#sk-container-id-3 div.sk-estimator input.sk-toggleable__control:checked~label.sk-toggleable__label {background-color: #d4ebff;}#sk-container-id-3 div.sk-label input.sk-toggleable__control:checked~label.sk-toggleable__label {background-color: #d4ebff;}#sk-container-id-3 input.sk-hidden--visually {border: 0;clip: rect(1px 1px 1px 1px);clip: rect(1px, 1px, 1px, 1px);height: 1px;margin: -1px;overflow: hidden;padding: 0;position: absolute;width: 1px;}#sk-container-id-3 div.sk-estimator {font-family: monospace;background-color: #f0f8ff;border: 1px dotted black;border-radius: 0.25em;box-sizing: border-box;margin-bottom: 0.5em;}#sk-container-id-3 div.sk-estimator:hover {background-color: #d4ebff;}#sk-container-id-3 div.sk-parallel-item::after {content: \"\";width: 100%;border-bottom: 1px solid gray;flex-grow: 1;}#sk-container-id-3 div.sk-label:hover label.sk-toggleable__label {background-color: #d4ebff;}#sk-container-id-3 div.sk-serial::before {content: \"\";position: absolute;border-left: 1px solid gray;box-sizing: border-box;top: 0;bottom: 0;left: 50%;z-index: 0;}#sk-container-id-3 div.sk-serial {display: flex;flex-direction: column;align-items: center;background-color: white;padding-right: 0.2em;padding-left: 0.2em;position: relative;}#sk-container-id-3 div.sk-item {position: relative;z-index: 1;}#sk-container-id-3 div.sk-parallel {display: flex;align-items: stretch;justify-content: center;background-color: white;position: relative;}#sk-container-id-3 div.sk-item::before, #sk-container-id-3 div.sk-parallel-item::before {content: \"\";position: absolute;border-left: 1px solid gray;box-sizing: border-box;top: 0;bottom: 0;left: 50%;z-index: -1;}#sk-container-id-3 div.sk-parallel-item {display: flex;flex-direction: column;z-index: 1;position: relative;background-color: white;}#sk-container-id-3 div.sk-parallel-item:first-child::after {align-self: flex-end;width: 50%;}#sk-container-id-3 div.sk-parallel-item:last-child::after {align-self: flex-start;width: 50%;}#sk-container-id-3 div.sk-parallel-item:only-child::after {width: 0;}#sk-container-id-3 div.sk-dashed-wrapped {border: 1px dashed gray;margin: 0 0.4em 0.5em 0.4em;box-sizing: border-box;padding-bottom: 0.4em;background-color: white;}#sk-container-id-3 div.sk-label label {font-family: monospace;font-weight: bold;display: inline-block;line-height: 1.2em;}#sk-container-id-3 div.sk-label-container {text-align: center;}#sk-container-id-3 div.sk-container {/* jupyter's `normalize.less` sets `[hidden] { display: none; }` but bootstrap.min.css set `[hidden] { display: none !important; }` so we also need the `!important` here to be able to override the default hidden behavior on the sphinx rendered scikit-learn.org. See: https://github.com/scikit-learn/scikit-learn/issues/21755 */display: inline-block !important;position: relative;}#sk-container-id-3 div.sk-text-repr-fallback {display: none;}</style><div id=\"sk-container-id-3\" class=\"sk-top-container\"><div class=\"sk-text-repr-fallback\"><pre>MLPRegressor(alpha=0.001, early_stopping=True, hidden_layer_sizes=(50, 100, 50),\n             learning_rate=&#x27;adaptive&#x27;, learning_rate_init=0.01, max_iter=28000,\n             random_state=42)</pre><b>In a Jupyter environment, please rerun this cell to show the HTML representation or trust the notebook. <br />On GitHub, the HTML representation is unable to render, please try loading this page with nbviewer.org.</b></div><div class=\"sk-container\" hidden><div class=\"sk-item\"><div class=\"sk-estimator sk-toggleable\"><input class=\"sk-toggleable__control sk-hidden--visually\" id=\"sk-estimator-id-3\" type=\"checkbox\" checked><label for=\"sk-estimator-id-3\" class=\"sk-toggleable__label sk-toggleable__label-arrow\">MLPRegressor</label><div class=\"sk-toggleable__content\"><pre>MLPRegressor(alpha=0.001, early_stopping=True, hidden_layer_sizes=(50, 100, 50),\n             learning_rate=&#x27;adaptive&#x27;, learning_rate_init=0.01, max_iter=28000,\n             random_state=42)</pre></div></div></div></div></div>"
     },
     "execution_count": 69,
     "metadata": {},
     "output_type": "execute_result"
    }
   ],
   "source": [
    "model.fit(X_scaled, y_scaled)"
   ],
   "metadata": {
    "collapsed": false,
    "ExecuteTime": {
     "end_time": "2024-03-20T10:39:26.555910Z",
     "start_time": "2024-03-20T10:39:24.313058Z"
    }
   },
   "id": "7b6d9c96f863c23d",
   "execution_count": 69
  },
  {
   "cell_type": "markdown",
   "source": [
    "## 6. Make Predictions On Test Data"
   ],
   "metadata": {
    "collapsed": false
   },
   "id": "ae68f2dd8bbd3320"
  },
  {
   "cell_type": "code",
   "outputs": [],
   "source": [
    "import pandas as pd"
   ],
   "metadata": {
    "collapsed": false,
    "ExecuteTime": {
     "end_time": "2024-03-20T10:39:26.571147Z",
     "start_time": "2024-03-20T10:39:26.556915Z"
    }
   },
   "id": "19be1e6e990902fb",
   "execution_count": 70
  },
  {
   "cell_type": "code",
   "outputs": [],
   "source": [
    "X_test_8_a = pd.read_csv('../data-9-cams/red_ball_coordinates_128px_2024-03-19_15h33m.csv', decimal='.', delimiter=',')"
   ],
   "metadata": {
    "collapsed": false,
    "ExecuteTime": {
     "end_time": "2024-03-20T10:39:26.587130Z",
     "start_time": "2024-03-20T10:39:26.572160Z"
    }
   },
   "id": "b7374798627d060a",
   "execution_count": 71
  },
  {
   "cell_type": "code",
   "outputs": [
    {
     "data": {
      "text/plain": "((407, 18), (407, 3))"
     },
     "execution_count": 72,
     "metadata": {},
     "output_type": "execute_result"
    }
   ],
   "source": [
    "y_test_8_a = pd.read_csv('../data-9-cams/positions_xyz_2024-03-19_15h33m.csv', decimal='.', delimiter=',').iloc[:-4]\n",
    "(X_test_8_a.shape, y_test_8_a.shape)"
   ],
   "metadata": {
    "collapsed": false,
    "ExecuteTime": {
     "end_time": "2024-03-20T10:39:26.602428Z",
     "start_time": "2024-03-20T10:39:26.588128Z"
    }
   },
   "id": "6d0362544d51cd5b",
   "execution_count": 72
  },
  {
   "cell_type": "code",
   "outputs": [],
   "source": [
    "def prepare_and_scale_test_data(X_test_val, y_test_val, scaler_x_test):\n",
    "    combined_test = pd.concat([X_test_val, y_test_val], axis=1)\n",
    "    combined_test.dropna(inplace=True)\n",
    "    X_val = combined_test.iloc[:, :18]\n",
    "    y_val = combined_test.iloc[:, 18:]\n",
    "    X_scaled_test = scaler_x_test.transform(X_val)\n",
    "    return X_scaled_test, y_val"
   ],
   "metadata": {
    "collapsed": false,
    "ExecuteTime": {
     "end_time": "2024-03-20T10:39:26.618339Z",
     "start_time": "2024-03-20T10:39:26.603563Z"
    }
   },
   "id": "32e775e1370c5290",
   "execution_count": 73
  },
  {
   "cell_type": "code",
   "outputs": [],
   "source": [
    "def predict_evaluate_plot(X_test_val_scaled, y_test_val, nn_model, scaler_y_test, title='Trajectory of Ball in 3D Space'):\n",
    "    y_test_predicted_scaled = nn_model.predict(X_test_val_scaled)\n",
    "    y_test_pred = scaler_y_test.inverse_transform(y_test_predicted_scaled)\n",
    "    mse, mae, r2 = evaluate_model(y_test_val, y_test_pred, 'Test Data')\n",
    "    # change col 1 and 2 from place, so it corresponds to the unity 3d space\n",
    "    y_test_pred = y_test_pred[:, [0, 2, 1]]\n",
    "    y_test_val = y_test_val.to_numpy()[:, [0, 2, 1]]\n",
    "    plot_maker_3d(y_test_val, y_test_pred, title)\n",
    "    return y_test_pred, mse, mae, r2"
   ],
   "metadata": {
    "collapsed": false,
    "ExecuteTime": {
     "end_time": "2024-03-20T10:39:26.633792Z",
     "start_time": "2024-03-20T10:39:26.620085Z"
    }
   },
   "id": "ba950ddf6f53963c",
   "execution_count": 74
  },
  {
   "cell_type": "code",
   "outputs": [
    {
     "name": "stdout",
     "output_type": "stream",
     "text": [
      "Mean Squared Error on Test Data Set: 0.16335705806359438\n",
      "Mean Absolute Error on Test Data Set: 0.2952015262473367\n",
      "R2 Score on Test Data set: 0.892673454476916\n"
     ]
    },
    {
     "data": {
      "text/plain": "<Figure size 640x480 with 1 Axes>",
      "image/png": "[encoded data removed]"
     },
     "metadata": {},
     "output_type": "display_data"
    }
   ],
   "source": [
    "X_test_8_scaled_a, y_test_8_a = prepare_and_scale_test_data(X_test_8_a, y_test_8_a, scaler_x)\n",
    "X_test_8_pred_a, mse_8_a, mae_8_a, r2_8_a = predict_evaluate_plot(X_test_8_scaled_a, y_test_8_a, model, scaler_y, title='Trajectory of Ball in 3D Space - 8-motion a')\n",
    "y_test_pred_8_a_scaled = model.predict(X_test_8_scaled_a)\n",
    "y_test_8_a_pred = scaler_y.inverse_transform(y_test_pred_8_a_scaled)"
   ],
   "metadata": {
    "collapsed": false,
    "ExecuteTime": {
     "end_time": "2024-03-20T10:41:05.866222Z",
     "start_time": "2024-03-20T10:41:05.752586Z"
    }
   },
   "id": "b5f51af3dfa2b1cc",
   "execution_count": 76
  }
 ],
 "metadata": {
  "kernelspec": {
   "display_name": "Python 3",
   "language": "python",
   "name": "python3"
  },
  "language_info": {
   "codemirror_mode": {
    "name": "ipython",
    "version": 2
   },
   "file_extension": ".py",
   "mimetype": "text/x-python",
   "name": "python",
   "nbconvert_exporter": "python",
   "pygments_lexer": "ipython2",
   "version": "2.7.6"
  }
 },
 "nbformat": 4,
 "nbformat_minor": 5
}
