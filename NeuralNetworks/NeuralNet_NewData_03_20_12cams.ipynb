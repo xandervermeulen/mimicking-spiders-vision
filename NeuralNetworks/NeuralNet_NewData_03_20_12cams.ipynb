{
 "cells": [
  {
   "cell_type": "markdown",
   "source": [],
   "metadata": {
    "collapsed": false
   },
   "id": "a3d73eacc324a4fd"
  },
  {
   "cell_type": "markdown",
   "source": [
    "# Training neural network to predict ball position in a 3d space\n",
    "## 1. Importing Libraries"
   ],
   "metadata": {
    "collapsed": false
   },
   "id": "d62d1f5b11dd788"
  },
  {
   "cell_type": "code",
   "execution_count": 205,
   "id": "initial_id",
   "metadata": {
    "collapsed": true,
    "ExecuteTime": {
     "end_time": "2024-03-20T10:53:15.920547Z",
     "start_time": "2024-03-20T10:53:15.902662Z"
    }
   },
   "outputs": [],
   "source": [
    "import pandas as pd\n",
    "from sklearn.preprocessing import MinMaxScaler\n",
    "from sklearn.neural_network import MLPRegressor\n",
    "from sklearn.model_selection import RandomizedSearchCV\n",
    "from sklearn.pipeline import Pipeline\n",
    "from utils.evaluate import evaluate_model\n",
    "from utils.plot_maker import plot_maker_3d"
   ]
  },
  {
   "cell_type": "markdown",
   "source": [
    "## 2. Importing Data"
   ],
   "metadata": {
    "collapsed": false
   },
   "id": "c343b126b221af5f"
  },
  {
   "cell_type": "code",
   "outputs": [],
   "source": [
    "# get all the red ball data\n",
    "X_rec1 = pd.read_csv('../data-12-cams/red_ball_coordinates_128px_2024-03-20_08h55m.csv', decimal='.', delimiter=',')\n",
    "X_rec2 = pd.read_csv('../data-12-cams/red_ball_coordinates_128px_2024-03-20_08h56m.csv', decimal='.', delimiter=',')\n",
    "X_rec3 = pd.read_csv('../data-12-cams/red_ball_coordinates_128px_2024-03-20_09h16m.csv', decimal='.', delimiter=',')\n",
    "X_rec4 = pd.read_csv('../data-12-cams/red_ball_coordinates_128px_2024-03-20_09h49m.csv', decimal='.', delimiter=',')\n",
    "X_rec5 = pd.read_csv('../data-12-cams/red_ball_coordinates_128px_2024-03-20_09h51m.csv', decimal='.', delimiter=',')\n",
    "X_rec6 = pd.read_csv('../data-12-cams/red_ball_coordinates_128px_2024-03-20_09h52m.csv', decimal='.', delimiter=',')\n",
    "X_rec7 = pd.read_csv('../data-12-cams/red_ball_coordinates_128px_2024-03-20_09h53m.csv', decimal='.', delimiter=',')\n",
    "X_rec8 = pd.read_csv('../data-12-cams/red_ball_coordinates_128px_2024-03-20_09h54m.csv', decimal='.', delimiter=',')\n",
    "X_rec9 = pd.read_csv('../data-12-cams/red_ball_coordinates_128px_2024-03-20_09h55m.csv', decimal='.', delimiter=',')\n",
    "X_rec10 = pd.read_csv('../data-12-cams/red_ball_coordinates_128px_2024-03-20_09h58m.csv', decimal='.', delimiter=',')\n",
    "X_rec_11 = pd.read_csv('../data-12-cams/red_ball_coordinates_128px_2024-03-20_09h59m.csv', decimal='.', delimiter=',')"
   ],
   "metadata": {
    "collapsed": false,
    "ExecuteTime": {
     "end_time": "2024-03-20T10:53:16.019170Z",
     "start_time": "2024-03-20T10:53:15.979828Z"
    }
   },
   "id": "753e977b821642fe",
   "execution_count": 206
  },
  {
   "cell_type": "code",
   "outputs": [],
   "source": [
    "# get all the positions data\n",
    "y_rec1 = pd.read_csv('../data-12-cams/positions_xyz_2024-03-20_08h55m.csv', decimal='.', delimiter=',').iloc[4:]\n",
    "y_rec2 = pd.read_csv('../data-12-cams/positions_xyz_2024-03-20_08h56m.csv', decimal='.', delimiter=',').iloc[4:]\n",
    "y_rec3 = pd.read_csv('../data-12-cams/positions_xyz_2024-03-20_09h16m.csv', decimal='.', delimiter=',').iloc[4:]\n",
    "y_rec4 = pd.read_csv('../data-12-cams/positions_xyz_2024-03-20_09h49m.csv', decimal='.', delimiter=',').iloc[4:]\n",
    "y_rec5 = pd.read_csv('../data-12-cams/positions_xyz_2024-03-20_09h51m.csv', decimal='.', delimiter=',').iloc[4:]\n",
    "y_rec6 = pd.read_csv('../data-12-cams/positions_xyz_2024-03-20_09h52m.csv', decimal='.', delimiter=',').iloc[4:]\n",
    "y_rec7 = pd.read_csv('../data-12-cams/positions_xyz_2024-03-20_09h53m.csv', decimal='.', delimiter=',').iloc[4:]\n",
    "y_rec8 = pd.read_csv('../data-12-cams/positions_xyz_2024-03-20_09h54m.csv', decimal='.', delimiter=',').iloc[4:]\n",
    "y_rec9 = pd.read_csv('../data-12-cams/positions_xyz_2024-03-20_09h55m.csv', decimal='.', delimiter=',').iloc[4:]\n",
    "y_rec10 = pd.read_csv('../data-12-cams/positions_xyz_2024-03-20_09h58m.csv', decimal='.', delimiter=',').iloc[4:]\n",
    "y_rec_11 = pd.read_csv('../data-12-cams/positions_xyz_2024-03-20_09h59m.csv', decimal='.', delimiter=',').iloc[4:]"
   ],
   "metadata": {
    "collapsed": false,
    "ExecuteTime": {
     "end_time": "2024-03-20T10:53:16.035100Z",
     "start_time": "2024-03-20T10:53:16.021250Z"
    }
   },
   "id": "3d3a3a625875295d",
   "execution_count": 207
  },
  {
   "cell_type": "code",
   "outputs": [
    {
     "data": {
      "text/plain": "(((979, 24), (979, 3)),\n ((999, 24), (999, 3)),\n ((999, 24), (999, 3)),\n ((1000, 24), (1000, 3)),\n ((1014, 24), (1014, 3)),\n ((1017, 24), (1017, 3)),\n ((1011, 24), (1011, 3)),\n ((1066, 24), (1066, 3)),\n ((1000, 24), (1000, 3)),\n ((1014, 24), (1014, 3)),\n ((1003, 24), (1003, 3)))"
     },
     "execution_count": 208,
     "metadata": {},
     "output_type": "execute_result"
    }
   ],
   "source": [
    "(X_rec1.shape, y_rec1.shape), (X_rec2.shape, y_rec2.shape), (X_rec3.shape, y_rec3.shape), (X_rec4.shape, y_rec4.shape), (X_rec5.shape, y_rec5.shape), (X_rec6.shape, y_rec6.shape), (X_rec7.shape, y_rec7.shape), (X_rec8.shape, y_rec8.shape), (X_rec9.shape, y_rec9.shape), (X_rec10.shape, y_rec10.shape), (X_rec_11.shape, y_rec_11.shape)"
   ],
   "metadata": {
    "collapsed": false,
    "ExecuteTime": {
     "end_time": "2024-03-20T10:53:16.051110Z",
     "start_time": "2024-03-20T10:53:16.036206Z"
    }
   },
   "id": "19fa72eac5e4d7a7",
   "execution_count": 208
  },
  {
   "cell_type": "code",
   "outputs": [
    {
     "name": "stdout",
     "output_type": "stream",
     "text": [
      "The amount of NaN in rec1: 0\n",
      "The amount of NaN in rec2: 10\n",
      "The amount of NaN in rec3: 2152\n",
      "The amount of NaN in rec4: 8\n",
      "The amount of NaN in rec5: 8320\n",
      "The amount of NaN in rec6: 8340\n",
      "The amount of NaN in rec7: 10\n",
      "The amount of NaN in rec8: 80\n",
      "The amount of NaN in rec9: 2\n",
      "The amount of NaN in rec10: 0\n",
      "The amount of NaN in rec11: 18\n"
     ]
    }
   ],
   "source": [
    "print(f\"The amount of NaN in rec1: {X_rec1.isna().sum().sum()}\")\n",
    "print(f\"The amount of NaN in rec2: {X_rec2.isna().sum().sum()}\")\n",
    "print(f\"The amount of NaN in rec3: {X_rec3.isna().sum().sum()}\")\n",
    "print(f\"The amount of NaN in rec4: {X_rec4.isna().sum().sum()}\")\n",
    "print(f\"The amount of NaN in rec5: {X_rec5.isna().sum().sum()}\")\n",
    "print(f\"The amount of NaN in rec6: {X_rec6.isna().sum().sum()}\")\n",
    "print(f\"The amount of NaN in rec7: {X_rec7.isna().sum().sum()}\")\n",
    "print(f\"The amount of NaN in rec8: {X_rec8.isna().sum().sum()}\")\n",
    "print(f\"The amount of NaN in rec9: {X_rec9.isna().sum().sum()}\")\n",
    "print(f\"The amount of NaN in rec10: {X_rec10.isna().sum().sum()}\")\n",
    "print(f\"The amount of NaN in rec11: {X_rec_11.isna().sum().sum()}\")"
   ],
   "metadata": {
    "collapsed": false,
    "ExecuteTime": {
     "end_time": "2024-03-20T10:53:16.066865Z",
     "start_time": "2024-03-20T10:53:16.053248Z"
    }
   },
   "id": "86ff8341acb4b36d",
   "execution_count": 209
  },
  {
   "cell_type": "markdown",
   "source": [
    "Interpolation did not work on rec 3,5,6 so i will just drop the rows that contain NaN values\n",
    "### 2.3 Combine all the datasets"
   ],
   "metadata": {
    "collapsed": false
   },
   "id": "4b75b022b8186f46"
  },
  {
   "cell_type": "code",
   "outputs": [],
   "source": [
    "from utils.interpolation import interpolate_dataframe\n",
    "\n",
    "X_rec1 = interpolate_dataframe(X_rec1)\n",
    "X_rec2 = interpolate_dataframe(X_rec2)\n",
    "X_rec3 = interpolate_dataframe(X_rec3)\n",
    "X_rec4 = interpolate_dataframe(X_rec4)\n",
    "X_rec5 = interpolate_dataframe(X_rec5)\n",
    "X_rec6 = interpolate_dataframe(X_rec6)\n",
    "X_rec7 = interpolate_dataframe(X_rec7)\n",
    "X_rec8 = interpolate_dataframe(X_rec8)\n",
    "X_rec9 = interpolate_dataframe(X_rec9)\n",
    "X_rec10 = interpolate_dataframe(X_rec10)\n",
    "X_rec_11 = interpolate_dataframe(X_rec_11)"
   ],
   "metadata": {
    "collapsed": false,
    "ExecuteTime": {
     "end_time": "2024-03-20T10:53:16.726733Z",
     "start_time": "2024-03-20T10:53:16.068972Z"
    }
   },
   "id": "790a441fe8099d3d",
   "execution_count": 210
  },
  {
   "cell_type": "code",
   "outputs": [],
   "source": [
    "X_train = pd.concat([X_rec1, X_rec2,X_rec3, X_rec4, X_rec5, X_rec6, X_rec7, X_rec8, X_rec9, X_rec10, X_rec_11])\n",
    "y_train = pd.concat([y_rec1, y_rec2, y_rec3, y_rec4, y_rec5, y_rec6, y_rec7, y_rec8, y_rec9, y_rec10, y_rec_11])\n",
    "X_train.reset_index(drop=True, inplace=True)\n",
    "y_train.reset_index(drop=True, inplace=True)"
   ],
   "metadata": {
    "collapsed": false,
    "ExecuteTime": {
     "end_time": "2024-03-20T10:53:16.741996Z",
     "start_time": "2024-03-20T10:53:16.728804Z"
    }
   },
   "id": "2d22c32eb8c1b4af",
   "execution_count": 211
  },
  {
   "cell_type": "code",
   "outputs": [
    {
     "data": {
      "text/plain": "((11102, 24), (11102, 3))"
     },
     "execution_count": 212,
     "metadata": {},
     "output_type": "execute_result"
    }
   ],
   "source": [
    "X_train.shape, y_train.shape"
   ],
   "metadata": {
    "collapsed": false,
    "ExecuteTime": {
     "end_time": "2024-03-20T10:53:16.758024Z",
     "start_time": "2024-03-20T10:53:16.743012Z"
    }
   },
   "id": "ed7a120a3e7c90c1",
   "execution_count": 212
  },
  {
   "cell_type": "code",
   "outputs": [],
   "source": [
    "combined = pd.concat([X_train, y_train], axis=1)"
   ],
   "metadata": {
    "collapsed": false,
    "ExecuteTime": {
     "end_time": "2024-03-20T10:53:16.774028Z",
     "start_time": "2024-03-20T10:53:16.759027Z"
    }
   },
   "id": "77964f394f147651",
   "execution_count": 213
  },
  {
   "cell_type": "markdown",
   "source": [
    "## 3. Data Preprocessing"
   ],
   "metadata": {
    "collapsed": false
   },
   "id": "bc7a378fbd128144"
  },
  {
   "cell_type": "code",
   "outputs": [
    {
     "data": {
      "text/plain": "         u0    v0    u1    v1     u2    v2    u3    v3    u4    v4  ...    v8  \\\n0      44.5  88.0  70.0  43.0   93.0  44.0  70.0  88.0  45.0  66.0  ...  88.0   \n1      44.5  88.0  69.5  43.5   93.0  44.0  70.0  88.0  44.5  66.0  ...  88.5   \n2      44.5  88.0  69.5  43.5   93.0  43.5  70.0  88.0  44.5  66.0  ...  88.5   \n3      44.5  88.0  69.5  43.5   92.5  43.5  70.0  88.0  44.5  66.0  ...  88.0   \n4      44.0  88.0  69.0  43.0   92.0  43.0  69.0  88.0  44.5  65.5  ...  88.0   \n...     ...   ...   ...   ...    ...   ...   ...   ...   ...   ...  ...   ...   \n11097  50.5  79.5  76.0  35.0  100.0  34.0  77.0  80.0  51.0  57.0  ...  79.0   \n11098  50.0  78.0  75.0  32.0   78.5  78.0  76.0  79.0  50.0  56.0  ...  78.0   \n11099  49.0  77.0  74.0  31.0   78.0  77.5  74.0  77.0  49.0  54.5  ...  77.0   \n11100  45.5  74.5  71.0  30.0   94.0  30.0  71.5  74.5  45.5  52.5  ...  75.0   \n11101  48.0  76.0  73.0  31.0   96.0  31.0  73.0  76.0  47.5  52.5  ...  76.0   \n\n         u9    v9   u10   v10   u11   v11         x         y         z  \n0      67.5  88.0  45.0  44.0  67.0  44.0  5.060879  3.275345  23.53188  \n1      67.5  88.0  45.0  44.0  67.5  43.5  5.121644  3.242697  23.49597  \n2      67.5  88.0  45.0  44.0  67.5  43.5  5.191598  3.212499  23.46275  \n3      67.0  88.0  44.0  44.0  66.0  43.0  5.270519  3.185183  23.43270  \n4      67.0  88.0  43.5  43.5  66.0  43.0  5.358130  3.161166  23.40628  \n...     ...   ...   ...   ...   ...   ...       ...       ...       ...  \n11097  74.0  79.5  50.0  34.0  73.0  34.0  4.709852  1.550914  20.71198  \n11098  73.0  79.0  49.0  33.0  72.5  32.0  4.832434  1.392934  20.95013  \n11099  71.0  77.0  48.0  32.0  71.0  31.0  4.965268  1.243471  21.29272  \n11100  69.0  75.0  46.0  30.0  68.0  30.0  5.107763  1.103189  21.72610  \n11101  70.0  76.0  47.0  31.0  69.5  30.5  6.907508  0.319022  26.48912  \n\n[11102 rows x 27 columns]",
      "text/html": "<div>\n<style scoped>\n    .dataframe tbody tr th:only-of-type {\n        vertical-align: middle;\n    }\n\n    .dataframe tbody tr th {\n        vertical-align: top;\n    }\n\n    .dataframe thead th {\n        text-align: right;\n    }\n</style>\n<table border=\"1\" class=\"dataframe\">\n  <thead>\n    <tr style=\"text-align: right;\">\n      <th></th>\n      <th>u0</th>\n      <th>v0</th>\n      <th>u1</th>\n      <th>v1</th>\n      <th>u2</th>\n      <th>v2</th>\n      <th>u3</th>\n      <th>v3</th>\n      <th>u4</th>\n      <th>v4</th>\n      <th>...</th>\n      <th>v8</th>\n      <th>u9</th>\n      <th>v9</th>\n      <th>u10</th>\n      <th>v10</th>\n      <th>u11</th>\n      <th>v11</th>\n      <th>x</th>\n      <th>y</th>\n      <th>z</th>\n    </tr>\n  </thead>\n  <tbody>\n    <tr>\n      <th>0</th>\n      <td>44.5</td>\n      <td>88.0</td>\n      <td>70.0</td>\n      <td>43.0</td>\n      <td>93.0</td>\n      <td>44.0</td>\n      <td>70.0</td>\n      <td>88.0</td>\n      <td>45.0</td>\n      <td>66.0</td>\n      <td>...</td>\n      <td>88.0</td>\n      <td>67.5</td>\n      <td>88.0</td>\n      <td>45.0</td>\n      <td>44.0</td>\n      <td>67.0</td>\n      <td>44.0</td>\n      <td>5.060879</td>\n      <td>3.275345</td>\n      <td>23.53188</td>\n    </tr>\n    <tr>\n      <th>1</th>\n      <td>44.5</td>\n      <td>88.0</td>\n      <td>69.5</td>\n      <td>43.5</td>\n      <td>93.0</td>\n      <td>44.0</td>\n      <td>70.0</td>\n      <td>88.0</td>\n      <td>44.5</td>\n      <td>66.0</td>\n      <td>...</td>\n      <td>88.5</td>\n      <td>67.5</td>\n      <td>88.0</td>\n      <td>45.0</td>\n      <td>44.0</td>\n      <td>67.5</td>\n      <td>43.5</td>\n      <td>5.121644</td>\n      <td>3.242697</td>\n      <td>23.49597</td>\n    </tr>\n    <tr>\n      <th>2</th>\n      <td>44.5</td>\n      <td>88.0</td>\n      <td>69.5</td>\n      <td>43.5</td>\n      <td>93.0</td>\n      <td>43.5</td>\n      <td>70.0</td>\n      <td>88.0</td>\n      <td>44.5</td>\n      <td>66.0</td>\n      <td>...</td>\n      <td>88.5</td>\n      <td>67.5</td>\n      <td>88.0</td>\n      <td>45.0</td>\n      <td>44.0</td>\n      <td>67.5</td>\n      <td>43.5</td>\n      <td>5.191598</td>\n      <td>3.212499</td>\n      <td>23.46275</td>\n    </tr>\n    <tr>\n      <th>3</th>\n      <td>44.5</td>\n      <td>88.0</td>\n      <td>69.5</td>\n      <td>43.5</td>\n      <td>92.5</td>\n      <td>43.5</td>\n      <td>70.0</td>\n      <td>88.0</td>\n      <td>44.5</td>\n      <td>66.0</td>\n      <td>...</td>\n      <td>88.0</td>\n      <td>67.0</td>\n      <td>88.0</td>\n      <td>44.0</td>\n      <td>44.0</td>\n      <td>66.0</td>\n      <td>43.0</td>\n      <td>5.270519</td>\n      <td>3.185183</td>\n      <td>23.43270</td>\n    </tr>\n    <tr>\n      <th>4</th>\n      <td>44.0</td>\n      <td>88.0</td>\n      <td>69.0</td>\n      <td>43.0</td>\n      <td>92.0</td>\n      <td>43.0</td>\n      <td>69.0</td>\n      <td>88.0</td>\n      <td>44.5</td>\n      <td>65.5</td>\n      <td>...</td>\n      <td>88.0</td>\n      <td>67.0</td>\n      <td>88.0</td>\n      <td>43.5</td>\n      <td>43.5</td>\n      <td>66.0</td>\n      <td>43.0</td>\n      <td>5.358130</td>\n      <td>3.161166</td>\n      <td>23.40628</td>\n    </tr>\n    <tr>\n      <th>...</th>\n      <td>...</td>\n      <td>...</td>\n      <td>...</td>\n      <td>...</td>\n      <td>...</td>\n      <td>...</td>\n      <td>...</td>\n      <td>...</td>\n      <td>...</td>\n      <td>...</td>\n      <td>...</td>\n      <td>...</td>\n      <td>...</td>\n      <td>...</td>\n      <td>...</td>\n      <td>...</td>\n      <td>...</td>\n      <td>...</td>\n      <td>...</td>\n      <td>...</td>\n      <td>...</td>\n    </tr>\n    <tr>\n      <th>11097</th>\n      <td>50.5</td>\n      <td>79.5</td>\n      <td>76.0</td>\n      <td>35.0</td>\n      <td>100.0</td>\n      <td>34.0</td>\n      <td>77.0</td>\n      <td>80.0</td>\n      <td>51.0</td>\n      <td>57.0</td>\n      <td>...</td>\n      <td>79.0</td>\n      <td>74.0</td>\n      <td>79.5</td>\n      <td>50.0</td>\n      <td>34.0</td>\n      <td>73.0</td>\n      <td>34.0</td>\n      <td>4.709852</td>\n      <td>1.550914</td>\n      <td>20.71198</td>\n    </tr>\n    <tr>\n      <th>11098</th>\n      <td>50.0</td>\n      <td>78.0</td>\n      <td>75.0</td>\n      <td>32.0</td>\n      <td>78.5</td>\n      <td>78.0</td>\n      <td>76.0</td>\n      <td>79.0</td>\n      <td>50.0</td>\n      <td>56.0</td>\n      <td>...</td>\n      <td>78.0</td>\n      <td>73.0</td>\n      <td>79.0</td>\n      <td>49.0</td>\n      <td>33.0</td>\n      <td>72.5</td>\n      <td>32.0</td>\n      <td>4.832434</td>\n      <td>1.392934</td>\n      <td>20.95013</td>\n    </tr>\n    <tr>\n      <th>11099</th>\n      <td>49.0</td>\n      <td>77.0</td>\n      <td>74.0</td>\n      <td>31.0</td>\n      <td>78.0</td>\n      <td>77.5</td>\n      <td>74.0</td>\n      <td>77.0</td>\n      <td>49.0</td>\n      <td>54.5</td>\n      <td>...</td>\n      <td>77.0</td>\n      <td>71.0</td>\n      <td>77.0</td>\n      <td>48.0</td>\n      <td>32.0</td>\n      <td>71.0</td>\n      <td>31.0</td>\n      <td>4.965268</td>\n      <td>1.243471</td>\n      <td>21.29272</td>\n    </tr>\n    <tr>\n      <th>11100</th>\n      <td>45.5</td>\n      <td>74.5</td>\n      <td>71.0</td>\n      <td>30.0</td>\n      <td>94.0</td>\n      <td>30.0</td>\n      <td>71.5</td>\n      <td>74.5</td>\n      <td>45.5</td>\n      <td>52.5</td>\n      <td>...</td>\n      <td>75.0</td>\n      <td>69.0</td>\n      <td>75.0</td>\n      <td>46.0</td>\n      <td>30.0</td>\n      <td>68.0</td>\n      <td>30.0</td>\n      <td>5.107763</td>\n      <td>1.103189</td>\n      <td>21.72610</td>\n    </tr>\n    <tr>\n      <th>11101</th>\n      <td>48.0</td>\n      <td>76.0</td>\n      <td>73.0</td>\n      <td>31.0</td>\n      <td>96.0</td>\n      <td>31.0</td>\n      <td>73.0</td>\n      <td>76.0</td>\n      <td>47.5</td>\n      <td>52.5</td>\n      <td>...</td>\n      <td>76.0</td>\n      <td>70.0</td>\n      <td>76.0</td>\n      <td>47.0</td>\n      <td>31.0</td>\n      <td>69.5</td>\n      <td>30.5</td>\n      <td>6.907508</td>\n      <td>0.319022</td>\n      <td>26.48912</td>\n    </tr>\n  </tbody>\n</table>\n<p>11102 rows × 27 columns</p>\n</div>"
     },
     "execution_count": 214,
     "metadata": {},
     "output_type": "execute_result"
    }
   ],
   "source": [
    "combined"
   ],
   "metadata": {
    "collapsed": false,
    "ExecuteTime": {
     "end_time": "2024-03-20T10:53:16.805817Z",
     "start_time": "2024-03-20T10:53:16.775028Z"
    }
   },
   "id": "dd68962a94d8d3c9",
   "execution_count": 214
  },
  {
   "cell_type": "code",
   "outputs": [
    {
     "name": "stdout",
     "output_type": "stream",
     "text": [
      "The data has missing values: 0\n",
      "The data has missing values: 0\n"
     ]
    }
   ],
   "source": [
    "# check for missing values\n",
    "print(f'The data has missing values: {combined.isna().sum().sum()}')\n",
    "# drop all rows that have more than 3 NaN values\n",
    "combined.dropna(inplace=True)\n",
    "print(f'The data has missing values: {combined.isna().sum().sum()}')"
   ],
   "metadata": {
    "collapsed": false,
    "ExecuteTime": {
     "end_time": "2024-03-20T10:53:16.821560Z",
     "start_time": "2024-03-20T10:53:16.806818Z"
    }
   },
   "id": "29060cc2a3e655dc",
   "execution_count": 215
  },
  {
   "cell_type": "code",
   "outputs": [],
   "source": [
    "X = combined.iloc[:, :24]\n",
    "y = combined.iloc[:, 24:]"
   ],
   "metadata": {
    "collapsed": false,
    "ExecuteTime": {
     "end_time": "2024-03-20T10:53:16.837299Z",
     "start_time": "2024-03-20T10:53:16.822669Z"
    }
   },
   "id": "2c20e7b504dcfd9c",
   "execution_count": 216
  },
  {
   "cell_type": "code",
   "outputs": [
    {
     "data": {
      "text/plain": "((11102, 24), (11102, 3))"
     },
     "execution_count": 217,
     "metadata": {},
     "output_type": "execute_result"
    }
   ],
   "source": [
    "X.shape, y.shape"
   ],
   "metadata": {
    "collapsed": false,
    "ExecuteTime": {
     "end_time": "2024-03-20T10:53:16.853075Z",
     "start_time": "2024-03-20T10:53:16.839411Z"
    }
   },
   "id": "bd0bd6c7a731a8da",
   "execution_count": 217
  },
  {
   "cell_type": "code",
   "outputs": [],
   "source": [
    "# scale the data\n",
    "scaler_x = MinMaxScaler()\n",
    "scaler_y = MinMaxScaler()\n",
    "X_scaled = scaler_x.fit_transform(X)\n",
    "y_scaled = scaler_y.fit_transform(y)"
   ],
   "metadata": {
    "collapsed": false,
    "ExecuteTime": {
     "end_time": "2024-03-20T10:53:16.868169Z",
     "start_time": "2024-03-20T10:53:16.854176Z"
    }
   },
   "id": "898d1aebee1ee4a2",
   "execution_count": 218
  },
  {
   "cell_type": "markdown",
   "source": [
    "## 4. Hyperparameter Tuning"
   ],
   "metadata": {
    "collapsed": false
   },
   "id": "fad416068809969b"
  },
  {
   "cell_type": "code",
   "outputs": [],
   "source": [
    "# create a pipeline\n",
    "pipeline = Pipeline([\n",
    "    ('mlp', MLPRegressor(random_state=42))\n",
    "])"
   ],
   "metadata": {
    "collapsed": false,
    "ExecuteTime": {
     "end_time": "2024-03-20T10:53:16.883909Z",
     "start_time": "2024-03-20T10:53:16.869173Z"
    }
   },
   "id": "202ed5653fa8a79b",
   "execution_count": 219
  },
  {
   "cell_type": "code",
   "outputs": [],
   "source": [
    "# Best parameters: {'mlp__solver': 'adam', 'mlp__max_iter': 28000, 'mlp__learning_rate_init': 0.01, 'mlp__learning_rate': 'adaptive', 'mlp__hidden_layer_sizes': (50, 100, 50), 'mlp__early_stopping': True, 'mlp__alpha': 0.001, 'mlp__activation': 'relu'}\n",
    "model = MLPRegressor(random_state=42, max_iter=28000, learning_rate_init=0.01, learning_rate='adaptive', hidden_layer_sizes=(50, 100, 50), early_stopping=True, alpha=0.001, activation='relu')\n",
    "\n",
    "param_grid = {\n",
    "    'mlp__hidden_layer_sizes': \n",
    "        [(50, 100, 50) # ,(100,), (64, 32, 64)],\n",
    "         ],\n",
    "    'mlp__activation': ['identity', 'tanh', 'relu'],\n",
    "    'mlp__solver': ['sgd', 'adam'],\n",
    "    'mlp__alpha': [0.001, 0.01, 0.1],\n",
    "    'mlp__max_iter': [10000, 20000, 28000],\n",
    "    'mlp__learning_rate': ['constant', 'adaptive'],\n",
    "    'mlp__learning_rate_init': [0.001, 0.01, 0.1],\n",
    "    'mlp__early_stopping': [True],\n",
    "}\n",
    "\n",
    "random_search = RandomizedSearchCV(pipeline, param_distributions=param_grid, cv=5, n_iter=100, n_jobs=-1, verbose=3, random_state=42)\n",
    "\n",
    "#random_search.fit(X_scaled, y_scaled)"
   ],
   "metadata": {
    "collapsed": false,
    "ExecuteTime": {
     "end_time": "2024-03-20T10:53:16.899638Z",
     "start_time": "2024-03-20T10:53:16.884928Z"
    }
   },
   "id": "5c232eee49f1ced3",
   "execution_count": 220
  },
  {
   "cell_type": "code",
   "outputs": [],
   "source": [
    "#print(f'Best parameters: {random_search.best_params_}')\n",
    "#print(f'Best score: {random_search.best_score_}')"
   ],
   "metadata": {
    "collapsed": false,
    "ExecuteTime": {
     "end_time": "2024-03-20T10:53:16.914838Z",
     "start_time": "2024-03-20T10:53:16.900692Z"
    }
   },
   "id": "6cc24cd43c214947",
   "execution_count": 221
  },
  {
   "cell_type": "code",
   "outputs": [],
   "source": [
    "#model = random_search.best_estimator_"
   ],
   "metadata": {
    "collapsed": false,
    "ExecuteTime": {
     "end_time": "2024-03-20T10:53:16.930780Z",
     "start_time": "2024-03-20T10:53:16.915864Z"
    }
   },
   "id": "e52d4e8a3d14bec4",
   "execution_count": 222
  },
  {
   "cell_type": "markdown",
   "source": [
    "## 5. Training the Model"
   ],
   "metadata": {
    "collapsed": false
   },
   "id": "63a44525cdb065d0"
  },
  {
   "cell_type": "code",
   "outputs": [
    {
     "data": {
      "text/plain": "MLPRegressor(alpha=0.001, early_stopping=True, hidden_layer_sizes=(50, 100, 50),\n             learning_rate='adaptive', learning_rate_init=0.01, max_iter=28000,\n             random_state=42)",
      "text/html": "<style>#sk-container-id-8 {color: black;}#sk-container-id-8 pre{padding: 0;}#sk-container-id-8 div.sk-toggleable {background-color: white;}#sk-container-id-8 label.sk-toggleable__label {cursor: pointer;display: block;width: 100%;margin-bottom: 0;padding: 0.3em;box-sizing: border-box;text-align: center;}#sk-container-id-8 label.sk-toggleable__label-arrow:before {content: \"▸\";float: left;margin-right: 0.25em;color: #696969;}#sk-container-id-8 label.sk-toggleable__label-arrow:hover:before {color: black;}#sk-container-id-8 div.sk-estimator:hover label.sk-toggleable__label-arrow:before {color: black;}#sk-container-id-8 div.sk-toggleable__content {max-height: 0;max-width: 0;overflow: hidden;text-align: left;background-color: #f0f8ff;}#sk-container-id-8 div.sk-toggleable__content pre {margin: 0.2em;color: black;border-radius: 0.25em;background-color: #f0f8ff;}#sk-container-id-8 input.sk-toggleable__control:checked~div.sk-toggleable__content {max-height: 200px;max-width: 100%;overflow: auto;}#sk-container-id-8 input.sk-toggleable__control:checked~label.sk-toggleable__label-arrow:before {content: \"▾\";}#sk-container-id-8 div.sk-estimator input.sk-toggleable__control:checked~label.sk-toggleable__label {background-color: #d4ebff;}#sk-container-id-8 div.sk-label input.sk-toggleable__control:checked~label.sk-toggleable__label {background-color: #d4ebff;}#sk-container-id-8 input.sk-hidden--visually {border: 0;clip: rect(1px 1px 1px 1px);clip: rect(1px, 1px, 1px, 1px);height: 1px;margin: -1px;overflow: hidden;padding: 0;position: absolute;width: 1px;}#sk-container-id-8 div.sk-estimator {font-family: monospace;background-color: #f0f8ff;border: 1px dotted black;border-radius: 0.25em;box-sizing: border-box;margin-bottom: 0.5em;}#sk-container-id-8 div.sk-estimator:hover {background-color: #d4ebff;}#sk-container-id-8 div.sk-parallel-item::after {content: \"\";width: 100%;border-bottom: 1px solid gray;flex-grow: 1;}#sk-container-id-8 div.sk-label:hover label.sk-toggleable__label {background-color: #d4ebff;}#sk-container-id-8 div.sk-serial::before {content: \"\";position: absolute;border-left: 1px solid gray;box-sizing: border-box;top: 0;bottom: 0;left: 50%;z-index: 0;}#sk-container-id-8 div.sk-serial {display: flex;flex-direction: column;align-items: center;background-color: white;padding-right: 0.2em;padding-left: 0.2em;position: relative;}#sk-container-id-8 div.sk-item {position: relative;z-index: 1;}#sk-container-id-8 div.sk-parallel {display: flex;align-items: stretch;justify-content: center;background-color: white;position: relative;}#sk-container-id-8 div.sk-item::before, #sk-container-id-8 div.sk-parallel-item::before {content: \"\";position: absolute;border-left: 1px solid gray;box-sizing: border-box;top: 0;bottom: 0;left: 50%;z-index: -1;}#sk-container-id-8 div.sk-parallel-item {display: flex;flex-direction: column;z-index: 1;position: relative;background-color: white;}#sk-container-id-8 div.sk-parallel-item:first-child::after {align-self: flex-end;width: 50%;}#sk-container-id-8 div.sk-parallel-item:last-child::after {align-self: flex-start;width: 50%;}#sk-container-id-8 div.sk-parallel-item:only-child::after {width: 0;}#sk-container-id-8 div.sk-dashed-wrapped {border: 1px dashed gray;margin: 0 0.4em 0.5em 0.4em;box-sizing: border-box;padding-bottom: 0.4em;background-color: white;}#sk-container-id-8 div.sk-label label {font-family: monospace;font-weight: bold;display: inline-block;line-height: 1.2em;}#sk-container-id-8 div.sk-label-container {text-align: center;}#sk-container-id-8 div.sk-container {/* jupyter's `normalize.less` sets `[hidden] { display: none; }` but bootstrap.min.css set `[hidden] { display: none !important; }` so we also need the `!important` here to be able to override the default hidden behavior on the sphinx rendered scikit-learn.org. See: https://github.com/scikit-learn/scikit-learn/issues/21755 */display: inline-block !important;position: relative;}#sk-container-id-8 div.sk-text-repr-fallback {display: none;}</style><div id=\"sk-container-id-8\" class=\"sk-top-container\"><div class=\"sk-text-repr-fallback\"><pre>MLPRegressor(alpha=0.001, early_stopping=True, hidden_layer_sizes=(50, 100, 50),\n             learning_rate=&#x27;adaptive&#x27;, learning_rate_init=0.01, max_iter=28000,\n             random_state=42)</pre><b>In a Jupyter environment, please rerun this cell to show the HTML representation or trust the notebook. <br />On GitHub, the HTML representation is unable to render, please try loading this page with nbviewer.org.</b></div><div class=\"sk-container\" hidden><div class=\"sk-item\"><div class=\"sk-estimator sk-toggleable\"><input class=\"sk-toggleable__control sk-hidden--visually\" id=\"sk-estimator-id-8\" type=\"checkbox\" checked><label for=\"sk-estimator-id-8\" class=\"sk-toggleable__label sk-toggleable__label-arrow\">MLPRegressor</label><div class=\"sk-toggleable__content\"><pre>MLPRegressor(alpha=0.001, early_stopping=True, hidden_layer_sizes=(50, 100, 50),\n             learning_rate=&#x27;adaptive&#x27;, learning_rate_init=0.01, max_iter=28000,\n             random_state=42)</pre></div></div></div></div></div>"
     },
     "execution_count": 223,
     "metadata": {},
     "output_type": "execute_result"
    }
   ],
   "source": [
    "model.fit(X_scaled, y_scaled)"
   ],
   "metadata": {
    "collapsed": false,
    "ExecuteTime": {
     "end_time": "2024-03-20T10:53:21.595223Z",
     "start_time": "2024-03-20T10:53:16.931891Z"
    }
   },
   "id": "7b6d9c96f863c23d",
   "execution_count": 223
  },
  {
   "cell_type": "markdown",
   "source": [
    "## 6. Make Predictions On Test Data"
   ],
   "metadata": {
    "collapsed": false
   },
   "id": "ae68f2dd8bbd3320"
  },
  {
   "cell_type": "code",
   "outputs": [],
   "source": [
    "import pandas as pd"
   ],
   "metadata": {
    "collapsed": false,
    "ExecuteTime": {
     "end_time": "2024-03-20T10:53:21.611092Z",
     "start_time": "2024-03-20T10:53:21.596260Z"
    }
   },
   "id": "19be1e6e990902fb",
   "execution_count": 224
  },
  {
   "cell_type": "code",
   "outputs": [],
   "source": [
    "X_test_8_a = pd.read_csv('../data-12-cams/red_ball_coordinates_128px_2024-03-20_08h51m.csv', decimal='.', delimiter=',')\n",
    "y_test_8_a = pd.read_csv('../data-12-cams/positions_xyz_2024-03-20_08h51m.csv', decimal='.', delimiter=',').iloc[4:]"
   ],
   "metadata": {
    "collapsed": false,
    "ExecuteTime": {
     "end_time": "2024-03-20T10:53:21.626253Z",
     "start_time": "2024-03-20T10:53:21.612144Z"
    }
   },
   "id": "b7374798627d060a",
   "execution_count": 225
  },
  {
   "cell_type": "markdown",
   "source": [],
   "metadata": {
    "collapsed": false
   },
   "id": "ab9a8bc6f7a3c78f"
  },
  {
   "cell_type": "code",
   "outputs": [
    {
     "data": {
      "text/plain": "((974, 24), (974, 3))"
     },
     "execution_count": 226,
     "metadata": {},
     "output_type": "execute_result"
    }
   ],
   "source": [
    "(X_test_8_a.shape, y_test_8_a.shape)"
   ],
   "metadata": {
    "collapsed": false,
    "ExecuteTime": {
     "end_time": "2024-03-20T10:53:21.641818Z",
     "start_time": "2024-03-20T10:53:21.628236Z"
    }
   },
   "id": "f9aa1f6a3b618a9d",
   "execution_count": 226
  },
  {
   "cell_type": "code",
   "outputs": [],
   "source": [],
   "metadata": {
    "collapsed": false,
    "ExecuteTime": {
     "end_time": "2024-03-20T10:53:21.657657Z",
     "start_time": "2024-03-20T10:53:21.642928Z"
    }
   },
   "id": "d63b8d33d8716859",
   "execution_count": 226
  },
  {
   "cell_type": "code",
   "outputs": [],
   "source": [
    "combo_test_a = pd.concat([X_test_8_a, y_test_8_a], axis=1)"
   ],
   "metadata": {
    "collapsed": false,
    "ExecuteTime": {
     "end_time": "2024-03-20T10:53:21.673611Z",
     "start_time": "2024-03-20T10:53:21.659750Z"
    }
   },
   "id": "e4cf7c57fc0625c7",
   "execution_count": 227
  },
  {
   "cell_type": "code",
   "outputs": [],
   "source": [
    "#combo_test_a.dropna(inplace=True, thresh=31)\n",
    "#combo_test_b.dropna(inplace=True, thresh=31)"
   ],
   "metadata": {
    "collapsed": false,
    "ExecuteTime": {
     "end_time": "2024-03-20T10:53:21.689640Z",
     "start_time": "2024-03-20T10:53:21.674624Z"
    }
   },
   "id": "cd2435903132c059",
   "execution_count": 228
  },
  {
   "cell_type": "code",
   "outputs": [],
   "source": [],
   "metadata": {
    "collapsed": false,
    "ExecuteTime": {
     "end_time": "2024-03-20T10:53:21.705243Z",
     "start_time": "2024-03-20T10:53:21.690627Z"
    }
   },
   "id": "36951c55eec51d30",
   "execution_count": 228
  },
  {
   "cell_type": "code",
   "outputs": [],
   "source": [
    "from utils.interpolation import interpolate_dataframe\n",
    "\n",
    "#X_test_8_a = interpolate_dataframe(X_test_8_a)"
   ],
   "metadata": {
    "collapsed": false,
    "ExecuteTime": {
     "end_time": "2024-03-20T10:53:21.721192Z",
     "start_time": "2024-03-20T10:53:21.706255Z"
    }
   },
   "id": "f903ac2544aa95ce",
   "execution_count": 229
  },
  {
   "cell_type": "code",
   "outputs": [
    {
     "data": {
      "text/plain": "((974, 24), (974, 3))"
     },
     "execution_count": 230,
     "metadata": {},
     "output_type": "execute_result"
    }
   ],
   "source": [
    "(X_test_8_a.shape, y_test_8_a.shape)"
   ],
   "metadata": {
    "collapsed": false,
    "ExecuteTime": {
     "end_time": "2024-03-20T10:53:21.737055Z",
     "start_time": "2024-03-20T10:53:21.722236Z"
    }
   },
   "id": "2fc174d7da985e2a",
   "execution_count": 230
  },
  {
   "cell_type": "code",
   "outputs": [],
   "source": [
    "def prepare_and_scale_test_data(X_test_val, y_test_val, scaler_x_test):\n",
    "    combined_test = pd.concat([X_test_val, y_test_val], axis=1)\n",
    "    combined_test.dropna(inplace=True)\n",
    "    X_val = combined_test.iloc[:, :24]\n",
    "    y_val = combined_test.iloc[:, 24:]\n",
    "    X_scaled_test = scaler_x_test.transform(X_val)\n",
    "    return X_scaled_test, y_val"
   ],
   "metadata": {
    "collapsed": false,
    "ExecuteTime": {
     "end_time": "2024-03-20T10:53:21.752717Z",
     "start_time": "2024-03-20T10:53:21.738068Z"
    }
   },
   "id": "32e775e1370c5290",
   "execution_count": 231
  },
  {
   "cell_type": "code",
   "outputs": [],
   "source": [
    "def predict_evaluate_plot(X_test_val_scaled, y_test_val, nn_model, scaler_y_test, title='Trajectory of Ball in 3D Space'):\n",
    "    y_test_predicted_scaled = nn_model.predict(X_test_val_scaled)\n",
    "    y_test_pred = scaler_y_test.inverse_transform(y_test_predicted_scaled)\n",
    "    mse, mae, r2 = evaluate_model(y_test_val, y_test_pred, 'Test Data')\n",
    "    # change col 1 and 2 from place, so it corresponds to the unity 3d space\n",
    "    y_test_pred = y_test_pred[:, [0, 2, 1]]\n",
    "    y_test_val = y_test_val.to_numpy()[:, [0, 2, 1]]\n",
    "    plot_maker_3d(y_test_val, y_test_pred, title)\n",
    "    return y_test_pred, mse, mae, r2"
   ],
   "metadata": {
    "collapsed": false,
    "ExecuteTime": {
     "end_time": "2024-03-20T10:53:21.768436Z",
     "start_time": "2024-03-20T10:53:21.753761Z"
    }
   },
   "id": "ba950ddf6f53963c",
   "execution_count": 232
  },
  {
   "cell_type": "code",
   "outputs": [
    {
     "data": {
      "text/plain": "(965, 24)"
     },
     "execution_count": 233,
     "metadata": {},
     "output_type": "execute_result"
    }
   ],
   "source": [
    "X_test_8_scaled_a, y_test_8_a = prepare_and_scale_test_data(X_test_8_a, y_test_8_a, scaler_x)\n",
    "X_test_8_scaled_a.shape"
   ],
   "metadata": {
    "collapsed": false,
    "ExecuteTime": {
     "end_time": "2024-03-20T10:53:21.784342Z",
     "start_time": "2024-03-20T10:53:21.770530Z"
    }
   },
   "id": "7d9ef9336d0ec8d7",
   "execution_count": 233
  },
  {
   "cell_type": "code",
   "outputs": [
    {
     "name": "stdout",
     "output_type": "stream",
     "text": [
      "Mean Squared Error on Test Data Set: 0.25688831436905013\n",
      "Mean Absolute Error on Test Data Set: 0.4180489782085712\n",
      "R2 Score on Test Data set: 0.8165548290904049\n"
     ]
    },
    {
     "data": {
      "text/plain": "<Figure size 640x480 with 1 Axes>",
      "image/png": "[encoded data removed]"
     },
     "metadata": {},
     "output_type": "display_data"
    }
   ],
   "source": [
    "X_test_8_pred_a, mse_8_a, mae_8_a, r2_8_a = predict_evaluate_plot(X_test_8_scaled_a, y_test_8_a, model, scaler_y, title='Trajectory of Ball in 3D Space - 8-motion a')"
   ],
   "metadata": {
    "collapsed": false,
    "ExecuteTime": {
     "end_time": "2024-03-20T10:53:21.907413Z",
     "start_time": "2024-03-20T10:53:21.785441Z"
    }
   },
   "id": "35d8a7690ba59ce6",
   "execution_count": 234
  }
 ],
 "metadata": {
  "kernelspec": {
   "display_name": "Python 3",
   "language": "python",
   "name": "python3"
  },
  "language_info": {
   "codemirror_mode": {
    "name": "ipython",
    "version": 2
   },
   "file_extension": ".py",
   "mimetype": "text/x-python",
   "name": "python",
   "nbconvert_exporter": "python",
   "pygments_lexer": "ipython2",
   "version": "2.7.6"
  }
 },
 "nbformat": 4,
 "nbformat_minor": 5
}
