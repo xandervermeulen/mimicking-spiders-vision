{
 "cells": [
  {
   "cell_type": "markdown",
   "source": [],
   "metadata": {
    "collapsed": false
   },
   "id": "a3d73eacc324a4fd"
  },
  {
   "cell_type": "markdown",
   "source": [
    "# Training neural network to predict ball position in a 3d space\n",
    "## 1. Importing Libraries"
   ],
   "metadata": {
    "collapsed": false
   },
   "id": "d62d1f5b11dd788"
  },
  {
   "cell_type": "code",
   "execution_count": 1,
   "id": "initial_id",
   "metadata": {
    "collapsed": true,
    "ExecuteTime": {
     "end_time": "2024-03-20T10:35:05.690740Z",
     "start_time": "2024-03-20T10:35:04.869518Z"
    }
   },
   "outputs": [],
   "source": [
    "import pandas as pd\n",
    "from sklearn.preprocessing import MinMaxScaler\n",
    "from sklearn.neural_network import MLPRegressor\n",
    "from sklearn.model_selection import RandomizedSearchCV\n",
    "from sklearn.pipeline import Pipeline\n",
    "from utils.evaluate import evaluate_model\n",
    "from utils.plot_maker import plot_maker_3d"
   ]
  },
  {
   "cell_type": "markdown",
   "source": [
    "## 2. Importing Data"
   ],
   "metadata": {
    "collapsed": false
   },
   "id": "c343b126b221af5f"
  },
  {
   "cell_type": "code",
   "outputs": [],
   "source": [
    "# get all the red ball data\n",
    "X_rec1 = pd.read_csv('../data-12-cams/red_ball_coordinates_128px_2024-03-20_08h55m.csv', decimal='.', delimiter=',')\n",
    "X_rec2 = pd.read_csv('../data-12-cams/red_ball_coordinates_128px_2024-03-20_08h56m.csv', decimal='.', delimiter=',')\n",
    "X_rec3 = pd.read_csv('../data-12-cams/red_ball_coordinates_128px_2024-03-20_09h16m.csv', decimal='.', delimiter=',')\n",
    "X_rec4 = pd.read_csv('../data-12-cams/red_ball_coordinates_128px_2024-03-20_09h49m.csv', decimal='.', delimiter=',')\n",
    "X_rec5 = pd.read_csv('../data-12-cams/red_ball_coordinates_128px_2024-03-20_09h51m.csv', decimal='.', delimiter=',')\n",
    "X_rec6 = pd.read_csv('../data-12-cams/red_ball_coordinates_128px_2024-03-20_09h52m.csv', decimal='.', delimiter=',')\n",
    "X_rec7 = pd.read_csv('../data-12-cams/red_ball_coordinates_128px_2024-03-20_09h53m.csv', decimal='.', delimiter=',')\n",
    "X_rec8 = pd.read_csv('../data-12-cams/red_ball_coordinates_128px_2024-03-20_09h54m.csv', decimal='.', delimiter=',')\n",
    "X_rec9 = pd.read_csv('../data-12-cams/red_ball_coordinates_128px_2024-03-20_09h55m.csv', decimal='.', delimiter=',')\n",
    "X_rec10 = pd.read_csv('../data-12-cams/red_ball_coordinates_128px_2024-03-20_09h58m.csv', decimal='.', delimiter=',')\n",
    "X_rec_11 = pd.read_csv('../data-12-cams/red_ball_coordinates_128px_2024-03-20_09h59m.csv', decimal='.', delimiter=',')"
   ],
   "metadata": {
    "collapsed": false,
    "ExecuteTime": {
     "end_time": "2024-03-20T10:35:05.722730Z",
     "start_time": "2024-03-20T10:35:05.691724Z"
    }
   },
   "id": "753e977b821642fe",
   "execution_count": 2
  },
  {
   "cell_type": "code",
   "outputs": [],
   "source": [
    "# get all the positions data\n",
    "y_rec1 = pd.read_csv('../data-12-cams/positions_xyz_2024-03-20_08h55m.csv', decimal='.', delimiter=',').iloc[4:]\n",
    "y_rec2 = pd.read_csv('../data-12-cams/positions_xyz_2024-03-20_08h56m.csv', decimal='.', delimiter=',').iloc[4:]\n",
    "y_rec3 = pd.read_csv('../data-12-cams/positions_xyz_2024-03-20_09h16m.csv', decimal='.', delimiter=',').iloc[4:]\n",
    "y_rec4 = pd.read_csv('../data-12-cams/positions_xyz_2024-03-20_09h49m.csv', decimal='.', delimiter=',').iloc[4:]\n",
    "y_rec5 = pd.read_csv('../data-12-cams/positions_xyz_2024-03-20_09h51m.csv', decimal='.', delimiter=',').iloc[4:]\n",
    "y_rec6 = pd.read_csv('../data-12-cams/positions_xyz_2024-03-20_09h52m.csv', decimal='.', delimiter=',').iloc[4:]\n",
    "y_rec7 = pd.read_csv('../data-12-cams/positions_xyz_2024-03-20_09h53m.csv', decimal='.', delimiter=',').iloc[4:]\n",
    "y_rec8 = pd.read_csv('../data-12-cams/positions_xyz_2024-03-20_09h54m.csv', decimal='.', delimiter=',').iloc[4:]\n",
    "y_rec9 = pd.read_csv('../data-12-cams/positions_xyz_2024-03-20_09h55m.csv', decimal='.', delimiter=',').iloc[4:]\n",
    "y_rec10 = pd.read_csv('../data-12-cams/positions_xyz_2024-03-20_09h58m.csv', decimal='.', delimiter=',').iloc[4:]\n",
    "y_rec_11 = pd.read_csv('../data-12-cams/positions_xyz_2024-03-20_09h59m.csv', decimal='.', delimiter=',').iloc[4:]"
   ],
   "metadata": {
    "collapsed": false,
    "ExecuteTime": {
     "end_time": "2024-03-20T10:35:05.738871Z",
     "start_time": "2024-03-20T10:35:05.723727Z"
    }
   },
   "id": "3d3a3a625875295d",
   "execution_count": 3
  },
  {
   "cell_type": "code",
   "outputs": [
    {
     "data": {
      "text/plain": "(((979, 24), (979, 3)),\n ((999, 24), (999, 3)),\n ((999, 24), (999, 3)),\n ((1000, 24), (1000, 3)),\n ((1014, 24), (1014, 3)),\n ((1017, 24), (1017, 3)),\n ((1011, 24), (1011, 3)),\n ((1066, 24), (1066, 3)),\n ((1000, 24), (1000, 3)),\n ((1014, 24), (1014, 3)),\n ((1003, 24), (1003, 3)))"
     },
     "execution_count": 4,
     "metadata": {},
     "output_type": "execute_result"
    }
   ],
   "source": [
    "(X_rec1.shape, y_rec1.shape), (X_rec2.shape, y_rec2.shape), (X_rec3.shape, y_rec3.shape), (X_rec4.shape, y_rec4.shape), (X_rec5.shape, y_rec5.shape), (X_rec6.shape, y_rec6.shape), (X_rec7.shape, y_rec7.shape), (X_rec8.shape, y_rec8.shape), (X_rec9.shape, y_rec9.shape), (X_rec10.shape, y_rec10.shape), (X_rec_11.shape, y_rec_11.shape)"
   ],
   "metadata": {
    "collapsed": false,
    "ExecuteTime": {
     "end_time": "2024-03-20T10:35:05.754852Z",
     "start_time": "2024-03-20T10:35:05.739851Z"
    }
   },
   "id": "19fa72eac5e4d7a7",
   "execution_count": 4
  },
  {
   "cell_type": "code",
   "outputs": [
    {
     "name": "stdout",
     "output_type": "stream",
     "text": [
      "The amount of NaN in rec1: 0\n",
      "The amount of NaN in rec2: 10\n",
      "The amount of NaN in rec3: 2152\n",
      "The amount of NaN in rec4: 8\n",
      "The amount of NaN in rec5: 8320\n",
      "The amount of NaN in rec6: 8340\n",
      "The amount of NaN in rec7: 10\n",
      "The amount of NaN in rec8: 80\n",
      "The amount of NaN in rec9: 2\n",
      "The amount of NaN in rec10: 0\n",
      "The amount of NaN in rec11: 18\n"
     ]
    }
   ],
   "source": [
    "print(f\"The amount of NaN in rec1: {X_rec1.isna().sum().sum()}\")\n",
    "print(f\"The amount of NaN in rec2: {X_rec2.isna().sum().sum()}\")\n",
    "print(f\"The amount of NaN in rec3: {X_rec3.isna().sum().sum()}\")\n",
    "print(f\"The amount of NaN in rec4: {X_rec4.isna().sum().sum()}\")\n",
    "print(f\"The amount of NaN in rec5: {X_rec5.isna().sum().sum()}\")\n",
    "print(f\"The amount of NaN in rec6: {X_rec6.isna().sum().sum()}\")\n",
    "print(f\"The amount of NaN in rec7: {X_rec7.isna().sum().sum()}\")\n",
    "print(f\"The amount of NaN in rec8: {X_rec8.isna().sum().sum()}\")\n",
    "print(f\"The amount of NaN in rec9: {X_rec9.isna().sum().sum()}\")\n",
    "print(f\"The amount of NaN in rec10: {X_rec10.isna().sum().sum()}\")\n",
    "print(f\"The amount of NaN in rec11: {X_rec_11.isna().sum().sum()}\")"
   ],
   "metadata": {
    "collapsed": false,
    "ExecuteTime": {
     "end_time": "2024-03-20T10:35:05.770853Z",
     "start_time": "2024-03-20T10:35:05.756853Z"
    }
   },
   "id": "86ff8341acb4b36d",
   "execution_count": 5
  },
  {
   "cell_type": "markdown",
   "source": [
    "### 2.3 Combine all the datasets"
   ],
   "metadata": {
    "collapsed": false
   },
   "id": "4b75b022b8186f46"
  },
  {
   "cell_type": "code",
   "outputs": [
    {
     "data": {
      "text/plain": "u0     129\nv0     129\nu1       0\nv1       0\nu2       0\nv2       0\nu3     130\nv3     130\nu4     132\nv4     132\nu5     129\nv5     129\nu6     130\nv6     130\nu7     133\nv7     133\nu8     128\nv8     128\nu9     133\nv9     133\nu10     32\nv10     32\nu11      0\nv11      0\ndtype: int64"
     },
     "execution_count": 6,
     "metadata": {},
     "output_type": "execute_result"
    }
   ],
   "source": [
    "X_rec3.isna().sum()"
   ],
   "metadata": {
    "collapsed": false,
    "ExecuteTime": {
     "end_time": "2024-03-20T10:35:05.786853Z",
     "start_time": "2024-03-20T10:35:05.771855Z"
    }
   },
   "id": "2d22c32eb8c1b4af",
   "execution_count": 6
  },
  {
   "cell_type": "code",
   "outputs": [
    {
     "ename": "NameError",
     "evalue": "name 'combo_1' is not defined",
     "output_type": "error",
     "traceback": [
      "\u001B[1;31m---------------------------------------------------------------------------\u001B[0m",
      "\u001B[1;31mNameError\u001B[0m                                 Traceback (most recent call last)",
      "Cell \u001B[1;32mIn[7], line 1\u001B[0m\n\u001B[1;32m----> 1\u001B[0m \u001B[43mcombo_1\u001B[49m\u001B[38;5;241m.\u001B[39mdropna(inplace\u001B[38;5;241m=\u001B[39m\u001B[38;5;28;01mTrue\u001B[39;00m, thresh\u001B[38;5;241m=\u001B[39m\u001B[38;5;241m31\u001B[39m)\n\u001B[0;32m      2\u001B[0m combo_2\u001B[38;5;241m.\u001B[39mdropna(inplace\u001B[38;5;241m=\u001B[39m\u001B[38;5;28;01mTrue\u001B[39;00m, thresh\u001B[38;5;241m=\u001B[39m\u001B[38;5;241m31\u001B[39m)\n\u001B[0;32m      3\u001B[0m combo_3\u001B[38;5;241m.\u001B[39mdropna(inplace\u001B[38;5;241m=\u001B[39m\u001B[38;5;28;01mTrue\u001B[39;00m, thresh\u001B[38;5;241m=\u001B[39m\u001B[38;5;241m31\u001B[39m)\n",
      "\u001B[1;31mNameError\u001B[0m: name 'combo_1' is not defined"
     ]
    }
   ],
   "source": [
    "combo_1.dropna(inplace=True, thresh=31)\n",
    "combo_2.dropna(inplace=True, thresh=31)\n",
    "combo_3.dropna(inplace=True, thresh=31)\n",
    "combo_4.dropna(inplace=True, thresh=31)\n",
    "combo_5.dropna(inplace=True, thresh=31)\n",
    "combo_6.dropna(inplace=True, thresh=31)\n",
    "combo_7.dropna(inplace=True, thresh=31)\n",
    "combo_8.dropna(inplace=True, thresh=31)\n",
    "combo_9.dropna(inplace=True, thresh=31)\n",
    "combo_10.dropna(inplace=True, thresh=31)"
   ],
   "metadata": {
    "collapsed": false,
    "ExecuteTime": {
     "end_time": "2024-03-20T10:35:06.039531Z",
     "start_time": "2024-03-20T10:35:05.787854Z"
    }
   },
   "id": "f9999034b54a1e4d",
   "execution_count": 7
  },
  {
   "cell_type": "code",
   "outputs": [],
   "source": [
    "def splitup(combined_df):\n",
    "    X_df = combined_df.iloc[:, :14]\n",
    "    y_df = combined_df.iloc[:, 14:]\n",
    "    return X_df, y_df\n",
    "\n",
    "X_rec1, y_rec1 = splitup(combo_1)\n",
    "X_rec2, y_rec2 = splitup(combo_2)\n",
    "X_rec3, y_rec3 = splitup(combo_3)\n",
    "X_rec4, y_rec4 = splitup(combo_4)\n",
    "X_rec5, y_rec5 = splitup(combo_5)\n",
    "X_rec6, y_rec6 = splitup(combo_6)\n",
    "X_rec7, y_rec7 = splitup(combo_7)\n",
    "X_rec8, y_rec8 = splitup(combo_8)\n",
    "X_rec9, y_rec9 = splitup(combo_9)\n",
    "X_rec10, y_rec10 = splitup(combo_10)"
   ],
   "metadata": {
    "collapsed": false,
    "ExecuteTime": {
     "start_time": "2024-03-20T10:35:06.040530Z"
    }
   },
   "id": "5184f5ff9e0a58a0",
   "execution_count": null
  },
  {
   "cell_type": "code",
   "outputs": [],
   "source": [
    "from utils.interpolation import interpolate_dataframe\n",
    "\n",
    "X_rec1 = interpolate_dataframe(X_rec1)\n",
    "X_rec2 = interpolate_dataframe(X_rec2)\n",
    "X_rec3 = interpolate_dataframe(X_rec3)\n",
    "X_rec4 = interpolate_dataframe(X_rec4)\n",
    "X_rec5 = interpolate_dataframe(X_rec5)\n",
    "X_rec6 = interpolate_dataframe(X_rec6)\n",
    "X_rec7 = interpolate_dataframe(X_rec7)\n",
    "X_rec8 = interpolate_dataframe(X_rec8)\n",
    "X_rec9 = interpolate_dataframe(X_rec9)\n",
    "X_rec10 = interpolate_dataframe(X_rec10)"
   ],
   "metadata": {
    "collapsed": false,
    "ExecuteTime": {
     "start_time": "2024-03-20T10:35:06.041531Z"
    }
   },
   "id": "d615aae67609380",
   "execution_count": null
  },
  {
   "cell_type": "code",
   "outputs": [],
   "source": [
    "X_train = pd.concat([X_rec1, X_rec2, X_rec3, X_rec4, X_rec5, X_rec6, X_rec7, X_rec8, X_rec9, X_rec10])\n",
    "y_train = pd.concat([y_rec1, y_rec2, y_rec3, y_rec4, y_rec5, y_rec6, y_rec7, y_rec8, y_rec9, y_rec10])\n",
    "X_train.reset_index(drop=True, inplace=True)\n",
    "y_train.reset_index(drop=True, inplace=True)"
   ],
   "metadata": {
    "collapsed": false,
    "ExecuteTime": {
     "start_time": "2024-03-20T10:35:06.041531Z"
    }
   },
   "id": "45402e756b5d92da",
   "execution_count": null
  },
  {
   "cell_type": "code",
   "outputs": [],
   "source": [
    "X_train.isna().sum()"
   ],
   "metadata": {
    "collapsed": false,
    "ExecuteTime": {
     "start_time": "2024-03-20T10:35:06.043530Z"
    }
   },
   "id": "3992285e7d8b0bf",
   "execution_count": null
  },
  {
   "cell_type": "code",
   "outputs": [],
   "source": [
    "X_train.shape, y_train.shape"
   ],
   "metadata": {
    "collapsed": false,
    "ExecuteTime": {
     "start_time": "2024-03-20T10:35:06.043530Z"
    }
   },
   "id": "ed7a120a3e7c90c1",
   "execution_count": null
  },
  {
   "cell_type": "code",
   "outputs": [],
   "source": [
    "combined = pd.concat([X_train, y_train], axis=1)"
   ],
   "metadata": {
    "collapsed": false,
    "ExecuteTime": {
     "start_time": "2024-03-20T10:35:06.044532Z"
    }
   },
   "id": "77964f394f147651",
   "execution_count": null
  },
  {
   "cell_type": "markdown",
   "source": [
    "## 3. Data Preprocessing"
   ],
   "metadata": {
    "collapsed": false
   },
   "id": "bc7a378fbd128144"
  },
  {
   "cell_type": "code",
   "outputs": [],
   "source": [
    "combined"
   ],
   "metadata": {
    "collapsed": false,
    "ExecuteTime": {
     "start_time": "2024-03-20T10:35:06.044532Z"
    }
   },
   "id": "dd68962a94d8d3c9",
   "execution_count": null
  },
  {
   "cell_type": "code",
   "outputs": [],
   "source": [
    "# check for missing values\n",
    "print(f'The data has missing values: {combined.isna().sum().sum()}')\n",
    "# drop all rows that have more then 3 NaN values\n",
    "combined.dropna(inplace=True)\n",
    "print(f'The data has missing values: {combined.isna().sum().sum()}')"
   ],
   "metadata": {
    "collapsed": false,
    "ExecuteTime": {
     "start_time": "2024-03-20T10:35:06.045533Z"
    }
   },
   "id": "29060cc2a3e655dc",
   "execution_count": null
  },
  {
   "cell_type": "code",
   "outputs": [],
   "source": [
    "X = combined.iloc[:, :32]\n",
    "y = combined.iloc[:, 32:]"
   ],
   "metadata": {
    "collapsed": false,
    "ExecuteTime": {
     "start_time": "2024-03-20T10:35:06.046530Z"
    }
   },
   "id": "2c20e7b504dcfd9c",
   "execution_count": null
  },
  {
   "cell_type": "code",
   "outputs": [],
   "source": [
    "X.shape, y.shape"
   ],
   "metadata": {
    "collapsed": false,
    "ExecuteTime": {
     "start_time": "2024-03-20T10:35:06.047530Z"
    }
   },
   "id": "bd0bd6c7a731a8da",
   "execution_count": null
  },
  {
   "cell_type": "code",
   "outputs": [],
   "source": [
    "# scale the data\n",
    "scaler_x = MinMaxScaler()\n",
    "scaler_y = MinMaxScaler()\n",
    "X_scaled = scaler_x.fit_transform(X)\n",
    "y_scaled = scaler_y.fit_transform(y)"
   ],
   "metadata": {
    "collapsed": false,
    "ExecuteTime": {
     "start_time": "2024-03-20T10:35:06.048533Z"
    }
   },
   "id": "898d1aebee1ee4a2",
   "execution_count": null
  },
  {
   "cell_type": "markdown",
   "source": [
    "## 4. Hyperparameter Tuning"
   ],
   "metadata": {
    "collapsed": false
   },
   "id": "fad416068809969b"
  },
  {
   "cell_type": "code",
   "outputs": [],
   "source": [
    "# create a pipeline\n",
    "pipeline = Pipeline([\n",
    "    ('mlp', MLPRegressor(random_state=42))\n",
    "])"
   ],
   "metadata": {
    "collapsed": false,
    "ExecuteTime": {
     "start_time": "2024-03-20T10:35:06.049530Z"
    }
   },
   "id": "202ed5653fa8a79b",
   "execution_count": null
  },
  {
   "cell_type": "code",
   "outputs": [],
   "source": [
    "# Best parameters: {'mlp__solver': 'adam', 'mlp__max_iter': 28000, 'mlp__learning_rate_init': 0.01, 'mlp__learning_rate': 'adaptive', 'mlp__hidden_layer_sizes': (50, 100, 50), 'mlp__early_stopping': True, 'mlp__alpha': 0.001, 'mlp__activation': 'relu'}\n",
    "#model = MLPRegressor(random_state=42, max_iter=28000, learning_rate_init=0.01, learning_rate='adaptive', hidden_layer_sizes=(50, 100, 50), early_stopping=True, alpha=0.001, activation='relu')\n",
    "\n",
    "param_grid = {\n",
    "    'mlp__hidden_layer_sizes': \n",
    "        [(50, 100, 50) # ,(100,), (64, 32, 64)],\n",
    "         ],\n",
    "    'mlp__activation': ['identity', 'tanh', 'relu'],\n",
    "    'mlp__solver': ['sgd', 'adam'],\n",
    "    'mlp__alpha': [0.001, 0.01, 0.1],\n",
    "    'mlp__max_iter': [10000, 20000, 28000],\n",
    "    'mlp__learning_rate': ['constant', 'adaptive'],\n",
    "    'mlp__learning_rate_init': [0.001, 0.01, 0.1],\n",
    "    'mlp__early_stopping': [True],\n",
    "}\n",
    "\n",
    "random_search = RandomizedSearchCV(pipeline, param_distributions=param_grid, cv=5, n_iter=100, n_jobs=-1, verbose=3, random_state=42)\n",
    "\n",
    "random_search.fit(X_scaled, y_scaled)"
   ],
   "metadata": {
    "collapsed": false,
    "ExecuteTime": {
     "start_time": "2024-03-20T10:35:06.049530Z"
    }
   },
   "id": "5c232eee49f1ced3",
   "execution_count": null
  },
  {
   "cell_type": "code",
   "outputs": [],
   "source": [
    "print(f'Best parameters: {random_search.best_params_}')\n",
    "print(f'Best score: {random_search.best_score_}')"
   ],
   "metadata": {
    "collapsed": false,
    "ExecuteTime": {
     "start_time": "2024-03-20T10:35:06.050530Z"
    }
   },
   "id": "6cc24cd43c214947",
   "execution_count": null
  },
  {
   "cell_type": "code",
   "outputs": [],
   "source": [
    "model = random_search.best_estimator_"
   ],
   "metadata": {
    "collapsed": false,
    "ExecuteTime": {
     "start_time": "2024-03-20T10:35:06.051531Z"
    }
   },
   "id": "e52d4e8a3d14bec4",
   "execution_count": null
  },
  {
   "cell_type": "markdown",
   "source": [
    "## 5. Training the Model"
   ],
   "metadata": {
    "collapsed": false
   },
   "id": "63a44525cdb065d0"
  },
  {
   "cell_type": "code",
   "outputs": [],
   "source": [
    "model.fit(X_scaled, y_scaled)"
   ],
   "metadata": {
    "collapsed": false,
    "ExecuteTime": {
     "start_time": "2024-03-20T10:35:06.052530Z"
    }
   },
   "id": "7b6d9c96f863c23d",
   "execution_count": null
  },
  {
   "cell_type": "markdown",
   "source": [
    "## 6. Make Predictions On Test Data"
   ],
   "metadata": {
    "collapsed": false
   },
   "id": "ae68f2dd8bbd3320"
  },
  {
   "cell_type": "code",
   "outputs": [],
   "source": [
    "import pandas as pd"
   ],
   "metadata": {
    "collapsed": false,
    "ExecuteTime": {
     "start_time": "2024-03-20T10:35:06.053533Z"
    }
   },
   "id": "19be1e6e990902fb",
   "execution_count": null
  },
  {
   "cell_type": "code",
   "outputs": [],
   "source": [
    "X_test_8_a = pd.read_csv('../data-16-cams/red_ball_coordinates_128px_2024-03-19_17h30m.csv', decimal='.', delimiter=',')\n",
    "X_test_8_b = pd.read_csv('../data-16-cams/red_ball_coordinates_128px_2024-03-19_17h31m.csv', decimal='.', delimiter=',')"
   ],
   "metadata": {
    "collapsed": false,
    "ExecuteTime": {
     "start_time": "2024-03-20T10:35:06.053533Z"
    }
   },
   "id": "b7374798627d060a",
   "execution_count": null
  },
  {
   "cell_type": "code",
   "outputs": [],
   "source": [
    "y_test_8_a = pd.read_csv('../data-16-cams/positions_xyz_2024-03-19_17h30m.csv', decimal='.', delimiter=',').iloc[:-2]\n",
    "y_test_8_b = pd.read_csv('../data-16-cams/positions_xyz_2024-03-19_17h31m.csv', decimal='.', delimiter=',').iloc[:-2]"
   ],
   "metadata": {
    "collapsed": false,
    "ExecuteTime": {
     "start_time": "2024-03-20T10:35:06.054530Z"
    }
   },
   "id": "c02f72da35a515f8",
   "execution_count": null
  },
  {
   "cell_type": "code",
   "outputs": [],
   "source": [
    "(X_test_8_a.shape, y_test_8_a.shape), (X_test_8_b.shape, y_test_8_b.shape)"
   ],
   "metadata": {
    "collapsed": false,
    "ExecuteTime": {
     "start_time": "2024-03-20T10:35:06.055531Z"
    }
   },
   "id": "f9aa1f6a3b618a9d",
   "execution_count": null
  },
  {
   "cell_type": "code",
   "outputs": [],
   "source": [
    "combo_test_a = pd.concat([X_test_8_a, y_test_8_a], axis=1)\n",
    "combo_test_b = pd.concat([X_test_8_b, y_test_8_b], axis=1)"
   ],
   "metadata": {
    "collapsed": false,
    "ExecuteTime": {
     "start_time": "2024-03-20T10:35:06.056532Z"
    }
   },
   "id": "e4cf7c57fc0625c7",
   "execution_count": null
  },
  {
   "cell_type": "code",
   "outputs": [],
   "source": [
    "#combo_test_a.dropna(inplace=True, thresh=31)\n",
    "#combo_test_b.dropna(inplace=True, thresh=31)"
   ],
   "metadata": {
    "collapsed": false,
    "ExecuteTime": {
     "start_time": "2024-03-20T10:35:06.057599Z"
    }
   },
   "id": "cd2435903132c059",
   "execution_count": null
  },
  {
   "cell_type": "code",
   "outputs": [],
   "source": [
    "X_test_8_a, y_test_8_a = splitup(combo_test_a)\n",
    "X_test_8_b, y_test_8_b = splitup(combo_test_b)"
   ],
   "metadata": {
    "collapsed": false,
    "ExecuteTime": {
     "start_time": "2024-03-20T10:35:06.057599Z"
    }
   },
   "id": "36951c55eec51d30",
   "execution_count": null
  },
  {
   "cell_type": "code",
   "outputs": [],
   "source": [
    "X_test_8_a = interpolate_dataframe(X_test_8_a)\n",
    "X_test_8_b = interpolate_dataframe(X_test_8_b)"
   ],
   "metadata": {
    "collapsed": false,
    "ExecuteTime": {
     "start_time": "2024-03-20T10:35:06.058616Z"
    }
   },
   "id": "f903ac2544aa95ce",
   "execution_count": null
  },
  {
   "cell_type": "code",
   "outputs": [],
   "source": [
    "(X_test_8_a.shape, y_test_8_a.shape), (X_test_8_b.shape, y_test_8_b.shape)"
   ],
   "metadata": {
    "collapsed": false,
    "ExecuteTime": {
     "start_time": "2024-03-20T10:35:06.059619Z"
    }
   },
   "id": "2fc174d7da985e2a",
   "execution_count": null
  },
  {
   "cell_type": "code",
   "outputs": [],
   "source": [
    "def prepare_and_scale_test_data(X_test_val, y_test_val, scaler_x_test):\n",
    "    combined_test = pd.concat([X_test_val, y_test_val], axis=1)\n",
    "    combined_test.dropna(inplace=True)\n",
    "    X_val = combined_test.iloc[:, :32]\n",
    "    y_val = combined_test.iloc[:, 32:]\n",
    "    X_scaled_test = scaler_x_test.transform(X_val)\n",
    "    return X_scaled_test, y_val"
   ],
   "metadata": {
    "collapsed": false
   },
   "id": "32e775e1370c5290",
   "execution_count": null
  },
  {
   "cell_type": "code",
   "outputs": [],
   "source": [
    "def predict_evaluate_plot(X_test_val_scaled, y_test_val, nn_model, scaler_y_test, title='Trajectory of Ball in 3D Space'):\n",
    "    y_test_predicted_scaled = nn_model.predict(X_test_val_scaled)\n",
    "    y_test_pred = scaler_y_test.inverse_transform(y_test_predicted_scaled)\n",
    "    mse, mae, r2 = evaluate_model(y_test_val, y_test_pred, 'Test Data')\n",
    "    # change col 1 and 2 from place, so it corresponds to the unity 3d space\n",
    "    y_test_pred = y_test_pred[:, [0, 2, 1]]\n",
    "    y_test_val = y_test_val.to_numpy()[:, [0, 2, 1]]\n",
    "    plot_maker_3d(y_test_val, y_test_pred, title)\n",
    "    return y_test_pred, mse, mae, r2"
   ],
   "metadata": {
    "collapsed": false,
    "ExecuteTime": {
     "start_time": "2024-03-20T10:35:06.060618Z"
    }
   },
   "id": "ba950ddf6f53963c",
   "execution_count": null
  },
  {
   "cell_type": "code",
   "outputs": [],
   "source": [
    "X_test_8_scaled_a, y_test_8_a = prepare_and_scale_test_data(X_test_8_a, y_test_8_a, scaler_x)\n",
    "X_test_8_pred_a, mse_8_a, mae_8_a, r2_8_a = predict_evaluate_plot(X_test_8_scaled_a, y_test_8_a, model, scaler_y, title='Trajectory of Ball in 3D Space - 8-motion a')"
   ],
   "metadata": {
    "collapsed": false,
    "ExecuteTime": {
     "start_time": "2024-03-20T10:35:06.061618Z"
    }
   },
   "id": "b5f51af3dfa2b1cc",
   "execution_count": null
  },
  {
   "cell_type": "code",
   "outputs": [],
   "source": [
    "X_test_8_scaled_b, y_test_8_b = prepare_and_scale_test_data(X_test_8_b, y_test_8_b, scaler_x)\n",
    "X_test_8_pred_b, mse_8_b, mae_8_b, r2_8_b = predict_evaluate_plot(X_test_8_scaled_b, y_test_8_b, model, scaler_y, title='Trajectory of Ball in 3D Space - 8-motion b')"
   ],
   "metadata": {
    "collapsed": false,
    "ExecuteTime": {
     "start_time": "2024-03-20T10:35:06.062619Z"
    }
   },
   "id": "edb74b9157642ff4",
   "execution_count": null
  }
 ],
 "metadata": {
  "kernelspec": {
   "display_name": "Python 3",
   "language": "python",
   "name": "python3"
  },
  "language_info": {
   "codemirror_mode": {
    "name": "ipython",
    "version": 2
   },
   "file_extension": ".py",
   "mimetype": "text/x-python",
   "name": "python",
   "nbconvert_exporter": "python",
   "pygments_lexer": "ipython2",
   "version": "2.7.6"
  }
 },
 "nbformat": 4,
 "nbformat_minor": 5
}
