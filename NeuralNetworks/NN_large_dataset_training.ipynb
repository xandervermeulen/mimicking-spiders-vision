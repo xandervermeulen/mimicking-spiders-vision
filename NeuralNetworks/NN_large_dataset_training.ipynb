{
 "cells": [
  {
   "cell_type": "code",
   "execution_count": 42,
   "metadata": {
    "collapsed": true,
    "pycharm": {
     "name": "#%%\n"
    },
    "ExecuteTime": {
     "end_time": "2024-02-23T17:48:10.939601200Z",
     "start_time": "2024-02-23T17:48:10.901276800Z"
    }
   },
   "outputs": [],
   "source": [
    "import pandas as pd\n",
    "from sklearn.neural_network import MLPRegressor\n",
    "from sklearn.model_selection import train_test_split\n",
    "from sklearn.impute import KNNImputer\n",
    "import matplotlib.pyplot as plt"
   ]
  },
  {
   "cell_type": "markdown",
   "source": [
    "Reading both large datasets"
   ],
   "metadata": {
    "collapsed": false,
    "pycharm": {
     "name": "#%% md\n"
    }
   }
  },
  {
   "cell_type": "code",
   "execution_count": 43,
   "outputs": [
    {
     "name": "stdout",
     "output_type": "stream",
     "text": [
      "<class 'pandas.core.frame.DataFrame'>\n",
      "RangeIndex: 25357 entries, 0 to 25356\n",
      "Data columns (total 3 columns):\n",
      " #   Column  Non-Null Count  Dtype  \n",
      "---  ------  --------------  -----  \n",
      " 0   x       25357 non-null  float64\n",
      " 1   y       25357 non-null  float64\n",
      " 2   z       25357 non-null  float64\n",
      "dtypes: float64(3)\n",
      "memory usage: 594.4 KB\n",
      "<class 'pandas.core.frame.DataFrame'>\n",
      "RangeIndex: 25357 entries, 0 to 25356\n",
      "Data columns (total 14 columns):\n",
      " #   Column  Non-Null Count  Dtype  \n",
      "---  ------  --------------  -----  \n",
      " 0   u0      24529 non-null  float64\n",
      " 1   v0      24529 non-null  float64\n",
      " 2   u1      17650 non-null  float64\n",
      " 3   v1      17650 non-null  float64\n",
      " 4   u2      19121 non-null  float64\n",
      " 5   v2      19121 non-null  float64\n",
      " 6   u3      22321 non-null  float64\n",
      " 7   v3      22321 non-null  float64\n",
      " 8   u4      18223 non-null  float64\n",
      " 9   v4      18223 non-null  float64\n",
      " 10  u5      20155 non-null  float64\n",
      " 11  v5      20155 non-null  float64\n",
      " 12  u6      21088 non-null  float64\n",
      " 13  v6      21088 non-null  float64\n",
      "dtypes: float64(14)\n",
      "memory usage: 2.7 MB\n"
     ]
    }
   ],
   "source": [
    "Y = pd.read_csv(\"../data/positions_xyz_128px_full.csv\", delimiter=\",\", decimal=\".\")\n",
    "Y.info()\n",
    "X = pd.read_csv(\"../data/red_ball_coordinates_128px_full.csv\", delimiter=\",\", decimal=\".\")\n",
    "X.info()"
   ],
   "metadata": {
    "collapsed": false,
    "pycharm": {
     "name": "#%%\n"
    },
    "ExecuteTime": {
     "end_time": "2024-02-23T17:48:10.964068500Z",
     "start_time": "2024-02-23T17:48:10.916250600Z"
    }
   }
  },
  {
   "cell_type": "markdown",
   "source": [
    "Imputing data with KNN imputer"
   ],
   "metadata": {
    "collapsed": false,
    "pycharm": {
     "name": "#%% md\n"
    }
   }
  },
  {
   "cell_type": "code",
   "execution_count": 44,
   "outputs": [],
   "source": [
    "impute_knn = KNNImputer(n_neighbors=6)\n",
    "X = impute_knn.fit_transform(X)"
   ],
   "metadata": {
    "collapsed": false,
    "pycharm": {
     "name": "#%%\n"
    },
    "ExecuteTime": {
     "end_time": "2024-02-23T17:48:44.999389700Z",
     "start_time": "2024-02-23T17:48:10.966205700Z"
    }
   }
  },
  {
   "cell_type": "markdown",
   "source": [
    "Imuting data with iterative imputer"
   ],
   "metadata": {
    "collapsed": false,
    "pycharm": {
     "name": "#%% md\n"
    }
   }
  },
  {
   "cell_type": "code",
   "execution_count": 45,
   "outputs": [],
   "source": [
    "#impute_it = IterativeImputer()\n",
    "#X = impute_it.fit_transform(X)"
   ],
   "metadata": {
    "collapsed": false,
    "pycharm": {
     "name": "#%%\n"
    },
    "ExecuteTime": {
     "end_time": "2024-02-23T17:48:45.001622300Z",
     "start_time": "2024-02-23T17:48:44.987158200Z"
    }
   }
  },
  {
   "cell_type": "markdown",
   "source": [
    "Splitting data into training and test sets"
   ],
   "metadata": {
    "collapsed": false,
    "pycharm": {
     "name": "#%% md\n"
    }
   }
  },
  {
   "cell_type": "code",
   "execution_count": 46,
   "outputs": [],
   "source": [
    "X_train, X_test, y_train, y_test = train_test_split(X, Y, test_size=0.33, random_state=42)"
   ],
   "metadata": {
    "collapsed": false,
    "pycharm": {
     "name": "#%%\n"
    },
    "ExecuteTime": {
     "end_time": "2024-02-23T17:48:45.016696600Z",
     "start_time": "2024-02-23T17:48:45.002734600Z"
    }
   }
  },
  {
   "cell_type": "markdown",
   "source": [
    "Setting parameters for NN"
   ],
   "metadata": {
    "collapsed": false,
    "pycharm": {
     "name": "#%% md\n"
    }
   }
  },
  {
   "cell_type": "code",
   "execution_count": 47,
   "outputs": [],
   "source": [
    "params = {'hidden_layer_sizes': [10, 10],\n",
    "          'activation': 'relu', 'solver': 'adam',\n",
    "          'alpha': 0.0, 'batch_size': 10,\n",
    "          'random_state': 0, 'tol': 0.0001,\n",
    "          'nesterovs_momentum': False,\n",
    "          'learning_rate': 'constant',\n",
    "          'learning_rate_init': 0.01,\n",
    "          'max_iter': 1000, 'shuffle': True,\n",
    "          'n_iter_no_change': 50, 'verbose': False}"
   ],
   "metadata": {
    "collapsed": false,
    "pycharm": {
     "name": "#%%\n"
    },
    "ExecuteTime": {
     "end_time": "2024-02-23T17:48:45.031954900Z",
     "start_time": "2024-02-23T17:48:45.019948400Z"
    }
   }
  },
  {
   "cell_type": "code",
   "execution_count": 48,
   "outputs": [],
   "source": [
    "net = MLPRegressor(**params)"
   ],
   "metadata": {
    "collapsed": false,
    "pycharm": {
     "name": "#%%\n"
    },
    "ExecuteTime": {
     "end_time": "2024-02-23T17:48:45.050307200Z",
     "start_time": "2024-02-23T17:48:45.033053700Z"
    }
   }
  },
  {
   "cell_type": "code",
   "execution_count": 49,
   "outputs": [
    {
     "data": {
      "text/plain": "MLPRegressor(alpha=0.0, batch_size=10, hidden_layer_sizes=[10, 10],\n             learning_rate_init=0.01, max_iter=1000, n_iter_no_change=50,\n             nesterovs_momentum=False, random_state=0)",
      "text/html": "<style>#sk-container-id-3 {color: black;}#sk-container-id-3 pre{padding: 0;}#sk-container-id-3 div.sk-toggleable {background-color: white;}#sk-container-id-3 label.sk-toggleable__label {cursor: pointer;display: block;width: 100%;margin-bottom: 0;padding: 0.3em;box-sizing: border-box;text-align: center;}#sk-container-id-3 label.sk-toggleable__label-arrow:before {content: \"▸\";float: left;margin-right: 0.25em;color: #696969;}#sk-container-id-3 label.sk-toggleable__label-arrow:hover:before {color: black;}#sk-container-id-3 div.sk-estimator:hover label.sk-toggleable__label-arrow:before {color: black;}#sk-container-id-3 div.sk-toggleable__content {max-height: 0;max-width: 0;overflow: hidden;text-align: left;background-color: #f0f8ff;}#sk-container-id-3 div.sk-toggleable__content pre {margin: 0.2em;color: black;border-radius: 0.25em;background-color: #f0f8ff;}#sk-container-id-3 input.sk-toggleable__control:checked~div.sk-toggleable__content {max-height: 200px;max-width: 100%;overflow: auto;}#sk-container-id-3 input.sk-toggleable__control:checked~label.sk-toggleable__label-arrow:before {content: \"▾\";}#sk-container-id-3 div.sk-estimator input.sk-toggleable__control:checked~label.sk-toggleable__label {background-color: #d4ebff;}#sk-container-id-3 div.sk-label input.sk-toggleable__control:checked~label.sk-toggleable__label {background-color: #d4ebff;}#sk-container-id-3 input.sk-hidden--visually {border: 0;clip: rect(1px 1px 1px 1px);clip: rect(1px, 1px, 1px, 1px);height: 1px;margin: -1px;overflow: hidden;padding: 0;position: absolute;width: 1px;}#sk-container-id-3 div.sk-estimator {font-family: monospace;background-color: #f0f8ff;border: 1px dotted black;border-radius: 0.25em;box-sizing: border-box;margin-bottom: 0.5em;}#sk-container-id-3 div.sk-estimator:hover {background-color: #d4ebff;}#sk-container-id-3 div.sk-parallel-item::after {content: \"\";width: 100%;border-bottom: 1px solid gray;flex-grow: 1;}#sk-container-id-3 div.sk-label:hover label.sk-toggleable__label {background-color: #d4ebff;}#sk-container-id-3 div.sk-serial::before {content: \"\";position: absolute;border-left: 1px solid gray;box-sizing: border-box;top: 0;bottom: 0;left: 50%;z-index: 0;}#sk-container-id-3 div.sk-serial {display: flex;flex-direction: column;align-items: center;background-color: white;padding-right: 0.2em;padding-left: 0.2em;position: relative;}#sk-container-id-3 div.sk-item {position: relative;z-index: 1;}#sk-container-id-3 div.sk-parallel {display: flex;align-items: stretch;justify-content: center;background-color: white;position: relative;}#sk-container-id-3 div.sk-item::before, #sk-container-id-3 div.sk-parallel-item::before {content: \"\";position: absolute;border-left: 1px solid gray;box-sizing: border-box;top: 0;bottom: 0;left: 50%;z-index: -1;}#sk-container-id-3 div.sk-parallel-item {display: flex;flex-direction: column;z-index: 1;position: relative;background-color: white;}#sk-container-id-3 div.sk-parallel-item:first-child::after {align-self: flex-end;width: 50%;}#sk-container-id-3 div.sk-parallel-item:last-child::after {align-self: flex-start;width: 50%;}#sk-container-id-3 div.sk-parallel-item:only-child::after {width: 0;}#sk-container-id-3 div.sk-dashed-wrapped {border: 1px dashed gray;margin: 0 0.4em 0.5em 0.4em;box-sizing: border-box;padding-bottom: 0.4em;background-color: white;}#sk-container-id-3 div.sk-label label {font-family: monospace;font-weight: bold;display: inline-block;line-height: 1.2em;}#sk-container-id-3 div.sk-label-container {text-align: center;}#sk-container-id-3 div.sk-container {/* jupyter's `normalize.less` sets `[hidden] { display: none; }` but bootstrap.min.css set `[hidden] { display: none !important; }` so we also need the `!important` here to be able to override the default hidden behavior on the sphinx rendered scikit-learn.org. See: https://github.com/scikit-learn/scikit-learn/issues/21755 */display: inline-block !important;position: relative;}#sk-container-id-3 div.sk-text-repr-fallback {display: none;}</style><div id=\"sk-container-id-3\" class=\"sk-top-container\"><div class=\"sk-text-repr-fallback\"><pre>MLPRegressor(alpha=0.0, batch_size=10, hidden_layer_sizes=[10, 10],\n             learning_rate_init=0.01, max_iter=1000, n_iter_no_change=50,\n             nesterovs_momentum=False, random_state=0)</pre><b>In a Jupyter environment, please rerun this cell to show the HTML representation or trust the notebook. <br />On GitHub, the HTML representation is unable to render, please try loading this page with nbviewer.org.</b></div><div class=\"sk-container\" hidden><div class=\"sk-item\"><div class=\"sk-estimator sk-toggleable\"><input class=\"sk-toggleable__control sk-hidden--visually\" id=\"sk-estimator-id-3\" type=\"checkbox\" checked><label for=\"sk-estimator-id-3\" class=\"sk-toggleable__label sk-toggleable__label-arrow\">MLPRegressor</label><div class=\"sk-toggleable__content\"><pre>MLPRegressor(alpha=0.0, batch_size=10, hidden_layer_sizes=[10, 10],\n             learning_rate_init=0.01, max_iter=1000, n_iter_no_change=50,\n             nesterovs_momentum=False, random_state=0)</pre></div></div></div></div></div>"
     },
     "execution_count": 49,
     "metadata": {},
     "output_type": "execute_result"
    }
   ],
   "source": [
    "net.fit(X_train, y_train)"
   ],
   "metadata": {
    "collapsed": false,
    "pycharm": {
     "name": "#%%\n"
    },
    "ExecuteTime": {
     "end_time": "2024-02-23T17:49:14.147234800Z",
     "start_time": "2024-02-23T17:48:45.048114700Z"
    }
   }
  },
  {
   "cell_type": "code",
   "execution_count": 50,
   "outputs": [],
   "source": [
    "predicted = net.predict(X_test)\n",
    "predicted = pd.DataFrame(predicted, columns=[\"x\", \"y\", \"z\"])"
   ],
   "metadata": {
    "collapsed": false,
    "pycharm": {
     "name": "#%%\n"
    },
    "ExecuteTime": {
     "end_time": "2024-02-23T17:49:14.161243400Z",
     "start_time": "2024-02-23T17:49:14.146204500Z"
    }
   }
  },
  {
   "cell_type": "code",
   "execution_count": 51,
   "outputs": [
    {
     "data": {
      "text/plain": "             x         y          z\n0     5.012876  3.806026  16.497268\n1     6.674560  4.626795   8.048396\n2     3.429283  3.175190  21.320947\n3     2.957512  3.118944  19.949415\n4     4.896333  3.742280  17.221659\n...        ...       ...        ...\n8363  2.426413  3.365436  11.797920\n8364  5.358508  4.236033   9.209977\n8365  6.253869  4.001321  19.095439\n8366  9.966482  4.870771  20.785705\n8367  6.674560  4.626795   8.048396\n\n[8368 rows x 3 columns]",
      "text/html": "<div>\n<style scoped>\n    .dataframe tbody tr th:only-of-type {\n        vertical-align: middle;\n    }\n\n    .dataframe tbody tr th {\n        vertical-align: top;\n    }\n\n    .dataframe thead th {\n        text-align: right;\n    }\n</style>\n<table border=\"1\" class=\"dataframe\">\n  <thead>\n    <tr style=\"text-align: right;\">\n      <th></th>\n      <th>x</th>\n      <th>y</th>\n      <th>z</th>\n    </tr>\n  </thead>\n  <tbody>\n    <tr>\n      <th>0</th>\n      <td>5.012876</td>\n      <td>3.806026</td>\n      <td>16.497268</td>\n    </tr>\n    <tr>\n      <th>1</th>\n      <td>6.674560</td>\n      <td>4.626795</td>\n      <td>8.048396</td>\n    </tr>\n    <tr>\n      <th>2</th>\n      <td>3.429283</td>\n      <td>3.175190</td>\n      <td>21.320947</td>\n    </tr>\n    <tr>\n      <th>3</th>\n      <td>2.957512</td>\n      <td>3.118944</td>\n      <td>19.949415</td>\n    </tr>\n    <tr>\n      <th>4</th>\n      <td>4.896333</td>\n      <td>3.742280</td>\n      <td>17.221659</td>\n    </tr>\n    <tr>\n      <th>...</th>\n      <td>...</td>\n      <td>...</td>\n      <td>...</td>\n    </tr>\n    <tr>\n      <th>8363</th>\n      <td>2.426413</td>\n      <td>3.365436</td>\n      <td>11.797920</td>\n    </tr>\n    <tr>\n      <th>8364</th>\n      <td>5.358508</td>\n      <td>4.236033</td>\n      <td>9.209977</td>\n    </tr>\n    <tr>\n      <th>8365</th>\n      <td>6.253869</td>\n      <td>4.001321</td>\n      <td>19.095439</td>\n    </tr>\n    <tr>\n      <th>8366</th>\n      <td>9.966482</td>\n      <td>4.870771</td>\n      <td>20.785705</td>\n    </tr>\n    <tr>\n      <th>8367</th>\n      <td>6.674560</td>\n      <td>4.626795</td>\n      <td>8.048396</td>\n    </tr>\n  </tbody>\n</table>\n<p>8368 rows × 3 columns</p>\n</div>"
     },
     "execution_count": 51,
     "metadata": {},
     "output_type": "execute_result"
    }
   ],
   "source": [
    "predicted"
   ],
   "metadata": {
    "collapsed": false,
    "pycharm": {
     "name": "#%%\n"
    },
    "ExecuteTime": {
     "end_time": "2024-02-23T17:49:14.178091900Z",
     "start_time": "2024-02-23T17:49:14.164557300Z"
    }
   }
  },
  {
   "cell_type": "code",
   "execution_count": 52,
   "outputs": [
    {
     "data": {
      "text/plain": "             x         y          z\n0     5.259943  5.538167  16.589180\n1     8.371517  1.922154   1.468246\n2     3.754902  4.235989  20.924100\n3     1.002142  0.272859  25.126870\n4     5.817245  5.141342  13.533560\n...        ...       ...        ...\n8363  1.623831  5.222513  14.224810\n8364  5.759055  4.240714   5.749563\n8365  6.851942  6.056138  17.986140\n8366  8.675189  1.662587  13.930320\n8367  2.923458  7.982792  13.202920\n\n[8368 rows x 3 columns]",
      "text/html": "<div>\n<style scoped>\n    .dataframe tbody tr th:only-of-type {\n        vertical-align: middle;\n    }\n\n    .dataframe tbody tr th {\n        vertical-align: top;\n    }\n\n    .dataframe thead th {\n        text-align: right;\n    }\n</style>\n<table border=\"1\" class=\"dataframe\">\n  <thead>\n    <tr style=\"text-align: right;\">\n      <th></th>\n      <th>x</th>\n      <th>y</th>\n      <th>z</th>\n    </tr>\n  </thead>\n  <tbody>\n    <tr>\n      <th>0</th>\n      <td>5.259943</td>\n      <td>5.538167</td>\n      <td>16.589180</td>\n    </tr>\n    <tr>\n      <th>1</th>\n      <td>8.371517</td>\n      <td>1.922154</td>\n      <td>1.468246</td>\n    </tr>\n    <tr>\n      <th>2</th>\n      <td>3.754902</td>\n      <td>4.235989</td>\n      <td>20.924100</td>\n    </tr>\n    <tr>\n      <th>3</th>\n      <td>1.002142</td>\n      <td>0.272859</td>\n      <td>25.126870</td>\n    </tr>\n    <tr>\n      <th>4</th>\n      <td>5.817245</td>\n      <td>5.141342</td>\n      <td>13.533560</td>\n    </tr>\n    <tr>\n      <th>...</th>\n      <td>...</td>\n      <td>...</td>\n      <td>...</td>\n    </tr>\n    <tr>\n      <th>8363</th>\n      <td>1.623831</td>\n      <td>5.222513</td>\n      <td>14.224810</td>\n    </tr>\n    <tr>\n      <th>8364</th>\n      <td>5.759055</td>\n      <td>4.240714</td>\n      <td>5.749563</td>\n    </tr>\n    <tr>\n      <th>8365</th>\n      <td>6.851942</td>\n      <td>6.056138</td>\n      <td>17.986140</td>\n    </tr>\n    <tr>\n      <th>8366</th>\n      <td>8.675189</td>\n      <td>1.662587</td>\n      <td>13.930320</td>\n    </tr>\n    <tr>\n      <th>8367</th>\n      <td>2.923458</td>\n      <td>7.982792</td>\n      <td>13.202920</td>\n    </tr>\n  </tbody>\n</table>\n<p>8368 rows × 3 columns</p>\n</div>"
     },
     "execution_count": 52,
     "metadata": {},
     "output_type": "execute_result"
    }
   ],
   "source": [
    "y_test.reset_index(drop=True)"
   ],
   "metadata": {
    "collapsed": false,
    "pycharm": {
     "name": "#%%\n"
    },
    "ExecuteTime": {
     "end_time": "2024-02-23T17:49:14.204129700Z",
     "start_time": "2024-02-23T17:49:14.177093400Z"
    }
   }
  },
  {
   "cell_type": "markdown",
   "source": [
    "# Statistics of this model"
   ],
   "metadata": {
    "collapsed": false,
    "pycharm": {
     "name": "#%% md\n"
    }
   }
  },
  {
   "cell_type": "markdown",
   "source": [
    "Accuracy"
   ],
   "metadata": {
    "collapsed": false,
    "pycharm": {
     "name": "#%% md\n"
    }
   }
  },
  {
   "cell_type": "code",
   "execution_count": 53,
   "outputs": [],
   "source": [
    "# Calculate accuracy\n",
    "#accuracy = accuracy_score(y_test.x, predicted.x)\n",
    "#print(\"Accuracy:\", accuracy)"
   ],
   "metadata": {
    "collapsed": false,
    "pycharm": {
     "name": "#%%\n"
    },
    "ExecuteTime": {
     "end_time": "2024-02-23T17:49:14.243660200Z",
     "start_time": "2024-02-23T17:49:14.192510500Z"
    }
   }
  },
  {
   "cell_type": "markdown",
   "source": [
    "3d scatterplot"
   ],
   "metadata": {
    "collapsed": false,
    "pycharm": {
     "name": "#%% md\n"
    }
   }
  },
  {
   "cell_type": "code",
   "outputs": [
    {
     "data": {
      "text/plain": "(8368, 3)"
     },
     "execution_count": 54,
     "metadata": {},
     "output_type": "execute_result"
    }
   ],
   "source": [
    "y_test.shape"
   ],
   "metadata": {
    "collapsed": false,
    "ExecuteTime": {
     "end_time": "2024-02-23T17:49:14.284348200Z",
     "start_time": "2024-02-23T17:49:14.207302Z"
    }
   },
   "execution_count": 54
  },
  {
   "cell_type": "code",
   "execution_count": 60,
   "outputs": [
    {
     "data": {
      "text/plain": "<Figure size 640x480 with 1 Axes>",
      "image/png": "[encoded data removed]"
     },
     "metadata": {},
     "output_type": "display_data"
    }
   ],
   "source": [
    "from utils.plot_maker_gaussian_process import plot_maker_3d\n",
    "\n",
    "plot_maker_3d(y_test.to_numpy()[90:101], predicted.to_numpy()[90:101], \"Simple 3d scatter plot\")"
   ],
   "metadata": {
    "collapsed": false,
    "pycharm": {
     "name": "#%%\n"
    },
    "ExecuteTime": {
     "end_time": "2024-02-23T17:49:19.588461Z",
     "start_time": "2024-02-23T17:49:19.495731800Z"
    }
   }
  },
  {
   "cell_type": "markdown",
   "source": [
    "Measure the difference between how good the prediction is versus the actual trajectory"
   ],
   "metadata": {
    "collapsed": false,
    "pycharm": {
     "name": "#%% md\n"
    }
   }
  },
  {
   "cell_type": "code",
   "execution_count": 56,
   "outputs": [],
   "source": [
    "def calculate_difference_between_prediction_and_actual_values(y_test_cal, y_pred):\n",
    "    diff = pd.DataFrame(columns=[\"x\", \"y\", \"z\"])\n",
    "    for i in range(len(predicted)):\n",
    "        row = [0, 0, 0]\n",
    "        row[0] = y_pred[\"x\"].values[i] - y_test_cal[\"x\"].values[i]\n",
    "        row[1] = y_pred[\"y\"].values[i] - y_test_cal[\"y\"].values[i]\n",
    "        row[2] = y_pred[\"z\"].values[i] - y_test_cal[\"z\"].values[i]\n",
    "        diff.loc[len(diff.index)] = row\n",
    "    return diff"
   ],
   "metadata": {
    "collapsed": false,
    "pycharm": {
     "name": "#%%\n"
    },
    "ExecuteTime": {
     "end_time": "2024-02-23T17:49:14.354323600Z",
     "start_time": "2024-02-23T17:49:14.334072100Z"
    }
   }
  },
  {
   "cell_type": "markdown",
   "source": [
    "Calculate mean deviation between actual and predict values by each axis"
   ],
   "metadata": {
    "collapsed": false,
    "pycharm": {
     "name": "#%% md\n"
    }
   }
  },
  {
   "cell_type": "code",
   "execution_count": 57,
   "outputs": [],
   "source": [
    "def calculate_mean_deviation_by_each_axis(diff):\n",
    "    row = [0, 0, 0]\n",
    "    row[0] = sum(abs(diff[\"x\"]))/len(diff)\n",
    "    row[1] = sum(abs(diff[\"y\"]))/len(diff)\n",
    "    row[2] = sum(abs(diff[\"z\"]))/len(diff)\n",
    "    dev = pd.DataFrame(columns=[\"x\", \"y\", \"z\"])\n",
    "    dev.loc[len(dev.index)] = row\n",
    "    return dev"
   ],
   "metadata": {
    "collapsed": false,
    "pycharm": {
     "name": "#%%\n"
    },
    "ExecuteTime": {
     "end_time": "2024-02-23T17:49:14.366962400Z",
     "start_time": "2024-02-23T17:49:14.348905500Z"
    }
   }
  },
  {
   "cell_type": "code",
   "execution_count": 58,
   "outputs": [
    {
     "data": {
      "text/plain": "          x         y         z\n0  1.929569  2.056798  3.174586",
      "text/html": "<div>\n<style scoped>\n    .dataframe tbody tr th:only-of-type {\n        vertical-align: middle;\n    }\n\n    .dataframe tbody tr th {\n        vertical-align: top;\n    }\n\n    .dataframe thead th {\n        text-align: right;\n    }\n</style>\n<table border=\"1\" class=\"dataframe\">\n  <thead>\n    <tr style=\"text-align: right;\">\n      <th></th>\n      <th>x</th>\n      <th>y</th>\n      <th>z</th>\n    </tr>\n  </thead>\n  <tbody>\n    <tr>\n      <th>0</th>\n      <td>1.929569</td>\n      <td>2.056798</td>\n      <td>3.174586</td>\n    </tr>\n  </tbody>\n</table>\n</div>"
     },
     "execution_count": 58,
     "metadata": {},
     "output_type": "execute_result"
    }
   ],
   "source": [
    "difference = calculate_difference_between_prediction_and_actual_values(y_test, predicted)\n",
    "deviation = calculate_mean_deviation_by_each_axis(difference)\n",
    "deviation"
   ],
   "metadata": {
    "collapsed": false,
    "pycharm": {
     "name": "#%%\n"
    },
    "ExecuteTime": {
     "end_time": "2024-02-23T17:49:16.721872Z",
     "start_time": "2024-02-23T17:49:14.362797200Z"
    }
   }
  }
 ],
 "metadata": {
  "kernelspec": {
   "display_name": "Python 3",
   "language": "python",
   "name": "python3"
  },
  "language_info": {
   "codemirror_mode": {
    "name": "ipython",
    "version": 2
   },
   "file_extension": ".py",
   "mimetype": "text/x-python",
   "name": "python",
   "nbconvert_exporter": "python",
   "pygments_lexer": "ipython2",
   "version": "2.7.6"
  }
 },
 "nbformat": 4,
 "nbformat_minor": 0
}
