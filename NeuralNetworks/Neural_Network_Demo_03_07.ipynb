{
 "cells": [
  {
   "cell_type": "markdown",
   "source": [
    "# Training neural network to predict ball position in a 3d space\n",
    "## 1. Importing Libraries"
   ],
   "metadata": {
    "collapsed": false
   },
   "id": "c130fdade735b370"
  },
  {
   "cell_type": "code",
   "execution_count": 1,
   "id": "initial_id",
   "metadata": {
    "collapsed": true,
    "ExecuteTime": {
     "end_time": "2024-03-07T22:33:43.651245Z",
     "start_time": "2024-03-07T22:33:42.918496Z"
    }
   },
   "outputs": [],
   "source": [
    "import pandas as pd\n",
    "from sklearn.preprocessing import MinMaxScaler\n",
    "from sklearn.neural_network import MLPRegressor\n",
    "from sklearn.model_selection import RandomizedSearchCV\n",
    "from sklearn.pipeline import Pipeline\n",
    "from utils.evaluate import evaluate_model\n",
    "from utils.plot_maker_gaussian_process import plot_maker_3d"
   ]
  },
  {
   "cell_type": "markdown",
   "source": [
    "## 2. Loading Data\n",
    "The input data are 7 cameras each with a x and y coordinate of where the ball is in the camera's frame. The output data is the x, y and z coordinate of the ball in the 3d space.\n",
    "To get the input data from the recordings I used the following notebook: ../DataProcessing/StoreDataOfAllRecordings.ipynb\n",
    "\n",
    "In the input data I recorded the following trajectories:\n",
    "- Circle\n",
    "- Spiral\n",
    "- Lissajous curve\n",
    "- Spirograph motion\n",
    "\n",
    "One of the Spirograph motion trajectories had 200 NaN values in the input data, so I used polynomial interpolation to fill in the missing values. Do to this I used this notebook: ../ball-prediction/TrajectoryPredictionInterpolation.ipynb\n",
    "\n",
    "The interpolation only works if there are not too many NaN values in the input data and if the NaN values are not too close to each other."
   ],
   "metadata": {
    "collapsed": false
   },
   "id": "8f229e56143ba3cd"
  },
  {
   "cell_type": "code",
   "outputs": [
    {
     "data": {
      "text/plain": "((12551, 14), (12551, 3))"
     },
     "execution_count": 2,
     "metadata": {},
     "output_type": "execute_result"
    }
   ],
   "source": [
    "X = pd.read_csv('../data/all/red_ball_128px_03-07.csv', decimal='.', delimiter=',')\n",
    "y = pd.read_csv('../data/all/positions_xyz_03-07.csv', decimal='.', delimiter=',')\n",
    "X.shape, y.shape"
   ],
   "metadata": {
    "collapsed": false,
    "ExecuteTime": {
     "end_time": "2024-03-07T22:33:43.682221Z",
     "start_time": "2024-03-07T22:33:43.653223Z"
    }
   },
   "id": "c202be6cfbc9b35c",
   "execution_count": 2
  },
  {
   "cell_type": "markdown",
   "source": [
    "## 3. Preprocessing"
   ],
   "metadata": {
    "collapsed": false
   },
   "id": "e2f4e42771fe3fa0"
  },
  {
   "cell_type": "code",
   "outputs": [],
   "source": [
    "scaler_X = MinMaxScaler()\n",
    "scaler_y = MinMaxScaler()\n",
    "X_scaled = scaler_X.fit_transform(X)\n",
    "y_scaled = scaler_y.fit_transform(y)"
   ],
   "metadata": {
    "collapsed": false,
    "ExecuteTime": {
     "end_time": "2024-03-07T22:33:43.698258Z",
     "start_time": "2024-03-07T22:33:43.683223Z"
    }
   },
   "id": "7f858404d386db66",
   "execution_count": 3
  },
  {
   "cell_type": "markdown",
   "source": [
    "## 4. Hyperparameter tuning"
   ],
   "metadata": {
    "collapsed": false
   },
   "id": "81577f530e14ff65"
  },
  {
   "cell_type": "code",
   "outputs": [],
   "source": [
    "pipeline = Pipeline([\n",
    "    ('mlp', MLPRegressor())\n",
    "])"
   ],
   "metadata": {
    "collapsed": false,
    "ExecuteTime": {
     "end_time": "2024-03-07T22:33:43.713813Z",
     "start_time": "2024-03-07T22:33:43.699260Z"
    }
   },
   "id": "a0be37bdf914fa1c",
   "execution_count": 4
  },
  {
   "cell_type": "code",
   "outputs": [],
   "source": [
    "param_grid = {\n",
    "    'mlp__hidden_layer_sizes': [(50, 50, 50), (50, 100, 50), (100,)],\n",
    "    'mlp__activation': ['identity', 'tanh', 'relu'],\n",
    "    'mlp__solver': ['sgd', 'adam'],\n",
    "    'mlp__alpha': [0.001, 0.01, 0.1],\n",
    "    'mlp__max_iter': [10000, 20000, 28000],\n",
    "    'mlp__learning_rate': ['constant', 'adaptive'],\n",
    "    'mlp__learning_rate_init': [0.001, 0.01, 0.1],\n",
    "    'mlp__early_stopping': [True],\n",
    "}\n",
    "random_search = RandomizedSearchCV(pipeline, param_distributions=param_grid, n_iter=100, cv=5, n_jobs=-1, verbose=2, random_state=42)"
   ],
   "metadata": {
    "collapsed": false,
    "ExecuteTime": {
     "end_time": "2024-03-07T22:33:43.729812Z",
     "start_time": "2024-03-07T22:33:43.715814Z"
    }
   },
   "id": "143c8528b18ecc24",
   "execution_count": 5
  },
  {
   "cell_type": "markdown",
   "source": [
    "### 4.1 Training"
   ],
   "metadata": {
    "collapsed": false
   },
   "id": "3fe170939fc1783d"
  },
  {
   "cell_type": "code",
   "outputs": [
    {
     "name": "stdout",
     "output_type": "stream",
     "text": [
      "Fitting 5 folds for each of 100 candidates, totalling 500 fits\n"
     ]
    }
   ],
   "source": [
    "random_search.fit(X_scaled, y_scaled)"
   ],
   "metadata": {
    "collapsed": false,
    "is_executing": true,
    "ExecuteTime": {
     "start_time": "2024-03-07T22:33:43.730812Z"
    }
   },
   "id": "1102192775cc1a63"
  },
  {
   "cell_type": "markdown",
   "source": [
    "### 4.2 Best parameters"
   ],
   "metadata": {
    "collapsed": false
   },
   "id": "553ed454e44452ba"
  },
  {
   "cell_type": "code",
   "outputs": [],
   "source": [
    "print(f'Best parameters: {random_search.best_params_}')"
   ],
   "metadata": {
    "collapsed": false,
    "is_executing": true
   },
   "id": "a997e0af4f19663d"
  },
  {
   "cell_type": "code",
   "outputs": [],
   "source": [
    "print(f'Best score: {random_search.best_score_}')"
   ],
   "metadata": {
    "collapsed": false,
    "is_executing": true
   },
   "id": "9d09b40f0116588c"
  },
  {
   "cell_type": "markdown",
   "source": [
    "## 5. Training the model"
   ],
   "metadata": {
    "collapsed": false
   },
   "id": "81416e1d78cb6728"
  },
  {
   "cell_type": "code",
   "outputs": [],
   "source": [
    "model = random_search.best_estimator_"
   ],
   "metadata": {
    "collapsed": false,
    "is_executing": true
   },
   "id": "200b9204c10e4a95"
  },
  {
   "cell_type": "code",
   "outputs": [],
   "source": [
    "model.fit(X_scaled, y_scaled)"
   ],
   "metadata": {
    "collapsed": false,
    "is_executing": true
   },
   "id": "8b94d81d32032ee4"
  },
  {
   "cell_type": "markdown",
   "source": [
    "## 6. Make predictions on new data\n",
    "The trajectories that I used to train the model are the following:\n",
    "- Butterfly motion\n",
    "- Random Walk\n",
    "- 8 motion"
   ],
   "metadata": {
    "collapsed": false
   },
   "id": "388e2b4243bd2fab"
  },
  {
   "cell_type": "markdown",
   "source": [
    "### 6.1 Load new data"
   ],
   "metadata": {
    "collapsed": false
   },
   "id": "47a237da2273bd5a"
  },
  {
   "cell_type": "code",
   "outputs": [],
   "source": [
    "X_test_8 = pd.read_csv('../data/data-8/red_ball_coordinates_128px_2024-03-07_15h33m.csv', decimal='.', delimiter=',')\n",
    "y_test_8 = pd.read_csv('../data/data-8/positions_xyz_2024-03-07_15h33m.csv', decimal='.', delimiter=',')\n",
    "print(f'The amount of NaN values in 8 motion: {X_test_8.isna().sum().sum()}')\n",
    "X_test_8.shape, y_test_8.shape"
   ],
   "metadata": {
    "collapsed": false,
    "is_executing": true
   },
   "id": "87af25720726350",
   "execution_count": null
  },
  {
   "cell_type": "code",
   "outputs": [],
   "source": [
    "X_test_butterfly_a = pd.read_csv('../data/data-butterfly/red_ball_coordinates_128px_2024-03-07_22h30m.csv', decimal='.', delimiter=',')\n",
    "y_test_butterfly_a = pd.read_csv('../data/data-butterfly/positions_xyz_2024-03-07_22h30m.csv', decimal='.', delimiter=',')\n",
    "print(f'The amount of NaN values in butterfly: {X_test_butterfly_a.isna().sum().sum()}')\n",
    "X_test_butterfly_a.shape, y_test_butterfly_a.shape"
   ],
   "metadata": {
    "collapsed": false,
    "is_executing": true
   },
   "id": "f69524166cf3725d",
   "execution_count": null
  },
  {
   "cell_type": "code",
   "outputs": [],
   "source": [
    "X_test_butterfly_b = pd.read_csv('../data/data-butterfly/red_ball_coordinates_128px_2024-03-07_22h35m.csv', decimal='.', delimiter=',')\n",
    "y_test_butterfly_b = pd.read_csv('../data/data-butterfly/positions_xyz_2024-03-07_22h35m.csv', decimal='.', delimiter=',')\n",
    "print(f'The amount of NaN values in butterfly: {X_test_butterfly_b.isna().sum().sum()}')\n",
    "X_test_butterfly_b.shape, y_test_butterfly_b.shape"
   ],
   "metadata": {
    "collapsed": false,
    "is_executing": true
   },
   "id": "6d248981b8e3b299",
   "execution_count": null
  },
  {
   "cell_type": "markdown",
   "source": [
    "There are 122 NaN values in the butterfly motion. I used polynomial interpolation to fill in the missing values."
   ],
   "metadata": {
    "collapsed": false
   },
   "id": "dc07592d5f59f43f"
  },
  {
   "cell_type": "code",
   "outputs": [],
   "source": [
    "X_test_butterfly_b = pd.read_csv('../data/data-butterfly/red_ball_coordinates_128px_2024-03-07_22h35m_interpolated.csv', decimal='.', delimiter=',')"
   ],
   "metadata": {
    "collapsed": false,
    "is_executing": true
   },
   "id": "58ace21a60c9da6d",
   "execution_count": null
  },
  {
   "cell_type": "code",
   "outputs": [],
   "source": [
    "X_test_random_walk = pd.read_csv('../data/data-random/red_ball_coordinates_128px_2024-03-07_21h46m.csv', decimal='.', delimiter=',')\n",
    "y_test_random_walk = pd.read_csv('../data/data-random/positions_xyz_2024-03-07_21h46m.csv', decimal='.', delimiter=',')\n",
    "print(f'The amount of NaN values in random walk: {X_test_random_walk.isna().sum().sum()}')\n",
    "X_test_random_walk.shape, y_test_random_walk.shape"
   ],
   "metadata": {
    "collapsed": false,
    "is_executing": true
   },
   "id": "f2b81c310d48c447",
   "execution_count": null
  },
  {
   "cell_type": "markdown",
   "source": [
    "### 6.2 Preprocessing\n",
    "This method is used to prepare the data for the model. It scales the input data and drops the NaN values from the output data."
   ],
   "metadata": {
    "collapsed": false
   },
   "id": "81278d345cca0b99"
  },
  {
   "cell_type": "code",
   "outputs": [],
   "source": [
    "def prepare_and_scale_test_data(X_test_val, y_test_val, scaler_x_test):\n",
    "    y_test_val = y_test_val.iloc[4:]\n",
    "    combined_test = pd.concat([X_test_val, y_test_val], axis=1)\n",
    "    combined_test.dropna(inplace=True)\n",
    "    X_val = combined_test.iloc[:, :14]\n",
    "    y_val = combined_test.iloc[:, 14:]\n",
    "    X_scaled_test = scaler_x_test.transform(X_val)\n",
    "    return X_scaled_test, y_val"
   ],
   "metadata": {
    "collapsed": false,
    "is_executing": true
   },
   "id": "aaba4056d47540a",
   "execution_count": null
  },
  {
   "cell_type": "code",
   "outputs": [],
   "source": [
    "X_scaled_test_8, y_test_8 = prepare_and_scale_test_data(X_test_8, y_test_8, scaler_X)\n",
    "X_scaled_test_butterfly_a, y_test_butterfly_a = prepare_and_scale_test_data(X_test_butterfly_a, y_test_butterfly_a, scaler_X)\n",
    "X_scaled_test_butterfly_b, y_test_butterfly_b = prepare_and_scale_test_data(X_test_butterfly_b, y_test_butterfly_b, scaler_X)\n",
    "X_scaled_test_random_walk, y_test_random_walk = prepare_and_scale_test_data(X_test_random_walk, y_test_random_walk, scaler_X)"
   ],
   "metadata": {
    "collapsed": false,
    "is_executing": true
   },
   "id": "6c26f4905336717f"
  },
  {
   "cell_type": "markdown",
   "source": [
    "### 6.3 Make predictions evaluate and visualize\n",
    "This method is used to make predictions on the test data, then it evaluates the model using the mean squared error, mean absolute error and the r2 score. Finally, it visualizes the predicted and the actual trajectory of the ball in a 3d space."
   ],
   "metadata": {
    "collapsed": false
   },
   "id": "1d786a3c76f782d4"
  },
  {
   "cell_type": "code",
   "outputs": [],
   "source": [
    "def predict_evaluate_plot(X_test_val_scaled, y_test_val, nn_model, scaler_y_test, title='Trajectory of Ball in 3D Space'):\n",
    "    y_test_predicted_scaled = nn_model.predict(X_test_val_scaled)\n",
    "    y_test_pred = scaler_y_test.inverse_transform(y_test_predicted_scaled)\n",
    "    mse, mae, r2 = evaluate_model(y_test_val, y_test_pred, 'Test Data')\n",
    "    # change col 1 and 2 from place, so it corresponds to the unity 3d space\n",
    "    y_test_pred = y_test_pred[:, [0, 2, 1]]\n",
    "    y_test_val = y_test_val.to_numpy()[:, [0, 2, 1]]\n",
    "    plot_maker_3d(y_test_val, y_test_pred, title)\n",
    "    return y_test_pred, mse, mae, r2"
   ],
   "metadata": {
    "collapsed": false,
    "is_executing": true
   },
   "id": "cc63564c7629941"
  },
  {
   "cell_type": "code",
   "outputs": [],
   "source": [
    "y_test_8_pred, mse_8, mae_8, r2_8 = predict_evaluate_plot(X_scaled_test_8, y_test_8, model, scaler_y, '8 Motion')"
   ],
   "metadata": {
    "collapsed": false,
    "is_executing": true
   },
   "id": "bf60ed8481589c7f"
  },
  {
   "cell_type": "code",
   "outputs": [],
   "source": [
    "y_test_butterfly_a_pred, mse_butterfly_a, mae_butterfly_a, r2_butterfly_a = predict_evaluate_plot(X_scaled_test_butterfly_a, y_test_butterfly_a, model, scaler_y, 'Butterfly Motion A')"
   ],
   "metadata": {
    "collapsed": false,
    "is_executing": true
   },
   "id": "3fc9ccb8f1bf20f7"
  },
  {
   "cell_type": "code",
   "outputs": [],
   "source": [
    "y_test_butterfly_b_pred, mse_butterfly_b, mae_butterfly_b, r2_butterfly_b = predict_evaluate_plot(X_scaled_test_butterfly_b, y_test_butterfly_b, model, scaler_y, 'Butterfly Motion B')"
   ],
   "metadata": {
    "collapsed": false,
    "is_executing": true
   },
   "id": "b1b2289a8860f0c6"
  },
  {
   "cell_type": "code",
   "outputs": [],
   "source": [
    "y_test_random_walk_pred, mse_random_walk, mae_random_walk, r2_random_walk = predict_evaluate_plot(X_scaled_test_random_walk, y_test_random_walk, model, scaler_y, 'Random Walk')"
   ],
   "metadata": {
    "collapsed": false,
    "is_executing": true
   },
   "id": "c46672ced98d6d65"
  }
 ],
 "metadata": {
  "kernelspec": {
   "display_name": "Python 3",
   "language": "python",
   "name": "python3"
  },
  "language_info": {
   "codemirror_mode": {
    "name": "ipython",
    "version": 2
   },
   "file_extension": ".py",
   "mimetype": "text/x-python",
   "name": "python",
   "nbconvert_exporter": "python",
   "pygments_lexer": "ipython2",
   "version": "2.7.6"
  }
 },
 "nbformat": 4,
 "nbformat_minor": 5
}
