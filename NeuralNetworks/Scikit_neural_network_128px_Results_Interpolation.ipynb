{
 "cells": [
  {
   "cell_type": "code",
   "outputs": [],
   "source": [
    "import numpy as np\n",
    "import pandas as pd\n",
    "from sklearn.preprocessing import StandardScaler"
   ],
   "metadata": {
    "collapsed": false,
    "ExecuteTime": {
     "end_time": "2024-03-05T09:28:02.392226800Z",
     "start_time": "2024-03-05T09:28:01.427144100Z"
    }
   },
   "id": "initial_id",
   "execution_count": 1
  },
  {
   "cell_type": "code",
   "outputs": [
    {
     "data": {
      "text/plain": "((4711, 3), (4711, 14))"
     },
     "execution_count": 2,
     "metadata": {},
     "output_type": "execute_result"
    }
   ],
   "source": [
    "# Inlezen van CSV-bestand\n",
    "dataPositions = pd.read_csv('../interpolated-data/positions_xyz_128px_full.csv')\n",
    "dataCoordinates = pd.read_csv('../interpolated-data/red_ball_coordinates_128px_full.csv')\n",
    "dataPositions.shape, dataCoordinates.shape"
   ],
   "metadata": {
    "collapsed": false,
    "ExecuteTime": {
     "end_time": "2024-03-05T09:28:02.431227400Z",
     "start_time": "2024-03-05T09:28:02.397225200Z"
    }
   },
   "id": "9be410102b6e0b08",
   "execution_count": 2
  },
  {
   "cell_type": "code",
   "outputs": [
    {
     "data": {
      "text/plain": "         u0    v0    u1     v1          u2          v2         u3         v3  \\\n0       0.0  42.0  87.0   39.0   34.853473   82.531266  44.000000   83.00000   \n1       0.5  42.5  87.0   40.0   34.853473   82.531266  45.000000   84.00000   \n2       0.5  43.5  87.0   41.0   34.853473   82.531266  45.000000   85.00000   \n3       1.0  45.0  87.5   42.0   34.853473   82.531266  45.000000   86.00000   \n4       1.0  45.5  88.0   43.0   34.853473   82.531266  45.000000   86.00000   \n...     ...   ...   ...    ...         ...         ...        ...        ...   \n4706  122.0  64.0  79.0  115.0  121.000000  117.000000  45.465763  106.74694   \n4707  123.0  62.0  96.0  120.5  121.000000  115.000000  45.465763  106.74694   \n4708  123.0  61.0  96.0  120.5  121.000000  113.000000  45.465763  106.74694   \n4709  123.0  57.0  79.0  115.0  121.000000  109.000000  45.465763  106.74694   \n4710  123.0  59.0  96.0  120.5  121.000000  111.000000  45.465763  106.74694   \n\n             u4         v4         u5          v5         u6          v6  \\\n0     89.000000  83.000000  28.886553  118.791444  69.000000  122.000000   \n1     89.000000  84.000000  28.886553  118.791444  68.500000  120.500000   \n2     89.000000  85.000000  28.886553  118.791444  68.500000  120.500000   \n3     89.000000  86.000000  28.886553  118.791444  68.500000  120.500000   \n4     90.000000  87.000000  28.886553  118.791444  68.500000  120.500000   \n...         ...        ...        ...         ...        ...         ...   \n4706  84.286003  95.550908 -29.617042  237.188872  90.315662  134.650737   \n4707  84.286003  95.550908 -29.617042  237.188872  90.315662  134.650737   \n4708  84.286003  95.550908 -29.617042  237.188872  90.315662  134.650737   \n4709  84.286003  95.550908 -29.617042  237.188872  90.315662  134.650737   \n4710  84.286003  95.550908 -29.617042  237.188872  90.315662  134.650737   \n\n              x         y         z  \n0     10.138330  3.169981  15.09998  \n1     10.133340  3.269852  15.19985  \n2     10.125010  3.369500  15.29950  \n3     10.113370  3.468816  15.39882  \n4     10.098430  3.567688  15.49769  \n...         ...       ...       ...  \n4706   4.720146  3.151380   7.95000  \n4707   4.714249  3.084737   7.95000  \n4708   4.708378  3.018077   7.95000  \n4709   4.702536  2.951475   7.95000  \n4710   4.675747  2.644979   7.95000  \n\n[4711 rows x 17 columns]",
      "text/html": "<div>\n<style scoped>\n    .dataframe tbody tr th:only-of-type {\n        vertical-align: middle;\n    }\n\n    .dataframe tbody tr th {\n        vertical-align: top;\n    }\n\n    .dataframe thead th {\n        text-align: right;\n    }\n</style>\n<table border=\"1\" class=\"dataframe\">\n  <thead>\n    <tr style=\"text-align: right;\">\n      <th></th>\n      <th>u0</th>\n      <th>v0</th>\n      <th>u1</th>\n      <th>v1</th>\n      <th>u2</th>\n      <th>v2</th>\n      <th>u3</th>\n      <th>v3</th>\n      <th>u4</th>\n      <th>v4</th>\n      <th>u5</th>\n      <th>v5</th>\n      <th>u6</th>\n      <th>v6</th>\n      <th>x</th>\n      <th>y</th>\n      <th>z</th>\n    </tr>\n  </thead>\n  <tbody>\n    <tr>\n      <th>0</th>\n      <td>0.0</td>\n      <td>42.0</td>\n      <td>87.0</td>\n      <td>39.0</td>\n      <td>34.853473</td>\n      <td>82.531266</td>\n      <td>44.000000</td>\n      <td>83.00000</td>\n      <td>89.000000</td>\n      <td>83.000000</td>\n      <td>28.886553</td>\n      <td>118.791444</td>\n      <td>69.000000</td>\n      <td>122.000000</td>\n      <td>10.138330</td>\n      <td>3.169981</td>\n      <td>15.09998</td>\n    </tr>\n    <tr>\n      <th>1</th>\n      <td>0.5</td>\n      <td>42.5</td>\n      <td>87.0</td>\n      <td>40.0</td>\n      <td>34.853473</td>\n      <td>82.531266</td>\n      <td>45.000000</td>\n      <td>84.00000</td>\n      <td>89.000000</td>\n      <td>84.000000</td>\n      <td>28.886553</td>\n      <td>118.791444</td>\n      <td>68.500000</td>\n      <td>120.500000</td>\n      <td>10.133340</td>\n      <td>3.269852</td>\n      <td>15.19985</td>\n    </tr>\n    <tr>\n      <th>2</th>\n      <td>0.5</td>\n      <td>43.5</td>\n      <td>87.0</td>\n      <td>41.0</td>\n      <td>34.853473</td>\n      <td>82.531266</td>\n      <td>45.000000</td>\n      <td>85.00000</td>\n      <td>89.000000</td>\n      <td>85.000000</td>\n      <td>28.886553</td>\n      <td>118.791444</td>\n      <td>68.500000</td>\n      <td>120.500000</td>\n      <td>10.125010</td>\n      <td>3.369500</td>\n      <td>15.29950</td>\n    </tr>\n    <tr>\n      <th>3</th>\n      <td>1.0</td>\n      <td>45.0</td>\n      <td>87.5</td>\n      <td>42.0</td>\n      <td>34.853473</td>\n      <td>82.531266</td>\n      <td>45.000000</td>\n      <td>86.00000</td>\n      <td>89.000000</td>\n      <td>86.000000</td>\n      <td>28.886553</td>\n      <td>118.791444</td>\n      <td>68.500000</td>\n      <td>120.500000</td>\n      <td>10.113370</td>\n      <td>3.468816</td>\n      <td>15.39882</td>\n    </tr>\n    <tr>\n      <th>4</th>\n      <td>1.0</td>\n      <td>45.5</td>\n      <td>88.0</td>\n      <td>43.0</td>\n      <td>34.853473</td>\n      <td>82.531266</td>\n      <td>45.000000</td>\n      <td>86.00000</td>\n      <td>90.000000</td>\n      <td>87.000000</td>\n      <td>28.886553</td>\n      <td>118.791444</td>\n      <td>68.500000</td>\n      <td>120.500000</td>\n      <td>10.098430</td>\n      <td>3.567688</td>\n      <td>15.49769</td>\n    </tr>\n    <tr>\n      <th>...</th>\n      <td>...</td>\n      <td>...</td>\n      <td>...</td>\n      <td>...</td>\n      <td>...</td>\n      <td>...</td>\n      <td>...</td>\n      <td>...</td>\n      <td>...</td>\n      <td>...</td>\n      <td>...</td>\n      <td>...</td>\n      <td>...</td>\n      <td>...</td>\n      <td>...</td>\n      <td>...</td>\n      <td>...</td>\n    </tr>\n    <tr>\n      <th>4706</th>\n      <td>122.0</td>\n      <td>64.0</td>\n      <td>79.0</td>\n      <td>115.0</td>\n      <td>121.000000</td>\n      <td>117.000000</td>\n      <td>45.465763</td>\n      <td>106.74694</td>\n      <td>84.286003</td>\n      <td>95.550908</td>\n      <td>-29.617042</td>\n      <td>237.188872</td>\n      <td>90.315662</td>\n      <td>134.650737</td>\n      <td>4.720146</td>\n      <td>3.151380</td>\n      <td>7.95000</td>\n    </tr>\n    <tr>\n      <th>4707</th>\n      <td>123.0</td>\n      <td>62.0</td>\n      <td>96.0</td>\n      <td>120.5</td>\n      <td>121.000000</td>\n      <td>115.000000</td>\n      <td>45.465763</td>\n      <td>106.74694</td>\n      <td>84.286003</td>\n      <td>95.550908</td>\n      <td>-29.617042</td>\n      <td>237.188872</td>\n      <td>90.315662</td>\n      <td>134.650737</td>\n      <td>4.714249</td>\n      <td>3.084737</td>\n      <td>7.95000</td>\n    </tr>\n    <tr>\n      <th>4708</th>\n      <td>123.0</td>\n      <td>61.0</td>\n      <td>96.0</td>\n      <td>120.5</td>\n      <td>121.000000</td>\n      <td>113.000000</td>\n      <td>45.465763</td>\n      <td>106.74694</td>\n      <td>84.286003</td>\n      <td>95.550908</td>\n      <td>-29.617042</td>\n      <td>237.188872</td>\n      <td>90.315662</td>\n      <td>134.650737</td>\n      <td>4.708378</td>\n      <td>3.018077</td>\n      <td>7.95000</td>\n    </tr>\n    <tr>\n      <th>4709</th>\n      <td>123.0</td>\n      <td>57.0</td>\n      <td>79.0</td>\n      <td>115.0</td>\n      <td>121.000000</td>\n      <td>109.000000</td>\n      <td>45.465763</td>\n      <td>106.74694</td>\n      <td>84.286003</td>\n      <td>95.550908</td>\n      <td>-29.617042</td>\n      <td>237.188872</td>\n      <td>90.315662</td>\n      <td>134.650737</td>\n      <td>4.702536</td>\n      <td>2.951475</td>\n      <td>7.95000</td>\n    </tr>\n    <tr>\n      <th>4710</th>\n      <td>123.0</td>\n      <td>59.0</td>\n      <td>96.0</td>\n      <td>120.5</td>\n      <td>121.000000</td>\n      <td>111.000000</td>\n      <td>45.465763</td>\n      <td>106.74694</td>\n      <td>84.286003</td>\n      <td>95.550908</td>\n      <td>-29.617042</td>\n      <td>237.188872</td>\n      <td>90.315662</td>\n      <td>134.650737</td>\n      <td>4.675747</td>\n      <td>2.644979</td>\n      <td>7.95000</td>\n    </tr>\n  </tbody>\n</table>\n<p>4711 rows × 17 columns</p>\n</div>"
     },
     "execution_count": 3,
     "metadata": {},
     "output_type": "execute_result"
    }
   ],
   "source": [
    "combined = pd.concat([dataCoordinates, dataPositions], axis=1)\n",
    "# remove the rows with to more than 3 NaN values\n",
    "\n",
    "combined = combined.dropna(thresh=combined.shape[1]-3)\n",
    "combined"
   ],
   "metadata": {
    "collapsed": false,
    "ExecuteTime": {
     "end_time": "2024-03-05T09:28:02.471752700Z",
     "start_time": "2024-03-05T09:28:02.424707900Z"
    }
   },
   "id": "5ec15ec319d57a66",
   "execution_count": 3
  },
  {
   "cell_type": "code",
   "outputs": [],
   "source": [
    "X = combined.iloc[:, :14] # select all rows and columns from 0 to 13\n",
    "y = combined.iloc[:, 14:] # select x y z output columns"
   ],
   "metadata": {
    "collapsed": false,
    "ExecuteTime": {
     "end_time": "2024-03-05T09:28:02.473754200Z",
     "start_time": "2024-03-05T09:28:02.463192600Z"
    }
   },
   "id": "9ed5f2f7569c0e8a",
   "execution_count": 4
  },
  {
   "cell_type": "markdown",
   "source": [
    "### Data Preprocessing"
   ],
   "metadata": {
    "collapsed": false
   },
   "id": "866df316b63c29f9"
  },
  {
   "cell_type": "code",
   "outputs": [],
   "source": [
    "from sklearn.impute import KNNImputer\n",
    "\n",
    "#imputer = KNNImputer(n_neighbors=2)\n",
    "#dfX = imputer.fit_transform(X)\n",
    "#y = imputer.fit_transform(y)"
   ],
   "metadata": {
    "collapsed": false,
    "ExecuteTime": {
     "end_time": "2024-03-05T09:28:02.612070400Z",
     "start_time": "2024-03-05T09:28:02.473754200Z"
    }
   },
   "id": "852137494dd7cb25",
   "execution_count": 5
  },
  {
   "cell_type": "markdown",
   "source": [
    "### Splitting the dataset into the Training set and Test set"
   ],
   "metadata": {
    "collapsed": false
   },
   "id": "1868e419393ae127"
  },
  {
   "cell_type": "code",
   "outputs": [
    {
     "data": {
      "text/plain": "((4711, 14), (4711, 3))"
     },
     "execution_count": 6,
     "metadata": {},
     "output_type": "execute_result"
    }
   ],
   "source": [
    "scaler_X = StandardScaler()\n",
    "X_train_scaled = scaler_X.fit_transform(X)\n",
    "\n",
    "scaler_y = StandardScaler()\n",
    "y_train_scaled = scaler_y.fit_transform(y)\n",
    "\n",
    "\n",
    "X.shape, y.shape"
   ],
   "metadata": {
    "collapsed": false,
    "ExecuteTime": {
     "end_time": "2024-03-05T09:28:02.613071500Z",
     "start_time": "2024-03-05T09:28:02.600559Z"
    }
   },
   "id": "5cde4d1e70339db2",
   "execution_count": 6
  },
  {
   "cell_type": "markdown",
   "source": [
    "### Hyperparameter tuning"
   ],
   "metadata": {
    "collapsed": false
   },
   "id": "7a762836c2e34bb6"
  },
  {
   "cell_type": "code",
   "outputs": [],
   "source": [
    "from sklearn.pipeline import Pipeline\n",
    "from sklearn.model_selection import RandomizedSearchCV\n",
    "from sklearn.neural_network import MLPRegressor\n",
    "\n",
    "# Define a parameter grid for the MLPRegressor\n",
    "param_grid = {\n",
    "    'model__hidden_layer_sizes': [ (50, 50), (150, 100, 50), (200, 150, 100)],\n",
    "    'model__activation': ['identity', 'logistic', 'tanh', 'relu'],\n",
    "    'model__solver': ['sgd', 'adam'],\n",
    "    'model__learning_rate': ['constant', 'invscaling', 'adaptive'],\n",
    "    'model__learning_rate_init': [0.001, 0.01, 0.1],\n",
    "    'model__max_iter': [10000, 20000, 28000],\n",
    "    'model__early_stopping': [True],\n",
    "}\n",
    "\n",
    "# Create a pipeline with an MLPRegressor model\n",
    "pipeline = Pipeline([\n",
    "    ('model', MLPRegressor(random_state=42))\n",
    "])\n",
    "\n",
    "# Perform a randomized search over the parameter grid\n",
    "random_search = RandomizedSearchCV(pipeline, param_distributions=param_grid, n_iter=100, cv=5, n_jobs=1, verbose=2, random_state=42)"
   ],
   "metadata": {
    "collapsed": false,
    "ExecuteTime": {
     "end_time": "2024-03-05T09:28:02.646800400Z",
     "start_time": "2024-03-05T09:28:02.616072100Z"
    }
   },
   "id": "b29999aedf418c9f",
   "execution_count": 7
  },
  {
   "cell_type": "markdown",
   "source": [
    "#### Train the model"
   ],
   "metadata": {
    "collapsed": false
   },
   "id": "b1f571f33e59b1d1"
  },
  {
   "cell_type": "code",
   "outputs": [
    {
     "name": "stdout",
     "output_type": "stream",
     "text": [
      "Fitting 5 folds for each of 100 candidates, totalling 500 fits\n",
      "[CV] END model__activation=relu, model__early_stopping=True, model__hidden_layer_sizes=(200, 150, 100), model__learning_rate=adaptive, model__learning_rate_init=0.001, model__max_iter=28000, model__solver=adam; total time=   3.5s\n",
      "[CV] END model__activation=relu, model__early_stopping=True, model__hidden_layer_sizes=(200, 150, 100), model__learning_rate=adaptive, model__learning_rate_init=0.001, model__max_iter=28000, model__solver=adam; total time=   6.3s\n",
      "[CV] END model__activation=relu, model__early_stopping=True, model__hidden_layer_sizes=(200, 150, 100), model__learning_rate=adaptive, model__learning_rate_init=0.001, model__max_iter=28000, model__solver=adam; total time=  15.2s\n",
      "[CV] END model__activation=relu, model__early_stopping=True, model__hidden_layer_sizes=(200, 150, 100), model__learning_rate=adaptive, model__learning_rate_init=0.001, model__max_iter=28000, model__solver=adam; total time=  16.2s\n",
      "[CV] END model__activation=relu, model__early_stopping=True, model__hidden_layer_sizes=(200, 150, 100), model__learning_rate=adaptive, model__learning_rate_init=0.001, model__max_iter=28000, model__solver=adam; total time=  15.5s\n",
      "[CV] END model__activation=logistic, model__early_stopping=True, model__hidden_layer_sizes=(150, 100, 50), model__learning_rate=constant, model__learning_rate_init=0.001, model__max_iter=28000, model__solver=sgd; total time=  14.6s\n",
      "[CV] END model__activation=logistic, model__early_stopping=True, model__hidden_layer_sizes=(150, 100, 50), model__learning_rate=constant, model__learning_rate_init=0.001, model__max_iter=28000, model__solver=sgd; total time=   3.8s\n",
      "[CV] END model__activation=logistic, model__early_stopping=True, model__hidden_layer_sizes=(150, 100, 50), model__learning_rate=constant, model__learning_rate_init=0.001, model__max_iter=28000, model__solver=sgd; total time=   3.4s\n",
      "[CV] END model__activation=logistic, model__early_stopping=True, model__hidden_layer_sizes=(150, 100, 50), model__learning_rate=constant, model__learning_rate_init=0.001, model__max_iter=28000, model__solver=sgd; total time=   3.2s\n",
      "[CV] END model__activation=logistic, model__early_stopping=True, model__hidden_layer_sizes=(150, 100, 50), model__learning_rate=constant, model__learning_rate_init=0.001, model__max_iter=28000, model__solver=sgd; total time=   3.9s\n",
      "[CV] END model__activation=relu, model__early_stopping=True, model__hidden_layer_sizes=(150, 100, 50), model__learning_rate=adaptive, model__learning_rate_init=0.1, model__max_iter=28000, model__solver=adam; total time=   4.7s\n",
      "[CV] END model__activation=relu, model__early_stopping=True, model__hidden_layer_sizes=(150, 100, 50), model__learning_rate=adaptive, model__learning_rate_init=0.1, model__max_iter=28000, model__solver=adam; total time=   5.0s\n",
      "[CV] END model__activation=relu, model__early_stopping=True, model__hidden_layer_sizes=(150, 100, 50), model__learning_rate=adaptive, model__learning_rate_init=0.1, model__max_iter=28000, model__solver=adam; total time=   6.9s\n",
      "[CV] END model__activation=relu, model__early_stopping=True, model__hidden_layer_sizes=(150, 100, 50), model__learning_rate=adaptive, model__learning_rate_init=0.1, model__max_iter=28000, model__solver=adam; total time=   5.4s\n",
      "[CV] END model__activation=relu, model__early_stopping=True, model__hidden_layer_sizes=(150, 100, 50), model__learning_rate=adaptive, model__learning_rate_init=0.1, model__max_iter=28000, model__solver=adam; total time=   6.3s\n",
      "[CV] END model__activation=tanh, model__early_stopping=True, model__hidden_layer_sizes=(150, 100, 50), model__learning_rate=adaptive, model__learning_rate_init=0.1, model__max_iter=20000, model__solver=adam; total time=   5.3s\n",
      "[CV] END model__activation=tanh, model__early_stopping=True, model__hidden_layer_sizes=(150, 100, 50), model__learning_rate=adaptive, model__learning_rate_init=0.1, model__max_iter=20000, model__solver=adam; total time=   6.3s\n",
      "[CV] END model__activation=tanh, model__early_stopping=True, model__hidden_layer_sizes=(150, 100, 50), model__learning_rate=adaptive, model__learning_rate_init=0.1, model__max_iter=20000, model__solver=adam; total time=   6.9s\n",
      "[CV] END model__activation=tanh, model__early_stopping=True, model__hidden_layer_sizes=(150, 100, 50), model__learning_rate=adaptive, model__learning_rate_init=0.1, model__max_iter=20000, model__solver=adam; total time=   7.5s\n",
      "[CV] END model__activation=tanh, model__early_stopping=True, model__hidden_layer_sizes=(150, 100, 50), model__learning_rate=adaptive, model__learning_rate_init=0.1, model__max_iter=20000, model__solver=adam; total time=   6.6s\n",
      "[CV] END model__activation=identity, model__early_stopping=True, model__hidden_layer_sizes=(150, 100, 50), model__learning_rate=invscaling, model__learning_rate_init=0.001, model__max_iter=10000, model__solver=sgd; total time=  10.9s\n",
      "[CV] END model__activation=identity, model__early_stopping=True, model__hidden_layer_sizes=(150, 100, 50), model__learning_rate=invscaling, model__learning_rate_init=0.001, model__max_iter=10000, model__solver=sgd; total time=   9.2s\n",
      "[CV] END model__activation=identity, model__early_stopping=True, model__hidden_layer_sizes=(150, 100, 50), model__learning_rate=invscaling, model__learning_rate_init=0.001, model__max_iter=10000, model__solver=sgd; total time=  10.0s\n",
      "[CV] END model__activation=identity, model__early_stopping=True, model__hidden_layer_sizes=(150, 100, 50), model__learning_rate=invscaling, model__learning_rate_init=0.001, model__max_iter=10000, model__solver=sgd; total time=  14.4s\n",
      "[CV] END model__activation=identity, model__early_stopping=True, model__hidden_layer_sizes=(150, 100, 50), model__learning_rate=invscaling, model__learning_rate_init=0.001, model__max_iter=10000, model__solver=sgd; total time=  29.4s\n"
     ]
    },
    {
     "name": "stderr",
     "output_type": "stream",
     "text": [
      "C:\\Users\\xande\\venv\\lib\\site-packages\\numpy\\core\\_methods.py:118: RuntimeWarning: overflow encountered in reduce\n",
      "  ret = umr_sum(arr, axis, dtype, out, keepdims, where=where)\n",
      "C:\\Users\\xande\\venv\\lib\\site-packages\\sklearn\\neural_network\\_base.py:173: RuntimeWarning: overflow encountered in square\n",
      "  return ((y_true - y_pred) ** 2).mean() / 2\n",
      "C:\\Users\\xande\\venv\\lib\\site-packages\\sklearn\\utils\\extmath.py:192: RuntimeWarning: overflow encountered in matmul\n",
      "  ret = a @ b\n",
      "C:\\Users\\xande\\venv\\lib\\site-packages\\sklearn\\neural_network\\_base.py:128: RuntimeWarning: invalid value encountered in multiply\n",
      "  delta *= 1 - Z**2\n"
     ]
    },
    {
     "name": "stdout",
     "output_type": "stream",
     "text": [
      "[CV] END model__activation=tanh, model__early_stopping=True, model__hidden_layer_sizes=(200, 150, 100), model__learning_rate=constant, model__learning_rate_init=0.1, model__max_iter=28000, model__solver=sgd; total time=   2.3s\n"
     ]
    },
    {
     "name": "stderr",
     "output_type": "stream",
     "text": [
      "C:\\Users\\xande\\venv\\lib\\site-packages\\numpy\\core\\_methods.py:118: RuntimeWarning: overflow encountered in reduce\n",
      "  ret = umr_sum(arr, axis, dtype, out, keepdims, where=where)\n",
      "C:\\Users\\xande\\venv\\lib\\site-packages\\sklearn\\metrics\\_regression.py:1005: RuntimeWarning: overflow encountered in square\n",
      "  numerator = (weight * (y_true - y_pred) ** 2).sum(axis=0, dtype=np.float64)\n",
      "C:\\Users\\xande\\venv\\lib\\site-packages\\numpy\\core\\_methods.py:49: RuntimeWarning: overflow encountered in reduce\n",
      "  return umr_sum(a, axis, dtype, out, keepdims, initial, where)\n"
     ]
    },
    {
     "name": "stdout",
     "output_type": "stream",
     "text": [
      "[CV] END model__activation=tanh, model__early_stopping=True, model__hidden_layer_sizes=(200, 150, 100), model__learning_rate=constant, model__learning_rate_init=0.1, model__max_iter=28000, model__solver=sgd; total time=   2.6s\n",
      "[CV] END model__activation=tanh, model__early_stopping=True, model__hidden_layer_sizes=(200, 150, 100), model__learning_rate=constant, model__learning_rate_init=0.1, model__max_iter=28000, model__solver=sgd; total time=   2.5s\n",
      "[CV] END model__activation=tanh, model__early_stopping=True, model__hidden_layer_sizes=(200, 150, 100), model__learning_rate=constant, model__learning_rate_init=0.1, model__max_iter=28000, model__solver=sgd; total time=   2.5s\n"
     ]
    },
    {
     "name": "stderr",
     "output_type": "stream",
     "text": [
      "C:\\Users\\xande\\venv\\lib\\site-packages\\numpy\\core\\_methods.py:118: RuntimeWarning: overflow encountered in reduce\n",
      "  ret = umr_sum(arr, axis, dtype, out, keepdims, where=where)\n",
      "C:\\Users\\xande\\venv\\lib\\site-packages\\sklearn\\neural_network\\_base.py:173: RuntimeWarning: overflow encountered in square\n",
      "  return ((y_true - y_pred) ** 2).mean() / 2\n",
      "C:\\Users\\xande\\venv\\lib\\site-packages\\sklearn\\utils\\extmath.py:192: RuntimeWarning: overflow encountered in matmul\n",
      "  ret = a @ b\n",
      "C:\\Users\\xande\\venv\\lib\\site-packages\\sklearn\\neural_network\\_base.py:128: RuntimeWarning: invalid value encountered in multiply\n",
      "  delta *= 1 - Z**2\n"
     ]
    },
    {
     "name": "stdout",
     "output_type": "stream",
     "text": [
      "[CV] END model__activation=tanh, model__early_stopping=True, model__hidden_layer_sizes=(200, 150, 100), model__learning_rate=constant, model__learning_rate_init=0.1, model__max_iter=28000, model__solver=sgd; total time=   2.2s\n",
      "[CV] END model__activation=logistic, model__early_stopping=True, model__hidden_layer_sizes=(50, 50), model__learning_rate=invscaling, model__learning_rate_init=0.001, model__max_iter=10000, model__solver=adam; total time=  31.2s\n",
      "[CV] END model__activation=logistic, model__early_stopping=True, model__hidden_layer_sizes=(50, 50), model__learning_rate=invscaling, model__learning_rate_init=0.001, model__max_iter=10000, model__solver=adam; total time=  34.6s\n",
      "[CV] END model__activation=logistic, model__early_stopping=True, model__hidden_layer_sizes=(50, 50), model__learning_rate=invscaling, model__learning_rate_init=0.001, model__max_iter=10000, model__solver=adam; total time=  36.9s\n",
      "[CV] END model__activation=logistic, model__early_stopping=True, model__hidden_layer_sizes=(50, 50), model__learning_rate=invscaling, model__learning_rate_init=0.001, model__max_iter=10000, model__solver=adam; total time=  32.4s\n",
      "[CV] END model__activation=logistic, model__early_stopping=True, model__hidden_layer_sizes=(50, 50), model__learning_rate=invscaling, model__learning_rate_init=0.001, model__max_iter=10000, model__solver=adam; total time=  47.8s\n",
      "[CV] END model__activation=identity, model__early_stopping=True, model__hidden_layer_sizes=(200, 150, 100), model__learning_rate=invscaling, model__learning_rate_init=0.001, model__max_iter=28000, model__solver=adam; total time=   1.5s\n",
      "[CV] END model__activation=identity, model__early_stopping=True, model__hidden_layer_sizes=(200, 150, 100), model__learning_rate=invscaling, model__learning_rate_init=0.001, model__max_iter=28000, model__solver=adam; total time=   1.3s\n",
      "[CV] END model__activation=identity, model__early_stopping=True, model__hidden_layer_sizes=(200, 150, 100), model__learning_rate=invscaling, model__learning_rate_init=0.001, model__max_iter=28000, model__solver=adam; total time=   2.4s\n",
      "[CV] END model__activation=identity, model__early_stopping=True, model__hidden_layer_sizes=(200, 150, 100), model__learning_rate=invscaling, model__learning_rate_init=0.001, model__max_iter=28000, model__solver=adam; total time=   3.9s\n",
      "[CV] END model__activation=identity, model__early_stopping=True, model__hidden_layer_sizes=(200, 150, 100), model__learning_rate=invscaling, model__learning_rate_init=0.001, model__max_iter=28000, model__solver=adam; total time=   3.6s\n",
      "[CV] END model__activation=logistic, model__early_stopping=True, model__hidden_layer_sizes=(150, 100, 50), model__learning_rate=constant, model__learning_rate_init=0.1, model__max_iter=20000, model__solver=adam; total time=   5.1s\n",
      "[CV] END model__activation=logistic, model__early_stopping=True, model__hidden_layer_sizes=(150, 100, 50), model__learning_rate=constant, model__learning_rate_init=0.1, model__max_iter=20000, model__solver=adam; total time=   7.2s\n",
      "[CV] END model__activation=logistic, model__early_stopping=True, model__hidden_layer_sizes=(150, 100, 50), model__learning_rate=constant, model__learning_rate_init=0.1, model__max_iter=20000, model__solver=adam; total time=   5.4s\n",
      "[CV] END model__activation=logistic, model__early_stopping=True, model__hidden_layer_sizes=(150, 100, 50), model__learning_rate=constant, model__learning_rate_init=0.1, model__max_iter=20000, model__solver=adam; total time=   3.9s\n",
      "[CV] END model__activation=logistic, model__early_stopping=True, model__hidden_layer_sizes=(150, 100, 50), model__learning_rate=constant, model__learning_rate_init=0.1, model__max_iter=20000, model__solver=adam; total time=   8.7s\n",
      "[CV] END model__activation=logistic, model__early_stopping=True, model__hidden_layer_sizes=(200, 150, 100), model__learning_rate=constant, model__learning_rate_init=0.01, model__max_iter=10000, model__solver=adam; total time=  19.6s\n",
      "[CV] END model__activation=logistic, model__early_stopping=True, model__hidden_layer_sizes=(200, 150, 100), model__learning_rate=constant, model__learning_rate_init=0.01, model__max_iter=10000, model__solver=adam; total time=  23.4s\n",
      "[CV] END model__activation=logistic, model__early_stopping=True, model__hidden_layer_sizes=(200, 150, 100), model__learning_rate=constant, model__learning_rate_init=0.01, model__max_iter=10000, model__solver=adam; total time=  31.4s\n",
      "[CV] END model__activation=logistic, model__early_stopping=True, model__hidden_layer_sizes=(200, 150, 100), model__learning_rate=constant, model__learning_rate_init=0.01, model__max_iter=10000, model__solver=adam; total time=  27.8s\n",
      "[CV] END model__activation=logistic, model__early_stopping=True, model__hidden_layer_sizes=(200, 150, 100), model__learning_rate=constant, model__learning_rate_init=0.01, model__max_iter=10000, model__solver=adam; total time=  44.7s\n",
      "[CV] END model__activation=relu, model__early_stopping=True, model__hidden_layer_sizes=(200, 150, 100), model__learning_rate=constant, model__learning_rate_init=0.01, model__max_iter=28000, model__solver=adam; total time=   8.3s\n",
      "[CV] END model__activation=relu, model__early_stopping=True, model__hidden_layer_sizes=(200, 150, 100), model__learning_rate=constant, model__learning_rate_init=0.01, model__max_iter=28000, model__solver=adam; total time=   5.2s\n",
      "[CV] END model__activation=relu, model__early_stopping=True, model__hidden_layer_sizes=(200, 150, 100), model__learning_rate=constant, model__learning_rate_init=0.01, model__max_iter=28000, model__solver=adam; total time=   6.3s\n",
      "[CV] END model__activation=relu, model__early_stopping=True, model__hidden_layer_sizes=(200, 150, 100), model__learning_rate=constant, model__learning_rate_init=0.01, model__max_iter=28000, model__solver=adam; total time=  12.8s\n",
      "[CV] END model__activation=relu, model__early_stopping=True, model__hidden_layer_sizes=(200, 150, 100), model__learning_rate=constant, model__learning_rate_init=0.01, model__max_iter=28000, model__solver=adam; total time=   5.7s\n",
      "[CV] END model__activation=logistic, model__early_stopping=True, model__hidden_layer_sizes=(200, 150, 100), model__learning_rate=constant, model__learning_rate_init=0.01, model__max_iter=28000, model__solver=adam; total time=  17.5s\n",
      "[CV] END model__activation=logistic, model__early_stopping=True, model__hidden_layer_sizes=(200, 150, 100), model__learning_rate=constant, model__learning_rate_init=0.01, model__max_iter=28000, model__solver=adam; total time=  19.9s\n",
      "[CV] END model__activation=logistic, model__early_stopping=True, model__hidden_layer_sizes=(200, 150, 100), model__learning_rate=constant, model__learning_rate_init=0.01, model__max_iter=28000, model__solver=adam; total time=  31.5s\n",
      "[CV] END model__activation=logistic, model__early_stopping=True, model__hidden_layer_sizes=(200, 150, 100), model__learning_rate=constant, model__learning_rate_init=0.01, model__max_iter=28000, model__solver=adam; total time=  30.5s\n",
      "[CV] END model__activation=logistic, model__early_stopping=True, model__hidden_layer_sizes=(200, 150, 100), model__learning_rate=constant, model__learning_rate_init=0.01, model__max_iter=28000, model__solver=adam; total time=  50.9s\n",
      "[CV] END model__activation=logistic, model__early_stopping=True, model__hidden_layer_sizes=(150, 100, 50), model__learning_rate=invscaling, model__learning_rate_init=0.1, model__max_iter=20000, model__solver=adam; total time=   3.2s\n",
      "[CV] END model__activation=logistic, model__early_stopping=True, model__hidden_layer_sizes=(150, 100, 50), model__learning_rate=invscaling, model__learning_rate_init=0.1, model__max_iter=20000, model__solver=adam; total time=   5.0s\n",
      "[CV] END model__activation=logistic, model__early_stopping=True, model__hidden_layer_sizes=(150, 100, 50), model__learning_rate=invscaling, model__learning_rate_init=0.1, model__max_iter=20000, model__solver=adam; total time=   3.9s\n",
      "[CV] END model__activation=logistic, model__early_stopping=True, model__hidden_layer_sizes=(150, 100, 50), model__learning_rate=invscaling, model__learning_rate_init=0.1, model__max_iter=20000, model__solver=adam; total time=   3.2s\n",
      "[CV] END model__activation=logistic, model__early_stopping=True, model__hidden_layer_sizes=(150, 100, 50), model__learning_rate=invscaling, model__learning_rate_init=0.1, model__max_iter=20000, model__solver=adam; total time=   7.9s\n",
      "[CV] END model__activation=identity, model__early_stopping=True, model__hidden_layer_sizes=(150, 100, 50), model__learning_rate=invscaling, model__learning_rate_init=0.01, model__max_iter=20000, model__solver=adam; total time=   1.0s\n",
      "[CV] END model__activation=identity, model__early_stopping=True, model__hidden_layer_sizes=(150, 100, 50), model__learning_rate=invscaling, model__learning_rate_init=0.01, model__max_iter=20000, model__solver=adam; total time=   1.0s\n",
      "[CV] END model__activation=identity, model__early_stopping=True, model__hidden_layer_sizes=(150, 100, 50), model__learning_rate=invscaling, model__learning_rate_init=0.01, model__max_iter=20000, model__solver=adam; total time=   1.4s\n",
      "[CV] END model__activation=identity, model__early_stopping=True, model__hidden_layer_sizes=(150, 100, 50), model__learning_rate=invscaling, model__learning_rate_init=0.01, model__max_iter=20000, model__solver=adam; total time=   2.1s\n",
      "[CV] END model__activation=identity, model__early_stopping=True, model__hidden_layer_sizes=(150, 100, 50), model__learning_rate=invscaling, model__learning_rate_init=0.01, model__max_iter=20000, model__solver=adam; total time=   0.9s\n",
      "[CV] END model__activation=tanh, model__early_stopping=True, model__hidden_layer_sizes=(200, 150, 100), model__learning_rate=invscaling, model__learning_rate_init=0.1, model__max_iter=10000, model__solver=adam; total time=   5.6s\n",
      "[CV] END model__activation=tanh, model__early_stopping=True, model__hidden_layer_sizes=(200, 150, 100), model__learning_rate=invscaling, model__learning_rate_init=0.1, model__max_iter=10000, model__solver=adam; total time=   3.8s\n",
      "[CV] END model__activation=tanh, model__early_stopping=True, model__hidden_layer_sizes=(200, 150, 100), model__learning_rate=invscaling, model__learning_rate_init=0.1, model__max_iter=10000, model__solver=adam; total time=   8.9s\n",
      "[CV] END model__activation=tanh, model__early_stopping=True, model__hidden_layer_sizes=(200, 150, 100), model__learning_rate=invscaling, model__learning_rate_init=0.1, model__max_iter=10000, model__solver=adam; total time=   7.9s\n",
      "[CV] END model__activation=tanh, model__early_stopping=True, model__hidden_layer_sizes=(200, 150, 100), model__learning_rate=invscaling, model__learning_rate_init=0.1, model__max_iter=10000, model__solver=adam; total time=   5.6s\n",
      "[CV] END model__activation=logistic, model__early_stopping=True, model__hidden_layer_sizes=(150, 100, 50), model__learning_rate=invscaling, model__learning_rate_init=0.1, model__max_iter=10000, model__solver=adam; total time=   4.4s\n",
      "[CV] END model__activation=logistic, model__early_stopping=True, model__hidden_layer_sizes=(150, 100, 50), model__learning_rate=invscaling, model__learning_rate_init=0.1, model__max_iter=10000, model__solver=adam; total time=   7.1s\n",
      "[CV] END model__activation=logistic, model__early_stopping=True, model__hidden_layer_sizes=(150, 100, 50), model__learning_rate=invscaling, model__learning_rate_init=0.1, model__max_iter=10000, model__solver=adam; total time=   4.9s\n",
      "[CV] END model__activation=logistic, model__early_stopping=True, model__hidden_layer_sizes=(150, 100, 50), model__learning_rate=invscaling, model__learning_rate_init=0.1, model__max_iter=10000, model__solver=adam; total time=   2.5s\n",
      "[CV] END model__activation=logistic, model__early_stopping=True, model__hidden_layer_sizes=(150, 100, 50), model__learning_rate=invscaling, model__learning_rate_init=0.1, model__max_iter=10000, model__solver=adam; total time=   6.1s\n",
      "[CV] END model__activation=tanh, model__early_stopping=True, model__hidden_layer_sizes=(50, 50), model__learning_rate=adaptive, model__learning_rate_init=0.001, model__max_iter=20000, model__solver=sgd; total time=  15.0s\n",
      "[CV] END model__activation=tanh, model__early_stopping=True, model__hidden_layer_sizes=(50, 50), model__learning_rate=adaptive, model__learning_rate_init=0.001, model__max_iter=20000, model__solver=sgd; total time=  18.3s\n",
      "[CV] END model__activation=tanh, model__early_stopping=True, model__hidden_layer_sizes=(50, 50), model__learning_rate=adaptive, model__learning_rate_init=0.001, model__max_iter=20000, model__solver=sgd; total time=  26.5s\n",
      "[CV] END model__activation=tanh, model__early_stopping=True, model__hidden_layer_sizes=(50, 50), model__learning_rate=adaptive, model__learning_rate_init=0.001, model__max_iter=20000, model__solver=sgd; total time=  20.6s\n",
      "[CV] END model__activation=tanh, model__early_stopping=True, model__hidden_layer_sizes=(50, 50), model__learning_rate=adaptive, model__learning_rate_init=0.001, model__max_iter=20000, model__solver=sgd; total time=  38.1s\n",
      "[CV] END model__activation=relu, model__early_stopping=True, model__hidden_layer_sizes=(200, 150, 100), model__learning_rate=constant, model__learning_rate_init=0.001, model__max_iter=28000, model__solver=sgd; total time=  20.9s\n",
      "[CV] END model__activation=relu, model__early_stopping=True, model__hidden_layer_sizes=(200, 150, 100), model__learning_rate=constant, model__learning_rate_init=0.001, model__max_iter=28000, model__solver=sgd; total time=  25.7s\n",
      "[CV] END model__activation=relu, model__early_stopping=True, model__hidden_layer_sizes=(200, 150, 100), model__learning_rate=constant, model__learning_rate_init=0.001, model__max_iter=28000, model__solver=sgd; total time=  24.2s\n",
      "[CV] END model__activation=relu, model__early_stopping=True, model__hidden_layer_sizes=(200, 150, 100), model__learning_rate=constant, model__learning_rate_init=0.001, model__max_iter=28000, model__solver=sgd; total time=  25.7s\n",
      "[CV] END model__activation=relu, model__early_stopping=True, model__hidden_layer_sizes=(200, 150, 100), model__learning_rate=constant, model__learning_rate_init=0.001, model__max_iter=28000, model__solver=sgd; total time= 1.0min\n",
      "[CV] END model__activation=identity, model__early_stopping=True, model__hidden_layer_sizes=(150, 100, 50), model__learning_rate=constant, model__learning_rate_init=0.1, model__max_iter=20000, model__solver=adam; total time=   5.6s\n",
      "[CV] END model__activation=identity, model__early_stopping=True, model__hidden_layer_sizes=(150, 100, 50), model__learning_rate=constant, model__learning_rate_init=0.1, model__max_iter=20000, model__solver=adam; total time=   4.6s\n",
      "[CV] END model__activation=identity, model__early_stopping=True, model__hidden_layer_sizes=(150, 100, 50), model__learning_rate=constant, model__learning_rate_init=0.1, model__max_iter=20000, model__solver=adam; total time=   2.9s\n",
      "[CV] END model__activation=identity, model__early_stopping=True, model__hidden_layer_sizes=(150, 100, 50), model__learning_rate=constant, model__learning_rate_init=0.1, model__max_iter=20000, model__solver=adam; total time=   6.0s\n",
      "[CV] END model__activation=identity, model__early_stopping=True, model__hidden_layer_sizes=(150, 100, 50), model__learning_rate=constant, model__learning_rate_init=0.1, model__max_iter=20000, model__solver=adam; total time=   7.4s\n",
      "[CV] END model__activation=identity, model__early_stopping=True, model__hidden_layer_sizes=(50, 50), model__learning_rate=constant, model__learning_rate_init=0.01, model__max_iter=28000, model__solver=sgd; total time=   1.1s\n",
      "[CV] END model__activation=identity, model__early_stopping=True, model__hidden_layer_sizes=(50, 50), model__learning_rate=constant, model__learning_rate_init=0.01, model__max_iter=28000, model__solver=sgd; total time=   1.7s\n",
      "[CV] END model__activation=identity, model__early_stopping=True, model__hidden_layer_sizes=(50, 50), model__learning_rate=constant, model__learning_rate_init=0.01, model__max_iter=28000, model__solver=sgd; total time=   1.0s\n",
      "[CV] END model__activation=identity, model__early_stopping=True, model__hidden_layer_sizes=(50, 50), model__learning_rate=constant, model__learning_rate_init=0.01, model__max_iter=28000, model__solver=sgd; total time=   1.5s\n",
      "[CV] END model__activation=identity, model__early_stopping=True, model__hidden_layer_sizes=(50, 50), model__learning_rate=constant, model__learning_rate_init=0.01, model__max_iter=28000, model__solver=sgd; total time=   1.7s\n",
      "[CV] END model__activation=tanh, model__early_stopping=True, model__hidden_layer_sizes=(50, 50), model__learning_rate=constant, model__learning_rate_init=0.1, model__max_iter=28000, model__solver=sgd; total time=   3.2s\n",
      "[CV] END model__activation=tanh, model__early_stopping=True, model__hidden_layer_sizes=(50, 50), model__learning_rate=constant, model__learning_rate_init=0.1, model__max_iter=28000, model__solver=sgd; total time=   4.2s\n",
      "[CV] END model__activation=tanh, model__early_stopping=True, model__hidden_layer_sizes=(50, 50), model__learning_rate=constant, model__learning_rate_init=0.1, model__max_iter=28000, model__solver=sgd; total time=   4.8s\n",
      "[CV] END model__activation=tanh, model__early_stopping=True, model__hidden_layer_sizes=(50, 50), model__learning_rate=constant, model__learning_rate_init=0.1, model__max_iter=28000, model__solver=sgd; total time=   4.0s\n",
      "[CV] END model__activation=tanh, model__early_stopping=True, model__hidden_layer_sizes=(50, 50), model__learning_rate=constant, model__learning_rate_init=0.1, model__max_iter=28000, model__solver=sgd; total time=   2.4s\n",
      "[CV] END model__activation=identity, model__early_stopping=True, model__hidden_layer_sizes=(150, 100, 50), model__learning_rate=constant, model__learning_rate_init=0.01, model__max_iter=20000, model__solver=adam; total time=   1.8s\n",
      "[CV] END model__activation=identity, model__early_stopping=True, model__hidden_layer_sizes=(150, 100, 50), model__learning_rate=constant, model__learning_rate_init=0.01, model__max_iter=20000, model__solver=adam; total time=   2.0s\n",
      "[CV] END model__activation=identity, model__early_stopping=True, model__hidden_layer_sizes=(150, 100, 50), model__learning_rate=constant, model__learning_rate_init=0.01, model__max_iter=20000, model__solver=adam; total time=   2.7s\n",
      "[CV] END model__activation=identity, model__early_stopping=True, model__hidden_layer_sizes=(150, 100, 50), model__learning_rate=constant, model__learning_rate_init=0.01, model__max_iter=20000, model__solver=adam; total time=   2.1s\n",
      "[CV] END model__activation=identity, model__early_stopping=True, model__hidden_layer_sizes=(150, 100, 50), model__learning_rate=constant, model__learning_rate_init=0.01, model__max_iter=20000, model__solver=adam; total time=   1.7s\n",
      "[CV] END model__activation=tanh, model__early_stopping=True, model__hidden_layer_sizes=(50, 50), model__learning_rate=constant, model__learning_rate_init=0.1, model__max_iter=28000, model__solver=adam; total time=   1.7s\n",
      "[CV] END model__activation=tanh, model__early_stopping=True, model__hidden_layer_sizes=(50, 50), model__learning_rate=constant, model__learning_rate_init=0.1, model__max_iter=28000, model__solver=adam; total time=   4.4s\n",
      "[CV] END model__activation=tanh, model__early_stopping=True, model__hidden_layer_sizes=(50, 50), model__learning_rate=constant, model__learning_rate_init=0.1, model__max_iter=28000, model__solver=adam; total time=   2.2s\n",
      "[CV] END model__activation=tanh, model__early_stopping=True, model__hidden_layer_sizes=(50, 50), model__learning_rate=constant, model__learning_rate_init=0.1, model__max_iter=28000, model__solver=adam; total time=   3.8s\n",
      "[CV] END model__activation=tanh, model__early_stopping=True, model__hidden_layer_sizes=(50, 50), model__learning_rate=constant, model__learning_rate_init=0.1, model__max_iter=28000, model__solver=adam; total time=   1.8s\n",
      "[CV] END model__activation=identity, model__early_stopping=True, model__hidden_layer_sizes=(150, 100, 50), model__learning_rate=constant, model__learning_rate_init=0.001, model__max_iter=10000, model__solver=sgd; total time=   4.2s\n",
      "[CV] END model__activation=identity, model__early_stopping=True, model__hidden_layer_sizes=(150, 100, 50), model__learning_rate=constant, model__learning_rate_init=0.001, model__max_iter=10000, model__solver=sgd; total time=   5.1s\n",
      "[CV] END model__activation=identity, model__early_stopping=True, model__hidden_layer_sizes=(150, 100, 50), model__learning_rate=constant, model__learning_rate_init=0.001, model__max_iter=10000, model__solver=sgd; total time=   4.5s\n",
      "[CV] END model__activation=identity, model__early_stopping=True, model__hidden_layer_sizes=(150, 100, 50), model__learning_rate=constant, model__learning_rate_init=0.001, model__max_iter=10000, model__solver=sgd; total time=   6.9s\n",
      "[CV] END model__activation=identity, model__early_stopping=True, model__hidden_layer_sizes=(150, 100, 50), model__learning_rate=constant, model__learning_rate_init=0.001, model__max_iter=10000, model__solver=sgd; total time=   6.0s\n",
      "[CV] END model__activation=relu, model__early_stopping=True, model__hidden_layer_sizes=(50, 50), model__learning_rate=adaptive, model__learning_rate_init=0.01, model__max_iter=28000, model__solver=sgd; total time=   9.9s\n",
      "[CV] END model__activation=relu, model__early_stopping=True, model__hidden_layer_sizes=(50, 50), model__learning_rate=adaptive, model__learning_rate_init=0.01, model__max_iter=28000, model__solver=sgd; total time=  11.9s\n",
      "[CV] END model__activation=relu, model__early_stopping=True, model__hidden_layer_sizes=(50, 50), model__learning_rate=adaptive, model__learning_rate_init=0.01, model__max_iter=28000, model__solver=sgd; total time=  12.1s\n",
      "[CV] END model__activation=relu, model__early_stopping=True, model__hidden_layer_sizes=(50, 50), model__learning_rate=adaptive, model__learning_rate_init=0.01, model__max_iter=28000, model__solver=sgd; total time=   9.6s\n",
      "[CV] END model__activation=relu, model__early_stopping=True, model__hidden_layer_sizes=(50, 50), model__learning_rate=adaptive, model__learning_rate_init=0.01, model__max_iter=28000, model__solver=sgd; total time=  15.1s\n",
      "[CV] END model__activation=tanh, model__early_stopping=True, model__hidden_layer_sizes=(50, 50), model__learning_rate=invscaling, model__learning_rate_init=0.001, model__max_iter=28000, model__solver=sgd; total time=  23.2s\n",
      "[CV] END model__activation=tanh, model__early_stopping=True, model__hidden_layer_sizes=(50, 50), model__learning_rate=invscaling, model__learning_rate_init=0.001, model__max_iter=28000, model__solver=sgd; total time=  23.9s\n",
      "[CV] END model__activation=tanh, model__early_stopping=True, model__hidden_layer_sizes=(50, 50), model__learning_rate=invscaling, model__learning_rate_init=0.001, model__max_iter=28000, model__solver=sgd; total time=  26.5s\n",
      "[CV] END model__activation=tanh, model__early_stopping=True, model__hidden_layer_sizes=(50, 50), model__learning_rate=invscaling, model__learning_rate_init=0.001, model__max_iter=28000, model__solver=sgd; total time=  23.9s\n",
      "[CV] END model__activation=tanh, model__early_stopping=True, model__hidden_layer_sizes=(50, 50), model__learning_rate=invscaling, model__learning_rate_init=0.001, model__max_iter=28000, model__solver=sgd; total time=  19.8s\n",
      "[CV] END model__activation=logistic, model__early_stopping=True, model__hidden_layer_sizes=(50, 50), model__learning_rate=constant, model__learning_rate_init=0.1, model__max_iter=20000, model__solver=adam; total time=   5.5s\n",
      "[CV] END model__activation=logistic, model__early_stopping=True, model__hidden_layer_sizes=(50, 50), model__learning_rate=constant, model__learning_rate_init=0.1, model__max_iter=20000, model__solver=adam; total time=   3.6s\n",
      "[CV] END model__activation=logistic, model__early_stopping=True, model__hidden_layer_sizes=(50, 50), model__learning_rate=constant, model__learning_rate_init=0.1, model__max_iter=20000, model__solver=adam; total time=   5.2s\n",
      "[CV] END model__activation=logistic, model__early_stopping=True, model__hidden_layer_sizes=(50, 50), model__learning_rate=constant, model__learning_rate_init=0.1, model__max_iter=20000, model__solver=adam; total time=   3.6s\n",
      "[CV] END model__activation=logistic, model__early_stopping=True, model__hidden_layer_sizes=(50, 50), model__learning_rate=constant, model__learning_rate_init=0.1, model__max_iter=20000, model__solver=adam; total time=   4.9s\n",
      "[CV] END model__activation=logistic, model__early_stopping=True, model__hidden_layer_sizes=(200, 150, 100), model__learning_rate=invscaling, model__learning_rate_init=0.01, model__max_iter=28000, model__solver=sgd; total time=   4.5s\n",
      "[CV] END model__activation=logistic, model__early_stopping=True, model__hidden_layer_sizes=(200, 150, 100), model__learning_rate=invscaling, model__learning_rate_init=0.01, model__max_iter=28000, model__solver=sgd; total time=   4.6s\n",
      "[CV] END model__activation=logistic, model__early_stopping=True, model__hidden_layer_sizes=(200, 150, 100), model__learning_rate=invscaling, model__learning_rate_init=0.01, model__max_iter=28000, model__solver=sgd; total time=   4.4s\n",
      "[CV] END model__activation=logistic, model__early_stopping=True, model__hidden_layer_sizes=(200, 150, 100), model__learning_rate=invscaling, model__learning_rate_init=0.01, model__max_iter=28000, model__solver=sgd; total time=   4.9s\n",
      "[CV] END model__activation=logistic, model__early_stopping=True, model__hidden_layer_sizes=(200, 150, 100), model__learning_rate=invscaling, model__learning_rate_init=0.01, model__max_iter=28000, model__solver=sgd; total time=   4.0s\n",
      "[CV] END model__activation=relu, model__early_stopping=True, model__hidden_layer_sizes=(50, 50), model__learning_rate=invscaling, model__learning_rate_init=0.001, model__max_iter=20000, model__solver=adam; total time=   2.5s\n",
      "[CV] END model__activation=relu, model__early_stopping=True, model__hidden_layer_sizes=(50, 50), model__learning_rate=invscaling, model__learning_rate_init=0.001, model__max_iter=20000, model__solver=adam; total time=   2.3s\n",
      "[CV] END model__activation=relu, model__early_stopping=True, model__hidden_layer_sizes=(50, 50), model__learning_rate=invscaling, model__learning_rate_init=0.001, model__max_iter=20000, model__solver=adam; total time=   2.5s\n",
      "[CV] END model__activation=relu, model__early_stopping=True, model__hidden_layer_sizes=(50, 50), model__learning_rate=invscaling, model__learning_rate_init=0.001, model__max_iter=20000, model__solver=adam; total time=   3.0s\n",
      "[CV] END model__activation=relu, model__early_stopping=True, model__hidden_layer_sizes=(50, 50), model__learning_rate=invscaling, model__learning_rate_init=0.001, model__max_iter=20000, model__solver=adam; total time=   3.5s\n",
      "[CV] END model__activation=identity, model__early_stopping=True, model__hidden_layer_sizes=(50, 50), model__learning_rate=invscaling, model__learning_rate_init=0.1, model__max_iter=10000, model__solver=adam; total time=   0.8s\n",
      "[CV] END model__activation=identity, model__early_stopping=True, model__hidden_layer_sizes=(50, 50), model__learning_rate=invscaling, model__learning_rate_init=0.1, model__max_iter=10000, model__solver=adam; total time=   0.5s\n",
      "[CV] END model__activation=identity, model__early_stopping=True, model__hidden_layer_sizes=(50, 50), model__learning_rate=invscaling, model__learning_rate_init=0.1, model__max_iter=10000, model__solver=adam; total time=   0.3s\n",
      "[CV] END model__activation=identity, model__early_stopping=True, model__hidden_layer_sizes=(50, 50), model__learning_rate=invscaling, model__learning_rate_init=0.1, model__max_iter=10000, model__solver=adam; total time=   0.5s\n",
      "[CV] END model__activation=identity, model__early_stopping=True, model__hidden_layer_sizes=(50, 50), model__learning_rate=invscaling, model__learning_rate_init=0.1, model__max_iter=10000, model__solver=adam; total time=   0.4s\n",
      "[CV] END model__activation=relu, model__early_stopping=True, model__hidden_layer_sizes=(200, 150, 100), model__learning_rate=invscaling, model__learning_rate_init=0.01, model__max_iter=28000, model__solver=sgd; total time=  23.9s\n",
      "[CV] END model__activation=relu, model__early_stopping=True, model__hidden_layer_sizes=(200, 150, 100), model__learning_rate=invscaling, model__learning_rate_init=0.01, model__max_iter=28000, model__solver=sgd; total time=  27.1s\n",
      "[CV] END model__activation=relu, model__early_stopping=True, model__hidden_layer_sizes=(200, 150, 100), model__learning_rate=invscaling, model__learning_rate_init=0.01, model__max_iter=28000, model__solver=sgd; total time=  42.2s\n",
      "[CV] END model__activation=relu, model__early_stopping=True, model__hidden_layer_sizes=(200, 150, 100), model__learning_rate=invscaling, model__learning_rate_init=0.01, model__max_iter=28000, model__solver=sgd; total time=  30.7s\n",
      "[CV] END model__activation=relu, model__early_stopping=True, model__hidden_layer_sizes=(200, 150, 100), model__learning_rate=invscaling, model__learning_rate_init=0.01, model__max_iter=28000, model__solver=sgd; total time=  42.3s\n",
      "[CV] END model__activation=identity, model__early_stopping=True, model__hidden_layer_sizes=(150, 100, 50), model__learning_rate=constant, model__learning_rate_init=0.001, model__max_iter=10000, model__solver=adam; total time=   2.9s\n",
      "[CV] END model__activation=identity, model__early_stopping=True, model__hidden_layer_sizes=(150, 100, 50), model__learning_rate=constant, model__learning_rate_init=0.001, model__max_iter=10000, model__solver=adam; total time=   2.0s\n",
      "[CV] END model__activation=identity, model__early_stopping=True, model__hidden_layer_sizes=(150, 100, 50), model__learning_rate=constant, model__learning_rate_init=0.001, model__max_iter=10000, model__solver=adam; total time=   1.7s\n",
      "[CV] END model__activation=identity, model__early_stopping=True, model__hidden_layer_sizes=(150, 100, 50), model__learning_rate=constant, model__learning_rate_init=0.001, model__max_iter=10000, model__solver=adam; total time=   1.5s\n",
      "[CV] END model__activation=identity, model__early_stopping=True, model__hidden_layer_sizes=(150, 100, 50), model__learning_rate=constant, model__learning_rate_init=0.001, model__max_iter=10000, model__solver=adam; total time=   1.9s\n",
      "[CV] END model__activation=logistic, model__early_stopping=True, model__hidden_layer_sizes=(50, 50), model__learning_rate=constant, model__learning_rate_init=0.1, model__max_iter=10000, model__solver=sgd; total time=  22.5s\n",
      "[CV] END model__activation=logistic, model__early_stopping=True, model__hidden_layer_sizes=(50, 50), model__learning_rate=constant, model__learning_rate_init=0.1, model__max_iter=10000, model__solver=sgd; total time=  17.1s\n",
      "[CV] END model__activation=logistic, model__early_stopping=True, model__hidden_layer_sizes=(50, 50), model__learning_rate=constant, model__learning_rate_init=0.1, model__max_iter=10000, model__solver=sgd; total time=  21.0s\n",
      "[CV] END model__activation=logistic, model__early_stopping=True, model__hidden_layer_sizes=(50, 50), model__learning_rate=constant, model__learning_rate_init=0.1, model__max_iter=10000, model__solver=sgd; total time=  14.5s\n",
      "[CV] END model__activation=logistic, model__early_stopping=True, model__hidden_layer_sizes=(50, 50), model__learning_rate=constant, model__learning_rate_init=0.1, model__max_iter=10000, model__solver=sgd; total time=  16.0s\n",
      "[CV] END model__activation=tanh, model__early_stopping=True, model__hidden_layer_sizes=(200, 150, 100), model__learning_rate=adaptive, model__learning_rate_init=0.01, model__max_iter=28000, model__solver=sgd; total time=  19.5s\n",
      "[CV] END model__activation=tanh, model__early_stopping=True, model__hidden_layer_sizes=(200, 150, 100), model__learning_rate=adaptive, model__learning_rate_init=0.01, model__max_iter=28000, model__solver=sgd; total time=  22.5s\n",
      "[CV] END model__activation=tanh, model__early_stopping=True, model__hidden_layer_sizes=(200, 150, 100), model__learning_rate=adaptive, model__learning_rate_init=0.01, model__max_iter=28000, model__solver=sgd; total time=  30.8s\n",
      "[CV] END model__activation=tanh, model__early_stopping=True, model__hidden_layer_sizes=(200, 150, 100), model__learning_rate=adaptive, model__learning_rate_init=0.01, model__max_iter=28000, model__solver=sgd; total time=  29.0s\n",
      "[CV] END model__activation=tanh, model__early_stopping=True, model__hidden_layer_sizes=(200, 150, 100), model__learning_rate=adaptive, model__learning_rate_init=0.01, model__max_iter=28000, model__solver=sgd; total time=  42.4s\n",
      "[CV] END model__activation=relu, model__early_stopping=True, model__hidden_layer_sizes=(150, 100, 50), model__learning_rate=constant, model__learning_rate_init=0.01, model__max_iter=20000, model__solver=sgd; total time=   8.8s\n",
      "[CV] END model__activation=relu, model__early_stopping=True, model__hidden_layer_sizes=(150, 100, 50), model__learning_rate=constant, model__learning_rate_init=0.01, model__max_iter=20000, model__solver=sgd; total time=   9.3s\n",
      "[CV] END model__activation=relu, model__early_stopping=True, model__hidden_layer_sizes=(150, 100, 50), model__learning_rate=constant, model__learning_rate_init=0.01, model__max_iter=20000, model__solver=sgd; total time=  11.2s\n",
      "[CV] END model__activation=relu, model__early_stopping=True, model__hidden_layer_sizes=(150, 100, 50), model__learning_rate=constant, model__learning_rate_init=0.01, model__max_iter=20000, model__solver=sgd; total time=   8.7s\n",
      "[CV] END model__activation=relu, model__early_stopping=True, model__hidden_layer_sizes=(150, 100, 50), model__learning_rate=constant, model__learning_rate_init=0.01, model__max_iter=20000, model__solver=sgd; total time=  19.1s\n",
      "[CV] END model__activation=logistic, model__early_stopping=True, model__hidden_layer_sizes=(50, 50), model__learning_rate=adaptive, model__learning_rate_init=0.01, model__max_iter=28000, model__solver=adam; total time=  10.6s\n",
      "[CV] END model__activation=logistic, model__early_stopping=True, model__hidden_layer_sizes=(50, 50), model__learning_rate=adaptive, model__learning_rate_init=0.01, model__max_iter=28000, model__solver=adam; total time=   9.7s\n",
      "[CV] END model__activation=logistic, model__early_stopping=True, model__hidden_layer_sizes=(50, 50), model__learning_rate=adaptive, model__learning_rate_init=0.01, model__max_iter=28000, model__solver=adam; total time=   9.1s\n",
      "[CV] END model__activation=logistic, model__early_stopping=True, model__hidden_layer_sizes=(50, 50), model__learning_rate=adaptive, model__learning_rate_init=0.01, model__max_iter=28000, model__solver=adam; total time=   7.6s\n",
      "[CV] END model__activation=logistic, model__early_stopping=True, model__hidden_layer_sizes=(50, 50), model__learning_rate=adaptive, model__learning_rate_init=0.01, model__max_iter=28000, model__solver=adam; total time=   9.9s\n",
      "[CV] END model__activation=identity, model__early_stopping=True, model__hidden_layer_sizes=(200, 150, 100), model__learning_rate=constant, model__learning_rate_init=0.001, model__max_iter=20000, model__solver=sgd; total time=   3.6s\n",
      "[CV] END model__activation=identity, model__early_stopping=True, model__hidden_layer_sizes=(200, 150, 100), model__learning_rate=constant, model__learning_rate_init=0.001, model__max_iter=20000, model__solver=sgd; total time=   3.1s\n",
      "[CV] END model__activation=identity, model__early_stopping=True, model__hidden_layer_sizes=(200, 150, 100), model__learning_rate=constant, model__learning_rate_init=0.001, model__max_iter=20000, model__solver=sgd; total time=   4.2s\n",
      "[CV] END model__activation=identity, model__early_stopping=True, model__hidden_layer_sizes=(200, 150, 100), model__learning_rate=constant, model__learning_rate_init=0.001, model__max_iter=20000, model__solver=sgd; total time=   3.8s\n",
      "[CV] END model__activation=identity, model__early_stopping=True, model__hidden_layer_sizes=(200, 150, 100), model__learning_rate=constant, model__learning_rate_init=0.001, model__max_iter=20000, model__solver=sgd; total time=   7.1s\n",
      "[CV] END model__activation=tanh, model__early_stopping=True, model__hidden_layer_sizes=(50, 50), model__learning_rate=adaptive, model__learning_rate_init=0.1, model__max_iter=20000, model__solver=adam; total time=   1.0s\n",
      "[CV] END model__activation=tanh, model__early_stopping=True, model__hidden_layer_sizes=(50, 50), model__learning_rate=adaptive, model__learning_rate_init=0.1, model__max_iter=20000, model__solver=adam; total time=   2.7s\n",
      "[CV] END model__activation=tanh, model__early_stopping=True, model__hidden_layer_sizes=(50, 50), model__learning_rate=adaptive, model__learning_rate_init=0.1, model__max_iter=20000, model__solver=adam; total time=   1.4s\n",
      "[CV] END model__activation=tanh, model__early_stopping=True, model__hidden_layer_sizes=(50, 50), model__learning_rate=adaptive, model__learning_rate_init=0.1, model__max_iter=20000, model__solver=adam; total time=   2.7s\n",
      "[CV] END model__activation=tanh, model__early_stopping=True, model__hidden_layer_sizes=(50, 50), model__learning_rate=adaptive, model__learning_rate_init=0.1, model__max_iter=20000, model__solver=adam; total time=   1.2s\n",
      "[CV] END model__activation=logistic, model__early_stopping=True, model__hidden_layer_sizes=(50, 50), model__learning_rate=adaptive, model__learning_rate_init=0.1, model__max_iter=10000, model__solver=sgd; total time=  28.9s\n",
      "[CV] END model__activation=logistic, model__early_stopping=True, model__hidden_layer_sizes=(50, 50), model__learning_rate=adaptive, model__learning_rate_init=0.1, model__max_iter=10000, model__solver=sgd; total time=  27.1s\n",
      "[CV] END model__activation=logistic, model__early_stopping=True, model__hidden_layer_sizes=(50, 50), model__learning_rate=adaptive, model__learning_rate_init=0.1, model__max_iter=10000, model__solver=sgd; total time=  31.0s\n",
      "[CV] END model__activation=logistic, model__early_stopping=True, model__hidden_layer_sizes=(50, 50), model__learning_rate=adaptive, model__learning_rate_init=0.1, model__max_iter=10000, model__solver=sgd; total time=  24.7s\n",
      "[CV] END model__activation=logistic, model__early_stopping=True, model__hidden_layer_sizes=(50, 50), model__learning_rate=adaptive, model__learning_rate_init=0.1, model__max_iter=10000, model__solver=sgd; total time=  28.6s\n"
     ]
    },
    {
     "name": "stderr",
     "output_type": "stream",
     "text": [
      "C:\\Users\\xande\\venv\\lib\\site-packages\\sklearn\\neural_network\\_base.py:173: RuntimeWarning: overflow encountered in square\n",
      "  return ((y_true - y_pred) ** 2).mean() / 2\n",
      "C:\\Users\\xande\\venv\\lib\\site-packages\\sklearn\\utils\\extmath.py:192: RuntimeWarning: overflow encountered in matmul\n",
      "  ret = a @ b\n",
      "C:\\Users\\xande\\venv\\lib\\site-packages\\sklearn\\utils\\extmath.py:192: RuntimeWarning: invalid value encountered in matmul\n",
      "  ret = a @ b\n"
     ]
    },
    {
     "name": "stdout",
     "output_type": "stream",
     "text": [
      "[CV] END model__activation=identity, model__early_stopping=True, model__hidden_layer_sizes=(200, 150, 100), model__learning_rate=adaptive, model__learning_rate_init=0.1, model__max_iter=20000, model__solver=sgd; total time=   0.1s\n",
      "[CV] END model__activation=identity, model__early_stopping=True, model__hidden_layer_sizes=(200, 150, 100), model__learning_rate=adaptive, model__learning_rate_init=0.1, model__max_iter=20000, model__solver=sgd; total time=   0.1s\n"
     ]
    },
    {
     "name": "stderr",
     "output_type": "stream",
     "text": [
      "C:\\Users\\xande\\venv\\lib\\site-packages\\sklearn\\utils\\extmath.py:192: RuntimeWarning: overflow encountered in matmul\n",
      "  ret = a @ b\n",
      "C:\\Users\\xande\\venv\\lib\\site-packages\\sklearn\\utils\\extmath.py:192: RuntimeWarning: invalid value encountered in matmul\n",
      "  ret = a @ b\n",
      "C:\\Users\\xande\\venv\\lib\\site-packages\\sklearn\\utils\\extmath.py:192: RuntimeWarning: overflow encountered in matmul\n",
      "  ret = a @ b\n",
      "C:\\Users\\xande\\venv\\lib\\site-packages\\sklearn\\utils\\extmath.py:192: RuntimeWarning: invalid value encountered in matmul\n",
      "  ret = a @ b\n"
     ]
    },
    {
     "name": "stdout",
     "output_type": "stream",
     "text": [
      "[CV] END model__activation=identity, model__early_stopping=True, model__hidden_layer_sizes=(200, 150, 100), model__learning_rate=adaptive, model__learning_rate_init=0.1, model__max_iter=20000, model__solver=sgd; total time=   0.0s\n",
      "[CV] END model__activation=identity, model__early_stopping=True, model__hidden_layer_sizes=(200, 150, 100), model__learning_rate=adaptive, model__learning_rate_init=0.1, model__max_iter=20000, model__solver=sgd; total time=   0.0s\n"
     ]
    },
    {
     "name": "stderr",
     "output_type": "stream",
     "text": [
      "C:\\Users\\xande\\venv\\lib\\site-packages\\sklearn\\utils\\extmath.py:192: RuntimeWarning: overflow encountered in matmul\n",
      "  ret = a @ b\n",
      "C:\\Users\\xande\\venv\\lib\\site-packages\\sklearn\\utils\\extmath.py:192: RuntimeWarning: invalid value encountered in matmul\n",
      "  ret = a @ b\n",
      "C:\\Users\\xande\\venv\\lib\\site-packages\\sklearn\\utils\\extmath.py:192: RuntimeWarning: overflow encountered in matmul\n",
      "  ret = a @ b\n",
      "C:\\Users\\xande\\venv\\lib\\site-packages\\sklearn\\utils\\extmath.py:192: RuntimeWarning: invalid value encountered in matmul\n",
      "  ret = a @ b\n"
     ]
    },
    {
     "name": "stdout",
     "output_type": "stream",
     "text": [
      "[CV] END model__activation=identity, model__early_stopping=True, model__hidden_layer_sizes=(200, 150, 100), model__learning_rate=adaptive, model__learning_rate_init=0.1, model__max_iter=20000, model__solver=sgd; total time=   0.0s\n",
      "[CV] END model__activation=logistic, model__early_stopping=True, model__hidden_layer_sizes=(50, 50), model__learning_rate=constant, model__learning_rate_init=0.001, model__max_iter=20000, model__solver=adam; total time=  30.0s\n",
      "[CV] END model__activation=logistic, model__early_stopping=True, model__hidden_layer_sizes=(50, 50), model__learning_rate=constant, model__learning_rate_init=0.001, model__max_iter=20000, model__solver=adam; total time=  33.0s\n",
      "[CV] END model__activation=logistic, model__early_stopping=True, model__hidden_layer_sizes=(50, 50), model__learning_rate=constant, model__learning_rate_init=0.001, model__max_iter=20000, model__solver=adam; total time=  34.5s\n",
      "[CV] END model__activation=logistic, model__early_stopping=True, model__hidden_layer_sizes=(50, 50), model__learning_rate=constant, model__learning_rate_init=0.001, model__max_iter=20000, model__solver=adam; total time=  31.5s\n",
      "[CV] END model__activation=logistic, model__early_stopping=True, model__hidden_layer_sizes=(50, 50), model__learning_rate=constant, model__learning_rate_init=0.001, model__max_iter=20000, model__solver=adam; total time=  43.8s\n",
      "[CV] END model__activation=tanh, model__early_stopping=True, model__hidden_layer_sizes=(50, 50), model__learning_rate=adaptive, model__learning_rate_init=0.001, model__max_iter=10000, model__solver=adam; total time=   5.2s\n",
      "[CV] END model__activation=tanh, model__early_stopping=True, model__hidden_layer_sizes=(50, 50), model__learning_rate=adaptive, model__learning_rate_init=0.001, model__max_iter=10000, model__solver=adam; total time=   7.0s\n",
      "[CV] END model__activation=tanh, model__early_stopping=True, model__hidden_layer_sizes=(50, 50), model__learning_rate=adaptive, model__learning_rate_init=0.001, model__max_iter=10000, model__solver=adam; total time=   7.3s\n",
      "[CV] END model__activation=tanh, model__early_stopping=True, model__hidden_layer_sizes=(50, 50), model__learning_rate=adaptive, model__learning_rate_init=0.001, model__max_iter=10000, model__solver=adam; total time=  10.1s\n",
      "[CV] END model__activation=tanh, model__early_stopping=True, model__hidden_layer_sizes=(50, 50), model__learning_rate=adaptive, model__learning_rate_init=0.001, model__max_iter=10000, model__solver=adam; total time=   9.8s\n",
      "[CV] END model__activation=relu, model__early_stopping=True, model__hidden_layer_sizes=(50, 50), model__learning_rate=adaptive, model__learning_rate_init=0.001, model__max_iter=10000, model__solver=sgd; total time=  16.5s\n",
      "[CV] END model__activation=relu, model__early_stopping=True, model__hidden_layer_sizes=(50, 50), model__learning_rate=adaptive, model__learning_rate_init=0.001, model__max_iter=10000, model__solver=sgd; total time=  16.7s\n",
      "[CV] END model__activation=relu, model__early_stopping=True, model__hidden_layer_sizes=(50, 50), model__learning_rate=adaptive, model__learning_rate_init=0.001, model__max_iter=10000, model__solver=sgd; total time=  16.3s\n",
      "[CV] END model__activation=relu, model__early_stopping=True, model__hidden_layer_sizes=(50, 50), model__learning_rate=adaptive, model__learning_rate_init=0.001, model__max_iter=10000, model__solver=sgd; total time=  12.4s\n",
      "[CV] END model__activation=relu, model__early_stopping=True, model__hidden_layer_sizes=(50, 50), model__learning_rate=adaptive, model__learning_rate_init=0.001, model__max_iter=10000, model__solver=sgd; total time=  24.6s\n",
      "[CV] END model__activation=identity, model__early_stopping=True, model__hidden_layer_sizes=(150, 100, 50), model__learning_rate=invscaling, model__learning_rate_init=0.001, model__max_iter=28000, model__solver=sgd; total time=  15.4s\n",
      "[CV] END model__activation=identity, model__early_stopping=True, model__hidden_layer_sizes=(150, 100, 50), model__learning_rate=invscaling, model__learning_rate_init=0.001, model__max_iter=28000, model__solver=sgd; total time=  14.9s\n",
      "[CV] END model__activation=identity, model__early_stopping=True, model__hidden_layer_sizes=(150, 100, 50), model__learning_rate=invscaling, model__learning_rate_init=0.001, model__max_iter=28000, model__solver=sgd; total time=  16.1s\n",
      "[CV] END model__activation=identity, model__early_stopping=True, model__hidden_layer_sizes=(150, 100, 50), model__learning_rate=invscaling, model__learning_rate_init=0.001, model__max_iter=28000, model__solver=sgd; total time=  18.2s\n",
      "[CV] END model__activation=identity, model__early_stopping=True, model__hidden_layer_sizes=(150, 100, 50), model__learning_rate=invscaling, model__learning_rate_init=0.001, model__max_iter=28000, model__solver=sgd; total time=  20.3s\n",
      "[CV] END model__activation=relu, model__early_stopping=True, model__hidden_layer_sizes=(150, 100, 50), model__learning_rate=adaptive, model__learning_rate_init=0.1, model__max_iter=28000, model__solver=sgd; total time=  13.9s\n",
      "[CV] END model__activation=relu, model__early_stopping=True, model__hidden_layer_sizes=(150, 100, 50), model__learning_rate=adaptive, model__learning_rate_init=0.1, model__max_iter=28000, model__solver=sgd; total time=  15.5s\n",
      "[CV] END model__activation=relu, model__early_stopping=True, model__hidden_layer_sizes=(150, 100, 50), model__learning_rate=adaptive, model__learning_rate_init=0.1, model__max_iter=28000, model__solver=sgd; total time=  19.3s\n",
      "[CV] END model__activation=relu, model__early_stopping=True, model__hidden_layer_sizes=(150, 100, 50), model__learning_rate=adaptive, model__learning_rate_init=0.1, model__max_iter=28000, model__solver=sgd; total time=  20.1s\n",
      "[CV] END model__activation=relu, model__early_stopping=True, model__hidden_layer_sizes=(150, 100, 50), model__learning_rate=adaptive, model__learning_rate_init=0.1, model__max_iter=28000, model__solver=sgd; total time=  21.3s\n",
      "[CV] END model__activation=identity, model__early_stopping=True, model__hidden_layer_sizes=(50, 50), model__learning_rate=constant, model__learning_rate_init=0.001, model__max_iter=20000, model__solver=sgd; total time=   1.9s\n",
      "[CV] END model__activation=identity, model__early_stopping=True, model__hidden_layer_sizes=(50, 50), model__learning_rate=constant, model__learning_rate_init=0.001, model__max_iter=20000, model__solver=sgd; total time=   1.1s\n",
      "[CV] END model__activation=identity, model__early_stopping=True, model__hidden_layer_sizes=(50, 50), model__learning_rate=constant, model__learning_rate_init=0.001, model__max_iter=20000, model__solver=sgd; total time=   1.4s\n",
      "[CV] END model__activation=identity, model__early_stopping=True, model__hidden_layer_sizes=(50, 50), model__learning_rate=constant, model__learning_rate_init=0.001, model__max_iter=20000, model__solver=sgd; total time=   2.4s\n",
      "[CV] END model__activation=identity, model__early_stopping=True, model__hidden_layer_sizes=(50, 50), model__learning_rate=constant, model__learning_rate_init=0.001, model__max_iter=20000, model__solver=sgd; total time=   2.8s\n",
      "[CV] END model__activation=relu, model__early_stopping=True, model__hidden_layer_sizes=(200, 150, 100), model__learning_rate=invscaling, model__learning_rate_init=0.001, model__max_iter=28000, model__solver=sgd; total time= 2.0min\n",
      "[CV] END model__activation=relu, model__early_stopping=True, model__hidden_layer_sizes=(200, 150, 100), model__learning_rate=invscaling, model__learning_rate_init=0.001, model__max_iter=28000, model__solver=sgd; total time= 2.1min\n",
      "[CV] END model__activation=relu, model__early_stopping=True, model__hidden_layer_sizes=(200, 150, 100), model__learning_rate=invscaling, model__learning_rate_init=0.001, model__max_iter=28000, model__solver=sgd; total time= 2.2min\n",
      "[CV] END model__activation=relu, model__early_stopping=True, model__hidden_layer_sizes=(200, 150, 100), model__learning_rate=invscaling, model__learning_rate_init=0.001, model__max_iter=28000, model__solver=sgd; total time= 2.7min\n"
     ]
    }
   ],
   "source": [
    "random_search.fit(X_train_scaled, y_train_scaled)"
   ],
   "metadata": {
    "collapsed": false,
    "is_executing": true,
    "ExecuteTime": {
     "start_time": "2024-03-05T09:28:02.629034600Z"
    }
   },
   "id": "28d0363e6bcd9ca2",
   "execution_count": null
  },
  {
   "cell_type": "markdown",
   "source": [
    "#### Result of the hyperparameter tuning"
   ],
   "metadata": {
    "collapsed": false
   },
   "id": "8d9c77f105a40817"
  },
  {
   "cell_type": "code",
   "outputs": [],
   "source": [
    "model = random_search.best_estimator_"
   ],
   "metadata": {
    "collapsed": false,
    "is_executing": true
   },
   "id": "7b823d1b0369e1a3",
   "execution_count": null
  },
  {
   "cell_type": "code",
   "outputs": [],
   "source": [
    "print('fBest parameters found:\\n', random_search.best_params_)"
   ],
   "metadata": {
    "collapsed": false,
    "is_executing": true
   },
   "id": "235a4010bce572e4",
   "execution_count": null
  },
  {
   "cell_type": "markdown",
   "source": [
    "#### Make Predictions"
   ],
   "metadata": {
    "collapsed": false
   },
   "id": "98155e611f1db62d"
  },
  {
   "cell_type": "code",
   "outputs": [],
   "source": [
    "#y_val_pred_scaled = model.predict(X_val_scaled)\n",
    "#y_val_pred = scaler_y.inverse_transform(y_val_pred_scaled)"
   ],
   "metadata": {
    "collapsed": false,
    "is_executing": true
   },
   "id": "307afe92aa0c5dee",
   "execution_count": null
  },
  {
   "cell_type": "markdown",
   "source": [
    "#### Evaluate the model"
   ],
   "metadata": {
    "collapsed": false
   },
   "id": "e7c826b3cddda406"
  },
  {
   "cell_type": "code",
   "outputs": [],
   "source": [
    "from utils.evaluate import evaluate_model\n",
    "\n",
    "#mse_val, mae_val, r2_val = evaluate_model(y_val, y_val_pred, \"Validation\")"
   ],
   "metadata": {
    "collapsed": false,
    "is_executing": true
   },
   "id": "31674984e944f266",
   "execution_count": null
  },
  {
   "cell_type": "code",
   "outputs": [],
   "source": [
    "#y_test_pred_scaled = model.predict(X_test_scaled)\n",
    "#y_test_pred = scaler_y.inverse_transform(y_test_pred_scaled)"
   ],
   "metadata": {
    "collapsed": false,
    "is_executing": true
   },
   "id": "4b003db3ffd2d820",
   "execution_count": null
  },
  {
   "cell_type": "code",
   "outputs": [],
   "source": [
    "#mse_test, mae_test, r2_test = evaluate_model(y_test, y_test_pred, \"Test\")"
   ],
   "metadata": {
    "collapsed": false,
    "is_executing": true
   },
   "id": "306f3953d5f76243",
   "execution_count": null
  },
  {
   "cell_type": "markdown",
   "source": [
    "#### Visualize the results\n",
    "The test data is randomized so the plot won't show a clean trajectory"
   ],
   "metadata": {
    "collapsed": false
   },
   "id": "1618eeed90e75419"
  },
  {
   "cell_type": "code",
   "outputs": [],
   "source": [
    "from utils.plot_maker_gaussian_process import plot_maker_3d\n",
    "\n",
    "#plot_maker_3d(np.array(y_test)[:10], np.array(y_test_pred)[:10], \"Predictions on Test Set\")"
   ],
   "metadata": {
    "collapsed": false,
    "is_executing": true
   },
   "id": "5827e7b46be5b09d",
   "execution_count": null
  },
  {
   "cell_type": "markdown",
   "source": [
    "# Make Predictions on new data"
   ],
   "metadata": {
    "collapsed": false
   },
   "id": "5c09db1fcbb63a41"
  },
  {
   "cell_type": "code",
   "outputs": [],
   "source": [
    "test_data = pd.read_csv('../interpolated-data/red_ball_coordinates_128px_2024-02-27_13h38m.csv', delimiter=',', decimal='.')\n",
    "test_result = pd.read_csv('../interpolated-data/positions_xyz_2024-02-27_13h38m.csv', delimiter=',', decimal='.')"
   ],
   "metadata": {
    "collapsed": false,
    "is_executing": true
   },
   "id": "42d54fbb4d1c2283",
   "execution_count": null
  },
  {
   "cell_type": "code",
   "outputs": [],
   "source": [
    "new_combined = pd.concat([test_data, test_result], axis=1)\n",
    "new_combined = new_combined.dropna(thresh=new_combined.shape[1]-3)\n",
    "new_combined = new_combined"
   ],
   "metadata": {
    "collapsed": false,
    "is_executing": true
   },
   "id": "9c999fde84a23ab6",
   "execution_count": null
  },
  {
   "cell_type": "code",
   "outputs": [],
   "source": [
    "new_X = new_combined.iloc[:, :14]\n",
    "new_y = new_combined.iloc[:, 14:]\n",
    "new_X.shape, new_y.shape"
   ],
   "metadata": {
    "collapsed": false,
    "is_executing": true
   },
   "id": "33ec8695d0216ca9",
   "execution_count": null
  },
  {
   "cell_type": "code",
   "outputs": [],
   "source": [
    "#new_X_imputed = imputer.fit_transform(new_X)\n",
    "\n",
    "new_X_scaled = scaler_X.fit_transform(new_X)\n",
    "new_y_scaled = scaler_y.fit_transform(new_y)"
   ],
   "metadata": {
    "collapsed": false,
    "is_executing": true
   },
   "id": "6e97933db6abeaef",
   "execution_count": null
  },
  {
   "cell_type": "code",
   "outputs": [],
   "source": [
    "new_y_pred_scaled = model.predict(new_X_scaled)"
   ],
   "metadata": {
    "collapsed": false,
    "is_executing": true
   },
   "id": "dcac78e39fa749ea",
   "execution_count": null
  },
  {
   "cell_type": "code",
   "outputs": [],
   "source": [
    "new_y_pred = scaler_y.inverse_transform(new_y_pred_scaled)"
   ],
   "metadata": {
    "collapsed": false,
    "is_executing": true
   },
   "id": "116ac476d109b530",
   "execution_count": null
  },
  {
   "cell_type": "code",
   "outputs": [],
   "source": [
    "new_mse, new_mae, new_r2 = evaluate_model(new_y, new_y_pred, \"New Data\")"
   ],
   "metadata": {
    "collapsed": false,
    "is_executing": true
   },
   "id": "5ee16591f06c19c1",
   "execution_count": null
  },
  {
   "cell_type": "code",
   "outputs": [],
   "source": [
    "plot_maker_3d(np.array(new_y), np.array(new_y_pred), \"Predictions on New Data\")"
   ],
   "metadata": {
    "collapsed": false,
    "is_executing": true
   },
   "id": "ea2d66c2233d9c24",
   "execution_count": null
  }
 ],
 "metadata": {
  "kernelspec": {
   "display_name": "Python 3",
   "language": "python",
   "name": "python3"
  },
  "language_info": {
   "codemirror_mode": {
    "name": "ipython",
    "version": 2
   },
   "file_extension": ".py",
   "mimetype": "text/x-python",
   "name": "python",
   "nbconvert_exporter": "python",
   "pygments_lexer": "ipython2",
   "version": "2.7.6"
  }
 },
 "nbformat": 4,
 "nbformat_minor": 5
}
