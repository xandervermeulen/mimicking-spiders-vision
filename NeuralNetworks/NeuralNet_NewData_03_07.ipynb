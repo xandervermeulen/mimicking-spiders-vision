{
 "cells": [
  {
   "cell_type": "markdown",
   "source": [],
   "metadata": {
    "collapsed": false
   },
   "id": "a3d73eacc324a4fd"
  },
  {
   "cell_type": "markdown",
   "source": [
    "# Training neural network to predict ball position in a 3d space\n",
    "## 1. Importing Libraries"
   ],
   "metadata": {
    "collapsed": false
   },
   "id": "d62d1f5b11dd788"
  },
  {
   "cell_type": "code",
   "execution_count": 9,
   "id": "initial_id",
   "metadata": {
    "collapsed": true,
    "ExecuteTime": {
     "end_time": "2024-03-07T15:22:37.827730Z",
     "start_time": "2024-03-07T15:22:37.809664Z"
    }
   },
   "outputs": [],
   "source": [
    "import pandas as pd\n",
    "from sklearn.preprocessing import MinMaxScaler\n",
    "from sklearn.neural_network import MLPRegressor\n",
    "from sklearn.model_selection import RandomizedSearchCV\n",
    "from sklearn.pipeline import Pipeline\n",
    "from utils.evaluate import evaluate_model\n",
    "from utils.plot_maker_gaussian_process import plot_maker_3d"
   ]
  },
  {
   "cell_type": "markdown",
   "source": [
    "## 2. Importing Data"
   ],
   "metadata": {
    "collapsed": false
   },
   "id": "c343b126b221af5f"
  },
  {
   "cell_type": "code",
   "outputs": [],
   "source": [
    "# get all train data\n",
    "X_circle_a = pd.read_csv('../data/data-circle/red_ball_coordinates_128px_2024-03-07_15h17m.csv', decimal='.', delimiter=',')\n",
    "X_circle_b = pd.read_csv('../data/data-circle/red_ball_coordinates_128px_2024-03-07_15h20m.csv', decimal='.', delimiter=',')\n",
    "X_circle_c = pd.read_csv('../data/data-circle/red_ball_coordinates_128px_2024-03-07_15h23m.csv', decimal='.', delimiter=',')\n",
    "X_lis_curve_a = pd.read_csv('../data/data-lis-curve/red_ball_coordinates_128px_2024-03-07_14h32m.csv', decimal='.', delimiter=',')\n",
    "X_lis_curve_b = pd.read_csv('../data/data-lis-curve/red_ball_coordinates_128px_2024-03-07_14h37m.csv', decimal='.', delimiter=',')\n",
    "X_lis_curve_c = pd.read_csv('../data/data-lis-curve/red_ball_coordinates_128px_2024-03-07_14h41m.csv', decimal='.', delimiter=',')\n",
    "X_spiral_double_a = pd.read_csv('../data/data-spiral-double/red_ball_coordinates_128px_2024-03-07_14h58m.csv', decimal='.', delimiter=',')\n",
    "X_spiral_double_b = pd.read_csv('../data/data-spiral-double/red_ball_coordinates_128px_2024-03-07_15h00m.csv', decimal='.', delimiter=',')\n",
    "X_spiral_down_a = pd.read_csv('../data/data-spiral-down/red_ball_coordinates_128px_2024-03-07_14h50m.csv', decimal='.', delimiter=',')\n",
    "X_spiral_down_b = pd.read_csv('../data/data-spiral-down/red_ball_coordinates_128px_2024-03-07_14h52m.csv', decimal='.', delimiter=',')\n",
    "X_spiral_down_c = pd.read_csv('../data/data-spiral-down/red_ball_coordinates_128px_2024-03-07_14h54m.csv', decimal='.', delimiter=',')"
   ],
   "metadata": {
    "collapsed": false,
    "ExecuteTime": {
     "end_time": "2024-03-07T15:22:38.181157Z",
     "start_time": "2024-03-07T15:22:38.088770Z"
    }
   },
   "id": "753e977b821642fe",
   "execution_count": 10
  },
  {
   "cell_type": "code",
   "outputs": [],
   "source": [
    "# get all the position data\n",
    "y_circle_a = pd.read_csv('../data/data-circle/positions_xyz_2024-03-07_15h17m.csv', decimal='.', delimiter=',').iloc[4:]\n",
    "y_circle_b = pd.read_csv('../data/data-circle/positions_xyz_2024-03-07_15h20m.csv', decimal='.', delimiter=',').iloc[4:]\n",
    "y_circle_c = pd.read_csv('../data/data-circle/positions_xyz_2024-03-07_15h23m.csv', decimal='.', delimiter=',').iloc[4:]\n",
    "y_lis_curve_a = pd.read_csv('../data/data-lis-curve/positions_xyz_2024-03-07_14h32m.csv', decimal='.', delimiter=',').iloc[4:]\n",
    "y_lis_curve_b = pd.read_csv('../data/data-lis-curve/positions_xyz_2024-03-07_14h37m.csv', decimal='.', delimiter=',').iloc[4:]\n",
    "y_lis_curve_c = pd.read_csv('../data/data-lis-curve/positions_xyz_2024-03-07_14h41m.csv', decimal='.', delimiter=',').iloc[4:]\n",
    "y_spiral_double_a = pd.read_csv('../data/data-spiral-double/positions_xyz_2024-03-07_14h58m.csv', decimal='.', delimiter=',').iloc[4:]\n",
    "y_spiral_double_b = pd.read_csv('../data/data-spiral-double/positions_xyz_2024-03-07_15h00m.csv', decimal='.', delimiter=',').iloc[4:]\n",
    "y_spiral_down_a = pd.read_csv('../data/data-spiral-down/positions_xyz_2024-03-07_14h50m.csv', decimal='.', delimiter=',').iloc[4:]\n",
    "y_spiral_down_b = pd.read_csv('../data/data-spiral-down/positions_xyz_2024-03-07_14h52m.csv', decimal='.', delimiter=',').iloc[4:]\n",
    "y_spiral_down_c = pd.read_csv('../data/data-spiral-down/positions_xyz_2024-03-07_14h54m.csv', decimal='.', delimiter=',').iloc[4:]\n"
   ],
   "metadata": {
    "collapsed": false,
    "ExecuteTime": {
     "end_time": "2024-03-07T15:22:38.243147Z",
     "start_time": "2024-03-07T15:22:38.186601Z"
    }
   },
   "id": "31776f1ee087f190",
   "execution_count": 11
  },
  {
   "cell_type": "markdown",
   "source": [
    "#### 2.1 Check for Missing Values"
   ],
   "metadata": {
    "collapsed": false
   },
   "id": "b323937c1957773b"
  },
  {
   "cell_type": "code",
   "outputs": [
    {
     "name": "stdout",
     "output_type": "stream",
     "text": [
      "The amount of NaN in spiral_down_b: 3866\n",
      "The amount of NaN in spiral_down_c: 3536\n"
     ]
    }
   ],
   "source": [
    "print(f'The amount of NaN in spiral_down_b: {X_spiral_down_b.isna().sum().sum()}')\n",
    "print(f'The amount of NaN in spiral_down_c: {X_spiral_down_c.isna().sum().sum()}')"
   ],
   "metadata": {
    "collapsed": false,
    "ExecuteTime": {
     "end_time": "2024-03-07T15:22:38.258298Z",
     "start_time": "2024-03-07T15:22:38.248554Z"
    }
   },
   "id": "887816b8791983bb",
   "execution_count": 12
  },
  {
   "cell_type": "code",
   "outputs": [
    {
     "data": {
      "text/plain": "((1017, 14), (1017, 3), (999, 14), (999, 3))"
     },
     "execution_count": 13,
     "metadata": {},
     "output_type": "execute_result"
    }
   ],
   "source": [
    "X_spiral_down_b.shape, y_spiral_down_b.shape, X_spiral_down_c.shape, y_spiral_down_c.shape"
   ],
   "metadata": {
    "collapsed": false,
    "ExecuteTime": {
     "end_time": "2024-03-07T15:22:38.273598Z",
     "start_time": "2024-03-07T15:22:38.262620Z"
    }
   },
   "id": "7ed546d80acb3a61",
   "execution_count": 13
  },
  {
   "cell_type": "code",
   "outputs": [],
   "source": [
    "X_spiral_down_b.reset_index(drop=True, inplace=True)\n",
    "y_spiral_down_b.reset_index(drop=True, inplace=True)\n",
    "X_spiral_down_c.reset_index(drop=True, inplace=True)\n",
    "y_spiral_down_c.reset_index(drop=True, inplace=True)"
   ],
   "metadata": {
    "collapsed": false,
    "ExecuteTime": {
     "end_time": "2024-03-07T15:22:38.320350Z",
     "start_time": "2024-03-07T15:22:38.311674Z"
    }
   },
   "id": "f09eac2799303fc6",
   "execution_count": 14
  },
  {
   "cell_type": "code",
   "outputs": [
    {
     "data": {
      "text/plain": "(3866, 3536)"
     },
     "execution_count": 15,
     "metadata": {},
     "output_type": "execute_result"
    }
   ],
   "source": [
    "combined_b = pd.concat([X_spiral_down_b, y_spiral_down_b], axis=1)\n",
    "combined_c = pd.concat([X_spiral_down_c, y_spiral_down_c], axis=1)\n",
    "combined_b.isna().sum().sum(), combined_c.isna().sum().sum()"
   ],
   "metadata": {
    "collapsed": false,
    "ExecuteTime": {
     "end_time": "2024-03-07T15:22:38.357806Z",
     "start_time": "2024-03-07T15:22:38.339061Z"
    }
   },
   "id": "92d1674599361bec",
   "execution_count": 15
  },
  {
   "cell_type": "markdown",
   "source": [
    "#### 2.2 Remove Missing Values\n",
    "Ball is outside of the frame in the last 300 frames"
   ],
   "metadata": {
    "collapsed": false
   },
   "id": "5a0ae2512baec085"
  },
  {
   "cell_type": "code",
   "outputs": [
    {
     "data": {
      "text/plain": "(34, 0)"
     },
     "execution_count": 16,
     "metadata": {},
     "output_type": "execute_result"
    }
   ],
   "source": [
    "combined_b = combined_b[:720]\n",
    "combined_c = combined_c[:720]\n",
    "combined_b = combined_b.reset_index(drop=True)\n",
    "combined_c = combined_c.reset_index(drop=True)\n",
    "combined_b.isna().sum().sum(), combined_c.isna().sum().sum()"
   ],
   "metadata": {
    "collapsed": false,
    "ExecuteTime": {
     "end_time": "2024-03-07T15:22:38.492983Z",
     "start_time": "2024-03-07T15:22:38.464533Z"
    }
   },
   "id": "54dbf58e4ffe0bc2",
   "execution_count": 16
  },
  {
   "cell_type": "code",
   "outputs": [
    {
     "data": {
      "text/plain": "((720, 14), (720, 3), (720, 14), (720, 3))"
     },
     "execution_count": 17,
     "metadata": {},
     "output_type": "execute_result"
    }
   ],
   "source": [
    "X_spiral_down_b = combined_b.iloc[:, :14]\n",
    "y_spiral_down_b = combined_b.iloc[:, 14:]\n",
    "X_spiral_down_c = combined_c.iloc[:, :14]\n",
    "y_spiral_down_c = combined_c.iloc[:, 14:]\n",
    "X_spiral_down_b.shape, y_spiral_down_b.shape, X_spiral_down_c.shape, y_spiral_down_c.shape"
   ],
   "metadata": {
    "collapsed": false,
    "ExecuteTime": {
     "end_time": "2024-03-07T15:22:38.623324Z",
     "start_time": "2024-03-07T15:22:38.584608Z"
    }
   },
   "id": "85c5bd44d289a11a",
   "execution_count": 17
  },
  {
   "cell_type": "code",
   "outputs": [
    {
     "data": {
      "text/plain": "         u0    v0    u1     v1    u2    v2    u3    v3    u4    v4    u5  \\\n0      61.0  94.0  43.0  105.0  59.0  87.0  52.5  87.0  36.0  87.5  42.0   \n1      61.0  94.0  43.0  105.5  59.0  87.0  53.0  87.0  36.0  88.0  42.0   \n2      61.0  95.0  43.0  105.5  59.0  88.0  52.5  87.5  36.0  88.0  42.0   \n3      61.0  95.5  43.0  107.0  59.5  88.0  52.5  87.5  36.0  89.0  42.0   \n4      61.0  96.0  43.0  107.0  60.0  88.5  53.0  89.0  36.0  89.0  42.0   \n...     ...   ...   ...    ...   ...   ...   ...   ...   ...   ...   ...   \n10534  78.0  62.0  61.0   72.0  76.5  56.0  70.0  55.5  53.0  55.5  59.0   \n10535  78.0  62.0  61.0   72.0  76.5  56.0  70.0  55.5  53.0  55.5  59.0   \n10536  78.5  62.5  61.5   72.5  76.5  56.0  70.0  55.5  54.0  56.0  59.0   \n10537  78.5  62.5  62.0   72.0  77.0  56.0  70.0  55.5  54.0  55.5  59.0   \n10538  78.5  62.5  62.0   72.0  77.0  56.0  70.0  55.5  54.0  55.5  59.0   \n\n         v5    u6    v6  \n0      80.0  44.5  79.5  \n1      80.0  44.5  79.5  \n2      81.0  44.0  81.0  \n3      81.0  44.5  81.0  \n4      81.0  44.5  81.5  \n...     ...   ...   ...  \n10534  49.5  61.0  50.0  \n10535  50.0  61.5  50.0  \n10536  49.5  61.5  50.0  \n10537  49.5  61.5  50.0  \n10538  49.5  61.5  50.0  \n\n[10539 rows x 14 columns]",
      "text/html": "<div>\n<style scoped>\n    .dataframe tbody tr th:only-of-type {\n        vertical-align: middle;\n    }\n\n    .dataframe tbody tr th {\n        vertical-align: top;\n    }\n\n    .dataframe thead th {\n        text-align: right;\n    }\n</style>\n<table border=\"1\" class=\"dataframe\">\n  <thead>\n    <tr style=\"text-align: right;\">\n      <th></th>\n      <th>u0</th>\n      <th>v0</th>\n      <th>u1</th>\n      <th>v1</th>\n      <th>u2</th>\n      <th>v2</th>\n      <th>u3</th>\n      <th>v3</th>\n      <th>u4</th>\n      <th>v4</th>\n      <th>u5</th>\n      <th>v5</th>\n      <th>u6</th>\n      <th>v6</th>\n    </tr>\n  </thead>\n  <tbody>\n    <tr>\n      <th>0</th>\n      <td>61.0</td>\n      <td>94.0</td>\n      <td>43.0</td>\n      <td>105.0</td>\n      <td>59.0</td>\n      <td>87.0</td>\n      <td>52.5</td>\n      <td>87.0</td>\n      <td>36.0</td>\n      <td>87.5</td>\n      <td>42.0</td>\n      <td>80.0</td>\n      <td>44.5</td>\n      <td>79.5</td>\n    </tr>\n    <tr>\n      <th>1</th>\n      <td>61.0</td>\n      <td>94.0</td>\n      <td>43.0</td>\n      <td>105.5</td>\n      <td>59.0</td>\n      <td>87.0</td>\n      <td>53.0</td>\n      <td>87.0</td>\n      <td>36.0</td>\n      <td>88.0</td>\n      <td>42.0</td>\n      <td>80.0</td>\n      <td>44.5</td>\n      <td>79.5</td>\n    </tr>\n    <tr>\n      <th>2</th>\n      <td>61.0</td>\n      <td>95.0</td>\n      <td>43.0</td>\n      <td>105.5</td>\n      <td>59.0</td>\n      <td>88.0</td>\n      <td>52.5</td>\n      <td>87.5</td>\n      <td>36.0</td>\n      <td>88.0</td>\n      <td>42.0</td>\n      <td>81.0</td>\n      <td>44.0</td>\n      <td>81.0</td>\n    </tr>\n    <tr>\n      <th>3</th>\n      <td>61.0</td>\n      <td>95.5</td>\n      <td>43.0</td>\n      <td>107.0</td>\n      <td>59.5</td>\n      <td>88.0</td>\n      <td>52.5</td>\n      <td>87.5</td>\n      <td>36.0</td>\n      <td>89.0</td>\n      <td>42.0</td>\n      <td>81.0</td>\n      <td>44.5</td>\n      <td>81.0</td>\n    </tr>\n    <tr>\n      <th>4</th>\n      <td>61.0</td>\n      <td>96.0</td>\n      <td>43.0</td>\n      <td>107.0</td>\n      <td>60.0</td>\n      <td>88.5</td>\n      <td>53.0</td>\n      <td>89.0</td>\n      <td>36.0</td>\n      <td>89.0</td>\n      <td>42.0</td>\n      <td>81.0</td>\n      <td>44.5</td>\n      <td>81.5</td>\n    </tr>\n    <tr>\n      <th>...</th>\n      <td>...</td>\n      <td>...</td>\n      <td>...</td>\n      <td>...</td>\n      <td>...</td>\n      <td>...</td>\n      <td>...</td>\n      <td>...</td>\n      <td>...</td>\n      <td>...</td>\n      <td>...</td>\n      <td>...</td>\n      <td>...</td>\n      <td>...</td>\n    </tr>\n    <tr>\n      <th>10534</th>\n      <td>78.0</td>\n      <td>62.0</td>\n      <td>61.0</td>\n      <td>72.0</td>\n      <td>76.5</td>\n      <td>56.0</td>\n      <td>70.0</td>\n      <td>55.5</td>\n      <td>53.0</td>\n      <td>55.5</td>\n      <td>59.0</td>\n      <td>49.5</td>\n      <td>61.0</td>\n      <td>50.0</td>\n    </tr>\n    <tr>\n      <th>10535</th>\n      <td>78.0</td>\n      <td>62.0</td>\n      <td>61.0</td>\n      <td>72.0</td>\n      <td>76.5</td>\n      <td>56.0</td>\n      <td>70.0</td>\n      <td>55.5</td>\n      <td>53.0</td>\n      <td>55.5</td>\n      <td>59.0</td>\n      <td>50.0</td>\n      <td>61.5</td>\n      <td>50.0</td>\n    </tr>\n    <tr>\n      <th>10536</th>\n      <td>78.5</td>\n      <td>62.5</td>\n      <td>61.5</td>\n      <td>72.5</td>\n      <td>76.5</td>\n      <td>56.0</td>\n      <td>70.0</td>\n      <td>55.5</td>\n      <td>54.0</td>\n      <td>56.0</td>\n      <td>59.0</td>\n      <td>49.5</td>\n      <td>61.5</td>\n      <td>50.0</td>\n    </tr>\n    <tr>\n      <th>10537</th>\n      <td>78.5</td>\n      <td>62.5</td>\n      <td>62.0</td>\n      <td>72.0</td>\n      <td>77.0</td>\n      <td>56.0</td>\n      <td>70.0</td>\n      <td>55.5</td>\n      <td>54.0</td>\n      <td>55.5</td>\n      <td>59.0</td>\n      <td>49.5</td>\n      <td>61.5</td>\n      <td>50.0</td>\n    </tr>\n    <tr>\n      <th>10538</th>\n      <td>78.5</td>\n      <td>62.5</td>\n      <td>62.0</td>\n      <td>72.0</td>\n      <td>77.0</td>\n      <td>56.0</td>\n      <td>70.0</td>\n      <td>55.5</td>\n      <td>54.0</td>\n      <td>55.5</td>\n      <td>59.0</td>\n      <td>49.5</td>\n      <td>61.5</td>\n      <td>50.0</td>\n    </tr>\n  </tbody>\n</table>\n<p>10539 rows × 14 columns</p>\n</div>"
     },
     "execution_count": 18,
     "metadata": {},
     "output_type": "execute_result"
    }
   ],
   "source": [
    "X_train = pd.concat([X_circle_a, X_circle_b, X_circle_c, X_lis_curve_a, X_lis_curve_b, X_lis_curve_c, X_spiral_double_a, X_spiral_double_b, X_spiral_down_a, X_spiral_down_b, X_spiral_down_c])\n",
    "y_train = pd.concat([y_circle_a, y_circle_b, y_circle_c, y_lis_curve_a, y_lis_curve_b, y_lis_curve_c, y_spiral_double_a, y_spiral_double_b, y_spiral_down_a, y_spiral_down_b, y_spiral_down_c])\n",
    "X_train = X_train.reset_index(drop=True)\n",
    "y_train = y_train.reset_index(drop=True)\n",
    "X_train"
   ],
   "metadata": {
    "collapsed": false,
    "ExecuteTime": {
     "end_time": "2024-03-07T15:22:38.835638Z",
     "start_time": "2024-03-07T15:22:38.771993Z"
    }
   },
   "id": "45402e756b5d92da",
   "execution_count": 18
  },
  {
   "cell_type": "code",
   "outputs": [
    {
     "data": {
      "text/plain": "((10539, 14), (10539, 3))"
     },
     "execution_count": 19,
     "metadata": {},
     "output_type": "execute_result"
    }
   ],
   "source": [
    "X_train.shape, y_train.shape"
   ],
   "metadata": {
    "collapsed": false,
    "ExecuteTime": {
     "end_time": "2024-03-07T15:22:38.974506Z",
     "start_time": "2024-03-07T15:22:38.962468Z"
    }
   },
   "id": "ed7a120a3e7c90c1",
   "execution_count": 19
  },
  {
   "cell_type": "code",
   "outputs": [],
   "source": [
    "combined = pd.concat([X_train, y_train], axis=1)"
   ],
   "metadata": {
    "collapsed": false,
    "ExecuteTime": {
     "end_time": "2024-03-07T15:22:39.036824Z",
     "start_time": "2024-03-07T15:22:39.015176Z"
    }
   },
   "id": "77964f394f147651",
   "execution_count": 20
  },
  {
   "cell_type": "markdown",
   "source": [
    "## 3. Data Preprocessing"
   ],
   "metadata": {
    "collapsed": false
   },
   "id": "bc7a378fbd128144"
  },
  {
   "cell_type": "code",
   "outputs": [
    {
     "name": "stdout",
     "output_type": "stream",
     "text": [
      "The data has missing values: 66\n",
      "The data has missing values: 0\n"
     ]
    }
   ],
   "source": [
    "# check for missing values\n",
    "print(f'The data has missing values: {combined.isnull().sum().sum()}')\n",
    "combined.dropna(inplace=True)\n",
    "print(f'The data has missing values: {combined.isnull().sum().sum()}')"
   ],
   "metadata": {
    "collapsed": false,
    "ExecuteTime": {
     "end_time": "2024-03-07T15:22:39.150472Z",
     "start_time": "2024-03-07T15:22:39.122149Z"
    }
   },
   "id": "29060cc2a3e655dc",
   "execution_count": 21
  },
  {
   "cell_type": "code",
   "outputs": [],
   "source": [
    "X = combined.iloc[:, :14]\n",
    "y = combined.iloc[:, 14:]"
   ],
   "metadata": {
    "collapsed": false,
    "ExecuteTime": {
     "end_time": "2024-03-07T15:22:39.291126Z",
     "start_time": "2024-03-07T15:22:39.280754Z"
    }
   },
   "id": "2c20e7b504dcfd9c",
   "execution_count": 22
  },
  {
   "cell_type": "code",
   "outputs": [],
   "source": [
    "# scale the data\n",
    "scaler_x = MinMaxScaler()\n",
    "scaler_y = MinMaxScaler()\n",
    "X_scaled = scaler_x.fit_transform(X)\n",
    "y_scaled = scaler_y.fit_transform(y)"
   ],
   "metadata": {
    "collapsed": false,
    "ExecuteTime": {
     "end_time": "2024-03-07T15:22:39.477649Z",
     "start_time": "2024-03-07T15:22:39.449461Z"
    }
   },
   "id": "898d1aebee1ee4a2",
   "execution_count": 23
  },
  {
   "cell_type": "markdown",
   "source": [
    "## 4. Hyperparameter Tuning"
   ],
   "metadata": {
    "collapsed": false
   },
   "id": "fad416068809969b"
  },
  {
   "cell_type": "code",
   "outputs": [],
   "source": [
    "# create a pipeline\n",
    "pipeline = Pipeline([\n",
    "    ('mlp', MLPRegressor(random_state=42))\n",
    "])"
   ],
   "metadata": {
    "collapsed": false,
    "ExecuteTime": {
     "end_time": "2024-03-07T15:22:39.619999Z",
     "start_time": "2024-03-07T15:22:39.602061Z"
    }
   },
   "id": "202ed5653fa8a79b",
   "execution_count": 24
  },
  {
   "cell_type": "code",
   "outputs": [
    {
     "name": "stdout",
     "output_type": "stream",
     "text": [
      "Fitting 5 folds for each of 100 candidates, totalling 500 fits\n"
     ]
    },
    {
     "name": "stderr",
     "output_type": "stream",
     "text": [
      "C:\\Users\\xande\\venv\\lib\\site-packages\\sklearn\\model_selection\\_validation.py:425: FitFailedWarning: \n",
      "58 fits failed out of a total of 500.\n",
      "The score on these train-test partitions for these parameters will be set to nan.\n",
      "If these failures are not expected, you can try to debug them by setting error_score='raise'.\n",
      "\n",
      "Below are more details about the failures:\n",
      "--------------------------------------------------------------------------------\n",
      "58 fits failed with the following error:\n",
      "Traceback (most recent call last):\n",
      "  File \"C:\\Users\\xande\\venv\\lib\\site-packages\\sklearn\\model_selection\\_validation.py\", line 729, in _fit_and_score\n",
      "    estimator.fit(X_train, y_train, **fit_params)\n",
      "  File \"C:\\Users\\xande\\venv\\lib\\site-packages\\sklearn\\base.py\", line 1152, in wrapper\n",
      "    return fit_method(estimator, *args, **kwargs)\n",
      "  File \"C:\\Users\\xande\\venv\\lib\\site-packages\\sklearn\\pipeline.py\", line 427, in fit\n",
      "    self._final_estimator.fit(Xt, y, **fit_params_last_step)\n",
      "  File \"C:\\Users\\xande\\venv\\lib\\site-packages\\sklearn\\base.py\", line 1152, in wrapper\n",
      "    return fit_method(estimator, *args, **kwargs)\n",
      "  File \"C:\\Users\\xande\\venv\\lib\\site-packages\\sklearn\\neural_network\\_multilayer_perceptron.py\", line 753, in fit\n",
      "    return self._fit(X, y, incremental=False)\n",
      "  File \"C:\\Users\\xande\\venv\\lib\\site-packages\\sklearn\\neural_network\\_multilayer_perceptron.py\", line 476, in _fit\n",
      "    self._fit_stochastic(\n",
      "  File \"C:\\Users\\xande\\venv\\lib\\site-packages\\sklearn\\neural_network\\_multilayer_perceptron.py\", line 660, in _fit_stochastic\n",
      "    self._update_no_improvement_count(early_stopping, X_val, y_val)\n",
      "  File \"C:\\Users\\xande\\venv\\lib\\site-packages\\sklearn\\neural_network\\_multilayer_perceptron.py\", line 709, in _update_no_improvement_count\n",
      "    self.validation_scores_.append(self._score(X_val, y_val))\n",
      "  File \"C:\\Users\\xande\\venv\\lib\\site-packages\\sklearn\\neural_network\\_multilayer_perceptron.py\", line 1612, in _score\n",
      "    return r2_score(y, y_pred)\n",
      "  File \"C:\\Users\\xande\\venv\\lib\\site-packages\\sklearn\\utils\\_param_validation.py\", line 187, in wrapper\n",
      "    return func(*args, **kwargs)\n",
      "  File \"C:\\Users\\xande\\venv\\lib\\site-packages\\sklearn\\metrics\\_regression.py\", line 989, in r2_score\n",
      "    y_type, y_true, y_pred, multioutput = _check_reg_targets(\n",
      "  File \"C:\\Users\\xande\\venv\\lib\\site-packages\\sklearn\\metrics\\_regression.py\", line 101, in _check_reg_targets\n",
      "    y_pred = check_array(y_pred, ensure_2d=False, dtype=dtype)\n",
      "  File \"C:\\Users\\xande\\venv\\lib\\site-packages\\sklearn\\utils\\validation.py\", line 957, in check_array\n",
      "    _assert_all_finite(\n",
      "  File \"C:\\Users\\xande\\venv\\lib\\site-packages\\sklearn\\utils\\validation.py\", line 122, in _assert_all_finite\n",
      "    _assert_all_finite_element_wise(\n",
      "  File \"C:\\Users\\xande\\venv\\lib\\site-packages\\sklearn\\utils\\validation.py\", line 171, in _assert_all_finite_element_wise\n",
      "    raise ValueError(msg_err)\n",
      "ValueError: Input contains NaN.\n",
      "\n",
      "  warnings.warn(some_fits_failed_message, FitFailedWarning)\n",
      "C:\\Users\\xande\\venv\\lib\\site-packages\\sklearn\\model_selection\\_search.py:979: UserWarning: One or more of the test scores are non-finite: [ 0.85071661         nan  0.86193333 -0.31251471         nan  0.79371993\n",
      "  0.83539764  0.84207384  0.74744927  0.77888644         nan  0.84618946\n",
      "  0.84456     0.85708118  0.86512524  0.79720098  0.7671777          nan\n",
      "  0.84920721  0.83393662         nan  0.83393662  0.84184663  0.8347752\n",
      "  0.83304964  0.82641967  0.86996922  0.82794832  0.84255166  0.52779564\n",
      "  0.85160061  0.85071661  0.85636074  0.83539764         nan  0.86538849\n",
      "  0.84159931  0.86647834  0.84546492  0.86954452  0.83451004  0.85015082\n",
      "  0.85028351  0.86193333  0.84326595  0.87087886  0.85454818  0.63594576\n",
      "  0.83304964  0.85867351  0.86534187         nan         nan         nan\n",
      "  0.82561576  0.8299045  -0.26953281  0.83565002  0.82975132         nan\n",
      " -0.31251471  0.86066549         nan  0.7829786   0.8299045   0.84523466\n",
      "  0.75728501  0.78397896  0.7829786   0.82885939  0.863876    0.84110117\n",
      "  0.82659329  0.84456     0.86581217  0.84204821 -0.36825239  0.86478669\n",
      "  0.86538849         nan -0.36825239         nan  0.86193333  0.82698634\n",
      "  0.83395782  0.84506107  0.45176819  0.84204821  0.66589784  0.84126619\n",
      "  0.84221795  0.83016417  0.78397896  0.82083543  0.84194797         nan\n",
      "  0.84204821  0.86512524  0.45176819  0.83795725]\n",
      "  warnings.warn(\n"
     ]
    },
    {
     "data": {
      "text/plain": "RandomizedSearchCV(cv=5,\n                   estimator=Pipeline(steps=[('mlp',\n                                              MLPRegressor(random_state=42))]),\n                   n_iter=100, n_jobs=-1,\n                   param_distributions={'mlp__activation': ['identity', 'tanh',\n                                                            'relu'],\n                                        'mlp__alpha': [0.001, 0.01, 0.1],\n                                        'mlp__early_stopping': [True],\n                                        'mlp__hidden_layer_sizes': [(50, 50,\n                                                                     50),\n                                                                    (50, 100,\n                                                                     50),\n                                                                    (100,)],\n                                        'mlp__learning_rate': ['constant',\n                                                               'adaptive'],\n                                        'mlp__learning_rate_init': [0.001, 0.01,\n                                                                    0.1],\n                                        'mlp__max_iter': [10000, 20000, 28000],\n                                        'mlp__solver': ['sgd', 'adam']},\n                   random_state=42, verbose=3)",
      "text/html": "<style>#sk-container-id-1 {color: black;}#sk-container-id-1 pre{padding: 0;}#sk-container-id-1 div.sk-toggleable {background-color: white;}#sk-container-id-1 label.sk-toggleable__label {cursor: pointer;display: block;width: 100%;margin-bottom: 0;padding: 0.3em;box-sizing: border-box;text-align: center;}#sk-container-id-1 label.sk-toggleable__label-arrow:before {content: \"▸\";float: left;margin-right: 0.25em;color: #696969;}#sk-container-id-1 label.sk-toggleable__label-arrow:hover:before {color: black;}#sk-container-id-1 div.sk-estimator:hover label.sk-toggleable__label-arrow:before {color: black;}#sk-container-id-1 div.sk-toggleable__content {max-height: 0;max-width: 0;overflow: hidden;text-align: left;background-color: #f0f8ff;}#sk-container-id-1 div.sk-toggleable__content pre {margin: 0.2em;color: black;border-radius: 0.25em;background-color: #f0f8ff;}#sk-container-id-1 input.sk-toggleable__control:checked~div.sk-toggleable__content {max-height: 200px;max-width: 100%;overflow: auto;}#sk-container-id-1 input.sk-toggleable__control:checked~label.sk-toggleable__label-arrow:before {content: \"▾\";}#sk-container-id-1 div.sk-estimator input.sk-toggleable__control:checked~label.sk-toggleable__label {background-color: #d4ebff;}#sk-container-id-1 div.sk-label input.sk-toggleable__control:checked~label.sk-toggleable__label {background-color: #d4ebff;}#sk-container-id-1 input.sk-hidden--visually {border: 0;clip: rect(1px 1px 1px 1px);clip: rect(1px, 1px, 1px, 1px);height: 1px;margin: -1px;overflow: hidden;padding: 0;position: absolute;width: 1px;}#sk-container-id-1 div.sk-estimator {font-family: monospace;background-color: #f0f8ff;border: 1px dotted black;border-radius: 0.25em;box-sizing: border-box;margin-bottom: 0.5em;}#sk-container-id-1 div.sk-estimator:hover {background-color: #d4ebff;}#sk-container-id-1 div.sk-parallel-item::after {content: \"\";width: 100%;border-bottom: 1px solid gray;flex-grow: 1;}#sk-container-id-1 div.sk-label:hover label.sk-toggleable__label {background-color: #d4ebff;}#sk-container-id-1 div.sk-serial::before {content: \"\";position: absolute;border-left: 1px solid gray;box-sizing: border-box;top: 0;bottom: 0;left: 50%;z-index: 0;}#sk-container-id-1 div.sk-serial {display: flex;flex-direction: column;align-items: center;background-color: white;padding-right: 0.2em;padding-left: 0.2em;position: relative;}#sk-container-id-1 div.sk-item {position: relative;z-index: 1;}#sk-container-id-1 div.sk-parallel {display: flex;align-items: stretch;justify-content: center;background-color: white;position: relative;}#sk-container-id-1 div.sk-item::before, #sk-container-id-1 div.sk-parallel-item::before {content: \"\";position: absolute;border-left: 1px solid gray;box-sizing: border-box;top: 0;bottom: 0;left: 50%;z-index: -1;}#sk-container-id-1 div.sk-parallel-item {display: flex;flex-direction: column;z-index: 1;position: relative;background-color: white;}#sk-container-id-1 div.sk-parallel-item:first-child::after {align-self: flex-end;width: 50%;}#sk-container-id-1 div.sk-parallel-item:last-child::after {align-self: flex-start;width: 50%;}#sk-container-id-1 div.sk-parallel-item:only-child::after {width: 0;}#sk-container-id-1 div.sk-dashed-wrapped {border: 1px dashed gray;margin: 0 0.4em 0.5em 0.4em;box-sizing: border-box;padding-bottom: 0.4em;background-color: white;}#sk-container-id-1 div.sk-label label {font-family: monospace;font-weight: bold;display: inline-block;line-height: 1.2em;}#sk-container-id-1 div.sk-label-container {text-align: center;}#sk-container-id-1 div.sk-container {/* jupyter's `normalize.less` sets `[hidden] { display: none; }` but bootstrap.min.css set `[hidden] { display: none !important; }` so we also need the `!important` here to be able to override the default hidden behavior on the sphinx rendered scikit-learn.org. See: https://github.com/scikit-learn/scikit-learn/issues/21755 */display: inline-block !important;position: relative;}#sk-container-id-1 div.sk-text-repr-fallback {display: none;}</style><div id=\"sk-container-id-1\" class=\"sk-top-container\"><div class=\"sk-text-repr-fallback\"><pre>RandomizedSearchCV(cv=5,\n                   estimator=Pipeline(steps=[(&#x27;mlp&#x27;,\n                                              MLPRegressor(random_state=42))]),\n                   n_iter=100, n_jobs=-1,\n                   param_distributions={&#x27;mlp__activation&#x27;: [&#x27;identity&#x27;, &#x27;tanh&#x27;,\n                                                            &#x27;relu&#x27;],\n                                        &#x27;mlp__alpha&#x27;: [0.001, 0.01, 0.1],\n                                        &#x27;mlp__early_stopping&#x27;: [True],\n                                        &#x27;mlp__hidden_layer_sizes&#x27;: [(50, 50,\n                                                                     50),\n                                                                    (50, 100,\n                                                                     50),\n                                                                    (100,)],\n                                        &#x27;mlp__learning_rate&#x27;: [&#x27;constant&#x27;,\n                                                               &#x27;adaptive&#x27;],\n                                        &#x27;mlp__learning_rate_init&#x27;: [0.001, 0.01,\n                                                                    0.1],\n                                        &#x27;mlp__max_iter&#x27;: [10000, 20000, 28000],\n                                        &#x27;mlp__solver&#x27;: [&#x27;sgd&#x27;, &#x27;adam&#x27;]},\n                   random_state=42, verbose=3)</pre><b>In a Jupyter environment, please rerun this cell to show the HTML representation or trust the notebook. <br />On GitHub, the HTML representation is unable to render, please try loading this page with nbviewer.org.</b></div><div class=\"sk-container\" hidden><div class=\"sk-item sk-dashed-wrapped\"><div class=\"sk-label-container\"><div class=\"sk-label sk-toggleable\"><input class=\"sk-toggleable__control sk-hidden--visually\" id=\"sk-estimator-id-1\" type=\"checkbox\" ><label for=\"sk-estimator-id-1\" class=\"sk-toggleable__label sk-toggleable__label-arrow\">RandomizedSearchCV</label><div class=\"sk-toggleable__content\"><pre>RandomizedSearchCV(cv=5,\n                   estimator=Pipeline(steps=[(&#x27;mlp&#x27;,\n                                              MLPRegressor(random_state=42))]),\n                   n_iter=100, n_jobs=-1,\n                   param_distributions={&#x27;mlp__activation&#x27;: [&#x27;identity&#x27;, &#x27;tanh&#x27;,\n                                                            &#x27;relu&#x27;],\n                                        &#x27;mlp__alpha&#x27;: [0.001, 0.01, 0.1],\n                                        &#x27;mlp__early_stopping&#x27;: [True],\n                                        &#x27;mlp__hidden_layer_sizes&#x27;: [(50, 50,\n                                                                     50),\n                                                                    (50, 100,\n                                                                     50),\n                                                                    (100,)],\n                                        &#x27;mlp__learning_rate&#x27;: [&#x27;constant&#x27;,\n                                                               &#x27;adaptive&#x27;],\n                                        &#x27;mlp__learning_rate_init&#x27;: [0.001, 0.01,\n                                                                    0.1],\n                                        &#x27;mlp__max_iter&#x27;: [10000, 20000, 28000],\n                                        &#x27;mlp__solver&#x27;: [&#x27;sgd&#x27;, &#x27;adam&#x27;]},\n                   random_state=42, verbose=3)</pre></div></div></div><div class=\"sk-parallel\"><div class=\"sk-parallel-item\"><div class=\"sk-item\"><div class=\"sk-label-container\"><div class=\"sk-label sk-toggleable\"><input class=\"sk-toggleable__control sk-hidden--visually\" id=\"sk-estimator-id-2\" type=\"checkbox\" ><label for=\"sk-estimator-id-2\" class=\"sk-toggleable__label sk-toggleable__label-arrow\">estimator: Pipeline</label><div class=\"sk-toggleable__content\"><pre>Pipeline(steps=[(&#x27;mlp&#x27;, MLPRegressor(random_state=42))])</pre></div></div></div><div class=\"sk-serial\"><div class=\"sk-item\"><div class=\"sk-serial\"><div class=\"sk-item\"><div class=\"sk-estimator sk-toggleable\"><input class=\"sk-toggleable__control sk-hidden--visually\" id=\"sk-estimator-id-3\" type=\"checkbox\" ><label for=\"sk-estimator-id-3\" class=\"sk-toggleable__label sk-toggleable__label-arrow\">MLPRegressor</label><div class=\"sk-toggleable__content\"><pre>MLPRegressor(random_state=42)</pre></div></div></div></div></div></div></div></div></div></div></div></div>"
     },
     "execution_count": 25,
     "metadata": {},
     "output_type": "execute_result"
    }
   ],
   "source": [
    "param_grid = {\n",
    "    'mlp__hidden_layer_sizes': [(50, 50, 50), (50, 100, 50), (100,)],\n",
    "    'mlp__activation': ['identity', 'tanh', 'relu'],\n",
    "    'mlp__solver': ['sgd', 'adam'],\n",
    "    'mlp__alpha': [0.001, 0.01, 0.1],\n",
    "    'mlp__max_iter': [10000, 20000, 28000],\n",
    "    'mlp__learning_rate': ['constant', 'adaptive'],\n",
    "    'mlp__learning_rate_init': [0.001, 0.01, 0.1],\n",
    "    'mlp__early_stopping': [True],\n",
    "}\n",
    "\n",
    "random_search = RandomizedSearchCV(pipeline, param_distributions=param_grid, cv=5, n_iter=100, n_jobs=-1, verbose=3, random_state=42)\n",
    "\n",
    "random_search.fit(X_scaled, y_scaled)"
   ],
   "metadata": {
    "collapsed": false,
    "ExecuteTime": {
     "end_time": "2024-03-07T15:29:46.669710Z",
     "start_time": "2024-03-07T15:22:39.628845Z"
    }
   },
   "id": "5c232eee49f1ced3",
   "execution_count": 25
  },
  {
   "cell_type": "code",
   "outputs": [
    {
     "name": "stdout",
     "output_type": "stream",
     "text": [
      "Best parameters: {'mlp__solver': 'adam', 'mlp__max_iter': 20000, 'mlp__learning_rate_init': 0.001, 'mlp__learning_rate': 'constant', 'mlp__hidden_layer_sizes': (50, 50, 50), 'mlp__early_stopping': True, 'mlp__alpha': 0.001, 'mlp__activation': 'tanh'}\n",
      "Best score: 0.8708788639328994\n"
     ]
    }
   ],
   "source": [
    "print(f'Best parameters: {random_search.best_params_}')\n",
    "print(f'Best score: {random_search.best_score_}')"
   ],
   "metadata": {
    "collapsed": false,
    "ExecuteTime": {
     "end_time": "2024-03-07T15:29:46.685290Z",
     "start_time": "2024-03-07T15:29:46.671840Z"
    }
   },
   "id": "6cc24cd43c214947",
   "execution_count": 26
  },
  {
   "cell_type": "code",
   "outputs": [],
   "source": [
    "model = random_search.best_estimator_"
   ],
   "metadata": {
    "collapsed": false,
    "ExecuteTime": {
     "end_time": "2024-03-07T15:29:46.701010Z",
     "start_time": "2024-03-07T15:29:46.686311Z"
    }
   },
   "id": "e52d4e8a3d14bec4",
   "execution_count": 27
  },
  {
   "cell_type": "markdown",
   "source": [
    "## 5. Training the Model"
   ],
   "metadata": {
    "collapsed": false
   },
   "id": "63a44525cdb065d0"
  },
  {
   "cell_type": "code",
   "outputs": [
    {
     "data": {
      "text/plain": "Pipeline(steps=[('mlp',\n                 MLPRegressor(activation='tanh', alpha=0.001,\n                              early_stopping=True,\n                              hidden_layer_sizes=(50, 50, 50), max_iter=20000,\n                              random_state=42))])",
      "text/html": "<style>#sk-container-id-2 {color: black;}#sk-container-id-2 pre{padding: 0;}#sk-container-id-2 div.sk-toggleable {background-color: white;}#sk-container-id-2 label.sk-toggleable__label {cursor: pointer;display: block;width: 100%;margin-bottom: 0;padding: 0.3em;box-sizing: border-box;text-align: center;}#sk-container-id-2 label.sk-toggleable__label-arrow:before {content: \"▸\";float: left;margin-right: 0.25em;color: #696969;}#sk-container-id-2 label.sk-toggleable__label-arrow:hover:before {color: black;}#sk-container-id-2 div.sk-estimator:hover label.sk-toggleable__label-arrow:before {color: black;}#sk-container-id-2 div.sk-toggleable__content {max-height: 0;max-width: 0;overflow: hidden;text-align: left;background-color: #f0f8ff;}#sk-container-id-2 div.sk-toggleable__content pre {margin: 0.2em;color: black;border-radius: 0.25em;background-color: #f0f8ff;}#sk-container-id-2 input.sk-toggleable__control:checked~div.sk-toggleable__content {max-height: 200px;max-width: 100%;overflow: auto;}#sk-container-id-2 input.sk-toggleable__control:checked~label.sk-toggleable__label-arrow:before {content: \"▾\";}#sk-container-id-2 div.sk-estimator input.sk-toggleable__control:checked~label.sk-toggleable__label {background-color: #d4ebff;}#sk-container-id-2 div.sk-label input.sk-toggleable__control:checked~label.sk-toggleable__label {background-color: #d4ebff;}#sk-container-id-2 input.sk-hidden--visually {border: 0;clip: rect(1px 1px 1px 1px);clip: rect(1px, 1px, 1px, 1px);height: 1px;margin: -1px;overflow: hidden;padding: 0;position: absolute;width: 1px;}#sk-container-id-2 div.sk-estimator {font-family: monospace;background-color: #f0f8ff;border: 1px dotted black;border-radius: 0.25em;box-sizing: border-box;margin-bottom: 0.5em;}#sk-container-id-2 div.sk-estimator:hover {background-color: #d4ebff;}#sk-container-id-2 div.sk-parallel-item::after {content: \"\";width: 100%;border-bottom: 1px solid gray;flex-grow: 1;}#sk-container-id-2 div.sk-label:hover label.sk-toggleable__label {background-color: #d4ebff;}#sk-container-id-2 div.sk-serial::before {content: \"\";position: absolute;border-left: 1px solid gray;box-sizing: border-box;top: 0;bottom: 0;left: 50%;z-index: 0;}#sk-container-id-2 div.sk-serial {display: flex;flex-direction: column;align-items: center;background-color: white;padding-right: 0.2em;padding-left: 0.2em;position: relative;}#sk-container-id-2 div.sk-item {position: relative;z-index: 1;}#sk-container-id-2 div.sk-parallel {display: flex;align-items: stretch;justify-content: center;background-color: white;position: relative;}#sk-container-id-2 div.sk-item::before, #sk-container-id-2 div.sk-parallel-item::before {content: \"\";position: absolute;border-left: 1px solid gray;box-sizing: border-box;top: 0;bottom: 0;left: 50%;z-index: -1;}#sk-container-id-2 div.sk-parallel-item {display: flex;flex-direction: column;z-index: 1;position: relative;background-color: white;}#sk-container-id-2 div.sk-parallel-item:first-child::after {align-self: flex-end;width: 50%;}#sk-container-id-2 div.sk-parallel-item:last-child::after {align-self: flex-start;width: 50%;}#sk-container-id-2 div.sk-parallel-item:only-child::after {width: 0;}#sk-container-id-2 div.sk-dashed-wrapped {border: 1px dashed gray;margin: 0 0.4em 0.5em 0.4em;box-sizing: border-box;padding-bottom: 0.4em;background-color: white;}#sk-container-id-2 div.sk-label label {font-family: monospace;font-weight: bold;display: inline-block;line-height: 1.2em;}#sk-container-id-2 div.sk-label-container {text-align: center;}#sk-container-id-2 div.sk-container {/* jupyter's `normalize.less` sets `[hidden] { display: none; }` but bootstrap.min.css set `[hidden] { display: none !important; }` so we also need the `!important` here to be able to override the default hidden behavior on the sphinx rendered scikit-learn.org. See: https://github.com/scikit-learn/scikit-learn/issues/21755 */display: inline-block !important;position: relative;}#sk-container-id-2 div.sk-text-repr-fallback {display: none;}</style><div id=\"sk-container-id-2\" class=\"sk-top-container\"><div class=\"sk-text-repr-fallback\"><pre>Pipeline(steps=[(&#x27;mlp&#x27;,\n                 MLPRegressor(activation=&#x27;tanh&#x27;, alpha=0.001,\n                              early_stopping=True,\n                              hidden_layer_sizes=(50, 50, 50), max_iter=20000,\n                              random_state=42))])</pre><b>In a Jupyter environment, please rerun this cell to show the HTML representation or trust the notebook. <br />On GitHub, the HTML representation is unable to render, please try loading this page with nbviewer.org.</b></div><div class=\"sk-container\" hidden><div class=\"sk-item sk-dashed-wrapped\"><div class=\"sk-label-container\"><div class=\"sk-label sk-toggleable\"><input class=\"sk-toggleable__control sk-hidden--visually\" id=\"sk-estimator-id-4\" type=\"checkbox\" ><label for=\"sk-estimator-id-4\" class=\"sk-toggleable__label sk-toggleable__label-arrow\">Pipeline</label><div class=\"sk-toggleable__content\"><pre>Pipeline(steps=[(&#x27;mlp&#x27;,\n                 MLPRegressor(activation=&#x27;tanh&#x27;, alpha=0.001,\n                              early_stopping=True,\n                              hidden_layer_sizes=(50, 50, 50), max_iter=20000,\n                              random_state=42))])</pre></div></div></div><div class=\"sk-serial\"><div class=\"sk-item\"><div class=\"sk-estimator sk-toggleable\"><input class=\"sk-toggleable__control sk-hidden--visually\" id=\"sk-estimator-id-5\" type=\"checkbox\" ><label for=\"sk-estimator-id-5\" class=\"sk-toggleable__label sk-toggleable__label-arrow\">MLPRegressor</label><div class=\"sk-toggleable__content\"><pre>MLPRegressor(activation=&#x27;tanh&#x27;, alpha=0.001, early_stopping=True,\n             hidden_layer_sizes=(50, 50, 50), max_iter=20000, random_state=42)</pre></div></div></div></div></div></div></div>"
     },
     "execution_count": 28,
     "metadata": {},
     "output_type": "execute_result"
    }
   ],
   "source": [
    "model.fit(X_scaled, y_scaled)"
   ],
   "metadata": {
    "collapsed": false,
    "ExecuteTime": {
     "end_time": "2024-03-07T15:29:50.929590Z",
     "start_time": "2024-03-07T15:29:46.703011Z"
    }
   },
   "id": "7b6d9c96f863c23d",
   "execution_count": 28
  },
  {
   "cell_type": "markdown",
   "source": [
    "## 6. Make Predictions On Test Data"
   ],
   "metadata": {
    "collapsed": false
   },
   "id": "ae68f2dd8bbd3320"
  },
  {
   "cell_type": "code",
   "outputs": [],
   "source": [
    "import pandas as pd"
   ],
   "metadata": {
    "collapsed": false,
    "ExecuteTime": {
     "end_time": "2024-03-07T15:29:50.944746Z",
     "start_time": "2024-03-07T15:29:50.930629Z"
    }
   },
   "id": "19be1e6e990902fb",
   "execution_count": 29
  },
  {
   "cell_type": "code",
   "outputs": [
    {
     "data": {
      "text/plain": "       u0     v0    u1     v1    u2    v2    u3    v3    u4    v4    u5    v5  \\\n0    81.0   94.0  64.5  104.5  79.0  87.0  72.0  87.0  56.0  86.5  61.0  80.0   \n1    80.5   95.5  63.0  106.0  78.0  88.0  72.0  88.0  55.0  88.0  60.5  81.0   \n2    78.5   97.5  62.0  108.0  77.0  90.0  70.5  90.0  54.0  90.0  59.5  82.0   \n3    78.5   99.0  61.0  110.0  76.5  91.5  70.0  91.5  53.0  91.5  59.0  84.0   \n4    77.5  100.5  60.0  111.5  75.5  92.5  68.5  93.0  52.5  93.0  58.0  85.5   \n..    ...    ...   ...    ...   ...   ...   ...   ...   ...   ...   ...   ...   \n508  72.0   80.0  55.5   90.0  71.0  74.0  64.0  73.0  47.0  73.0  53.0  66.0   \n509  73.0   81.0  56.0   90.0  71.5  73.5  65.0  73.0  48.0  74.0  54.0  67.0   \n510  73.5   81.0  56.5   91.0  72.0  74.0  65.0  74.0  48.0  74.0  54.0  67.0   \n511  75.0   83.0  57.5   93.5  73.0  76.0  67.0  76.0  50.0  75.5  56.0  69.0   \n512  74.5   82.5  57.0   92.0  73.0  75.0  66.0  75.0  49.0  75.0  55.0  68.0   \n\n       u6    v6  \n0    64.5  79.5  \n1    63.0  81.0  \n2    62.0  82.0  \n3    61.0  84.0  \n4    60.5  85.5  \n..    ...   ...  \n508  56.0  66.0  \n509  56.0  66.0  \n510  57.0  67.0  \n511  58.0  69.0  \n512  57.0  68.0  \n\n[513 rows x 14 columns]",
      "text/html": "<div>\n<style scoped>\n    .dataframe tbody tr th:only-of-type {\n        vertical-align: middle;\n    }\n\n    .dataframe tbody tr th {\n        vertical-align: top;\n    }\n\n    .dataframe thead th {\n        text-align: right;\n    }\n</style>\n<table border=\"1\" class=\"dataframe\">\n  <thead>\n    <tr style=\"text-align: right;\">\n      <th></th>\n      <th>u0</th>\n      <th>v0</th>\n      <th>u1</th>\n      <th>v1</th>\n      <th>u2</th>\n      <th>v2</th>\n      <th>u3</th>\n      <th>v3</th>\n      <th>u4</th>\n      <th>v4</th>\n      <th>u5</th>\n      <th>v5</th>\n      <th>u6</th>\n      <th>v6</th>\n    </tr>\n  </thead>\n  <tbody>\n    <tr>\n      <th>0</th>\n      <td>81.0</td>\n      <td>94.0</td>\n      <td>64.5</td>\n      <td>104.5</td>\n      <td>79.0</td>\n      <td>87.0</td>\n      <td>72.0</td>\n      <td>87.0</td>\n      <td>56.0</td>\n      <td>86.5</td>\n      <td>61.0</td>\n      <td>80.0</td>\n      <td>64.5</td>\n      <td>79.5</td>\n    </tr>\n    <tr>\n      <th>1</th>\n      <td>80.5</td>\n      <td>95.5</td>\n      <td>63.0</td>\n      <td>106.0</td>\n      <td>78.0</td>\n      <td>88.0</td>\n      <td>72.0</td>\n      <td>88.0</td>\n      <td>55.0</td>\n      <td>88.0</td>\n      <td>60.5</td>\n      <td>81.0</td>\n      <td>63.0</td>\n      <td>81.0</td>\n    </tr>\n    <tr>\n      <th>2</th>\n      <td>78.5</td>\n      <td>97.5</td>\n      <td>62.0</td>\n      <td>108.0</td>\n      <td>77.0</td>\n      <td>90.0</td>\n      <td>70.5</td>\n      <td>90.0</td>\n      <td>54.0</td>\n      <td>90.0</td>\n      <td>59.5</td>\n      <td>82.0</td>\n      <td>62.0</td>\n      <td>82.0</td>\n    </tr>\n    <tr>\n      <th>3</th>\n      <td>78.5</td>\n      <td>99.0</td>\n      <td>61.0</td>\n      <td>110.0</td>\n      <td>76.5</td>\n      <td>91.5</td>\n      <td>70.0</td>\n      <td>91.5</td>\n      <td>53.0</td>\n      <td>91.5</td>\n      <td>59.0</td>\n      <td>84.0</td>\n      <td>61.0</td>\n      <td>84.0</td>\n    </tr>\n    <tr>\n      <th>4</th>\n      <td>77.5</td>\n      <td>100.5</td>\n      <td>60.0</td>\n      <td>111.5</td>\n      <td>75.5</td>\n      <td>92.5</td>\n      <td>68.5</td>\n      <td>93.0</td>\n      <td>52.5</td>\n      <td>93.0</td>\n      <td>58.0</td>\n      <td>85.5</td>\n      <td>60.5</td>\n      <td>85.5</td>\n    </tr>\n    <tr>\n      <th>...</th>\n      <td>...</td>\n      <td>...</td>\n      <td>...</td>\n      <td>...</td>\n      <td>...</td>\n      <td>...</td>\n      <td>...</td>\n      <td>...</td>\n      <td>...</td>\n      <td>...</td>\n      <td>...</td>\n      <td>...</td>\n      <td>...</td>\n      <td>...</td>\n    </tr>\n    <tr>\n      <th>508</th>\n      <td>72.0</td>\n      <td>80.0</td>\n      <td>55.5</td>\n      <td>90.0</td>\n      <td>71.0</td>\n      <td>74.0</td>\n      <td>64.0</td>\n      <td>73.0</td>\n      <td>47.0</td>\n      <td>73.0</td>\n      <td>53.0</td>\n      <td>66.0</td>\n      <td>56.0</td>\n      <td>66.0</td>\n    </tr>\n    <tr>\n      <th>509</th>\n      <td>73.0</td>\n      <td>81.0</td>\n      <td>56.0</td>\n      <td>90.0</td>\n      <td>71.5</td>\n      <td>73.5</td>\n      <td>65.0</td>\n      <td>73.0</td>\n      <td>48.0</td>\n      <td>74.0</td>\n      <td>54.0</td>\n      <td>67.0</td>\n      <td>56.0</td>\n      <td>66.0</td>\n    </tr>\n    <tr>\n      <th>510</th>\n      <td>73.5</td>\n      <td>81.0</td>\n      <td>56.5</td>\n      <td>91.0</td>\n      <td>72.0</td>\n      <td>74.0</td>\n      <td>65.0</td>\n      <td>74.0</td>\n      <td>48.0</td>\n      <td>74.0</td>\n      <td>54.0</td>\n      <td>67.0</td>\n      <td>57.0</td>\n      <td>67.0</td>\n    </tr>\n    <tr>\n      <th>511</th>\n      <td>75.0</td>\n      <td>83.0</td>\n      <td>57.5</td>\n      <td>93.5</td>\n      <td>73.0</td>\n      <td>76.0</td>\n      <td>67.0</td>\n      <td>76.0</td>\n      <td>50.0</td>\n      <td>75.5</td>\n      <td>56.0</td>\n      <td>69.0</td>\n      <td>58.0</td>\n      <td>69.0</td>\n    </tr>\n    <tr>\n      <th>512</th>\n      <td>74.5</td>\n      <td>82.5</td>\n      <td>57.0</td>\n      <td>92.0</td>\n      <td>73.0</td>\n      <td>75.0</td>\n      <td>66.0</td>\n      <td>75.0</td>\n      <td>49.0</td>\n      <td>75.0</td>\n      <td>55.0</td>\n      <td>68.0</td>\n      <td>57.0</td>\n      <td>68.0</td>\n    </tr>\n  </tbody>\n</table>\n<p>513 rows × 14 columns</p>\n</div>"
     },
     "execution_count": 30,
     "metadata": {},
     "output_type": "execute_result"
    }
   ],
   "source": [
    "# get all test data\n",
    "X_test_8 = pd.read_csv('../data/data-8/red_ball_coordinates_128px_2024-03-07_15h33m.csv', decimal='.', delimiter=',')\n",
    "X_test_8"
   ],
   "metadata": {
    "collapsed": false,
    "ExecuteTime": {
     "end_time": "2024-03-07T15:29:50.960170Z",
     "start_time": "2024-03-07T15:29:50.945814Z"
    }
   },
   "id": "b7374798627d060a",
   "execution_count": 30
  },
  {
   "cell_type": "code",
   "outputs": [
    {
     "data": {
      "text/plain": "            x         y         z\n4    7.273234  5.135877  21.81421\n5    7.405877  5.397035  21.90800\n6    7.537339  5.648837  22.00096\n7    7.667035  5.886813  22.09267\n8    7.794389  6.106740  22.18272\n..        ...       ...       ...\n512  8.308872  2.973061  22.54652\n513  8.198165  3.074144  22.46824\n514  8.082750  3.207114  22.38663\n515  7.963154  3.369595  22.30206\n516  7.456122  4.245703  21.94353\n\n[513 rows x 3 columns]",
      "text/html": "<div>\n<style scoped>\n    .dataframe tbody tr th:only-of-type {\n        vertical-align: middle;\n    }\n\n    .dataframe tbody tr th {\n        vertical-align: top;\n    }\n\n    .dataframe thead th {\n        text-align: right;\n    }\n</style>\n<table border=\"1\" class=\"dataframe\">\n  <thead>\n    <tr style=\"text-align: right;\">\n      <th></th>\n      <th>x</th>\n      <th>y</th>\n      <th>z</th>\n    </tr>\n  </thead>\n  <tbody>\n    <tr>\n      <th>4</th>\n      <td>7.273234</td>\n      <td>5.135877</td>\n      <td>21.81421</td>\n    </tr>\n    <tr>\n      <th>5</th>\n      <td>7.405877</td>\n      <td>5.397035</td>\n      <td>21.90800</td>\n    </tr>\n    <tr>\n      <th>6</th>\n      <td>7.537339</td>\n      <td>5.648837</td>\n      <td>22.00096</td>\n    </tr>\n    <tr>\n      <th>7</th>\n      <td>7.667035</td>\n      <td>5.886813</td>\n      <td>22.09267</td>\n    </tr>\n    <tr>\n      <th>8</th>\n      <td>7.794389</td>\n      <td>6.106740</td>\n      <td>22.18272</td>\n    </tr>\n    <tr>\n      <th>...</th>\n      <td>...</td>\n      <td>...</td>\n      <td>...</td>\n    </tr>\n    <tr>\n      <th>512</th>\n      <td>8.308872</td>\n      <td>2.973061</td>\n      <td>22.54652</td>\n    </tr>\n    <tr>\n      <th>513</th>\n      <td>8.198165</td>\n      <td>3.074144</td>\n      <td>22.46824</td>\n    </tr>\n    <tr>\n      <th>514</th>\n      <td>8.082750</td>\n      <td>3.207114</td>\n      <td>22.38663</td>\n    </tr>\n    <tr>\n      <th>515</th>\n      <td>7.963154</td>\n      <td>3.369595</td>\n      <td>22.30206</td>\n    </tr>\n    <tr>\n      <th>516</th>\n      <td>7.456122</td>\n      <td>4.245703</td>\n      <td>21.94353</td>\n    </tr>\n  </tbody>\n</table>\n<p>513 rows × 3 columns</p>\n</div>"
     },
     "execution_count": 31,
     "metadata": {},
     "output_type": "execute_result"
    }
   ],
   "source": [
    "# get all the position data\n",
    "y_test_8 = pd.read_csv('../data/data-8/positions_xyz_2024-03-07_15h33m.csv', decimal='.', delimiter=',').iloc[4:]\n",
    "y_test_8"
   ],
   "metadata": {
    "collapsed": false,
    "ExecuteTime": {
     "end_time": "2024-03-07T15:29:50.975447Z",
     "start_time": "2024-03-07T15:29:50.961163Z"
    }
   },
   "id": "f0740ddab47559ab",
   "execution_count": 31
  },
  {
   "cell_type": "code",
   "outputs": [],
   "source": [
    "def prepare_and_scale_test_data(X_test_val, y_test_val, scaler_x_test):\n",
    "    y_test_val = y_test_val.iloc[4:]\n",
    "    combined_test = pd.concat([X_test_val, y_test_val], axis=1)\n",
    "    combined_test.dropna(inplace=True)\n",
    "    X_val = combined_test.iloc[:, :14]\n",
    "    y_val = combined_test.iloc[:, 14:]\n",
    "    X_scaled_test = scaler_x_test.transform(X_val)\n",
    "    return X_scaled_test, y_val"
   ],
   "metadata": {
    "collapsed": false,
    "ExecuteTime": {
     "end_time": "2024-03-07T15:29:50.990522Z",
     "start_time": "2024-03-07T15:29:50.976477Z"
    }
   },
   "id": "32e775e1370c5290",
   "execution_count": 32
  },
  {
   "cell_type": "code",
   "outputs": [],
   "source": [
    "def predict_evaluate_plot(X_test_val_scaled, y_test_val, nn_model, scaler_y_test, title='Trajectory of Ball in 3D Space'):\n",
    "    y_test_predicted_scaled = nn_model.predict(X_test_val_scaled)\n",
    "    y_test_pred = scaler_y_test.inverse_transform(y_test_predicted_scaled)\n",
    "    mse, mae, r2 = evaluate_model(y_test_val, y_test_pred, 'Test Data')\n",
    "    # change col 1 and 2 from place, so it corresponds to the unity 3d space\n",
    "    y_test_pred = y_test_pred[:, [0, 2, 1]]\n",
    "    y_test_val = y_test_val.to_numpy()[:, [0, 2, 1]]\n",
    "    plot_maker_3d(y_test_val, y_test_pred, title)\n",
    "    return y_test_pred, mse, mae, r2"
   ],
   "metadata": {
    "collapsed": false,
    "ExecuteTime": {
     "end_time": "2024-03-07T15:29:51.006578Z",
     "start_time": "2024-03-07T15:29:50.991606Z"
    }
   },
   "id": "ba950ddf6f53963c",
   "execution_count": 33
  },
  {
   "cell_type": "code",
   "outputs": [
    {
     "name": "stdout",
     "output_type": "stream",
     "text": [
      "Mean Squared Error on Test Data Set: 0.2565750336927562\n",
      "Mean Absolute Error on Test Data Set: 0.4194541506168316\n",
      "R2 Score on Test Data set: 0.8171542970761756\n"
     ]
    },
    {
     "data": {
      "text/plain": "<Figure size 640x480 with 1 Axes>",
      "image/png": "[encoded data removed]"
     },
     "metadata": {},
     "output_type": "display_data"
    }
   ],
   "source": [
    "X_test_scaled_spiral, y_test_spiral = prepare_and_scale_test_data(X_test_8, y_test_8, scaler_x)\n",
    "y_test_pred_spiral, mse_spiral, mae_spiral, r2_spiral =predict_evaluate_plot(X_test_scaled_spiral, y_test_spiral, model, scaler_y, 'Trajectory of Ball in 3D Space - 8 motion')"
   ],
   "metadata": {
    "collapsed": false,
    "ExecuteTime": {
     "end_time": "2024-03-07T15:29:51.131978Z",
     "start_time": "2024-03-07T15:29:51.007584Z"
    }
   },
   "id": "84c52016157cda19",
   "execution_count": 34
  }
 ],
 "metadata": {
  "kernelspec": {
   "display_name": "Python 3",
   "language": "python",
   "name": "python3"
  },
  "language_info": {
   "codemirror_mode": {
    "name": "ipython",
    "version": 2
   },
   "file_extension": ".py",
   "mimetype": "text/x-python",
   "name": "python",
   "nbconvert_exporter": "python",
   "pygments_lexer": "ipython2",
   "version": "2.7.6"
  }
 },
 "nbformat": 4,
 "nbformat_minor": 5
}
