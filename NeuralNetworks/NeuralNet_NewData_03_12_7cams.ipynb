{
 "cells": [
  {
   "cell_type": "markdown",
   "source": [],
   "metadata": {
    "collapsed": false
   },
   "id": "a3d73eacc324a4fd"
  },
  {
   "cell_type": "markdown",
   "source": [
    "# Training neural network to predict ball position in a 3d space\n",
    "## 1. Importing Libraries"
   ],
   "metadata": {
    "collapsed": false
   },
   "id": "d62d1f5b11dd788"
  },
  {
   "cell_type": "code",
   "execution_count": 37,
   "id": "initial_id",
   "metadata": {
    "collapsed": true,
    "ExecuteTime": {
     "end_time": "2024-03-12T15:34:10.573280Z",
     "start_time": "2024-03-12T15:34:10.558463Z"
    }
   },
   "outputs": [],
   "source": [
    "import pandas as pd\n",
    "from sklearn.preprocessing import MinMaxScaler\n",
    "from sklearn.neural_network import MLPRegressor\n",
    "from sklearn.model_selection import RandomizedSearchCV\n",
    "from sklearn.pipeline import Pipeline\n",
    "from utils.evaluate import evaluate_model\n",
    "from utils.plot_maker_gaussian_process import plot_maker_3d"
   ]
  },
  {
   "cell_type": "markdown",
   "source": [
    "## 2. Importing Data"
   ],
   "metadata": {
    "collapsed": false
   },
   "id": "c343b126b221af5f"
  },
  {
   "cell_type": "code",
   "outputs": [],
   "source": [
    "# get all train data\n",
    "X_lis_a = pd.read_csv('../data-7cam-wide/data-lis/red_ball_coordinates_128px_2024-03-12_15h00m.csv', decimal='.', delimiter=',')\n",
    "X_lis_b = pd.read_csv('../data-7cam-wide/data-lis/red_ball_coordinates_128px_2024-03-12_15h14m.csv', decimal='.', delimiter=',')\n",
    "X_lis_c = pd.read_csv('../data-7cam-wide/data-lis/red_ball_coordinates_128px_2024-03-12_15h15m.csv', delimiter=',', decimal='.')\n",
    "X_spiral_a = pd.read_csv('../data-7cam-wide/data-spiral/red_ball_coordinates_128px_2024-03-12_15h21m.csv', decimal='.', delimiter=',')\n",
    "X_spiro_a = pd.read_csv('../data-7cam-wide/data-sprio/red_ball_coordinates_128px_2024-03-12_15h03m.csv', decimal='.', delimiter=',')\n",
    "X_spiro_b = pd.read_csv('../data-7cam-wide/data-sprio/red_ball_coordinates_128px_2024-03-12_15h11m.csv', decimal='.', delimiter=',')\n",
    "X_spiro_c = pd.read_csv('../data-7cam-wide/data-sprio/red_ball_coordinates_128px_2024-03-12_15h12m.csv', decimal='.', delimiter=',')"
   ],
   "metadata": {
    "collapsed": false,
    "ExecuteTime": {
     "end_time": "2024-03-12T15:34:10.636665Z",
     "start_time": "2024-03-12T15:34:10.619775Z"
    }
   },
   "id": "753e977b821642fe",
   "execution_count": 38
  },
  {
   "cell_type": "code",
   "outputs": [],
   "source": [
    "# get all the position data\n",
    "y_lis_a = pd.read_csv('../data-7cam-wide/data-lis/positions_xyz_2024-03-12_15h00m.csv', decimal='.', delimiter=',').iloc[4:]\n",
    "y_lis_b = pd.read_csv('../data-7cam-wide/data-lis/positions_xyz_2024-03-12_15h14m.csv', decimal='.', delimiter=',').iloc[4:]\n",
    "y_lis_c = pd.read_csv('../data-7cam-wide/data-lis/positions_xyz_2024-03-12_15h15m.csv', decimal='.', delimiter=',').iloc[4:]\n",
    "y_spiral_a = pd.read_csv('../data-7cam-wide/data-spiral/positions_xyz_2024-03-12_15h21m.csv', decimal='.', delimiter=',').iloc[4:]\n",
    "y_spiro_a = pd.read_csv('../data-7cam-wide/data-sprio/positions_xyz_2024-03-12_15h03m.csv', decimal='.', delimiter=',').iloc[4:]\n",
    "y_spiro_b = pd.read_csv('../data-7cam-wide/data-sprio/positions_xyz_2024-03-12_15h11m.csv', decimal='.', delimiter=',').iloc[4:]\n",
    "y_spiro_c = pd.read_csv('../data-7cam-wide/data-sprio/positions_xyz_2024-03-12_15h12m.csv', decimal='.', delimiter=',').iloc[4:]\n"
   ],
   "metadata": {
    "collapsed": false,
    "ExecuteTime": {
     "end_time": "2024-03-12T15:34:10.652439Z",
     "start_time": "2024-03-12T15:34:10.637722Z"
    }
   },
   "id": "31776f1ee087f190",
   "execution_count": 39
  },
  {
   "cell_type": "markdown",
   "source": [
    "#### 2.1 Check for Missing Values in spriral_down_b and spiral_down_c"
   ],
   "metadata": {
    "collapsed": false
   },
   "id": "b323937c1957773b"
  },
  {
   "cell_type": "code",
   "outputs": [
    {
     "name": "stdout",
     "output_type": "stream",
     "text": [
      "The amount of NaN values in lis_a: 1204\n",
      "The amount of NaN values in lis_b: 2068\n",
      "The amount of NaN values in lis_c: 0\n",
      "The amount of NaN values in spiral_a: 614\n",
      "The amount of NaN values in spiro_a: 1170\n",
      "The amount of NaN values in spiro_b: 1720\n",
      "The amount of NaN values in spiro_c: 534\n"
     ]
    }
   ],
   "source": [
    "print(f'The amount of NaN values in lis_a: {X_lis_a.isna().sum().sum()}')\n",
    "print(f'The amount of NaN values in lis_b: {X_lis_b.isna().sum().sum()}')\n",
    "print(f'The amount of NaN values in lis_c: {X_lis_c.isna().sum().sum()}')\n",
    "print(f'The amount of NaN values in spiral_a: {X_spiral_a.isna().sum().sum()}')\n",
    "print(f'The amount of NaN values in spiro_a: {X_spiro_a.isna().sum().sum()}')\n",
    "print(f'The amount of NaN values in spiro_b: {X_spiro_b.isna().sum().sum()}')\n",
    "print(f'The amount of NaN values in spiro_c: {X_spiro_c.isna().sum().sum()}')"
   ],
   "metadata": {
    "collapsed": false,
    "ExecuteTime": {
     "end_time": "2024-03-12T15:34:10.668618Z",
     "start_time": "2024-03-12T15:34:10.653480Z"
    }
   },
   "id": "887816b8791983bb",
   "execution_count": 40
  },
  {
   "cell_type": "markdown",
   "source": [
    "#### 2.2 Remove Missing Values\n",
    "The frame has to many missing values, so I will remove it. On all the other frames i used interpolation to fill in the missing values. In the spirogrpah_a dataset the interpolation gave very bad results, so I removed the rows with any NaN value."
   ],
   "metadata": {
    "collapsed": false
   },
   "id": "5a0ae2512baec085"
  },
  {
   "cell_type": "code",
   "outputs": [
    {
     "data": {
      "text/plain": "((1012, 14), (1012, 3))"
     },
     "execution_count": 41,
     "metadata": {},
     "output_type": "execute_result"
    }
   ],
   "source": [
    "X_spiro_a.shape, y_spiro_a.shape"
   ],
   "metadata": {
    "collapsed": false,
    "ExecuteTime": {
     "end_time": "2024-03-12T15:34:10.683883Z",
     "start_time": "2024-03-12T15:34:10.669686Z"
    }
   },
   "id": "f80291922e4472f2",
   "execution_count": 41
  },
  {
   "cell_type": "code",
   "outputs": [
    {
     "data": {
      "text/plain": "((778, 14), (778, 3))"
     },
     "execution_count": 42,
     "metadata": {},
     "output_type": "execute_result"
    }
   ],
   "source": [
    "combined_spiro_a = pd.concat([X_spiro_a, y_spiro_a], axis=1)\n",
    "combined_spiro_a = combined_spiro_a.dropna()\n",
    "combined_spiro_a.reset_index(drop=True, inplace=True)\n",
    "X_spiro_a = combined_spiro_a.iloc[:, :14]\n",
    "y_spiro_a = combined_spiro_a.iloc[:, 14:]\n",
    "X_spiro_a.shape, y_spiro_a.shape"
   ],
   "metadata": {
    "collapsed": false,
    "ExecuteTime": {
     "end_time": "2024-03-12T15:34:10.699951Z",
     "start_time": "2024-03-12T15:34:10.684922Z"
    }
   },
   "id": "85c5bd44d289a11a",
   "execution_count": 42
  },
  {
   "cell_type": "markdown",
   "source": [
    "### 2.3 Combine all the datasets"
   ],
   "metadata": {
    "collapsed": false
   },
   "id": "4b75b022b8186f46"
  },
  {
   "cell_type": "code",
   "outputs": [],
   "source": [
    "X_train = pd.concat([X_lis_a, X_lis_b, X_lis_c, X_spiral_a, X_spiro_a, X_spiro_b, X_spiro_c])\n",
    "y_train = pd.concat([y_lis_a, y_lis_b, y_lis_c, y_spiral_a, y_spiro_a, y_spiro_b, y_spiro_c])\n",
    "X_train = X_train.reset_index(drop=True)\n",
    "y_train = y_train.reset_index(drop=True)"
   ],
   "metadata": {
    "collapsed": false,
    "ExecuteTime": {
     "end_time": "2024-03-12T15:34:10.715783Z",
     "start_time": "2024-03-12T15:34:10.700951Z"
    }
   },
   "id": "45402e756b5d92da",
   "execution_count": 43
  },
  {
   "cell_type": "code",
   "outputs": [
    {
     "data": {
      "text/plain": "((6847, 14), (6337, 3))"
     },
     "execution_count": 44,
     "metadata": {},
     "output_type": "execute_result"
    }
   ],
   "source": [
    "X_train.shape, y_train.shape"
   ],
   "metadata": {
    "collapsed": false,
    "ExecuteTime": {
     "end_time": "2024-03-12T15:34:10.731437Z",
     "start_time": "2024-03-12T15:34:10.716866Z"
    }
   },
   "id": "ed7a120a3e7c90c1",
   "execution_count": 44
  },
  {
   "cell_type": "code",
   "outputs": [],
   "source": [
    "combined = pd.concat([X_train, y_train], axis=1)"
   ],
   "metadata": {
    "collapsed": false,
    "ExecuteTime": {
     "end_time": "2024-03-12T15:34:10.747436Z",
     "start_time": "2024-03-12T15:34:10.732437Z"
    }
   },
   "id": "77964f394f147651",
   "execution_count": 45
  },
  {
   "cell_type": "markdown",
   "source": [
    "## 3. Data Preprocessing"
   ],
   "metadata": {
    "collapsed": false
   },
   "id": "bc7a378fbd128144"
  },
  {
   "cell_type": "code",
   "outputs": [
    {
     "name": "stdout",
     "output_type": "stream",
     "text": [
      "The data has missing values: 7670\n",
      "The data has missing values: 0\n"
     ]
    }
   ],
   "source": [
    "# check for missing values\n",
    "print(f'The data has missing values: {combined.isnull().sum().sum()}')\n",
    "combined.dropna(inplace=True)\n",
    "print(f'The data has missing values: {combined.isnull().sum().sum()}')"
   ],
   "metadata": {
    "collapsed": false,
    "ExecuteTime": {
     "end_time": "2024-03-12T15:34:10.762863Z",
     "start_time": "2024-03-12T15:34:10.748435Z"
    }
   },
   "id": "29060cc2a3e655dc",
   "execution_count": 46
  },
  {
   "cell_type": "code",
   "outputs": [],
   "source": [
    "X = combined.iloc[:, :14]\n",
    "y = combined.iloc[:, 14:]"
   ],
   "metadata": {
    "collapsed": false,
    "ExecuteTime": {
     "end_time": "2024-03-12T15:34:10.778497Z",
     "start_time": "2024-03-12T15:34:10.763864Z"
    }
   },
   "id": "2c20e7b504dcfd9c",
   "execution_count": 47
  },
  {
   "cell_type": "code",
   "outputs": [],
   "source": [
    "# scale the data\n",
    "scaler_x = MinMaxScaler()\n",
    "scaler_y = MinMaxScaler()\n",
    "X_scaled = scaler_x.fit_transform(X)\n",
    "y_scaled = scaler_y.fit_transform(y)"
   ],
   "metadata": {
    "collapsed": false,
    "ExecuteTime": {
     "end_time": "2024-03-12T15:34:10.794482Z",
     "start_time": "2024-03-12T15:34:10.779498Z"
    }
   },
   "id": "898d1aebee1ee4a2",
   "execution_count": 48
  },
  {
   "cell_type": "markdown",
   "source": [
    "## 4. Hyperparameter Tuning"
   ],
   "metadata": {
    "collapsed": false
   },
   "id": "fad416068809969b"
  },
  {
   "cell_type": "code",
   "outputs": [],
   "source": [
    "# create a pipeline\n",
    "pipeline = Pipeline([\n",
    "    ('mlp', MLPRegressor(random_state=42))\n",
    "])"
   ],
   "metadata": {
    "collapsed": false,
    "ExecuteTime": {
     "end_time": "2024-03-12T15:34:10.809827Z",
     "start_time": "2024-03-12T15:34:10.795533Z"
    }
   },
   "id": "202ed5653fa8a79b",
   "execution_count": 49
  },
  {
   "cell_type": "code",
   "outputs": [
    {
     "name": "stdout",
     "output_type": "stream",
     "text": [
      "Fitting 5 folds for each of 100 candidates, totalling 500 fits\n"
     ]
    },
    {
     "name": "stderr",
     "output_type": "stream",
     "text": [
      "C:\\Users\\xande\\venv\\lib\\site-packages\\sklearn\\model_selection\\_validation.py:425: FitFailedWarning: \n",
      "69 fits failed out of a total of 500.\n",
      "The score on these train-test partitions for these parameters will be set to nan.\n",
      "If these failures are not expected, you can try to debug them by setting error_score='raise'.\n",
      "\n",
      "Below are more details about the failures:\n",
      "--------------------------------------------------------------------------------\n",
      "69 fits failed with the following error:\n",
      "Traceback (most recent call last):\n",
      "  File \"C:\\Users\\xande\\venv\\lib\\site-packages\\sklearn\\model_selection\\_validation.py\", line 729, in _fit_and_score\n",
      "    estimator.fit(X_train, y_train, **fit_params)\n",
      "  File \"C:\\Users\\xande\\venv\\lib\\site-packages\\sklearn\\base.py\", line 1152, in wrapper\n",
      "    return fit_method(estimator, *args, **kwargs)\n",
      "  File \"C:\\Users\\xande\\venv\\lib\\site-packages\\sklearn\\pipeline.py\", line 427, in fit\n",
      "    self._final_estimator.fit(Xt, y, **fit_params_last_step)\n",
      "  File \"C:\\Users\\xande\\venv\\lib\\site-packages\\sklearn\\base.py\", line 1152, in wrapper\n",
      "    return fit_method(estimator, *args, **kwargs)\n",
      "  File \"C:\\Users\\xande\\venv\\lib\\site-packages\\sklearn\\neural_network\\_multilayer_perceptron.py\", line 753, in fit\n",
      "    return self._fit(X, y, incremental=False)\n",
      "  File \"C:\\Users\\xande\\venv\\lib\\site-packages\\sklearn\\neural_network\\_multilayer_perceptron.py\", line 476, in _fit\n",
      "    self._fit_stochastic(\n",
      "  File \"C:\\Users\\xande\\venv\\lib\\site-packages\\sklearn\\neural_network\\_multilayer_perceptron.py\", line 660, in _fit_stochastic\n",
      "    self._update_no_improvement_count(early_stopping, X_val, y_val)\n",
      "  File \"C:\\Users\\xande\\venv\\lib\\site-packages\\sklearn\\neural_network\\_multilayer_perceptron.py\", line 709, in _update_no_improvement_count\n",
      "    self.validation_scores_.append(self._score(X_val, y_val))\n",
      "  File \"C:\\Users\\xande\\venv\\lib\\site-packages\\sklearn\\neural_network\\_multilayer_perceptron.py\", line 1612, in _score\n",
      "    return r2_score(y, y_pred)\n",
      "  File \"C:\\Users\\xande\\venv\\lib\\site-packages\\sklearn\\utils\\_param_validation.py\", line 187, in wrapper\n",
      "    return func(*args, **kwargs)\n",
      "  File \"C:\\Users\\xande\\venv\\lib\\site-packages\\sklearn\\metrics\\_regression.py\", line 989, in r2_score\n",
      "    y_type, y_true, y_pred, multioutput = _check_reg_targets(\n",
      "  File \"C:\\Users\\xande\\venv\\lib\\site-packages\\sklearn\\metrics\\_regression.py\", line 101, in _check_reg_targets\n",
      "    y_pred = check_array(y_pred, ensure_2d=False, dtype=dtype)\n",
      "  File \"C:\\Users\\xande\\venv\\lib\\site-packages\\sklearn\\utils\\validation.py\", line 957, in check_array\n",
      "    _assert_all_finite(\n",
      "  File \"C:\\Users\\xande\\venv\\lib\\site-packages\\sklearn\\utils\\validation.py\", line 122, in _assert_all_finite\n",
      "    _assert_all_finite_element_wise(\n",
      "  File \"C:\\Users\\xande\\venv\\lib\\site-packages\\sklearn\\utils\\validation.py\", line 171, in _assert_all_finite_element_wise\n",
      "    raise ValueError(msg_err)\n",
      "ValueError: Input contains NaN.\n",
      "\n",
      "  warnings.warn(some_fits_failed_message, FitFailedWarning)\n",
      "C:\\Users\\xande\\venv\\lib\\site-packages\\sklearn\\model_selection\\_search.py:979: UserWarning: One or more of the test scores are non-finite: [ 0.35402895         nan  0.38368183 -0.11084632         nan  0.27474807\n",
      "  0.31284408  0.33753885  0.28653067  0.36541788         nan  0.37059614\n",
      "  0.37876165  0.38648084  0.39281939  0.3013479   0.25930312         nan\n",
      "  0.37021108  0.31378213         nan  0.31378213  0.33863463  0.31494121\n",
      "  0.34163582  0.26122095  0.38580704  0.26146271  0.32092911  0.26226415\n",
      "  0.24768862  0.35402895  0.37172534  0.31284408         nan  0.37269973\n",
      "  0.32922609  0.3829963   0.38046825  0.37414496  0.36662586  0.32056042\n",
      "  0.28402703  0.38368183  0.32962777  0.37869946  0.3761515   0.29699178\n",
      "  0.34163582  0.37766131  0.37951868         nan         nan         nan\n",
      "  0.26727174  0.35156041 -0.1026988   0.32028231  0.36959069         nan\n",
      " -0.11084632  0.31619247         nan  0.25270618  0.35156041  0.34947134\n",
      "  0.35691942  0.25328356  0.25270618  0.31506019  0.38181042  0.37123758\n",
      "  0.28846751  0.37876165  0.36175211  0.33172016 -0.11797855  0.36059494\n",
      "  0.37269973         nan -0.11797855         nan  0.38368183  0.29447558\n",
      "  0.2910091   0.36880341  0.01791823  0.33172016  0.23314075  0.3300157\n",
      "  0.32081407  0.28843906  0.25328356  0.3627204   0.36283732         nan\n",
      "  0.33172016  0.39281939  0.01791823  0.3494947 ]\n",
      "  warnings.warn(\n"
     ]
    },
    {
     "data": {
      "text/plain": "RandomizedSearchCV(cv=5,\n                   estimator=Pipeline(steps=[('mlp',\n                                              MLPRegressor(random_state=42))]),\n                   n_iter=100, n_jobs=-1,\n                   param_distributions={'mlp__activation': ['identity', 'tanh',\n                                                            'relu'],\n                                        'mlp__alpha': [0.001, 0.01, 0.1],\n                                        'mlp__early_stopping': [True],\n                                        'mlp__hidden_layer_sizes': [(50, 50,\n                                                                     50),\n                                                                    (50, 100,\n                                                                     50),\n                                                                    (100,)],\n                                        'mlp__learning_rate': ['constant',\n                                                               'adaptive'],\n                                        'mlp__learning_rate_init': [0.001, 0.01,\n                                                                    0.1],\n                                        'mlp__max_iter': [10000, 20000, 28000],\n                                        'mlp__solver': ['sgd', 'adam']},\n                   random_state=42, verbose=3)",
      "text/html": "<style>#sk-container-id-3 {color: black;}#sk-container-id-3 pre{padding: 0;}#sk-container-id-3 div.sk-toggleable {background-color: white;}#sk-container-id-3 label.sk-toggleable__label {cursor: pointer;display: block;width: 100%;margin-bottom: 0;padding: 0.3em;box-sizing: border-box;text-align: center;}#sk-container-id-3 label.sk-toggleable__label-arrow:before {content: \"▸\";float: left;margin-right: 0.25em;color: #696969;}#sk-container-id-3 label.sk-toggleable__label-arrow:hover:before {color: black;}#sk-container-id-3 div.sk-estimator:hover label.sk-toggleable__label-arrow:before {color: black;}#sk-container-id-3 div.sk-toggleable__content {max-height: 0;max-width: 0;overflow: hidden;text-align: left;background-color: #f0f8ff;}#sk-container-id-3 div.sk-toggleable__content pre {margin: 0.2em;color: black;border-radius: 0.25em;background-color: #f0f8ff;}#sk-container-id-3 input.sk-toggleable__control:checked~div.sk-toggleable__content {max-height: 200px;max-width: 100%;overflow: auto;}#sk-container-id-3 input.sk-toggleable__control:checked~label.sk-toggleable__label-arrow:before {content: \"▾\";}#sk-container-id-3 div.sk-estimator input.sk-toggleable__control:checked~label.sk-toggleable__label {background-color: #d4ebff;}#sk-container-id-3 div.sk-label input.sk-toggleable__control:checked~label.sk-toggleable__label {background-color: #d4ebff;}#sk-container-id-3 input.sk-hidden--visually {border: 0;clip: rect(1px 1px 1px 1px);clip: rect(1px, 1px, 1px, 1px);height: 1px;margin: -1px;overflow: hidden;padding: 0;position: absolute;width: 1px;}#sk-container-id-3 div.sk-estimator {font-family: monospace;background-color: #f0f8ff;border: 1px dotted black;border-radius: 0.25em;box-sizing: border-box;margin-bottom: 0.5em;}#sk-container-id-3 div.sk-estimator:hover {background-color: #d4ebff;}#sk-container-id-3 div.sk-parallel-item::after {content: \"\";width: 100%;border-bottom: 1px solid gray;flex-grow: 1;}#sk-container-id-3 div.sk-label:hover label.sk-toggleable__label {background-color: #d4ebff;}#sk-container-id-3 div.sk-serial::before {content: \"\";position: absolute;border-left: 1px solid gray;box-sizing: border-box;top: 0;bottom: 0;left: 50%;z-index: 0;}#sk-container-id-3 div.sk-serial {display: flex;flex-direction: column;align-items: center;background-color: white;padding-right: 0.2em;padding-left: 0.2em;position: relative;}#sk-container-id-3 div.sk-item {position: relative;z-index: 1;}#sk-container-id-3 div.sk-parallel {display: flex;align-items: stretch;justify-content: center;background-color: white;position: relative;}#sk-container-id-3 div.sk-item::before, #sk-container-id-3 div.sk-parallel-item::before {content: \"\";position: absolute;border-left: 1px solid gray;box-sizing: border-box;top: 0;bottom: 0;left: 50%;z-index: -1;}#sk-container-id-3 div.sk-parallel-item {display: flex;flex-direction: column;z-index: 1;position: relative;background-color: white;}#sk-container-id-3 div.sk-parallel-item:first-child::after {align-self: flex-end;width: 50%;}#sk-container-id-3 div.sk-parallel-item:last-child::after {align-self: flex-start;width: 50%;}#sk-container-id-3 div.sk-parallel-item:only-child::after {width: 0;}#sk-container-id-3 div.sk-dashed-wrapped {border: 1px dashed gray;margin: 0 0.4em 0.5em 0.4em;box-sizing: border-box;padding-bottom: 0.4em;background-color: white;}#sk-container-id-3 div.sk-label label {font-family: monospace;font-weight: bold;display: inline-block;line-height: 1.2em;}#sk-container-id-3 div.sk-label-container {text-align: center;}#sk-container-id-3 div.sk-container {/* jupyter's `normalize.less` sets `[hidden] { display: none; }` but bootstrap.min.css set `[hidden] { display: none !important; }` so we also need the `!important` here to be able to override the default hidden behavior on the sphinx rendered scikit-learn.org. See: https://github.com/scikit-learn/scikit-learn/issues/21755 */display: inline-block !important;position: relative;}#sk-container-id-3 div.sk-text-repr-fallback {display: none;}</style><div id=\"sk-container-id-3\" class=\"sk-top-container\"><div class=\"sk-text-repr-fallback\"><pre>RandomizedSearchCV(cv=5,\n                   estimator=Pipeline(steps=[(&#x27;mlp&#x27;,\n                                              MLPRegressor(random_state=42))]),\n                   n_iter=100, n_jobs=-1,\n                   param_distributions={&#x27;mlp__activation&#x27;: [&#x27;identity&#x27;, &#x27;tanh&#x27;,\n                                                            &#x27;relu&#x27;],\n                                        &#x27;mlp__alpha&#x27;: [0.001, 0.01, 0.1],\n                                        &#x27;mlp__early_stopping&#x27;: [True],\n                                        &#x27;mlp__hidden_layer_sizes&#x27;: [(50, 50,\n                                                                     50),\n                                                                    (50, 100,\n                                                                     50),\n                                                                    (100,)],\n                                        &#x27;mlp__learning_rate&#x27;: [&#x27;constant&#x27;,\n                                                               &#x27;adaptive&#x27;],\n                                        &#x27;mlp__learning_rate_init&#x27;: [0.001, 0.01,\n                                                                    0.1],\n                                        &#x27;mlp__max_iter&#x27;: [10000, 20000, 28000],\n                                        &#x27;mlp__solver&#x27;: [&#x27;sgd&#x27;, &#x27;adam&#x27;]},\n                   random_state=42, verbose=3)</pre><b>In a Jupyter environment, please rerun this cell to show the HTML representation or trust the notebook. <br />On GitHub, the HTML representation is unable to render, please try loading this page with nbviewer.org.</b></div><div class=\"sk-container\" hidden><div class=\"sk-item sk-dashed-wrapped\"><div class=\"sk-label-container\"><div class=\"sk-label sk-toggleable\"><input class=\"sk-toggleable__control sk-hidden--visually\" id=\"sk-estimator-id-6\" type=\"checkbox\" ><label for=\"sk-estimator-id-6\" class=\"sk-toggleable__label sk-toggleable__label-arrow\">RandomizedSearchCV</label><div class=\"sk-toggleable__content\"><pre>RandomizedSearchCV(cv=5,\n                   estimator=Pipeline(steps=[(&#x27;mlp&#x27;,\n                                              MLPRegressor(random_state=42))]),\n                   n_iter=100, n_jobs=-1,\n                   param_distributions={&#x27;mlp__activation&#x27;: [&#x27;identity&#x27;, &#x27;tanh&#x27;,\n                                                            &#x27;relu&#x27;],\n                                        &#x27;mlp__alpha&#x27;: [0.001, 0.01, 0.1],\n                                        &#x27;mlp__early_stopping&#x27;: [True],\n                                        &#x27;mlp__hidden_layer_sizes&#x27;: [(50, 50,\n                                                                     50),\n                                                                    (50, 100,\n                                                                     50),\n                                                                    (100,)],\n                                        &#x27;mlp__learning_rate&#x27;: [&#x27;constant&#x27;,\n                                                               &#x27;adaptive&#x27;],\n                                        &#x27;mlp__learning_rate_init&#x27;: [0.001, 0.01,\n                                                                    0.1],\n                                        &#x27;mlp__max_iter&#x27;: [10000, 20000, 28000],\n                                        &#x27;mlp__solver&#x27;: [&#x27;sgd&#x27;, &#x27;adam&#x27;]},\n                   random_state=42, verbose=3)</pre></div></div></div><div class=\"sk-parallel\"><div class=\"sk-parallel-item\"><div class=\"sk-item\"><div class=\"sk-label-container\"><div class=\"sk-label sk-toggleable\"><input class=\"sk-toggleable__control sk-hidden--visually\" id=\"sk-estimator-id-7\" type=\"checkbox\" ><label for=\"sk-estimator-id-7\" class=\"sk-toggleable__label sk-toggleable__label-arrow\">estimator: Pipeline</label><div class=\"sk-toggleable__content\"><pre>Pipeline(steps=[(&#x27;mlp&#x27;, MLPRegressor(random_state=42))])</pre></div></div></div><div class=\"sk-serial\"><div class=\"sk-item\"><div class=\"sk-serial\"><div class=\"sk-item\"><div class=\"sk-estimator sk-toggleable\"><input class=\"sk-toggleable__control sk-hidden--visually\" id=\"sk-estimator-id-8\" type=\"checkbox\" ><label for=\"sk-estimator-id-8\" class=\"sk-toggleable__label sk-toggleable__label-arrow\">MLPRegressor</label><div class=\"sk-toggleable__content\"><pre>MLPRegressor(random_state=42)</pre></div></div></div></div></div></div></div></div></div></div></div></div>"
     },
     "execution_count": 50,
     "metadata": {},
     "output_type": "execute_result"
    }
   ],
   "source": [
    "param_grid = {\n",
    "    'mlp__hidden_layer_sizes': [(50, 50, 50), (50, 100, 50), (100,)],\n",
    "    'mlp__activation': ['identity', 'tanh', 'relu'],\n",
    "    'mlp__solver': ['sgd', 'adam'],\n",
    "    'mlp__alpha': [0.001, 0.01, 0.1],\n",
    "    'mlp__max_iter': [10000, 20000, 28000],\n",
    "    'mlp__learning_rate': ['constant', 'adaptive'],\n",
    "    'mlp__learning_rate_init': [0.001, 0.01, 0.1],\n",
    "    'mlp__early_stopping': [True],\n",
    "}\n",
    "\n",
    "random_search = RandomizedSearchCV(pipeline, param_distributions=param_grid, cv=5, n_iter=100, n_jobs=-1, verbose=3, random_state=42)\n",
    "\n",
    "random_search.fit(X_scaled, y_scaled)"
   ],
   "metadata": {
    "collapsed": false,
    "ExecuteTime": {
     "end_time": "2024-03-12T15:47:15.874338Z",
     "start_time": "2024-03-12T15:34:10.810829Z"
    }
   },
   "id": "5c232eee49f1ced3",
   "execution_count": 50
  },
  {
   "cell_type": "code",
   "outputs": [
    {
     "name": "stdout",
     "output_type": "stream",
     "text": [
      "Best parameters: {'mlp__solver': 'sgd', 'mlp__max_iter': 10000, 'mlp__learning_rate_init': 0.1, 'mlp__learning_rate': 'adaptive', 'mlp__hidden_layer_sizes': (50, 100, 50), 'mlp__early_stopping': True, 'mlp__alpha': 0.001, 'mlp__activation': 'relu'}\n",
      "Best score: 0.392819388060148\n"
     ]
    }
   ],
   "source": [
    "print(f'Best parameters: {random_search.best_params_}')\n",
    "print(f'Best score: {random_search.best_score_}')"
   ],
   "metadata": {
    "collapsed": false,
    "ExecuteTime": {
     "end_time": "2024-03-12T15:47:15.889999Z",
     "start_time": "2024-03-12T15:47:15.881083Z"
    }
   },
   "id": "6cc24cd43c214947",
   "execution_count": 51
  },
  {
   "cell_type": "code",
   "outputs": [],
   "source": [
    "model = random_search.best_estimator_"
   ],
   "metadata": {
    "collapsed": false,
    "ExecuteTime": {
     "end_time": "2024-03-12T15:47:15.905665Z",
     "start_time": "2024-03-12T15:47:15.894100Z"
    }
   },
   "id": "e52d4e8a3d14bec4",
   "execution_count": 52
  },
  {
   "cell_type": "markdown",
   "source": [
    "## 5. Training the Model"
   ],
   "metadata": {
    "collapsed": false
   },
   "id": "63a44525cdb065d0"
  },
  {
   "cell_type": "code",
   "outputs": [
    {
     "data": {
      "text/plain": "Pipeline(steps=[('mlp',\n                 MLPRegressor(alpha=0.001, early_stopping=True,\n                              hidden_layer_sizes=(50, 100, 50),\n                              learning_rate='adaptive', learning_rate_init=0.1,\n                              max_iter=10000, random_state=42, solver='sgd'))])",
      "text/html": "<style>#sk-container-id-4 {color: black;}#sk-container-id-4 pre{padding: 0;}#sk-container-id-4 div.sk-toggleable {background-color: white;}#sk-container-id-4 label.sk-toggleable__label {cursor: pointer;display: block;width: 100%;margin-bottom: 0;padding: 0.3em;box-sizing: border-box;text-align: center;}#sk-container-id-4 label.sk-toggleable__label-arrow:before {content: \"▸\";float: left;margin-right: 0.25em;color: #696969;}#sk-container-id-4 label.sk-toggleable__label-arrow:hover:before {color: black;}#sk-container-id-4 div.sk-estimator:hover label.sk-toggleable__label-arrow:before {color: black;}#sk-container-id-4 div.sk-toggleable__content {max-height: 0;max-width: 0;overflow: hidden;text-align: left;background-color: #f0f8ff;}#sk-container-id-4 div.sk-toggleable__content pre {margin: 0.2em;color: black;border-radius: 0.25em;background-color: #f0f8ff;}#sk-container-id-4 input.sk-toggleable__control:checked~div.sk-toggleable__content {max-height: 200px;max-width: 100%;overflow: auto;}#sk-container-id-4 input.sk-toggleable__control:checked~label.sk-toggleable__label-arrow:before {content: \"▾\";}#sk-container-id-4 div.sk-estimator input.sk-toggleable__control:checked~label.sk-toggleable__label {background-color: #d4ebff;}#sk-container-id-4 div.sk-label input.sk-toggleable__control:checked~label.sk-toggleable__label {background-color: #d4ebff;}#sk-container-id-4 input.sk-hidden--visually {border: 0;clip: rect(1px 1px 1px 1px);clip: rect(1px, 1px, 1px, 1px);height: 1px;margin: -1px;overflow: hidden;padding: 0;position: absolute;width: 1px;}#sk-container-id-4 div.sk-estimator {font-family: monospace;background-color: #f0f8ff;border: 1px dotted black;border-radius: 0.25em;box-sizing: border-box;margin-bottom: 0.5em;}#sk-container-id-4 div.sk-estimator:hover {background-color: #d4ebff;}#sk-container-id-4 div.sk-parallel-item::after {content: \"\";width: 100%;border-bottom: 1px solid gray;flex-grow: 1;}#sk-container-id-4 div.sk-label:hover label.sk-toggleable__label {background-color: #d4ebff;}#sk-container-id-4 div.sk-serial::before {content: \"\";position: absolute;border-left: 1px solid gray;box-sizing: border-box;top: 0;bottom: 0;left: 50%;z-index: 0;}#sk-container-id-4 div.sk-serial {display: flex;flex-direction: column;align-items: center;background-color: white;padding-right: 0.2em;padding-left: 0.2em;position: relative;}#sk-container-id-4 div.sk-item {position: relative;z-index: 1;}#sk-container-id-4 div.sk-parallel {display: flex;align-items: stretch;justify-content: center;background-color: white;position: relative;}#sk-container-id-4 div.sk-item::before, #sk-container-id-4 div.sk-parallel-item::before {content: \"\";position: absolute;border-left: 1px solid gray;box-sizing: border-box;top: 0;bottom: 0;left: 50%;z-index: -1;}#sk-container-id-4 div.sk-parallel-item {display: flex;flex-direction: column;z-index: 1;position: relative;background-color: white;}#sk-container-id-4 div.sk-parallel-item:first-child::after {align-self: flex-end;width: 50%;}#sk-container-id-4 div.sk-parallel-item:last-child::after {align-self: flex-start;width: 50%;}#sk-container-id-4 div.sk-parallel-item:only-child::after {width: 0;}#sk-container-id-4 div.sk-dashed-wrapped {border: 1px dashed gray;margin: 0 0.4em 0.5em 0.4em;box-sizing: border-box;padding-bottom: 0.4em;background-color: white;}#sk-container-id-4 div.sk-label label {font-family: monospace;font-weight: bold;display: inline-block;line-height: 1.2em;}#sk-container-id-4 div.sk-label-container {text-align: center;}#sk-container-id-4 div.sk-container {/* jupyter's `normalize.less` sets `[hidden] { display: none; }` but bootstrap.min.css set `[hidden] { display: none !important; }` so we also need the `!important` here to be able to override the default hidden behavior on the sphinx rendered scikit-learn.org. See: https://github.com/scikit-learn/scikit-learn/issues/21755 */display: inline-block !important;position: relative;}#sk-container-id-4 div.sk-text-repr-fallback {display: none;}</style><div id=\"sk-container-id-4\" class=\"sk-top-container\"><div class=\"sk-text-repr-fallback\"><pre>Pipeline(steps=[(&#x27;mlp&#x27;,\n                 MLPRegressor(alpha=0.001, early_stopping=True,\n                              hidden_layer_sizes=(50, 100, 50),\n                              learning_rate=&#x27;adaptive&#x27;, learning_rate_init=0.1,\n                              max_iter=10000, random_state=42, solver=&#x27;sgd&#x27;))])</pre><b>In a Jupyter environment, please rerun this cell to show the HTML representation or trust the notebook. <br />On GitHub, the HTML representation is unable to render, please try loading this page with nbviewer.org.</b></div><div class=\"sk-container\" hidden><div class=\"sk-item sk-dashed-wrapped\"><div class=\"sk-label-container\"><div class=\"sk-label sk-toggleable\"><input class=\"sk-toggleable__control sk-hidden--visually\" id=\"sk-estimator-id-9\" type=\"checkbox\" ><label for=\"sk-estimator-id-9\" class=\"sk-toggleable__label sk-toggleable__label-arrow\">Pipeline</label><div class=\"sk-toggleable__content\"><pre>Pipeline(steps=[(&#x27;mlp&#x27;,\n                 MLPRegressor(alpha=0.001, early_stopping=True,\n                              hidden_layer_sizes=(50, 100, 50),\n                              learning_rate=&#x27;adaptive&#x27;, learning_rate_init=0.1,\n                              max_iter=10000, random_state=42, solver=&#x27;sgd&#x27;))])</pre></div></div></div><div class=\"sk-serial\"><div class=\"sk-item\"><div class=\"sk-estimator sk-toggleable\"><input class=\"sk-toggleable__control sk-hidden--visually\" id=\"sk-estimator-id-10\" type=\"checkbox\" ><label for=\"sk-estimator-id-10\" class=\"sk-toggleable__label sk-toggleable__label-arrow\">MLPRegressor</label><div class=\"sk-toggleable__content\"><pre>MLPRegressor(alpha=0.001, early_stopping=True, hidden_layer_sizes=(50, 100, 50),\n             learning_rate=&#x27;adaptive&#x27;, learning_rate_init=0.1, max_iter=10000,\n             random_state=42, solver=&#x27;sgd&#x27;)</pre></div></div></div></div></div></div></div>"
     },
     "execution_count": 53,
     "metadata": {},
     "output_type": "execute_result"
    }
   ],
   "source": [
    "model.fit(X_scaled, y_scaled)"
   ],
   "metadata": {
    "collapsed": false,
    "ExecuteTime": {
     "end_time": "2024-03-12T15:47:53.243709Z",
     "start_time": "2024-03-12T15:47:15.909643Z"
    }
   },
   "id": "7b6d9c96f863c23d",
   "execution_count": 53
  },
  {
   "cell_type": "markdown",
   "source": [
    "## 6. Make Predictions On Test Data"
   ],
   "metadata": {
    "collapsed": false
   },
   "id": "ae68f2dd8bbd3320"
  },
  {
   "cell_type": "code",
   "outputs": [],
   "source": [
    "import pandas as pd"
   ],
   "metadata": {
    "collapsed": false,
    "ExecuteTime": {
     "end_time": "2024-03-12T15:47:53.259359Z",
     "start_time": "2024-03-12T15:47:53.246709Z"
    }
   },
   "id": "19be1e6e990902fb",
   "execution_count": 54
  },
  {
   "cell_type": "code",
   "outputs": [],
   "source": [
    "# get all test data\n",
    "X_test_spiral_a = pd.read_csv('../data-7cam-wide/data-spiral/red_ball_coordinates_128px_2024-03-12_15h25m.csv', decimal='.', delimiter=',')\n",
    "y_test_spiral_a = pd.read_csv('../data-7cam-wide/data-spiral/positions_xyz_2024-03-12_15h25m.csv', decimal='.', delimiter=',').iloc[4:]"
   ],
   "metadata": {
    "collapsed": false,
    "ExecuteTime": {
     "end_time": "2024-03-12T16:14:15.148792Z",
     "start_time": "2024-03-12T16:14:15.130212Z"
    }
   },
   "id": "b7374798627d060a",
   "execution_count": 61
  },
  {
   "cell_type": "code",
   "outputs": [],
   "source": [
    "def prepare_and_scale_test_data(X_test_val, y_test_val, scaler_x_test):\n",
    "    y_test_val = y_test_val.iloc[4:]\n",
    "    combined_test = pd.concat([X_test_val, y_test_val], axis=1)\n",
    "    combined_test.dropna(inplace=True)\n",
    "    X_val = combined_test.iloc[:, :14]\n",
    "    y_val = combined_test.iloc[:, 14:]\n",
    "    X_scaled_test = scaler_x_test.transform(X_val)\n",
    "    return X_scaled_test, y_val"
   ],
   "metadata": {
    "collapsed": false,
    "ExecuteTime": {
     "end_time": "2024-03-12T15:47:53.306230Z",
     "start_time": "2024-03-12T15:47:53.292664Z"
    }
   },
   "id": "32e775e1370c5290",
   "execution_count": 56
  },
  {
   "cell_type": "code",
   "outputs": [],
   "source": [
    "def predict_evaluate_plot(X_test_val_scaled, y_test_val, nn_model, scaler_y_test, title='Trajectory of Ball in 3D Space'):\n",
    "    y_test_predicted_scaled = nn_model.predict(X_test_val_scaled)\n",
    "    y_test_pred = scaler_y_test.inverse_transform(y_test_predicted_scaled)\n",
    "    mse, mae, r2 = evaluate_model(y_test_val, y_test_pred, 'Test Data')\n",
    "    # change col 1 and 2 from place, so it corresponds to the unity 3d space\n",
    "    y_test_pred = y_test_pred[:, [0, 2, 1]]\n",
    "    y_test_val = y_test_val.to_numpy()[:, [0, 2, 1]]\n",
    "    plot_maker_3d(y_test_val, y_test_pred, title)\n",
    "    return y_test_pred, mse, mae, r2"
   ],
   "metadata": {
    "collapsed": false,
    "ExecuteTime": {
     "end_time": "2024-03-12T15:47:53.321636Z",
     "start_time": "2024-03-12T15:47:53.308193Z"
    }
   },
   "id": "ba950ddf6f53963c",
   "execution_count": 57
  },
  {
   "cell_type": "code",
   "outputs": [
    {
     "name": "stdout",
     "output_type": "stream",
     "text": [
      "Mean Squared Error on Test Data Set: 0.16793101748607775\n",
      "Mean Absolute Error on Test Data Set: 0.2613644620139193\n",
      "R2 Score on Test Data set: -0.2315509516147594\n"
     ]
    },
    {
     "data": {
      "text/plain": "<Figure size 640x480 with 1 Axes>",
      "image/png": "[encoded data removed]"
     },
     "metadata": {},
     "output_type": "display_data"
    }
   ],
   "source": [
    "X_test_scaled_spiral_a, y_test_spiral_a = prepare_and_scale_test_data(X_test_spiral_a, y_test_spiral_a, scaler_x)\n",
    "y_test_pred_spiral_a, mse_spiral_a, mae_spiral_a, r2_spiral_a = predict_evaluate_plot(X_test_scaled_spiral_a, y_test_spiral_a, model, scaler_y, 'Trajectory of Ball in 3D Space - Spiral A')"
   ],
   "metadata": {
    "collapsed": false,
    "ExecuteTime": {
     "end_time": "2024-03-12T15:57:52.255615Z",
     "start_time": "2024-03-12T15:57:51.949012Z"
    }
   },
   "id": "84c52016157cda19",
   "execution_count": 60
  }
 ],
 "metadata": {
  "kernelspec": {
   "display_name": "Python 3",
   "language": "python",
   "name": "python3"
  },
  "language_info": {
   "codemirror_mode": {
    "name": "ipython",
    "version": 2
   },
   "file_extension": ".py",
   "mimetype": "text/x-python",
   "name": "python",
   "nbconvert_exporter": "python",
   "pygments_lexer": "ipython2",
   "version": "2.7.6"
  }
 },
 "nbformat": 4,
 "nbformat_minor": 5
}
