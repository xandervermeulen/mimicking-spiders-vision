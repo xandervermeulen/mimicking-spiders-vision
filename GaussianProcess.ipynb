{
 "cells": [
  {
   "cell_type": "markdown",
   "source": [
    "## Gaussian Process Regression\n",
    "### 1. Introduction\n",
    "### 2. Data Preparation"
   ],
   "metadata": {
    "collapsed": false
   },
   "id": "fe934d4d875082e7"
  },
  {
   "cell_type": "code",
   "outputs": [],
   "source": [
    "import numpy as np\n",
    "import pandas as pd\n",
    "import matplotlib.pyplot as plt\n",
    "from sklearn.gaussian_process import GaussianProcessRegressor\n",
    "from sklearn.gaussian_process.kernels import RBF \n",
    "from sklearn.model_selection import train_test_split"
   ],
   "metadata": {
    "collapsed": false,
    "ExecuteTime": {
     "end_time": "2024-02-20T15:32:48.990687600Z",
     "start_time": "2024-02-20T15:32:48.884884500Z"
    }
   },
   "id": "c2a74ef535cfd3",
   "execution_count": 64
  },
  {
   "cell_type": "code",
   "outputs": [
    {
     "data": {
      "text/plain": "            u0         v0         u1         v1        u2         v2  \\\n0          NaN        NaN  40.571429  18.714286       NaN        NaN   \n1          NaN        NaN  40.600000  19.000000       NaN        NaN   \n2          NaN        NaN  40.500000  19.500000       NaN        NaN   \n3          NaN        NaN  40.666667  19.666667       NaN        NaN   \n4          NaN        NaN  40.666667  19.666667       NaN        NaN   \n...        ...        ...        ...        ...       ...        ...   \n3036  5.333333  27.333333  41.800000  17.200000  2.666667  47.666667   \n3037  5.500000  27.500000  41.500000  15.000000  3.000000  47.500000   \n3038  6.500000  27.500000  41.500000  15.250000  3.000000  48.000000   \n3039  6.666667  27.666667  41.750000  15.250000  4.400000  49.200000   \n3040  6.500000  27.500000  42.400000  17.800000  4.500000  49.000000   \n\n             u3         v3         u4         v4  u5  v5    u6    v6  \n0     20.500000  39.500000  41.500000  39.500000 NaN NaN   NaN   NaN  \n1     20.500000  39.500000  41.500000  39.500000 NaN NaN   NaN   NaN  \n2     20.500000  39.500000  41.500000  40.000000 NaN NaN   NaN   NaN  \n3     20.800000  40.600000  42.000000  40.000000 NaN NaN   NaN   NaN  \n4     21.400000  41.200000  42.200000  41.400000 NaN NaN   NaN   NaN  \n...         ...        ...        ...        ...  ..  ..   ...   ...  \n3036  24.333333  40.000000  42.750000  39.000000 NaN NaN  49.5  55.0  \n3037  24.666667  40.333333  42.333333  36.666667 NaN NaN  49.5  55.0  \n3038  24.666667  40.333333  44.000000  41.000000 NaN NaN  49.5  55.0  \n3039  25.500000  38.000000  42.666667  36.666667 NaN NaN  49.5  55.0  \n3040  25.500000  38.000000  43.750000  39.500000 NaN NaN  49.5  55.0  \n\n[3041 rows x 14 columns]",
      "text/html": "<div>\n<style scoped>\n    .dataframe tbody tr th:only-of-type {\n        vertical-align: middle;\n    }\n\n    .dataframe tbody tr th {\n        vertical-align: top;\n    }\n\n    .dataframe thead th {\n        text-align: right;\n    }\n</style>\n<table border=\"1\" class=\"dataframe\">\n  <thead>\n    <tr style=\"text-align: right;\">\n      <th></th>\n      <th>u0</th>\n      <th>v0</th>\n      <th>u1</th>\n      <th>v1</th>\n      <th>u2</th>\n      <th>v2</th>\n      <th>u3</th>\n      <th>v3</th>\n      <th>u4</th>\n      <th>v4</th>\n      <th>u5</th>\n      <th>v5</th>\n      <th>u6</th>\n      <th>v6</th>\n    </tr>\n  </thead>\n  <tbody>\n    <tr>\n      <th>0</th>\n      <td>NaN</td>\n      <td>NaN</td>\n      <td>40.571429</td>\n      <td>18.714286</td>\n      <td>NaN</td>\n      <td>NaN</td>\n      <td>20.500000</td>\n      <td>39.500000</td>\n      <td>41.500000</td>\n      <td>39.500000</td>\n      <td>NaN</td>\n      <td>NaN</td>\n      <td>NaN</td>\n      <td>NaN</td>\n    </tr>\n    <tr>\n      <th>1</th>\n      <td>NaN</td>\n      <td>NaN</td>\n      <td>40.600000</td>\n      <td>19.000000</td>\n      <td>NaN</td>\n      <td>NaN</td>\n      <td>20.500000</td>\n      <td>39.500000</td>\n      <td>41.500000</td>\n      <td>39.500000</td>\n      <td>NaN</td>\n      <td>NaN</td>\n      <td>NaN</td>\n      <td>NaN</td>\n    </tr>\n    <tr>\n      <th>2</th>\n      <td>NaN</td>\n      <td>NaN</td>\n      <td>40.500000</td>\n      <td>19.500000</td>\n      <td>NaN</td>\n      <td>NaN</td>\n      <td>20.500000</td>\n      <td>39.500000</td>\n      <td>41.500000</td>\n      <td>40.000000</td>\n      <td>NaN</td>\n      <td>NaN</td>\n      <td>NaN</td>\n      <td>NaN</td>\n    </tr>\n    <tr>\n      <th>3</th>\n      <td>NaN</td>\n      <td>NaN</td>\n      <td>40.666667</td>\n      <td>19.666667</td>\n      <td>NaN</td>\n      <td>NaN</td>\n      <td>20.800000</td>\n      <td>40.600000</td>\n      <td>42.000000</td>\n      <td>40.000000</td>\n      <td>NaN</td>\n      <td>NaN</td>\n      <td>NaN</td>\n      <td>NaN</td>\n    </tr>\n    <tr>\n      <th>4</th>\n      <td>NaN</td>\n      <td>NaN</td>\n      <td>40.666667</td>\n      <td>19.666667</td>\n      <td>NaN</td>\n      <td>NaN</td>\n      <td>21.400000</td>\n      <td>41.200000</td>\n      <td>42.200000</td>\n      <td>41.400000</td>\n      <td>NaN</td>\n      <td>NaN</td>\n      <td>NaN</td>\n      <td>NaN</td>\n    </tr>\n    <tr>\n      <th>...</th>\n      <td>...</td>\n      <td>...</td>\n      <td>...</td>\n      <td>...</td>\n      <td>...</td>\n      <td>...</td>\n      <td>...</td>\n      <td>...</td>\n      <td>...</td>\n      <td>...</td>\n      <td>...</td>\n      <td>...</td>\n      <td>...</td>\n      <td>...</td>\n    </tr>\n    <tr>\n      <th>3036</th>\n      <td>5.333333</td>\n      <td>27.333333</td>\n      <td>41.800000</td>\n      <td>17.200000</td>\n      <td>2.666667</td>\n      <td>47.666667</td>\n      <td>24.333333</td>\n      <td>40.000000</td>\n      <td>42.750000</td>\n      <td>39.000000</td>\n      <td>NaN</td>\n      <td>NaN</td>\n      <td>49.5</td>\n      <td>55.0</td>\n    </tr>\n    <tr>\n      <th>3037</th>\n      <td>5.500000</td>\n      <td>27.500000</td>\n      <td>41.500000</td>\n      <td>15.000000</td>\n      <td>3.000000</td>\n      <td>47.500000</td>\n      <td>24.666667</td>\n      <td>40.333333</td>\n      <td>42.333333</td>\n      <td>36.666667</td>\n      <td>NaN</td>\n      <td>NaN</td>\n      <td>49.5</td>\n      <td>55.0</td>\n    </tr>\n    <tr>\n      <th>3038</th>\n      <td>6.500000</td>\n      <td>27.500000</td>\n      <td>41.500000</td>\n      <td>15.250000</td>\n      <td>3.000000</td>\n      <td>48.000000</td>\n      <td>24.666667</td>\n      <td>40.333333</td>\n      <td>44.000000</td>\n      <td>41.000000</td>\n      <td>NaN</td>\n      <td>NaN</td>\n      <td>49.5</td>\n      <td>55.0</td>\n    </tr>\n    <tr>\n      <th>3039</th>\n      <td>6.666667</td>\n      <td>27.666667</td>\n      <td>41.750000</td>\n      <td>15.250000</td>\n      <td>4.400000</td>\n      <td>49.200000</td>\n      <td>25.500000</td>\n      <td>38.000000</td>\n      <td>42.666667</td>\n      <td>36.666667</td>\n      <td>NaN</td>\n      <td>NaN</td>\n      <td>49.5</td>\n      <td>55.0</td>\n    </tr>\n    <tr>\n      <th>3040</th>\n      <td>6.500000</td>\n      <td>27.500000</td>\n      <td>42.400000</td>\n      <td>17.800000</td>\n      <td>4.500000</td>\n      <td>49.000000</td>\n      <td>25.500000</td>\n      <td>38.000000</td>\n      <td>43.750000</td>\n      <td>39.500000</td>\n      <td>NaN</td>\n      <td>NaN</td>\n      <td>49.5</td>\n      <td>55.0</td>\n    </tr>\n  </tbody>\n</table>\n<p>3041 rows × 14 columns</p>\n</div>"
     },
     "execution_count": 65,
     "metadata": {},
     "output_type": "execute_result"
    }
   ],
   "source": [
    "# pandas will automatically convert the 'NaN' values to np.nan\n",
    "red_ball_coordinates = pd.read_csv('data/red_ball_coordinates_60px_026.csv', delimiter=',')\n",
    "red_ball_coordinates"
   ],
   "metadata": {
    "collapsed": false,
    "ExecuteTime": {
     "end_time": "2024-02-20T15:32:49.064074900Z",
     "start_time": "2024-02-20T15:32:49.000320Z"
    }
   },
   "id": "fab9dba0b86fdb50",
   "execution_count": 65
  },
  {
   "cell_type": "code",
   "outputs": [
    {
     "data": {
      "text/plain": "              x         y         z\n0      7.140000  3.070000  15.00000\n1     10.140000  3.070000  15.00000\n2     10.140000  3.070000  15.00000\n3     10.140000  3.070000  15.00000\n4     10.138330  3.169981  15.09998\n...         ...       ...       ...\n3040   9.429935  5.008091  16.93809\n3041   9.364073  5.083331  17.01333\n3042   9.295740  5.156333  17.08633\n3043   9.225012  5.227018  17.15702\n3044   8.963661  5.452070  17.38207\n\n[3045 rows x 3 columns]",
      "text/html": "<div>\n<style scoped>\n    .dataframe tbody tr th:only-of-type {\n        vertical-align: middle;\n    }\n\n    .dataframe tbody tr th {\n        vertical-align: top;\n    }\n\n    .dataframe thead th {\n        text-align: right;\n    }\n</style>\n<table border=\"1\" class=\"dataframe\">\n  <thead>\n    <tr style=\"text-align: right;\">\n      <th></th>\n      <th>x</th>\n      <th>y</th>\n      <th>z</th>\n    </tr>\n  </thead>\n  <tbody>\n    <tr>\n      <th>0</th>\n      <td>7.140000</td>\n      <td>3.070000</td>\n      <td>15.00000</td>\n    </tr>\n    <tr>\n      <th>1</th>\n      <td>10.140000</td>\n      <td>3.070000</td>\n      <td>15.00000</td>\n    </tr>\n    <tr>\n      <th>2</th>\n      <td>10.140000</td>\n      <td>3.070000</td>\n      <td>15.00000</td>\n    </tr>\n    <tr>\n      <th>3</th>\n      <td>10.140000</td>\n      <td>3.070000</td>\n      <td>15.00000</td>\n    </tr>\n    <tr>\n      <th>4</th>\n      <td>10.138330</td>\n      <td>3.169981</td>\n      <td>15.09998</td>\n    </tr>\n    <tr>\n      <th>...</th>\n      <td>...</td>\n      <td>...</td>\n      <td>...</td>\n    </tr>\n    <tr>\n      <th>3040</th>\n      <td>9.429935</td>\n      <td>5.008091</td>\n      <td>16.93809</td>\n    </tr>\n    <tr>\n      <th>3041</th>\n      <td>9.364073</td>\n      <td>5.083331</td>\n      <td>17.01333</td>\n    </tr>\n    <tr>\n      <th>3042</th>\n      <td>9.295740</td>\n      <td>5.156333</td>\n      <td>17.08633</td>\n    </tr>\n    <tr>\n      <th>3043</th>\n      <td>9.225012</td>\n      <td>5.227018</td>\n      <td>17.15702</td>\n    </tr>\n    <tr>\n      <th>3044</th>\n      <td>8.963661</td>\n      <td>5.452070</td>\n      <td>17.38207</td>\n    </tr>\n  </tbody>\n</table>\n<p>3045 rows × 3 columns</p>\n</div>"
     },
     "execution_count": 66,
     "metadata": {},
     "output_type": "execute_result"
    }
   ],
   "source": [
    "xyz_coordinates = pd.read_csv('data/positions_xyz_60px_026.csv', delimiter=',')\n",
    "xyz_coordinates"
   ],
   "metadata": {
    "collapsed": false,
    "ExecuteTime": {
     "end_time": "2024-02-20T15:32:49.124610700Z",
     "start_time": "2024-02-20T15:32:49.057176700Z"
    }
   },
   "id": "eb95a22ef7a50fea",
   "execution_count": 66
  },
  {
   "cell_type": "code",
   "outputs": [
    {
     "data": {
      "text/plain": "              x         y         z\n0     10.138330  3.169981  15.09998\n1     10.133340  3.269852  15.19985\n2     10.125010  3.369500  15.29950\n3     10.113370  3.468816  15.39882\n4     10.098430  3.567688  15.49769\n...         ...       ...       ...\n3036   9.429935  5.008091  16.93809\n3037   9.364073  5.083331  17.01333\n3038   9.295740  5.156333  17.08633\n3039   9.225012  5.227018  17.15702\n3040   8.963661  5.452070  17.38207\n\n[3041 rows x 3 columns]",
      "text/html": "<div>\n<style scoped>\n    .dataframe tbody tr th:only-of-type {\n        vertical-align: middle;\n    }\n\n    .dataframe tbody tr th {\n        vertical-align: top;\n    }\n\n    .dataframe thead th {\n        text-align: right;\n    }\n</style>\n<table border=\"1\" class=\"dataframe\">\n  <thead>\n    <tr style=\"text-align: right;\">\n      <th></th>\n      <th>x</th>\n      <th>y</th>\n      <th>z</th>\n    </tr>\n  </thead>\n  <tbody>\n    <tr>\n      <th>0</th>\n      <td>10.138330</td>\n      <td>3.169981</td>\n      <td>15.09998</td>\n    </tr>\n    <tr>\n      <th>1</th>\n      <td>10.133340</td>\n      <td>3.269852</td>\n      <td>15.19985</td>\n    </tr>\n    <tr>\n      <th>2</th>\n      <td>10.125010</td>\n      <td>3.369500</td>\n      <td>15.29950</td>\n    </tr>\n    <tr>\n      <th>3</th>\n      <td>10.113370</td>\n      <td>3.468816</td>\n      <td>15.39882</td>\n    </tr>\n    <tr>\n      <th>4</th>\n      <td>10.098430</td>\n      <td>3.567688</td>\n      <td>15.49769</td>\n    </tr>\n    <tr>\n      <th>...</th>\n      <td>...</td>\n      <td>...</td>\n      <td>...</td>\n    </tr>\n    <tr>\n      <th>3036</th>\n      <td>9.429935</td>\n      <td>5.008091</td>\n      <td>16.93809</td>\n    </tr>\n    <tr>\n      <th>3037</th>\n      <td>9.364073</td>\n      <td>5.083331</td>\n      <td>17.01333</td>\n    </tr>\n    <tr>\n      <th>3038</th>\n      <td>9.295740</td>\n      <td>5.156333</td>\n      <td>17.08633</td>\n    </tr>\n    <tr>\n      <th>3039</th>\n      <td>9.225012</td>\n      <td>5.227018</td>\n      <td>17.15702</td>\n    </tr>\n    <tr>\n      <th>3040</th>\n      <td>8.963661</td>\n      <td>5.452070</td>\n      <td>17.38207</td>\n    </tr>\n  </tbody>\n</table>\n<p>3041 rows × 3 columns</p>\n</div>"
     },
     "execution_count": 67,
     "metadata": {},
     "output_type": "execute_result"
    }
   ],
   "source": [
    "# remove the first rows of xyz_coordinates\n",
    "xyz_coordinates = xyz_coordinates.iloc[4:]\n",
    "xyz_coordinates = xyz_coordinates.reset_index(drop=True)\n",
    "xyz_coordinates"
   ],
   "metadata": {
    "collapsed": false,
    "ExecuteTime": {
     "end_time": "2024-02-20T15:32:49.253525200Z",
     "start_time": "2024-02-20T15:32:49.084580800Z"
    }
   },
   "id": "56f9135d99df7ead",
   "execution_count": 67
  },
  {
   "cell_type": "code",
   "outputs": [
    {
     "data": {
      "text/plain": "            u0         v0         u1         v1        u2         v2  \\\n0          NaN        NaN  40.571429  18.714286       NaN        NaN   \n1          NaN        NaN  40.600000  19.000000       NaN        NaN   \n2          NaN        NaN  40.500000  19.500000       NaN        NaN   \n3          NaN        NaN  40.666667  19.666667       NaN        NaN   \n4          NaN        NaN  40.666667  19.666667       NaN        NaN   \n...        ...        ...        ...        ...       ...        ...   \n3036  5.333333  27.333333  41.800000  17.200000  2.666667  47.666667   \n3037  5.500000  27.500000  41.500000  15.000000  3.000000  47.500000   \n3038  6.500000  27.500000  41.500000  15.250000  3.000000  48.000000   \n3039  6.666667  27.666667  41.750000  15.250000  4.400000  49.200000   \n3040  6.500000  27.500000  42.400000  17.800000  4.500000  49.000000   \n\n             u3         v3         u4         v4  u5  v5    u6    v6  \\\n0     20.500000  39.500000  41.500000  39.500000 NaN NaN   NaN   NaN   \n1     20.500000  39.500000  41.500000  39.500000 NaN NaN   NaN   NaN   \n2     20.500000  39.500000  41.500000  40.000000 NaN NaN   NaN   NaN   \n3     20.800000  40.600000  42.000000  40.000000 NaN NaN   NaN   NaN   \n4     21.400000  41.200000  42.200000  41.400000 NaN NaN   NaN   NaN   \n...         ...        ...        ...        ...  ..  ..   ...   ...   \n3036  24.333333  40.000000  42.750000  39.000000 NaN NaN  49.5  55.0   \n3037  24.666667  40.333333  42.333333  36.666667 NaN NaN  49.5  55.0   \n3038  24.666667  40.333333  44.000000  41.000000 NaN NaN  49.5  55.0   \n3039  25.500000  38.000000  42.666667  36.666667 NaN NaN  49.5  55.0   \n3040  25.500000  38.000000  43.750000  39.500000 NaN NaN  49.5  55.0   \n\n              x         y         z  \n0     10.138330  3.169981  15.09998  \n1     10.133340  3.269852  15.19985  \n2     10.125010  3.369500  15.29950  \n3     10.113370  3.468816  15.39882  \n4     10.098430  3.567688  15.49769  \n...         ...       ...       ...  \n3036   9.429935  5.008091  16.93809  \n3037   9.364073  5.083331  17.01333  \n3038   9.295740  5.156333  17.08633  \n3039   9.225012  5.227018  17.15702  \n3040   8.963661  5.452070  17.38207  \n\n[3041 rows x 17 columns]",
      "text/html": "<div>\n<style scoped>\n    .dataframe tbody tr th:only-of-type {\n        vertical-align: middle;\n    }\n\n    .dataframe tbody tr th {\n        vertical-align: top;\n    }\n\n    .dataframe thead th {\n        text-align: right;\n    }\n</style>\n<table border=\"1\" class=\"dataframe\">\n  <thead>\n    <tr style=\"text-align: right;\">\n      <th></th>\n      <th>u0</th>\n      <th>v0</th>\n      <th>u1</th>\n      <th>v1</th>\n      <th>u2</th>\n      <th>v2</th>\n      <th>u3</th>\n      <th>v3</th>\n      <th>u4</th>\n      <th>v4</th>\n      <th>u5</th>\n      <th>v5</th>\n      <th>u6</th>\n      <th>v6</th>\n      <th>x</th>\n      <th>y</th>\n      <th>z</th>\n    </tr>\n  </thead>\n  <tbody>\n    <tr>\n      <th>0</th>\n      <td>NaN</td>\n      <td>NaN</td>\n      <td>40.571429</td>\n      <td>18.714286</td>\n      <td>NaN</td>\n      <td>NaN</td>\n      <td>20.500000</td>\n      <td>39.500000</td>\n      <td>41.500000</td>\n      <td>39.500000</td>\n      <td>NaN</td>\n      <td>NaN</td>\n      <td>NaN</td>\n      <td>NaN</td>\n      <td>10.138330</td>\n      <td>3.169981</td>\n      <td>15.09998</td>\n    </tr>\n    <tr>\n      <th>1</th>\n      <td>NaN</td>\n      <td>NaN</td>\n      <td>40.600000</td>\n      <td>19.000000</td>\n      <td>NaN</td>\n      <td>NaN</td>\n      <td>20.500000</td>\n      <td>39.500000</td>\n      <td>41.500000</td>\n      <td>39.500000</td>\n      <td>NaN</td>\n      <td>NaN</td>\n      <td>NaN</td>\n      <td>NaN</td>\n      <td>10.133340</td>\n      <td>3.269852</td>\n      <td>15.19985</td>\n    </tr>\n    <tr>\n      <th>2</th>\n      <td>NaN</td>\n      <td>NaN</td>\n      <td>40.500000</td>\n      <td>19.500000</td>\n      <td>NaN</td>\n      <td>NaN</td>\n      <td>20.500000</td>\n      <td>39.500000</td>\n      <td>41.500000</td>\n      <td>40.000000</td>\n      <td>NaN</td>\n      <td>NaN</td>\n      <td>NaN</td>\n      <td>NaN</td>\n      <td>10.125010</td>\n      <td>3.369500</td>\n      <td>15.29950</td>\n    </tr>\n    <tr>\n      <th>3</th>\n      <td>NaN</td>\n      <td>NaN</td>\n      <td>40.666667</td>\n      <td>19.666667</td>\n      <td>NaN</td>\n      <td>NaN</td>\n      <td>20.800000</td>\n      <td>40.600000</td>\n      <td>42.000000</td>\n      <td>40.000000</td>\n      <td>NaN</td>\n      <td>NaN</td>\n      <td>NaN</td>\n      <td>NaN</td>\n      <td>10.113370</td>\n      <td>3.468816</td>\n      <td>15.39882</td>\n    </tr>\n    <tr>\n      <th>4</th>\n      <td>NaN</td>\n      <td>NaN</td>\n      <td>40.666667</td>\n      <td>19.666667</td>\n      <td>NaN</td>\n      <td>NaN</td>\n      <td>21.400000</td>\n      <td>41.200000</td>\n      <td>42.200000</td>\n      <td>41.400000</td>\n      <td>NaN</td>\n      <td>NaN</td>\n      <td>NaN</td>\n      <td>NaN</td>\n      <td>10.098430</td>\n      <td>3.567688</td>\n      <td>15.49769</td>\n    </tr>\n    <tr>\n      <th>...</th>\n      <td>...</td>\n      <td>...</td>\n      <td>...</td>\n      <td>...</td>\n      <td>...</td>\n      <td>...</td>\n      <td>...</td>\n      <td>...</td>\n      <td>...</td>\n      <td>...</td>\n      <td>...</td>\n      <td>...</td>\n      <td>...</td>\n      <td>...</td>\n      <td>...</td>\n      <td>...</td>\n      <td>...</td>\n    </tr>\n    <tr>\n      <th>3036</th>\n      <td>5.333333</td>\n      <td>27.333333</td>\n      <td>41.800000</td>\n      <td>17.200000</td>\n      <td>2.666667</td>\n      <td>47.666667</td>\n      <td>24.333333</td>\n      <td>40.000000</td>\n      <td>42.750000</td>\n      <td>39.000000</td>\n      <td>NaN</td>\n      <td>NaN</td>\n      <td>49.5</td>\n      <td>55.0</td>\n      <td>9.429935</td>\n      <td>5.008091</td>\n      <td>16.93809</td>\n    </tr>\n    <tr>\n      <th>3037</th>\n      <td>5.500000</td>\n      <td>27.500000</td>\n      <td>41.500000</td>\n      <td>15.000000</td>\n      <td>3.000000</td>\n      <td>47.500000</td>\n      <td>24.666667</td>\n      <td>40.333333</td>\n      <td>42.333333</td>\n      <td>36.666667</td>\n      <td>NaN</td>\n      <td>NaN</td>\n      <td>49.5</td>\n      <td>55.0</td>\n      <td>9.364073</td>\n      <td>5.083331</td>\n      <td>17.01333</td>\n    </tr>\n    <tr>\n      <th>3038</th>\n      <td>6.500000</td>\n      <td>27.500000</td>\n      <td>41.500000</td>\n      <td>15.250000</td>\n      <td>3.000000</td>\n      <td>48.000000</td>\n      <td>24.666667</td>\n      <td>40.333333</td>\n      <td>44.000000</td>\n      <td>41.000000</td>\n      <td>NaN</td>\n      <td>NaN</td>\n      <td>49.5</td>\n      <td>55.0</td>\n      <td>9.295740</td>\n      <td>5.156333</td>\n      <td>17.08633</td>\n    </tr>\n    <tr>\n      <th>3039</th>\n      <td>6.666667</td>\n      <td>27.666667</td>\n      <td>41.750000</td>\n      <td>15.250000</td>\n      <td>4.400000</td>\n      <td>49.200000</td>\n      <td>25.500000</td>\n      <td>38.000000</td>\n      <td>42.666667</td>\n      <td>36.666667</td>\n      <td>NaN</td>\n      <td>NaN</td>\n      <td>49.5</td>\n      <td>55.0</td>\n      <td>9.225012</td>\n      <td>5.227018</td>\n      <td>17.15702</td>\n    </tr>\n    <tr>\n      <th>3040</th>\n      <td>6.500000</td>\n      <td>27.500000</td>\n      <td>42.400000</td>\n      <td>17.800000</td>\n      <td>4.500000</td>\n      <td>49.000000</td>\n      <td>25.500000</td>\n      <td>38.000000</td>\n      <td>43.750000</td>\n      <td>39.500000</td>\n      <td>NaN</td>\n      <td>NaN</td>\n      <td>49.5</td>\n      <td>55.0</td>\n      <td>8.963661</td>\n      <td>5.452070</td>\n      <td>17.38207</td>\n    </tr>\n  </tbody>\n</table>\n<p>3041 rows × 17 columns</p>\n</div>"
     },
     "execution_count": 68,
     "metadata": {},
     "output_type": "execute_result"
    }
   ],
   "source": [
    "combined_data = []\n",
    "# combine the two dataframes\n",
    "if red_ball_coordinates.shape[0] == xyz_coordinates.shape[0]:\n",
    "    combined_data = pd.concat([red_ball_coordinates, xyz_coordinates], axis=1)\n",
    "combined_data"
   ],
   "metadata": {
    "collapsed": false,
    "ExecuteTime": {
     "end_time": "2024-02-20T15:32:49.332364800Z",
     "start_time": "2024-02-20T15:32:49.124670400Z"
    }
   },
   "id": "4fa77d6fbb4c017f",
   "execution_count": 68
  },
  {
   "cell_type": "markdown",
   "source": [
    "### 3. Data Preprocessing"
   ],
   "metadata": {
    "collapsed": false
   },
   "id": "5f0927113e71fc78"
  },
  {
   "cell_type": "code",
   "outputs": [],
   "source": [
    "# split into features and target\n",
    "X = combined_data.iloc[:, :14]\n",
    "y = combined_data.iloc[:, 14:]"
   ],
   "metadata": {
    "collapsed": false,
    "ExecuteTime": {
     "end_time": "2024-02-20T15:32:49.428227500Z",
     "start_time": "2024-02-20T15:32:49.175516100Z"
    }
   },
   "id": "e0150d0e5e032a12",
   "execution_count": 69
  },
  {
   "cell_type": "code",
   "outputs": [],
   "source": [
    "from sklearn.impute import SimpleImputer\n",
    "# scale the features and the target\n",
    "from sklearn.preprocessing import StandardScaler\n",
    "scaler = StandardScaler()\n",
    "X_scaled = scaler.fit_transform(X)\n",
    "y_scaled = scaler.fit_transform(y)"
   ],
   "metadata": {
    "collapsed": false,
    "ExecuteTime": {
     "end_time": "2024-02-20T15:32:49.451789500Z",
     "start_time": "2024-02-20T15:32:49.204785600Z"
    }
   },
   "id": "f3178a8a726c046b",
   "execution_count": 70
  },
  {
   "cell_type": "markdown",
   "source": [
    "#### 3.1. Impute the NaN values with mean SimpleImputer"
   ],
   "metadata": {
    "collapsed": false
   },
   "id": "66f36d1a0e968ef8"
  },
  {
   "cell_type": "code",
   "outputs": [],
   "source": [
    "imputer = SimpleImputer(strategy='mean')\n",
    "X_imputed_mean = imputer.fit_transform(X_scaled)\n",
    "y_imputed_mean = imputer.fit_transform(y_scaled)"
   ],
   "metadata": {
    "collapsed": false,
    "ExecuteTime": {
     "end_time": "2024-02-20T15:32:49.496364400Z",
     "start_time": "2024-02-20T15:32:49.265552900Z"
    }
   },
   "id": "7824e788630367df",
   "execution_count": 71
  },
  {
   "cell_type": "markdown",
   "source": [
    "#### 3.2. Impute the NaN values with median SimpleImputer"
   ],
   "metadata": {
    "collapsed": false
   },
   "id": "2f4e1ccc52126ec7"
  },
  {
   "cell_type": "code",
   "outputs": [],
   "source": [
    "imputer = SimpleImputer(strategy='median')\n",
    "X_imputed_median = imputer.fit_transform(X_scaled)\n",
    "y_imputed_median = imputer.fit_transform(y_scaled)"
   ],
   "metadata": {
    "collapsed": false,
    "ExecuteTime": {
     "end_time": "2024-02-20T15:32:49.642058300Z",
     "start_time": "2024-02-20T15:32:49.471491300Z"
    }
   },
   "id": "aa8f9af7aa94412e",
   "execution_count": 72
  },
  {
   "cell_type": "markdown",
   "source": [
    "### 3.3. Impute the NaN values with KNNImputer"
   ],
   "metadata": {
    "collapsed": false
   },
   "id": "ca5af93324f77f4d"
  },
  {
   "cell_type": "code",
   "outputs": [],
   "source": [
    "from sklearn.impute import KNNImputer\n",
    "\n",
    "imputer = KNNImputer(n_neighbors=5)\n",
    "X_imputed = imputer.fit_transform(X)\n",
    "y_imputed = imputer.fit_transform(y)"
   ],
   "metadata": {
    "collapsed": false,
    "ExecuteTime": {
     "end_time": "2024-02-20T15:32:51.094969700Z",
     "start_time": "2024-02-20T15:32:49.581472900Z"
    }
   },
   "id": "56f0d35d1de26913",
   "execution_count": 73
  },
  {
   "cell_type": "markdown",
   "source": [
    "### 4. Gaussian Process Regression"
   ],
   "metadata": {
    "collapsed": false
   },
   "id": "398332ca552f241d"
  },
  {
   "cell_type": "code",
   "outputs": [],
   "source": [
    "kernel = 1.0 * RBF(length_scale=1.0)\n",
    "gp = GaussianProcessRegressor(kernel=kernel, optimizer='fmin_l_bfgs_b', n_restarts_optimizer=10)"
   ],
   "metadata": {
    "collapsed": false,
    "ExecuteTime": {
     "end_time": "2024-02-20T15:32:51.113068400Z",
     "start_time": "2024-02-20T15:32:51.099484900Z"
    }
   },
   "id": "ab9b8a5bdec155fd",
   "execution_count": 74
  },
  {
   "cell_type": "code",
   "outputs": [
    {
     "ename": "KeyboardInterrupt",
     "evalue": "",
     "output_type": "error",
     "traceback": [
      "\u001B[1;31m---------------------------------------------------------------------------\u001B[0m",
      "\u001B[1;31mKeyboardInterrupt\u001B[0m                         Traceback (most recent call last)",
      "Cell \u001B[1;32mIn[75], line 3\u001B[0m\n\u001B[0;32m      1\u001B[0m \u001B[38;5;66;03m# select the first 100 rows\u001B[39;00m\n\u001B[0;32m      2\u001B[0m X_train, X_test, y_train, y_test \u001B[38;5;241m=\u001B[39m train_test_split(X_imputed_mean, y_imputed_mean, test_size\u001B[38;5;241m=\u001B[39m\u001B[38;5;241m0.2\u001B[39m, random_state\u001B[38;5;241m=\u001B[39m\u001B[38;5;241m42\u001B[39m)\n\u001B[1;32m----> 3\u001B[0m \u001B[43mgp\u001B[49m\u001B[38;5;241;43m.\u001B[39;49m\u001B[43mfit\u001B[49m\u001B[43m(\u001B[49m\u001B[43mX_train\u001B[49m\u001B[43m,\u001B[49m\u001B[43m \u001B[49m\u001B[43my_train\u001B[49m\u001B[43m)\u001B[49m\n",
      "File \u001B[1;32m~\\venv\\lib\\site-packages\\sklearn\\base.py:1152\u001B[0m, in \u001B[0;36m_fit_context.<locals>.decorator.<locals>.wrapper\u001B[1;34m(estimator, *args, **kwargs)\u001B[0m\n\u001B[0;32m   1145\u001B[0m     estimator\u001B[38;5;241m.\u001B[39m_validate_params()\n\u001B[0;32m   1147\u001B[0m \u001B[38;5;28;01mwith\u001B[39;00m config_context(\n\u001B[0;32m   1148\u001B[0m     skip_parameter_validation\u001B[38;5;241m=\u001B[39m(\n\u001B[0;32m   1149\u001B[0m         prefer_skip_nested_validation \u001B[38;5;129;01mor\u001B[39;00m global_skip_validation\n\u001B[0;32m   1150\u001B[0m     )\n\u001B[0;32m   1151\u001B[0m ):\n\u001B[1;32m-> 1152\u001B[0m     \u001B[38;5;28;01mreturn\u001B[39;00m fit_method(estimator, \u001B[38;5;241m*\u001B[39margs, \u001B[38;5;241m*\u001B[39m\u001B[38;5;241m*\u001B[39mkwargs)\n",
      "File \u001B[1;32m~\\venv\\lib\\site-packages\\sklearn\\gaussian_process\\_gpr.py:325\u001B[0m, in \u001B[0;36mGaussianProcessRegressor.fit\u001B[1;34m(self, X, y)\u001B[0m\n\u001B[0;32m    322\u001B[0m     \u001B[38;5;28;01mfor\u001B[39;00m iteration \u001B[38;5;129;01min\u001B[39;00m \u001B[38;5;28mrange\u001B[39m(\u001B[38;5;28mself\u001B[39m\u001B[38;5;241m.\u001B[39mn_restarts_optimizer):\n\u001B[0;32m    323\u001B[0m         theta_initial \u001B[38;5;241m=\u001B[39m \u001B[38;5;28mself\u001B[39m\u001B[38;5;241m.\u001B[39m_rng\u001B[38;5;241m.\u001B[39muniform(bounds[:, \u001B[38;5;241m0\u001B[39m], bounds[:, \u001B[38;5;241m1\u001B[39m])\n\u001B[0;32m    324\u001B[0m         optima\u001B[38;5;241m.\u001B[39mappend(\n\u001B[1;32m--> 325\u001B[0m             \u001B[38;5;28;43mself\u001B[39;49m\u001B[38;5;241;43m.\u001B[39;49m\u001B[43m_constrained_optimization\u001B[49m\u001B[43m(\u001B[49m\u001B[43mobj_func\u001B[49m\u001B[43m,\u001B[49m\u001B[43m \u001B[49m\u001B[43mtheta_initial\u001B[49m\u001B[43m,\u001B[49m\u001B[43m \u001B[49m\u001B[43mbounds\u001B[49m\u001B[43m)\u001B[49m\n\u001B[0;32m    326\u001B[0m         )\n\u001B[0;32m    327\u001B[0m \u001B[38;5;66;03m# Select result from run with minimal (negative) log-marginal\u001B[39;00m\n\u001B[0;32m    328\u001B[0m \u001B[38;5;66;03m# likelihood\u001B[39;00m\n\u001B[0;32m    329\u001B[0m lml_values \u001B[38;5;241m=\u001B[39m \u001B[38;5;28mlist\u001B[39m(\u001B[38;5;28mmap\u001B[39m(itemgetter(\u001B[38;5;241m1\u001B[39m), optima))\n",
      "File \u001B[1;32m~\\venv\\lib\\site-packages\\sklearn\\gaussian_process\\_gpr.py:656\u001B[0m, in \u001B[0;36mGaussianProcessRegressor._constrained_optimization\u001B[1;34m(self, obj_func, initial_theta, bounds)\u001B[0m\n\u001B[0;32m    654\u001B[0m \u001B[38;5;28;01mdef\u001B[39;00m \u001B[38;5;21m_constrained_optimization\u001B[39m(\u001B[38;5;28mself\u001B[39m, obj_func, initial_theta, bounds):\n\u001B[0;32m    655\u001B[0m     \u001B[38;5;28;01mif\u001B[39;00m \u001B[38;5;28mself\u001B[39m\u001B[38;5;241m.\u001B[39moptimizer \u001B[38;5;241m==\u001B[39m \u001B[38;5;124m\"\u001B[39m\u001B[38;5;124mfmin_l_bfgs_b\u001B[39m\u001B[38;5;124m\"\u001B[39m:\n\u001B[1;32m--> 656\u001B[0m         opt_res \u001B[38;5;241m=\u001B[39m \u001B[43mscipy\u001B[49m\u001B[38;5;241;43m.\u001B[39;49m\u001B[43moptimize\u001B[49m\u001B[38;5;241;43m.\u001B[39;49m\u001B[43mminimize\u001B[49m\u001B[43m(\u001B[49m\n\u001B[0;32m    657\u001B[0m \u001B[43m            \u001B[49m\u001B[43mobj_func\u001B[49m\u001B[43m,\u001B[49m\n\u001B[0;32m    658\u001B[0m \u001B[43m            \u001B[49m\u001B[43minitial_theta\u001B[49m\u001B[43m,\u001B[49m\n\u001B[0;32m    659\u001B[0m \u001B[43m            \u001B[49m\u001B[43mmethod\u001B[49m\u001B[38;5;241;43m=\u001B[39;49m\u001B[38;5;124;43m\"\u001B[39;49m\u001B[38;5;124;43mL-BFGS-B\u001B[39;49m\u001B[38;5;124;43m\"\u001B[39;49m\u001B[43m,\u001B[49m\n\u001B[0;32m    660\u001B[0m \u001B[43m            \u001B[49m\u001B[43mjac\u001B[49m\u001B[38;5;241;43m=\u001B[39;49m\u001B[38;5;28;43;01mTrue\u001B[39;49;00m\u001B[43m,\u001B[49m\n\u001B[0;32m    661\u001B[0m \u001B[43m            \u001B[49m\u001B[43mbounds\u001B[49m\u001B[38;5;241;43m=\u001B[39;49m\u001B[43mbounds\u001B[49m\u001B[43m,\u001B[49m\n\u001B[0;32m    662\u001B[0m \u001B[43m        \u001B[49m\u001B[43m)\u001B[49m\n\u001B[0;32m    663\u001B[0m         _check_optimize_result(\u001B[38;5;124m\"\u001B[39m\u001B[38;5;124mlbfgs\u001B[39m\u001B[38;5;124m\"\u001B[39m, opt_res)\n\u001B[0;32m    664\u001B[0m         theta_opt, func_min \u001B[38;5;241m=\u001B[39m opt_res\u001B[38;5;241m.\u001B[39mx, opt_res\u001B[38;5;241m.\u001B[39mfun\n",
      "File \u001B[1;32m~\\venv\\lib\\site-packages\\scipy\\optimize\\_minimize.py:710\u001B[0m, in \u001B[0;36mminimize\u001B[1;34m(fun, x0, args, method, jac, hess, hessp, bounds, constraints, tol, callback, options)\u001B[0m\n\u001B[0;32m    707\u001B[0m     res \u001B[38;5;241m=\u001B[39m _minimize_newtoncg(fun, x0, args, jac, hess, hessp, callback,\n\u001B[0;32m    708\u001B[0m                              \u001B[38;5;241m*\u001B[39m\u001B[38;5;241m*\u001B[39moptions)\n\u001B[0;32m    709\u001B[0m \u001B[38;5;28;01melif\u001B[39;00m meth \u001B[38;5;241m==\u001B[39m \u001B[38;5;124m'\u001B[39m\u001B[38;5;124ml-bfgs-b\u001B[39m\u001B[38;5;124m'\u001B[39m:\n\u001B[1;32m--> 710\u001B[0m     res \u001B[38;5;241m=\u001B[39m _minimize_lbfgsb(fun, x0, args, jac, bounds,\n\u001B[0;32m    711\u001B[0m                            callback\u001B[38;5;241m=\u001B[39mcallback, \u001B[38;5;241m*\u001B[39m\u001B[38;5;241m*\u001B[39moptions)\n\u001B[0;32m    712\u001B[0m \u001B[38;5;28;01melif\u001B[39;00m meth \u001B[38;5;241m==\u001B[39m \u001B[38;5;124m'\u001B[39m\u001B[38;5;124mtnc\u001B[39m\u001B[38;5;124m'\u001B[39m:\n\u001B[0;32m    713\u001B[0m     res \u001B[38;5;241m=\u001B[39m _minimize_tnc(fun, x0, args, jac, bounds, callback\u001B[38;5;241m=\u001B[39mcallback,\n\u001B[0;32m    714\u001B[0m                         \u001B[38;5;241m*\u001B[39m\u001B[38;5;241m*\u001B[39moptions)\n",
      "File \u001B[1;32m~\\venv\\lib\\site-packages\\scipy\\optimize\\_lbfgsb_py.py:365\u001B[0m, in \u001B[0;36m_minimize_lbfgsb\u001B[1;34m(fun, x0, args, jac, bounds, disp, maxcor, ftol, gtol, eps, maxfun, maxiter, iprint, callback, maxls, finite_diff_rel_step, **unknown_options)\u001B[0m\n\u001B[0;32m    359\u001B[0m task_str \u001B[38;5;241m=\u001B[39m task\u001B[38;5;241m.\u001B[39mtobytes()\n\u001B[0;32m    360\u001B[0m \u001B[38;5;28;01mif\u001B[39;00m task_str\u001B[38;5;241m.\u001B[39mstartswith(\u001B[38;5;124mb\u001B[39m\u001B[38;5;124m'\u001B[39m\u001B[38;5;124mFG\u001B[39m\u001B[38;5;124m'\u001B[39m):\n\u001B[0;32m    361\u001B[0m     \u001B[38;5;66;03m# The minimization routine wants f and g at the current x.\u001B[39;00m\n\u001B[0;32m    362\u001B[0m     \u001B[38;5;66;03m# Note that interruptions due to maxfun are postponed\u001B[39;00m\n\u001B[0;32m    363\u001B[0m     \u001B[38;5;66;03m# until the completion of the current minimization iteration.\u001B[39;00m\n\u001B[0;32m    364\u001B[0m     \u001B[38;5;66;03m# Overwrite f and g:\u001B[39;00m\n\u001B[1;32m--> 365\u001B[0m     f, g \u001B[38;5;241m=\u001B[39m \u001B[43mfunc_and_grad\u001B[49m\u001B[43m(\u001B[49m\u001B[43mx\u001B[49m\u001B[43m)\u001B[49m\n\u001B[0;32m    366\u001B[0m \u001B[38;5;28;01melif\u001B[39;00m task_str\u001B[38;5;241m.\u001B[39mstartswith(\u001B[38;5;124mb\u001B[39m\u001B[38;5;124m'\u001B[39m\u001B[38;5;124mNEW_X\u001B[39m\u001B[38;5;124m'\u001B[39m):\n\u001B[0;32m    367\u001B[0m     \u001B[38;5;66;03m# new iteration\u001B[39;00m\n\u001B[0;32m    368\u001B[0m     n_iterations \u001B[38;5;241m+\u001B[39m\u001B[38;5;241m=\u001B[39m \u001B[38;5;241m1\u001B[39m\n",
      "File \u001B[1;32m~\\venv\\lib\\site-packages\\scipy\\optimize\\_differentiable_functions.py:285\u001B[0m, in \u001B[0;36mScalarFunction.fun_and_grad\u001B[1;34m(self, x)\u001B[0m\n\u001B[0;32m    283\u001B[0m \u001B[38;5;28;01mif\u001B[39;00m \u001B[38;5;129;01mnot\u001B[39;00m np\u001B[38;5;241m.\u001B[39marray_equal(x, \u001B[38;5;28mself\u001B[39m\u001B[38;5;241m.\u001B[39mx):\n\u001B[0;32m    284\u001B[0m     \u001B[38;5;28mself\u001B[39m\u001B[38;5;241m.\u001B[39m_update_x_impl(x)\n\u001B[1;32m--> 285\u001B[0m \u001B[38;5;28;43mself\u001B[39;49m\u001B[38;5;241;43m.\u001B[39;49m\u001B[43m_update_fun\u001B[49m\u001B[43m(\u001B[49m\u001B[43m)\u001B[49m\n\u001B[0;32m    286\u001B[0m \u001B[38;5;28mself\u001B[39m\u001B[38;5;241m.\u001B[39m_update_grad()\n\u001B[0;32m    287\u001B[0m \u001B[38;5;28;01mreturn\u001B[39;00m \u001B[38;5;28mself\u001B[39m\u001B[38;5;241m.\u001B[39mf, \u001B[38;5;28mself\u001B[39m\u001B[38;5;241m.\u001B[39mg\n",
      "File \u001B[1;32m~\\venv\\lib\\site-packages\\scipy\\optimize\\_differentiable_functions.py:251\u001B[0m, in \u001B[0;36mScalarFunction._update_fun\u001B[1;34m(self)\u001B[0m\n\u001B[0;32m    249\u001B[0m \u001B[38;5;28;01mdef\u001B[39;00m \u001B[38;5;21m_update_fun\u001B[39m(\u001B[38;5;28mself\u001B[39m):\n\u001B[0;32m    250\u001B[0m     \u001B[38;5;28;01mif\u001B[39;00m \u001B[38;5;129;01mnot\u001B[39;00m \u001B[38;5;28mself\u001B[39m\u001B[38;5;241m.\u001B[39mf_updated:\n\u001B[1;32m--> 251\u001B[0m         \u001B[38;5;28;43mself\u001B[39;49m\u001B[38;5;241;43m.\u001B[39;49m\u001B[43m_update_fun_impl\u001B[49m\u001B[43m(\u001B[49m\u001B[43m)\u001B[49m\n\u001B[0;32m    252\u001B[0m         \u001B[38;5;28mself\u001B[39m\u001B[38;5;241m.\u001B[39mf_updated \u001B[38;5;241m=\u001B[39m \u001B[38;5;28;01mTrue\u001B[39;00m\n",
      "File \u001B[1;32m~\\venv\\lib\\site-packages\\scipy\\optimize\\_differentiable_functions.py:155\u001B[0m, in \u001B[0;36mScalarFunction.__init__.<locals>.update_fun\u001B[1;34m()\u001B[0m\n\u001B[0;32m    154\u001B[0m \u001B[38;5;28;01mdef\u001B[39;00m \u001B[38;5;21mupdate_fun\u001B[39m():\n\u001B[1;32m--> 155\u001B[0m     \u001B[38;5;28mself\u001B[39m\u001B[38;5;241m.\u001B[39mf \u001B[38;5;241m=\u001B[39m \u001B[43mfun_wrapped\u001B[49m\u001B[43m(\u001B[49m\u001B[38;5;28;43mself\u001B[39;49m\u001B[38;5;241;43m.\u001B[39;49m\u001B[43mx\u001B[49m\u001B[43m)\u001B[49m\n",
      "File \u001B[1;32m~\\venv\\lib\\site-packages\\scipy\\optimize\\_differentiable_functions.py:137\u001B[0m, in \u001B[0;36mScalarFunction.__init__.<locals>.fun_wrapped\u001B[1;34m(x)\u001B[0m\n\u001B[0;32m    133\u001B[0m \u001B[38;5;28mself\u001B[39m\u001B[38;5;241m.\u001B[39mnfev \u001B[38;5;241m+\u001B[39m\u001B[38;5;241m=\u001B[39m \u001B[38;5;241m1\u001B[39m\n\u001B[0;32m    134\u001B[0m \u001B[38;5;66;03m# Send a copy because the user may overwrite it.\u001B[39;00m\n\u001B[0;32m    135\u001B[0m \u001B[38;5;66;03m# Overwriting results in undefined behaviour because\u001B[39;00m\n\u001B[0;32m    136\u001B[0m \u001B[38;5;66;03m# fun(self.x) will change self.x, with the two no longer linked.\u001B[39;00m\n\u001B[1;32m--> 137\u001B[0m fx \u001B[38;5;241m=\u001B[39m \u001B[43mfun\u001B[49m\u001B[43m(\u001B[49m\u001B[43mnp\u001B[49m\u001B[38;5;241;43m.\u001B[39;49m\u001B[43mcopy\u001B[49m\u001B[43m(\u001B[49m\u001B[43mx\u001B[49m\u001B[43m)\u001B[49m\u001B[43m,\u001B[49m\u001B[43m \u001B[49m\u001B[38;5;241;43m*\u001B[39;49m\u001B[43margs\u001B[49m\u001B[43m)\u001B[49m\n\u001B[0;32m    138\u001B[0m \u001B[38;5;66;03m# Make sure the function returns a true scalar\u001B[39;00m\n\u001B[0;32m    139\u001B[0m \u001B[38;5;28;01mif\u001B[39;00m \u001B[38;5;129;01mnot\u001B[39;00m np\u001B[38;5;241m.\u001B[39misscalar(fx):\n",
      "File \u001B[1;32m~\\venv\\lib\\site-packages\\scipy\\optimize\\_optimize.py:77\u001B[0m, in \u001B[0;36mMemoizeJac.__call__\u001B[1;34m(self, x, *args)\u001B[0m\n\u001B[0;32m     75\u001B[0m \u001B[38;5;28;01mdef\u001B[39;00m \u001B[38;5;21m__call__\u001B[39m(\u001B[38;5;28mself\u001B[39m, x, \u001B[38;5;241m*\u001B[39margs):\n\u001B[0;32m     76\u001B[0m \u001B[38;5;250m    \u001B[39m\u001B[38;5;124;03m\"\"\" returns the function value \"\"\"\u001B[39;00m\n\u001B[1;32m---> 77\u001B[0m     \u001B[38;5;28;43mself\u001B[39;49m\u001B[38;5;241;43m.\u001B[39;49m\u001B[43m_compute_if_needed\u001B[49m\u001B[43m(\u001B[49m\u001B[43mx\u001B[49m\u001B[43m,\u001B[49m\u001B[43m \u001B[49m\u001B[38;5;241;43m*\u001B[39;49m\u001B[43margs\u001B[49m\u001B[43m)\u001B[49m\n\u001B[0;32m     78\u001B[0m     \u001B[38;5;28;01mreturn\u001B[39;00m \u001B[38;5;28mself\u001B[39m\u001B[38;5;241m.\u001B[39m_value\n",
      "File \u001B[1;32m~\\venv\\lib\\site-packages\\scipy\\optimize\\_optimize.py:71\u001B[0m, in \u001B[0;36mMemoizeJac._compute_if_needed\u001B[1;34m(self, x, *args)\u001B[0m\n\u001B[0;32m     69\u001B[0m \u001B[38;5;28;01mif\u001B[39;00m \u001B[38;5;129;01mnot\u001B[39;00m np\u001B[38;5;241m.\u001B[39mall(x \u001B[38;5;241m==\u001B[39m \u001B[38;5;28mself\u001B[39m\u001B[38;5;241m.\u001B[39mx) \u001B[38;5;129;01mor\u001B[39;00m \u001B[38;5;28mself\u001B[39m\u001B[38;5;241m.\u001B[39m_value \u001B[38;5;129;01mis\u001B[39;00m \u001B[38;5;28;01mNone\u001B[39;00m \u001B[38;5;129;01mor\u001B[39;00m \u001B[38;5;28mself\u001B[39m\u001B[38;5;241m.\u001B[39mjac \u001B[38;5;129;01mis\u001B[39;00m \u001B[38;5;28;01mNone\u001B[39;00m:\n\u001B[0;32m     70\u001B[0m     \u001B[38;5;28mself\u001B[39m\u001B[38;5;241m.\u001B[39mx \u001B[38;5;241m=\u001B[39m np\u001B[38;5;241m.\u001B[39masarray(x)\u001B[38;5;241m.\u001B[39mcopy()\n\u001B[1;32m---> 71\u001B[0m     fg \u001B[38;5;241m=\u001B[39m \u001B[38;5;28;43mself\u001B[39;49m\u001B[38;5;241;43m.\u001B[39;49m\u001B[43mfun\u001B[49m\u001B[43m(\u001B[49m\u001B[43mx\u001B[49m\u001B[43m,\u001B[49m\u001B[43m \u001B[49m\u001B[38;5;241;43m*\u001B[39;49m\u001B[43margs\u001B[49m\u001B[43m)\u001B[49m\n\u001B[0;32m     72\u001B[0m     \u001B[38;5;28mself\u001B[39m\u001B[38;5;241m.\u001B[39mjac \u001B[38;5;241m=\u001B[39m fg[\u001B[38;5;241m1\u001B[39m]\n\u001B[0;32m     73\u001B[0m     \u001B[38;5;28mself\u001B[39m\u001B[38;5;241m.\u001B[39m_value \u001B[38;5;241m=\u001B[39m fg[\u001B[38;5;241m0\u001B[39m]\n",
      "File \u001B[1;32m~\\venv\\lib\\site-packages\\sklearn\\gaussian_process\\_gpr.py:297\u001B[0m, in \u001B[0;36mGaussianProcessRegressor.fit.<locals>.obj_func\u001B[1;34m(theta, eval_gradient)\u001B[0m\n\u001B[0;32m    295\u001B[0m \u001B[38;5;28;01mdef\u001B[39;00m \u001B[38;5;21mobj_func\u001B[39m(theta, eval_gradient\u001B[38;5;241m=\u001B[39m\u001B[38;5;28;01mTrue\u001B[39;00m):\n\u001B[0;32m    296\u001B[0m     \u001B[38;5;28;01mif\u001B[39;00m eval_gradient:\n\u001B[1;32m--> 297\u001B[0m         lml, grad \u001B[38;5;241m=\u001B[39m \u001B[38;5;28;43mself\u001B[39;49m\u001B[38;5;241;43m.\u001B[39;49m\u001B[43mlog_marginal_likelihood\u001B[49m\u001B[43m(\u001B[49m\n\u001B[0;32m    298\u001B[0m \u001B[43m            \u001B[49m\u001B[43mtheta\u001B[49m\u001B[43m,\u001B[49m\u001B[43m \u001B[49m\u001B[43meval_gradient\u001B[49m\u001B[38;5;241;43m=\u001B[39;49m\u001B[38;5;28;43;01mTrue\u001B[39;49;00m\u001B[43m,\u001B[49m\u001B[43m \u001B[49m\u001B[43mclone_kernel\u001B[49m\u001B[38;5;241;43m=\u001B[39;49m\u001B[38;5;28;43;01mFalse\u001B[39;49;00m\n\u001B[0;32m    299\u001B[0m \u001B[43m        \u001B[49m\u001B[43m)\u001B[49m\n\u001B[0;32m    300\u001B[0m         \u001B[38;5;28;01mreturn\u001B[39;00m \u001B[38;5;241m-\u001B[39mlml, \u001B[38;5;241m-\u001B[39mgrad\n\u001B[0;32m    301\u001B[0m     \u001B[38;5;28;01melse\u001B[39;00m:\n",
      "File \u001B[1;32m~\\venv\\lib\\site-packages\\sklearn\\gaussian_process\\_gpr.py:627\u001B[0m, in \u001B[0;36mGaussianProcessRegressor.log_marginal_likelihood\u001B[1;34m(self, theta, eval_gradient, clone_kernel)\u001B[0m\n\u001B[0;32m    625\u001B[0m inner_term \u001B[38;5;241m=\u001B[39m np\u001B[38;5;241m.\u001B[39meinsum(\u001B[38;5;124m\"\u001B[39m\u001B[38;5;124mik,jk->ijk\u001B[39m\u001B[38;5;124m\"\u001B[39m, alpha, alpha)\n\u001B[0;32m    626\u001B[0m \u001B[38;5;66;03m# compute K^-1 of shape (n_samples, n_samples)\u001B[39;00m\n\u001B[1;32m--> 627\u001B[0m K_inv \u001B[38;5;241m=\u001B[39m \u001B[43mcho_solve\u001B[49m\u001B[43m(\u001B[49m\n\u001B[0;32m    628\u001B[0m \u001B[43m    \u001B[49m\u001B[43m(\u001B[49m\u001B[43mL\u001B[49m\u001B[43m,\u001B[49m\u001B[43m \u001B[49m\u001B[43mGPR_CHOLESKY_LOWER\u001B[49m\u001B[43m)\u001B[49m\u001B[43m,\u001B[49m\u001B[43m \u001B[49m\u001B[43mnp\u001B[49m\u001B[38;5;241;43m.\u001B[39;49m\u001B[43meye\u001B[49m\u001B[43m(\u001B[49m\u001B[43mK\u001B[49m\u001B[38;5;241;43m.\u001B[39;49m\u001B[43mshape\u001B[49m\u001B[43m[\u001B[49m\u001B[38;5;241;43m0\u001B[39;49m\u001B[43m]\u001B[49m\u001B[43m)\u001B[49m\u001B[43m,\u001B[49m\u001B[43m \u001B[49m\u001B[43mcheck_finite\u001B[49m\u001B[38;5;241;43m=\u001B[39;49m\u001B[38;5;28;43;01mFalse\u001B[39;49;00m\n\u001B[0;32m    629\u001B[0m \u001B[43m\u001B[49m\u001B[43m)\u001B[49m\n\u001B[0;32m    630\u001B[0m \u001B[38;5;66;03m# create a new axis to use broadcasting between inner_term and\u001B[39;00m\n\u001B[0;32m    631\u001B[0m \u001B[38;5;66;03m# K_inv\u001B[39;00m\n\u001B[0;32m    632\u001B[0m inner_term \u001B[38;5;241m-\u001B[39m\u001B[38;5;241m=\u001B[39m K_inv[\u001B[38;5;241m.\u001B[39m\u001B[38;5;241m.\u001B[39m\u001B[38;5;241m.\u001B[39m, np\u001B[38;5;241m.\u001B[39mnewaxis]\n",
      "File \u001B[1;32m~\\venv\\lib\\site-packages\\scipy\\linalg\\_decomp_cholesky.py:211\u001B[0m, in \u001B[0;36mcho_solve\u001B[1;34m(c_and_lower, b, overwrite_b, check_finite)\u001B[0m\n\u001B[0;32m    208\u001B[0m overwrite_b \u001B[38;5;241m=\u001B[39m overwrite_b \u001B[38;5;129;01mor\u001B[39;00m _datacopied(b1, b)\n\u001B[0;32m    210\u001B[0m potrs, \u001B[38;5;241m=\u001B[39m get_lapack_funcs((\u001B[38;5;124m'\u001B[39m\u001B[38;5;124mpotrs\u001B[39m\u001B[38;5;124m'\u001B[39m,), (c, b1))\n\u001B[1;32m--> 211\u001B[0m x, info \u001B[38;5;241m=\u001B[39m potrs(c, b1, lower\u001B[38;5;241m=\u001B[39mlower, overwrite_b\u001B[38;5;241m=\u001B[39moverwrite_b)\n\u001B[0;32m    212\u001B[0m \u001B[38;5;28;01mif\u001B[39;00m info \u001B[38;5;241m!=\u001B[39m \u001B[38;5;241m0\u001B[39m:\n\u001B[0;32m    213\u001B[0m     \u001B[38;5;28;01mraise\u001B[39;00m \u001B[38;5;167;01mValueError\u001B[39;00m(\u001B[38;5;124m'\u001B[39m\u001B[38;5;124millegal value in \u001B[39m\u001B[38;5;132;01m%d\u001B[39;00m\u001B[38;5;124mth argument of internal potrs\u001B[39m\u001B[38;5;124m'\u001B[39m\n\u001B[0;32m    214\u001B[0m                      \u001B[38;5;241m%\u001B[39m \u001B[38;5;241m-\u001B[39minfo)\n",
      "\u001B[1;31mKeyboardInterrupt\u001B[0m: "
     ]
    }
   ],
   "source": [
    "X_train, X_test, y_train, y_test = train_test_split(X_imputed_mean, y_imputed_mean, test_size=0.2, random_state=42)\n",
    "gp.fit(X_train, y_train)"
   ],
   "metadata": {
    "collapsed": false,
    "ExecuteTime": {
     "end_time": "2024-02-20T15:38:40.088767100Z",
     "start_time": "2024-02-20T15:32:51.118795400Z"
    }
   },
   "id": "da8d80a3aeb3329e",
   "execution_count": 75
  },
  {
   "cell_type": "code",
   "outputs": [],
   "source": [
    "# Make predictions on the test data\n",
    "y_pred, sigma = gp.predict(X_test, return_std=True)\n",
    " \n",
    "# Visualize the results\n",
    "x = np.linspace(0, 5, 1000)[:, np.newaxis]\n",
    "y_mean, y_cov = gp.predict(x, return_cov=True)\n",
    " \n",
    "plt.figure(figsize=(10, 5))\n",
    "plt.scatter(X_train, y_train, c='r', label='Training Data')\n",
    "plt.plot(x, y_mean, 'k', lw=2, zorder=9, label='Predicted Mean')\n",
    "plt.fill_between(x[:, 0], y_mean - 1.96 * np.sqrt(np.diag(y_cov)), y_mean + 1.96 *\n",
    "                 np.sqrt(np.diag(y_cov)), alpha=0.2, color='k', label='95% Confidence Interval')\n",
    "plt.xlabel('X')\n",
    "plt.ylabel('y')\n",
    "plt.legend()\n",
    "plt.show()"
   ],
   "metadata": {
    "collapsed": false
   },
   "id": "f140b59d4e538eb1"
  }
 ],
 "metadata": {
  "kernelspec": {
   "display_name": "Python 3",
   "language": "python",
   "name": "python3"
  },
  "language_info": {
   "codemirror_mode": {
    "name": "ipython",
    "version": 2
   },
   "file_extension": ".py",
   "mimetype": "text/x-python",
   "name": "python",
   "nbconvert_exporter": "python",
   "pygments_lexer": "ipython2",
   "version": "2.7.6"
  }
 },
 "nbformat": 4,
 "nbformat_minor": 5
}
