{
 "cells": [
  {
   "cell_type": "markdown",
   "source": [
    "## Gaussian Process Regression\n",
    "### 1. Introduction\n",
    "### 2. Data Preparation"
   ],
   "metadata": {
    "collapsed": false
   },
   "id": "fe934d4d875082e7"
  },
  {
   "cell_type": "code",
   "outputs": [],
   "source": [
    "import numpy as np\n",
    "import pandas as pd\n",
    "import matplotlib.pyplot as plt\n",
    "from sklearn.gaussian_process import GaussianProcessRegressor\n",
    "from sklearn.gaussian_process.kernels import RBF \n",
    "from sklearn.model_selection import train_test_split"
   ],
   "metadata": {
    "collapsed": false,
    "ExecuteTime": {
     "end_time": "2024-02-20T15:32:48.990687600Z",
     "start_time": "2024-02-20T15:32:48.884884500Z"
    }
   },
   "id": "c2a74ef535cfd3",
   "execution_count": 64
  },
  {
   "cell_type": "code",
   "outputs": [
    {
     "data": {
      "text/plain": "            u0         v0         u1         v1        u2         v2  \\\n0          NaN        NaN  40.571429  18.714286       NaN        NaN   \n1          NaN        NaN  40.600000  19.000000       NaN        NaN   \n2          NaN        NaN  40.500000  19.500000       NaN        NaN   \n3          NaN        NaN  40.666667  19.666667       NaN        NaN   \n4          NaN        NaN  40.666667  19.666667       NaN        NaN   \n...        ...        ...        ...        ...       ...        ...   \n3036  5.333333  27.333333  41.800000  17.200000  2.666667  47.666667   \n3037  5.500000  27.500000  41.500000  15.000000  3.000000  47.500000   \n3038  6.500000  27.500000  41.500000  15.250000  3.000000  48.000000   \n3039  6.666667  27.666667  41.750000  15.250000  4.400000  49.200000   \n3040  6.500000  27.500000  42.400000  17.800000  4.500000  49.000000   \n\n             u3         v3         u4         v4  u5  v5    u6    v6  \n0     20.500000  39.500000  41.500000  39.500000 NaN NaN   NaN   NaN  \n1     20.500000  39.500000  41.500000  39.500000 NaN NaN   NaN   NaN  \n2     20.500000  39.500000  41.500000  40.000000 NaN NaN   NaN   NaN  \n3     20.800000  40.600000  42.000000  40.000000 NaN NaN   NaN   NaN  \n4     21.400000  41.200000  42.200000  41.400000 NaN NaN   NaN   NaN  \n...         ...        ...        ...        ...  ..  ..   ...   ...  \n3036  24.333333  40.000000  42.750000  39.000000 NaN NaN  49.5  55.0  \n3037  24.666667  40.333333  42.333333  36.666667 NaN NaN  49.5  55.0  \n3038  24.666667  40.333333  44.000000  41.000000 NaN NaN  49.5  55.0  \n3039  25.500000  38.000000  42.666667  36.666667 NaN NaN  49.5  55.0  \n3040  25.500000  38.000000  43.750000  39.500000 NaN NaN  49.5  55.0  \n\n[3041 rows x 14 columns]",
      "text/html": "<div>\n<style scoped>\n    .dataframe tbody tr th:only-of-type {\n        vertical-align: middle;\n    }\n\n    .dataframe tbody tr th {\n        vertical-align: top;\n    }\n\n    .dataframe thead th {\n        text-align: right;\n    }\n</style>\n<table border=\"1\" class=\"dataframe\">\n  <thead>\n    <tr style=\"text-align: right;\">\n      <th></th>\n      <th>u0</th>\n      <th>v0</th>\n      <th>u1</th>\n      <th>v1</th>\n      <th>u2</th>\n      <th>v2</th>\n      <th>u3</th>\n      <th>v3</th>\n      <th>u4</th>\n      <th>v4</th>\n      <th>u5</th>\n      <th>v5</th>\n      <th>u6</th>\n      <th>v6</th>\n    </tr>\n  </thead>\n  <tbody>\n    <tr>\n      <th>0</th>\n      <td>NaN</td>\n      <td>NaN</td>\n      <td>40.571429</td>\n      <td>18.714286</td>\n      <td>NaN</td>\n      <td>NaN</td>\n      <td>20.500000</td>\n      <td>39.500000</td>\n      <td>41.500000</td>\n      <td>39.500000</td>\n      <td>NaN</td>\n      <td>NaN</td>\n      <td>NaN</td>\n      <td>NaN</td>\n    </tr>\n    <tr>\n      <th>1</th>\n      <td>NaN</td>\n      <td>NaN</td>\n      <td>40.600000</td>\n      <td>19.000000</td>\n      <td>NaN</td>\n      <td>NaN</td>\n      <td>20.500000</td>\n      <td>39.500000</td>\n      <td>41.500000</td>\n      <td>39.500000</td>\n      <td>NaN</td>\n      <td>NaN</td>\n      <td>NaN</td>\n      <td>NaN</td>\n    </tr>\n    <tr>\n      <th>2</th>\n      <td>NaN</td>\n      <td>NaN</td>\n      <td>40.500000</td>\n      <td>19.500000</td>\n      <td>NaN</td>\n      <td>NaN</td>\n      <td>20.500000</td>\n      <td>39.500000</td>\n      <td>41.500000</td>\n      <td>40.000000</td>\n      <td>NaN</td>\n      <td>NaN</td>\n      <td>NaN</td>\n      <td>NaN</td>\n    </tr>\n    <tr>\n      <th>3</th>\n      <td>NaN</td>\n      <td>NaN</td>\n      <td>40.666667</td>\n      <td>19.666667</td>\n      <td>NaN</td>\n      <td>NaN</td>\n      <td>20.800000</td>\n      <td>40.600000</td>\n      <td>42.000000</td>\n      <td>40.000000</td>\n      <td>NaN</td>\n      <td>NaN</td>\n      <td>NaN</td>\n      <td>NaN</td>\n    </tr>\n    <tr>\n      <th>4</th>\n      <td>NaN</td>\n      <td>NaN</td>\n      <td>40.666667</td>\n      <td>19.666667</td>\n      <td>NaN</td>\n      <td>NaN</td>\n      <td>21.400000</td>\n      <td>41.200000</td>\n      <td>42.200000</td>\n      <td>41.400000</td>\n      <td>NaN</td>\n      <td>NaN</td>\n      <td>NaN</td>\n      <td>NaN</td>\n    </tr>\n    <tr>\n      <th>...</th>\n      <td>...</td>\n      <td>...</td>\n      <td>...</td>\n      <td>...</td>\n      <td>...</td>\n      <td>...</td>\n      <td>...</td>\n      <td>...</td>\n      <td>...</td>\n      <td>...</td>\n      <td>...</td>\n      <td>...</td>\n      <td>...</td>\n      <td>...</td>\n    </tr>\n    <tr>\n      <th>3036</th>\n      <td>5.333333</td>\n      <td>27.333333</td>\n      <td>41.800000</td>\n      <td>17.200000</td>\n      <td>2.666667</td>\n      <td>47.666667</td>\n      <td>24.333333</td>\n      <td>40.000000</td>\n      <td>42.750000</td>\n      <td>39.000000</td>\n      <td>NaN</td>\n      <td>NaN</td>\n      <td>49.5</td>\n      <td>55.0</td>\n    </tr>\n    <tr>\n      <th>3037</th>\n      <td>5.500000</td>\n      <td>27.500000</td>\n      <td>41.500000</td>\n      <td>15.000000</td>\n      <td>3.000000</td>\n      <td>47.500000</td>\n      <td>24.666667</td>\n      <td>40.333333</td>\n      <td>42.333333</td>\n      <td>36.666667</td>\n      <td>NaN</td>\n      <td>NaN</td>\n      <td>49.5</td>\n      <td>55.0</td>\n    </tr>\n    <tr>\n      <th>3038</th>\n      <td>6.500000</td>\n      <td>27.500000</td>\n      <td>41.500000</td>\n      <td>15.250000</td>\n      <td>3.000000</td>\n      <td>48.000000</td>\n      <td>24.666667</td>\n      <td>40.333333</td>\n      <td>44.000000</td>\n      <td>41.000000</td>\n      <td>NaN</td>\n      <td>NaN</td>\n      <td>49.5</td>\n      <td>55.0</td>\n    </tr>\n    <tr>\n      <th>3039</th>\n      <td>6.666667</td>\n      <td>27.666667</td>\n      <td>41.750000</td>\n      <td>15.250000</td>\n      <td>4.400000</td>\n      <td>49.200000</td>\n      <td>25.500000</td>\n      <td>38.000000</td>\n      <td>42.666667</td>\n      <td>36.666667</td>\n      <td>NaN</td>\n      <td>NaN</td>\n      <td>49.5</td>\n      <td>55.0</td>\n    </tr>\n    <tr>\n      <th>3040</th>\n      <td>6.500000</td>\n      <td>27.500000</td>\n      <td>42.400000</td>\n      <td>17.800000</td>\n      <td>4.500000</td>\n      <td>49.000000</td>\n      <td>25.500000</td>\n      <td>38.000000</td>\n      <td>43.750000</td>\n      <td>39.500000</td>\n      <td>NaN</td>\n      <td>NaN</td>\n      <td>49.5</td>\n      <td>55.0</td>\n    </tr>\n  </tbody>\n</table>\n<p>3041 rows × 14 columns</p>\n</div>"
     },
     "execution_count": 65,
     "metadata": {},
     "output_type": "execute_result"
    }
   ],
   "source": [
    "# pandas will automatically convert the 'NaN' values to np.nan\n",
    "red_ball_coordinates = pd.read_csv('data/red_ball_coordinates_60px_026.csv', delimiter=',')\n",
    "red_ball_coordinates"
   ],
   "metadata": {
    "collapsed": false,
    "ExecuteTime": {
     "end_time": "2024-02-20T15:32:49.064074900Z",
     "start_time": "2024-02-20T15:32:49.000320Z"
    }
   },
   "id": "fab9dba0b86fdb50",
   "execution_count": 65
  },
  {
   "cell_type": "code",
   "outputs": [
    {
     "data": {
      "text/plain": "              x         y         z\n0      7.140000  3.070000  15.00000\n1     10.140000  3.070000  15.00000\n2     10.140000  3.070000  15.00000\n3     10.140000  3.070000  15.00000\n4     10.138330  3.169981  15.09998\n...         ...       ...       ...\n3040   9.429935  5.008091  16.93809\n3041   9.364073  5.083331  17.01333\n3042   9.295740  5.156333  17.08633\n3043   9.225012  5.227018  17.15702\n3044   8.963661  5.452070  17.38207\n\n[3045 rows x 3 columns]",
      "text/html": "<div>\n<style scoped>\n    .dataframe tbody tr th:only-of-type {\n        vertical-align: middle;\n    }\n\n    .dataframe tbody tr th {\n        vertical-align: top;\n    }\n\n    .dataframe thead th {\n        text-align: right;\n    }\n</style>\n<table border=\"1\" class=\"dataframe\">\n  <thead>\n    <tr style=\"text-align: right;\">\n      <th></th>\n      <th>x</th>\n      <th>y</th>\n      <th>z</th>\n    </tr>\n  </thead>\n  <tbody>\n    <tr>\n      <th>0</th>\n      <td>7.140000</td>\n      <td>3.070000</td>\n      <td>15.00000</td>\n    </tr>\n    <tr>\n      <th>1</th>\n      <td>10.140000</td>\n      <td>3.070000</td>\n      <td>15.00000</td>\n    </tr>\n    <tr>\n      <th>2</th>\n      <td>10.140000</td>\n      <td>3.070000</td>\n      <td>15.00000</td>\n    </tr>\n    <tr>\n      <th>3</th>\n      <td>10.140000</td>\n      <td>3.070000</td>\n      <td>15.00000</td>\n    </tr>\n    <tr>\n      <th>4</th>\n      <td>10.138330</td>\n      <td>3.169981</td>\n      <td>15.09998</td>\n    </tr>\n    <tr>\n      <th>...</th>\n      <td>...</td>\n      <td>...</td>\n      <td>...</td>\n    </tr>\n    <tr>\n      <th>3040</th>\n      <td>9.429935</td>\n      <td>5.008091</td>\n      <td>16.93809</td>\n    </tr>\n    <tr>\n      <th>3041</th>\n      <td>9.364073</td>\n      <td>5.083331</td>\n      <td>17.01333</td>\n    </tr>\n    <tr>\n      <th>3042</th>\n      <td>9.295740</td>\n      <td>5.156333</td>\n      <td>17.08633</td>\n    </tr>\n    <tr>\n      <th>3043</th>\n      <td>9.225012</td>\n      <td>5.227018</td>\n      <td>17.15702</td>\n    </tr>\n    <tr>\n      <th>3044</th>\n      <td>8.963661</td>\n      <td>5.452070</td>\n      <td>17.38207</td>\n    </tr>\n  </tbody>\n</table>\n<p>3045 rows × 3 columns</p>\n</div>"
     },
     "execution_count": 66,
     "metadata": {},
     "output_type": "execute_result"
    }
   ],
   "source": [
    "xyz_coordinates = pd.read_csv('data/positions_xyz_60px_026.csv', delimiter=',')\n",
    "xyz_coordinates"
   ],
   "metadata": {
    "collapsed": false,
    "ExecuteTime": {
     "end_time": "2024-02-20T15:32:49.124610700Z",
     "start_time": "2024-02-20T15:32:49.057176700Z"
    }
   },
   "id": "eb95a22ef7a50fea",
   "execution_count": 66
  },
  {
   "cell_type": "code",
   "outputs": [
    {
     "data": {
      "text/plain": "              x         y         z\n0     10.138330  3.169981  15.09998\n1     10.133340  3.269852  15.19985\n2     10.125010  3.369500  15.29950\n3     10.113370  3.468816  15.39882\n4     10.098430  3.567688  15.49769\n...         ...       ...       ...\n3036   9.429935  5.008091  16.93809\n3037   9.364073  5.083331  17.01333\n3038   9.295740  5.156333  17.08633\n3039   9.225012  5.227018  17.15702\n3040   8.963661  5.452070  17.38207\n\n[3041 rows x 3 columns]",
      "text/html": "<div>\n<style scoped>\n    .dataframe tbody tr th:only-of-type {\n        vertical-align: middle;\n    }\n\n    .dataframe tbody tr th {\n        vertical-align: top;\n    }\n\n    .dataframe thead th {\n        text-align: right;\n    }\n</style>\n<table border=\"1\" class=\"dataframe\">\n  <thead>\n    <tr style=\"text-align: right;\">\n      <th></th>\n      <th>x</th>\n      <th>y</th>\n      <th>z</th>\n    </tr>\n  </thead>\n  <tbody>\n    <tr>\n      <th>0</th>\n      <td>10.138330</td>\n      <td>3.169981</td>\n      <td>15.09998</td>\n    </tr>\n    <tr>\n      <th>1</th>\n      <td>10.133340</td>\n      <td>3.269852</td>\n      <td>15.19985</td>\n    </tr>\n    <tr>\n      <th>2</th>\n      <td>10.125010</td>\n      <td>3.369500</td>\n      <td>15.29950</td>\n    </tr>\n    <tr>\n      <th>3</th>\n      <td>10.113370</td>\n      <td>3.468816</td>\n      <td>15.39882</td>\n    </tr>\n    <tr>\n      <th>4</th>\n      <td>10.098430</td>\n      <td>3.567688</td>\n      <td>15.49769</td>\n    </tr>\n    <tr>\n      <th>...</th>\n      <td>...</td>\n      <td>...</td>\n      <td>...</td>\n    </tr>\n    <tr>\n      <th>3036</th>\n      <td>9.429935</td>\n      <td>5.008091</td>\n      <td>16.93809</td>\n    </tr>\n    <tr>\n      <th>3037</th>\n      <td>9.364073</td>\n      <td>5.083331</td>\n      <td>17.01333</td>\n    </tr>\n    <tr>\n      <th>3038</th>\n      <td>9.295740</td>\n      <td>5.156333</td>\n      <td>17.08633</td>\n    </tr>\n    <tr>\n      <th>3039</th>\n      <td>9.225012</td>\n      <td>5.227018</td>\n      <td>17.15702</td>\n    </tr>\n    <tr>\n      <th>3040</th>\n      <td>8.963661</td>\n      <td>5.452070</td>\n      <td>17.38207</td>\n    </tr>\n  </tbody>\n</table>\n<p>3041 rows × 3 columns</p>\n</div>"
     },
     "execution_count": 67,
     "metadata": {},
     "output_type": "execute_result"
    }
   ],
   "source": [
    "# remove the first rows of xyz_coordinates\n",
    "xyz_coordinates = xyz_coordinates.iloc[4:]\n",
    "xyz_coordinates = xyz_coordinates.reset_index(drop=True)\n",
    "xyz_coordinates"
   ],
   "metadata": {
    "collapsed": false,
    "ExecuteTime": {
     "end_time": "2024-02-20T15:32:49.253525200Z",
     "start_time": "2024-02-20T15:32:49.084580800Z"
    }
   },
   "id": "56f9135d99df7ead",
   "execution_count": 67
  },
  {
   "cell_type": "code",
   "outputs": [
    {
     "data": {
      "text/plain": "            u0         v0         u1         v1        u2         v2  \\\n0          NaN        NaN  40.571429  18.714286       NaN        NaN   \n1          NaN        NaN  40.600000  19.000000       NaN        NaN   \n2          NaN        NaN  40.500000  19.500000       NaN        NaN   \n3          NaN        NaN  40.666667  19.666667       NaN        NaN   \n4          NaN        NaN  40.666667  19.666667       NaN        NaN   \n...        ...        ...        ...        ...       ...        ...   \n3036  5.333333  27.333333  41.800000  17.200000  2.666667  47.666667   \n3037  5.500000  27.500000  41.500000  15.000000  3.000000  47.500000   \n3038  6.500000  27.500000  41.500000  15.250000  3.000000  48.000000   \n3039  6.666667  27.666667  41.750000  15.250000  4.400000  49.200000   \n3040  6.500000  27.500000  42.400000  17.800000  4.500000  49.000000   \n\n             u3         v3         u4         v4  u5  v5    u6    v6  \\\n0     20.500000  39.500000  41.500000  39.500000 NaN NaN   NaN   NaN   \n1     20.500000  39.500000  41.500000  39.500000 NaN NaN   NaN   NaN   \n2     20.500000  39.500000  41.500000  40.000000 NaN NaN   NaN   NaN   \n3     20.800000  40.600000  42.000000  40.000000 NaN NaN   NaN   NaN   \n4     21.400000  41.200000  42.200000  41.400000 NaN NaN   NaN   NaN   \n...         ...        ...        ...        ...  ..  ..   ...   ...   \n3036  24.333333  40.000000  42.750000  39.000000 NaN NaN  49.5  55.0   \n3037  24.666667  40.333333  42.333333  36.666667 NaN NaN  49.5  55.0   \n3038  24.666667  40.333333  44.000000  41.000000 NaN NaN  49.5  55.0   \n3039  25.500000  38.000000  42.666667  36.666667 NaN NaN  49.5  55.0   \n3040  25.500000  38.000000  43.750000  39.500000 NaN NaN  49.5  55.0   \n\n              x         y         z  \n0     10.138330  3.169981  15.09998  \n1     10.133340  3.269852  15.19985  \n2     10.125010  3.369500  15.29950  \n3     10.113370  3.468816  15.39882  \n4     10.098430  3.567688  15.49769  \n...         ...       ...       ...  \n3036   9.429935  5.008091  16.93809  \n3037   9.364073  5.083331  17.01333  \n3038   9.295740  5.156333  17.08633  \n3039   9.225012  5.227018  17.15702  \n3040   8.963661  5.452070  17.38207  \n\n[3041 rows x 17 columns]",
      "text/html": "<div>\n<style scoped>\n    .dataframe tbody tr th:only-of-type {\n        vertical-align: middle;\n    }\n\n    .dataframe tbody tr th {\n        vertical-align: top;\n    }\n\n    .dataframe thead th {\n        text-align: right;\n    }\n</style>\n<table border=\"1\" class=\"dataframe\">\n  <thead>\n    <tr style=\"text-align: right;\">\n      <th></th>\n      <th>u0</th>\n      <th>v0</th>\n      <th>u1</th>\n      <th>v1</th>\n      <th>u2</th>\n      <th>v2</th>\n      <th>u3</th>\n      <th>v3</th>\n      <th>u4</th>\n      <th>v4</th>\n      <th>u5</th>\n      <th>v5</th>\n      <th>u6</th>\n      <th>v6</th>\n      <th>x</th>\n      <th>y</th>\n      <th>z</th>\n    </tr>\n  </thead>\n  <tbody>\n    <tr>\n      <th>0</th>\n      <td>NaN</td>\n      <td>NaN</td>\n      <td>40.571429</td>\n      <td>18.714286</td>\n      <td>NaN</td>\n      <td>NaN</td>\n      <td>20.500000</td>\n      <td>39.500000</td>\n      <td>41.500000</td>\n      <td>39.500000</td>\n      <td>NaN</td>\n      <td>NaN</td>\n      <td>NaN</td>\n      <td>NaN</td>\n      <td>10.138330</td>\n      <td>3.169981</td>\n      <td>15.09998</td>\n    </tr>\n    <tr>\n      <th>1</th>\n      <td>NaN</td>\n      <td>NaN</td>\n      <td>40.600000</td>\n      <td>19.000000</td>\n      <td>NaN</td>\n      <td>NaN</td>\n      <td>20.500000</td>\n      <td>39.500000</td>\n      <td>41.500000</td>\n      <td>39.500000</td>\n      <td>NaN</td>\n      <td>NaN</td>\n      <td>NaN</td>\n      <td>NaN</td>\n      <td>10.133340</td>\n      <td>3.269852</td>\n      <td>15.19985</td>\n    </tr>\n    <tr>\n      <th>2</th>\n      <td>NaN</td>\n      <td>NaN</td>\n      <td>40.500000</td>\n      <td>19.500000</td>\n      <td>NaN</td>\n      <td>NaN</td>\n      <td>20.500000</td>\n      <td>39.500000</td>\n      <td>41.500000</td>\n      <td>40.000000</td>\n      <td>NaN</td>\n      <td>NaN</td>\n      <td>NaN</td>\n      <td>NaN</td>\n      <td>10.125010</td>\n      <td>3.369500</td>\n      <td>15.29950</td>\n    </tr>\n    <tr>\n      <th>3</th>\n      <td>NaN</td>\n      <td>NaN</td>\n      <td>40.666667</td>\n      <td>19.666667</td>\n      <td>NaN</td>\n      <td>NaN</td>\n      <td>20.800000</td>\n      <td>40.600000</td>\n      <td>42.000000</td>\n      <td>40.000000</td>\n      <td>NaN</td>\n      <td>NaN</td>\n      <td>NaN</td>\n      <td>NaN</td>\n      <td>10.113370</td>\n      <td>3.468816</td>\n      <td>15.39882</td>\n    </tr>\n    <tr>\n      <th>4</th>\n      <td>NaN</td>\n      <td>NaN</td>\n      <td>40.666667</td>\n      <td>19.666667</td>\n      <td>NaN</td>\n      <td>NaN</td>\n      <td>21.400000</td>\n      <td>41.200000</td>\n      <td>42.200000</td>\n      <td>41.400000</td>\n      <td>NaN</td>\n      <td>NaN</td>\n      <td>NaN</td>\n      <td>NaN</td>\n      <td>10.098430</td>\n      <td>3.567688</td>\n      <td>15.49769</td>\n    </tr>\n    <tr>\n      <th>...</th>\n      <td>...</td>\n      <td>...</td>\n      <td>...</td>\n      <td>...</td>\n      <td>...</td>\n      <td>...</td>\n      <td>...</td>\n      <td>...</td>\n      <td>...</td>\n      <td>...</td>\n      <td>...</td>\n      <td>...</td>\n      <td>...</td>\n      <td>...</td>\n      <td>...</td>\n      <td>...</td>\n      <td>...</td>\n    </tr>\n    <tr>\n      <th>3036</th>\n      <td>5.333333</td>\n      <td>27.333333</td>\n      <td>41.800000</td>\n      <td>17.200000</td>\n      <td>2.666667</td>\n      <td>47.666667</td>\n      <td>24.333333</td>\n      <td>40.000000</td>\n      <td>42.750000</td>\n      <td>39.000000</td>\n      <td>NaN</td>\n      <td>NaN</td>\n      <td>49.5</td>\n      <td>55.0</td>\n      <td>9.429935</td>\n      <td>5.008091</td>\n      <td>16.93809</td>\n    </tr>\n    <tr>\n      <th>3037</th>\n      <td>5.500000</td>\n      <td>27.500000</td>\n      <td>41.500000</td>\n      <td>15.000000</td>\n      <td>3.000000</td>\n      <td>47.500000</td>\n      <td>24.666667</td>\n      <td>40.333333</td>\n      <td>42.333333</td>\n      <td>36.666667</td>\n      <td>NaN</td>\n      <td>NaN</td>\n      <td>49.5</td>\n      <td>55.0</td>\n      <td>9.364073</td>\n      <td>5.083331</td>\n      <td>17.01333</td>\n    </tr>\n    <tr>\n      <th>3038</th>\n      <td>6.500000</td>\n      <td>27.500000</td>\n      <td>41.500000</td>\n      <td>15.250000</td>\n      <td>3.000000</td>\n      <td>48.000000</td>\n      <td>24.666667</td>\n      <td>40.333333</td>\n      <td>44.000000</td>\n      <td>41.000000</td>\n      <td>NaN</td>\n      <td>NaN</td>\n      <td>49.5</td>\n      <td>55.0</td>\n      <td>9.295740</td>\n      <td>5.156333</td>\n      <td>17.08633</td>\n    </tr>\n    <tr>\n      <th>3039</th>\n      <td>6.666667</td>\n      <td>27.666667</td>\n      <td>41.750000</td>\n      <td>15.250000</td>\n      <td>4.400000</td>\n      <td>49.200000</td>\n      <td>25.500000</td>\n      <td>38.000000</td>\n      <td>42.666667</td>\n      <td>36.666667</td>\n      <td>NaN</td>\n      <td>NaN</td>\n      <td>49.5</td>\n      <td>55.0</td>\n      <td>9.225012</td>\n      <td>5.227018</td>\n      <td>17.15702</td>\n    </tr>\n    <tr>\n      <th>3040</th>\n      <td>6.500000</td>\n      <td>27.500000</td>\n      <td>42.400000</td>\n      <td>17.800000</td>\n      <td>4.500000</td>\n      <td>49.000000</td>\n      <td>25.500000</td>\n      <td>38.000000</td>\n      <td>43.750000</td>\n      <td>39.500000</td>\n      <td>NaN</td>\n      <td>NaN</td>\n      <td>49.5</td>\n      <td>55.0</td>\n      <td>8.963661</td>\n      <td>5.452070</td>\n      <td>17.38207</td>\n    </tr>\n  </tbody>\n</table>\n<p>3041 rows × 17 columns</p>\n</div>"
     },
     "execution_count": 68,
     "metadata": {},
     "output_type": "execute_result"
    }
   ],
   "source": [
    "combined_data = []\n",
    "# combine the two dataframes\n",
    "if red_ball_coordinates.shape[0] == xyz_coordinates.shape[0]:\n",
    "    combined_data = pd.concat([red_ball_coordinates, xyz_coordinates], axis=1)\n",
    "combined_data"
   ],
   "metadata": {
    "collapsed": false,
    "ExecuteTime": {
     "end_time": "2024-02-20T15:32:49.332364800Z",
     "start_time": "2024-02-20T15:32:49.124670400Z"
    }
   },
   "id": "4fa77d6fbb4c017f",
   "execution_count": 68
  },
  {
   "cell_type": "markdown",
   "source": [
    "### 3. Data Preprocessing"
   ],
   "metadata": {
    "collapsed": false
   },
   "id": "5f0927113e71fc78"
  },
  {
   "cell_type": "code",
   "outputs": [],
   "source": [
    "# split into features and target\n",
    "X = combined_data.iloc[:, :14]\n",
    "y = combined_data.iloc[:, 14:]"
   ],
   "metadata": {
    "collapsed": false,
    "ExecuteTime": {
     "end_time": "2024-02-20T15:32:49.428227500Z",
     "start_time": "2024-02-20T15:32:49.175516100Z"
    }
   },
   "id": "e0150d0e5e032a12",
   "execution_count": 69
  },
  {
   "cell_type": "code",
   "outputs": [],
   "source": [
    "from sklearn.impute import SimpleImputer\n",
    "# scale the features and the target\n",
    "from sklearn.preprocessing import StandardScaler\n",
    "scaler = StandardScaler()\n",
    "X_scaled = scaler.fit_transform(X)\n",
    "y_scaled = scaler.fit_transform(y)"
   ],
   "metadata": {
    "collapsed": false,
    "ExecuteTime": {
     "end_time": "2024-02-20T15:32:49.451789500Z",
     "start_time": "2024-02-20T15:32:49.204785600Z"
    }
   },
   "id": "f3178a8a726c046b",
   "execution_count": 70
  },
  {
   "cell_type": "markdown",
   "source": [
    "#### 3.1. Impute the NaN values with mean SimpleImputer"
   ],
   "metadata": {
    "collapsed": false
   },
   "id": "66f36d1a0e968ef8"
  },
  {
   "cell_type": "code",
   "outputs": [],
   "source": [
    "imputer = SimpleImputer(strategy='mean')\n",
    "X_imputed_mean = imputer.fit_transform(X_scaled)\n",
    "y_imputed_mean = imputer.fit_transform(y_scaled)"
   ],
   "metadata": {
    "collapsed": false,
    "ExecuteTime": {
     "end_time": "2024-02-20T15:32:49.496364400Z",
     "start_time": "2024-02-20T15:32:49.265552900Z"
    }
   },
   "id": "7824e788630367df",
   "execution_count": 71
  },
  {
   "cell_type": "markdown",
   "source": [
    "#### 3.2. Impute the NaN values with median SimpleImputer"
   ],
   "metadata": {
    "collapsed": false
   },
   "id": "2f4e1ccc52126ec7"
  },
  {
   "cell_type": "code",
   "outputs": [],
   "source": [
    "imputer = SimpleImputer(strategy='median')\n",
    "X_imputed_median = imputer.fit_transform(X_scaled)\n",
    "y_imputed_median = imputer.fit_transform(y_scaled)"
   ],
   "metadata": {
    "collapsed": false,
    "ExecuteTime": {
     "end_time": "2024-02-20T15:32:49.642058300Z",
     "start_time": "2024-02-20T15:32:49.471491300Z"
    }
   },
   "id": "aa8f9af7aa94412e",
   "execution_count": 72
  },
  {
   "cell_type": "markdown",
   "source": [
    "### 3.3. Impute the NaN values with KNNImputer"
   ],
   "metadata": {
    "collapsed": false
   },
   "id": "ca5af93324f77f4d"
  },
  {
   "cell_type": "code",
   "outputs": [],
   "source": [
    "from sklearn.impute import KNNImputer\n",
    "\n",
    "imputer = KNNImputer(n_neighbors=5)\n",
    "X_imputed = imputer.fit_transform(X)\n",
    "y_imputed = imputer.fit_transform(y)"
   ],
   "metadata": {
    "collapsed": false,
    "ExecuteTime": {
     "end_time": "2024-02-20T15:32:51.094969700Z",
     "start_time": "2024-02-20T15:32:49.581472900Z"
    }
   },
   "id": "56f0d35d1de26913",
   "execution_count": 73
  },
  {
   "cell_type": "markdown",
   "source": [
    "### 4. Gaussian Process Regression"
   ],
   "metadata": {
    "collapsed": false
   },
   "id": "398332ca552f241d"
  },
  {
   "cell_type": "code",
   "outputs": [],
   "source": [
    "kernel = 1.0 * RBF(length_scale=1.0)\n",
    "gp = GaussianProcessRegressor(kernel=kernel, optimizer='fmin_l_bfgs_b', n_restarts_optimizer=10)"
   ],
   "metadata": {
    "collapsed": false,
    "ExecuteTime": {
     "end_time": "2024-02-20T15:32:51.113068400Z",
     "start_time": "2024-02-20T15:32:51.099484900Z"
    }
   },
   "id": "ab9b8a5bdec155fd",
   "execution_count": 74
  },
  {
   "cell_type": "code",
   "outputs": [],
   "source": [
    "X_train, X_test, y_train, y_test = train_test_split(X_imputed_mean, y_imputed_mean, test_size=0.2, random_state=42)\n",
    "gp.fit(X_train, y_train)"
   ],
   "metadata": {
    "collapsed": false,
    "is_executing": true,
    "ExecuteTime": {
     "start_time": "2024-02-20T15:32:51.118795400Z"
    }
   },
   "id": "da8d80a3aeb3329e",
   "execution_count": null
  },
  {
   "cell_type": "code",
   "outputs": [],
   "source": [
    "# Make predictions on the test data\n",
    "y_pred, sigma = gp.predict(X_test, return_std=True)\n",
    " \n",
    "# Visualize the results\n",
    "x = np.linspace(0, 5, 1000)[:, np.newaxis]\n",
    "y_mean, y_cov = gp.predict(x, return_cov=True)\n",
    " \n",
    "plt.figure(figsize=(10, 5))\n",
    "plt.scatter(X_train, y_train, c='r', label='Training Data')\n",
    "plt.plot(x, y_mean, 'k', lw=2, zorder=9, label='Predicted Mean')\n",
    "plt.fill_between(x[:, 0], y_mean - 1.96 * np.sqrt(np.diag(y_cov)), y_mean + 1.96 *\n",
    "                 np.sqrt(np.diag(y_cov)), alpha=0.2, color='k', label='95% Confidence Interval')\n",
    "plt.xlabel('X')\n",
    "plt.ylabel('y')\n",
    "plt.legend()\n",
    "plt.show()"
   ],
   "metadata": {
    "collapsed": false
   },
   "id": "f140b59d4e538eb1"
  }
 ],
 "metadata": {
  "kernelspec": {
   "display_name": "Python 3",
   "language": "python",
   "name": "python3"
  },
  "language_info": {
   "codemirror_mode": {
    "name": "ipython",
    "version": 2
   },
   "file_extension": ".py",
   "mimetype": "text/x-python",
   "name": "python",
   "nbconvert_exporter": "python",
   "pygments_lexer": "ipython2",
   "version": "2.7.6"
  }
 },
 "nbformat": 4,
 "nbformat_minor": 5
}
