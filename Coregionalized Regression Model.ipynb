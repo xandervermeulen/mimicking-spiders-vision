{
 "cells": [
  {
   "cell_type": "code",
   "execution_count": 1,
   "metadata": {
    "collapsed": true,
    "pycharm": {
     "name": "#%%\n"
    }
   },
   "outputs": [],
   "source": [
    "import numpy as np\n",
    "from matplotlib import pyplot as plt\n",
    "import GPy"
   ]
  },
  {
   "cell_type": "code",
   "execution_count": 2,
   "outputs": [],
   "source": [
    "X = np.random.uniform(-3.,3.,(20,1))\n",
    "# add noise into Y\n",
    "Y = np.sin(X) + np.random.randn(20,1)*0.05"
   ],
   "metadata": {
    "collapsed": false,
    "pycharm": {
     "name": "#%%\n"
    }
   }
  },
  {
   "cell_type": "code",
   "execution_count": 3,
   "outputs": [],
   "source": [
    "plt.interactive(False)"
   ],
   "metadata": {
    "collapsed": false,
    "pycharm": {
     "name": "#%%\n"
    }
   }
  },
  {
   "cell_type": "code",
   "execution_count": 4,
   "outputs": [
    {
     "data": {
      "text/plain": "<GPy.models.gp_regression.GPRegression at 0x143170be0>",
      "text/html": "<style type=\"text/css\">\n.pd{\n    font-family: \"Courier New\", Courier, monospace !important;\n    width: 100%;\n    padding: 3px;\n}\n</style>\n\n<p class=pd>\n<b>Model</b>: GP regression<br>\n<b>Objective</b>: 22.99325404296656<br>\n<b>Number of Parameters</b>: 3<br>\n<b>Number of Optimization Parameters</b>: 3<br>\n<b>Updates</b>: True<br>\n</p>\n<style type=\"text/css\">\n.tg  {font-family:\"Courier New\", Courier, monospace !important;padding:2px 3px;word-break:normal;border-collapse:collapse;border-spacing:0;border-color:#DCDCDC;margin:0px auto;width:100%;}\n.tg td{font-family:\"Courier New\", Courier, monospace !important;font-weight:bold;color:#444;background-color:#F7FDFA;border-style:solid;border-width:1px;overflow:hidden;word-break:normal;border-color:#DCDCDC;}\n.tg th{font-family:\"Courier New\", Courier, monospace !important;font-weight:normal;color:#fff;background-color:#26ADE4;border-style:solid;border-width:1px;overflow:hidden;word-break:normal;border-color:#DCDCDC;}\n.tg .tg-left{font-family:\"Courier New\", Courier, monospace !important;font-weight:normal;text-align:left;}\n.tg .tg-center{font-family:\"Courier New\", Courier, monospace !important;font-weight:normal;text-align:center;}\n.tg .tg-right{font-family:\"Courier New\", Courier, monospace !important;font-weight:normal;text-align:right;}\n</style>\n<table class=\"tg\"><tr><th><b>  GP_regression.         </b></th><th><b>value</b></th><th><b>constraints</b></th><th><b>priors</b></th></tr>\n<tr><td class=tg-left>  rbf.variance           </td><td class=tg-right>  1.0</td><td class=tg-center>    +ve    </td><td class=tg-center>      </td></tr>\n<tr><td class=tg-left>  rbf.lengthscale        </td><td class=tg-right>  1.0</td><td class=tg-center>    +ve    </td><td class=tg-center>      </td></tr>\n<tr><td class=tg-left>  Gaussian_noise.variance</td><td class=tg-right>  1.0</td><td class=tg-center>    +ve    </td><td class=tg-center>      </td></tr>\n</table>"
     },
     "execution_count": 4,
     "metadata": {},
     "output_type": "execute_result"
    }
   ],
   "source": [
    "kernel = GPy.kern.RBF(input_dim=1, variance = 1., lengthscale= 1.)\n",
    "m = GPy.models.GPRegression(X, Y, kernel)\n",
    "m"
   ],
   "metadata": {
    "collapsed": false,
    "pycharm": {
     "name": "#%%\n"
    }
   }
  },
  {
   "cell_type": "code",
   "execution_count": 5,
   "outputs": [
    {
     "name": "stdout",
     "output_type": "stream",
     "text": [
      "Optimization restart 1/20, f = -13.284056477113314\n",
      "Optimization restart 2/20, f = -13.284056477109571\n",
      "Optimization restart 3/20, f = -13.284056477108134\n",
      "Optimization restart 4/20, f = -13.284056477021785\n",
      "Optimization restart 5/20, f = -13.284056477023412\n",
      "Optimization restart 6/20, f = -13.28405647668809\n",
      "Optimization restart 7/20, f = -13.284056477106205\n",
      "Optimization restart 8/20, f = -13.284056477104293\n",
      "Optimization restart 9/20, f = -13.28405647711826\n",
      "Optimization restart 10/20, f = -13.284056477110198\n",
      "Optimization restart 11/20, f = -13.284056477111559\n",
      "Optimization restart 12/20, f = -13.28405647680337\n",
      "Optimization restart 13/20, f = -13.284056476896048\n",
      "Optimization restart 14/20, f = -13.284056477096506\n",
      "Optimization restart 15/20, f = -13.284056477096797\n",
      "Optimization restart 16/20, f = -13.284056477078451\n",
      "Optimization restart 17/20, f = -13.284056476945917\n",
      "Optimization restart 18/20, f = -13.28405647711866\n",
      "Optimization restart 19/20, f = -13.284056477111573\n",
      "Optimization restart 20/20, f = -13.28405647710186\n"
     ]
    },
    {
     "data": {
      "text/plain": "[<paramz.optimization.optimization.opt_lbfgsb at 0x1431a9340>,\n <paramz.optimization.optimization.opt_lbfgsb at 0x10eedabe0>,\n <paramz.optimization.optimization.opt_lbfgsb at 0x142f8bb80>,\n <paramz.optimization.optimization.opt_lbfgsb at 0x1431a9a00>,\n <paramz.optimization.optimization.opt_lbfgsb at 0x14315e4c0>,\n <paramz.optimization.optimization.opt_lbfgsb at 0x12745fac0>,\n <paramz.optimization.optimization.opt_lbfgsb at 0x1431706d0>,\n <paramz.optimization.optimization.opt_lbfgsb at 0x143170b50>,\n <paramz.optimization.optimization.opt_lbfgsb at 0x10d7ba730>,\n <paramz.optimization.optimization.opt_lbfgsb at 0x143160190>,\n <paramz.optimization.optimization.opt_lbfgsb at 0x143160340>,\n <paramz.optimization.optimization.opt_lbfgsb at 0x10d7d27f0>,\n <paramz.optimization.optimization.opt_lbfgsb at 0x10d7d2250>,\n <paramz.optimization.optimization.opt_lbfgsb at 0x1431a79a0>,\n <paramz.optimization.optimization.opt_lbfgsb at 0x1431a7d90>,\n <paramz.optimization.optimization.opt_lbfgsb at 0x1431a7130>,\n <paramz.optimization.optimization.opt_lbfgsb at 0x1431a7730>,\n <paramz.optimization.optimization.opt_lbfgsb at 0x1431a77f0>,\n <paramz.optimization.optimization.opt_lbfgsb at 0x1431a72b0>,\n <paramz.optimization.optimization.opt_lbfgsb at 0x10d46d8b0>]"
     },
     "execution_count": 5,
     "metadata": {},
     "output_type": "execute_result"
    }
   ],
   "source": [
    "# the normal way\n",
    "# m.optimize(messages=True)\n",
    "# with restarts to get better results\n",
    "m.optimize_restarts(num_restarts = 20)"
   ],
   "metadata": {
    "collapsed": false,
    "pycharm": {
     "name": "#%%\n"
    }
   }
  },
  {
   "cell_type": "code",
   "execution_count": 37,
   "outputs": [
    {
     "data": {
      "text/plain": "{'covariance': [[<matplotlib.lines.Line2D at 0x14fd24e80>]]}"
     },
     "execution_count": 37,
     "metadata": {},
     "output_type": "execute_result"
    }
   ],
   "source": [
    "k1 = GPy.kern.RBF(1, 1., 2.)\n",
    "k2 = GPy.kern.Matern32(1, 0.5, 0.2)\n",
    "\n",
    "# product of kernels\n",
    "k_prod = k1 * k2\n",
    "k_prod.plot()\n",
    "\n",
    "# Sum of kernels\n",
    "k_add = k1 + k2\n",
    "k_add.plot()"
   ],
   "metadata": {
    "collapsed": false,
    "pycharm": {
     "name": "#%%\n"
    }
   }
  },
  {
   "cell_type": "code",
   "execution_count": 39,
   "outputs": [
    {
     "name": "stdout",
     "output_type": "stream",
     "text": [
      "  \u001B[1mrbf.       \u001B[0;0m  |  value  |  constraints  |  priors\n",
      "  \u001B[1mvariance   \u001B[0;0m  |    1.0  |      +ve      |        \n",
      "  \u001B[1mlengthscale\u001B[0;0m  |    2.0  |      +ve      |        \n"
     ]
    }
   ],
   "source": [
    "k_prod.rbf.variance = 12.\n",
    "print(k1)"
   ],
   "metadata": {
    "collapsed": false,
    "pycharm": {
     "name": "#%%\n"
    }
   }
  },
  {
   "cell_type": "code",
   "execution_count": 35,
   "outputs": [],
   "source": [],
   "metadata": {
    "collapsed": false,
    "pycharm": {
     "name": "#%%\n"
    }
   }
  }
 ],
 "metadata": {
  "kernelspec": {
   "display_name": "Python 3",
   "language": "python",
   "name": "python3"
  },
  "language_info": {
   "codemirror_mode": {
    "name": "ipython",
    "version": 2
   },
   "file_extension": ".py",
   "mimetype": "text/x-python",
   "name": "python",
   "nbconvert_exporter": "python",
   "pygments_lexer": "ipython2",
   "version": "2.7.6"
  }
 },
 "nbformat": 4,
 "nbformat_minor": 0
}