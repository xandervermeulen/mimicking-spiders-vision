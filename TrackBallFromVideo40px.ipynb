{
 "cells": [
  {
   "cell_type": "markdown",
   "source": [
    "### Ball tracking from 16px x 16px video"
   ],
   "metadata": {
    "collapsed": false
   },
   "id": "5bf75526367862b"
  },
  {
   "cell_type": "code",
   "execution_count": 50,
   "id": "initial_id",
   "metadata": {
    "collapsed": true,
    "ExecuteTime": {
     "end_time": "2024-02-09T15:01:37.795602800Z",
     "start_time": "2024-02-09T15:01:36.306660700Z"
    }
   },
   "outputs": [],
   "source": [
    "import cv2\n",
    "import glob\n",
    "\n",
    "recording_dir = 'recordings40px/'\n",
    "mp4_files = glob.glob(recording_dir + '*.mp4')\n",
    "\n",
    "\n",
    "cap = None\n",
    "if not mp4_files:\n",
    "    print('No mp4 files found')\n",
    "else:\n",
    "    first_file = mp4_files[0]\n",
    "    cap = cv2.VideoCapture(first_file)\n",
    "\n",
    "cap = cv2.VideoCapture(mp4_files[0])\n",
    "\n",
    "if not cap.isOpened():\n",
    "    print(\"Error opening video stream or file\")\n",
    "\n",
    "else:\n",
    "    while cap.isOpened():\n",
    "        ret, frame = cap.read()\n",
    "        if not ret:\n",
    "            break\n",
    "        cv2.imshow('Frame', frame)\n",
    "        if cv2.waitKey(30) & 0xFF == 27:  # Press 'Esc' to exit\n",
    "            break\n",
    "            \n",
    "cap.release()\n",
    "cv2.destroyAllWindows()"
   ]
  },
  {
   "cell_type": "markdown",
   "source": [
    "### Detect the red ball in the video and add black background"
   ],
   "metadata": {
    "collapsed": false
   },
   "id": "807ca072c64a1f03"
  },
  {
   "cell_type": "code",
   "outputs": [],
   "source": [
    "import numpy as np\n",
    "\n",
    "cap = cv2.VideoCapture(mp4_files[0])\n",
    "\n",
    "detected_ball = None\n",
    "last_frame = None\n",
    "lower_red = np.array([0, 0, 100], dtype=np.uint8)\n",
    "upper_red = np.array([75, 75, 255], dtype=np.uint8)\n",
    "\n",
    "\n",
    "while cap.isOpened():\n",
    "    # Read a frame from the video\n",
    "    ret, frame = cap.read()\n",
    "\n",
    "    # Check if the frame was read successfully\n",
    "    if not ret:\n",
    "        break\n",
    "    # Create a mask to isolate the red color\n",
    "    mask = cv2.inRange(frame, lower_red, upper_red)\n",
    "    # Apply the mask to the frame to detect the red color\n",
    "    detected_ball = cv2.bitwise_and(frame, frame, mask=mask)\n",
    "    #   cv2.imshow('Current Frame', frame)\n",
    "    cv2.imshow('Detected Ball', detected_ball)\n",
    "    last_frame = frame\n",
    "    if cv2.waitKey(25) & 0xFF == ord('q'): # Press q to exit\n",
    "        break\n",
    "\n",
    "cap.release()\n",
    "cv2.destroyAllWindows()"
   ],
   "metadata": {
    "collapsed": false,
    "ExecuteTime": {
     "end_time": "2024-02-09T15:01:38.745484800Z",
     "start_time": "2024-02-09T15:01:37.795602800Z"
    }
   },
   "id": "6ff7b9add6d910c8",
   "execution_count": 51
  },
  {
   "cell_type": "markdown",
   "source": [
    "### Get and plot coordinates of the detected red ball"
   ],
   "metadata": {
    "collapsed": false
   },
   "id": "6783d81301076352"
  },
  {
   "cell_type": "code",
   "outputs": [],
   "source": [
    "# get all the coordinates of the pixels that are between the lower and upper red\n",
    "red_coordinates = np.column_stack(np.where((last_frame[:, :, 0] >= lower_red[0]) & (last_frame[:, :, 0] <= upper_red[0]) &\n",
    "    (last_frame[:, :, 1] >= lower_red[1]) & (last_frame[:, :, 1] <= upper_red[1]) &\n",
    "    (last_frame[:, :, 2] >= lower_red[2]) & (last_frame[:, :, 2] <= upper_red[2])\n",
    "))\n",
    "# invert the y-axis so that the origin is at the bottom left\n",
    "red_coordinates[:, 0] = last_frame.shape[0] - red_coordinates[:, 0]"
   ],
   "metadata": {
    "collapsed": false,
    "ExecuteTime": {
     "end_time": "2024-02-09T15:01:38.746485800Z",
     "start_time": "2024-02-09T15:01:38.727775500Z"
    }
   },
   "id": "360c2f6e76ea11a7",
   "execution_count": 52
  },
  {
   "cell_type": "code",
   "outputs": [
    {
     "data": {
      "text/plain": "<Figure size 640x480 with 1 Axes>",
      "image/png": "[encoded data removed]"
     },
     "metadata": {},
     "output_type": "display_data"
    }
   ],
   "source": [
    "import matplotlib.pyplot as plt\n",
    "# Calculate the size of each pixel in your plot\n",
    "pixel_size = 40  # Adjust this value as needed\n",
    "\n",
    "# Scatter plot with marker size equal to the pixel size\n",
    "plt.scatter(red_coordinates[:, 1], red_coordinates[:, 0], c='red', marker='s', s=pixel_size)\n",
    "\n",
    "plt.title('Red Ball Coordinates')\n",
    "plt.xlabel('X Coordinates')\n",
    "plt.ylabel('Y Coordinates')\n",
    "plt.xlim(0, 40)\n",
    "plt.ylim(0, 40)\n",
    "plt.show()"
   ],
   "metadata": {
    "collapsed": false,
    "ExecuteTime": {
     "end_time": "2024-02-09T15:01:38.921989500Z",
     "start_time": "2024-02-09T15:01:38.731812200Z"
    }
   },
   "id": "910594dc93baa3ca",
   "execution_count": 53
  },
  {
   "cell_type": "code",
   "outputs": [
    {
     "data": {
      "text/plain": "(5.818181818181818, 12.181818181818182)"
     },
     "execution_count": 54,
     "metadata": {},
     "output_type": "execute_result"
    }
   ],
   "source": [
    "# calculate the mean of the x and y coordinates\n",
    "mean_x = np.mean(red_coordinates[:, 1])\n",
    "mean_y = np.mean(red_coordinates[:, 0])\n",
    "mean_x, mean_y"
   ],
   "metadata": {
    "collapsed": false,
    "ExecuteTime": {
     "end_time": "2024-02-09T15:01:38.930089800Z",
     "start_time": "2024-02-09T15:01:38.925652200Z"
    }
   },
   "id": "5b82311e3e55405a",
   "execution_count": 54
  },
  {
   "cell_type": "markdown",
   "source": [
    "#### Calculate the middle point of the detected red ball"
   ],
   "metadata": {
    "collapsed": false
   },
   "id": "b96415b714d4e8e5"
  },
  {
   "cell_type": "code",
   "outputs": [],
   "source": [
    "from test import calculate_middle_points_of_ball\n",
    "\n",
    "cap = cv2.VideoCapture(mp4_files[0])\n",
    "lower_red = np.array([0, 0, 100], dtype=np.uint8)\n",
    "upper_red = np.array([75, 75, 255], dtype=np.uint8)\n",
    "mean_x, mean_y = calculate_middle_points_of_ball(cap, lower_red, upper_red)\n",
    "red_coordinates = None\n"
   ],
   "metadata": {
    "collapsed": false,
    "ExecuteTime": {
     "end_time": "2024-02-09T15:01:38.974979700Z",
     "start_time": "2024-02-09T15:01:38.929079900Z"
    }
   },
   "id": "133221908a041ea1",
   "execution_count": 55
  },
  {
   "cell_type": "markdown",
   "source": [
    "#### Show the trajectory of the detected red ball"
   ],
   "metadata": {
    "collapsed": false
   },
   "id": "38a19b676271cdbe"
  },
  {
   "cell_type": "code",
   "outputs": [
    {
     "data": {
      "text/plain": "<Figure size 640x480 with 1 Axes>",
      "image/png": "[encoded data removed]"
     },
     "metadata": {},
     "output_type": "display_data"
    }
   ],
   "source": [
    "from plot_maker import create_plot_of_trajectory\n",
    "\n",
    "create_plot_of_trajectory(mean_x, mean_y, 40)"
   ],
   "metadata": {
    "collapsed": false,
    "ExecuteTime": {
     "end_time": "2024-02-09T15:01:39.086534700Z",
     "start_time": "2024-02-09T15:01:38.964990500Z"
    }
   },
   "id": "65bb837481999c62",
   "execution_count": 56
  }
 ],
 "metadata": {
  "kernelspec": {
   "display_name": "Python 3",
   "language": "python",
   "name": "python3"
  },
  "language_info": {
   "codemirror_mode": {
    "name": "ipython",
    "version": 2
   },
   "file_extension": ".py",
   "mimetype": "text/x-python",
   "name": "python",
   "nbconvert_exporter": "python",
   "pygments_lexer": "ipython2",
   "version": "2.7.6"
  }
 },
 "nbformat": 4,
 "nbformat_minor": 5
}
