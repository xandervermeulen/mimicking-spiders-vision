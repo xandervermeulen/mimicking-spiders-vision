{
 "cells": [
  {
   "cell_type": "code",
   "execution_count": 1,
   "metadata": {
    "collapsed": true,
    "pycharm": {
     "name": "#%%\n"
    },
    "ExecuteTime": {
     "end_time": "2024-02-27T15:38:55.496953Z",
     "start_time": "2024-02-27T15:38:55.255584900Z"
    }
   },
   "outputs": [],
   "source": [
    "import glob\n",
    "import pandas as pd"
   ]
  },
  {
   "cell_type": "code",
   "outputs": [
    {
     "data": {
      "text/plain": "(12, 12)"
     },
     "execution_count": 2,
     "metadata": {},
     "output_type": "execute_result"
    }
   ],
   "source": [
    "red_ball = glob.glob('../data/red_ball_coordinates_128px_*.csv')\n",
    "positions = glob.glob('../data/positions_xyz_128px_*.csv')+glob.glob('../data/positions_xyz_2024*.csv')\n",
    "\n",
    "len(red_ball), len(positions)"
   ],
   "metadata": {
    "collapsed": false,
    "ExecuteTime": {
     "end_time": "2024-02-27T15:38:55.512017200Z",
     "start_time": "2024-02-27T15:38:55.501209700Z"
    }
   },
   "execution_count": 2
  },
  {
   "cell_type": "code",
   "outputs": [],
   "source": [
    "x = 0\n",
    "for file in red_ball:\n",
    "    rb = pd.read_csv(file, delimiter=\",\", decimal=\".\", header=0)\n",
    "    rb.to_csv('../data/red_ball_coordinates_128px_full.csv', mode='a', index=False, header=False)\n",
    "    xyz = pd.read_csv(positions[x], delimiter=\",\", decimal=\".\", header=0).iloc[4:]\n",
    "    xyz.to_csv('../data/positions_xyz_128px_full.csv', mode='a', index=False, header=False)\n",
    "    x += 1\n"
   ],
   "metadata": {
    "collapsed": false,
    "ExecuteTime": {
     "end_time": "2024-02-27T15:38:55.747088500Z",
     "start_time": "2024-02-27T15:38:55.514107100Z"
    }
   },
   "execution_count": 3
  }
 ],
 "metadata": {
  "kernelspec": {
   "display_name": "Python 3",
   "language": "python",
   "name": "python3"
  },
  "language_info": {
   "codemirror_mode": {
    "name": "ipython",
    "version": 2
   },
   "file_extension": ".py",
   "mimetype": "text/x-python",
   "name": "python",
   "nbconvert_exporter": "python",
   "pygments_lexer": "ipython2",
   "version": "2.7.6"
  }
 },
 "nbformat": 4,
 "nbformat_minor": 0
}
