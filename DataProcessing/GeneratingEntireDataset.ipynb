{
 "cells": [
  {
   "cell_type": "code",
   "execution_count": 18,
   "metadata": {
    "collapsed": true,
    "pycharm": {
     "name": "#%%\n"
    },
    "ExecuteTime": {
     "end_time": "2024-03-01T16:04:34.026734700Z",
     "start_time": "2024-03-01T16:04:34.003921500Z"
    }
   },
   "outputs": [],
   "source": [
    "import glob\n",
    "import pandas as pd"
   ]
  },
  {
   "cell_type": "code",
   "outputs": [
    {
     "data": {
      "text/plain": "(15, 15)"
     },
     "execution_count": 19,
     "metadata": {},
     "output_type": "execute_result"
    }
   ],
   "source": [
    "red_ball = glob.glob('../interpolated-data/red_ball_coordinates_128px_*.csv')\n",
    "positions = glob.glob('../interpolated-data/positions_xyz_128px_*.csv')+glob.glob('../interpolated-data/positions_xyz_2024*.csv')\n",
    "\n",
    "len(red_ball), len(positions)"
   ],
   "metadata": {
    "collapsed": false,
    "ExecuteTime": {
     "end_time": "2024-03-01T16:04:34.063390500Z",
     "start_time": "2024-03-01T16:04:34.027861400Z"
    }
   },
   "execution_count": 19
  },
  {
   "cell_type": "code",
   "outputs": [],
   "source": [
    "x = 0\n",
    "for file in red_ball:\n",
    "    rb = pd.read_csv(file, delimiter=\",\", decimal=\".\", header=0)\n",
    "    # the columns of the rb are u0, v0, u1, v1, u2, v2, u3, v3, u4, v4, u5, v5, u6, v6\n",
    "    rb.to_csv('../interpolated-data/red_ball_coordinates_128px_full.csv', mode='a', index=False, header=False, columns=['u0', 'v0', 'u1', 'v1', 'u2', 'v2', 'u3', 'v3', 'u4', 'v4', 'u5', 'v5', 'u6', 'v6'])\n",
    "    xyz = pd.read_csv(positions[x], delimiter=\",\", decimal=\".\", header=0).iloc[4:]\n",
    "    xyz.to_csv('../interpolated-data/positions_xyz_128px_full.csv', mode='a', index=False, header=False, columns=['x', 'y', 'z'])\n",
    "    x += 1\n"
   ],
   "metadata": {
    "collapsed": false,
    "ExecuteTime": {
     "end_time": "2024-03-01T16:04:34.933995200Z",
     "start_time": "2024-03-01T16:04:34.066673100Z"
    }
   },
   "execution_count": 20
  }
 ],
 "metadata": {
  "kernelspec": {
   "display_name": "Python 3",
   "language": "python",
   "name": "python3"
  },
  "language_info": {
   "codemirror_mode": {
    "name": "ipython",
    "version": 2
   },
   "file_extension": ".py",
   "mimetype": "text/x-python",
   "name": "python",
   "nbconvert_exporter": "python",
   "pygments_lexer": "ipython2",
   "version": "2.7.6"
  }
 },
 "nbformat": 4,
 "nbformat_minor": 0
}
