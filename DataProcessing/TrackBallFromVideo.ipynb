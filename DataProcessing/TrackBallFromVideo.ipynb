{
 "cells": [
  {
   "cell_type": "markdown",
   "source": [
    "# Ball Tracking\n",
    "In this notebook you can see how we track the red ball in the video files. To get the coordinates of the red ball in the video files, we use the OpenCV library. This notebook is only for the visualization of the trajectories of the recordings. "
   ],
   "metadata": {
    "collapsed": false
   },
   "id": "f2d1241641de88fc"
  },
  {
   "cell_type": "code",
   "execution_count": 1,
   "id": "cc6500b8d577e65c",
   "metadata": {
    "collapsed": false,
    "ExecuteTime": {
     "end_time": "2024-03-26T15:11:34.437790Z",
     "start_time": "2024-03-26T15:11:33.463287Z"
    }
   },
   "outputs": [],
   "source": [
    "import cv2\n",
    "import glob\n",
    "\n",
    "import pandas as pd"
   ]
  },
  {
   "cell_type": "markdown",
   "source": [
    "Give the directory of the recordings and the pixel size of the recordings."
   ],
   "metadata": {
    "collapsed": false
   },
   "id": "ac621f53f541b40b"
  },
  {
   "cell_type": "code",
   "outputs": [],
   "source": [
    "recording_dir = '../data-9-cams/Recordings_2024-03-19_15h25m/'\n",
    "px_size = 128"
   ],
   "metadata": {
    "collapsed": false,
    "pycharm": {
     "name": "#%%\n"
    },
    "ExecuteTime": {
     "end_time": "2024-03-26T15:11:34.453793Z",
     "start_time": "2024-03-26T15:11:34.439775Z"
    }
   },
   "id": "5cd3df415611ddc3",
   "execution_count": 2
  },
  {
   "cell_type": "code",
   "outputs": [],
   "source": [
    "\n",
    "mp4_files = glob.glob(recording_dir + '*.mp4')\n",
    "cap = None\n",
    "if not mp4_files:\n",
    "    print('No mp4 files found')\n",
    "else:\n",
    "    first_file = mp4_files[0]\n",
    "    cap = cv2.VideoCapture(first_file)\n",
    "\n",
    "if not cap.isOpened():\n",
    "    print(\"Error opening video stream or file\")\n",
    "\n",
    "else:\n",
    "    while cap.isOpened():\n",
    "        ret, frame = cap.read()\n",
    "        if not ret:\n",
    "            break\n",
    "        cv2.imshow('Frame', frame)\n",
    "        if cv2.waitKey(25) & 0xFF == ord('q'): # Press q to exit\n",
    "            break\n",
    "            \n",
    "cap.release()\n",
    "cv2.destroyAllWindows()"
   ],
   "metadata": {
    "collapsed": true,
    "pycharm": {
     "name": "#%%\n"
    },
    "ExecuteTime": {
     "end_time": "2024-03-26T15:11:37.940497Z",
     "start_time": "2024-03-26T15:11:34.454778Z"
    }
   },
   "id": "initial_id",
   "execution_count": 3
  },
  {
   "cell_type": "markdown",
   "source": [
    "#### Detect the red ball and show"
   ],
   "metadata": {
    "collapsed": false
   },
   "id": "7f0f3b86158cdaaa"
  },
  {
   "cell_type": "code",
   "outputs": [],
   "source": [
    "import numpy as np\n",
    "\n",
    "cap = cv2.VideoCapture(mp4_files[0])\n",
    "\n",
    "detected_ball = None\n",
    "last_frame = None\n",
    "lower_red = np.array([0, 0, 100], dtype=np.uint8)\n",
    "upper_red = np.array([75, 75, 255], dtype=np.uint8)\n",
    "\n",
    "\n",
    "while cap.isOpened():\n",
    "    # Read a frame from the video\n",
    "    ret, frame = cap.read()\n",
    "\n",
    "    # Check if the frame was read successfully\n",
    "    if not ret:\n",
    "        break\n",
    "    # Create a mask to isolate the red color\n",
    "    mask = cv2.inRange(frame, lower_red, upper_red)\n",
    "    # Apply the mask to the frame to detect the red color\n",
    "    detected_ball = cv2.bitwise_and(frame, frame, mask=mask)\n",
    "    #   cv2.imshow('Current Frame', frame)\n",
    "    cv2.imshow('Detected Ball', detected_ball)\n",
    "    last_frame = frame\n",
    "    if cv2.waitKey(25) & 0xFF == ord('q'): # Press q to exit\n",
    "        break\n",
    "\n",
    "cap.release()\n",
    "cv2.destroyAllWindows()"
   ],
   "metadata": {
    "collapsed": false,
    "ExecuteTime": {
     "end_time": "2024-03-26T15:11:39.252258Z",
     "start_time": "2024-03-26T15:11:37.941497Z"
    }
   },
   "id": "3400c8c842f945a0",
   "execution_count": 4
  },
  {
   "cell_type": "code",
   "outputs": [],
   "source": [
    "import cv2\n",
    "import numpy as np\n",
    "\n",
    "cap = cv2.VideoCapture(mp4_files[0])\n",
    "\n",
    "detected_ball = None\n",
    "last_frame = None\n",
    "lower_red = np.array([0, 0, 100], dtype=np.uint8)\n",
    "upper_red = np.array([75, 75, 255], dtype=np.uint8)\n",
    "\n",
    "frame_count = 0\n",
    "\n",
    "while cap.isOpened():\n",
    "    # Read a frame from the video\n",
    "    ret, frame = cap.read()\n",
    "\n",
    "    # Check if the frame was read successfully\n",
    "    if not ret:\n",
    "        break\n",
    "    \n",
    "    frame_count += 1\n",
    "    \n",
    "    # Save the first frame with detected ball\n",
    "    if frame_count == 1:\n",
    "        # save the frame\n",
    "        cv2.imwrite('first_frame.png', frame)\n",
    "        mask = cv2.inRange(frame, lower_red, upper_red)\n",
    "        detected_ball = cv2.bitwise_and(frame, frame, mask=mask)\n",
    "        cv2.imwrite('first_frame_with_detected_ball.png', detected_ball)\n",
    "\n",
    "    # Create a mask to isolate the red color\n",
    "    mask = cv2.inRange(frame, lower_red, upper_red)\n",
    "    # Apply the mask to the frame to detect the red color\n",
    "    detected_ball = cv2.bitwise_and(frame, frame, mask=mask)\n",
    "    #   cv2.imshow('Current Frame', frame)\n",
    "    cv2.imshow('Detected Ball', detected_ball)\n",
    "    last_frame = frame\n",
    "    if cv2.waitKey(25) & 0xFF == ord('q'): # Press q to exit\n",
    "        break\n",
    "\n",
    "cap.release()\n",
    "cv2.destroyAllWindows()\n"
   ],
   "metadata": {
    "collapsed": false,
    "ExecuteTime": {
     "end_time": "2024-03-26T15:11:40.735729Z",
     "start_time": "2024-03-26T15:11:39.254259Z"
    }
   },
   "id": "50cc967c75e6e06f",
   "execution_count": 5
  },
  {
   "cell_type": "markdown",
   "source": [
    "#### Show the amount of frames in the video"
   ],
   "metadata": {
    "collapsed": false
   },
   "id": "555ec0ef32e8604c"
  },
  {
   "cell_type": "code",
   "outputs": [],
   "source": [
    "def video_to_frame(video_file):\n",
    "    cap = cv2.VideoCapture(video_file)\n",
    "    length = int(cap.get(cv2.CAP_PROP_FRAME_COUNT))\n",
    "    print(f'Number of frames in the video: {length}')\n",
    "    cap.release()\n",
    "    cv2.destroyAllWindows()\n",
    "    # get all the coordinates of the pixels that are between the lower and upper red\n",
    "\n",
    "\n",
    "    red_coordinates_f = np.column_stack(\n",
    "        np.where((last_frame[:, :, 0] >= lower_red[0]) & (last_frame[:, :, 0] <= upper_red[0]) &\n",
    "                 (last_frame[:, :, 1] >= lower_red[1]) & (last_frame[:, :, 1] <= upper_red[1]) &\n",
    "                 (last_frame[:, :, 2] >= lower_red[2]) & (last_frame[:, :, 2] <= upper_red[2])\n",
    "                 ))\n",
    "    # invert the y-axis so that the origin is at the bottom left\n",
    "    red_coordinates_f[:, 0] = last_frame.shape[0] - red_coordinates_f[:, 0]\n",
    "    from matplotlib import pyplot as plt\n",
    "    \n",
    "    plt.scatter(red_coordinates_f[:, 1], red_coordinates_f[:, 0], c='red', marker='.')\n",
    "    plt.title('Red Ball Coordinates')\n",
    "    plt.xlabel('X Coordinates')\n",
    "    plt.ylabel('Y Coordinates')\n",
    "    plt.xlim(0, px_size)\n",
    "    plt.ylim(0, px_size)\n",
    "    plt.grid(True)\n",
    "    plt.show()"
   ],
   "metadata": {
    "collapsed": false,
    "ExecuteTime": {
     "end_time": "2024-03-26T15:12:06.633421Z",
     "start_time": "2024-03-26T15:12:06.619420Z"
    }
   },
   "id": "4aea03354c6c625c",
   "execution_count": 7
  },
  {
   "cell_type": "code",
   "outputs": [
    {
     "name": "stdout",
     "output_type": "stream",
     "text": [
      "Number of frames in the video: 813\n"
     ]
    },
    {
     "data": {
      "text/plain": "<Figure size 640x480 with 1 Axes>",
      "image/png": "[encoded data removed]"
     },
     "metadata": {},
     "output_type": "display_data"
    }
   ],
   "source": [
    "video_to_frame(mp4_files[0])"
   ],
   "metadata": {
    "collapsed": false,
    "ExecuteTime": {
     "end_time": "2024-03-26T15:12:07.202003Z",
     "start_time": "2024-03-26T15:12:06.634420Z"
    }
   },
   "id": "b1aad503fba09440",
   "execution_count": 8
  },
  {
   "cell_type": "markdown",
   "source": [
    "#### Get and Show the coordinates of the red ball in one frame"
   ],
   "metadata": {
    "collapsed": false
   },
   "id": "cffc73065f7ade33"
  },
  {
   "cell_type": "code",
   "outputs": [],
   "source": [
    "# get all the coordinates of the pixels that are between the lower and upper red\n",
    "red_coordinates = np.column_stack(np.where((last_frame[:, :, 0] >= lower_red[0]) & (last_frame[:, :, 0] <= upper_red[0]) &\n",
    "    (last_frame[:, :, 1] >= lower_red[1]) & (last_frame[:, :, 1] <= upper_red[1]) &\n",
    "    (last_frame[:, :, 2] >= lower_red[2]) & (last_frame[:, :, 2] <= upper_red[2])\n",
    "))\n",
    "# invert the y-axis so that the origin is at the bottom left\n",
    "red_coordinates[:, 0] = last_frame.shape[0] - red_coordinates[:, 0]\n"
   ],
   "metadata": {
    "collapsed": false,
    "ExecuteTime": {
     "end_time": "2024-03-26T15:12:07.217530Z",
     "start_time": "2024-03-26T15:12:07.203003Z"
    }
   },
   "id": "c3585fcfd2008b38",
   "execution_count": 9
  },
  {
   "cell_type": "code",
   "outputs": [],
   "source": [
    "import pandas as pd"
   ],
   "metadata": {
    "collapsed": false,
    "ExecuteTime": {
     "end_time": "2024-03-27T01:04:42.210948Z",
     "start_time": "2024-03-27T01:04:41.158180Z"
    }
   },
   "id": "fa9e4231e995a0ec",
   "execution_count": 2
  },
  {
   "cell_type": "code",
   "outputs": [
    {
     "data": {
      "text/plain": "    X   Y\n0  24  60\n1  25  60\n2  26  60\n3  27  60\n4  24  59\n5  25  59\n6  26  59\n7  27  59\n8  26  58\n9  26  57",
      "text/html": "<div>\n<style scoped>\n    .dataframe tbody tr th:only-of-type {\n        vertical-align: middle;\n    }\n\n    .dataframe tbody tr th {\n        vertical-align: top;\n    }\n\n    .dataframe thead th {\n        text-align: right;\n    }\n</style>\n<table border=\"1\" class=\"dataframe\">\n  <thead>\n    <tr style=\"text-align: right;\">\n      <th></th>\n      <th>X</th>\n      <th>Y</th>\n    </tr>\n  </thead>\n  <tbody>\n    <tr>\n      <th>0</th>\n      <td>24</td>\n      <td>60</td>\n    </tr>\n    <tr>\n      <th>1</th>\n      <td>25</td>\n      <td>60</td>\n    </tr>\n    <tr>\n      <th>2</th>\n      <td>26</td>\n      <td>60</td>\n    </tr>\n    <tr>\n      <th>3</th>\n      <td>27</td>\n      <td>60</td>\n    </tr>\n    <tr>\n      <th>4</th>\n      <td>24</td>\n      <td>59</td>\n    </tr>\n    <tr>\n      <th>5</th>\n      <td>25</td>\n      <td>59</td>\n    </tr>\n    <tr>\n      <th>6</th>\n      <td>26</td>\n      <td>59</td>\n    </tr>\n    <tr>\n      <th>7</th>\n      <td>27</td>\n      <td>59</td>\n    </tr>\n    <tr>\n      <th>8</th>\n      <td>26</td>\n      <td>58</td>\n    </tr>\n    <tr>\n      <th>9</th>\n      <td>26</td>\n      <td>57</td>\n    </tr>\n  </tbody>\n</table>\n</div>"
     },
     "execution_count": 6,
     "metadata": {},
     "output_type": "execute_result"
    }
   ],
   "source": [
    "#red_coordinates = pd.DataFrame(red_coordinates, columns=['Y', 'X'])\n",
    "red_coordinates = pd.DataFrame([[24,60], [25,60], [26, 60], [27,60], [24,59], [25,59], [26,59], [27, 59], [26, 58], [26, 57]], columns=['X', 'Y'])\n",
    "# give the datasets first column the name 'X-coordinaat' and the second column the name 'Y-coordinaat'\n",
    "red_coordinates"
   ],
   "metadata": {
    "collapsed": false,
    "ExecuteTime": {
     "end_time": "2024-03-27T01:06:15.037160Z",
     "start_time": "2024-03-27T01:06:15.015169Z"
    }
   },
   "id": "a2f0da0dacb928da",
   "execution_count": 6
  },
  {
   "cell_type": "code",
   "outputs": [
    {
     "ename": "InvalidIndexError",
     "evalue": "(slice(None, None, None), 1)",
     "output_type": "error",
     "traceback": [
      "\u001B[1;31m---------------------------------------------------------------------------\u001B[0m",
      "\u001B[1;31mTypeError\u001B[0m                                 Traceback (most recent call last)",
      "File \u001B[1;32m~\\venv\\lib\\site-packages\\pandas\\core\\indexes\\base.py:3790\u001B[0m, in \u001B[0;36mIndex.get_loc\u001B[1;34m(self, key)\u001B[0m\n\u001B[0;32m   3789\u001B[0m \u001B[38;5;28;01mtry\u001B[39;00m:\n\u001B[1;32m-> 3790\u001B[0m     \u001B[38;5;28;01mreturn\u001B[39;00m \u001B[38;5;28;43mself\u001B[39;49m\u001B[38;5;241;43m.\u001B[39;49m\u001B[43m_engine\u001B[49m\u001B[38;5;241;43m.\u001B[39;49m\u001B[43mget_loc\u001B[49m\u001B[43m(\u001B[49m\u001B[43mcasted_key\u001B[49m\u001B[43m)\u001B[49m\n\u001B[0;32m   3791\u001B[0m \u001B[38;5;28;01mexcept\u001B[39;00m \u001B[38;5;167;01mKeyError\u001B[39;00m \u001B[38;5;28;01mas\u001B[39;00m err:\n",
      "File \u001B[1;32mindex.pyx:152\u001B[0m, in \u001B[0;36mpandas._libs.index.IndexEngine.get_loc\u001B[1;34m()\u001B[0m\n",
      "File \u001B[1;32mindex.pyx:158\u001B[0m, in \u001B[0;36mpandas._libs.index.IndexEngine.get_loc\u001B[1;34m()\u001B[0m\n",
      "\u001B[1;31mTypeError\u001B[0m: '(slice(None, None, None), 1)' is an invalid key",
      "\nDuring handling of the above exception, another exception occurred:\n",
      "\u001B[1;31mInvalidIndexError\u001B[0m                         Traceback (most recent call last)",
      "Cell \u001B[1;32mIn[11], line 2\u001B[0m\n\u001B[0;32m      1\u001B[0m \u001B[38;5;66;03m# calculate the mean of the x and y coordinates\u001B[39;00m\n\u001B[1;32m----> 2\u001B[0m mean_x \u001B[38;5;241m=\u001B[39m np\u001B[38;5;241m.\u001B[39mmedian(\u001B[43mred_coordinates\u001B[49m\u001B[43m[\u001B[49m\u001B[43m:\u001B[49m\u001B[43m,\u001B[49m\u001B[43m \u001B[49m\u001B[38;5;241;43m1\u001B[39;49m\u001B[43m]\u001B[49m)\n\u001B[0;32m      3\u001B[0m mean_y \u001B[38;5;241m=\u001B[39m np\u001B[38;5;241m.\u001B[39mmedian(red_coordinates[:, \u001B[38;5;241m0\u001B[39m])\n\u001B[0;32m      4\u001B[0m mean_x, mean_y\n",
      "File \u001B[1;32m~\\venv\\lib\\site-packages\\pandas\\core\\frame.py:3893\u001B[0m, in \u001B[0;36mDataFrame.__getitem__\u001B[1;34m(self, key)\u001B[0m\n\u001B[0;32m   3891\u001B[0m \u001B[38;5;28;01mif\u001B[39;00m \u001B[38;5;28mself\u001B[39m\u001B[38;5;241m.\u001B[39mcolumns\u001B[38;5;241m.\u001B[39mnlevels \u001B[38;5;241m>\u001B[39m \u001B[38;5;241m1\u001B[39m:\n\u001B[0;32m   3892\u001B[0m     \u001B[38;5;28;01mreturn\u001B[39;00m \u001B[38;5;28mself\u001B[39m\u001B[38;5;241m.\u001B[39m_getitem_multilevel(key)\n\u001B[1;32m-> 3893\u001B[0m indexer \u001B[38;5;241m=\u001B[39m \u001B[38;5;28;43mself\u001B[39;49m\u001B[38;5;241;43m.\u001B[39;49m\u001B[43mcolumns\u001B[49m\u001B[38;5;241;43m.\u001B[39;49m\u001B[43mget_loc\u001B[49m\u001B[43m(\u001B[49m\u001B[43mkey\u001B[49m\u001B[43m)\u001B[49m\n\u001B[0;32m   3894\u001B[0m \u001B[38;5;28;01mif\u001B[39;00m is_integer(indexer):\n\u001B[0;32m   3895\u001B[0m     indexer \u001B[38;5;241m=\u001B[39m [indexer]\n",
      "File \u001B[1;32m~\\venv\\lib\\site-packages\\pandas\\core\\indexes\\base.py:3802\u001B[0m, in \u001B[0;36mIndex.get_loc\u001B[1;34m(self, key)\u001B[0m\n\u001B[0;32m   3797\u001B[0m     \u001B[38;5;28;01mraise\u001B[39;00m \u001B[38;5;167;01mKeyError\u001B[39;00m(key) \u001B[38;5;28;01mfrom\u001B[39;00m \u001B[38;5;21;01merr\u001B[39;00m\n\u001B[0;32m   3798\u001B[0m \u001B[38;5;28;01mexcept\u001B[39;00m \u001B[38;5;167;01mTypeError\u001B[39;00m:\n\u001B[0;32m   3799\u001B[0m     \u001B[38;5;66;03m# If we have a listlike key, _check_indexing_error will raise\u001B[39;00m\n\u001B[0;32m   3800\u001B[0m     \u001B[38;5;66;03m#  InvalidIndexError. Otherwise we fall through and re-raise\u001B[39;00m\n\u001B[0;32m   3801\u001B[0m     \u001B[38;5;66;03m#  the TypeError.\u001B[39;00m\n\u001B[1;32m-> 3802\u001B[0m     \u001B[38;5;28;43mself\u001B[39;49m\u001B[38;5;241;43m.\u001B[39;49m\u001B[43m_check_indexing_error\u001B[49m\u001B[43m(\u001B[49m\u001B[43mkey\u001B[49m\u001B[43m)\u001B[49m\n\u001B[0;32m   3803\u001B[0m     \u001B[38;5;28;01mraise\u001B[39;00m\n",
      "File \u001B[1;32m~\\venv\\lib\\site-packages\\pandas\\core\\indexes\\base.py:5974\u001B[0m, in \u001B[0;36mIndex._check_indexing_error\u001B[1;34m(self, key)\u001B[0m\n\u001B[0;32m   5970\u001B[0m \u001B[38;5;28;01mdef\u001B[39;00m \u001B[38;5;21m_check_indexing_error\u001B[39m(\u001B[38;5;28mself\u001B[39m, key):\n\u001B[0;32m   5971\u001B[0m     \u001B[38;5;28;01mif\u001B[39;00m \u001B[38;5;129;01mnot\u001B[39;00m is_scalar(key):\n\u001B[0;32m   5972\u001B[0m         \u001B[38;5;66;03m# if key is not a scalar, directly raise an error (the code below\u001B[39;00m\n\u001B[0;32m   5973\u001B[0m         \u001B[38;5;66;03m# would convert to numpy arrays and raise later any way) - GH29926\u001B[39;00m\n\u001B[1;32m-> 5974\u001B[0m         \u001B[38;5;28;01mraise\u001B[39;00m InvalidIndexError(key)\n",
      "\u001B[1;31mInvalidIndexError\u001B[0m: (slice(None, None, None), 1)"
     ]
    }
   ],
   "source": [
    "# calculate the mean of the x and y coordinates\n",
    "mean_x = np.median(red_coordinates[:, 1])\n",
    "mean_y = np.median(red_coordinates[:, 0])\n",
    "mean_x, mean_y"
   ],
   "metadata": {
    "collapsed": false,
    "ExecuteTime": {
     "end_time": "2024-03-26T15:12:08.069686Z",
     "start_time": "2024-03-26T15:12:07.234517Z"
    }
   },
   "id": "b2316d89f7ba28e9",
   "execution_count": 11
  },
  {
   "cell_type": "code",
   "outputs": [],
   "source": [
    "# show the coordinates of the red ball with mean_X and meay in a graph with a grid border is 128\n",
    "from matplotlib import pyplot as plt\n",
    "\n",
    "plt.scatter(mean_x, mean_y, c='red', marker='x')\n",
    "plt.title('Red Ball Coordinate')\n",
    "plt.xlabel('X Coordinate')\n",
    "plt.ylabel('Y Coordinate')\n",
    "plt.xlim(0, px_size)\n",
    "plt.ylim(0, px_size)\n",
    "plt.grid(True)\n",
    "plt.show()\n"
   ],
   "metadata": {
    "collapsed": false,
    "ExecuteTime": {
     "end_time": "2024-03-26T15:12:08.070686Z",
     "start_time": "2024-03-26T15:12:08.070686Z"
    }
   },
   "id": "fd8800895bd01766",
   "execution_count": null
  },
  {
   "cell_type": "markdown",
   "source": [
    "#### Get the middle coordinate of the red ball in all frames"
   ],
   "metadata": {
    "collapsed": false
   },
   "id": "45be8d36831bbd60"
  },
  {
   "cell_type": "code",
   "outputs": [],
   "source": [
    "from utils.ball_tracker_calculations import calculate_middle_points_of_ball\n",
    "from matplotlib import pyplot as plt\n",
    "\n",
    "def from_video_to_coordinates_and_show(video_file, lower_red, upper_red):\n",
    "    cap = cv2.VideoCapture(video_file)\n",
    "    mean_x, mean_y = calculate_middle_points_of_ball(cap, lower_red, upper_red)\n",
    "    plt.scatter(mean_x, mean_y, marker='o', linestyle='-', color='red')\n",
    "    plt.xlabel('X Coordinate')\n",
    "    plt.ylabel('Y Coordinate')\n",
    "    plt.title('Trajectory of Detected Red Ball')\n",
    "    \n",
    "    # Invert the y-axis if needed\n",
    "    plt.xlim(0, px_size)\n",
    "    plt.ylim(0, px_size)\n",
    "    plt.grid(True)\n",
    "    plt.show()"
   ],
   "metadata": {
    "collapsed": false,
    "ExecuteTime": {
     "start_time": "2024-03-26T15:12:08.071688Z"
    }
   },
   "id": "2ad5ee0b565b5257",
   "execution_count": null
  },
  {
   "cell_type": "markdown",
   "source": [
    "### Show the trajectory of the ball in all videos"
   ],
   "metadata": {
    "collapsed": false
   },
   "id": "6499005ad68afb65"
  },
  {
   "cell_type": "code",
   "outputs": [],
   "source": [
    "\n",
    "lower_red = np.array([0, 0, 100], dtype=np.uint8)\n",
    "upper_red = np.array([75, 75, 255], dtype=np.uint8)\n",
    "\n",
    "for i in range(len(mp4_files)):\n",
    "    from_video_to_coordinates_and_show(mp4_files[i], lower_red, upper_red)\n"
   ],
   "metadata": {
    "collapsed": false,
    "ExecuteTime": {
     "start_time": "2024-03-26T15:12:08.072686Z"
    }
   },
   "id": "c38bed9be2a78c03",
   "execution_count": null
  },
  {
   "cell_type": "markdown",
   "source": [],
   "metadata": {
    "collapsed": false
   },
   "id": "69fee7ab85b0e4b5"
  },
  {
   "cell_type": "code",
   "outputs": [
    {
     "data": {
      "text/plain": "       u0    v0    u1    v1    u2    v2    u3    v3     u4    v4    u5    v5  \\\n0    16.0  52.5  79.0  53.5  16.0  66.0  60.5  66.0  103.5  66.0  16.0  80.0   \n1    15.0  53.0  78.5  53.5  14.0  67.0  59.0  67.0  102.0  67.0  15.0  81.0   \n2    13.0  54.0  77.0  55.0  13.0  68.0  58.0  68.0  100.0  68.0  13.0  82.0   \n3    12.0  54.0  76.0  55.0  11.5  69.0  56.0  68.0   99.0  68.0  12.0  83.0   \n4    10.0  55.0  75.0  56.0  10.5  69.0  56.0  69.5   98.0  69.0  10.0  83.0   \n..    ...   ...   ...   ...   ...   ...   ...   ...    ...   ...   ...   ...   \n808  26.0  47.0  88.0  48.0  26.0  61.0  68.5  60.5  113.0  61.0  26.0  74.0   \n809  25.0  47.0  87.0  47.0  25.0  60.0  68.0  60.0  113.0  60.0  25.5  73.5   \n810  24.0  46.0  86.5  46.5  24.0  59.0  67.0  60.0  111.0  59.0  24.0  72.0   \n811  21.5  44.5  85.0  45.0  21.5  58.0  65.0  58.5  110.0  58.0  22.0  71.0   \n812  23.0  45.0  86.0  46.0  22.5  58.5  66.0  59.0  110.0  58.0  23.5  71.5   \n\n        u6    v6     u7    v7    u8    v8  \n0    103.0  79.5  103.0  53.0  79.0  79.0  \n1    102.0  80.0  102.0  53.5  78.5  79.5  \n2    100.5  81.5  100.5  54.0  76.5  80.0  \n3     99.0  81.5   99.0  55.0  76.0  81.0  \n4     98.0  82.0   98.0  56.0  74.5  81.5  \n..     ...   ...    ...   ...   ...   ...  \n808  113.0  75.0  113.5  46.5  88.0  73.5  \n809  112.0  74.0  112.0  46.0  88.0  73.0  \n810  111.0  73.0  111.0  45.0  86.5  72.5  \n811  109.0  71.0  109.5  44.0  85.0  71.0  \n812  110.0  72.0  110.0  44.0  85.5  71.5  \n\n[813 rows x 18 columns]",
      "text/html": "<div>\n<style scoped>\n    .dataframe tbody tr th:only-of-type {\n        vertical-align: middle;\n    }\n\n    .dataframe tbody tr th {\n        vertical-align: top;\n    }\n\n    .dataframe thead th {\n        text-align: right;\n    }\n</style>\n<table border=\"1\" class=\"dataframe\">\n  <thead>\n    <tr style=\"text-align: right;\">\n      <th></th>\n      <th>u0</th>\n      <th>v0</th>\n      <th>u1</th>\n      <th>v1</th>\n      <th>u2</th>\n      <th>v2</th>\n      <th>u3</th>\n      <th>v3</th>\n      <th>u4</th>\n      <th>v4</th>\n      <th>u5</th>\n      <th>v5</th>\n      <th>u6</th>\n      <th>v6</th>\n      <th>u7</th>\n      <th>v7</th>\n      <th>u8</th>\n      <th>v8</th>\n    </tr>\n  </thead>\n  <tbody>\n    <tr>\n      <th>0</th>\n      <td>16.0</td>\n      <td>52.5</td>\n      <td>79.0</td>\n      <td>53.5</td>\n      <td>16.0</td>\n      <td>66.0</td>\n      <td>60.5</td>\n      <td>66.0</td>\n      <td>103.5</td>\n      <td>66.0</td>\n      <td>16.0</td>\n      <td>80.0</td>\n      <td>103.0</td>\n      <td>79.5</td>\n      <td>103.0</td>\n      <td>53.0</td>\n      <td>79.0</td>\n      <td>79.0</td>\n    </tr>\n    <tr>\n      <th>1</th>\n      <td>15.0</td>\n      <td>53.0</td>\n      <td>78.5</td>\n      <td>53.5</td>\n      <td>14.0</td>\n      <td>67.0</td>\n      <td>59.0</td>\n      <td>67.0</td>\n      <td>102.0</td>\n      <td>67.0</td>\n      <td>15.0</td>\n      <td>81.0</td>\n      <td>102.0</td>\n      <td>80.0</td>\n      <td>102.0</td>\n      <td>53.5</td>\n      <td>78.5</td>\n      <td>79.5</td>\n    </tr>\n    <tr>\n      <th>2</th>\n      <td>13.0</td>\n      <td>54.0</td>\n      <td>77.0</td>\n      <td>55.0</td>\n      <td>13.0</td>\n      <td>68.0</td>\n      <td>58.0</td>\n      <td>68.0</td>\n      <td>100.0</td>\n      <td>68.0</td>\n      <td>13.0</td>\n      <td>82.0</td>\n      <td>100.5</td>\n      <td>81.5</td>\n      <td>100.5</td>\n      <td>54.0</td>\n      <td>76.5</td>\n      <td>80.0</td>\n    </tr>\n    <tr>\n      <th>3</th>\n      <td>12.0</td>\n      <td>54.0</td>\n      <td>76.0</td>\n      <td>55.0</td>\n      <td>11.5</td>\n      <td>69.0</td>\n      <td>56.0</td>\n      <td>68.0</td>\n      <td>99.0</td>\n      <td>68.0</td>\n      <td>12.0</td>\n      <td>83.0</td>\n      <td>99.0</td>\n      <td>81.5</td>\n      <td>99.0</td>\n      <td>55.0</td>\n      <td>76.0</td>\n      <td>81.0</td>\n    </tr>\n    <tr>\n      <th>4</th>\n      <td>10.0</td>\n      <td>55.0</td>\n      <td>75.0</td>\n      <td>56.0</td>\n      <td>10.5</td>\n      <td>69.0</td>\n      <td>56.0</td>\n      <td>69.5</td>\n      <td>98.0</td>\n      <td>69.0</td>\n      <td>10.0</td>\n      <td>83.0</td>\n      <td>98.0</td>\n      <td>82.0</td>\n      <td>98.0</td>\n      <td>56.0</td>\n      <td>74.5</td>\n      <td>81.5</td>\n    </tr>\n    <tr>\n      <th>...</th>\n      <td>...</td>\n      <td>...</td>\n      <td>...</td>\n      <td>...</td>\n      <td>...</td>\n      <td>...</td>\n      <td>...</td>\n      <td>...</td>\n      <td>...</td>\n      <td>...</td>\n      <td>...</td>\n      <td>...</td>\n      <td>...</td>\n      <td>...</td>\n      <td>...</td>\n      <td>...</td>\n      <td>...</td>\n      <td>...</td>\n    </tr>\n    <tr>\n      <th>808</th>\n      <td>26.0</td>\n      <td>47.0</td>\n      <td>88.0</td>\n      <td>48.0</td>\n      <td>26.0</td>\n      <td>61.0</td>\n      <td>68.5</td>\n      <td>60.5</td>\n      <td>113.0</td>\n      <td>61.0</td>\n      <td>26.0</td>\n      <td>74.0</td>\n      <td>113.0</td>\n      <td>75.0</td>\n      <td>113.5</td>\n      <td>46.5</td>\n      <td>88.0</td>\n      <td>73.5</td>\n    </tr>\n    <tr>\n      <th>809</th>\n      <td>25.0</td>\n      <td>47.0</td>\n      <td>87.0</td>\n      <td>47.0</td>\n      <td>25.0</td>\n      <td>60.0</td>\n      <td>68.0</td>\n      <td>60.0</td>\n      <td>113.0</td>\n      <td>60.0</td>\n      <td>25.5</td>\n      <td>73.5</td>\n      <td>112.0</td>\n      <td>74.0</td>\n      <td>112.0</td>\n      <td>46.0</td>\n      <td>88.0</td>\n      <td>73.0</td>\n    </tr>\n    <tr>\n      <th>810</th>\n      <td>24.0</td>\n      <td>46.0</td>\n      <td>86.5</td>\n      <td>46.5</td>\n      <td>24.0</td>\n      <td>59.0</td>\n      <td>67.0</td>\n      <td>60.0</td>\n      <td>111.0</td>\n      <td>59.0</td>\n      <td>24.0</td>\n      <td>72.0</td>\n      <td>111.0</td>\n      <td>73.0</td>\n      <td>111.0</td>\n      <td>45.0</td>\n      <td>86.5</td>\n      <td>72.5</td>\n    </tr>\n    <tr>\n      <th>811</th>\n      <td>21.5</td>\n      <td>44.5</td>\n      <td>85.0</td>\n      <td>45.0</td>\n      <td>21.5</td>\n      <td>58.0</td>\n      <td>65.0</td>\n      <td>58.5</td>\n      <td>110.0</td>\n      <td>58.0</td>\n      <td>22.0</td>\n      <td>71.0</td>\n      <td>109.0</td>\n      <td>71.0</td>\n      <td>109.5</td>\n      <td>44.0</td>\n      <td>85.0</td>\n      <td>71.0</td>\n    </tr>\n    <tr>\n      <th>812</th>\n      <td>23.0</td>\n      <td>45.0</td>\n      <td>86.0</td>\n      <td>46.0</td>\n      <td>22.5</td>\n      <td>58.5</td>\n      <td>66.0</td>\n      <td>59.0</td>\n      <td>110.0</td>\n      <td>58.0</td>\n      <td>23.5</td>\n      <td>71.5</td>\n      <td>110.0</td>\n      <td>72.0</td>\n      <td>110.0</td>\n      <td>44.0</td>\n      <td>85.5</td>\n      <td>71.5</td>\n    </tr>\n  </tbody>\n</table>\n<p>813 rows × 18 columns</p>\n</div>"
     },
     "execution_count": 3,
     "metadata": {},
     "output_type": "execute_result"
    }
   ],
   "source": [
    "\n",
    "pos = pd.read_csv('../data-9-cams/red_ball_coordinates_128px_2024-03-19_15h25m.csv', delimiter=',', decimal='.')\n",
    "pos"
   ],
   "metadata": {
    "collapsed": false,
    "ExecuteTime": {
     "end_time": "2024-03-27T01:04:44.253462Z",
     "start_time": "2024-03-27T01:04:44.221331Z"
    }
   },
   "id": "ee9726af2a60f1e1",
   "execution_count": 3
  }
 ],
 "metadata": {
  "kernelspec": {
   "display_name": "Python 3",
   "language": "python",
   "name": "python3"
  },
  "language_info": {
   "codemirror_mode": {
    "name": "ipython",
    "version": 2
   },
   "file_extension": ".py",
   "mimetype": "text/x-python",
   "name": "python",
   "nbconvert_exporter": "python",
   "pygments_lexer": "ipython2",
   "version": "2.7.6"
  }
 },
 "nbformat": 4,
 "nbformat_minor": 5
}
