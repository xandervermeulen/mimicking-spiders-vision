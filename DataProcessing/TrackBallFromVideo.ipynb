{
 "cells": [
  {
   "cell_type": "markdown",
   "source": [
    "# Ball Tracking\n",
    "### Team Catan "
   ],
   "metadata": {
    "collapsed": false
   },
   "id": "f2d1241641de88fc"
  },
  {
   "cell_type": "markdown",
   "source": [
    "##### Read and show the video file"
   ],
   "metadata": {
    "collapsed": false
   },
   "id": "85ff2cc10c5a390f"
  },
  {
   "cell_type": "code",
   "execution_count": 1,
   "id": "cc6500b8d577e65c",
   "metadata": {
    "collapsed": false,
    "ExecuteTime": {
     "end_time": "2024-02-23T17:29:26.710717Z",
     "start_time": "2024-02-23T17:29:26.483719400Z"
    }
   },
   "outputs": [],
   "source": [
    "import cv2\n",
    "import glob"
   ]
  },
  {
   "cell_type": "code",
   "outputs": [],
   "source": [
    "# give the directory and the px size of the video files\n",
    "# of the recordings you want to show and track\n",
    "recording_dir = '../recordings128px011/'\n",
    "# give the pixel size of the video files\n",
    "px_size = 128"
   ],
   "metadata": {
    "collapsed": false,
    "pycharm": {
     "name": "#%%\n"
    },
    "ExecuteTime": {
     "end_time": "2024-02-23T17:29:26.743941900Z",
     "start_time": "2024-02-23T17:29:26.714019900Z"
    }
   },
   "id": "5cd3df415611ddc3",
   "execution_count": 2
  },
  {
   "cell_type": "code",
   "outputs": [],
   "source": [
    "\n",
    "mp4_files = glob.glob(recording_dir + '*.mp4')\n",
    "cap = None\n",
    "if not mp4_files:\n",
    "    print('No mp4 files found')\n",
    "else:\n",
    "    first_file = mp4_files[0]\n",
    "    cap = cv2.VideoCapture(first_file)\n",
    "\n",
    "if not cap.isOpened():\n",
    "    print(\"Error opening video stream or file\")\n",
    "\n",
    "else:\n",
    "    while cap.isOpened():\n",
    "        ret, frame = cap.read()\n",
    "        if not ret:\n",
    "            break\n",
    "        cv2.imshow('Frame', frame)\n",
    "        if cv2.waitKey(25) & 0xFF == ord('q'): # Press q to exit\n",
    "            break\n",
    "            \n",
    "cap.release()\n",
    "cv2.destroyAllWindows()"
   ],
   "metadata": {
    "collapsed": true,
    "pycharm": {
     "name": "#%%\n"
    },
    "ExecuteTime": {
     "end_time": "2024-02-23T17:29:58.887837700Z",
     "start_time": "2024-02-23T17:29:26.731884400Z"
    }
   },
   "id": "initial_id",
   "execution_count": 3
  },
  {
   "cell_type": "markdown",
   "source": [
    "#### Detect the red ball and show"
   ],
   "metadata": {
    "collapsed": false
   },
   "id": "7f0f3b86158cdaaa"
  },
  {
   "cell_type": "code",
   "outputs": [],
   "source": [
    "import numpy as np\n",
    "\n",
    "cap = cv2.VideoCapture(mp4_files[0])\n",
    "\n",
    "detected_ball = None\n",
    "last_frame = None\n",
    "lower_red = np.array([0, 0, 100], dtype=np.uint8)\n",
    "upper_red = np.array([75, 75, 255], dtype=np.uint8)\n",
    "\n",
    "\n",
    "while cap.isOpened():\n",
    "    # Read a frame from the video\n",
    "    ret, frame = cap.read()\n",
    "\n",
    "    # Check if the frame was read successfully\n",
    "    if not ret:\n",
    "        break\n",
    "    # Create a mask to isolate the red color\n",
    "    mask = cv2.inRange(frame, lower_red, upper_red)\n",
    "    # Apply the mask to the frame to detect the red color\n",
    "    detected_ball = cv2.bitwise_and(frame, frame, mask=mask)\n",
    "    #   cv2.imshow('Current Frame', frame)\n",
    "    cv2.imshow('Detected Ball', detected_ball)\n",
    "    last_frame = frame\n",
    "    if cv2.waitKey(25) & 0xFF == ord('q'): # Press q to exit\n",
    "        break\n",
    "\n",
    "cap.release()\n",
    "cv2.destroyAllWindows()"
   ],
   "metadata": {
    "collapsed": false,
    "ExecuteTime": {
     "end_time": "2024-02-23T17:30:31.124799600Z",
     "start_time": "2024-02-23T17:29:58.907255700Z"
    }
   },
   "id": "3400c8c842f945a0",
   "execution_count": 4
  },
  {
   "cell_type": "markdown",
   "source": [
    "#### Show the amount of frames in the video"
   ],
   "metadata": {
    "collapsed": false
   },
   "id": "555ec0ef32e8604c"
  },
  {
   "cell_type": "code",
   "outputs": [
    {
     "data": {
      "text/plain": "992"
     },
     "execution_count": 5,
     "metadata": {},
     "output_type": "execute_result"
    }
   ],
   "source": [
    "cap = cv2.VideoCapture(mp4_files[0])\n",
    "length = int(cap.get(cv2.CAP_PROP_FRAME_COUNT))\n",
    "length"
   ],
   "metadata": {
    "collapsed": false,
    "ExecuteTime": {
     "end_time": "2024-02-23T17:30:31.193777400Z",
     "start_time": "2024-02-23T17:30:31.118942800Z"
    }
   },
   "id": "b1aad503fba09440",
   "execution_count": 5
  },
  {
   "cell_type": "markdown",
   "source": [
    "#### Get and Show the coordinates of the red ball in one frame"
   ],
   "metadata": {
    "collapsed": false
   },
   "id": "cffc73065f7ade33"
  },
  {
   "cell_type": "code",
   "outputs": [],
   "source": [
    "# get all the coordinates of the pixels that are between the lower and upper red\n",
    "red_coordinates = np.column_stack(np.where((last_frame[:, :, 0] >= lower_red[0]) & (last_frame[:, :, 0] <= upper_red[0]) &\n",
    "    (last_frame[:, :, 1] >= lower_red[1]) & (last_frame[:, :, 1] <= upper_red[1]) &\n",
    "    (last_frame[:, :, 2] >= lower_red[2]) & (last_frame[:, :, 2] <= upper_red[2])\n",
    "))\n",
    "# invert the y-axis so that the origin is at the bottom left\n",
    "red_coordinates[:, 0] = last_frame.shape[0] - red_coordinates[:, 0]"
   ],
   "metadata": {
    "collapsed": false,
    "ExecuteTime": {
     "end_time": "2024-02-23T17:30:31.281275100Z",
     "start_time": "2024-02-23T17:30:31.175943500Z"
    }
   },
   "id": "c3585fcfd2008b38",
   "execution_count": 6
  },
  {
   "cell_type": "code",
   "outputs": [
    {
     "data": {
      "text/plain": "<Figure size 640x480 with 1 Axes>",
      "image/png": "[encoded data removed]"
     },
     "metadata": {},
     "output_type": "display_data"
    }
   ],
   "source": [
    "from matplotlib import pyplot as plt\n",
    "plt.scatter(red_coordinates[:, 1], red_coordinates[:, 0], c='red', marker='.')\n",
    "plt.title('Red Ball Coordinates')\n",
    "plt.xlabel('X Coordinates')\n",
    "plt.ylabel('Y Coordinates')\n",
    "plt.xlim(0, px_size)\n",
    "plt.ylim(0, px_size)\n",
    "plt.show()\n"
   ],
   "metadata": {
    "collapsed": false,
    "ExecuteTime": {
     "end_time": "2024-02-23T17:30:32.469837700Z",
     "start_time": "2024-02-23T17:30:31.202367700Z"
    }
   },
   "id": "5fc87e577aa083c2",
   "execution_count": 7
  },
  {
   "cell_type": "code",
   "outputs": [
    {
     "data": {
      "text/plain": "(21.682539682539684, 44.20634920634921)"
     },
     "execution_count": 8,
     "metadata": {},
     "output_type": "execute_result"
    }
   ],
   "source": [
    "# calculate the mean of the x and y coordinates\n",
    "mean_x = np.mean(red_coordinates[:, 1])\n",
    "mean_y = np.mean(red_coordinates[:, 0])\n",
    "mean_x, mean_y"
   ],
   "metadata": {
    "collapsed": false,
    "ExecuteTime": {
     "end_time": "2024-02-23T17:30:32.472496200Z",
     "start_time": "2024-02-23T17:30:32.427833600Z"
    }
   },
   "id": "b2316d89f7ba28e9",
   "execution_count": 8
  },
  {
   "cell_type": "markdown",
   "source": [
    "#### Get the middle coordinate of the red ball in all frames"
   ],
   "metadata": {
    "collapsed": false
   },
   "id": "45be8d36831bbd60"
  },
  {
   "cell_type": "code",
   "outputs": [],
   "source": [
    "from ball_tracker_calculations import calculate_middle_points_of_ball\n",
    "cap = cv2.VideoCapture(mp4_files[0])\n",
    "\n",
    "lower_red = np.array([0, 0, 100], dtype=np.uint8)\n",
    "upper_red = np.array([75, 75, 255], dtype=np.uint8)\n",
    "mean_x, mean_y = calculate_middle_points_of_ball(cap, lower_red, upper_red)"
   ],
   "metadata": {
    "collapsed": false,
    "ExecuteTime": {
     "end_time": "2024-02-23T17:30:33.262435600Z",
     "start_time": "2024-02-23T17:30:32.445034200Z"
    }
   },
   "id": "c38bed9be2a78c03",
   "execution_count": 9
  },
  {
   "cell_type": "markdown",
   "source": [
    "### Show the trajectory of the ball"
   ],
   "metadata": {
    "collapsed": false
   },
   "id": "69fee7ab85b0e4b5"
  },
  {
   "cell_type": "code",
   "outputs": [
    {
     "data": {
      "text/plain": "<Figure size 640x480 with 1 Axes>",
      "image/png": "[encoded data removed]"
     },
     "metadata": {},
     "output_type": "display_data"
    }
   ],
   "source": [
    "from matplotlib import pyplot as plt\n",
    "# Plot the trajectory\n",
    "plt.scatter(mean_x, mean_y, marker='o', linestyle='-', color='red')\n",
    "plt.xlabel('X Coordinate')\n",
    "plt.ylabel('Y Coordinate')\n",
    "plt.title('Trajectory of Detected Red Ball')\n",
    "\n",
    "# Invert the y-axis if needed\n",
    "plt.xlim(0, px_size)\n",
    "plt.ylim(0, px_size)\n",
    "plt.grid(True)\n",
    "plt.show()"
   ],
   "metadata": {
    "collapsed": false,
    "ExecuteTime": {
     "end_time": "2024-02-23T17:30:33.676194600Z",
     "start_time": "2024-02-23T17:30:33.262435600Z"
    }
   },
   "id": "5e7a74617884e3dd",
   "execution_count": 10
  }
 ],
 "metadata": {
  "kernelspec": {
   "display_name": "Python 3",
   "language": "python",
   "name": "python3"
  },
  "language_info": {
   "codemirror_mode": {
    "name": "ipython",
    "version": 2
   },
   "file_extension": ".py",
   "mimetype": "text/x-python",
   "name": "python",
   "nbconvert_exporter": "python",
   "pygments_lexer": "ipython2",
   "version": "2.7.6"
  }
 },
 "nbformat": 4,
 "nbformat_minor": 5
}
