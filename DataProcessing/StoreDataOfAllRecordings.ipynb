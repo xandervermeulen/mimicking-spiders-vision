{
 "cells": [
  {
   "cell_type": "markdown",
   "source": [
    "### Multi-camera recording to CSV 128px"
   ],
   "metadata": {
    "collapsed": false,
    "pycharm": {
     "name": "#%% md\n"
    }
   },
   "id": "e2ae0735431923ba"
  },
  {
   "cell_type": "code",
   "outputs": [],
   "source": [
    "import cv2\n",
    "import numpy as np\n",
    "import pandas as pd\n",
    "import glob"
   ],
   "metadata": {
    "collapsed": false,
    "pycharm": {
     "name": "#%%\n"
    },
    "ExecuteTime": {
     "end_time": "2024-03-07T21:39:22.779645Z",
     "start_time": "2024-03-07T21:39:22.769136Z"
    }
   },
   "id": "74831d6bd3aa91f3",
   "execution_count": 4
  },
  {
   "cell_type": "markdown",
   "source": [
    "#### Set The Variables Below"
   ],
   "metadata": {
    "collapsed": false
   },
   "id": "536062aef046db95"
  },
  {
   "cell_type": "code",
   "execution_count": 5,
   "outputs": [],
   "source": [
    "recording_dir = '../data/data-butterfly/recordings_2024-03-07_22h35m/' # _RECORDING_DIR_\n",
    "amount_of_pixels = '128px' # _AMOUNT OF PIXELS_\n",
    "output_file_location = '../data/data-butterfly/' # _OUTPUT_FILE_LOCATION_\n",
    "output_file_name = 'red_ball_coordinates_128px_2024-03-07_22h35m.csv' # _OUTPUT_FILE_NAME_"
   ],
   "metadata": {
    "collapsed": false,
    "pycharm": {
     "name": "#%%\n"
    },
    "ExecuteTime": {
     "end_time": "2024-03-07T21:39:22.795665Z",
     "start_time": "2024-03-07T21:39:22.780646Z"
    }
   },
   "id": "413379dfe3ab89b7"
  },
  {
   "cell_type": "markdown",
   "source": [
    "#### Create the CSV file from the multi-camera recording"
   ],
   "metadata": {
    "collapsed": false
   },
   "id": "ad2650406edd1d17"
  },
  {
   "cell_type": "code",
   "execution_count": 6,
   "outputs": [],
   "source": [
    "mp4_files = glob.glob(recording_dir + '*.mp4')\n",
    "\n",
    "if not mp4_files:\n",
    "    raise ValueError('No mp4 files found in the recording directory')\n",
    "\n",
    "df = pd.DataFrame()\n",
    "\n",
    "lower_red = np.array([0, 0, 100], dtype=np.uint8)\n",
    "upper_red = np.array([75, 75, 255], dtype=np.uint8)\n",
    "\n",
    "i=0\n",
    "\n",
    "for video in mp4_files:\n",
    "        \n",
    "    cap = cv2.VideoCapture(video)\n",
    "    median_x = []\n",
    "    median_y = []\n",
    "    while cap.isOpened():\n",
    "        ret, frame = cap.read()\n",
    "        if not ret:\n",
    "            break\n",
    "        # create a mask for the red pixels in the frame\n",
    "        mask = cv2.inRange(frame, lower_red, upper_red)\n",
    "        # apply the mask to the frame so that only the red pixels are shown\n",
    "        detected_ball = cv2.bitwise_and(frame, frame, mask=mask)    \n",
    "        # get all the coordinates of red pixels in the frame\n",
    "        red_coordinates = np.column_stack(np.where((frame[:, :, 0] >= lower_red[0]) & (frame[:, :, 0] <= upper_red[0]) &\n",
    "        (frame[:, :, 1] >= lower_red[1]) & (frame[:, :, 1] <= upper_red[1]) &\n",
    "        (frame[:, :, 2] >= lower_red[2]) & (frame[:, :, 2] <= upper_red[2])\n",
    "        ))    \n",
    "        # flip the y coordinates to match the origin at the bottom left\n",
    "        red_coordinates[:, 0] = frame.shape[0] - red_coordinates[:, 0]\n",
    "        if red_coordinates.size == 0:\n",
    "            # add NaN if no red ball is detected\n",
    "            median_x.append(np.nan)\n",
    "            median_y.append(np.nan)\n",
    "        else:\n",
    "            median_x.append(np.median(red_coordinates[:, 1]))\n",
    "            median_y.append(np.median(red_coordinates[:, 0]))\n",
    "    \n",
    "    # add the median x and y coordinates to the dataframe\n",
    "    df[f'u{i}'] = median_x\n",
    "    df[f'v{i}'] = median_y\n",
    "    cap.release()\n",
    "    \n",
    "    i+=1\n",
    "\n",
    "# Save the dataframe to a CSV file\n",
    "df.to_csv(output_file_location + output_file_name , index=False)"
   ],
   "metadata": {
    "collapsed": false,
    "pycharm": {
     "name": "#%%\n"
    },
    "ExecuteTime": {
     "end_time": "2024-03-07T21:39:23.415061Z",
     "start_time": "2024-03-07T21:39:22.797647Z"
    }
   },
   "id": "e719d52c3a71c47e"
  }
 ],
 "metadata": {
  "kernelspec": {
   "display_name": "Python 3",
   "language": "python",
   "name": "python3"
  },
  "language_info": {
   "codemirror_mode": {
    "name": "ipython",
    "version": 2
   },
   "file_extension": ".py",
   "mimetype": "text/x-python",
   "name": "python",
   "nbconvert_exporter": "python",
   "pygments_lexer": "ipython2",
   "version": "2.7.6"
  }
 },
 "nbformat": 4,
 "nbformat_minor": 5
}
