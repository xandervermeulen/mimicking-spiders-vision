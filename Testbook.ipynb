{
 "cells": [
  {
   "cell_type": "code",
   "execution_count": null,
   "id": "initial_id",
   "metadata": {
    "collapsed": true
   },
   "outputs": [],
   "source": []
  },
  {
   "cell_type": "code",
   "outputs": [
    {
     "name": "stdout",
     "output_type": "stream",
     "text": [
      "4.0\n"
     ]
    }
   ],
   "source": [
    "import numpy as np\n",
    "\n",
    "def euclidean_distance(vector1, vector2):\n",
    "    return np.linalg.norm(vector1 - vector2)\n",
    "\n",
    "output_table = pd.DataFrame(index=range(len(input_table1)), columns=range(len(input_table1[0])))\n",
    "\n",
    "for i in range(len(input_table1)):\n",
    "    for j in range(len(input_table1[0])):\n",
    "        output_table.iloc[i, j] = euclidean_distance(input_table1[i, :], input_table2[i, :])\n",
    "\n",
    "print(\"Outputtabel met Euclidische afstanden:\")\n",
    "print(output_table)"
   ],
   "metadata": {
    "collapsed": false,
    "ExecuteTime": {
     "end_time": "2024-02-21T09:47:10.464278900Z",
     "start_time": "2024-02-21T09:47:10.017470600Z"
    }
   },
   "id": "cc528772f2be2ce4",
   "execution_count": 2
  },
  {
   "cell_type": "code",
   "outputs": [],
   "source": [],
   "metadata": {
    "collapsed": false
   },
   "id": "6885bcceb8a71eff"
  }
 ],
 "metadata": {
  "kernelspec": {
   "display_name": "Python 3",
   "language": "python",
   "name": "python3"
  },
  "language_info": {
   "codemirror_mode": {
    "name": "ipython",
    "version": 2
   },
   "file_extension": ".py",
   "mimetype": "text/x-python",
   "name": "python",
   "nbconvert_exporter": "python",
   "pygments_lexer": "ipython2",
   "version": "2.7.6"
  }
 },
 "nbformat": 4,
 "nbformat_minor": 5
}
