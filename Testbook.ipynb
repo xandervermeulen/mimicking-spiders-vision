{
 "cells": [
  {
   "cell_type": "code",
   "execution_count": null,
   "id": "initial_id",
   "metadata": {
    "collapsed": true
   },
   "outputs": [],
   "source": [
    "if not os.path.exists('data'):\n",
    "    os.makedirs('data')\n",
    "\n",
    "for i in range(10, 99):\n",
    "    if (os.path.exists(\"data/red_ball_coordinates_128px_0\" + str(i) + \".csv\")):\n",
    "        ip = pd.read_csv(\"data/red_ball_coordinates_128px_0\" + str(i) + \".csv\", delimiter=\",\", decimal=\".\", header=0)\n",
    "        ip.to_csv('data/red_ball_coordinates_128px_full.csv', mode='a', index=False, header=False)\n",
    "        op = pd.read_csv(\"data/positions_xyz_128px_0\" + str(i) + \".csv\", delimiter=\",\", decimal=\".\", header=0).iloc[4:]\n",
    "        op.to_csv('data/positions_xyz_128px_full.csv', mode='a', index=False, header=False)\n",
    "import os\n",
    "import pandas as pd"
   ]
  },
  {
   "cell_type": "code",
   "outputs": [],
   "source": [],
   "metadata": {
    "collapsed": false,
    "ExecuteTime": {
     "end_time": "2024-02-23T13:17:35.586046200Z",
     "start_time": "2024-02-23T13:17:35.582566800Z"
    }
   },
   "id": "cc528772f2be2ce4",
   "execution_count": 2
  },
  {
   "cell_type": "code",
   "outputs": [],
   "source": [],
   "metadata": {
    "collapsed": false
   },
   "id": "6885bcceb8a71eff"
  }
 ],
 "metadata": {
  "kernelspec": {
   "display_name": "Python 3",
   "language": "python",
   "name": "python3"
  },
  "language_info": {
   "codemirror_mode": {
    "name": "ipython",
    "version": 2
   },
   "file_extension": ".py",
   "mimetype": "text/x-python",
   "name": "python",
   "nbconvert_exporter": "python",
   "pygments_lexer": "ipython2",
   "version": "2.7.6"
  }
 },
 "nbformat": 4,
 "nbformat_minor": 5
}
