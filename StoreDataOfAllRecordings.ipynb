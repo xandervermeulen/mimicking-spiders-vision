{
 "cells": [
  {
   "cell_type": "markdown",
   "source": [
    "### Multi-camera recording to CSV 128px"
   ],
   "metadata": {
    "collapsed": false,
    "pycharm": {
     "name": "#%% md\n"
    }
   },
   "id": "e2ae0735431923ba"
  },
  {
   "cell_type": "code",
   "outputs": [
    {
     "name": "stderr",
     "output_type": "stream",
     "text": [
      "C:\\Users\\senne\\AppData\\Local\\Temp\\ipykernel_19152\\4074716408.py:3: DeprecationWarning: \n",
      "Pyarrow will become a required dependency of pandas in the next major release of pandas (pandas 3.0),\n",
      "(to allow more performant data types, such as the Arrow string type, and better interoperability with other libraries)\n",
      "but was not found to be installed on your system.\n",
      "If this would cause problems for you,\n",
      "please provide us feedback at https://github.com/pandas-dev/pandas/issues/54466\n",
      "        \n",
      "  import pandas as pd\n"
     ]
    }
   ],
   "source": [
    "import cv2\n",
    "import numpy as np\n",
    "import pandas as pd\n",
    "import os\n",
    "import glob"
   ],
   "metadata": {
    "collapsed": false,
    "pycharm": {
     "name": "#%%\n"
    },
    "ExecuteTime": {
     "end_time": "2024-02-20T09:44:26.056239100Z",
     "start_time": "2024-02-20T09:44:25.752173400Z"
    }
   },
   "id": "74831d6bd3aa91f3",
   "execution_count": 2
  },
  {
   "cell_type": "code",
   "execution_count": 16,
   "outputs": [],
   "source": [
    "recording_dir = '024/'\n",
    "amount_of_pixels = '40px' # _AMOUNT OF PIXELS_\n",
    "sequence_number = '024' # _SEQUENCE NUMBER_, a number that is unique to the recording sequence"
   ],
   "metadata": {
    "collapsed": false,
    "pycharm": {
     "name": "#%%\n"
    },
    "ExecuteTime": {
     "end_time": "2024-02-20T09:50:54.354268800Z",
     "start_time": "2024-02-20T09:50:54.346538Z"
    }
   },
   "id": "af56bef2f0e06037"
  },
  {
   "cell_type": "code",
   "execution_count": 17,
   "outputs": [
    {
     "name": "stdout",
     "output_type": "stream",
     "text": [
      "red_ball_coordinates_40px_024.csv\n",
      "            u0         v0         u1         v1        u2         v2  \\\n",
      "0          8.5       17.5       35.0      18.25       7.0       32.0   \n",
      "1          8.5  18.666667       34.5       19.0       6.5       34.0   \n",
      "2          8.5       19.5  34.666667  19.333333       7.4       33.6   \n",
      "3          8.5       20.0       34.4       20.8       7.4       34.0   \n",
      "4          8.5      20.75       34.5       21.5       NaN        NaN   \n",
      "...        ...        ...        ...        ...       ...        ...   \n",
      "1018       4.5   4.222222  36.642857   2.357143       3.6       19.4   \n",
      "1019       4.5   4.222222  36.692308   2.076923       3.6       19.4   \n",
      "1020      4.68        4.6  36.583333   3.666667  3.857143  20.428571   \n",
      "1021   4.52381   5.285714  37.090909   4.272727  3.857143  20.428571   \n",
      "1022  4.846154   6.192308  36.526316   4.947368       3.0     20.875   \n",
      "\n",
      "             u3         v3         u4         v4        u5         v5   u6  \\\n",
      "0          21.5       31.5  37.166667  33.333333       NaN        NaN  NaN   \n",
      "1          21.2       31.8       36.8       33.6       NaN        NaN  NaN   \n",
      "2         22.25       33.5       36.5      34.75       NaN        NaN  NaN   \n",
      "3         22.25       33.5  36.666667  35.333333       NaN        NaN  NaN   \n",
      "4     22.666667  33.666667       36.5       35.5       NaN        NaN  NaN   \n",
      "...         ...        ...        ...        ...       ...        ...  ...   \n",
      "1018       20.0      18.75      36.75     19.625      1.25       35.0  NaN   \n",
      "1019  18.428571  19.857143  37.277778  20.333333  1.142857  35.214286  NaN   \n",
      "1020       17.6       20.4       37.0  20.526316  0.666667  35.833333  NaN   \n",
      "1021       17.5       21.0       36.9       20.7  0.444444  36.777778  NaN   \n",
      "1022  19.666667  19.666667  37.227273  21.454545  0.444444  36.777778  NaN   \n",
      "\n",
      "       v6  \n",
      "0     NaN  \n",
      "1     NaN  \n",
      "2     NaN  \n",
      "3     NaN  \n",
      "4     NaN  \n",
      "...   ...  \n",
      "1018  NaN  \n",
      "1019  NaN  \n",
      "1020  NaN  \n",
      "1021  NaN  \n",
      "1022  NaN  \n",
      "\n",
      "[1023 rows x 14 columns]\n"
     ]
    }
   ],
   "source": [
    "mp4_files = glob.glob(recording_dir + '*.mp4')\n",
    "\n",
    "if not mp4_files:\n",
    "    raise ValueError('No mp4 files found in the recording directory')\n",
    "\n",
    "df = pd.DataFrame()\n",
    "\n",
    "lower_red = np.array([0, 0, 100], dtype=np.uint8)\n",
    "upper_red = np.array([75, 75, 255], dtype=np.uint8)\n",
    "\n",
    "i=0\n",
    "\n",
    "for video in mp4_files:\n",
    "        \n",
    "    cap = cv2.VideoCapture(video)\n",
    "    mean_x = []\n",
    "    mean_y = []\n",
    "    while cap.isOpened():\n",
    "        ret, frame = cap.read()\n",
    "        if not ret:\n",
    "            break\n",
    "        # create a mask for the red pixels in the frame\n",
    "        mask = cv2.inRange(frame, lower_red, upper_red)\n",
    "        # apply the mask to the frame so that only the red pixels are shown\n",
    "        detected_ball = cv2.bitwise_and(frame, frame, mask=mask)    \n",
    "        # get all the coordinates of red pixels in the frame\n",
    "        red_coordinates = np.column_stack(np.where((frame[:, :, 0] >= lower_red[0]) & (frame[:, :, 0] <= upper_red[0]) &\n",
    "        (frame[:, :, 1] >= lower_red[1]) & (frame[:, :, 1] <= upper_red[1]) &\n",
    "        (frame[:, :, 2] >= lower_red[2]) & (frame[:, :, 2] <= upper_red[2])\n",
    "        ))    \n",
    "        # flip the y coordinates to match the origin at the bottom left\n",
    "        red_coordinates[:, 0] = frame.shape[0] - red_coordinates[:, 0]\n",
    "        if red_coordinates.size == 0:\n",
    "            # add NaN if no red ball is detected\n",
    "            mean_x.append('NaN')\n",
    "            mean_y.append('NaN')\n",
    "        else:\n",
    "            mean_x.append(np.mean(red_coordinates[:, 1]))\n",
    "            mean_y.append(np.mean(red_coordinates[:, 0]))\n",
    "    \n",
    "    # add the median x and y coordinates to the dataframe\n",
    "    df[f'u{i}'] = mean_x\n",
    "    df[f'v{i}'] = mean_y\n",
    "    cap.release()\n",
    "    \n",
    "    i+=1\n",
    "# Make sure the 'data' directory exists\n",
    "if not os.path.exists('data'):\n",
    "    os.makedirs('data')\n",
    "\n",
    "# Save the dataframe to a CSV file\n",
    "output_file_name_of_red_ball_coordinates = (\n",
    "        'red_ball_coordinates_' + amount_of_pixels + '_' +  sequence_number +'.csv')\n",
    "df.to_csv(f'data/' + output_file_name_of_red_ball_coordinates , index=False)"
   ],
   "metadata": {
    "collapsed": false,
    "pycharm": {
     "name": "#%%\n"
    },
    "ExecuteTime": {
     "end_time": "2024-02-20T09:50:55.389494100Z",
     "start_time": "2024-02-20T09:50:54.816055700Z"
    }
   },
   "id": "b29f8d77b9b3db16"
  },
  {
   "cell_type": "code",
   "outputs": [],
   "source": [],
   "metadata": {
    "collapsed": false
   },
   "id": "2040ee305a879747"
  }
 ],
 "metadata": {
  "kernelspec": {
   "display_name": "Python 3",
   "language": "python",
   "name": "python3"
  },
  "language_info": {
   "codemirror_mode": {
    "name": "ipython",
    "version": 2
   },
   "file_extension": ".py",
   "mimetype": "text/x-python",
   "name": "python",
   "nbconvert_exporter": "python",
   "pygments_lexer": "ipython2",
   "version": "2.7.6"
  }
 },
 "nbformat": 4,
 "nbformat_minor": 5
}
