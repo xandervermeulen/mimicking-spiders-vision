{
 "cells": [
  {
   "cell_type": "code",
   "outputs": [],
   "source": [
    "import cv2\n",
    "import numpy as np\n",
    "import pandas as pd\n",
    "import os"
   ],
   "metadata": {
    "collapsed": false,
    "ExecuteTime": {
     "end_time": "2024-02-08T12:29:09.345753800Z",
     "start_time": "2024-02-08T12:29:09.334802100Z"
    }
   },
   "id": "74831d6bd3aa91f3",
   "execution_count": 33
  },
  {
   "cell_type": "code",
   "execution_count": 45,
   "id": "initial_id",
   "metadata": {
    "collapsed": true,
    "ExecuteTime": {
     "end_time": "2024-02-08T12:41:03.317185Z",
     "start_time": "2024-02-08T12:41:02.648095600Z"
    }
   },
   "outputs": [],
   "source": [
    "recording_dir = 'recordings/'\n",
    "camera_names = [f'Camera{i}_007.mp4' for i in range(7)]\n",
    "\n",
    "df = pd.DataFrame()\n",
    "\n",
    "lower_red = np.array([0, 0, 100], dtype=np.uint8)\n",
    "upper_red = np.array([75, 75, 255], dtype=np.uint8)\n",
    "\n",
    "i=0\n",
    "\n",
    "for name in camera_names:\n",
    "    video_name = os.path.join(recording_dir, name)\n",
    "    cap = cv2.VideoCapture(video_name)\n",
    "    median_x = []\n",
    "    median_y = []\n",
    "    while cap.isOpened():\n",
    "        ret, frame = cap.read()\n",
    "        if not ret:\n",
    "            break\n",
    "        # create a mask for the red pixels in the frame\n",
    "        mask = cv2.inRange(frame, lower_red, upper_red)\n",
    "        # apply the mask to the frame so that only the red pixels are shown\n",
    "        detected_ball = cv2.bitwise_and(frame, frame, mask=mask)    \n",
    "        # get all the coordinates of red pixels in the frame\n",
    "        red_coordinates = np.column_stack(np.where((frame[:, :, 0] >= lower_red[0]) & (frame[:, :, 0] <= upper_red[0]) &\n",
    "        (frame[:, :, 1] >= lower_red[1]) & (frame[:, :, 1] <= upper_red[1]) &\n",
    "        (frame[:, :, 2] >= lower_red[2]) & (frame[:, :, 2] <= upper_red[2])\n",
    "        ))    \n",
    "        # flip the y coordinates to match the origin at the bottom left\n",
    "        red_coordinates[:, 0] = frame.shape[0] - red_coordinates[:, 0]\n",
    "        if red_coordinates.size == 0:\n",
    "            # add NaN if no red ball is detected\n",
    "            median_x.append('=NA()')\n",
    "            median_y.append('=NA()')\n",
    "        else:\n",
    "            median_x.append(np.median(red_coordinates[:, 1]))\n",
    "            median_y.append(np.median(red_coordinates[:, 0]))\n",
    "    \n",
    "    # add the median x and y coordinates to the dataframe\n",
    "    df[f'u{i}'] = median_x\n",
    "    df[f'v{i}'] = median_y\n",
    "    cap.release()\n",
    "    \n",
    "    \n",
    "    \n",
    "    i+=1\n",
    "# Make sure the 'data' directory exists\n",
    "if not os.path.exists('data'):\n",
    "    os.makedirs('data')\n",
    "\n",
    "# Save the dataframe to a CSV file\n",
    "df.to_csv('data/red_ball_coordinates.csv', index=False)"
   ]
  }
 ],
 "metadata": {
  "kernelspec": {
   "display_name": "Python 3",
   "language": "python",
   "name": "python3"
  },
  "language_info": {
   "codemirror_mode": {
    "name": "ipython",
    "version": 2
   },
   "file_extension": ".py",
   "mimetype": "text/x-python",
   "name": "python",
   "nbconvert_exporter": "python",
   "pygments_lexer": "ipython2",
   "version": "2.7.6"
  }
 },
 "nbformat": 4,
 "nbformat_minor": 5
}
