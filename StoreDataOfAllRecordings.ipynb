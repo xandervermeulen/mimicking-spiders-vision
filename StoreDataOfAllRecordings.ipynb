{
 "cells": [
  {
   "cell_type": "markdown",
   "source": [
    "### Multi-camera recording to CSV 128px"
   ],
   "metadata": {
    "collapsed": false,
    "pycharm": {
     "name": "#%% md\n"
    }
   },
   "id": "e2ae0735431923ba"
  },
  {
   "cell_type": "code",
   "outputs": [],
   "source": [
    "import cv2\n",
    "import numpy as np\n",
    "import pandas as pd\n",
    "import os\n",
    "import glob"
   ],
   "metadata": {
    "collapsed": false,
    "pycharm": {
     "name": "#%%\n"
    },
    "ExecuteTime": {
     "end_time": "2024-02-20T09:28:41.969452900Z",
     "start_time": "2024-02-20T09:28:41.710267Z"
    }
   },
   "id": "74831d6bd3aa91f3",
   "execution_count": 1
  },
  {
   "cell_type": "code",
   "execution_count": 2,
   "outputs": [],
   "source": [
    "recording_dir = 'recordings40px011/'\n",
    "amount_of_pixels = '40px' # _AMOUNT OF PIXELS_\n",
    "sequence_number = '011' # _SEQUENCE NUMBER_, a number that is unique to the recording sequence"
   ],
   "metadata": {
    "collapsed": false,
    "pycharm": {
     "name": "#%%\n"
    },
    "ExecuteTime": {
     "end_time": "2024-02-20T09:28:41.985023400Z",
     "start_time": "2024-02-20T09:28:41.970956600Z"
    }
   },
   "id": "413379dfe3ab89b7"
  },
  {
   "cell_type": "code",
   "execution_count": 3,
   "outputs": [],
   "source": [
    "mp4_files = glob.glob(recording_dir + '*.mp4')\n",
    "\n",
    "if not mp4_files:\n",
    "    raise ValueError('No mp4 files found in the recording directory')\n",
    "\n",
    "df = pd.DataFrame()\n",
    "\n",
    "lower_red = np.array([0, 0, 100], dtype=np.uint8)\n",
    "upper_red = np.array([75, 75, 255], dtype=np.uint8)\n",
    "\n",
    "i=0\n",
    "\n",
    "for video in mp4_files:\n",
    "        \n",
    "    cap = cv2.VideoCapture(video)\n",
    "    mean_x = []\n",
    "    mean_y = []\n",
    "    while cap.isOpened():\n",
    "        ret, frame = cap.read()\n",
    "        if not ret:\n",
    "            break\n",
    "        # create a mask for the red pixels in the frame\n",
    "        mask = cv2.inRange(frame, lower_red, upper_red)\n",
    "        # apply the mask to the frame so that only the red pixels are shown\n",
    "        detected_ball = cv2.bitwise_and(frame, frame, mask=mask)    \n",
    "        # get all the coordinates of red pixels in the frame\n",
    "        red_coordinates = np.column_stack(np.where((frame[:, :, 0] >= lower_red[0]) & (frame[:, :, 0] <= upper_red[0]) &\n",
    "        (frame[:, :, 1] >= lower_red[1]) & (frame[:, :, 1] <= upper_red[1]) &\n",
    "        (frame[:, :, 2] >= lower_red[2]) & (frame[:, :, 2] <= upper_red[2])\n",
    "        ))    \n",
    "        # flip the y coordinates to match the origin at the bottom left\n",
    "        red_coordinates[:, 0] = frame.shape[0] - red_coordinates[:, 0]\n",
    "        if red_coordinates.size == 0:\n",
    "            # add NaN if no red ball is detected\n",
    "            mean_x.append('NaN')\n",
    "            mean_y.append('NaN')\n",
    "        else:\n",
    "            mean_x.append(np.mean(red_coordinates[:, 1]))\n",
    "            mean_y.append(np.mean(red_coordinates[:, 0]))\n",
    "    \n",
    "    # add the median x and y coordinates to the dataframe\n",
    "    df[f'u{i}'] = mean_x\n",
    "    df[f'v{i}'] = mean_y\n",
    "    cap.release()\n",
    "    \n",
    "    i+=1\n",
    "# Make sure the 'data' directory exists\n",
    "if not os.path.exists('data'):\n",
    "    os.makedirs('data')\n",
    "\n",
    "# Save the dataframe to a CSV file\n",
    "output_file_name_of_red_ball_coordinates = (\n",
    "        'red_ball_coordinates_' + amount_of_pixels + '_' +  sequence_number +'.csv')\n",
    "df.to_csv(f'data/' + output_file_name_of_red_ball_coordinates , index=False)"
   ],
   "metadata": {
    "collapsed": false,
    "pycharm": {
     "name": "#%%\n"
    },
    "ExecuteTime": {
     "end_time": "2024-02-20T09:28:42.343166900Z",
     "start_time": "2024-02-20T09:28:41.986023900Z"
    }
   },
   "id": "e719d52c3a71c47e"
  }
 ],
 "metadata": {
  "kernelspec": {
   "display_name": "Python 3",
   "language": "python",
   "name": "python3"
  },
  "language_info": {
   "codemirror_mode": {
    "name": "ipython",
    "version": 2
   },
   "file_extension": ".py",
   "mimetype": "text/x-python",
   "name": "python",
   "nbconvert_exporter": "python",
   "pygments_lexer": "ipython2",
   "version": "2.7.6"
  }
 },
 "nbformat": 4,
 "nbformat_minor": 5
}
